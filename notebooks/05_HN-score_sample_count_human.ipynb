{
 "cells": [
  {
   "cell_type": "code",
   "execution_count": 1,
   "metadata": {},
   "outputs": [],
   "source": [
    "import re\n",
    "import datetime\n",
    "import polars as pl"
   ]
  },
  {
   "cell_type": "code",
   "execution_count": 2,
   "metadata": {},
   "outputs": [
    {
     "name": "stdout",
     "output_type": "stream",
     "text": [
      "2024-11-03 03:58:23.936855\n"
     ]
    }
   ],
   "source": [
    "now = datetime.datetime.now()\n",
    "print(now)"
   ]
  },
  {
   "cell_type": "code",
   "execution_count": 3,
   "metadata": {},
   "outputs": [],
   "source": [
    "# set the threshold\n",
    "threshold = 5"
   ]
  },
  {
   "cell_type": "code",
   "execution_count": 4,
   "metadata": {},
   "outputs": [
    {
     "data": {
      "text/html": [
       "<div><style>\n",
       ".dataframe > thead > tr,\n",
       ".dataframe > tbody > tr {\n",
       "  text-align: right;\n",
       "  white-space: pre-wrap;\n",
       "}\n",
       "</style>\n",
       "<small>shape: (322, 19)</small><table border=\"1\" class=\"dataframe\"><thead><tr><th>SRA study count</th><th>SRA Study</th><th>pair</th><th>Source of Stress (Condition)</th><th>Control</th><th>strategy</th><th>LibrarySelect</th><th>temperature</th><th>time</th><th>treatment</th><th>control temperature</th><th>Cell-line(type)</th><th>tissue</th><th>Genotype/Phenotype</th><th>LibraryLayout</th><th>Instrument</th><th>RNA</th><th>note</th><th></th></tr><tr><td>i64</td><td>str</td><td>i64</td><td>str</td><td>str</td><td>str</td><td>str</td><td>str</td><td>str</td><td>str</td><td>str</td><td>str</td><td>str</td><td>str</td><td>str</td><td>str</td><td>str</td><td>str</td><td>str</td></tr></thead><tbody><tr><td>1</td><td>&quot;SRP175158&quot;</td><td>1</td><td>&quot;SRR8392699&quot;</td><td>&quot;SRR8392697&quot;</td><td>&quot;RNA-seq&quot;</td><td>&quot;cDNA&quot;</td><td>&quot;44℃&quot;</td><td>&quot;120min.&quot;</td><td>null</td><td>null</td><td>&quot;human-lung-fibroblasts-WI38-ce…</td><td>null</td><td>&quot;young&quot;</td><td>&quot;SINGLE&quot;</td><td>&quot;Illumina HiSeq 2000&quot;</td><td>null</td><td>&quot;Heat_shock_2hr RNA-seq&quot;</td><td>null</td></tr><tr><td>null</td><td>null</td><td>2</td><td>&quot;SRR8392700&quot;</td><td>&quot;SRR8392698&quot;</td><td>&quot;RNA-seq&quot;</td><td>&quot;cDNA&quot;</td><td>&quot;44℃&quot;</td><td>&quot;120min.&quot;</td><td>null</td><td>null</td><td>&quot;human-lung-fibroblasts-WI38-ce…</td><td>null</td><td>&quot;young&quot;</td><td>&quot;SINGLE&quot;</td><td>&quot;Illumina HiSeq 2000&quot;</td><td>null</td><td>&quot;Heat_shock_2hr RNA-seq&quot;</td><td>null</td></tr><tr><td>null</td><td>null</td><td>3</td><td>&quot;SRR8392703&quot;</td><td>&quot;SRR8392701&quot;</td><td>&quot;RNA-seq&quot;</td><td>&quot;cDNA&quot;</td><td>&quot;44℃&quot;</td><td>&quot;120min.&quot;</td><td>null</td><td>null</td><td>&quot;human-lung-fibroblasts-WI38-ce…</td><td>null</td><td>&quot;senescent&quot;</td><td>&quot;SINGLE&quot;</td><td>&quot;Illumina HiSeq 2000&quot;</td><td>null</td><td>null</td><td>null</td></tr><tr><td>null</td><td>null</td><td>4</td><td>&quot;SRR8392704&quot;</td><td>&quot;SRR8392702&quot;</td><td>&quot;RNA-seq&quot;</td><td>&quot;cDNA&quot;</td><td>&quot;44℃&quot;</td><td>&quot;120min.&quot;</td><td>null</td><td>null</td><td>&quot;human-lung-fibroblasts-WI38-ce…</td><td>null</td><td>&quot;senescent&quot;</td><td>&quot;SINGLE&quot;</td><td>&quot;Illumina HiSeq 2000&quot;</td><td>null</td><td>null</td><td>null</td></tr><tr><td>null</td><td>null</td><td>5</td><td>&quot;SRR8392707&quot;</td><td>&quot;SRR8392705&quot;</td><td>&quot;Ribo-seq&quot;</td><td>&quot;cDNA&quot;</td><td>&quot;44℃&quot;</td><td>&quot;120min.&quot;</td><td>null</td><td>null</td><td>&quot;human-lung-fibroblasts-WI38-ce…</td><td>null</td><td>&quot;young&quot;</td><td>&quot;SINGLE&quot;</td><td>&quot;Illumina HiSeq 2000&quot;</td><td>null</td><td>&quot;Heat_shock_2hr  Ribo-seq&quot;</td><td>null</td></tr><tr><td>&hellip;</td><td>&hellip;</td><td>&hellip;</td><td>&hellip;</td><td>&hellip;</td><td>&hellip;</td><td>&hellip;</td><td>&hellip;</td><td>&hellip;</td><td>&hellip;</td><td>&hellip;</td><td>&hellip;</td><td>&hellip;</td><td>&hellip;</td><td>&hellip;</td><td>&hellip;</td><td>&hellip;</td><td>&hellip;</td><td>&hellip;</td></tr><tr><td>null</td><td>null</td><td>318</td><td>&quot;SRR5749643&quot;</td><td>&quot;SRR5749649&quot;</td><td>&quot;RNA-seq&quot;</td><td>&quot;cDNA&quot;</td><td>&quot;43&quot;</td><td>&quot;30min.&quot;</td><td>null</td><td>null</td><td>&quot;colorectal-cancer-cell-line-HC…</td><td>null</td><td>null</td><td>&quot;PAIRED&quot;</td><td>&quot;Illumina HiSeq 2000&quot;</td><td>null</td><td>&quot;2hr then heatshock for 0.5hr, …</td><td>null</td></tr><tr><td>null</td><td>null</td><td>319</td><td>&quot;SRR5749644&quot;</td><td>&quot;SRR5749650&quot;</td><td>&quot;RNA-seq&quot;</td><td>&quot;cDNA&quot;</td><td>&quot;43&quot;</td><td>&quot;30min.&quot;</td><td>null</td><td>null</td><td>&quot;colorectal-cancer-cell-line-HC…</td><td>null</td><td>null</td><td>&quot;PAIRED&quot;</td><td>&quot;Illumina HiSeq 2000&quot;</td><td>null</td><td>&quot;2hr then heatshock for 0.5hr, …</td><td>null</td></tr><tr><td>null</td><td>null</td><td>320</td><td>&quot;SRR5749645&quot;</td><td>&quot;SRR5749651&quot;</td><td>&quot;RNA-seq&quot;</td><td>&quot;cDNA&quot;</td><td>&quot;43&quot;</td><td>&quot;30min.&quot;</td><td>null</td><td>null</td><td>&quot;colorectal-cancer-cell-line-HC…</td><td>null</td><td>null</td><td>&quot;PAIRED&quot;</td><td>&quot;Illumina HiSeq 2000&quot;</td><td>null</td><td>&quot;2hr then heatshock for 0.5hr, …</td><td>null</td></tr><tr><td>null</td><td>null</td><td>321</td><td>&quot;SRR5749646&quot;</td><td>&quot;SRR5749652&quot;</td><td>&quot;RNA-seq&quot;</td><td>&quot;cDNA&quot;</td><td>&quot;43&quot;</td><td>&quot;30min.&quot;</td><td>null</td><td>null</td><td>&quot;colorectal-cancer-cell-line-HC…</td><td>null</td><td>null</td><td>&quot;PAIRED&quot;</td><td>&quot;Illumina HiSeq 2000&quot;</td><td>null</td><td>&quot;2hr then heatshock for 0.5hr, …</td><td>null</td></tr><tr><td>null</td><td>null</td><td>322</td><td>&quot;SRR5749647&quot;</td><td>&quot;SRR5749653&quot;</td><td>&quot;RNA-seq&quot;</td><td>&quot;cDNA&quot;</td><td>&quot;43&quot;</td><td>&quot;30min.&quot;</td><td>null</td><td>null</td><td>&quot;colorectal-cancer-cell-line-HC…</td><td>null</td><td>null</td><td>&quot;PAIRED&quot;</td><td>&quot;Illumina HiSeq 2000&quot;</td><td>null</td><td>&quot;2hr then heatshock for 0.5hr, …</td><td>null</td></tr></tbody></table></div>"
      ],
      "text/plain": [
       "shape: (322, 19)\n",
       "┌───────────┬───────────┬──────┬─────────────┬───┬────────────┬──────┬──────────────────────┬──────┐\n",
       "│ SRA study ┆ SRA Study ┆ pair ┆ Source of   ┆ … ┆ Instrument ┆ RNA  ┆ note                 ┆      │\n",
       "│ count     ┆ ---       ┆ ---  ┆ Stress      ┆   ┆ ---        ┆ ---  ┆ ---                  ┆ ---  │\n",
       "│ ---       ┆ str       ┆ i64  ┆ (Condition) ┆   ┆ str        ┆ str  ┆ str                  ┆ str  │\n",
       "│ i64       ┆           ┆      ┆ ---         ┆   ┆            ┆      ┆                      ┆      │\n",
       "│           ┆           ┆      ┆ str         ┆   ┆            ┆      ┆                      ┆      │\n",
       "╞═══════════╪═══════════╪══════╪═════════════╪═══╪════════════╪══════╪══════════════════════╪══════╡\n",
       "│ 1         ┆ SRP175158 ┆ 1    ┆ SRR8392699  ┆ … ┆ Illumina   ┆ null ┆ Heat_shock_2hr       ┆ null │\n",
       "│           ┆           ┆      ┆             ┆   ┆ HiSeq 2000 ┆      ┆ RNA-seq              ┆      │\n",
       "│ null      ┆ null      ┆ 2    ┆ SRR8392700  ┆ … ┆ Illumina   ┆ null ┆ Heat_shock_2hr       ┆ null │\n",
       "│           ┆           ┆      ┆             ┆   ┆ HiSeq 2000 ┆      ┆ RNA-seq              ┆      │\n",
       "│ null      ┆ null      ┆ 3    ┆ SRR8392703  ┆ … ┆ Illumina   ┆ null ┆ null                 ┆ null │\n",
       "│           ┆           ┆      ┆             ┆   ┆ HiSeq 2000 ┆      ┆                      ┆      │\n",
       "│ null      ┆ null      ┆ 4    ┆ SRR8392704  ┆ … ┆ Illumina   ┆ null ┆ null                 ┆ null │\n",
       "│           ┆           ┆      ┆             ┆   ┆ HiSeq 2000 ┆      ┆                      ┆      │\n",
       "│ null      ┆ null      ┆ 5    ┆ SRR8392707  ┆ … ┆ Illumina   ┆ null ┆ Heat_shock_2hr       ┆ null │\n",
       "│           ┆           ┆      ┆             ┆   ┆ HiSeq 2000 ┆      ┆ Ribo-seq             ┆      │\n",
       "│ …         ┆ …         ┆ …    ┆ …           ┆ … ┆ …          ┆ …    ┆ …                    ┆ …    │\n",
       "│ null      ┆ null      ┆ 318  ┆ SRR5749643  ┆ … ┆ Illumina   ┆ null ┆ 2hr then heatshock   ┆ null │\n",
       "│           ┆           ┆      ┆             ┆   ┆ HiSeq 2000 ┆      ┆ for 0.5hr, …         ┆      │\n",
       "│ null      ┆ null      ┆ 319  ┆ SRR5749644  ┆ … ┆ Illumina   ┆ null ┆ 2hr then heatshock   ┆ null │\n",
       "│           ┆           ┆      ┆             ┆   ┆ HiSeq 2000 ┆      ┆ for 0.5hr, …         ┆      │\n",
       "│ null      ┆ null      ┆ 320  ┆ SRR5749645  ┆ … ┆ Illumina   ┆ null ┆ 2hr then heatshock   ┆ null │\n",
       "│           ┆           ┆      ┆             ┆   ┆ HiSeq 2000 ┆      ┆ for 0.5hr, …         ┆      │\n",
       "│ null      ┆ null      ┆ 321  ┆ SRR5749646  ┆ … ┆ Illumina   ┆ null ┆ 2hr then heatshock   ┆ null │\n",
       "│           ┆           ┆      ┆             ┆   ┆ HiSeq 2000 ┆      ┆ for 0.5hr, …         ┆      │\n",
       "│ null      ┆ null      ┆ 322  ┆ SRR5749647  ┆ … ┆ Illumina   ┆ null ┆ 2hr then heatshock   ┆ null │\n",
       "│           ┆           ┆      ┆             ┆   ┆ HiSeq 2000 ┆      ┆ for 0.5hr, …         ┆      │\n",
       "└───────────┴───────────┴──────┴─────────────┴───┴────────────┴──────┴──────────────────────┴──────┘"
      ]
     },
     "metadata": {},
     "output_type": "display_data"
    }
   ],
   "source": [
    "# polars method: https://docs.pola.rs/api/python/stable/reference/expressions/api/polars.Expr.str.replace_all.html#polars-expr-str-replace-all\n",
    "\n",
    "metadata = pl.read_csv(\n",
    "    \"../Data/Data_HNscore/HS_human_meta-data.csv\",\n",
    "    separator=\",\"\n",
    ").with_columns([\n",
    "    pl.col(\"Cell-line(type)\")\n",
    "        .str.replace_all(\",\", \" \")  # , to space\n",
    "        .str.replace_all(r\"\\s+\", \" \")  # replace continuous spaces with one space\n",
    "        .str.replace_all(r\"[()]\", \"\")  # remove parentheses (  )\n",
    "        .str.replace_all(r\"\\s+$\", \"\")  # remove trailing spaces ('\\s+' matches any whitespace character, and '$' matches the end of the string)\n",
    "        .str.replace_all(\" \", \"-\")  # replace remaining spaces with hyphen\n",
    "    ]\n",
    ")\n",
    "display(metadata)"
   ]
  },
  {
   "cell_type": "code",
   "execution_count": 5,
   "metadata": {},
   "outputs": [
    {
     "data": {
      "text/html": [
       "<div><style>\n",
       ".dataframe > thead > tr,\n",
       ".dataframe > tbody > tr {\n",
       "  text-align: right;\n",
       "  white-space: pre-wrap;\n",
       "}\n",
       "</style>\n",
       "<small>shape: (19_705, 323)</small><table border=\"1\" class=\"dataframe\"><thead><tr><th>GENEID</th><th>SRR8392699</th><th>SRR8392700</th><th>SRR8392703</th><th>SRR8392704</th><th>SRR10129832</th><th>SRR9029562</th><th>SRR9029564</th><th>SRR9029566</th><th>SRR3309259</th><th>SRR3309260</th><th>SRR3309261</th><th>SRR7359773</th><th>SRR7359774</th><th>SRR7359775</th><th>SRR7359665</th><th>SRR7359666</th><th>SRR7359667</th><th>SRR7359701</th><th>SRR7359702</th><th>SRR7359703</th><th>SRR7359737</th><th>SRR7359738</th><th>SRR7359739</th><th>SRR12926169</th><th>SRR12926170</th><th>SRR12926171</th><th>SRR12926172</th><th>SRR12926185</th><th>SRR12926186</th><th>SRR12926187</th><th>SRR12926188</th><th>SRR12926161</th><th>SRR12926162</th><th>SRR12926163</th><th>SRR12926164</th><th>SRR12926177</th><th>&hellip;</th><th>SRR8669177</th><th>SRR8669167</th><th>SRR8669168</th><th>SRR8669169</th><th>SRR8669170</th><th>SRR8669171</th><th>SRR12267715</th><th>SRR12267716</th><th>SRR12267717</th><th>SRR12267718</th><th>SRR12267719</th><th>SRR12267720</th><th>SRR12267721</th><th>SRR12267722</th><th>SRR19077081</th><th>SRR19077089</th><th>SRR19077082</th><th>SRR19077090</th><th>SRR19077085</th><th>SRR19077093</th><th>SRR19077086</th><th>SRR19077094</th><th>SRR9257637</th><th>SRR9257638</th><th>SRR9257639</th><th>SRR9257640</th><th>SRR9257641</th><th>SRR9257642</th><th>SRR9257643</th><th>SRR9257644</th><th>SRR9257645</th><th>SRR12801712</th><th>SRR12801713</th><th>SRR12801714</th><th>SRR11067753</th><th>SRR11067754</th><th>SRR11067755</th></tr><tr><td>str</td><td>f64</td><td>f64</td><td>f64</td><td>f64</td><td>f64</td><td>f64</td><td>f64</td><td>f64</td><td>f64</td><td>f64</td><td>f64</td><td>f64</td><td>f64</td><td>f64</td><td>f64</td><td>f64</td><td>f64</td><td>f64</td><td>f64</td><td>f64</td><td>f64</td><td>f64</td><td>f64</td><td>f64</td><td>f64</td><td>f64</td><td>f64</td><td>f64</td><td>f64</td><td>f64</td><td>f64</td><td>f64</td><td>f64</td><td>f64</td><td>f64</td><td>f64</td><td>&hellip;</td><td>f64</td><td>f64</td><td>f64</td><td>f64</td><td>f64</td><td>f64</td><td>f64</td><td>f64</td><td>f64</td><td>f64</td><td>f64</td><td>f64</td><td>f64</td><td>f64</td><td>f64</td><td>f64</td><td>f64</td><td>f64</td><td>f64</td><td>f64</td><td>f64</td><td>f64</td><td>f64</td><td>f64</td><td>f64</td><td>f64</td><td>f64</td><td>f64</td><td>f64</td><td>f64</td><td>f64</td><td>f64</td><td>f64</td><td>f64</td><td>f64</td><td>f64</td><td>f64</td></tr></thead><tbody><tr><td>&quot;A1BG&quot;</td><td>0.937577</td><td>0.90506</td><td>1.173431</td><td>0.951361</td><td>1.616084</td><td>1.587653</td><td>0.839417</td><td>0.707164</td><td>0.688915</td><td>0.807707</td><td>1.471826</td><td>1.149646</td><td>0.798949</td><td>0.84431</td><td>1.712014</td><td>1.676753</td><td>1.846766</td><td>0.763887</td><td>1.234583</td><td>1.154575</td><td>1.011787</td><td>1.123454</td><td>1.112957</td><td>0.292599</td><td>0.321263</td><td>0.486943</td><td>0.073171</td><td>3.063478</td><td>2.28231</td><td>2.732027</td><td>3.178165</td><td>2.342507</td><td>3.078054</td><td>0.913205</td><td>0.514791</td><td>1.535367</td><td>&hellip;</td><td>1.055852</td><td>0.874469</td><td>0.915239</td><td>0.7175</td><td>0.570618</td><td>1.264522</td><td>0.620855</td><td>1.955397</td><td>0.940095</td><td>1.337046</td><td>1.247015</td><td>0.376148</td><td>0.457872</td><td>3.581084</td><td>1.657477</td><td>1.321662</td><td>1.52167</td><td>1.234285</td><td>2.485797</td><td>1.422377</td><td>1.261323</td><td>0.989173</td><td>13.181142</td><td>12.866995</td><td>4.647388</td><td>4.738236</td><td>3.773852</td><td>0.150518</td><td>3.972351</td><td>1.388637</td><td>0.267622</td><td>1.0</td><td>1.0</td><td>1.0</td><td>1.0</td><td>1.0</td><td>0.497684</td></tr><tr><td>&quot;A1CF&quot;</td><td>1.274827</td><td>1.0</td><td>1.0</td><td>1.0</td><td>1.578923</td><td>1.121376</td><td>1.125679</td><td>1.256608</td><td>0.867105</td><td>0.542718</td><td>1.223959</td><td>1.0</td><td>1.0</td><td>1.0</td><td>1.0</td><td>1.0</td><td>1.0</td><td>1.0</td><td>0.586528</td><td>1.0</td><td>1.224989</td><td>1.0</td><td>1.399655</td><td>1.183906</td><td>1.091216</td><td>1.0</td><td>0.851463</td><td>1.310149</td><td>1.386457</td><td>1.153764</td><td>1.0</td><td>1.0</td><td>1.0</td><td>0.698847</td><td>0.756844</td><td>1.159212</td><td>&hellip;</td><td>1.223524</td><td>0.989329</td><td>0.792394</td><td>0.905015</td><td>0.585017</td><td>1.272624</td><td>1.0</td><td>1.0</td><td>1.0</td><td>1.0</td><td>0.791308</td><td>1.0</td><td>1.0</td><td>1.0</td><td>0.942851</td><td>1.179185</td><td>1.37652</td><td>1.02926</td><td>2.009493</td><td>1.353698</td><td>1.637286</td><td>1.594538</td><td>1.0</td><td>1.0</td><td>1.29248</td><td>1.190399</td><td>1.0</td><td>1.0</td><td>1.0</td><td>1.0</td><td>1.0</td><td>0.939182</td><td>1.0</td><td>1.052121</td><td>1.029972</td><td>1.0</td><td>1.0</td></tr><tr><td>&quot;A2M&quot;</td><td>0.954195</td><td>1.51097</td><td>1.340899</td><td>0.80041</td><td>2.867888</td><td>0.271588</td><td>1.02782</td><td>0.628021</td><td>0.646622</td><td>1.0</td><td>1.005016</td><td>0.947077</td><td>1.089874</td><td>1.046784</td><td>0.677007</td><td>0.429218</td><td>0.609098</td><td>1.001065</td><td>1.211348</td><td>1.411006</td><td>0.910106</td><td>0.946108</td><td>0.995809</td><td>0.990289</td><td>0.273583</td><td>0.782319</td><td>0.650255</td><td>1.087229</td><td>1.106072</td><td>3.679514</td><td>0.594014</td><td>1.751522</td><td>0.956616</td><td>0.712692</td><td>0.383038</td><td>0.613275</td><td>&hellip;</td><td>0.194784</td><td>1.0</td><td>1.0</td><td>1.327662</td><td>1.0</td><td>1.0</td><td>1.0</td><td>1.0</td><td>1.0</td><td>1.0</td><td>1.0</td><td>1.0</td><td>1.0</td><td>1.0</td><td>2.959312</td><td>2.021674</td><td>3.649038</td><td>2.879714</td><td>3.012148</td><td>2.617056</td><td>1.4001</td><td>1.383961</td><td>5.827531</td><td>2.253959</td><td>12.03367</td><td>1.0</td><td>1.31163</td><td>1.0</td><td>4.28526</td><td>1.0</td><td>1.0</td><td>1.0</td><td>1.0</td><td>1.0</td><td>0.875078</td><td>2.271058</td><td>1.53053</td></tr><tr><td>&quot;A2ML1&quot;</td><td>1.078959</td><td>0.649897</td><td>0.789869</td><td>1.665942</td><td>2.674006</td><td>8.02823</td><td>3.515341</td><td>9.282938</td><td>0.929338</td><td>0.266727</td><td>1.754628</td><td>1.319572</td><td>2.897818</td><td>0.788736</td><td>2.818427</td><td>1.0</td><td>1.258707</td><td>0.966987</td><td>0.422454</td><td>1.879011</td><td>2.163199</td><td>0.642082</td><td>0.847668</td><td>0.530445</td><td>0.383827</td><td>0.258035</td><td>0.483833</td><td>3.024432</td><td>2.098743</td><td>2.784293</td><td>3.490833</td><td>1.084658</td><td>1.133235</td><td>0.25024</td><td>0.592231</td><td>1.586447</td><td>&hellip;</td><td>0.816836</td><td>0.780251</td><td>0.862604</td><td>1.054037</td><td>2.224936</td><td>1.060465</td><td>0.562087</td><td>5.225291</td><td>1.755832</td><td>1.573719</td><td>4.401472</td><td>0.18992</td><td>0.542405</td><td>0.394882</td><td>1.736568</td><td>2.135459</td><td>0.987405</td><td>1.331055</td><td>1.553919</td><td>0.814692</td><td>0.908963</td><td>0.885327</td><td>1.291847</td><td>2.489293</td><td>11.505186</td><td>0.566719</td><td>1.0</td><td>1.0</td><td>0.795947</td><td>1.0</td><td>1.0</td><td>1.0</td><td>1.0</td><td>1.0</td><td>2.026651</td><td>1.0</td><td>1.0</td></tr><tr><td>&quot;A3GALT2&quot;</td><td>1.0</td><td>1.0</td><td>1.0</td><td>1.0</td><td>0.924578</td><td>1.0</td><td>1.0</td><td>0.468382</td><td>0.600246</td><td>0.241123</td><td>0.645082</td><td>1.0</td><td>2.618471</td><td>1.0</td><td>1.0</td><td>1.0</td><td>1.0</td><td>1.0</td><td>1.0</td><td>1.0</td><td>1.0</td><td>1.0</td><td>1.0</td><td>1.423799</td><td>2.104981</td><td>3.736439</td><td>0.276808</td><td>0.190093</td><td>6.835402</td><td>1.0</td><td>0.431012</td><td>2.228254</td><td>0.207173</td><td>1.0</td><td>1.008048</td><td>2.337433</td><td>&hellip;</td><td>1.544663</td><td>1.0</td><td>1.0</td><td>1.0</td><td>1.0</td><td>1.0</td><td>1.0</td><td>1.0</td><td>1.0</td><td>0.438702</td><td>1.0</td><td>1.0</td><td>1.0</td><td>1.0</td><td>0.554351</td><td>0.504145</td><td>0.983104</td><td>0.375045</td><td>1.990537</td><td>0.300613</td><td>0.218732</td><td>0.37912</td><td>1.0</td><td>1.0</td><td>3.475124</td><td>9.065566</td><td>1.0</td><td>1.0</td><td>1.0</td><td>1.0</td><td>1.0</td><td>1.0</td><td>1.0</td><td>1.0</td><td>1.0</td><td>1.0</td><td>1.0</td></tr><tr><td>&hellip;</td><td>&hellip;</td><td>&hellip;</td><td>&hellip;</td><td>&hellip;</td><td>&hellip;</td><td>&hellip;</td><td>&hellip;</td><td>&hellip;</td><td>&hellip;</td><td>&hellip;</td><td>&hellip;</td><td>&hellip;</td><td>&hellip;</td><td>&hellip;</td><td>&hellip;</td><td>&hellip;</td><td>&hellip;</td><td>&hellip;</td><td>&hellip;</td><td>&hellip;</td><td>&hellip;</td><td>&hellip;</td><td>&hellip;</td><td>&hellip;</td><td>&hellip;</td><td>&hellip;</td><td>&hellip;</td><td>&hellip;</td><td>&hellip;</td><td>&hellip;</td><td>&hellip;</td><td>&hellip;</td><td>&hellip;</td><td>&hellip;</td><td>&hellip;</td><td>&hellip;</td><td>&hellip;</td><td>&hellip;</td><td>&hellip;</td><td>&hellip;</td><td>&hellip;</td><td>&hellip;</td><td>&hellip;</td><td>&hellip;</td><td>&hellip;</td><td>&hellip;</td><td>&hellip;</td><td>&hellip;</td><td>&hellip;</td><td>&hellip;</td><td>&hellip;</td><td>&hellip;</td><td>&hellip;</td><td>&hellip;</td><td>&hellip;</td><td>&hellip;</td><td>&hellip;</td><td>&hellip;</td><td>&hellip;</td><td>&hellip;</td><td>&hellip;</td><td>&hellip;</td><td>&hellip;</td><td>&hellip;</td><td>&hellip;</td><td>&hellip;</td><td>&hellip;</td><td>&hellip;</td><td>&hellip;</td><td>&hellip;</td><td>&hellip;</td><td>&hellip;</td><td>&hellip;</td><td>&hellip;</td></tr><tr><td>&quot;ZYG11A&quot;</td><td>0.760432</td><td>0.90972</td><td>0.482176</td><td>0.646283</td><td>1.120735</td><td>2.408908</td><td>1.034067</td><td>0.755074</td><td>0.604657</td><td>0.607964</td><td>1.382059</td><td>0.612471</td><td>0.409946</td><td>1.490661</td><td>1.507307</td><td>1.526816</td><td>1.278565</td><td>1.721409</td><td>0.745006</td><td>1.722773</td><td>0.546426</td><td>1.0</td><td>0.549854</td><td>2.344186</td><td>0.987672</td><td>0.985149</td><td>1.199512</td><td>2.077155</td><td>2.860117</td><td>6.607882</td><td>6.350941</td><td>1.514848</td><td>3.484745</td><td>1.608752</td><td>0.880592</td><td>3.963308</td><td>&hellip;</td><td>0.634232</td><td>0.769466</td><td>1.218275</td><td>0.581178</td><td>0.921919</td><td>0.593844</td><td>0.808638</td><td>1.953056</td><td>1.077879</td><td>0.944505</td><td>0.697017</td><td>0.461245</td><td>0.759762</td><td>3.481196</td><td>2.322876</td><td>1.777149</td><td>1.604377</td><td>1.41541</td><td>2.517491</td><td>1.633585</td><td>0.922767</td><td>1.562987</td><td>2.005379</td><td>1.312277</td><td>9.804846</td><td>0.376821</td><td>1.015526</td><td>1.359665</td><td>0.376821</td><td>0.726672</td><td>1.0</td><td>1.481506</td><td>2.38603</td><td>0.452458</td><td>0.905474</td><td>0.76999</td><td>0.698244</td></tr><tr><td>&quot;ZYG11B&quot;</td><td>0.787264</td><td>0.721801</td><td>1.000042</td><td>0.542887</td><td>1.15705</td><td>1.273877</td><td>0.872713</td><td>0.699073</td><td>0.654058</td><td>0.98426</td><td>1.811664</td><td>0.703586</td><td>0.682304</td><td>1.093947</td><td>0.634874</td><td>0.808489</td><td>0.921976</td><td>1.169216</td><td>1.011782</td><td>0.772203</td><td>0.815508</td><td>0.642698</td><td>1.099493</td><td>0.219264</td><td>0.237329</td><td>0.28538</td><td>0.334179</td><td>0.524833</td><td>0.612746</td><td>0.514175</td><td>1.005127</td><td>0.338099</td><td>0.321614</td><td>0.271319</td><td>0.27108</td><td>0.557372</td><td>&hellip;</td><td>0.768027</td><td>0.717909</td><td>1.826155</td><td>0.832019</td><td>1.054511</td><td>0.905457</td><td>0.637391</td><td>2.710073</td><td>1.721361</td><td>1.703952</td><td>0.867737</td><td>0.30671</td><td>0.747562</td><td>1.199228</td><td>1.958943</td><td>1.021002</td><td>1.384736</td><td>1.234992</td><td>2.21848</td><td>1.114654</td><td>1.143967</td><td>1.250457</td><td>14.041012</td><td>7.693702</td><td>36.173985</td><td>2.60621</td><td>3.522928</td><td>1.0</td><td>3.525577</td><td>0.732377</td><td>1.0</td><td>1.302668</td><td>1.473649</td><td>0.801247</td><td>0.990479</td><td>1.276938</td><td>0.965806</td></tr><tr><td>&quot;ZYX&quot;</td><td>0.801273</td><td>0.900931</td><td>1.045951</td><td>1.061333</td><td>1.63189</td><td>1.23213</td><td>0.88231</td><td>0.693453</td><td>1.202578</td><td>2.086475</td><td>1.136144</td><td>1.369482</td><td>1.341719</td><td>1.177075</td><td>1.18195</td><td>1.411436</td><td>1.219352</td><td>1.47073</td><td>1.474303</td><td>1.450496</td><td>1.433993</td><td>1.300796</td><td>1.393609</td><td>0.4302</td><td>0.470476</td><td>0.455365</td><td>0.377915</td><td>0.5663</td><td>0.634255</td><td>0.590979</td><td>1.430396</td><td>0.645445</td><td>0.652239</td><td>0.602062</td><td>0.570238</td><td>0.837137</td><td>&hellip;</td><td>0.627572</td><td>1.036695</td><td>2.073565</td><td>0.626066</td><td>0.982648</td><td>0.78442</td><td>1.054457</td><td>5.078602</td><td>0.887923</td><td>1.272976</td><td>1.074504</td><td>0.163144</td><td>0.840517</td><td>1.624301</td><td>0.757383</td><td>1.719979</td><td>1.247576</td><td>0.620428</td><td>1.268908</td><td>0.958509</td><td>0.9697</td><td>0.718103</td><td>50.104419</td><td>32.571301</td><td>115.658358</td><td>26.252466</td><td>23.755423</td><td>1.0</td><td>22.843448</td><td>1.0</td><td>1.0</td><td>1.989758</td><td>3.08111</td><td>0.651634</td><td>0.97358</td><td>0.940957</td><td>0.801653</td></tr><tr><td>&quot;ZZEF1&quot;</td><td>0.919589</td><td>1.146141</td><td>2.152184</td><td>1.007932</td><td>2.294421</td><td>1.007538</td><td>0.986618</td><td>0.461906</td><td>1.294873</td><td>1.825901</td><td>1.05786</td><td>0.999205</td><td>1.194219</td><td>1.29369</td><td>0.905201</td><td>1.03447</td><td>0.919169</td><td>1.131786</td><td>1.227852</td><td>1.150654</td><td>1.737255</td><td>1.460837</td><td>1.399425</td><td>0.568536</td><td>0.496137</td><td>0.749759</td><td>0.406324</td><td>1.053142</td><td>1.134135</td><td>1.095128</td><td>1.90198</td><td>0.582836</td><td>1.143827</td><td>0.739975</td><td>0.739299</td><td>1.159355</td><td>&hellip;</td><td>0.647503</td><td>0.68197</td><td>1.526737</td><td>0.757535</td><td>0.545729</td><td>1.118703</td><td>0.639044</td><td>6.140426</td><td>0.992778</td><td>1.462777</td><td>0.852205</td><td>0.735665</td><td>0.526138</td><td>1.750067</td><td>1.569269</td><td>0.694785</td><td>0.426702</td><td>1.159175</td><td>2.761577</td><td>1.099791</td><td>0.539942</td><td>0.436251</td><td>9.239689</td><td>7.112839</td><td>32.04141</td><td>3.874823</td><td>4.449371</td><td>1.0</td><td>2.81454</td><td>1.262472</td><td>1.0</td><td>1.895826</td><td>1.884423</td><td>1.012679</td><td>1.285301</td><td>1.456858</td><td>0.92231</td></tr><tr><td>&quot;ZZZ3&quot;</td><td>1.047701</td><td>1.043861</td><td>1.133138</td><td>0.843305</td><td>1.712004</td><td>1.156953</td><td>1.115583</td><td>0.664913</td><td>1.120227</td><td>2.973859</td><td>0.850993</td><td>1.4233</td><td>1.42536</td><td>1.349061</td><td>1.097968</td><td>1.057514</td><td>1.057043</td><td>1.309387</td><td>1.746651</td><td>1.518919</td><td>1.408888</td><td>1.189753</td><td>1.685881</td><td>0.418546</td><td>0.564546</td><td>0.622219</td><td>0.556974</td><td>1.281306</td><td>1.511828</td><td>1.078608</td><td>2.669254</td><td>0.958292</td><td>0.789736</td><td>0.540575</td><td>0.643909</td><td>1.327596</td><td>&hellip;</td><td>0.991778</td><td>0.688527</td><td>1.519253</td><td>0.624951</td><td>1.308709</td><td>1.265043</td><td>0.264633</td><td>1.637494</td><td>1.258113</td><td>0.77994</td><td>0.979403</td><td>0.208512</td><td>0.463468</td><td>1.947818</td><td>0.427837</td><td>0.223754</td><td>0.465928</td><td>0.500479</td><td>0.800534</td><td>0.43548</td><td>0.457267</td><td>0.537778</td><td>5.847224</td><td>2.448251</td><td>12.816169</td><td>2.450402</td><td>2.879636</td><td>1.0</td><td>1.0</td><td>1.0</td><td>1.0</td><td>3.222935</td><td>3.395541</td><td>0.816406</td><td>1.424926</td><td>1.308535</td><td>0.989775</td></tr></tbody></table></div>"
      ],
      "text/plain": [
       "shape: (19_705, 323)\n",
       "┌─────────┬────────────┬───────────┬───────────┬───┬───────────┬───────────┬───────────┬───────────┐\n",
       "│ GENEID  ┆ SRR8392699 ┆ SRR839270 ┆ SRR839270 ┆ … ┆ SRR128017 ┆ SRR110677 ┆ SRR110677 ┆ SRR110677 │\n",
       "│ ---     ┆ ---        ┆ 0         ┆ 3         ┆   ┆ 14        ┆ 53        ┆ 54        ┆ 55        │\n",
       "│ str     ┆ f64        ┆ ---       ┆ ---       ┆   ┆ ---       ┆ ---       ┆ ---       ┆ ---       │\n",
       "│         ┆            ┆ f64       ┆ f64       ┆   ┆ f64       ┆ f64       ┆ f64       ┆ f64       │\n",
       "╞═════════╪════════════╪═══════════╪═══════════╪═══╪═══════════╪═══════════╪═══════════╪═══════════╡\n",
       "│ A1BG    ┆ 0.937577   ┆ 0.90506   ┆ 1.173431  ┆ … ┆ 1.0       ┆ 1.0       ┆ 1.0       ┆ 0.497684  │\n",
       "│ A1CF    ┆ 1.274827   ┆ 1.0       ┆ 1.0       ┆ … ┆ 1.052121  ┆ 1.029972  ┆ 1.0       ┆ 1.0       │\n",
       "│ A2M     ┆ 0.954195   ┆ 1.51097   ┆ 1.340899  ┆ … ┆ 1.0       ┆ 0.875078  ┆ 2.271058  ┆ 1.53053   │\n",
       "│ A2ML1   ┆ 1.078959   ┆ 0.649897  ┆ 0.789869  ┆ … ┆ 1.0       ┆ 2.026651  ┆ 1.0       ┆ 1.0       │\n",
       "│ A3GALT2 ┆ 1.0        ┆ 1.0       ┆ 1.0       ┆ … ┆ 1.0       ┆ 1.0       ┆ 1.0       ┆ 1.0       │\n",
       "│ …       ┆ …          ┆ …         ┆ …         ┆ … ┆ …         ┆ …         ┆ …         ┆ …         │\n",
       "│ ZYG11A  ┆ 0.760432   ┆ 0.90972   ┆ 0.482176  ┆ … ┆ 0.452458  ┆ 0.905474  ┆ 0.76999   ┆ 0.698244  │\n",
       "│ ZYG11B  ┆ 0.787264   ┆ 0.721801  ┆ 1.000042  ┆ … ┆ 0.801247  ┆ 0.990479  ┆ 1.276938  ┆ 0.965806  │\n",
       "│ ZYX     ┆ 0.801273   ┆ 0.900931  ┆ 1.045951  ┆ … ┆ 0.651634  ┆ 0.97358   ┆ 0.940957  ┆ 0.801653  │\n",
       "│ ZZEF1   ┆ 0.919589   ┆ 1.146141  ┆ 2.152184  ┆ … ┆ 1.012679  ┆ 1.285301  ┆ 1.456858  ┆ 0.92231   │\n",
       "│ ZZZ3    ┆ 1.047701   ┆ 1.043861  ┆ 1.133138  ┆ … ┆ 0.816406  ┆ 1.424926  ┆ 1.308535  ┆ 0.989775  │\n",
       "└─────────┴────────────┴───────────┴───────────┴───┴───────────┴───────────┴───────────┴───────────┘"
      ]
     },
     "metadata": {},
     "output_type": "display_data"
    }
   ],
   "source": [
    "HNratio = pl.read_csv(\n",
    "    \"../Data/Data_HNscore/HN-ratio_human_all.csv\", \n",
    "    separator=\",\"\n",
    ").rename(\n",
    "    {\n",
    "        \"GeneName\": \"GENEID\"\n",
    "    }\n",
    ")\n",
    "\n",
    "\n",
    "display(HNratio)"
   ]
  },
  {
   "cell_type": "code",
   "execution_count": 6,
   "metadata": {},
   "outputs": [
    {
     "name": "stdout",
     "output_type": "stream",
     "text": [
      "{'SRR8392699': 'human-lung-fibroblasts-WI38-cell', 'SRR8392700': 'human-lung-fibroblasts-WI38-cell', 'SRR8392703': 'human-lung-fibroblasts-WI38-cell', 'SRR8392704': 'human-lung-fibroblasts-WI38-cell', 'SRR8392707': 'human-lung-fibroblasts-WI38-cell', 'SRR8392708': 'human-lung-fibroblasts-WI38-cell', 'SRR8392711': 'human-lung-fibroblasts-WI38-cell', 'SRR8392712': 'human-lung-fibroblasts-WI38-cell', 'SRR2522096': 'WI38-lung-fibroblast-cells', 'SRR2522099': 'WI38-lung-fibroblast-cells', 'SRR2522102': 'WI38-lung-fibroblast-cells', 'SRR10129832': 'MCF7-mammary-gland-cell-culture', 'SRR13436541': 'MCF7-mammary-gland-cell-culture', 'SRR13436542': 'MCF7-mammary-gland-cell-culture', 'SRR13436543': 'MCF7-mammary-gland-cell-culture', 'SRR7309387': 'MCF7-mammary-gland-cell-culture', 'SRR9029562': 'OCI-Ly1OCI-Ly1-diffuse-B-cell-lymphoma-cells', 'SRR9029564': 'OCI-Ly1OCI-Ly1-diffuse-B-cell-lymphoma-cells', 'SRR9029566': 'OCI-Ly1OCI-Ly1-diffuse-B-cell-lymphoma-cells', 'SRR9029563': 'OCI-Ly1OCI-Ly1-diffuse-B-cell-lymphoma-cells', 'SRR9029565': 'OCI-Ly1OCI-Ly1-diffuse-B-cell-lymphoma-cells', 'SRR9029567': 'OCI-Ly1OCI-Ly1-diffuse-B-cell-lymphoma-cells', 'SRR3309259': 'HEK293-cells', 'SRR3309260': 'HEK293-cells', 'SRR3309261': 'HEK293-cells', 'SRR7241962': 'Human-Embryonic-Kidney-HEK-293T-Rex', 'SRR7241963': 'Human-Embryonic-Kidney-HEK-293T-Rex', 'SRR7241964': 'Human-Embryonic-Kidney-HEK-293T-Rex', 'SRR7241965': 'Human-Embryonic-Kidney-HEK-293T-Rex', 'SRR7241966': 'Human-Embryonic-Kidney-HEK-293T-Rex', 'SRR7241967': 'Human-Embryonic-Kidney-HEK-293T-Rex', 'SRR7241968': 'Human-Embryonic-Kidney-HEK-293T-Rex', 'SRR7241969': 'Human-Embryonic-Kidney-HEK-293T-Rex', 'SRR7241970': 'Human-Embryonic-Kidney-HEK-293T-Rex', 'SRR10908166': 'HEK293', 'SRR10908167': 'HEK293', 'SRR10908168': 'HEK293', 'SRR10908163': 'HEK293', 'SRR10908164': 'HEK293', 'SRR10908165': 'HEK293', 'SRR648668': 'HEK293T', 'SRR648670': 'HEK293T', 'SRR15177493': 'HEK293T', 'SRR15177494': 'HEK293T', 'SRR15177495': 'HEK293T', 'SRR15177496': 'HEK293T', 'SRR15177497': 'HEK293T', 'SRR15177498': 'HEK293T', 'SRR15177499': 'HEK293T', 'SRR18302238': 'HEK293T', 'SRR18302239': 'HEK293T', 'SRR18302240': 'HEK293T', 'SRR18302251': 'HEK293T', 'SRR18302252': 'HEK293T', 'SRR18302254': 'HEK293T', 'SRR18302262': 'HEK293T', 'SRR18302263': 'HEK293T', 'SRR18302264': 'HEK293T', 'SRR18302274': 'HEK293T', 'SRR18302275': 'HEK293T', 'SRR18302276': 'HEK293T', 'SRR7359773': 'U2OS', 'SRR7359774': 'U2OS', 'SRR7359775': 'U2OS', 'SRR7359665': 'U2OS', 'SRR7359666': 'U2OS', 'SRR7359667': 'U2OS', 'SRR7359701': 'U2OS', 'SRR7359702': 'U2OS', 'SRR7359703': 'U2OS', 'SRR7359737': 'U2OS', 'SRR7359738': 'U2OS', 'SRR7359739': 'U2OS', 'SRR7359761': 'U2OS', 'SRR7359762': 'U2OS', 'SRR7359763': 'U2OS', 'SRR7359785': 'U2OS', 'SRR7359786': 'U2OS', 'SRR7359787': 'U2OS', 'SRR7359797': 'U2OS', 'SRR7359798': 'U2OS', 'SRR7359799': 'U2OS', 'SRR7359677': 'U2OS', 'SRR7359678': 'U2OS', 'SRR7359679': 'U2OS', 'SRR7359689': 'U2OS', 'SRR7359690': 'U2OS', 'SRR7359691': 'U2OS', 'SRR7359713': 'U2OS', 'SRR7359714': 'U2OS', 'SRR7359715': 'U2OS', 'SRR7359725': 'U2OS', 'SRR7359726': 'U2OS', 'SRR7359727': 'U2OS', 'SRR7359749': 'U2OS', 'SRR7359750': 'U2OS', 'SRR7359751': 'U2OS', 'SRR12926169': 'Colorectal-adenocarcinoma-DLD-1', 'SRR12926170': 'Colorectal-adenocarcinoma-DLD-1', 'SRR12926171': 'Colorectal-adenocarcinoma-DLD-1', 'SRR12926172': 'Colorectal-adenocarcinoma-DLD-1', 'SRR12926185': 'Colorectal-adenocarcinoma-DLD-1-cell-line', 'SRR12926186': 'Colorectal-adenocarcinoma-DLD-1-cell-line', 'SRR12926187': 'Colorectal-adenocarcinoma-DLD-1-cell-line', 'SRR12926188': 'Colorectal-adenocarcinoma-DLD-1-cell-line', 'SRR12926161': 'Colorectal-adenocarcinoma-DLD-1-cell-line', 'SRR12926162': 'Colorectal-adenocarcinoma-DLD-1-cell-line', 'SRR12926163': 'Colorectal-adenocarcinoma-DLD-1-cell-line', 'SRR12926164': 'Colorectal-adenocarcinoma-DLD-1-cell-line', 'SRR12926177': 'Colorectal-adenocarcinoma-DLD-1-cell-line', 'SRR12926178': 'Colorectal-adenocarcinoma-DLD-1-cell-line', 'SRR12926179': 'Colorectal-adenocarcinoma-DLD-1-cell-line', 'SRR12926180': 'Colorectal-adenocarcinoma-DLD-1-cell-line', 'SRR19077081': 'DLD-1-Colorectal-adenocarcinoma', 'SRR19077089': 'DLD-1-Colorectal-adenocarcinoma', 'SRR19077082': 'DLD-1-Colorectal-adenocarcinoma', 'SRR19077090': 'DLD-1-Colorectal-adenocarcinoma', 'SRR19077085': 'DLD-1-Colorectal-adenocarcinoma', 'SRR19077093': 'DLD-1-Colorectal-adenocarcinoma', 'SRR19077086': 'DLD-1-Colorectal-adenocarcinoma', 'SRR19077094': 'DLD-1-Colorectal-adenocarcinoma', 'SRR12801710': 'HeLa-cell-line', 'SRR12801711': 'HeLa-cell-line', 'SRR11067756': 'HeLa-cell-line', 'SRR11067757': 'HeLa-cell-line', 'SRR11067758': 'HeLa-cell-line', 'SRR12801712': 'HeLa-cell-line', 'SRR12801713': 'HeLa-cell-line', 'SRR12801714': 'HeLa-cell-line', 'SRR11067753': 'HeLa-cell-line', 'SRR11067754': 'HeLa-cell-line', 'SRR11067755': 'HeLa-cell-line', 'SRR16555321': 'HeLa-cell-line', 'SRR16555322': 'HeLa-cell-line', 'SRR16555315': 'HeLa-cell-line', 'SRR16555316': 'HeLa-cell-line', 'SRR16555317': 'HeLa-cell-line', 'SRR16555318': 'HeLa-cell-line', 'SRR17038864': 'Nasopharyngeal-epithelium-derived-cells-CNE2-cell', 'SRR17038865': 'Nasopharyngeal-epithelium-derived-cells-CNE2-cell', 'SRR17038866': 'Nasopharyngeal-epithelium-derived-cells-CNE2-cell', 'SRR11817840': 'FaDu-spheroids-head-and-neck-squamous-cell-carcinomas-HNSCC', 'SRR11817841': 'FaDu-spheroids-head-and-neck-squamous-cell-carcinomas-HNSCC', 'SRR11817842': 'FaDu-spheroids-head-and-neck-squamous-cell-carcinomas-HNSCC', 'SRR11817843': 'FaDu-spheroids-head-and-neck-squamous-cell-carcinomas-HNSCC', 'SRR11817844': 'FaDu-spheroids-head-and-neck-squamous-cell-carcinomas-HNSCC', 'SRR11817845': 'FaDu-spheroids-head-and-neck-squamous-cell-carcinomas-HNSCC', 'SRR11817852': 'SASspheroids-head-and-neck-squamous-cell-carcinomas-HNSCC', 'SRR11817853': 'SASspheroids-head-and-neck-squamous-cell-carcinomas-HNSCC', 'SRR11817854': 'SASspheroids-head-and-neck-squamous-cell-carcinomas-HNSCC', 'SRR11817855': 'SASspheroids-head-and-neck-squamous-cell-carcinomas-HNSCC', 'SRR11817856': 'SASspheroids-head-and-neck-squamous-cell-carcinomas-HNSCC', 'SRR11817857': 'SASspheroids-head-and-neck-squamous-cell-carcinomas-HNSCC', 'SRR9257619': 'Primary-neurons', 'SRR9257620': 'Primary-neurons', 'SRR9257621': 'Primary-neurons', 'SRR9257622': 'Primary-neurons', 'SRR9257623': 'Primary-neurons', 'SRR9257624': 'Primary-neurons', 'SRR9257625': 'Primary-neurons', 'SRR9257626': 'Primary-neurons', 'SRR9257627': 'Primary-neurons', 'SRR9257637': 'Primary-neurons', 'SRR9257638': 'Primary-neurons', 'SRR9257639': 'Primary-neurons', 'SRR9257640': 'Primary-neurons', 'SRR9257641': 'Primary-neurons', 'SRR9257642': 'Primary-neurons', 'SRR9257643': 'Primary-neurons', 'SRR9257644': 'Primary-neurons', 'SRR9257645': 'Primary-neurons', 'SRR11684069': 'cortical-brain-organoids', 'SRR11684070': 'cortical-brain-organoids', 'SRR11684071': 'cortical-brain-organoids', 'SRR11684072': 'cortical-brain-organoids', 'SRR11684073': 'cortical-brain-organoids', 'SRR11684074': 'cortical-brain-organoids', 'SRR10761036': 'MM.1S-myeloma-cell-line', 'SRR10761037': 'MM.1S-myeloma-cell-line', 'SRR10761038': 'MM.1S-myeloma-cell-line', 'SRR1061343': 'neuronal-aggregates-day-50-derived-from-induced-pluripotent-stem-cells', 'SRR1061344': 'neuronal-aggregates-day-50-derived-from-induced-pluripotent-stem-cells', 'SRR11195423': 'K562', 'SRR11195425': 'K562', 'SRR11195422': 'K562', 'SRR11195424': 'K562', 'SRR11195426': 'K562', 'SRR11195427': 'K562', 'SRR11195428': 'K562', 'SRR11195429': 'K562', 'SRR11195431': 'K562', 'SRR11195433': 'K562', 'SRR11195430': 'K562', 'SRR11195432': 'K562', 'SRR8334015': 'K562', 'SRR8334016': 'K562', 'SRR8334017': 'K562', 'SRR8334018': 'K562', 'SRR8334021': 'K562', 'SRR8334022': 'K562', 'SRR8334023': 'K562', 'SRR8334024': 'K562', 'SRR8334027': 'K562', 'SRR8334028': 'K562', 'SRR8334029': 'K562', 'SRR8334030': 'K562', 'SRR8334035': \"Raji-Burkitt's-B-lymphoma-cells-CDK9as\", 'SRR8334036': \"Raji-Burkitt's-B-lymphoma-cells-CDK9as\", 'SRR8334037': \"Raji-Burkitt's-B-lymphoma-cells-CDK9as\", 'SRR8334038': \"Raji-Burkitt's-B-lymphoma-cells-CDK9as\", 'SRR10953094': 'K562-erythroleukemia-cells', 'SRR10953095': 'K562-erythroleukemia-cells', 'SRR10953096': 'K562-erythroleukemia-cells', 'SRR10953097': 'K562-erythroleukemia-cells', 'SRR10953098': 'K562-erythroleukemia-cells', 'SRR8669175': 'K562', 'SRR8669176': 'K562', 'SRR8669177': 'K562', 'SRR8669167': 'K562', 'SRR8669168': 'K562', 'SRR8669169': 'K562', 'SRR8669170': 'K562', 'SRR8669171': 'K562', 'SRR12267715': 'K562', 'SRR12267716': 'K562', 'SRR12267717': 'K562', 'SRR12267718': 'K562', 'SRR12267719': 'K562', 'SRR12267720': 'K562', 'SRR12267721': 'K562', 'SRR12267722': 'K562', 'SRR13436390': 'SW620', 'SRR13436391': 'SW620', 'SRR13436392': 'SW620', 'SRR13436393': 'SW620', 'SRR13436394': 'SW620', 'SRR13436395': 'SW620', 'SRR13436396': 'SW620', 'SRR13436397': 'SW620', 'SRR13436398': 'SW620', 'SRR13436399': 'SW620', 'SRR13436400': 'SW620', 'SRR13436401': 'SW620', 'SRR13510258': 'MRC5-VA', 'SRR13510259': 'MRC5-VA', 'SRR13510260': 'MRC5-VA', 'SRR13510262': 'MRC5-VA', 'SRR13510263': 'MRC5-VA', 'SRR13510264': 'MRC5-VA', 'SRR13510285': 'MRC5-VA', 'SRR13510286': 'MRC5-VA', 'SRR13510287': 'MRC5-VA', 'SRR13510288': 'MRC5-VA', 'SRR13510289': 'MRC5-VA', 'SRR13510290': 'MRC5-VA', 'SRR13510291': 'MRC5-VA', 'SRR13510292': 'MRC5-VA', 'SRR13510293': 'MRC5-VA', 'SRR13510294': 'MRC5-VA', 'SRR13510331': 'MRC5-VA', 'SRR13510332': 'MRC5-VA', 'SRR13510333': 'MRC5-VA', 'SRR13510334': 'MRC5-VA', 'SRR13510335': 'MRC5-VA', 'SRR13510336': 'MRC5-VA', 'SRR13510337': 'MRC5-VA', 'SRR13510338': 'MRC5-VA', 'SRR13510339': 'MRC5-VA', 'SRR13510340': 'MRC5-VA', 'SRR13510341': 'MRC5-VA', 'SRR13510342': 'MRC5-VA', 'SRR13510254': 'MRC5-VA', 'SRR13510256': 'MRC5-VA', 'SRR18248312': 'MRC5-VA-cell-line', 'SRR18248316': 'MRC5-VA-cell-line', 'SRR18248314': 'MRC5-VA-cell-line', 'SRR18248318': 'MRC5-VA-cell-line', 'SRR17038288': 'MRC5-VA_CPSF3-dTAG-HA', 'SRR17038289': 'MRC5-VA_CPSF3-dTAG-HA', 'SRR17038292': 'MRC5-VA_CPSF3-dTAG-HA', 'SRR17038293': 'MRC5-VA_CPSF3-dTAG-HA', 'SRR17038296': 'MRC5-VA_CPSF3-dTAG-HA', 'SRR17038297': 'MRC5-VA_CPSF3-dTAG-HA', 'SRR17038300': 'MRC5-VA_CPSF3-dTAG-HA', 'SRR17038301': 'MRC5-VA_CPSF3-dTAG-HA', 'SRR17038304': 'MRC5-VA_CPSF3-dTAG-HA', 'SRR17038305': 'MRC5-VA_CPSF3-dTAG-HA', 'SRR17038308': 'MRC5-VA_CPSF3-dTAG-HA', 'SRR17038309': 'MRC5-VA_CPSF3-dTAG-HA', 'SRR13510346': 'MRC5-VA', 'SRR13510347': 'MRC5-VA', 'SRR13510348': 'MRC5-VA', 'SRR18248916': 'MRC5-VA-cell-line', 'SRR18248920': 'MRC5-VA-cell-line', 'SRR18248924': 'MRC5-VA-cell-line', 'SRR18248914': 'MRC5-VA-cell-line', 'SRR18248918': 'MRC5-VA-cell-line', 'SRR18248922': 'MRC5-VA-cell-line', 'SRR5756320': 'human-foreskin-fibroblasts', 'SRR5756321': 'human-foreskin-fibroblasts', 'SRR5756322': 'human-foreskin-fibroblasts', 'SRR5756323': 'human-foreskin-fibroblasts', 'SRR5756324': 'human-foreskin-fibroblasts', 'SRR5756325': 'human-foreskin-fibroblasts', 'SRR5756326': 'human-foreskin-fibroblasts', 'SRR5756327': 'human-foreskin-fibroblasts', 'SRR5756344': 'human-foreskin-fibroblasts', 'SRR5756345': 'human-foreskin-fibroblasts', 'SRR5756346': 'human-foreskin-fibroblasts', 'SRR5756347': 'human-foreskin-fibroblasts', 'SRR5756348': 'human-foreskin-fibroblasts', 'SRR5756349': 'human-foreskin-fibroblasts', 'SRR5756350': 'human-foreskin-fibroblasts', 'SRR5756351': 'human-foreskin-fibroblasts', 'SRR3000786': 'HEPG2-cell', 'SRR3000787': 'HEPG2-cell', 'SRR5749642': 'colorectal-cancer-cell-line-HCT116', 'SRR5749643': 'colorectal-cancer-cell-line-HCT116', 'SRR5749644': 'colorectal-cancer-cell-line-HCT116', 'SRR5749645': 'colorectal-cancer-cell-line-HCT116', 'SRR5749646': 'colorectal-cancer-cell-line-HCT116', 'SRR5749647': 'colorectal-cancer-cell-line-HCT116'}\n"
     ]
    },
    {
     "data": {
      "text/html": [
       "<div><style>\n",
       ".dataframe > thead > tr,\n",
       ".dataframe > tbody > tr {\n",
       "  text-align: right;\n",
       "  white-space: pre-wrap;\n",
       "}\n",
       "</style>\n",
       "<small>shape: (19_705, 323)</small><table border=\"1\" class=\"dataframe\"><thead><tr><th>GENEID</th><th>human-lung-fibroblasts-WI38-cell</th><th>human-lung-fibroblasts-WI38-cell_1</th><th>human-lung-fibroblasts-WI38-cell_2</th><th>human-lung-fibroblasts-WI38-cell_3</th><th>MCF7-mammary-gland-cell-culture</th><th>OCI-Ly1OCI-Ly1-diffuse-B-cell-lymphoma-cells</th><th>OCI-Ly1OCI-Ly1-diffuse-B-cell-lymphoma-cells_1</th><th>OCI-Ly1OCI-Ly1-diffuse-B-cell-lymphoma-cells_2</th><th>HEK293-cells</th><th>HEK293-cells_1</th><th>HEK293-cells_2</th><th>U2OS</th><th>U2OS_1</th><th>U2OS_2</th><th>U2OS_3</th><th>U2OS_4</th><th>U2OS_5</th><th>U2OS_6</th><th>U2OS_7</th><th>U2OS_8</th><th>U2OS_9</th><th>U2OS_10</th><th>U2OS_11</th><th>Colorectal-adenocarcinoma-DLD-1</th><th>Colorectal-adenocarcinoma-DLD-1_1</th><th>Colorectal-adenocarcinoma-DLD-1_2</th><th>Colorectal-adenocarcinoma-DLD-1_3</th><th>Colorectal-adenocarcinoma-DLD-1-cell-line</th><th>Colorectal-adenocarcinoma-DLD-1-cell-line_1</th><th>Colorectal-adenocarcinoma-DLD-1-cell-line_2</th><th>Colorectal-adenocarcinoma-DLD-1-cell-line_3</th><th>Colorectal-adenocarcinoma-DLD-1-cell-line_4</th><th>Colorectal-adenocarcinoma-DLD-1-cell-line_5</th><th>Colorectal-adenocarcinoma-DLD-1-cell-line_6</th><th>Colorectal-adenocarcinoma-DLD-1-cell-line_7</th><th>Colorectal-adenocarcinoma-DLD-1-cell-line_8</th><th>&hellip;</th><th>K562_26</th><th>K562_27</th><th>K562_28</th><th>K562_29</th><th>K562_30</th><th>K562_31</th><th>K562_32</th><th>K562_33</th><th>K562_34</th><th>K562_35</th><th>K562_36</th><th>K562_37</th><th>K562_38</th><th>K562_39</th><th>DLD-1-Colorectal-adenocarcinoma</th><th>DLD-1-Colorectal-adenocarcinoma_1</th><th>DLD-1-Colorectal-adenocarcinoma_2</th><th>DLD-1-Colorectal-adenocarcinoma_3</th><th>DLD-1-Colorectal-adenocarcinoma_4</th><th>DLD-1-Colorectal-adenocarcinoma_5</th><th>DLD-1-Colorectal-adenocarcinoma_6</th><th>DLD-1-Colorectal-adenocarcinoma_7</th><th>Primary-neurons_9</th><th>Primary-neurons_10</th><th>Primary-neurons_11</th><th>Primary-neurons_12</th><th>Primary-neurons_13</th><th>Primary-neurons_14</th><th>Primary-neurons_15</th><th>Primary-neurons_16</th><th>Primary-neurons_17</th><th>HeLa-cell-line_11</th><th>HeLa-cell-line_12</th><th>HeLa-cell-line_13</th><th>HeLa-cell-line_14</th><th>HeLa-cell-line_15</th><th>HeLa-cell-line_16</th></tr><tr><td>str</td><td>f64</td><td>f64</td><td>f64</td><td>f64</td><td>f64</td><td>f64</td><td>f64</td><td>f64</td><td>f64</td><td>f64</td><td>f64</td><td>f64</td><td>f64</td><td>f64</td><td>f64</td><td>f64</td><td>f64</td><td>f64</td><td>f64</td><td>f64</td><td>f64</td><td>f64</td><td>f64</td><td>f64</td><td>f64</td><td>f64</td><td>f64</td><td>f64</td><td>f64</td><td>f64</td><td>f64</td><td>f64</td><td>f64</td><td>f64</td><td>f64</td><td>f64</td><td>&hellip;</td><td>f64</td><td>f64</td><td>f64</td><td>f64</td><td>f64</td><td>f64</td><td>f64</td><td>f64</td><td>f64</td><td>f64</td><td>f64</td><td>f64</td><td>f64</td><td>f64</td><td>f64</td><td>f64</td><td>f64</td><td>f64</td><td>f64</td><td>f64</td><td>f64</td><td>f64</td><td>f64</td><td>f64</td><td>f64</td><td>f64</td><td>f64</td><td>f64</td><td>f64</td><td>f64</td><td>f64</td><td>f64</td><td>f64</td><td>f64</td><td>f64</td><td>f64</td><td>f64</td></tr></thead><tbody><tr><td>&quot;A1BG&quot;</td><td>0.937577</td><td>0.90506</td><td>1.173431</td><td>0.951361</td><td>1.616084</td><td>1.587653</td><td>0.839417</td><td>0.707164</td><td>0.688915</td><td>0.807707</td><td>1.471826</td><td>1.149646</td><td>0.798949</td><td>0.84431</td><td>1.712014</td><td>1.676753</td><td>1.846766</td><td>0.763887</td><td>1.234583</td><td>1.154575</td><td>1.011787</td><td>1.123454</td><td>1.112957</td><td>0.292599</td><td>0.321263</td><td>0.486943</td><td>0.073171</td><td>3.063478</td><td>2.28231</td><td>2.732027</td><td>3.178165</td><td>2.342507</td><td>3.078054</td><td>0.913205</td><td>0.514791</td><td>1.535367</td><td>&hellip;</td><td>1.055852</td><td>0.874469</td><td>0.915239</td><td>0.7175</td><td>0.570618</td><td>1.264522</td><td>0.620855</td><td>1.955397</td><td>0.940095</td><td>1.337046</td><td>1.247015</td><td>0.376148</td><td>0.457872</td><td>3.581084</td><td>1.657477</td><td>1.321662</td><td>1.52167</td><td>1.234285</td><td>2.485797</td><td>1.422377</td><td>1.261323</td><td>0.989173</td><td>13.181142</td><td>12.866995</td><td>4.647388</td><td>4.738236</td><td>3.773852</td><td>0.150518</td><td>3.972351</td><td>1.388637</td><td>0.267622</td><td>1.0</td><td>1.0</td><td>1.0</td><td>1.0</td><td>1.0</td><td>0.497684</td></tr><tr><td>&quot;A1CF&quot;</td><td>1.274827</td><td>1.0</td><td>1.0</td><td>1.0</td><td>1.578923</td><td>1.121376</td><td>1.125679</td><td>1.256608</td><td>0.867105</td><td>0.542718</td><td>1.223959</td><td>1.0</td><td>1.0</td><td>1.0</td><td>1.0</td><td>1.0</td><td>1.0</td><td>1.0</td><td>0.586528</td><td>1.0</td><td>1.224989</td><td>1.0</td><td>1.399655</td><td>1.183906</td><td>1.091216</td><td>1.0</td><td>0.851463</td><td>1.310149</td><td>1.386457</td><td>1.153764</td><td>1.0</td><td>1.0</td><td>1.0</td><td>0.698847</td><td>0.756844</td><td>1.159212</td><td>&hellip;</td><td>1.223524</td><td>0.989329</td><td>0.792394</td><td>0.905015</td><td>0.585017</td><td>1.272624</td><td>1.0</td><td>1.0</td><td>1.0</td><td>1.0</td><td>0.791308</td><td>1.0</td><td>1.0</td><td>1.0</td><td>0.942851</td><td>1.179185</td><td>1.37652</td><td>1.02926</td><td>2.009493</td><td>1.353698</td><td>1.637286</td><td>1.594538</td><td>1.0</td><td>1.0</td><td>1.29248</td><td>1.190399</td><td>1.0</td><td>1.0</td><td>1.0</td><td>1.0</td><td>1.0</td><td>0.939182</td><td>1.0</td><td>1.052121</td><td>1.029972</td><td>1.0</td><td>1.0</td></tr><tr><td>&quot;A2M&quot;</td><td>0.954195</td><td>1.51097</td><td>1.340899</td><td>0.80041</td><td>2.867888</td><td>0.271588</td><td>1.02782</td><td>0.628021</td><td>0.646622</td><td>1.0</td><td>1.005016</td><td>0.947077</td><td>1.089874</td><td>1.046784</td><td>0.677007</td><td>0.429218</td><td>0.609098</td><td>1.001065</td><td>1.211348</td><td>1.411006</td><td>0.910106</td><td>0.946108</td><td>0.995809</td><td>0.990289</td><td>0.273583</td><td>0.782319</td><td>0.650255</td><td>1.087229</td><td>1.106072</td><td>3.679514</td><td>0.594014</td><td>1.751522</td><td>0.956616</td><td>0.712692</td><td>0.383038</td><td>0.613275</td><td>&hellip;</td><td>0.194784</td><td>1.0</td><td>1.0</td><td>1.327662</td><td>1.0</td><td>1.0</td><td>1.0</td><td>1.0</td><td>1.0</td><td>1.0</td><td>1.0</td><td>1.0</td><td>1.0</td><td>1.0</td><td>2.959312</td><td>2.021674</td><td>3.649038</td><td>2.879714</td><td>3.012148</td><td>2.617056</td><td>1.4001</td><td>1.383961</td><td>5.827531</td><td>2.253959</td><td>12.03367</td><td>1.0</td><td>1.31163</td><td>1.0</td><td>4.28526</td><td>1.0</td><td>1.0</td><td>1.0</td><td>1.0</td><td>1.0</td><td>0.875078</td><td>2.271058</td><td>1.53053</td></tr><tr><td>&quot;A2ML1&quot;</td><td>1.078959</td><td>0.649897</td><td>0.789869</td><td>1.665942</td><td>2.674006</td><td>8.02823</td><td>3.515341</td><td>9.282938</td><td>0.929338</td><td>0.266727</td><td>1.754628</td><td>1.319572</td><td>2.897818</td><td>0.788736</td><td>2.818427</td><td>1.0</td><td>1.258707</td><td>0.966987</td><td>0.422454</td><td>1.879011</td><td>2.163199</td><td>0.642082</td><td>0.847668</td><td>0.530445</td><td>0.383827</td><td>0.258035</td><td>0.483833</td><td>3.024432</td><td>2.098743</td><td>2.784293</td><td>3.490833</td><td>1.084658</td><td>1.133235</td><td>0.25024</td><td>0.592231</td><td>1.586447</td><td>&hellip;</td><td>0.816836</td><td>0.780251</td><td>0.862604</td><td>1.054037</td><td>2.224936</td><td>1.060465</td><td>0.562087</td><td>5.225291</td><td>1.755832</td><td>1.573719</td><td>4.401472</td><td>0.18992</td><td>0.542405</td><td>0.394882</td><td>1.736568</td><td>2.135459</td><td>0.987405</td><td>1.331055</td><td>1.553919</td><td>0.814692</td><td>0.908963</td><td>0.885327</td><td>1.291847</td><td>2.489293</td><td>11.505186</td><td>0.566719</td><td>1.0</td><td>1.0</td><td>0.795947</td><td>1.0</td><td>1.0</td><td>1.0</td><td>1.0</td><td>1.0</td><td>2.026651</td><td>1.0</td><td>1.0</td></tr><tr><td>&quot;A3GALT2&quot;</td><td>1.0</td><td>1.0</td><td>1.0</td><td>1.0</td><td>0.924578</td><td>1.0</td><td>1.0</td><td>0.468382</td><td>0.600246</td><td>0.241123</td><td>0.645082</td><td>1.0</td><td>2.618471</td><td>1.0</td><td>1.0</td><td>1.0</td><td>1.0</td><td>1.0</td><td>1.0</td><td>1.0</td><td>1.0</td><td>1.0</td><td>1.0</td><td>1.423799</td><td>2.104981</td><td>3.736439</td><td>0.276808</td><td>0.190093</td><td>6.835402</td><td>1.0</td><td>0.431012</td><td>2.228254</td><td>0.207173</td><td>1.0</td><td>1.008048</td><td>2.337433</td><td>&hellip;</td><td>1.544663</td><td>1.0</td><td>1.0</td><td>1.0</td><td>1.0</td><td>1.0</td><td>1.0</td><td>1.0</td><td>1.0</td><td>0.438702</td><td>1.0</td><td>1.0</td><td>1.0</td><td>1.0</td><td>0.554351</td><td>0.504145</td><td>0.983104</td><td>0.375045</td><td>1.990537</td><td>0.300613</td><td>0.218732</td><td>0.37912</td><td>1.0</td><td>1.0</td><td>3.475124</td><td>9.065566</td><td>1.0</td><td>1.0</td><td>1.0</td><td>1.0</td><td>1.0</td><td>1.0</td><td>1.0</td><td>1.0</td><td>1.0</td><td>1.0</td><td>1.0</td></tr><tr><td>&hellip;</td><td>&hellip;</td><td>&hellip;</td><td>&hellip;</td><td>&hellip;</td><td>&hellip;</td><td>&hellip;</td><td>&hellip;</td><td>&hellip;</td><td>&hellip;</td><td>&hellip;</td><td>&hellip;</td><td>&hellip;</td><td>&hellip;</td><td>&hellip;</td><td>&hellip;</td><td>&hellip;</td><td>&hellip;</td><td>&hellip;</td><td>&hellip;</td><td>&hellip;</td><td>&hellip;</td><td>&hellip;</td><td>&hellip;</td><td>&hellip;</td><td>&hellip;</td><td>&hellip;</td><td>&hellip;</td><td>&hellip;</td><td>&hellip;</td><td>&hellip;</td><td>&hellip;</td><td>&hellip;</td><td>&hellip;</td><td>&hellip;</td><td>&hellip;</td><td>&hellip;</td><td>&hellip;</td><td>&hellip;</td><td>&hellip;</td><td>&hellip;</td><td>&hellip;</td><td>&hellip;</td><td>&hellip;</td><td>&hellip;</td><td>&hellip;</td><td>&hellip;</td><td>&hellip;</td><td>&hellip;</td><td>&hellip;</td><td>&hellip;</td><td>&hellip;</td><td>&hellip;</td><td>&hellip;</td><td>&hellip;</td><td>&hellip;</td><td>&hellip;</td><td>&hellip;</td><td>&hellip;</td><td>&hellip;</td><td>&hellip;</td><td>&hellip;</td><td>&hellip;</td><td>&hellip;</td><td>&hellip;</td><td>&hellip;</td><td>&hellip;</td><td>&hellip;</td><td>&hellip;</td><td>&hellip;</td><td>&hellip;</td><td>&hellip;</td><td>&hellip;</td><td>&hellip;</td><td>&hellip;</td></tr><tr><td>&quot;ZYG11A&quot;</td><td>0.760432</td><td>0.90972</td><td>0.482176</td><td>0.646283</td><td>1.120735</td><td>2.408908</td><td>1.034067</td><td>0.755074</td><td>0.604657</td><td>0.607964</td><td>1.382059</td><td>0.612471</td><td>0.409946</td><td>1.490661</td><td>1.507307</td><td>1.526816</td><td>1.278565</td><td>1.721409</td><td>0.745006</td><td>1.722773</td><td>0.546426</td><td>1.0</td><td>0.549854</td><td>2.344186</td><td>0.987672</td><td>0.985149</td><td>1.199512</td><td>2.077155</td><td>2.860117</td><td>6.607882</td><td>6.350941</td><td>1.514848</td><td>3.484745</td><td>1.608752</td><td>0.880592</td><td>3.963308</td><td>&hellip;</td><td>0.634232</td><td>0.769466</td><td>1.218275</td><td>0.581178</td><td>0.921919</td><td>0.593844</td><td>0.808638</td><td>1.953056</td><td>1.077879</td><td>0.944505</td><td>0.697017</td><td>0.461245</td><td>0.759762</td><td>3.481196</td><td>2.322876</td><td>1.777149</td><td>1.604377</td><td>1.41541</td><td>2.517491</td><td>1.633585</td><td>0.922767</td><td>1.562987</td><td>2.005379</td><td>1.312277</td><td>9.804846</td><td>0.376821</td><td>1.015526</td><td>1.359665</td><td>0.376821</td><td>0.726672</td><td>1.0</td><td>1.481506</td><td>2.38603</td><td>0.452458</td><td>0.905474</td><td>0.76999</td><td>0.698244</td></tr><tr><td>&quot;ZYG11B&quot;</td><td>0.787264</td><td>0.721801</td><td>1.000042</td><td>0.542887</td><td>1.15705</td><td>1.273877</td><td>0.872713</td><td>0.699073</td><td>0.654058</td><td>0.98426</td><td>1.811664</td><td>0.703586</td><td>0.682304</td><td>1.093947</td><td>0.634874</td><td>0.808489</td><td>0.921976</td><td>1.169216</td><td>1.011782</td><td>0.772203</td><td>0.815508</td><td>0.642698</td><td>1.099493</td><td>0.219264</td><td>0.237329</td><td>0.28538</td><td>0.334179</td><td>0.524833</td><td>0.612746</td><td>0.514175</td><td>1.005127</td><td>0.338099</td><td>0.321614</td><td>0.271319</td><td>0.27108</td><td>0.557372</td><td>&hellip;</td><td>0.768027</td><td>0.717909</td><td>1.826155</td><td>0.832019</td><td>1.054511</td><td>0.905457</td><td>0.637391</td><td>2.710073</td><td>1.721361</td><td>1.703952</td><td>0.867737</td><td>0.30671</td><td>0.747562</td><td>1.199228</td><td>1.958943</td><td>1.021002</td><td>1.384736</td><td>1.234992</td><td>2.21848</td><td>1.114654</td><td>1.143967</td><td>1.250457</td><td>14.041012</td><td>7.693702</td><td>36.173985</td><td>2.60621</td><td>3.522928</td><td>1.0</td><td>3.525577</td><td>0.732377</td><td>1.0</td><td>1.302668</td><td>1.473649</td><td>0.801247</td><td>0.990479</td><td>1.276938</td><td>0.965806</td></tr><tr><td>&quot;ZYX&quot;</td><td>0.801273</td><td>0.900931</td><td>1.045951</td><td>1.061333</td><td>1.63189</td><td>1.23213</td><td>0.88231</td><td>0.693453</td><td>1.202578</td><td>2.086475</td><td>1.136144</td><td>1.369482</td><td>1.341719</td><td>1.177075</td><td>1.18195</td><td>1.411436</td><td>1.219352</td><td>1.47073</td><td>1.474303</td><td>1.450496</td><td>1.433993</td><td>1.300796</td><td>1.393609</td><td>0.4302</td><td>0.470476</td><td>0.455365</td><td>0.377915</td><td>0.5663</td><td>0.634255</td><td>0.590979</td><td>1.430396</td><td>0.645445</td><td>0.652239</td><td>0.602062</td><td>0.570238</td><td>0.837137</td><td>&hellip;</td><td>0.627572</td><td>1.036695</td><td>2.073565</td><td>0.626066</td><td>0.982648</td><td>0.78442</td><td>1.054457</td><td>5.078602</td><td>0.887923</td><td>1.272976</td><td>1.074504</td><td>0.163144</td><td>0.840517</td><td>1.624301</td><td>0.757383</td><td>1.719979</td><td>1.247576</td><td>0.620428</td><td>1.268908</td><td>0.958509</td><td>0.9697</td><td>0.718103</td><td>50.104419</td><td>32.571301</td><td>115.658358</td><td>26.252466</td><td>23.755423</td><td>1.0</td><td>22.843448</td><td>1.0</td><td>1.0</td><td>1.989758</td><td>3.08111</td><td>0.651634</td><td>0.97358</td><td>0.940957</td><td>0.801653</td></tr><tr><td>&quot;ZZEF1&quot;</td><td>0.919589</td><td>1.146141</td><td>2.152184</td><td>1.007932</td><td>2.294421</td><td>1.007538</td><td>0.986618</td><td>0.461906</td><td>1.294873</td><td>1.825901</td><td>1.05786</td><td>0.999205</td><td>1.194219</td><td>1.29369</td><td>0.905201</td><td>1.03447</td><td>0.919169</td><td>1.131786</td><td>1.227852</td><td>1.150654</td><td>1.737255</td><td>1.460837</td><td>1.399425</td><td>0.568536</td><td>0.496137</td><td>0.749759</td><td>0.406324</td><td>1.053142</td><td>1.134135</td><td>1.095128</td><td>1.90198</td><td>0.582836</td><td>1.143827</td><td>0.739975</td><td>0.739299</td><td>1.159355</td><td>&hellip;</td><td>0.647503</td><td>0.68197</td><td>1.526737</td><td>0.757535</td><td>0.545729</td><td>1.118703</td><td>0.639044</td><td>6.140426</td><td>0.992778</td><td>1.462777</td><td>0.852205</td><td>0.735665</td><td>0.526138</td><td>1.750067</td><td>1.569269</td><td>0.694785</td><td>0.426702</td><td>1.159175</td><td>2.761577</td><td>1.099791</td><td>0.539942</td><td>0.436251</td><td>9.239689</td><td>7.112839</td><td>32.04141</td><td>3.874823</td><td>4.449371</td><td>1.0</td><td>2.81454</td><td>1.262472</td><td>1.0</td><td>1.895826</td><td>1.884423</td><td>1.012679</td><td>1.285301</td><td>1.456858</td><td>0.92231</td></tr><tr><td>&quot;ZZZ3&quot;</td><td>1.047701</td><td>1.043861</td><td>1.133138</td><td>0.843305</td><td>1.712004</td><td>1.156953</td><td>1.115583</td><td>0.664913</td><td>1.120227</td><td>2.973859</td><td>0.850993</td><td>1.4233</td><td>1.42536</td><td>1.349061</td><td>1.097968</td><td>1.057514</td><td>1.057043</td><td>1.309387</td><td>1.746651</td><td>1.518919</td><td>1.408888</td><td>1.189753</td><td>1.685881</td><td>0.418546</td><td>0.564546</td><td>0.622219</td><td>0.556974</td><td>1.281306</td><td>1.511828</td><td>1.078608</td><td>2.669254</td><td>0.958292</td><td>0.789736</td><td>0.540575</td><td>0.643909</td><td>1.327596</td><td>&hellip;</td><td>0.991778</td><td>0.688527</td><td>1.519253</td><td>0.624951</td><td>1.308709</td><td>1.265043</td><td>0.264633</td><td>1.637494</td><td>1.258113</td><td>0.77994</td><td>0.979403</td><td>0.208512</td><td>0.463468</td><td>1.947818</td><td>0.427837</td><td>0.223754</td><td>0.465928</td><td>0.500479</td><td>0.800534</td><td>0.43548</td><td>0.457267</td><td>0.537778</td><td>5.847224</td><td>2.448251</td><td>12.816169</td><td>2.450402</td><td>2.879636</td><td>1.0</td><td>1.0</td><td>1.0</td><td>1.0</td><td>3.222935</td><td>3.395541</td><td>0.816406</td><td>1.424926</td><td>1.308535</td><td>0.989775</td></tr></tbody></table></div>"
      ],
      "text/plain": [
       "shape: (19_705, 323)\n",
       "┌─────────┬────────────┬───────────┬───────────┬───┬───────────┬───────────┬───────────┬───────────┐\n",
       "│ GENEID  ┆ human-lung ┆ human-lun ┆ human-lun ┆ … ┆ HeLa-cell ┆ HeLa-cell ┆ HeLa-cell ┆ HeLa-cell │\n",
       "│ ---     ┆ -fibroblas ┆ g-fibrobl ┆ g-fibrobl ┆   ┆ -line_13  ┆ -line_14  ┆ -line_15  ┆ -line_16  │\n",
       "│ str     ┆ ts-WI38-ce ┆ asts-WI38 ┆ asts-WI38 ┆   ┆ ---       ┆ ---       ┆ ---       ┆ ---       │\n",
       "│         ┆ …          ┆ -ce…      ┆ -ce…      ┆   ┆ f64       ┆ f64       ┆ f64       ┆ f64       │\n",
       "│         ┆ ---        ┆ ---       ┆ ---       ┆   ┆           ┆           ┆           ┆           │\n",
       "│         ┆ f64        ┆ f64       ┆ f64       ┆   ┆           ┆           ┆           ┆           │\n",
       "╞═════════╪════════════╪═══════════╪═══════════╪═══╪═══════════╪═══════════╪═══════════╪═══════════╡\n",
       "│ A1BG    ┆ 0.937577   ┆ 0.90506   ┆ 1.173431  ┆ … ┆ 1.0       ┆ 1.0       ┆ 1.0       ┆ 0.497684  │\n",
       "│ A1CF    ┆ 1.274827   ┆ 1.0       ┆ 1.0       ┆ … ┆ 1.052121  ┆ 1.029972  ┆ 1.0       ┆ 1.0       │\n",
       "│ A2M     ┆ 0.954195   ┆ 1.51097   ┆ 1.340899  ┆ … ┆ 1.0       ┆ 0.875078  ┆ 2.271058  ┆ 1.53053   │\n",
       "│ A2ML1   ┆ 1.078959   ┆ 0.649897  ┆ 0.789869  ┆ … ┆ 1.0       ┆ 2.026651  ┆ 1.0       ┆ 1.0       │\n",
       "│ A3GALT2 ┆ 1.0        ┆ 1.0       ┆ 1.0       ┆ … ┆ 1.0       ┆ 1.0       ┆ 1.0       ┆ 1.0       │\n",
       "│ …       ┆ …          ┆ …         ┆ …         ┆ … ┆ …         ┆ …         ┆ …         ┆ …         │\n",
       "│ ZYG11A  ┆ 0.760432   ┆ 0.90972   ┆ 0.482176  ┆ … ┆ 0.452458  ┆ 0.905474  ┆ 0.76999   ┆ 0.698244  │\n",
       "│ ZYG11B  ┆ 0.787264   ┆ 0.721801  ┆ 1.000042  ┆ … ┆ 0.801247  ┆ 0.990479  ┆ 1.276938  ┆ 0.965806  │\n",
       "│ ZYX     ┆ 0.801273   ┆ 0.900931  ┆ 1.045951  ┆ … ┆ 0.651634  ┆ 0.97358   ┆ 0.940957  ┆ 0.801653  │\n",
       "│ ZZEF1   ┆ 0.919589   ┆ 1.146141  ┆ 2.152184  ┆ … ┆ 1.012679  ┆ 1.285301  ┆ 1.456858  ┆ 0.92231   │\n",
       "│ ZZZ3    ┆ 1.047701   ┆ 1.043861  ┆ 1.133138  ┆ … ┆ 0.816406  ┆ 1.424926  ┆ 1.308535  ┆ 0.989775  │\n",
       "└─────────┴────────────┴───────────┴───────────┴───┴───────────┴───────────┴───────────┴───────────┘"
      ]
     },
     "metadata": {},
     "output_type": "display_data"
    }
   ],
   "source": [
    "rename_dict = dict(\n",
    "    zip(\n",
    "        metadata['Source of Stress (Condition)'], metadata['Cell-line(type)']\n",
    "    )\n",
    ")\n",
    "\n",
    "print(rename_dict)\n",
    "\n",
    "# change the column name based on the rename_dict\n",
    "new_columns = []\n",
    "seen = set()\n",
    "for col in HNratio.columns:\n",
    "    new_col = rename_dict.get(col, col)\n",
    "    if new_col in seen:\n",
    "        suffix = 1\n",
    "        while f\"{new_col}_{suffix}\" in seen:\n",
    "            suffix += 1\n",
    "        new_col = f\"{new_col}_{suffix}\"\n",
    "    seen.add(new_col)\n",
    "    new_columns.append(new_col)\n",
    "\n",
    "HNratio = HNratio.rename(\n",
    "    dict(\n",
    "        zip(\n",
    "            HNratio.columns, new_columns\n",
    "        )\n",
    "    )\n",
    ")\n",
    "\n",
    "display(HNratio)"
   ]
  },
  {
   "cell_type": "code",
   "execution_count": 7,
   "metadata": {},
   "outputs": [
    {
     "data": {
      "text/html": [
       "<div><style>\n",
       ".dataframe > thead > tr,\n",
       ".dataframe > tbody > tr {\n",
       "  text-align: right;\n",
       "  white-space: pre-wrap;\n",
       "}\n",
       "</style>\n",
       "<small>shape: (19_705, 323)</small><table border=\"1\" class=\"dataframe\"><thead><tr><th>GENEID</th><th>human-lung-fibroblasts-WI38-cell</th><th>human-lung-fibroblasts-WI38-cell_1</th><th>human-lung-fibroblasts-WI38-cell_2</th><th>human-lung-fibroblasts-WI38-cell_3</th><th>MCF7-mammary-gland-cell-culture</th><th>OCI-Ly1OCI-Ly1-diffuse-B-cell-lymphoma-cells</th><th>OCI-Ly1OCI-Ly1-diffuse-B-cell-lymphoma-cells_1</th><th>OCI-Ly1OCI-Ly1-diffuse-B-cell-lymphoma-cells_2</th><th>HEK293-cells</th><th>HEK293-cells_1</th><th>HEK293-cells_2</th><th>U2OS</th><th>U2OS_1</th><th>U2OS_2</th><th>U2OS_3</th><th>U2OS_4</th><th>U2OS_5</th><th>U2OS_6</th><th>U2OS_7</th><th>U2OS_8</th><th>U2OS_9</th><th>U2OS_10</th><th>U2OS_11</th><th>Colorectal-adenocarcinoma-DLD-1</th><th>Colorectal-adenocarcinoma-DLD-1_1</th><th>Colorectal-adenocarcinoma-DLD-1_2</th><th>Colorectal-adenocarcinoma-DLD-1_3</th><th>Colorectal-adenocarcinoma-DLD-1-cell-line</th><th>Colorectal-adenocarcinoma-DLD-1-cell-line_1</th><th>Colorectal-adenocarcinoma-DLD-1-cell-line_2</th><th>Colorectal-adenocarcinoma-DLD-1-cell-line_3</th><th>Colorectal-adenocarcinoma-DLD-1-cell-line_4</th><th>Colorectal-adenocarcinoma-DLD-1-cell-line_5</th><th>Colorectal-adenocarcinoma-DLD-1-cell-line_6</th><th>Colorectal-adenocarcinoma-DLD-1-cell-line_7</th><th>Colorectal-adenocarcinoma-DLD-1-cell-line_8</th><th>&hellip;</th><th>K562_26</th><th>K562_27</th><th>K562_28</th><th>K562_29</th><th>K562_30</th><th>K562_31</th><th>K562_32</th><th>K562_33</th><th>K562_34</th><th>K562_35</th><th>K562_36</th><th>K562_37</th><th>K562_38</th><th>K562_39</th><th>DLD-1-Colorectal-adenocarcinoma</th><th>DLD-1-Colorectal-adenocarcinoma_1</th><th>DLD-1-Colorectal-adenocarcinoma_2</th><th>DLD-1-Colorectal-adenocarcinoma_3</th><th>DLD-1-Colorectal-adenocarcinoma_4</th><th>DLD-1-Colorectal-adenocarcinoma_5</th><th>DLD-1-Colorectal-adenocarcinoma_6</th><th>DLD-1-Colorectal-adenocarcinoma_7</th><th>Primary-neurons_9</th><th>Primary-neurons_10</th><th>Primary-neurons_11</th><th>Primary-neurons_12</th><th>Primary-neurons_13</th><th>Primary-neurons_14</th><th>Primary-neurons_15</th><th>Primary-neurons_16</th><th>Primary-neurons_17</th><th>HeLa-cell-line_11</th><th>HeLa-cell-line_12</th><th>HeLa-cell-line_13</th><th>HeLa-cell-line_14</th><th>HeLa-cell-line_15</th><th>HeLa-cell-line_16</th></tr><tr><td>str</td><td>str</td><td>str</td><td>str</td><td>str</td><td>str</td><td>str</td><td>str</td><td>str</td><td>str</td><td>str</td><td>str</td><td>str</td><td>str</td><td>str</td><td>str</td><td>str</td><td>str</td><td>str</td><td>str</td><td>str</td><td>str</td><td>str</td><td>str</td><td>str</td><td>str</td><td>str</td><td>str</td><td>str</td><td>str</td><td>str</td><td>str</td><td>str</td><td>str</td><td>str</td><td>str</td><td>str</td><td>&hellip;</td><td>str</td><td>str</td><td>str</td><td>str</td><td>str</td><td>str</td><td>str</td><td>str</td><td>str</td><td>str</td><td>str</td><td>str</td><td>str</td><td>str</td><td>str</td><td>str</td><td>str</td><td>str</td><td>str</td><td>str</td><td>str</td><td>str</td><td>str</td><td>str</td><td>str</td><td>str</td><td>str</td><td>str</td><td>str</td><td>str</td><td>str</td><td>str</td><td>str</td><td>str</td><td>str</td><td>str</td><td>str</td></tr></thead><tbody><tr><td>&quot;A1BG&quot;</td><td>&quot;UNCHANGED&quot;</td><td>&quot;UNCHANGED&quot;</td><td>&quot;UNCHANGED&quot;</td><td>&quot;UNCHANGED&quot;</td><td>&quot;UNCHANGED&quot;</td><td>&quot;UNCHANGED&quot;</td><td>&quot;UNCHANGED&quot;</td><td>&quot;UNCHANGED&quot;</td><td>&quot;UNCHANGED&quot;</td><td>&quot;UNCHANGED&quot;</td><td>&quot;UNCHANGED&quot;</td><td>&quot;UNCHANGED&quot;</td><td>&quot;UNCHANGED&quot;</td><td>&quot;UNCHANGED&quot;</td><td>&quot;UNCHANGED&quot;</td><td>&quot;UNCHANGED&quot;</td><td>&quot;UNCHANGED&quot;</td><td>&quot;UNCHANGED&quot;</td><td>&quot;UNCHANGED&quot;</td><td>&quot;UNCHANGED&quot;</td><td>&quot;UNCHANGED&quot;</td><td>&quot;UNCHANGED&quot;</td><td>&quot;UNCHANGED&quot;</td><td>&quot;UNCHANGED&quot;</td><td>&quot;UNCHANGED&quot;</td><td>&quot;UNCHANGED&quot;</td><td>&quot;DOWN&quot;</td><td>&quot;UNCHANGED&quot;</td><td>&quot;UNCHANGED&quot;</td><td>&quot;UNCHANGED&quot;</td><td>&quot;UNCHANGED&quot;</td><td>&quot;UNCHANGED&quot;</td><td>&quot;UNCHANGED&quot;</td><td>&quot;UNCHANGED&quot;</td><td>&quot;UNCHANGED&quot;</td><td>&quot;UNCHANGED&quot;</td><td>&hellip;</td><td>&quot;UNCHANGED&quot;</td><td>&quot;UNCHANGED&quot;</td><td>&quot;UNCHANGED&quot;</td><td>&quot;UNCHANGED&quot;</td><td>&quot;UNCHANGED&quot;</td><td>&quot;UNCHANGED&quot;</td><td>&quot;UNCHANGED&quot;</td><td>&quot;UNCHANGED&quot;</td><td>&quot;UNCHANGED&quot;</td><td>&quot;UNCHANGED&quot;</td><td>&quot;UNCHANGED&quot;</td><td>&quot;UNCHANGED&quot;</td><td>&quot;UNCHANGED&quot;</td><td>&quot;UNCHANGED&quot;</td><td>&quot;UNCHANGED&quot;</td><td>&quot;UNCHANGED&quot;</td><td>&quot;UNCHANGED&quot;</td><td>&quot;UNCHANGED&quot;</td><td>&quot;UNCHANGED&quot;</td><td>&quot;UNCHANGED&quot;</td><td>&quot;UNCHANGED&quot;</td><td>&quot;UNCHANGED&quot;</td><td>&quot;UP&quot;</td><td>&quot;UP&quot;</td><td>&quot;UNCHANGED&quot;</td><td>&quot;UNCHANGED&quot;</td><td>&quot;UNCHANGED&quot;</td><td>&quot;DOWN&quot;</td><td>&quot;UNCHANGED&quot;</td><td>&quot;UNCHANGED&quot;</td><td>&quot;UNCHANGED&quot;</td><td>&quot;UNCHANGED&quot;</td><td>&quot;UNCHANGED&quot;</td><td>&quot;UNCHANGED&quot;</td><td>&quot;UNCHANGED&quot;</td><td>&quot;UNCHANGED&quot;</td><td>&quot;UNCHANGED&quot;</td></tr><tr><td>&quot;A1CF&quot;</td><td>&quot;UNCHANGED&quot;</td><td>&quot;UNCHANGED&quot;</td><td>&quot;UNCHANGED&quot;</td><td>&quot;UNCHANGED&quot;</td><td>&quot;UNCHANGED&quot;</td><td>&quot;UNCHANGED&quot;</td><td>&quot;UNCHANGED&quot;</td><td>&quot;UNCHANGED&quot;</td><td>&quot;UNCHANGED&quot;</td><td>&quot;UNCHANGED&quot;</td><td>&quot;UNCHANGED&quot;</td><td>&quot;UNCHANGED&quot;</td><td>&quot;UNCHANGED&quot;</td><td>&quot;UNCHANGED&quot;</td><td>&quot;UNCHANGED&quot;</td><td>&quot;UNCHANGED&quot;</td><td>&quot;UNCHANGED&quot;</td><td>&quot;UNCHANGED&quot;</td><td>&quot;UNCHANGED&quot;</td><td>&quot;UNCHANGED&quot;</td><td>&quot;UNCHANGED&quot;</td><td>&quot;UNCHANGED&quot;</td><td>&quot;UNCHANGED&quot;</td><td>&quot;UNCHANGED&quot;</td><td>&quot;UNCHANGED&quot;</td><td>&quot;UNCHANGED&quot;</td><td>&quot;UNCHANGED&quot;</td><td>&quot;UNCHANGED&quot;</td><td>&quot;UNCHANGED&quot;</td><td>&quot;UNCHANGED&quot;</td><td>&quot;UNCHANGED&quot;</td><td>&quot;UNCHANGED&quot;</td><td>&quot;UNCHANGED&quot;</td><td>&quot;UNCHANGED&quot;</td><td>&quot;UNCHANGED&quot;</td><td>&quot;UNCHANGED&quot;</td><td>&hellip;</td><td>&quot;UNCHANGED&quot;</td><td>&quot;UNCHANGED&quot;</td><td>&quot;UNCHANGED&quot;</td><td>&quot;UNCHANGED&quot;</td><td>&quot;UNCHANGED&quot;</td><td>&quot;UNCHANGED&quot;</td><td>&quot;UNCHANGED&quot;</td><td>&quot;UNCHANGED&quot;</td><td>&quot;UNCHANGED&quot;</td><td>&quot;UNCHANGED&quot;</td><td>&quot;UNCHANGED&quot;</td><td>&quot;UNCHANGED&quot;</td><td>&quot;UNCHANGED&quot;</td><td>&quot;UNCHANGED&quot;</td><td>&quot;UNCHANGED&quot;</td><td>&quot;UNCHANGED&quot;</td><td>&quot;UNCHANGED&quot;</td><td>&quot;UNCHANGED&quot;</td><td>&quot;UNCHANGED&quot;</td><td>&quot;UNCHANGED&quot;</td><td>&quot;UNCHANGED&quot;</td><td>&quot;UNCHANGED&quot;</td><td>&quot;UNCHANGED&quot;</td><td>&quot;UNCHANGED&quot;</td><td>&quot;UNCHANGED&quot;</td><td>&quot;UNCHANGED&quot;</td><td>&quot;UNCHANGED&quot;</td><td>&quot;UNCHANGED&quot;</td><td>&quot;UNCHANGED&quot;</td><td>&quot;UNCHANGED&quot;</td><td>&quot;UNCHANGED&quot;</td><td>&quot;UNCHANGED&quot;</td><td>&quot;UNCHANGED&quot;</td><td>&quot;UNCHANGED&quot;</td><td>&quot;UNCHANGED&quot;</td><td>&quot;UNCHANGED&quot;</td><td>&quot;UNCHANGED&quot;</td></tr><tr><td>&quot;A2M&quot;</td><td>&quot;UNCHANGED&quot;</td><td>&quot;UNCHANGED&quot;</td><td>&quot;UNCHANGED&quot;</td><td>&quot;UNCHANGED&quot;</td><td>&quot;UNCHANGED&quot;</td><td>&quot;UNCHANGED&quot;</td><td>&quot;UNCHANGED&quot;</td><td>&quot;UNCHANGED&quot;</td><td>&quot;UNCHANGED&quot;</td><td>&quot;UNCHANGED&quot;</td><td>&quot;UNCHANGED&quot;</td><td>&quot;UNCHANGED&quot;</td><td>&quot;UNCHANGED&quot;</td><td>&quot;UNCHANGED&quot;</td><td>&quot;UNCHANGED&quot;</td><td>&quot;UNCHANGED&quot;</td><td>&quot;UNCHANGED&quot;</td><td>&quot;UNCHANGED&quot;</td><td>&quot;UNCHANGED&quot;</td><td>&quot;UNCHANGED&quot;</td><td>&quot;UNCHANGED&quot;</td><td>&quot;UNCHANGED&quot;</td><td>&quot;UNCHANGED&quot;</td><td>&quot;UNCHANGED&quot;</td><td>&quot;UNCHANGED&quot;</td><td>&quot;UNCHANGED&quot;</td><td>&quot;UNCHANGED&quot;</td><td>&quot;UNCHANGED&quot;</td><td>&quot;UNCHANGED&quot;</td><td>&quot;UNCHANGED&quot;</td><td>&quot;UNCHANGED&quot;</td><td>&quot;UNCHANGED&quot;</td><td>&quot;UNCHANGED&quot;</td><td>&quot;UNCHANGED&quot;</td><td>&quot;UNCHANGED&quot;</td><td>&quot;UNCHANGED&quot;</td><td>&hellip;</td><td>&quot;DOWN&quot;</td><td>&quot;UNCHANGED&quot;</td><td>&quot;UNCHANGED&quot;</td><td>&quot;UNCHANGED&quot;</td><td>&quot;UNCHANGED&quot;</td><td>&quot;UNCHANGED&quot;</td><td>&quot;UNCHANGED&quot;</td><td>&quot;UNCHANGED&quot;</td><td>&quot;UNCHANGED&quot;</td><td>&quot;UNCHANGED&quot;</td><td>&quot;UNCHANGED&quot;</td><td>&quot;UNCHANGED&quot;</td><td>&quot;UNCHANGED&quot;</td><td>&quot;UNCHANGED&quot;</td><td>&quot;UNCHANGED&quot;</td><td>&quot;UNCHANGED&quot;</td><td>&quot;UNCHANGED&quot;</td><td>&quot;UNCHANGED&quot;</td><td>&quot;UNCHANGED&quot;</td><td>&quot;UNCHANGED&quot;</td><td>&quot;UNCHANGED&quot;</td><td>&quot;UNCHANGED&quot;</td><td>&quot;UP&quot;</td><td>&quot;UNCHANGED&quot;</td><td>&quot;UP&quot;</td><td>&quot;UNCHANGED&quot;</td><td>&quot;UNCHANGED&quot;</td><td>&quot;UNCHANGED&quot;</td><td>&quot;UNCHANGED&quot;</td><td>&quot;UNCHANGED&quot;</td><td>&quot;UNCHANGED&quot;</td><td>&quot;UNCHANGED&quot;</td><td>&quot;UNCHANGED&quot;</td><td>&quot;UNCHANGED&quot;</td><td>&quot;UNCHANGED&quot;</td><td>&quot;UNCHANGED&quot;</td><td>&quot;UNCHANGED&quot;</td></tr><tr><td>&quot;A2ML1&quot;</td><td>&quot;UNCHANGED&quot;</td><td>&quot;UNCHANGED&quot;</td><td>&quot;UNCHANGED&quot;</td><td>&quot;UNCHANGED&quot;</td><td>&quot;UNCHANGED&quot;</td><td>&quot;UP&quot;</td><td>&quot;UNCHANGED&quot;</td><td>&quot;UP&quot;</td><td>&quot;UNCHANGED&quot;</td><td>&quot;UNCHANGED&quot;</td><td>&quot;UNCHANGED&quot;</td><td>&quot;UNCHANGED&quot;</td><td>&quot;UNCHANGED&quot;</td><td>&quot;UNCHANGED&quot;</td><td>&quot;UNCHANGED&quot;</td><td>&quot;UNCHANGED&quot;</td><td>&quot;UNCHANGED&quot;</td><td>&quot;UNCHANGED&quot;</td><td>&quot;UNCHANGED&quot;</td><td>&quot;UNCHANGED&quot;</td><td>&quot;UNCHANGED&quot;</td><td>&quot;UNCHANGED&quot;</td><td>&quot;UNCHANGED&quot;</td><td>&quot;UNCHANGED&quot;</td><td>&quot;UNCHANGED&quot;</td><td>&quot;UNCHANGED&quot;</td><td>&quot;UNCHANGED&quot;</td><td>&quot;UNCHANGED&quot;</td><td>&quot;UNCHANGED&quot;</td><td>&quot;UNCHANGED&quot;</td><td>&quot;UNCHANGED&quot;</td><td>&quot;UNCHANGED&quot;</td><td>&quot;UNCHANGED&quot;</td><td>&quot;UNCHANGED&quot;</td><td>&quot;UNCHANGED&quot;</td><td>&quot;UNCHANGED&quot;</td><td>&hellip;</td><td>&quot;UNCHANGED&quot;</td><td>&quot;UNCHANGED&quot;</td><td>&quot;UNCHANGED&quot;</td><td>&quot;UNCHANGED&quot;</td><td>&quot;UNCHANGED&quot;</td><td>&quot;UNCHANGED&quot;</td><td>&quot;UNCHANGED&quot;</td><td>&quot;UP&quot;</td><td>&quot;UNCHANGED&quot;</td><td>&quot;UNCHANGED&quot;</td><td>&quot;UNCHANGED&quot;</td><td>&quot;DOWN&quot;</td><td>&quot;UNCHANGED&quot;</td><td>&quot;UNCHANGED&quot;</td><td>&quot;UNCHANGED&quot;</td><td>&quot;UNCHANGED&quot;</td><td>&quot;UNCHANGED&quot;</td><td>&quot;UNCHANGED&quot;</td><td>&quot;UNCHANGED&quot;</td><td>&quot;UNCHANGED&quot;</td><td>&quot;UNCHANGED&quot;</td><td>&quot;UNCHANGED&quot;</td><td>&quot;UNCHANGED&quot;</td><td>&quot;UNCHANGED&quot;</td><td>&quot;UP&quot;</td><td>&quot;UNCHANGED&quot;</td><td>&quot;UNCHANGED&quot;</td><td>&quot;UNCHANGED&quot;</td><td>&quot;UNCHANGED&quot;</td><td>&quot;UNCHANGED&quot;</td><td>&quot;UNCHANGED&quot;</td><td>&quot;UNCHANGED&quot;</td><td>&quot;UNCHANGED&quot;</td><td>&quot;UNCHANGED&quot;</td><td>&quot;UNCHANGED&quot;</td><td>&quot;UNCHANGED&quot;</td><td>&quot;UNCHANGED&quot;</td></tr><tr><td>&quot;A3GALT2&quot;</td><td>&quot;UNCHANGED&quot;</td><td>&quot;UNCHANGED&quot;</td><td>&quot;UNCHANGED&quot;</td><td>&quot;UNCHANGED&quot;</td><td>&quot;UNCHANGED&quot;</td><td>&quot;UNCHANGED&quot;</td><td>&quot;UNCHANGED&quot;</td><td>&quot;UNCHANGED&quot;</td><td>&quot;UNCHANGED&quot;</td><td>&quot;UNCHANGED&quot;</td><td>&quot;UNCHANGED&quot;</td><td>&quot;UNCHANGED&quot;</td><td>&quot;UNCHANGED&quot;</td><td>&quot;UNCHANGED&quot;</td><td>&quot;UNCHANGED&quot;</td><td>&quot;UNCHANGED&quot;</td><td>&quot;UNCHANGED&quot;</td><td>&quot;UNCHANGED&quot;</td><td>&quot;UNCHANGED&quot;</td><td>&quot;UNCHANGED&quot;</td><td>&quot;UNCHANGED&quot;</td><td>&quot;UNCHANGED&quot;</td><td>&quot;UNCHANGED&quot;</td><td>&quot;UNCHANGED&quot;</td><td>&quot;UNCHANGED&quot;</td><td>&quot;UNCHANGED&quot;</td><td>&quot;UNCHANGED&quot;</td><td>&quot;DOWN&quot;</td><td>&quot;UP&quot;</td><td>&quot;UNCHANGED&quot;</td><td>&quot;UNCHANGED&quot;</td><td>&quot;UNCHANGED&quot;</td><td>&quot;UNCHANGED&quot;</td><td>&quot;UNCHANGED&quot;</td><td>&quot;UNCHANGED&quot;</td><td>&quot;UNCHANGED&quot;</td><td>&hellip;</td><td>&quot;UNCHANGED&quot;</td><td>&quot;UNCHANGED&quot;</td><td>&quot;UNCHANGED&quot;</td><td>&quot;UNCHANGED&quot;</td><td>&quot;UNCHANGED&quot;</td><td>&quot;UNCHANGED&quot;</td><td>&quot;UNCHANGED&quot;</td><td>&quot;UNCHANGED&quot;</td><td>&quot;UNCHANGED&quot;</td><td>&quot;UNCHANGED&quot;</td><td>&quot;UNCHANGED&quot;</td><td>&quot;UNCHANGED&quot;</td><td>&quot;UNCHANGED&quot;</td><td>&quot;UNCHANGED&quot;</td><td>&quot;UNCHANGED&quot;</td><td>&quot;UNCHANGED&quot;</td><td>&quot;UNCHANGED&quot;</td><td>&quot;UNCHANGED&quot;</td><td>&quot;UNCHANGED&quot;</td><td>&quot;UNCHANGED&quot;</td><td>&quot;UNCHANGED&quot;</td><td>&quot;UNCHANGED&quot;</td><td>&quot;UNCHANGED&quot;</td><td>&quot;UNCHANGED&quot;</td><td>&quot;UNCHANGED&quot;</td><td>&quot;UP&quot;</td><td>&quot;UNCHANGED&quot;</td><td>&quot;UNCHANGED&quot;</td><td>&quot;UNCHANGED&quot;</td><td>&quot;UNCHANGED&quot;</td><td>&quot;UNCHANGED&quot;</td><td>&quot;UNCHANGED&quot;</td><td>&quot;UNCHANGED&quot;</td><td>&quot;UNCHANGED&quot;</td><td>&quot;UNCHANGED&quot;</td><td>&quot;UNCHANGED&quot;</td><td>&quot;UNCHANGED&quot;</td></tr><tr><td>&hellip;</td><td>&hellip;</td><td>&hellip;</td><td>&hellip;</td><td>&hellip;</td><td>&hellip;</td><td>&hellip;</td><td>&hellip;</td><td>&hellip;</td><td>&hellip;</td><td>&hellip;</td><td>&hellip;</td><td>&hellip;</td><td>&hellip;</td><td>&hellip;</td><td>&hellip;</td><td>&hellip;</td><td>&hellip;</td><td>&hellip;</td><td>&hellip;</td><td>&hellip;</td><td>&hellip;</td><td>&hellip;</td><td>&hellip;</td><td>&hellip;</td><td>&hellip;</td><td>&hellip;</td><td>&hellip;</td><td>&hellip;</td><td>&hellip;</td><td>&hellip;</td><td>&hellip;</td><td>&hellip;</td><td>&hellip;</td><td>&hellip;</td><td>&hellip;</td><td>&hellip;</td><td>&hellip;</td><td>&hellip;</td><td>&hellip;</td><td>&hellip;</td><td>&hellip;</td><td>&hellip;</td><td>&hellip;</td><td>&hellip;</td><td>&hellip;</td><td>&hellip;</td><td>&hellip;</td><td>&hellip;</td><td>&hellip;</td><td>&hellip;</td><td>&hellip;</td><td>&hellip;</td><td>&hellip;</td><td>&hellip;</td><td>&hellip;</td><td>&hellip;</td><td>&hellip;</td><td>&hellip;</td><td>&hellip;</td><td>&hellip;</td><td>&hellip;</td><td>&hellip;</td><td>&hellip;</td><td>&hellip;</td><td>&hellip;</td><td>&hellip;</td><td>&hellip;</td><td>&hellip;</td><td>&hellip;</td><td>&hellip;</td><td>&hellip;</td><td>&hellip;</td><td>&hellip;</td><td>&hellip;</td></tr><tr><td>&quot;ZYG11A&quot;</td><td>&quot;UNCHANGED&quot;</td><td>&quot;UNCHANGED&quot;</td><td>&quot;UNCHANGED&quot;</td><td>&quot;UNCHANGED&quot;</td><td>&quot;UNCHANGED&quot;</td><td>&quot;UNCHANGED&quot;</td><td>&quot;UNCHANGED&quot;</td><td>&quot;UNCHANGED&quot;</td><td>&quot;UNCHANGED&quot;</td><td>&quot;UNCHANGED&quot;</td><td>&quot;UNCHANGED&quot;</td><td>&quot;UNCHANGED&quot;</td><td>&quot;UNCHANGED&quot;</td><td>&quot;UNCHANGED&quot;</td><td>&quot;UNCHANGED&quot;</td><td>&quot;UNCHANGED&quot;</td><td>&quot;UNCHANGED&quot;</td><td>&quot;UNCHANGED&quot;</td><td>&quot;UNCHANGED&quot;</td><td>&quot;UNCHANGED&quot;</td><td>&quot;UNCHANGED&quot;</td><td>&quot;UNCHANGED&quot;</td><td>&quot;UNCHANGED&quot;</td><td>&quot;UNCHANGED&quot;</td><td>&quot;UNCHANGED&quot;</td><td>&quot;UNCHANGED&quot;</td><td>&quot;UNCHANGED&quot;</td><td>&quot;UNCHANGED&quot;</td><td>&quot;UNCHANGED&quot;</td><td>&quot;UP&quot;</td><td>&quot;UP&quot;</td><td>&quot;UNCHANGED&quot;</td><td>&quot;UNCHANGED&quot;</td><td>&quot;UNCHANGED&quot;</td><td>&quot;UNCHANGED&quot;</td><td>&quot;UNCHANGED&quot;</td><td>&hellip;</td><td>&quot;UNCHANGED&quot;</td><td>&quot;UNCHANGED&quot;</td><td>&quot;UNCHANGED&quot;</td><td>&quot;UNCHANGED&quot;</td><td>&quot;UNCHANGED&quot;</td><td>&quot;UNCHANGED&quot;</td><td>&quot;UNCHANGED&quot;</td><td>&quot;UNCHANGED&quot;</td><td>&quot;UNCHANGED&quot;</td><td>&quot;UNCHANGED&quot;</td><td>&quot;UNCHANGED&quot;</td><td>&quot;UNCHANGED&quot;</td><td>&quot;UNCHANGED&quot;</td><td>&quot;UNCHANGED&quot;</td><td>&quot;UNCHANGED&quot;</td><td>&quot;UNCHANGED&quot;</td><td>&quot;UNCHANGED&quot;</td><td>&quot;UNCHANGED&quot;</td><td>&quot;UNCHANGED&quot;</td><td>&quot;UNCHANGED&quot;</td><td>&quot;UNCHANGED&quot;</td><td>&quot;UNCHANGED&quot;</td><td>&quot;UNCHANGED&quot;</td><td>&quot;UNCHANGED&quot;</td><td>&quot;UP&quot;</td><td>&quot;UNCHANGED&quot;</td><td>&quot;UNCHANGED&quot;</td><td>&quot;UNCHANGED&quot;</td><td>&quot;UNCHANGED&quot;</td><td>&quot;UNCHANGED&quot;</td><td>&quot;UNCHANGED&quot;</td><td>&quot;UNCHANGED&quot;</td><td>&quot;UNCHANGED&quot;</td><td>&quot;UNCHANGED&quot;</td><td>&quot;UNCHANGED&quot;</td><td>&quot;UNCHANGED&quot;</td><td>&quot;UNCHANGED&quot;</td></tr><tr><td>&quot;ZYG11B&quot;</td><td>&quot;UNCHANGED&quot;</td><td>&quot;UNCHANGED&quot;</td><td>&quot;UNCHANGED&quot;</td><td>&quot;UNCHANGED&quot;</td><td>&quot;UNCHANGED&quot;</td><td>&quot;UNCHANGED&quot;</td><td>&quot;UNCHANGED&quot;</td><td>&quot;UNCHANGED&quot;</td><td>&quot;UNCHANGED&quot;</td><td>&quot;UNCHANGED&quot;</td><td>&quot;UNCHANGED&quot;</td><td>&quot;UNCHANGED&quot;</td><td>&quot;UNCHANGED&quot;</td><td>&quot;UNCHANGED&quot;</td><td>&quot;UNCHANGED&quot;</td><td>&quot;UNCHANGED&quot;</td><td>&quot;UNCHANGED&quot;</td><td>&quot;UNCHANGED&quot;</td><td>&quot;UNCHANGED&quot;</td><td>&quot;UNCHANGED&quot;</td><td>&quot;UNCHANGED&quot;</td><td>&quot;UNCHANGED&quot;</td><td>&quot;UNCHANGED&quot;</td><td>&quot;UNCHANGED&quot;</td><td>&quot;UNCHANGED&quot;</td><td>&quot;UNCHANGED&quot;</td><td>&quot;UNCHANGED&quot;</td><td>&quot;UNCHANGED&quot;</td><td>&quot;UNCHANGED&quot;</td><td>&quot;UNCHANGED&quot;</td><td>&quot;UNCHANGED&quot;</td><td>&quot;UNCHANGED&quot;</td><td>&quot;UNCHANGED&quot;</td><td>&quot;UNCHANGED&quot;</td><td>&quot;UNCHANGED&quot;</td><td>&quot;UNCHANGED&quot;</td><td>&hellip;</td><td>&quot;UNCHANGED&quot;</td><td>&quot;UNCHANGED&quot;</td><td>&quot;UNCHANGED&quot;</td><td>&quot;UNCHANGED&quot;</td><td>&quot;UNCHANGED&quot;</td><td>&quot;UNCHANGED&quot;</td><td>&quot;UNCHANGED&quot;</td><td>&quot;UNCHANGED&quot;</td><td>&quot;UNCHANGED&quot;</td><td>&quot;UNCHANGED&quot;</td><td>&quot;UNCHANGED&quot;</td><td>&quot;UNCHANGED&quot;</td><td>&quot;UNCHANGED&quot;</td><td>&quot;UNCHANGED&quot;</td><td>&quot;UNCHANGED&quot;</td><td>&quot;UNCHANGED&quot;</td><td>&quot;UNCHANGED&quot;</td><td>&quot;UNCHANGED&quot;</td><td>&quot;UNCHANGED&quot;</td><td>&quot;UNCHANGED&quot;</td><td>&quot;UNCHANGED&quot;</td><td>&quot;UNCHANGED&quot;</td><td>&quot;UP&quot;</td><td>&quot;UP&quot;</td><td>&quot;UP&quot;</td><td>&quot;UNCHANGED&quot;</td><td>&quot;UNCHANGED&quot;</td><td>&quot;UNCHANGED&quot;</td><td>&quot;UNCHANGED&quot;</td><td>&quot;UNCHANGED&quot;</td><td>&quot;UNCHANGED&quot;</td><td>&quot;UNCHANGED&quot;</td><td>&quot;UNCHANGED&quot;</td><td>&quot;UNCHANGED&quot;</td><td>&quot;UNCHANGED&quot;</td><td>&quot;UNCHANGED&quot;</td><td>&quot;UNCHANGED&quot;</td></tr><tr><td>&quot;ZYX&quot;</td><td>&quot;UNCHANGED&quot;</td><td>&quot;UNCHANGED&quot;</td><td>&quot;UNCHANGED&quot;</td><td>&quot;UNCHANGED&quot;</td><td>&quot;UNCHANGED&quot;</td><td>&quot;UNCHANGED&quot;</td><td>&quot;UNCHANGED&quot;</td><td>&quot;UNCHANGED&quot;</td><td>&quot;UNCHANGED&quot;</td><td>&quot;UNCHANGED&quot;</td><td>&quot;UNCHANGED&quot;</td><td>&quot;UNCHANGED&quot;</td><td>&quot;UNCHANGED&quot;</td><td>&quot;UNCHANGED&quot;</td><td>&quot;UNCHANGED&quot;</td><td>&quot;UNCHANGED&quot;</td><td>&quot;UNCHANGED&quot;</td><td>&quot;UNCHANGED&quot;</td><td>&quot;UNCHANGED&quot;</td><td>&quot;UNCHANGED&quot;</td><td>&quot;UNCHANGED&quot;</td><td>&quot;UNCHANGED&quot;</td><td>&quot;UNCHANGED&quot;</td><td>&quot;UNCHANGED&quot;</td><td>&quot;UNCHANGED&quot;</td><td>&quot;UNCHANGED&quot;</td><td>&quot;UNCHANGED&quot;</td><td>&quot;UNCHANGED&quot;</td><td>&quot;UNCHANGED&quot;</td><td>&quot;UNCHANGED&quot;</td><td>&quot;UNCHANGED&quot;</td><td>&quot;UNCHANGED&quot;</td><td>&quot;UNCHANGED&quot;</td><td>&quot;UNCHANGED&quot;</td><td>&quot;UNCHANGED&quot;</td><td>&quot;UNCHANGED&quot;</td><td>&hellip;</td><td>&quot;UNCHANGED&quot;</td><td>&quot;UNCHANGED&quot;</td><td>&quot;UNCHANGED&quot;</td><td>&quot;UNCHANGED&quot;</td><td>&quot;UNCHANGED&quot;</td><td>&quot;UNCHANGED&quot;</td><td>&quot;UNCHANGED&quot;</td><td>&quot;UP&quot;</td><td>&quot;UNCHANGED&quot;</td><td>&quot;UNCHANGED&quot;</td><td>&quot;UNCHANGED&quot;</td><td>&quot;DOWN&quot;</td><td>&quot;UNCHANGED&quot;</td><td>&quot;UNCHANGED&quot;</td><td>&quot;UNCHANGED&quot;</td><td>&quot;UNCHANGED&quot;</td><td>&quot;UNCHANGED&quot;</td><td>&quot;UNCHANGED&quot;</td><td>&quot;UNCHANGED&quot;</td><td>&quot;UNCHANGED&quot;</td><td>&quot;UNCHANGED&quot;</td><td>&quot;UNCHANGED&quot;</td><td>&quot;UP&quot;</td><td>&quot;UP&quot;</td><td>&quot;UP&quot;</td><td>&quot;UP&quot;</td><td>&quot;UP&quot;</td><td>&quot;UNCHANGED&quot;</td><td>&quot;UP&quot;</td><td>&quot;UNCHANGED&quot;</td><td>&quot;UNCHANGED&quot;</td><td>&quot;UNCHANGED&quot;</td><td>&quot;UNCHANGED&quot;</td><td>&quot;UNCHANGED&quot;</td><td>&quot;UNCHANGED&quot;</td><td>&quot;UNCHANGED&quot;</td><td>&quot;UNCHANGED&quot;</td></tr><tr><td>&quot;ZZEF1&quot;</td><td>&quot;UNCHANGED&quot;</td><td>&quot;UNCHANGED&quot;</td><td>&quot;UNCHANGED&quot;</td><td>&quot;UNCHANGED&quot;</td><td>&quot;UNCHANGED&quot;</td><td>&quot;UNCHANGED&quot;</td><td>&quot;UNCHANGED&quot;</td><td>&quot;UNCHANGED&quot;</td><td>&quot;UNCHANGED&quot;</td><td>&quot;UNCHANGED&quot;</td><td>&quot;UNCHANGED&quot;</td><td>&quot;UNCHANGED&quot;</td><td>&quot;UNCHANGED&quot;</td><td>&quot;UNCHANGED&quot;</td><td>&quot;UNCHANGED&quot;</td><td>&quot;UNCHANGED&quot;</td><td>&quot;UNCHANGED&quot;</td><td>&quot;UNCHANGED&quot;</td><td>&quot;UNCHANGED&quot;</td><td>&quot;UNCHANGED&quot;</td><td>&quot;UNCHANGED&quot;</td><td>&quot;UNCHANGED&quot;</td><td>&quot;UNCHANGED&quot;</td><td>&quot;UNCHANGED&quot;</td><td>&quot;UNCHANGED&quot;</td><td>&quot;UNCHANGED&quot;</td><td>&quot;UNCHANGED&quot;</td><td>&quot;UNCHANGED&quot;</td><td>&quot;UNCHANGED&quot;</td><td>&quot;UNCHANGED&quot;</td><td>&quot;UNCHANGED&quot;</td><td>&quot;UNCHANGED&quot;</td><td>&quot;UNCHANGED&quot;</td><td>&quot;UNCHANGED&quot;</td><td>&quot;UNCHANGED&quot;</td><td>&quot;UNCHANGED&quot;</td><td>&hellip;</td><td>&quot;UNCHANGED&quot;</td><td>&quot;UNCHANGED&quot;</td><td>&quot;UNCHANGED&quot;</td><td>&quot;UNCHANGED&quot;</td><td>&quot;UNCHANGED&quot;</td><td>&quot;UNCHANGED&quot;</td><td>&quot;UNCHANGED&quot;</td><td>&quot;UP&quot;</td><td>&quot;UNCHANGED&quot;</td><td>&quot;UNCHANGED&quot;</td><td>&quot;UNCHANGED&quot;</td><td>&quot;UNCHANGED&quot;</td><td>&quot;UNCHANGED&quot;</td><td>&quot;UNCHANGED&quot;</td><td>&quot;UNCHANGED&quot;</td><td>&quot;UNCHANGED&quot;</td><td>&quot;UNCHANGED&quot;</td><td>&quot;UNCHANGED&quot;</td><td>&quot;UNCHANGED&quot;</td><td>&quot;UNCHANGED&quot;</td><td>&quot;UNCHANGED&quot;</td><td>&quot;UNCHANGED&quot;</td><td>&quot;UP&quot;</td><td>&quot;UP&quot;</td><td>&quot;UP&quot;</td><td>&quot;UNCHANGED&quot;</td><td>&quot;UNCHANGED&quot;</td><td>&quot;UNCHANGED&quot;</td><td>&quot;UNCHANGED&quot;</td><td>&quot;UNCHANGED&quot;</td><td>&quot;UNCHANGED&quot;</td><td>&quot;UNCHANGED&quot;</td><td>&quot;UNCHANGED&quot;</td><td>&quot;UNCHANGED&quot;</td><td>&quot;UNCHANGED&quot;</td><td>&quot;UNCHANGED&quot;</td><td>&quot;UNCHANGED&quot;</td></tr><tr><td>&quot;ZZZ3&quot;</td><td>&quot;UNCHANGED&quot;</td><td>&quot;UNCHANGED&quot;</td><td>&quot;UNCHANGED&quot;</td><td>&quot;UNCHANGED&quot;</td><td>&quot;UNCHANGED&quot;</td><td>&quot;UNCHANGED&quot;</td><td>&quot;UNCHANGED&quot;</td><td>&quot;UNCHANGED&quot;</td><td>&quot;UNCHANGED&quot;</td><td>&quot;UNCHANGED&quot;</td><td>&quot;UNCHANGED&quot;</td><td>&quot;UNCHANGED&quot;</td><td>&quot;UNCHANGED&quot;</td><td>&quot;UNCHANGED&quot;</td><td>&quot;UNCHANGED&quot;</td><td>&quot;UNCHANGED&quot;</td><td>&quot;UNCHANGED&quot;</td><td>&quot;UNCHANGED&quot;</td><td>&quot;UNCHANGED&quot;</td><td>&quot;UNCHANGED&quot;</td><td>&quot;UNCHANGED&quot;</td><td>&quot;UNCHANGED&quot;</td><td>&quot;UNCHANGED&quot;</td><td>&quot;UNCHANGED&quot;</td><td>&quot;UNCHANGED&quot;</td><td>&quot;UNCHANGED&quot;</td><td>&quot;UNCHANGED&quot;</td><td>&quot;UNCHANGED&quot;</td><td>&quot;UNCHANGED&quot;</td><td>&quot;UNCHANGED&quot;</td><td>&quot;UNCHANGED&quot;</td><td>&quot;UNCHANGED&quot;</td><td>&quot;UNCHANGED&quot;</td><td>&quot;UNCHANGED&quot;</td><td>&quot;UNCHANGED&quot;</td><td>&quot;UNCHANGED&quot;</td><td>&hellip;</td><td>&quot;UNCHANGED&quot;</td><td>&quot;UNCHANGED&quot;</td><td>&quot;UNCHANGED&quot;</td><td>&quot;UNCHANGED&quot;</td><td>&quot;UNCHANGED&quot;</td><td>&quot;UNCHANGED&quot;</td><td>&quot;UNCHANGED&quot;</td><td>&quot;UNCHANGED&quot;</td><td>&quot;UNCHANGED&quot;</td><td>&quot;UNCHANGED&quot;</td><td>&quot;UNCHANGED&quot;</td><td>&quot;UNCHANGED&quot;</td><td>&quot;UNCHANGED&quot;</td><td>&quot;UNCHANGED&quot;</td><td>&quot;UNCHANGED&quot;</td><td>&quot;UNCHANGED&quot;</td><td>&quot;UNCHANGED&quot;</td><td>&quot;UNCHANGED&quot;</td><td>&quot;UNCHANGED&quot;</td><td>&quot;UNCHANGED&quot;</td><td>&quot;UNCHANGED&quot;</td><td>&quot;UNCHANGED&quot;</td><td>&quot;UP&quot;</td><td>&quot;UNCHANGED&quot;</td><td>&quot;UP&quot;</td><td>&quot;UNCHANGED&quot;</td><td>&quot;UNCHANGED&quot;</td><td>&quot;UNCHANGED&quot;</td><td>&quot;UNCHANGED&quot;</td><td>&quot;UNCHANGED&quot;</td><td>&quot;UNCHANGED&quot;</td><td>&quot;UNCHANGED&quot;</td><td>&quot;UNCHANGED&quot;</td><td>&quot;UNCHANGED&quot;</td><td>&quot;UNCHANGED&quot;</td><td>&quot;UNCHANGED&quot;</td><td>&quot;UNCHANGED&quot;</td></tr></tbody></table></div>"
      ],
      "text/plain": [
       "shape: (19_705, 323)\n",
       "┌─────────┬────────────┬───────────┬───────────┬───┬───────────┬───────────┬───────────┬───────────┐\n",
       "│ GENEID  ┆ human-lung ┆ human-lun ┆ human-lun ┆ … ┆ HeLa-cell ┆ HeLa-cell ┆ HeLa-cell ┆ HeLa-cell │\n",
       "│ ---     ┆ -fibroblas ┆ g-fibrobl ┆ g-fibrobl ┆   ┆ -line_13  ┆ -line_14  ┆ -line_15  ┆ -line_16  │\n",
       "│ str     ┆ ts-WI38-ce ┆ asts-WI38 ┆ asts-WI38 ┆   ┆ ---       ┆ ---       ┆ ---       ┆ ---       │\n",
       "│         ┆ …          ┆ -ce…      ┆ -ce…      ┆   ┆ str       ┆ str       ┆ str       ┆ str       │\n",
       "│         ┆ ---        ┆ ---       ┆ ---       ┆   ┆           ┆           ┆           ┆           │\n",
       "│         ┆ str        ┆ str       ┆ str       ┆   ┆           ┆           ┆           ┆           │\n",
       "╞═════════╪════════════╪═══════════╪═══════════╪═══╪═══════════╪═══════════╪═══════════╪═══════════╡\n",
       "│ A1BG    ┆ UNCHANGED  ┆ UNCHANGED ┆ UNCHANGED ┆ … ┆ UNCHANGED ┆ UNCHANGED ┆ UNCHANGED ┆ UNCHANGED │\n",
       "│ A1CF    ┆ UNCHANGED  ┆ UNCHANGED ┆ UNCHANGED ┆ … ┆ UNCHANGED ┆ UNCHANGED ┆ UNCHANGED ┆ UNCHANGED │\n",
       "│ A2M     ┆ UNCHANGED  ┆ UNCHANGED ┆ UNCHANGED ┆ … ┆ UNCHANGED ┆ UNCHANGED ┆ UNCHANGED ┆ UNCHANGED │\n",
       "│ A2ML1   ┆ UNCHANGED  ┆ UNCHANGED ┆ UNCHANGED ┆ … ┆ UNCHANGED ┆ UNCHANGED ┆ UNCHANGED ┆ UNCHANGED │\n",
       "│ A3GALT2 ┆ UNCHANGED  ┆ UNCHANGED ┆ UNCHANGED ┆ … ┆ UNCHANGED ┆ UNCHANGED ┆ UNCHANGED ┆ UNCHANGED │\n",
       "│ …       ┆ …          ┆ …         ┆ …         ┆ … ┆ …         ┆ …         ┆ …         ┆ …         │\n",
       "│ ZYG11A  ┆ UNCHANGED  ┆ UNCHANGED ┆ UNCHANGED ┆ … ┆ UNCHANGED ┆ UNCHANGED ┆ UNCHANGED ┆ UNCHANGED │\n",
       "│ ZYG11B  ┆ UNCHANGED  ┆ UNCHANGED ┆ UNCHANGED ┆ … ┆ UNCHANGED ┆ UNCHANGED ┆ UNCHANGED ┆ UNCHANGED │\n",
       "│ ZYX     ┆ UNCHANGED  ┆ UNCHANGED ┆ UNCHANGED ┆ … ┆ UNCHANGED ┆ UNCHANGED ┆ UNCHANGED ┆ UNCHANGED │\n",
       "│ ZZEF1   ┆ UNCHANGED  ┆ UNCHANGED ┆ UNCHANGED ┆ … ┆ UNCHANGED ┆ UNCHANGED ┆ UNCHANGED ┆ UNCHANGED │\n",
       "│ ZZZ3    ┆ UNCHANGED  ┆ UNCHANGED ┆ UNCHANGED ┆ … ┆ UNCHANGED ┆ UNCHANGED ┆ UNCHANGED ┆ UNCHANGED │\n",
       "└─────────┴────────────┴───────────┴───────────┴───┴───────────┴───────────┴───────────┴───────────┘"
      ]
     },
     "metadata": {},
     "output_type": "display_data"
    }
   ],
   "source": [
    "# define a function to categorize the HNratio\n",
    "def categorize(x):\n",
    "    if x >= threshold:\n",
    "        return 'UP'\n",
    "    elif x <= 1 / threshold:\n",
    "        return 'DOWN'\n",
    "    else:\n",
    "        return 'UNCHANGED'\n",
    "\n",
    "# apply the categorize function to all columns except GENEID\n",
    "result = HNratio.with_columns([\n",
    "    pl.col(col).map_elements(categorize, return_dtype=pl.String)\n",
    "    for col in HNratio.columns if col != 'GENEID'\n",
    "])\n",
    "\n",
    "# display the result\n",
    "display(result)"
   ]
  },
  {
   "cell_type": "code",
   "execution_count": 8,
   "metadata": {},
   "outputs": [
    {
     "name": "stdout",
     "output_type": "stream",
     "text": [
      "{'U2OS', 'HEK293', 'human-foreskin-fibroblasts', 'Nasopharyngeal-epithelium-derived-cells-CNE2-cell', 'K562', 'neuronal-aggregates-day-50-derived-from-induced-pluripotent-stem-cells', 'colorectal-cancer-cell-line-HCT116', 'FaDu-spheroids-head-and-neck-squamous-cell-carcinomas-HNSCC', 'Colorectal-adenocarcinoma-DLD-1', 'MRC5-VA_CPSF3-dTAG-HA', 'cortical-brain-organoids', 'MRC5-VA', 'MCF7-mammary-gland-cell-culture', 'HeLa-cell-line', 'DLD-1-Colorectal-adenocarcinoma', 'HEPG2-cell', 'SW620', 'Primary-neurons', 'MRC5-VA-cell-line', 'Colorectal-adenocarcinoma-DLD-1-cell-line', 'OCI-Ly1OCI-Ly1-diffuse-B-cell-lymphoma-cells', \"Raji-Burkitt's-B-lymphoma-cells-CDK9as\", 'HEK293T', 'WI38-lung-fibroblast-cells', 'SASspheroids-head-and-neck-squamous-cell-carcinomas-HNSCC', 'K562-erythroleukemia-cells', 'MM.1S-myeloma-cell-line', 'human-lung-fibroblasts-WI38-cell', 'HEK293-cells', 'Human-Embryonic-Kidney-HEK-293T-Rex'}\n"
     ]
    },
    {
     "data": {
      "text/html": [
       "<div><style>\n",
       ".dataframe > thead > tr,\n",
       ".dataframe > tbody > tr {\n",
       "  text-align: right;\n",
       "  white-space: pre-wrap;\n",
       "}\n",
       "</style>\n",
       "<small>shape: (19_705, 91)</small><table border=\"1\" class=\"dataframe\"><thead><tr><th>GENEID</th><th>UP(U2OS)</th><th>DOWN(U2OS)</th><th>UNCHANGED(U2OS)</th><th>UP(HEK293)</th><th>DOWN(HEK293)</th><th>UNCHANGED(HEK293)</th><th>UP(human-foreskin-fibroblasts)</th><th>DOWN(human-foreskin-fibroblasts)</th><th>UNCHANGED(human-foreskin-fibroblasts)</th><th>UP(Nasopharyngeal-epithelium-derived-cells-CNE2-cell)</th><th>DOWN(Nasopharyngeal-epithelium-derived-cells-CNE2-cell)</th><th>UNCHANGED(Nasopharyngeal-epithelium-derived-cells-CNE2-cell)</th><th>UP(K562)</th><th>DOWN(K562)</th><th>UNCHANGED(K562)</th><th>UP(neuronal-aggregates-day-50-derived-from-induced-pluripotent-stem-cells)</th><th>DOWN(neuronal-aggregates-day-50-derived-from-induced-pluripotent-stem-cells)</th><th>UNCHANGED(neuronal-aggregates-day-50-derived-from-induced-pluripotent-stem-cells)</th><th>UP(colorectal-cancer-cell-line-HCT116)</th><th>DOWN(colorectal-cancer-cell-line-HCT116)</th><th>UNCHANGED(colorectal-cancer-cell-line-HCT116)</th><th>UP(FaDu-spheroids-head-and-neck-squamous-cell-carcinomas-HNSCC)</th><th>DOWN(FaDu-spheroids-head-and-neck-squamous-cell-carcinomas-HNSCC)</th><th>UNCHANGED(FaDu-spheroids-head-and-neck-squamous-cell-carcinomas-HNSCC)</th><th>UP(Colorectal-adenocarcinoma-DLD-1)</th><th>DOWN(Colorectal-adenocarcinoma-DLD-1)</th><th>UNCHANGED(Colorectal-adenocarcinoma-DLD-1)</th><th>UP(MRC5-VA_CPSF3-dTAG-HA)</th><th>DOWN(MRC5-VA_CPSF3-dTAG-HA)</th><th>UNCHANGED(MRC5-VA_CPSF3-dTAG-HA)</th><th>UP(cortical-brain-organoids)</th><th>DOWN(cortical-brain-organoids)</th><th>UNCHANGED(cortical-brain-organoids)</th><th>UP(MRC5-VA)</th><th>DOWN(MRC5-VA)</th><th>UNCHANGED(MRC5-VA)</th><th>&hellip;</th><th>UNCHANGED(Primary-neurons)</th><th>UP(MRC5-VA-cell-line)</th><th>DOWN(MRC5-VA-cell-line)</th><th>UNCHANGED(MRC5-VA-cell-line)</th><th>UP(Colorectal-adenocarcinoma-DLD-1-cell-line)</th><th>DOWN(Colorectal-adenocarcinoma-DLD-1-cell-line)</th><th>UNCHANGED(Colorectal-adenocarcinoma-DLD-1-cell-line)</th><th>UP(OCI-Ly1OCI-Ly1-diffuse-B-cell-lymphoma-cells)</th><th>DOWN(OCI-Ly1OCI-Ly1-diffuse-B-cell-lymphoma-cells)</th><th>UNCHANGED(OCI-Ly1OCI-Ly1-diffuse-B-cell-lymphoma-cells)</th><th>UP(Raji-Burkitt&#x27;s-B-lymphoma-cells-CDK9as)</th><th>DOWN(Raji-Burkitt&#x27;s-B-lymphoma-cells-CDK9as)</th><th>UNCHANGED(Raji-Burkitt&#x27;s-B-lymphoma-cells-CDK9as)</th><th>UP(HEK293T)</th><th>DOWN(HEK293T)</th><th>UNCHANGED(HEK293T)</th><th>UP(WI38-lung-fibroblast-cells)</th><th>DOWN(WI38-lung-fibroblast-cells)</th><th>UNCHANGED(WI38-lung-fibroblast-cells)</th><th>UP(SASspheroids-head-and-neck-squamous-cell-carcinomas-HNSCC)</th><th>DOWN(SASspheroids-head-and-neck-squamous-cell-carcinomas-HNSCC)</th><th>UNCHANGED(SASspheroids-head-and-neck-squamous-cell-carcinomas-HNSCC)</th><th>UP(K562-erythroleukemia-cells)</th><th>DOWN(K562-erythroleukemia-cells)</th><th>UNCHANGED(K562-erythroleukemia-cells)</th><th>UP(MM.1S-myeloma-cell-line)</th><th>DOWN(MM.1S-myeloma-cell-line)</th><th>UNCHANGED(MM.1S-myeloma-cell-line)</th><th>UP(human-lung-fibroblasts-WI38-cell)</th><th>DOWN(human-lung-fibroblasts-WI38-cell)</th><th>UNCHANGED(human-lung-fibroblasts-WI38-cell)</th><th>UP(HEK293-cells)</th><th>DOWN(HEK293-cells)</th><th>UNCHANGED(HEK293-cells)</th><th>UP(Human-Embryonic-Kidney-HEK-293T-Rex)</th><th>DOWN(Human-Embryonic-Kidney-HEK-293T-Rex)</th><th>UNCHANGED(Human-Embryonic-Kidney-HEK-293T-Rex)</th></tr><tr><td>str</td><td>i32</td><td>i32</td><td>i32</td><td>i32</td><td>i32</td><td>i32</td><td>i32</td><td>i32</td><td>i32</td><td>i32</td><td>i32</td><td>i32</td><td>i32</td><td>i32</td><td>i32</td><td>i32</td><td>i32</td><td>i32</td><td>i32</td><td>i32</td><td>i32</td><td>i32</td><td>i32</td><td>i32</td><td>i32</td><td>i32</td><td>i32</td><td>i32</td><td>i32</td><td>i32</td><td>i32</td><td>i32</td><td>i32</td><td>i32</td><td>i32</td><td>i32</td><td>&hellip;</td><td>i32</td><td>i32</td><td>i32</td><td>i32</td><td>i32</td><td>i32</td><td>i32</td><td>i32</td><td>i32</td><td>i32</td><td>i32</td><td>i32</td><td>i32</td><td>i32</td><td>i32</td><td>i32</td><td>i32</td><td>i32</td><td>i32</td><td>i32</td><td>i32</td><td>i32</td><td>i32</td><td>i32</td><td>i32</td><td>i32</td><td>i32</td><td>i32</td><td>i32</td><td>i32</td><td>i32</td><td>i32</td><td>i32</td><td>i32</td><td>i32</td><td>i32</td><td>i32</td></tr></thead><tbody><tr><td>&quot;A1BG&quot;</td><td>0</td><td>0</td><td>36</td><td>0</td><td>0</td><td>6</td><td>0</td><td>0</td><td>16</td><td>0</td><td>0</td><td>3</td><td>0</td><td>1</td><td>39</td><td>0</td><td>0</td><td>2</td><td>0</td><td>0</td><td>6</td><td>1</td><td>0</td><td>5</td><td>0</td><td>1</td><td>3</td><td>0</td><td>0</td><td>11</td><td>0</td><td>0</td><td>6</td><td>0</td><td>0</td><td>34</td><td>&hellip;</td><td>15</td><td>0</td><td>0</td><td>10</td><td>0</td><td>0</td><td>12</td><td>0</td><td>0</td><td>6</td><td>0</td><td>0</td><td>4</td><td>1</td><td>0</td><td>20</td><td>0</td><td>0</td><td>3</td><td>1</td><td>0</td><td>5</td><td>0</td><td>0</td><td>5</td><td>0</td><td>0</td><td>3</td><td>0</td><td>0</td><td>8</td><td>0</td><td>0</td><td>3</td><td>0</td><td>0</td><td>9</td></tr><tr><td>&quot;A1CF&quot;</td><td>0</td><td>0</td><td>36</td><td>0</td><td>0</td><td>6</td><td>0</td><td>0</td><td>16</td><td>0</td><td>0</td><td>3</td><td>0</td><td>0</td><td>40</td><td>0</td><td>1</td><td>1</td><td>0</td><td>0</td><td>6</td><td>0</td><td>0</td><td>6</td><td>0</td><td>0</td><td>4</td><td>0</td><td>0</td><td>11</td><td>3</td><td>0</td><td>3</td><td>0</td><td>0</td><td>34</td><td>&hellip;</td><td>18</td><td>0</td><td>0</td><td>10</td><td>0</td><td>0</td><td>12</td><td>0</td><td>0</td><td>6</td><td>0</td><td>0</td><td>4</td><td>0</td><td>0</td><td>21</td><td>0</td><td>0</td><td>3</td><td>0</td><td>0</td><td>6</td><td>0</td><td>0</td><td>5</td><td>0</td><td>0</td><td>3</td><td>0</td><td>0</td><td>8</td><td>0</td><td>0</td><td>3</td><td>0</td><td>0</td><td>9</td></tr><tr><td>&quot;A2M&quot;</td><td>0</td><td>0</td><td>36</td><td>0</td><td>0</td><td>6</td><td>0</td><td>0</td><td>16</td><td>0</td><td>0</td><td>3</td><td>2</td><td>1</td><td>37</td><td>0</td><td>0</td><td>2</td><td>1</td><td>0</td><td>5</td><td>0</td><td>0</td><td>6</td><td>0</td><td>0</td><td>4</td><td>0</td><td>1</td><td>10</td><td>0</td><td>0</td><td>6</td><td>2</td><td>1</td><td>31</td><td>&hellip;</td><td>10</td><td>0</td><td>0</td><td>10</td><td>0</td><td>0</td><td>12</td><td>0</td><td>0</td><td>6</td><td>0</td><td>0</td><td>4</td><td>1</td><td>0</td><td>20</td><td>0</td><td>0</td><td>3</td><td>0</td><td>0</td><td>6</td><td>0</td><td>0</td><td>5</td><td>0</td><td>0</td><td>3</td><td>0</td><td>0</td><td>8</td><td>0</td><td>0</td><td>3</td><td>0</td><td>0</td><td>9</td></tr><tr><td>&quot;A2ML1&quot;</td><td>1</td><td>0</td><td>35</td><td>0</td><td>0</td><td>6</td><td>1</td><td>0</td><td>15</td><td>0</td><td>0</td><td>3</td><td>1</td><td>2</td><td>37</td><td>0</td><td>0</td><td>2</td><td>0</td><td>0</td><td>6</td><td>0</td><td>0</td><td>6</td><td>0</td><td>0</td><td>4</td><td>1</td><td>0</td><td>10</td><td>0</td><td>0</td><td>6</td><td>1</td><td>0</td><td>33</td><td>&hellip;</td><td>16</td><td>0</td><td>0</td><td>10</td><td>0</td><td>0</td><td>12</td><td>4</td><td>0</td><td>2</td><td>0</td><td>0</td><td>4</td><td>0</td><td>0</td><td>21</td><td>0</td><td>0</td><td>3</td><td>0</td><td>0</td><td>6</td><td>0</td><td>0</td><td>5</td><td>0</td><td>0</td><td>3</td><td>0</td><td>0</td><td>8</td><td>0</td><td>0</td><td>3</td><td>0</td><td>0</td><td>9</td></tr><tr><td>&quot;A3GALT2&quot;</td><td>0</td><td>0</td><td>36</td><td>0</td><td>0</td><td>6</td><td>7</td><td>1</td><td>8</td><td>0</td><td>0</td><td>3</td><td>1</td><td>2</td><td>37</td><td>1</td><td>0</td><td>1</td><td>2</td><td>0</td><td>4</td><td>0</td><td>0</td><td>6</td><td>0</td><td>0</td><td>4</td><td>1</td><td>1</td><td>9</td><td>0</td><td>1</td><td>5</td><td>1</td><td>4</td><td>29</td><td>&hellip;</td><td>14</td><td>0</td><td>0</td><td>10</td><td>1</td><td>1</td><td>10</td><td>0</td><td>0</td><td>6</td><td>1</td><td>0</td><td>3</td><td>0</td><td>0</td><td>21</td><td>0</td><td>0</td><td>3</td><td>0</td><td>0</td><td>6</td><td>0</td><td>0</td><td>5</td><td>0</td><td>0</td><td>3</td><td>0</td><td>0</td><td>8</td><td>0</td><td>0</td><td>3</td><td>0</td><td>0</td><td>9</td></tr><tr><td>&hellip;</td><td>&hellip;</td><td>&hellip;</td><td>&hellip;</td><td>&hellip;</td><td>&hellip;</td><td>&hellip;</td><td>&hellip;</td><td>&hellip;</td><td>&hellip;</td><td>&hellip;</td><td>&hellip;</td><td>&hellip;</td><td>&hellip;</td><td>&hellip;</td><td>&hellip;</td><td>&hellip;</td><td>&hellip;</td><td>&hellip;</td><td>&hellip;</td><td>&hellip;</td><td>&hellip;</td><td>&hellip;</td><td>&hellip;</td><td>&hellip;</td><td>&hellip;</td><td>&hellip;</td><td>&hellip;</td><td>&hellip;</td><td>&hellip;</td><td>&hellip;</td><td>&hellip;</td><td>&hellip;</td><td>&hellip;</td><td>&hellip;</td><td>&hellip;</td><td>&hellip;</td><td>&hellip;</td><td>&hellip;</td><td>&hellip;</td><td>&hellip;</td><td>&hellip;</td><td>&hellip;</td><td>&hellip;</td><td>&hellip;</td><td>&hellip;</td><td>&hellip;</td><td>&hellip;</td><td>&hellip;</td><td>&hellip;</td><td>&hellip;</td><td>&hellip;</td><td>&hellip;</td><td>&hellip;</td><td>&hellip;</td><td>&hellip;</td><td>&hellip;</td><td>&hellip;</td><td>&hellip;</td><td>&hellip;</td><td>&hellip;</td><td>&hellip;</td><td>&hellip;</td><td>&hellip;</td><td>&hellip;</td><td>&hellip;</td><td>&hellip;</td><td>&hellip;</td><td>&hellip;</td><td>&hellip;</td><td>&hellip;</td><td>&hellip;</td><td>&hellip;</td><td>&hellip;</td><td>&hellip;</td></tr><tr><td>&quot;ZYG11A&quot;</td><td>0</td><td>0</td><td>36</td><td>0</td><td>0</td><td>6</td><td>0</td><td>0</td><td>16</td><td>0</td><td>0</td><td>3</td><td>0</td><td>1</td><td>39</td><td>0</td><td>0</td><td>2</td><td>0</td><td>0</td><td>6</td><td>0</td><td>0</td><td>6</td><td>0</td><td>0</td><td>4</td><td>0</td><td>0</td><td>11</td><td>0</td><td>0</td><td>6</td><td>4</td><td>0</td><td>30</td><td>&hellip;</td><td>17</td><td>0</td><td>0</td><td>10</td><td>2</td><td>0</td><td>10</td><td>0</td><td>0</td><td>6</td><td>0</td><td>0</td><td>4</td><td>0</td><td>0</td><td>21</td><td>0</td><td>0</td><td>3</td><td>0</td><td>0</td><td>6</td><td>0</td><td>0</td><td>5</td><td>0</td><td>0</td><td>3</td><td>0</td><td>0</td><td>8</td><td>0</td><td>0</td><td>3</td><td>0</td><td>0</td><td>9</td></tr><tr><td>&quot;ZYG11B&quot;</td><td>0</td><td>0</td><td>36</td><td>0</td><td>0</td><td>6</td><td>0</td><td>0</td><td>16</td><td>0</td><td>0</td><td>3</td><td>0</td><td>0</td><td>40</td><td>0</td><td>0</td><td>2</td><td>0</td><td>0</td><td>6</td><td>0</td><td>0</td><td>6</td><td>0</td><td>0</td><td>4</td><td>0</td><td>0</td><td>11</td><td>0</td><td>2</td><td>4</td><td>0</td><td>0</td><td>34</td><td>&hellip;</td><td>15</td><td>0</td><td>0</td><td>10</td><td>0</td><td>0</td><td>12</td><td>0</td><td>0</td><td>6</td><td>0</td><td>0</td><td>4</td><td>0</td><td>1</td><td>20</td><td>0</td><td>0</td><td>3</td><td>0</td><td>0</td><td>6</td><td>0</td><td>0</td><td>5</td><td>0</td><td>0</td><td>3</td><td>0</td><td>0</td><td>8</td><td>0</td><td>0</td><td>3</td><td>1</td><td>0</td><td>8</td></tr><tr><td>&quot;ZYX&quot;</td><td>0</td><td>0</td><td>36</td><td>0</td><td>0</td><td>6</td><td>0</td><td>0</td><td>16</td><td>0</td><td>0</td><td>3</td><td>1</td><td>2</td><td>37</td><td>0</td><td>0</td><td>2</td><td>0</td><td>0</td><td>6</td><td>0</td><td>0</td><td>6</td><td>0</td><td>0</td><td>4</td><td>0</td><td>0</td><td>11</td><td>0</td><td>0</td><td>6</td><td>0</td><td>0</td><td>34</td><td>&hellip;</td><td>9</td><td>0</td><td>0</td><td>10</td><td>0</td><td>0</td><td>12</td><td>0</td><td>0</td><td>6</td><td>0</td><td>0</td><td>4</td><td>1</td><td>0</td><td>20</td><td>0</td><td>0</td><td>3</td><td>0</td><td>0</td><td>6</td><td>1</td><td>0</td><td>4</td><td>0</td><td>1</td><td>2</td><td>1</td><td>0</td><td>7</td><td>0</td><td>0</td><td>3</td><td>0</td><td>0</td><td>9</td></tr><tr><td>&quot;ZZEF1&quot;</td><td>0</td><td>0</td><td>36</td><td>0</td><td>0</td><td>6</td><td>0</td><td>0</td><td>16</td><td>0</td><td>0</td><td>3</td><td>1</td><td>0</td><td>39</td><td>0</td><td>0</td><td>2</td><td>0</td><td>0</td><td>6</td><td>0</td><td>0</td><td>6</td><td>0</td><td>0</td><td>4</td><td>0</td><td>0</td><td>11</td><td>0</td><td>0</td><td>6</td><td>0</td><td>0</td><td>34</td><td>&hellip;</td><td>15</td><td>0</td><td>0</td><td>10</td><td>0</td><td>0</td><td>12</td><td>0</td><td>0</td><td>6</td><td>0</td><td>0</td><td>4</td><td>2</td><td>1</td><td>18</td><td>0</td><td>0</td><td>3</td><td>0</td><td>0</td><td>6</td><td>0</td><td>0</td><td>5</td><td>0</td><td>0</td><td>3</td><td>0</td><td>0</td><td>8</td><td>0</td><td>0</td><td>3</td><td>1</td><td>0</td><td>8</td></tr><tr><td>&quot;ZZZ3&quot;</td><td>0</td><td>0</td><td>36</td><td>0</td><td>0</td><td>6</td><td>0</td><td>0</td><td>16</td><td>0</td><td>0</td><td>3</td><td>0</td><td>0</td><td>40</td><td>0</td><td>0</td><td>2</td><td>0</td><td>0</td><td>6</td><td>0</td><td>0</td><td>6</td><td>0</td><td>0</td><td>4</td><td>0</td><td>0</td><td>11</td><td>0</td><td>0</td><td>6</td><td>0</td><td>0</td><td>34</td><td>&hellip;</td><td>16</td><td>0</td><td>0</td><td>10</td><td>0</td><td>0</td><td>12</td><td>0</td><td>0</td><td>6</td><td>0</td><td>0</td><td>4</td><td>4</td><td>0</td><td>17</td><td>0</td><td>0</td><td>3</td><td>0</td><td>0</td><td>6</td><td>0</td><td>0</td><td>5</td><td>0</td><td>0</td><td>3</td><td>0</td><td>0</td><td>8</td><td>0</td><td>0</td><td>3</td><td>0</td><td>0</td><td>9</td></tr></tbody></table></div>"
      ],
      "text/plain": [
       "shape: (19_705, 91)\n",
       "┌─────────┬──────────┬────────────┬────────────┬───┬───────────┬───────────┬───────────┬───────────┐\n",
       "│ GENEID  ┆ UP(U2OS) ┆ DOWN(U2OS) ┆ UNCHANGED( ┆ … ┆ UNCHANGED ┆ UP(Human- ┆ DOWN(Huma ┆ UNCHANGED │\n",
       "│ ---     ┆ ---      ┆ ---        ┆ U2OS)      ┆   ┆ (HEK293-c ┆ Embryonic ┆ n-Embryon ┆ (Human-Em │\n",
       "│ str     ┆ i32      ┆ i32        ┆ ---        ┆   ┆ ells)     ┆ -Kidney-H ┆ ic-Kidney ┆ bryonic-K │\n",
       "│         ┆          ┆            ┆ i32        ┆   ┆ ---       ┆ EK-…      ┆ -HE…      ┆ idn…      │\n",
       "│         ┆          ┆            ┆            ┆   ┆ i32       ┆ ---       ┆ ---       ┆ ---       │\n",
       "│         ┆          ┆            ┆            ┆   ┆           ┆ i32       ┆ i32       ┆ i32       │\n",
       "╞═════════╪══════════╪════════════╪════════════╪═══╪═══════════╪═══════════╪═══════════╪═══════════╡\n",
       "│ A1BG    ┆ 0        ┆ 0          ┆ 36         ┆ … ┆ 3         ┆ 0         ┆ 0         ┆ 9         │\n",
       "│ A1CF    ┆ 0        ┆ 0          ┆ 36         ┆ … ┆ 3         ┆ 0         ┆ 0         ┆ 9         │\n",
       "│ A2M     ┆ 0        ┆ 0          ┆ 36         ┆ … ┆ 3         ┆ 0         ┆ 0         ┆ 9         │\n",
       "│ A2ML1   ┆ 1        ┆ 0          ┆ 35         ┆ … ┆ 3         ┆ 0         ┆ 0         ┆ 9         │\n",
       "│ A3GALT2 ┆ 0        ┆ 0          ┆ 36         ┆ … ┆ 3         ┆ 0         ┆ 0         ┆ 9         │\n",
       "│ …       ┆ …        ┆ …          ┆ …          ┆ … ┆ …         ┆ …         ┆ …         ┆ …         │\n",
       "│ ZYG11A  ┆ 0        ┆ 0          ┆ 36         ┆ … ┆ 3         ┆ 0         ┆ 0         ┆ 9         │\n",
       "│ ZYG11B  ┆ 0        ┆ 0          ┆ 36         ┆ … ┆ 3         ┆ 1         ┆ 0         ┆ 8         │\n",
       "│ ZYX     ┆ 0        ┆ 0          ┆ 36         ┆ … ┆ 3         ┆ 0         ┆ 0         ┆ 9         │\n",
       "│ ZZEF1   ┆ 0        ┆ 0          ┆ 36         ┆ … ┆ 3         ┆ 1         ┆ 0         ┆ 8         │\n",
       "│ ZZZ3    ┆ 0        ┆ 0          ┆ 36         ┆ … ┆ 3         ┆ 0         ┆ 0         ┆ 9         │\n",
       "└─────────┴──────────┴────────────┴────────────┴───┴───────────┴───────────┴───────────┴───────────┘"
      ]
     },
     "metadata": {},
     "output_type": "display_data"
    }
   ],
   "source": [
    "# remove the suffix from the column name\n",
    "def remove_suffix(col_name):\n",
    "    return col_name.rsplit('_', 1)[0]\n",
    "\n",
    "\n",
    "# get the sample column list\n",
    "sample_columns = set(remove_suffix(col) for col in result.columns if col != 'GENEID')\n",
    "\n",
    "print(sample_columns)\n",
    "\n",
    "counts = []\n",
    "for sample in sample_columns:\n",
    "    # get the dataframe for each sample\n",
    "    sample_df = result.select(\n",
    "        ['GENEID'] + [col for col in result.columns if remove_suffix(col) == sample]\n",
    "    )\n",
    "    # count the number of UP, DOWN, UNCHANGED\n",
    "    count = sample_df.with_columns([\n",
    "        (pl.sum_horizontal([\n",
    "            (pl.col(col) == \"UP\").cast(pl.Int32) for col in sample_df.columns if col != \"GENEID\"\n",
    "        ])).alias(f\"UP({sample})\"),\n",
    "        (pl.sum_horizontal([\n",
    "            (pl.col(col) == \"DOWN\").cast(pl.Int32) for col in sample_df.columns if col != \"GENEID\"\n",
    "        ])).alias(f\"DOWN({sample})\"),\n",
    "        pl.sum_horizontal([\n",
    "            (pl.col(col) == \"UNCHANGED\").cast(pl.Int32) for col in sample_df.columns if col != \"GENEID\"\n",
    "        ]).alias(f\"UNCHANGED({sample})\")\n",
    "    ])\n",
    "    # append the count to the counts list\n",
    "    counts.append(count)\n",
    "\n",
    "# combine all samples\n",
    "final_count = counts[0] # initialize the final_count with the first count\n",
    "for count in counts[1:]: # [1:] is the list of counts from the second sample to the last sample\n",
    "    final_count = final_count.join(\n",
    "        count, \n",
    "        on=['GENEID'], \n",
    "        how='left',\n",
    "        coalesce=True\n",
    "    )\n",
    "\n",
    "final_count = final_count.select(\n",
    "    ['GENEID'] + [col for col in final_count.columns if col.startswith('UP(') or col.startswith('DOWN(') or col.startswith('UNCHANGED(')]\n",
    ")\n",
    "\n",
    "display(final_count)"
   ]
  },
  {
   "cell_type": "code",
   "execution_count": 9,
   "metadata": {},
   "outputs": [
    {
     "name": "stdout",
     "output_type": "stream",
     "text": [
      "['U2OS', 'HEK293', 'human-foreskin-fibroblasts', 'Nasopharyngeal-epithelium-derived-cells-CNE2-cell', 'K562', 'neuronal-aggregates-day-50-derived-from-induced-pluripotent-stem-cells', 'colorectal-cancer-cell-line-HCT116', 'FaDu-spheroids-head-and-neck-squamous-cell-carcinomas-HNSCC', 'Colorectal-adenocarcinoma-DLD-1', 'MRC5-VA_CPSF3-dTAG-HA', 'cortical-brain-organoids', 'MRC5-VA', 'MCF7-mammary-gland-cell-culture', 'HeLa-cell-line', 'DLD-1-Colorectal-adenocarcinoma', 'HEPG2-cell', 'SW620', 'Primary-neurons', 'MRC5-VA-cell-line', 'Colorectal-adenocarcinoma-DLD-1-cell-line', 'OCI-Ly1OCI-Ly1-diffuse-B-cell-lymphoma-cells', \"Raji-Burkitt's-B-lymphoma-cells-CDK9as\", 'HEK293T', 'WI38-lung-fibroblast-cells', 'SASspheroids-head-and-neck-squamous-cell-carcinomas-HNSCC', 'K562-erythroleukemia-cells', 'MM.1S-myeloma-cell-line', 'human-lung-fibroblasts-WI38-cell', 'HEK293-cells', 'Human-Embryonic-Kidney-HEK-293T-Rex']\n"
     ]
    },
    {
     "data": {
      "text/html": [
       "<div><style>\n",
       ".dataframe > thead > tr,\n",
       ".dataframe > tbody > tr {\n",
       "  text-align: right;\n",
       "  white-space: pre-wrap;\n",
       "}\n",
       "</style>\n",
       "<small>shape: (5, 32)</small><table border=\"1\" class=\"dataframe\"><thead><tr><th>GENEID</th><th>HN5(U2OS)</th><th>HN5(HEK293)</th><th>HN5(human-foreskin-fibroblasts)</th><th>HN5(Nasopharyngeal-epithelium-derived-cells-CNE2-cell)</th><th>HN5(K562)</th><th>HN5(neuronal-aggregates-day-50-derived-from-induced-pluripotent-stem-cells)</th><th>HN5(colorectal-cancer-cell-line-HCT116)</th><th>HN5(FaDu-spheroids-head-and-neck-squamous-cell-carcinomas-HNSCC)</th><th>HN5(Colorectal-adenocarcinoma-DLD-1)</th><th>HN5(MRC5-VA_CPSF3-dTAG-HA)</th><th>HN5(cortical-brain-organoids)</th><th>HN5(MRC5-VA)</th><th>HN5(MCF7-mammary-gland-cell-culture)</th><th>HN5(HeLa-cell-line)</th><th>HN5(DLD-1-Colorectal-adenocarcinoma)</th><th>HN5(HEPG2-cell)</th><th>HN5(SW620)</th><th>HN5(Primary-neurons)</th><th>HN5(MRC5-VA-cell-line)</th><th>HN5(Colorectal-adenocarcinoma-DLD-1-cell-line)</th><th>HN5(OCI-Ly1OCI-Ly1-diffuse-B-cell-lymphoma-cells)</th><th>HN5(Raji-Burkitt&#x27;s-B-lymphoma-cells-CDK9as)</th><th>HN5(HEK293T)</th><th>HN5(WI38-lung-fibroblast-cells)</th><th>HN5(SASspheroids-head-and-neck-squamous-cell-carcinomas-HNSCC)</th><th>HN5(K562-erythroleukemia-cells)</th><th>HN5(MM.1S-myeloma-cell-line)</th><th>HN5(human-lung-fibroblasts-WI38-cell)</th><th>HN5(HEK293-cells)</th><th>HN5(Human-Embryonic-Kidney-HEK-293T-Rex)</th><th>HN5(all)</th></tr><tr><td>str</td><td>i32</td><td>i32</td><td>i32</td><td>i32</td><td>i32</td><td>i32</td><td>i32</td><td>i32</td><td>i32</td><td>i32</td><td>i32</td><td>i32</td><td>i32</td><td>i32</td><td>i32</td><td>i32</td><td>i32</td><td>i32</td><td>i32</td><td>i32</td><td>i32</td><td>i32</td><td>i32</td><td>i32</td><td>i32</td><td>i32</td><td>i32</td><td>i32</td><td>i32</td><td>i32</td><td>i32</td></tr></thead><tbody><tr><td>&quot;HSPA6&quot;</td><td>36</td><td>0</td><td>16</td><td>3</td><td>15</td><td>2</td><td>6</td><td>6</td><td>4</td><td>8</td><td>4</td><td>31</td><td>5</td><td>4</td><td>8</td><td>2</td><td>12</td><td>16</td><td>10</td><td>12</td><td>6</td><td>4</td><td>18</td><td>3</td><td>6</td><td>0</td><td>3</td><td>4</td><td>0</td><td>1</td><td>245</td></tr><tr><td>&quot;HSPA1A&quot;</td><td>24</td><td>0</td><td>16</td><td>3</td><td>19</td><td>0</td><td>6</td><td>6</td><td>4</td><td>8</td><td>5</td><td>31</td><td>5</td><td>2</td><td>8</td><td>2</td><td>12</td><td>11</td><td>10</td><td>12</td><td>6</td><td>4</td><td>13</td><td>3</td><td>6</td><td>4</td><td>3</td><td>8</td><td>0</td><td>8</td><td>239</td></tr><tr><td>&quot;HSPA1B&quot;</td><td>24</td><td>0</td><td>16</td><td>3</td><td>19</td><td>0</td><td>6</td><td>6</td><td>4</td><td>8</td><td>5</td><td>31</td><td>5</td><td>2</td><td>8</td><td>2</td><td>12</td><td>15</td><td>10</td><td>12</td><td>4</td><td>4</td><td>14</td><td>3</td><td>6</td><td>3</td><td>2</td><td>5</td><td>1</td><td>1</td><td>231</td></tr><tr><td>&quot;DNAJB1&quot;</td><td>24</td><td>0</td><td>16</td><td>3</td><td>9</td><td>0</td><td>6</td><td>6</td><td>4</td><td>8</td><td>5</td><td>24</td><td>5</td><td>2</td><td>8</td><td>2</td><td>12</td><td>9</td><td>10</td><td>12</td><td>4</td><td>4</td><td>15</td><td>2</td><td>6</td><td>3</td><td>2</td><td>6</td><td>3</td><td>0</td><td>210</td></tr><tr><td>&quot;BAG3&quot;</td><td>24</td><td>0</td><td>16</td><td>3</td><td>7</td><td>0</td><td>6</td><td>1</td><td>4</td><td>8</td><td>3</td><td>22</td><td>4</td><td>1</td><td>6</td><td>2</td><td>12</td><td>7</td><td>8</td><td>12</td><td>6</td><td>4</td><td>10</td><td>3</td><td>6</td><td>0</td><td>2</td><td>4</td><td>0</td><td>0</td><td>181</td></tr></tbody></table></div>"
      ],
      "text/plain": [
       "shape: (5, 32)\n",
       "┌────────┬───────────┬────────────┬────────────┬───┬────────────┬───────────┬───────────┬──────────┐\n",
       "│ GENEID ┆ HN5(U2OS) ┆ HN5(HEK293 ┆ HN5(human- ┆ … ┆ HN5(human- ┆ HN5(HEK29 ┆ HN5(Human ┆ HN5(all) │\n",
       "│ ---    ┆ ---       ┆ )          ┆ foreskin-f ┆   ┆ lung-fibro ┆ 3-cells)  ┆ -Embryoni ┆ ---      │\n",
       "│ str    ┆ i32       ┆ ---        ┆ ibroblasts ┆   ┆ blasts-WI3 ┆ ---       ┆ c-Kidney- ┆ i32      │\n",
       "│        ┆           ┆ i32        ┆ …          ┆   ┆ …          ┆ i32       ┆ HEK…      ┆          │\n",
       "│        ┆           ┆            ┆ ---        ┆   ┆ ---        ┆           ┆ ---       ┆          │\n",
       "│        ┆           ┆            ┆ i32        ┆   ┆ i32        ┆           ┆ i32       ┆          │\n",
       "╞════════╪═══════════╪════════════╪════════════╪═══╪════════════╪═══════════╪═══════════╪══════════╡\n",
       "│ HSPA6  ┆ 36        ┆ 0          ┆ 16         ┆ … ┆ 4          ┆ 0         ┆ 1         ┆ 245      │\n",
       "│ HSPA1A ┆ 24        ┆ 0          ┆ 16         ┆ … ┆ 8          ┆ 0         ┆ 8         ┆ 239      │\n",
       "│ HSPA1B ┆ 24        ┆ 0          ┆ 16         ┆ … ┆ 5          ┆ 1         ┆ 1         ┆ 231      │\n",
       "│ DNAJB1 ┆ 24        ┆ 0          ┆ 16         ┆ … ┆ 6          ┆ 3         ┆ 0         ┆ 210      │\n",
       "│ BAG3   ┆ 24        ┆ 0          ┆ 16         ┆ … ┆ 4          ┆ 0         ┆ 0         ┆ 181      │\n",
       "└────────┴───────────┴────────────┴────────────┴───┴────────────┴───────────┴───────────┴──────────┘"
      ]
     },
     "metadata": {},
     "output_type": "display_data"
    }
   ],
   "source": [
    "# get the sample name list\n",
    "sample_names = [col.split('(')[1].split(')')[0] for col in final_count.columns if col.startswith('UP(')]\n",
    "print(sample_names)\n",
    "\n",
    "# calculate HNscore for each sample\n",
    "HNscore_sample_count = final_count.with_columns([\n",
    "    (\n",
    "        pl.col(f'UP({sample})') - pl.col(f'DOWN({sample})')\n",
    "    ).alias(\n",
    "        f'HN{threshold}({sample})'\n",
    "    )\n",
    "    for sample in sample_names # sample_names is the list of sample names\n",
    "])\n",
    "\n",
    "# select the columns that start with HN and end with the sample name\n",
    "HNscore_sample_count = HNscore_sample_count.select(\n",
    "    ['GENEID'] + \n",
    "    [col for col in HNscore_sample_count.columns if col.startswith(f'HN{threshold}(') and col.endswith(')')]\n",
    ").with_columns(\n",
    "    pl.sum_horizontal([\n",
    "        pl.col(col) for col in HNscore_sample_count.columns if col.startswith(f'HN{threshold}(') and col.endswith(')')\n",
    "    ]).alias(f'HN{threshold}(all)')\n",
    ").sort(\n",
    "    by=[f'HN{threshold}(all)'],\n",
    "    descending=True\n",
    ")\n",
    "\n",
    "# save the result to csv\n",
    "HNscore_sample_count.write_csv(\n",
    "    f'../Data/Data_HNscore/HNscore_sample_count_HN{threshold}_human.tsv',\n",
    "    separator='\\t'\n",
    ")\n",
    "\n",
    "display(HNscore_sample_count.head())"
   ]
  },
  {
   "cell_type": "markdown",
   "metadata": {},
   "source": [
    "&nbsp;\n",
    "\n",
    "&nbsp;"
   ]
  },
  {
   "cell_type": "markdown",
   "metadata": {},
   "source": [
    "## HN-score validation"
   ]
  },
  {
   "cell_type": "code",
   "execution_count": 10,
   "metadata": {},
   "outputs": [
    {
     "data": {
      "text/plain": [
       "['HN5(U2OS)',\n",
       " 'HN5(HEK293)',\n",
       " 'HN5(human-foreskin-fibroblasts)',\n",
       " 'HN5(Nasopharyngeal-epithelium-derived-cells-CNE2-cell)',\n",
       " 'HN5(K562)',\n",
       " 'HN5(neuronal-aggregates-day-50-derived-from-induced-pluripotent-stem-cells)',\n",
       " 'HN5(colorectal-cancer-cell-line-HCT116)',\n",
       " 'HN5(FaDu-spheroids-head-and-neck-squamous-cell-carcinomas-HNSCC)',\n",
       " 'HN5(Colorectal-adenocarcinoma-DLD-1)',\n",
       " 'HN5(MRC5-VA_CPSF3-dTAG-HA)',\n",
       " 'HN5(cortical-brain-organoids)',\n",
       " 'HN5(MRC5-VA)',\n",
       " 'HN5(MCF7-mammary-gland-cell-culture)',\n",
       " 'HN5(HeLa-cell-line)',\n",
       " 'HN5(DLD-1-Colorectal-adenocarcinoma)',\n",
       " 'HN5(HEPG2-cell)',\n",
       " 'HN5(SW620)',\n",
       " 'HN5(Primary-neurons)',\n",
       " 'HN5(MRC5-VA-cell-line)',\n",
       " 'HN5(Colorectal-adenocarcinoma-DLD-1-cell-line)',\n",
       " 'HN5(OCI-Ly1OCI-Ly1-diffuse-B-cell-lymphoma-cells)',\n",
       " \"HN5(Raji-Burkitt's-B-lymphoma-cells-CDK9as)\",\n",
       " 'HN5(HEK293T)',\n",
       " 'HN5(WI38-lung-fibroblast-cells)',\n",
       " 'HN5(SASspheroids-head-and-neck-squamous-cell-carcinomas-HNSCC)',\n",
       " 'HN5(K562-erythroleukemia-cells)',\n",
       " 'HN5(MM.1S-myeloma-cell-line)',\n",
       " 'HN5(human-lung-fibroblasts-WI38-cell)',\n",
       " 'HN5(HEK293-cells)',\n",
       " 'HN5(Human-Embryonic-Kidney-HEK-293T-Rex)']"
      ]
     },
     "metadata": {},
     "output_type": "display_data"
    }
   ],
   "source": [
    "# select HN5 columns (exclude HN5(all))\n",
    "hn5_columns = [col for col in HNscore_sample_count.columns if col.startswith(\"HN5(\") and col != \"HN5(all)\"]\n",
    "display(hn5_columns)"
   ]
  },
  {
   "cell_type": "code",
   "execution_count": 11,
   "metadata": {},
   "outputs": [
    {
     "data": {
      "text/html": [
       "<div><style>\n",
       ".dataframe > thead > tr,\n",
       ".dataframe > tbody > tr {\n",
       "  text-align: right;\n",
       "  white-space: pre-wrap;\n",
       "}\n",
       "</style>\n",
       "<small>shape: (5, 7)</small><table border=\"1\" class=\"dataframe\"><thead><tr><th>GENEID</th><th>HN5(all)</th><th>positive_samples_count_human</th><th>negative_samples_count_human</th><th>total_samples</th><th>positive_contribution_human</th><th>negative_contribution_human</th></tr><tr><td>str</td><td>i32</td><td>i32</td><td>i32</td><td>i32</td><td>str</td><td>str</td></tr></thead><tbody><tr><td>&quot;HSPA6&quot;</td><td>245</td><td>27</td><td>0</td><td>30</td><td>&quot;27 / 30 samples positively con…</td><td>&quot;0 / 30 samples negatively cont…</td></tr><tr><td>&quot;HSPA1A&quot;</td><td>239</td><td>27</td><td>0</td><td>30</td><td>&quot;27 / 30 samples positively con…</td><td>&quot;0 / 30 samples negatively cont…</td></tr><tr><td>&quot;HSPA1B&quot;</td><td>231</td><td>28</td><td>0</td><td>30</td><td>&quot;28 / 30 samples positively con…</td><td>&quot;0 / 30 samples negatively cont…</td></tr><tr><td>&quot;DNAJB1&quot;</td><td>210</td><td>27</td><td>0</td><td>30</td><td>&quot;27 / 30 samples positively con…</td><td>&quot;0 / 30 samples negatively cont…</td></tr><tr><td>&quot;BAG3&quot;</td><td>181</td><td>25</td><td>0</td><td>30</td><td>&quot;25 / 30 samples positively con…</td><td>&quot;0 / 30 samples negatively cont…</td></tr></tbody></table></div>"
      ],
      "text/plain": [
       "shape: (5, 7)\n",
       "┌────────┬──────────┬───────────────┬───────────────┬───────────────┬───────────────┬──────────────┐\n",
       "│ GENEID ┆ HN5(all) ┆ positive_samp ┆ negative_samp ┆ total_samples ┆ positive_cont ┆ negative_con │\n",
       "│ ---    ┆ ---      ┆ les_count_hum ┆ les_count_hum ┆ ---           ┆ ribution_huma ┆ tribution_hu │\n",
       "│ str    ┆ i32      ┆ an            ┆ an            ┆ i32           ┆ n             ┆ man          │\n",
       "│        ┆          ┆ ---           ┆ ---           ┆               ┆ ---           ┆ ---          │\n",
       "│        ┆          ┆ i32           ┆ i32           ┆               ┆ str           ┆ str          │\n",
       "╞════════╪══════════╪═══════════════╪═══════════════╪═══════════════╪═══════════════╪══════════════╡\n",
       "│ HSPA6  ┆ 245      ┆ 27            ┆ 0             ┆ 30            ┆ 27 / 30       ┆ 0 / 30       │\n",
       "│        ┆          ┆               ┆               ┆               ┆ samples       ┆ samples      │\n",
       "│        ┆          ┆               ┆               ┆               ┆ positively    ┆ negatively   │\n",
       "│        ┆          ┆               ┆               ┆               ┆ con…          ┆ cont…        │\n",
       "│ HSPA1A ┆ 239      ┆ 27            ┆ 0             ┆ 30            ┆ 27 / 30       ┆ 0 / 30       │\n",
       "│        ┆          ┆               ┆               ┆               ┆ samples       ┆ samples      │\n",
       "│        ┆          ┆               ┆               ┆               ┆ positively    ┆ negatively   │\n",
       "│        ┆          ┆               ┆               ┆               ┆ con…          ┆ cont…        │\n",
       "│ HSPA1B ┆ 231      ┆ 28            ┆ 0             ┆ 30            ┆ 28 / 30       ┆ 0 / 30       │\n",
       "│        ┆          ┆               ┆               ┆               ┆ samples       ┆ samples      │\n",
       "│        ┆          ┆               ┆               ┆               ┆ positively    ┆ negatively   │\n",
       "│        ┆          ┆               ┆               ┆               ┆ con…          ┆ cont…        │\n",
       "│ DNAJB1 ┆ 210      ┆ 27            ┆ 0             ┆ 30            ┆ 27 / 30       ┆ 0 / 30       │\n",
       "│        ┆          ┆               ┆               ┆               ┆ samples       ┆ samples      │\n",
       "│        ┆          ┆               ┆               ┆               ┆ positively    ┆ negatively   │\n",
       "│        ┆          ┆               ┆               ┆               ┆ con…          ┆ cont…        │\n",
       "│ BAG3   ┆ 181      ┆ 25            ┆ 0             ┆ 30            ┆ 25 / 30       ┆ 0 / 30       │\n",
       "│        ┆          ┆               ┆               ┆               ┆ samples       ┆ samples      │\n",
       "│        ┆          ┆               ┆               ┆               ┆ positively    ┆ negatively   │\n",
       "│        ┆          ┆               ┆               ┆               ┆ con…          ┆ cont…        │\n",
       "└────────┴──────────┴───────────────┴───────────────┴───────────────┴───────────────┴──────────────┘"
      ]
     },
     "metadata": {},
     "output_type": "display_data"
    }
   ],
   "source": [
    "# count positive and negative samples\n",
    "HNscore_sample_validate = HNscore_sample_count.with_columns([\n",
    "    pl.fold(0, lambda acc, x: acc + (x > 0).cast(pl.Int32), hn5_columns).alias(\"positive_samples_count_human\"),\n",
    "    pl.fold(0, lambda acc, x: acc + (x < 0).cast(pl.Int32), hn5_columns).alias(\"negative_samples_count_human\")\n",
    "])\n",
    "\n",
    "# assign tag to the contribution of samples\n",
    "def tag_contribution(count, type, hn5_column):\n",
    "    total_samples = len(hn5_column)\n",
    "    if count == total_samples:\n",
    "        return f\"all samples {type} contribute to the score\"\n",
    "    else:\n",
    "        return f\"{count} / {total_samples} samples {type} contribute to the score\"\n",
    "    \n",
    "HNscore_sample_validate = HNscore_sample_validate.with_columns([\n",
    "    pl.lit(len(hn5_columns)).alias(\"total_samples\"),\n",
    "    pl.col(\"positive_samples_count_human\").map_elements(lambda x: tag_contribution(x, \"positively\", hn5_columns), return_dtype=pl.Utf8).alias(\"positive_contribution_human\"),\n",
    "    pl.col(\"negative_samples_count_human\").map_elements(lambda x: tag_contribution(x, \"negatively\", hn5_columns), return_dtype=pl.Utf8).alias(\"negative_contribution_human\")\n",
    "]\n",
    ").sort(\n",
    "    by=[\"HN5(all)\"],\n",
    "    descending=True\n",
    ").drop(\n",
    "    hn5_columns\n",
    ")\n",
    "\n",
    "# save the result to csv\n",
    "HNscore_sample_validate.write_csv(\n",
    "    f'../Data/Data_HNscore/HNscore_sample_validate_HN{threshold}_human.tsv',\n",
    "    separator='\\t'\n",
    ")\n",
    "\n",
    "display(HNscore_sample_validate.head())"
   ]
  },
  {
   "cell_type": "markdown",
   "metadata": {},
   "source": [
    "&nbsp;\n",
    "\n",
    "&nbsp;\n"
   ]
  },
  {
   "cell_type": "markdown",
   "metadata": {},
   "source": [
    "## Gene symbol checker\n",
    "\n",
    "- ~~HGNCで念の為 `Approved symbol` をチェックしておく~~\n",
    "- ~~[Multi-symbol checker](https://www.genenames.org/tools/multi-symbol-checker/) にアクセス~~\n",
    "- TogoIDでヒットしたヒトのUniProt IDをキーにHGNC IDを取得しておく\n"
   ]
  },
  {
   "cell_type": "code",
   "execution_count": 12,
   "metadata": {},
   "outputs": [],
   "source": [
    "# hgnc_current_symbol = pl.read_csv(\n",
    "#     \"../Data/Data_HNscore/hgnc-symbol-check.csv\",\n",
    "#     separator=\",\"\n",
    "# ).rename(\n",
    "#     {\n",
    "#         \"Input\" : \"GENEID\",\n",
    "#         \"Approved symbol\" : \"hgnc_symbol_id\"\n",
    "#     }\n",
    "# ).with_columns(\n",
    "#     [\n",
    "#         pl.col(\"HGNC ID\")\n",
    "#             .str.extract(r\":(\\d+)$\", 1)\n",
    "#             .cast(pl.Int64)\n",
    "#             .alias(\"hgnc_id\")\n",
    "#     ]\n",
    "# ).select(\n",
    "#     [\n",
    "#         \"GENEID\",\n",
    "#         \"Match type\",\n",
    "#         \"hgnc_id\",\n",
    "#         \"hgnc_symbol_id\"\n",
    "#     ]\n",
    "# )\n",
    "\n",
    "# display(hgnc_current_symbol)"
   ]
  },
  {
   "cell_type": "code",
   "execution_count": 13,
   "metadata": {},
   "outputs": [
    {
     "data": {
      "text/html": [
       "<div><style>\n",
       ".dataframe > thead > tr,\n",
       ".dataframe > tbody > tr {\n",
       "  text-align: right;\n",
       "  white-space: pre-wrap;\n",
       "}\n",
       "</style>\n",
       "<small>shape: (6_077, 6)</small><table border=\"1\" class=\"dataframe\"><thead><tr><th>uniprot_id</th><th>ensembl_protein_id</th><th>ensembl_transcript_id</th><th>ensembl_gene_id</th><th>hgnc_id</th><th>GENEID</th></tr><tr><td>str</td><td>str</td><td>str</td><td>str</td><td>i64</td><td>str</td></tr></thead><tbody><tr><td>&quot;A0A024QZW4&quot;</td><td>&quot;ENSP00000518269&quot;</td><td>&quot;ENST00000710437&quot;</td><td>&quot;ENSG00000124786&quot;</td><td>21601</td><td>&quot;SLC35B3&quot;</td></tr><tr><td>&quot;A0A024QZW4&quot;</td><td>&quot;ENSP00000498054&quot;</td><td>&quot;ENST00000648987&quot;</td><td>&quot;ENSG00000124786&quot;</td><td>21601</td><td>&quot;SLC35B3&quot;</td></tr><tr><td>&quot;A0A024R3B9&quot;</td><td>&quot;ENSP00000435411&quot;</td><td>&quot;ENST00000525823&quot;</td><td>&quot;ENSG00000109846&quot;</td><td>2389</td><td>&quot;CRYAB&quot;</td></tr><tr><td>&quot;A0A024R3B9&quot;</td><td>&quot;ENSP00000435960&quot;</td><td>&quot;ENST00000528961&quot;</td><td>&quot;ENSG00000109846&quot;</td><td>2389</td><td>&quot;CRYAB&quot;</td></tr><tr><td>&quot;A0A024R3B9&quot;</td><td>&quot;ENSP00000435046&quot;</td><td>&quot;ENST00000533280&quot;</td><td>&quot;ENSG00000109846&quot;</td><td>2389</td><td>&quot;CRYAB&quot;</td></tr><tr><td>&hellip;</td><td>&hellip;</td><td>&hellip;</td><td>&hellip;</td><td>&hellip;</td><td>&hellip;</td></tr><tr><td>&quot;X6RA14&quot;</td><td>&quot;ENSP00000367969&quot;</td><td>&quot;ENST00000378697&quot;</td><td>&quot;ENSG00000139684&quot;</td><td>3465</td><td>&quot;ESD&quot;</td></tr><tr><td>&quot;X6RBJ8&quot;</td><td>&quot;ENSP00000380187&quot;</td><td>&quot;ENST00000396990&quot;</td><td>&quot;ENSG00000198876&quot;</td><td>19911</td><td>&quot;DCAF12&quot;</td></tr><tr><td>&quot;X6RHX1&quot;</td><td>&quot;ENSP00000407993&quot;</td><td>&quot;ENST00000423670&quot;</td><td>&quot;ENSG00000000457&quot;</td><td>19285</td><td>&quot;SCYL3&quot;</td></tr><tr><td>&quot;X6RID7&quot;</td><td>&quot;ENSP00000409527&quot;</td><td>&quot;ENST00000433268&quot;</td><td>&quot;ENSG00000156042&quot;</td><td>30726</td><td>&quot;CFAP70&quot;</td></tr><tr><td>&quot;X6RL26&quot;</td><td>&quot;ENSP00000415833&quot;</td><td>&quot;ENST00000450964&quot;</td><td>&quot;ENSG00000198876&quot;</td><td>19911</td><td>&quot;DCAF12&quot;</td></tr></tbody></table></div>"
      ],
      "text/plain": [
       "shape: (6_077, 6)\n",
       "┌────────────┬────────────────────┬───────────────────────┬─────────────────┬─────────┬─────────┐\n",
       "│ uniprot_id ┆ ensembl_protein_id ┆ ensembl_transcript_id ┆ ensembl_gene_id ┆ hgnc_id ┆ GENEID  │\n",
       "│ ---        ┆ ---                ┆ ---                   ┆ ---             ┆ ---     ┆ ---     │\n",
       "│ str        ┆ str                ┆ str                   ┆ str             ┆ i64     ┆ str     │\n",
       "╞════════════╪════════════════════╪═══════════════════════╪═════════════════╪═════════╪═════════╡\n",
       "│ A0A024QZW4 ┆ ENSP00000518269    ┆ ENST00000710437       ┆ ENSG00000124786 ┆ 21601   ┆ SLC35B3 │\n",
       "│ A0A024QZW4 ┆ ENSP00000498054    ┆ ENST00000648987       ┆ ENSG00000124786 ┆ 21601   ┆ SLC35B3 │\n",
       "│ A0A024R3B9 ┆ ENSP00000435411    ┆ ENST00000525823       ┆ ENSG00000109846 ┆ 2389    ┆ CRYAB   │\n",
       "│ A0A024R3B9 ┆ ENSP00000435960    ┆ ENST00000528961       ┆ ENSG00000109846 ┆ 2389    ┆ CRYAB   │\n",
       "│ A0A024R3B9 ┆ ENSP00000435046    ┆ ENST00000533280       ┆ ENSG00000109846 ┆ 2389    ┆ CRYAB   │\n",
       "│ …          ┆ …                  ┆ …                     ┆ …               ┆ …       ┆ …       │\n",
       "│ X6RA14     ┆ ENSP00000367969    ┆ ENST00000378697       ┆ ENSG00000139684 ┆ 3465    ┆ ESD     │\n",
       "│ X6RBJ8     ┆ ENSP00000380187    ┆ ENST00000396990       ┆ ENSG00000198876 ┆ 19911   ┆ DCAF12  │\n",
       "│ X6RHX1     ┆ ENSP00000407993    ┆ ENST00000423670       ┆ ENSG00000000457 ┆ 19285   ┆ SCYL3   │\n",
       "│ X6RID7     ┆ ENSP00000409527    ┆ ENST00000433268       ┆ ENSG00000156042 ┆ 30726   ┆ CFAP70  │\n",
       "│ X6RL26     ┆ ENSP00000415833    ┆ ENST00000450964       ┆ ENSG00000198876 ┆ 19911   ┆ DCAF12  │\n",
       "└────────────┴────────────────────┴───────────────────────┴─────────────────┴─────────┴─────────┘"
      ]
     },
     "metadata": {},
     "output_type": "display_data"
    }
   ],
   "source": [
    "#upregulate rice gene\n",
    "togoid_convert_to_human_up = pl.read_csv(\n",
    "    \"../out/rice_up/rice_up_togoid_convert.tsv\",\n",
    "    separator=\"\\t\"\n",
    ").filter(\n",
    "    pl.col(\"hgnc_id\").is_not_null()\n",
    ").rename(\n",
    "    {\n",
    "        \"hgnc_symbol_id\": \"GENEID\"\n",
    "    }\n",
    ")\n",
    "\n",
    "display(togoid_convert_to_human_up)\n"
   ]
  },
  {
   "cell_type": "code",
   "execution_count": 14,
   "metadata": {},
   "outputs": [
    {
     "data": {
      "text/html": [
       "<div><style>\n",
       ".dataframe > thead > tr,\n",
       ".dataframe > tbody > tr {\n",
       "  text-align: right;\n",
       "  white-space: pre-wrap;\n",
       "}\n",
       "</style>\n",
       "<small>shape: (6_014, 12)</small><table border=\"1\" class=\"dataframe\"><thead><tr><th>uniprot_id</th><th>ensembl_protein_id</th><th>ensembl_transcript_id</th><th>ensembl_gene_id</th><th>hgnc_id</th><th>GENEID</th><th>HN5(all)</th><th>positive_samples_count_human</th><th>negative_samples_count_human</th><th>total_samples</th><th>positive_contribution_human</th><th>negative_contribution_human</th></tr><tr><td>str</td><td>str</td><td>str</td><td>str</td><td>i64</td><td>str</td><td>i32</td><td>i32</td><td>i32</td><td>i32</td><td>str</td><td>str</td></tr></thead><tbody><tr><td>&quot;P17066&quot;</td><td>&quot;ENSP00000310219&quot;</td><td>&quot;ENST00000309758&quot;</td><td>&quot;ENSG00000173110&quot;</td><td>5239</td><td>&quot;HSPA6&quot;</td><td>245</td><td>27</td><td>0</td><td>30</td><td>&quot;27 / 30 samples positively con…</td><td>&quot;0 / 30 samples negatively cont…</td></tr><tr><td>&quot;P0DMV8&quot;</td><td>&quot;ENSP00000364802&quot;</td><td>&quot;ENST00000375651&quot;</td><td>&quot;ENSG00000204389&quot;</td><td>5232</td><td>&quot;HSPA1A&quot;</td><td>239</td><td>27</td><td>0</td><td>30</td><td>&quot;27 / 30 samples positively con…</td><td>&quot;0 / 30 samples negatively cont…</td></tr><tr><td>&quot;P0DMV8&quot;</td><td>&quot;ENSP00000382915&quot;</td><td>&quot;ENST00000400040&quot;</td><td>&quot;ENSG00000215328&quot;</td><td>5232</td><td>&quot;HSPA1A&quot;</td><td>239</td><td>27</td><td>0</td><td>30</td><td>&quot;27 / 30 samples positively con…</td><td>&quot;0 / 30 samples negatively cont…</td></tr><tr><td>&quot;P0DMV8&quot;</td><td>&quot;ENSP00000404524&quot;</td><td>&quot;ENST00000430065&quot;</td><td>&quot;ENSG00000235941&quot;</td><td>5232</td><td>&quot;HSPA1A&quot;</td><td>239</td><td>27</td><td>0</td><td>30</td><td>&quot;27 / 30 samples positively con…</td><td>&quot;0 / 30 samples negatively cont…</td></tr><tr><td>&quot;P0DMV8&quot;</td><td>&quot;ENSP00000408907&quot;</td><td>&quot;ENST00000433487&quot;</td><td>&quot;ENSG00000234475&quot;</td><td>5232</td><td>&quot;HSPA1A&quot;</td><td>239</td><td>27</td><td>0</td><td>30</td><td>&quot;27 / 30 samples positively con…</td><td>&quot;0 / 30 samples negatively cont…</td></tr><tr><td>&hellip;</td><td>&hellip;</td><td>&hellip;</td><td>&hellip;</td><td>&hellip;</td><td>&hellip;</td><td>&hellip;</td><td>&hellip;</td><td>&hellip;</td><td>&hellip;</td><td>&hellip;</td><td>&hellip;</td></tr><tr><td>&quot;A0A7P0T7D6&quot;</td><td>&quot;ENSP00000506550&quot;</td><td>&quot;ENST00000679536&quot;</td><td>&quot;ENSG00000119917&quot;</td><td>5411</td><td>&quot;IFIT3&quot;</td><td>-31</td><td>2</td><td>12</td><td>30</td><td>&quot;2 / 30 samples positively cont…</td><td>&quot;12 / 30 samples negatively con…</td></tr><tr><td>&quot;A0A7P0T855&quot;</td><td>&quot;ENSP00000504949&quot;</td><td>&quot;ENST00000680779&quot;</td><td>&quot;ENSG00000119917&quot;</td><td>5411</td><td>&quot;IFIT3&quot;</td><td>-31</td><td>2</td><td>12</td><td>30</td><td>&quot;2 / 30 samples positively cont…</td><td>&quot;12 / 30 samples negatively con…</td></tr><tr><td>&quot;O14879&quot;</td><td>&quot;ENSP00000360876&quot;</td><td>&quot;ENST00000371811&quot;</td><td>&quot;ENSG00000119917&quot;</td><td>5411</td><td>&quot;IFIT3&quot;</td><td>-31</td><td>2</td><td>12</td><td>30</td><td>&quot;2 / 30 samples positively cont…</td><td>&quot;12 / 30 samples negatively con…</td></tr><tr><td>&quot;O14879&quot;</td><td>&quot;ENSP00000505987&quot;</td><td>&quot;ENST00000679781&quot;</td><td>&quot;ENSG00000119917&quot;</td><td>5411</td><td>&quot;IFIT3&quot;</td><td>-31</td><td>2</td><td>12</td><td>30</td><td>&quot;2 / 30 samples positively cont…</td><td>&quot;12 / 30 samples negatively con…</td></tr><tr><td>&quot;O14879&quot;</td><td>&quot;ENSP00000360883&quot;</td><td>&quot;ENST00000371818&quot;</td><td>&quot;ENSG00000119917&quot;</td><td>5411</td><td>&quot;IFIT3&quot;</td><td>-31</td><td>2</td><td>12</td><td>30</td><td>&quot;2 / 30 samples positively cont…</td><td>&quot;12 / 30 samples negatively con…</td></tr></tbody></table></div>"
      ],
      "text/plain": [
       "shape: (6_014, 12)\n",
       "┌───────────┬───────────┬───────────┬───────────┬───┬───────────┬───────────┬───────────┬──────────┐\n",
       "│ uniprot_i ┆ ensembl_p ┆ ensembl_t ┆ ensembl_g ┆ … ┆ negative_ ┆ total_sam ┆ positive_ ┆ negative │\n",
       "│ d         ┆ rotein_id ┆ ranscript ┆ ene_id    ┆   ┆ samples_c ┆ ples      ┆ contribut ┆ _contrib │\n",
       "│ ---       ┆ ---       ┆ _id       ┆ ---       ┆   ┆ ount_huma ┆ ---       ┆ ion_human ┆ ution_hu │\n",
       "│ str       ┆ str       ┆ ---       ┆ str       ┆   ┆ n         ┆ i32       ┆ ---       ┆ man      │\n",
       "│           ┆           ┆ str       ┆           ┆   ┆ ---       ┆           ┆ str       ┆ ---      │\n",
       "│           ┆           ┆           ┆           ┆   ┆ i32       ┆           ┆           ┆ str      │\n",
       "╞═══════════╪═══════════╪═══════════╪═══════════╪═══╪═══════════╪═══════════╪═══════════╪══════════╡\n",
       "│ P17066    ┆ ENSP00000 ┆ ENST00000 ┆ ENSG00000 ┆ … ┆ 0         ┆ 30        ┆ 27 / 30   ┆ 0 / 30   │\n",
       "│           ┆ 310219    ┆ 309758    ┆ 173110    ┆   ┆           ┆           ┆ samples   ┆ samples  │\n",
       "│           ┆           ┆           ┆           ┆   ┆           ┆           ┆ positivel ┆ negative │\n",
       "│           ┆           ┆           ┆           ┆   ┆           ┆           ┆ y con…    ┆ ly cont… │\n",
       "│ P0DMV8    ┆ ENSP00000 ┆ ENST00000 ┆ ENSG00000 ┆ … ┆ 0         ┆ 30        ┆ 27 / 30   ┆ 0 / 30   │\n",
       "│           ┆ 364802    ┆ 375651    ┆ 204389    ┆   ┆           ┆           ┆ samples   ┆ samples  │\n",
       "│           ┆           ┆           ┆           ┆   ┆           ┆           ┆ positivel ┆ negative │\n",
       "│           ┆           ┆           ┆           ┆   ┆           ┆           ┆ y con…    ┆ ly cont… │\n",
       "│ P0DMV8    ┆ ENSP00000 ┆ ENST00000 ┆ ENSG00000 ┆ … ┆ 0         ┆ 30        ┆ 27 / 30   ┆ 0 / 30   │\n",
       "│           ┆ 382915    ┆ 400040    ┆ 215328    ┆   ┆           ┆           ┆ samples   ┆ samples  │\n",
       "│           ┆           ┆           ┆           ┆   ┆           ┆           ┆ positivel ┆ negative │\n",
       "│           ┆           ┆           ┆           ┆   ┆           ┆           ┆ y con…    ┆ ly cont… │\n",
       "│ P0DMV8    ┆ ENSP00000 ┆ ENST00000 ┆ ENSG00000 ┆ … ┆ 0         ┆ 30        ┆ 27 / 30   ┆ 0 / 30   │\n",
       "│           ┆ 404524    ┆ 430065    ┆ 235941    ┆   ┆           ┆           ┆ samples   ┆ samples  │\n",
       "│           ┆           ┆           ┆           ┆   ┆           ┆           ┆ positivel ┆ negative │\n",
       "│           ┆           ┆           ┆           ┆   ┆           ┆           ┆ y con…    ┆ ly cont… │\n",
       "│ P0DMV8    ┆ ENSP00000 ┆ ENST00000 ┆ ENSG00000 ┆ … ┆ 0         ┆ 30        ┆ 27 / 30   ┆ 0 / 30   │\n",
       "│           ┆ 408907    ┆ 433487    ┆ 234475    ┆   ┆           ┆           ┆ samples   ┆ samples  │\n",
       "│           ┆           ┆           ┆           ┆   ┆           ┆           ┆ positivel ┆ negative │\n",
       "│           ┆           ┆           ┆           ┆   ┆           ┆           ┆ y con…    ┆ ly cont… │\n",
       "│ …         ┆ …         ┆ …         ┆ …         ┆ … ┆ …         ┆ …         ┆ …         ┆ …        │\n",
       "│ A0A7P0T7D ┆ ENSP00000 ┆ ENST00000 ┆ ENSG00000 ┆ … ┆ 12        ┆ 30        ┆ 2 / 30    ┆ 12 / 30  │\n",
       "│ 6         ┆ 506550    ┆ 679536    ┆ 119917    ┆   ┆           ┆           ┆ samples   ┆ samples  │\n",
       "│           ┆           ┆           ┆           ┆   ┆           ┆           ┆ positivel ┆ negative │\n",
       "│           ┆           ┆           ┆           ┆   ┆           ┆           ┆ y cont…   ┆ ly con…  │\n",
       "│ A0A7P0T85 ┆ ENSP00000 ┆ ENST00000 ┆ ENSG00000 ┆ … ┆ 12        ┆ 30        ┆ 2 / 30    ┆ 12 / 30  │\n",
       "│ 5         ┆ 504949    ┆ 680779    ┆ 119917    ┆   ┆           ┆           ┆ samples   ┆ samples  │\n",
       "│           ┆           ┆           ┆           ┆   ┆           ┆           ┆ positivel ┆ negative │\n",
       "│           ┆           ┆           ┆           ┆   ┆           ┆           ┆ y cont…   ┆ ly con…  │\n",
       "│ O14879    ┆ ENSP00000 ┆ ENST00000 ┆ ENSG00000 ┆ … ┆ 12        ┆ 30        ┆ 2 / 30    ┆ 12 / 30  │\n",
       "│           ┆ 360876    ┆ 371811    ┆ 119917    ┆   ┆           ┆           ┆ samples   ┆ samples  │\n",
       "│           ┆           ┆           ┆           ┆   ┆           ┆           ┆ positivel ┆ negative │\n",
       "│           ┆           ┆           ┆           ┆   ┆           ┆           ┆ y cont…   ┆ ly con…  │\n",
       "│ O14879    ┆ ENSP00000 ┆ ENST00000 ┆ ENSG00000 ┆ … ┆ 12        ┆ 30        ┆ 2 / 30    ┆ 12 / 30  │\n",
       "│           ┆ 505987    ┆ 679781    ┆ 119917    ┆   ┆           ┆           ┆ samples   ┆ samples  │\n",
       "│           ┆           ┆           ┆           ┆   ┆           ┆           ┆ positivel ┆ negative │\n",
       "│           ┆           ┆           ┆           ┆   ┆           ┆           ┆ y cont…   ┆ ly con…  │\n",
       "│ O14879    ┆ ENSP00000 ┆ ENST00000 ┆ ENSG00000 ┆ … ┆ 12        ┆ 30        ┆ 2 / 30    ┆ 12 / 30  │\n",
       "│           ┆ 360883    ┆ 371818    ┆ 119917    ┆   ┆           ┆           ┆ samples   ┆ samples  │\n",
       "│           ┆           ┆           ┆           ┆   ┆           ┆           ┆ positivel ┆ negative │\n",
       "│           ┆           ┆           ┆           ┆   ┆           ┆           ┆ y cont…   ┆ ly con…  │\n",
       "└───────────┴───────────┴───────────┴───────────┴───┴───────────┴───────────┴───────────┴──────────┘"
      ]
     },
     "metadata": {},
     "output_type": "display_data"
    }
   ],
   "source": [
    "HNscore_up_sample_count_checked = togoid_convert_to_human_up.join(\n",
    "    HNscore_sample_validate,\n",
    "    on=\"GENEID\",\n",
    "    how=\"left\",\n",
    "    coalesce=True\n",
    ").sort(\n",
    "    by=[f'HN5(all)'],\n",
    "    descending=True\n",
    ").filter(\n",
    "    pl.col(\"HN5(all)\").is_not_null()\n",
    ")\n",
    "\n",
    "# save the result to csv\n",
    "HNscore_up_sample_count_checked.write_csv(\n",
    "    f'../Data/Data_HNscore/HNscore_sample_count_HN{threshold}_human_checked_up.tsv',\n",
    "    separator='\\t'\n",
    ")\n",
    "\n",
    "display(HNscore_up_sample_count_checked)\n"
   ]
  },
  {
   "cell_type": "markdown",
   "metadata": {},
   "source": [
    "&nbsp;\n",
    "\n",
    "&nbsp;\n"
   ]
  },
  {
   "cell_type": "code",
   "execution_count": 15,
   "metadata": {},
   "outputs": [
    {
     "data": {
      "text/html": [
       "<div><style>\n",
       ".dataframe > thead > tr,\n",
       ".dataframe > tbody > tr {\n",
       "  text-align: right;\n",
       "  white-space: pre-wrap;\n",
       "}\n",
       "</style>\n",
       "<small>shape: (4_990, 6)</small><table border=\"1\" class=\"dataframe\"><thead><tr><th>uniprot_id</th><th>ensembl_protein_id</th><th>ensembl_transcript_id</th><th>ensembl_gene_id</th><th>hgnc_id</th><th>GENEID</th></tr><tr><td>str</td><td>str</td><td>str</td><td>str</td><td>i64</td><td>str</td></tr></thead><tbody><tr><td>&quot;A0A024QZP7&quot;</td><td>&quot;ENSP00000397973&quot;</td><td>&quot;ENST00000448257&quot;</td><td>&quot;ENSG00000170312&quot;</td><td>1722</td><td>&quot;CDK1&quot;</td></tr><tr><td>&quot;A0A024QZW4&quot;</td><td>&quot;ENSP00000518269&quot;</td><td>&quot;ENST00000710437&quot;</td><td>&quot;ENSG00000124786&quot;</td><td>21601</td><td>&quot;SLC35B3&quot;</td></tr><tr><td>&quot;A0A024QZW4&quot;</td><td>&quot;ENSP00000498054&quot;</td><td>&quot;ENST00000648987&quot;</td><td>&quot;ENSG00000124786&quot;</td><td>21601</td><td>&quot;SLC35B3&quot;</td></tr><tr><td>&quot;A0A024R3M2&quot;</td><td>&quot;ENSP00000489896&quot;</td><td>&quot;ENST00000638157&quot;</td><td>&quot;ENSG00000023171&quot;</td><td>29214</td><td>&quot;GRAMD1B&quot;</td></tr><tr><td>&quot;A0A024R5G9&quot;</td><td>&quot;ENSP00000435822&quot;</td><td>&quot;ENST00000526010&quot;</td><td>&quot;ENSG00000174080&quot;</td><td>2531</td><td>&quot;CTSF&quot;</td></tr><tr><td>&hellip;</td><td>&hellip;</td><td>&hellip;</td><td>&hellip;</td><td>&hellip;</td><td>&hellip;</td></tr><tr><td>&quot;X6RGV9&quot;</td><td>&quot;ENSP00000403953&quot;</td><td>&quot;ENST00000420055&quot;</td><td>&quot;ENSG00000162639&quot;</td><td>26400</td><td>&quot;HENMT1&quot;</td></tr><tr><td>&quot;X6RI37&quot;</td><td>&quot;ENSP00000408275&quot;</td><td>&quot;ENST00000451838&quot;</td><td>&quot;ENSG00000108061&quot;</td><td>15454</td><td>&quot;SHOC2&quot;</td></tr><tr><td>&quot;X6RI37&quot;</td><td>&quot;ENSP00000510700&quot;</td><td>&quot;ENST00000689997&quot;</td><td>&quot;ENSG00000108061&quot;</td><td>15454</td><td>&quot;SHOC2&quot;</td></tr><tr><td>&quot;X6RIU2&quot;</td><td>&quot;ENSP00000409912&quot;</td><td>&quot;ENST00000442513&quot;</td><td>&quot;ENSG00000163075&quot;</td><td>33720</td><td>&quot;CFAP221&quot;</td></tr><tr><td>&quot;X6RM59&quot;</td><td>&quot;ENSP00000476480&quot;</td><td>&quot;ENST00000610140&quot;</td><td>&quot;ENSG00000122643&quot;</td><td>17820</td><td>&quot;NT5C3A&quot;</td></tr></tbody></table></div>"
      ],
      "text/plain": [
       "shape: (4_990, 6)\n",
       "┌────────────┬────────────────────┬───────────────────────┬─────────────────┬─────────┬─────────┐\n",
       "│ uniprot_id ┆ ensembl_protein_id ┆ ensembl_transcript_id ┆ ensembl_gene_id ┆ hgnc_id ┆ GENEID  │\n",
       "│ ---        ┆ ---                ┆ ---                   ┆ ---             ┆ ---     ┆ ---     │\n",
       "│ str        ┆ str                ┆ str                   ┆ str             ┆ i64     ┆ str     │\n",
       "╞════════════╪════════════════════╪═══════════════════════╪═════════════════╪═════════╪═════════╡\n",
       "│ A0A024QZP7 ┆ ENSP00000397973    ┆ ENST00000448257       ┆ ENSG00000170312 ┆ 1722    ┆ CDK1    │\n",
       "│ A0A024QZW4 ┆ ENSP00000518269    ┆ ENST00000710437       ┆ ENSG00000124786 ┆ 21601   ┆ SLC35B3 │\n",
       "│ A0A024QZW4 ┆ ENSP00000498054    ┆ ENST00000648987       ┆ ENSG00000124786 ┆ 21601   ┆ SLC35B3 │\n",
       "│ A0A024R3M2 ┆ ENSP00000489896    ┆ ENST00000638157       ┆ ENSG00000023171 ┆ 29214   ┆ GRAMD1B │\n",
       "│ A0A024R5G9 ┆ ENSP00000435822    ┆ ENST00000526010       ┆ ENSG00000174080 ┆ 2531    ┆ CTSF    │\n",
       "│ …          ┆ …                  ┆ …                     ┆ …               ┆ …       ┆ …       │\n",
       "│ X6RGV9     ┆ ENSP00000403953    ┆ ENST00000420055       ┆ ENSG00000162639 ┆ 26400   ┆ HENMT1  │\n",
       "│ X6RI37     ┆ ENSP00000408275    ┆ ENST00000451838       ┆ ENSG00000108061 ┆ 15454   ┆ SHOC2   │\n",
       "│ X6RI37     ┆ ENSP00000510700    ┆ ENST00000689997       ┆ ENSG00000108061 ┆ 15454   ┆ SHOC2   │\n",
       "│ X6RIU2     ┆ ENSP00000409912    ┆ ENST00000442513       ┆ ENSG00000163075 ┆ 33720   ┆ CFAP221 │\n",
       "│ X6RM59     ┆ ENSP00000476480    ┆ ENST00000610140       ┆ ENSG00000122643 ┆ 17820   ┆ NT5C3A  │\n",
       "└────────────┴────────────────────┴───────────────────────┴─────────────────┴─────────┴─────────┘"
      ]
     },
     "metadata": {},
     "output_type": "display_data"
    }
   ],
   "source": [
    "# downregulate rice gene\n",
    "togoid_convert_to_human_down = pl.read_csv(\n",
    "    \"../out/rice_down/rice_down_togoid_convert.tsv\",\n",
    "    separator=\"\\t\"\n",
    ").filter(\n",
    "    pl.col(\"hgnc_id\").is_not_null()\n",
    ").rename(\n",
    "    {\n",
    "        \"hgnc_symbol_id\": \"GENEID\"\n",
    "    }\n",
    ")\n",
    "\n",
    "display(togoid_convert_to_human_down)\n"
   ]
  },
  {
   "cell_type": "code",
   "execution_count": 16,
   "metadata": {},
   "outputs": [
    {
     "data": {
      "text/html": [
       "<div><style>\n",
       ".dataframe > thead > tr,\n",
       ".dataframe > tbody > tr {\n",
       "  text-align: right;\n",
       "  white-space: pre-wrap;\n",
       "}\n",
       "</style>\n",
       "<small>shape: (4_942, 12)</small><table border=\"1\" class=\"dataframe\"><thead><tr><th>uniprot_id</th><th>ensembl_protein_id</th><th>ensembl_transcript_id</th><th>ensembl_gene_id</th><th>hgnc_id</th><th>GENEID</th><th>HN5(all)</th><th>positive_samples_count_human</th><th>negative_samples_count_human</th><th>total_samples</th><th>positive_contribution_human</th><th>negative_contribution_human</th></tr><tr><td>str</td><td>str</td><td>str</td><td>str</td><td>i64</td><td>str</td><td>i32</td><td>i32</td><td>i32</td><td>i32</td><td>str</td><td>str</td></tr></thead><tbody><tr><td>&quot;Q96PN8&quot;</td><td>&quot;ENSP00000362634&quot;</td><td>&quot;ENST00000373534&quot;</td><td>&quot;ENSG00000162526&quot;</td><td>15473</td><td>&quot;TSSK3&quot;</td><td>-43</td><td>4</td><td>16</td><td>30</td><td>&quot;4 / 30 samples positively cont…</td><td>&quot;16 / 30 samples negatively con…</td></tr><tr><td>&quot;Q00444&quot;</td><td>&quot;ENSP00000309336&quot;</td><td>&quot;ENST00000312492&quot;</td><td>&quot;ENSG00000172789&quot;</td><td>5127</td><td>&quot;HOXC5&quot;</td><td>-29</td><td>5</td><td>6</td><td>30</td><td>&quot;5 / 30 samples positively cont…</td><td>&quot;6 / 30 samples negatively cont…</td></tr><tr><td>&quot;G3V3N9&quot;</td><td>&quot;ENSP00000451346&quot;</td><td>&quot;ENST00000554479&quot;</td><td>&quot;ENSG00000066629&quot;</td><td>3330</td><td>&quot;EML1&quot;</td><td>-23</td><td>3</td><td>7</td><td>30</td><td>&quot;3 / 30 samples positively cont…</td><td>&quot;7 / 30 samples negatively cont…</td></tr><tr><td>&quot;Q9UBP6&quot;</td><td>&quot;ENSP00000314441&quot;</td><td>&quot;ENST00000324871&quot;</td><td>&quot;ENSG00000037897&quot;</td><td>7030</td><td>&quot;METTL1&quot;</td><td>-23</td><td>2</td><td>7</td><td>30</td><td>&quot;2 / 30 samples positively cont…</td><td>&quot;7 / 30 samples negatively cont…</td></tr><tr><td>&quot;Q9UBP6&quot;</td><td>&quot;ENSP00000257848&quot;</td><td>&quot;ENST00000257848&quot;</td><td>&quot;ENSG00000037897&quot;</td><td>7030</td><td>&quot;METTL1&quot;</td><td>-23</td><td>2</td><td>7</td><td>30</td><td>&quot;2 / 30 samples positively cont…</td><td>&quot;7 / 30 samples negatively cont…</td></tr><tr><td>&hellip;</td><td>&hellip;</td><td>&hellip;</td><td>&hellip;</td><td>&hellip;</td><td>&hellip;</td><td>&hellip;</td><td>&hellip;</td><td>&hellip;</td><td>&hellip;</td><td>&hellip;</td><td>&hellip;</td></tr><tr><td>&quot;Q6P2M8&quot;</td><td>&quot;ENSP00000359169&quot;</td><td>&quot;ENST00000370150&quot;</td><td>&quot;ENSG00000130822&quot;</td><td>13415</td><td>&quot;PNCK&quot;</td><td>64</td><td>17</td><td>4</td><td>30</td><td>&quot;17 / 30 samples positively con…</td><td>&quot;4 / 30 samples negatively cont…</td></tr><tr><td>&quot;Q6P2M8&quot;</td><td>&quot;ENSP00000359161&quot;</td><td>&quot;ENST00000370142&quot;</td><td>&quot;ENSG00000130822&quot;</td><td>13415</td><td>&quot;PNCK&quot;</td><td>64</td><td>17</td><td>4</td><td>30</td><td>&quot;17 / 30 samples positively con…</td><td>&quot;4 / 30 samples negatively cont…</td></tr><tr><td>&quot;P56470&quot;</td><td>&quot;ENSP00000302100&quot;</td><td>&quot;ENST00000307751&quot;</td><td>&quot;ENSG00000171747&quot;</td><td>6565</td><td>&quot;LGALS4&quot;</td><td>70</td><td>15</td><td>5</td><td>30</td><td>&quot;15 / 30 samples positively con…</td><td>&quot;5 / 30 samples negatively cont…</td></tr><tr><td>&quot;P56470&quot;</td><td>&quot;ENSP00000489411&quot;</td><td>&quot;ENST00000634573&quot;</td><td>&quot;ENSG00000282992&quot;</td><td>6565</td><td>&quot;LGALS4&quot;</td><td>70</td><td>15</td><td>5</td><td>30</td><td>&quot;15 / 30 samples positively con…</td><td>&quot;5 / 30 samples negatively cont…</td></tr><tr><td>&quot;Q9H0H3&quot;</td><td>&quot;ENSP00000336800&quot;</td><td>&quot;ENST00000337975&quot;</td><td>&quot;ENSG00000183655&quot;</td><td>25732</td><td>&quot;KLHL25&quot;</td><td>74</td><td>16</td><td>0</td><td>30</td><td>&quot;16 / 30 samples positively con…</td><td>&quot;0 / 30 samples negatively cont…</td></tr></tbody></table></div>"
      ],
      "text/plain": [
       "shape: (4_942, 12)\n",
       "┌───────────┬───────────┬───────────┬───────────┬───┬───────────┬───────────┬───────────┬──────────┐\n",
       "│ uniprot_i ┆ ensembl_p ┆ ensembl_t ┆ ensembl_g ┆ … ┆ negative_ ┆ total_sam ┆ positive_ ┆ negative │\n",
       "│ d         ┆ rotein_id ┆ ranscript ┆ ene_id    ┆   ┆ samples_c ┆ ples      ┆ contribut ┆ _contrib │\n",
       "│ ---       ┆ ---       ┆ _id       ┆ ---       ┆   ┆ ount_huma ┆ ---       ┆ ion_human ┆ ution_hu │\n",
       "│ str       ┆ str       ┆ ---       ┆ str       ┆   ┆ n         ┆ i32       ┆ ---       ┆ man      │\n",
       "│           ┆           ┆ str       ┆           ┆   ┆ ---       ┆           ┆ str       ┆ ---      │\n",
       "│           ┆           ┆           ┆           ┆   ┆ i32       ┆           ┆           ┆ str      │\n",
       "╞═══════════╪═══════════╪═══════════╪═══════════╪═══╪═══════════╪═══════════╪═══════════╪══════════╡\n",
       "│ Q96PN8    ┆ ENSP00000 ┆ ENST00000 ┆ ENSG00000 ┆ … ┆ 16        ┆ 30        ┆ 4 / 30    ┆ 16 / 30  │\n",
       "│           ┆ 362634    ┆ 373534    ┆ 162526    ┆   ┆           ┆           ┆ samples   ┆ samples  │\n",
       "│           ┆           ┆           ┆           ┆   ┆           ┆           ┆ positivel ┆ negative │\n",
       "│           ┆           ┆           ┆           ┆   ┆           ┆           ┆ y cont…   ┆ ly con…  │\n",
       "│ Q00444    ┆ ENSP00000 ┆ ENST00000 ┆ ENSG00000 ┆ … ┆ 6         ┆ 30        ┆ 5 / 30    ┆ 6 / 30   │\n",
       "│           ┆ 309336    ┆ 312492    ┆ 172789    ┆   ┆           ┆           ┆ samples   ┆ samples  │\n",
       "│           ┆           ┆           ┆           ┆   ┆           ┆           ┆ positivel ┆ negative │\n",
       "│           ┆           ┆           ┆           ┆   ┆           ┆           ┆ y cont…   ┆ ly cont… │\n",
       "│ G3V3N9    ┆ ENSP00000 ┆ ENST00000 ┆ ENSG00000 ┆ … ┆ 7         ┆ 30        ┆ 3 / 30    ┆ 7 / 30   │\n",
       "│           ┆ 451346    ┆ 554479    ┆ 066629    ┆   ┆           ┆           ┆ samples   ┆ samples  │\n",
       "│           ┆           ┆           ┆           ┆   ┆           ┆           ┆ positivel ┆ negative │\n",
       "│           ┆           ┆           ┆           ┆   ┆           ┆           ┆ y cont…   ┆ ly cont… │\n",
       "│ Q9UBP6    ┆ ENSP00000 ┆ ENST00000 ┆ ENSG00000 ┆ … ┆ 7         ┆ 30        ┆ 2 / 30    ┆ 7 / 30   │\n",
       "│           ┆ 314441    ┆ 324871    ┆ 037897    ┆   ┆           ┆           ┆ samples   ┆ samples  │\n",
       "│           ┆           ┆           ┆           ┆   ┆           ┆           ┆ positivel ┆ negative │\n",
       "│           ┆           ┆           ┆           ┆   ┆           ┆           ┆ y cont…   ┆ ly cont… │\n",
       "│ Q9UBP6    ┆ ENSP00000 ┆ ENST00000 ┆ ENSG00000 ┆ … ┆ 7         ┆ 30        ┆ 2 / 30    ┆ 7 / 30   │\n",
       "│           ┆ 257848    ┆ 257848    ┆ 037897    ┆   ┆           ┆           ┆ samples   ┆ samples  │\n",
       "│           ┆           ┆           ┆           ┆   ┆           ┆           ┆ positivel ┆ negative │\n",
       "│           ┆           ┆           ┆           ┆   ┆           ┆           ┆ y cont…   ┆ ly cont… │\n",
       "│ …         ┆ …         ┆ …         ┆ …         ┆ … ┆ …         ┆ …         ┆ …         ┆ …        │\n",
       "│ Q6P2M8    ┆ ENSP00000 ┆ ENST00000 ┆ ENSG00000 ┆ … ┆ 4         ┆ 30        ┆ 17 / 30   ┆ 4 / 30   │\n",
       "│           ┆ 359169    ┆ 370150    ┆ 130822    ┆   ┆           ┆           ┆ samples   ┆ samples  │\n",
       "│           ┆           ┆           ┆           ┆   ┆           ┆           ┆ positivel ┆ negative │\n",
       "│           ┆           ┆           ┆           ┆   ┆           ┆           ┆ y con…    ┆ ly cont… │\n",
       "│ Q6P2M8    ┆ ENSP00000 ┆ ENST00000 ┆ ENSG00000 ┆ … ┆ 4         ┆ 30        ┆ 17 / 30   ┆ 4 / 30   │\n",
       "│           ┆ 359161    ┆ 370142    ┆ 130822    ┆   ┆           ┆           ┆ samples   ┆ samples  │\n",
       "│           ┆           ┆           ┆           ┆   ┆           ┆           ┆ positivel ┆ negative │\n",
       "│           ┆           ┆           ┆           ┆   ┆           ┆           ┆ y con…    ┆ ly cont… │\n",
       "│ P56470    ┆ ENSP00000 ┆ ENST00000 ┆ ENSG00000 ┆ … ┆ 5         ┆ 30        ┆ 15 / 30   ┆ 5 / 30   │\n",
       "│           ┆ 302100    ┆ 307751    ┆ 171747    ┆   ┆           ┆           ┆ samples   ┆ samples  │\n",
       "│           ┆           ┆           ┆           ┆   ┆           ┆           ┆ positivel ┆ negative │\n",
       "│           ┆           ┆           ┆           ┆   ┆           ┆           ┆ y con…    ┆ ly cont… │\n",
       "│ P56470    ┆ ENSP00000 ┆ ENST00000 ┆ ENSG00000 ┆ … ┆ 5         ┆ 30        ┆ 15 / 30   ┆ 5 / 30   │\n",
       "│           ┆ 489411    ┆ 634573    ┆ 282992    ┆   ┆           ┆           ┆ samples   ┆ samples  │\n",
       "│           ┆           ┆           ┆           ┆   ┆           ┆           ┆ positivel ┆ negative │\n",
       "│           ┆           ┆           ┆           ┆   ┆           ┆           ┆ y con…    ┆ ly cont… │\n",
       "│ Q9H0H3    ┆ ENSP00000 ┆ ENST00000 ┆ ENSG00000 ┆ … ┆ 0         ┆ 30        ┆ 16 / 30   ┆ 0 / 30   │\n",
       "│           ┆ 336800    ┆ 337975    ┆ 183655    ┆   ┆           ┆           ┆ samples   ┆ samples  │\n",
       "│           ┆           ┆           ┆           ┆   ┆           ┆           ┆ positivel ┆ negative │\n",
       "│           ┆           ┆           ┆           ┆   ┆           ┆           ┆ y con…    ┆ ly cont… │\n",
       "└───────────┴───────────┴───────────┴───────────┴───┴───────────┴───────────┴───────────┴──────────┘"
      ]
     },
     "metadata": {},
     "output_type": "display_data"
    }
   ],
   "source": [
    "HNscore_down_sample_count_checked = togoid_convert_to_human_down.join(\n",
    "    HNscore_sample_validate,\n",
    "    on=\"GENEID\",\n",
    "    how=\"left\",\n",
    "    coalesce=True\n",
    ").sort(\n",
    "    by=[f'HN5(all)'],\n",
    "    descending=False\n",
    ").filter(\n",
    "    pl.col(\"HN5(all)\").is_not_null()\n",
    ")\n",
    "\n",
    "# save the result to csv\n",
    "HNscore_down_sample_count_checked.write_csv(\n",
    "    f'../Data/Data_HNscore/HNscore_sample_count_HN{threshold}_human_checked_down.tsv',\n",
    "    separator='\\t'\n",
    ")\n",
    "\n",
    "display(HNscore_down_sample_count_checked)"
   ]
  }
 ],
 "metadata": {
  "kernelspec": {
   "display_name": "Python 3 (ipykernel)",
   "language": "python",
   "name": "python3"
  },
  "language_info": {
   "codemirror_mode": {
    "name": "ipython",
    "version": 3
   },
   "file_extension": ".py",
   "mimetype": "text/x-python",
   "name": "python",
   "nbconvert_exporter": "python",
   "pygments_lexer": "ipython3",
   "version": "3.11.4"
  }
 },
 "nbformat": 4,
 "nbformat_minor": 4
}
