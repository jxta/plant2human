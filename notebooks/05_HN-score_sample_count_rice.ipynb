{
 "cells": [
  {
   "cell_type": "markdown",
   "metadata": {},
   "source": [
    "### サンプルごとのHN-scoreをカウントする\n",
    "\n",
    "#### 必要なファイル\n",
    "\n",
    "1. メタデータを記載したファイル\n",
    "2. 発現比を計算したファイル \n",
    "\n",
    "&nbsp;\n",
    "\n",
    "#### 基本的なアプローチ\n",
    "\n",
    "- 発現比が計算されているファイルのカラム名(例：SRR22741460)をメタデータに記載されているサンプル名に置き換えることでサンプルごとにカウントする\n",
    "- サンプルごとにカウントしたHN-scoreをもとに、HN-scoreを算出する\n",
    "\n",
    "&nbsp;\n",
    "\n",
    "#### バージョンチェック\n",
    "\n",
    "- 以下のバージョンで実行\n",
    "- `python==3.10.12`\n",
    "- `polars==1.9.0`"
   ]
  },
  {
   "cell_type": "code",
   "execution_count": 1,
   "metadata": {},
   "outputs": [],
   "source": [
    "import datetime\n",
    "import polars as pl"
   ]
  },
  {
   "cell_type": "code",
   "execution_count": 2,
   "metadata": {},
   "outputs": [
    {
     "name": "stdout",
     "output_type": "stream",
     "text": [
      "2024-11-03 03:54:09.144141\n"
     ]
    }
   ],
   "source": [
    "now = datetime.datetime.now()\n",
    "print(now)"
   ]
  },
  {
   "cell_type": "code",
   "execution_count": 3,
   "metadata": {},
   "outputs": [],
   "source": [
    "# set the threshold\n",
    "threshold = 5"
   ]
  },
  {
   "cell_type": "code",
   "execution_count": 4,
   "metadata": {},
   "outputs": [
    {
     "data": {
      "text/html": [
       "<div><style>\n",
       ".dataframe > thead > tr,\n",
       ".dataframe > tbody > tr {\n",
       "  text-align: right;\n",
       "  white-space: pre-wrap;\n",
       "}\n",
       "</style>\n",
       "<small>shape: (5, 24)</small><table border=\"1\" class=\"dataframe\"><thead><tr><th>All-pair</th><th>Project-pair</th><th>Organism</th><th>Sub-species</th><th>Cultivar</th><th>Genotype</th><th>SRP accession</th><th>GEO Accession</th><th>Stress</th><th>Control</th><th>Library_Layout</th><th>Stress temperature (day/night) (℃)</th><th>Control temperature (day/night)(℃)</th><th>Time</th><th>Heat recovery</th><th>Treatment condition</th><th>Tissue</th><th>Period</th><th>Instrument</th><th>LibrarySelection</th><th>DOI</th><th>GSM_Pair_name</th><th>note</th><th>Technical Note</th></tr><tr><td>i64</td><td>i64</td><td>str</td><td>str</td><td>str</td><td>str</td><td>str</td><td>str</td><td>str</td><td>str</td><td>str</td><td>str</td><td>str</td><td>str</td><td>str</td><td>str</td><td>str</td><td>str</td><td>str</td><td>str</td><td>str</td><td>str</td><td>str</td><td>str</td></tr></thead><tbody><tr><td>1</td><td>1</td><td>&quot;O.sativa&quot;</td><td>&quot;ssp. japonica&quot;</td><td>&quot;Lagrue&quot;</td><td>&quot;WT&quot;</td><td>&quot;SRP413097&quot;</td><td>&quot;GSE220996&quot;</td><td>&quot;SRR22741460&quot;</td><td>&quot;SRR22741464&quot;</td><td>&quot;PAIRED&quot;</td><td>&quot;30/28&quot;</td><td>&quot;30/22.2&quot;</td><td>&quot;10h&quot;</td><td>null</td><td>&quot;green house&quot;</td><td>&quot;seed-endosperm-R6-caryopsis&quot;</td><td>&quot;R2 stage (booting) - R6 stage …</td><td>&quot;Illumina HiSeq 2000&quot;</td><td>&quot;cDNA&quot;</td><td>&quot;10.1038/s41598-023-31399-w&quot;</td><td>null</td><td>&quot;LaGrue(HNT-tolerant), high-nig…</td><td>null</td></tr><tr><td>2</td><td>2</td><td>&quot;O.sativa&quot;</td><td>&quot;ssp. japonica&quot;</td><td>&quot;Lagrue&quot;</td><td>&quot;WT&quot;</td><td>&quot;SRP413097&quot;</td><td>&quot;GSE220996&quot;</td><td>&quot;SRR22741461&quot;</td><td>&quot;SRR22741465&quot;</td><td>&quot;PAIRED&quot;</td><td>&quot;30/28&quot;</td><td>&quot;30/22.2&quot;</td><td>&quot;10h&quot;</td><td>null</td><td>&quot;green house&quot;</td><td>&quot;seed-endosperm-R6-caryopsis&quot;</td><td>&quot;R2 stage (booting) - R6 stage …</td><td>&quot;Illumina HiSeq 2000&quot;</td><td>&quot;cDNA&quot;</td><td>&quot;10.1038/s41598-023-31399-w&quot;</td><td>null</td><td>&quot;LaGrue(HNT-tolerant), high-nig…</td><td>null</td></tr><tr><td>3</td><td>3</td><td>&quot;O.sativa&quot;</td><td>&quot;ssp. japonica&quot;</td><td>&quot;Lagrue&quot;</td><td>&quot;WT&quot;</td><td>&quot;SRP413097&quot;</td><td>&quot;GSE220996&quot;</td><td>&quot;SRR22741462&quot;</td><td>&quot;SRR22741466&quot;</td><td>&quot;PAIRED&quot;</td><td>&quot;30/28&quot;</td><td>&quot;30/22.2&quot;</td><td>&quot;10h&quot;</td><td>null</td><td>&quot;green house&quot;</td><td>&quot;seed-endosperm-R6-caryopsis&quot;</td><td>&quot;R2 stage (booting) - R6 stage …</td><td>&quot;Illumina HiSeq 2000&quot;</td><td>&quot;cDNA&quot;</td><td>&quot;10.1038/s41598-023-31399-w&quot;</td><td>null</td><td>&quot;LaGrue(HNT-tolerant), high-nig…</td><td>null</td></tr><tr><td>4</td><td>4</td><td>&quot;O.sativa&quot;</td><td>&quot;ssp. japonica&quot;</td><td>&quot;Lagrue&quot;</td><td>&quot;WT&quot;</td><td>&quot;SRP413097&quot;</td><td>&quot;GSE220996&quot;</td><td>&quot;SRR22741463&quot;</td><td>&quot;SRR22741467&quot;</td><td>&quot;PAIRED&quot;</td><td>&quot;30/28&quot;</td><td>&quot;30/22.2&quot;</td><td>&quot;10h&quot;</td><td>null</td><td>&quot;green house&quot;</td><td>&quot;seed-endosperm-R6-caryopsis&quot;</td><td>&quot;R2 stage (booting) - R6 stage …</td><td>&quot;Illumina HiSeq 2000&quot;</td><td>&quot;cDNA&quot;</td><td>&quot;10.1038/s41598-023-31399-w&quot;</td><td>null</td><td>&quot;LaGrue(HNT-tolerant), high-nig…</td><td>null</td></tr><tr><td>5</td><td>5</td><td>&quot;O.sativa&quot;</td><td>&quot;ssp. japonica&quot;</td><td>&quot;Cypress&quot;</td><td>&quot;WT&quot;</td><td>&quot;SRP413097&quot;</td><td>&quot;GSE220996&quot;</td><td>&quot;SRR22741468&quot;</td><td>&quot;SRR22741472&quot;</td><td>&quot;PAIRED&quot;</td><td>&quot;30/28&quot;</td><td>&quot;30/22.2&quot;</td><td>&quot;10h&quot;</td><td>null</td><td>&quot;green house&quot;</td><td>&quot;seed-endosperm-R6-caryopsis&quot;</td><td>&quot;R2 stage (booting) - R6 stage …</td><td>&quot;Illumina HiSeq 2000&quot;</td><td>&quot;cDNA&quot;</td><td>&quot;10.1038/s41598-023-31399-w&quot;</td><td>null</td><td>&quot;Cypress(HNT-sensitive), high-n…</td><td>null</td></tr></tbody></table></div>"
      ],
      "text/plain": [
       "shape: (5, 24)\n",
       "┌──────────┬────────────┬──────────┬───────────┬───┬───────────┬───────────┬───────────┬───────────┐\n",
       "│ All-pair ┆ Project-pa ┆ Organism ┆ Sub-speci ┆ … ┆ DOI       ┆ GSM_Pair_ ┆ note      ┆ Technical │\n",
       "│ ---      ┆ ir         ┆ ---      ┆ es        ┆   ┆ ---       ┆ name      ┆ ---       ┆ Note      │\n",
       "│ i64      ┆ ---        ┆ str      ┆ ---       ┆   ┆ str       ┆ ---       ┆ str       ┆ ---       │\n",
       "│          ┆ i64        ┆          ┆ str       ┆   ┆           ┆ str       ┆           ┆ str       │\n",
       "╞══════════╪════════════╪══════════╪═══════════╪═══╪═══════════╪═══════════╪═══════════╪═══════════╡\n",
       "│ 1        ┆ 1          ┆ O.sativa ┆ ssp.      ┆ … ┆ 10.1038/s ┆ null      ┆ LaGrue(HN ┆ null      │\n",
       "│          ┆            ┆          ┆ japonica  ┆   ┆ 41598-023 ┆           ┆ T-toleran ┆           │\n",
       "│          ┆            ┆          ┆           ┆   ┆ -31399-w  ┆           ┆ t),       ┆           │\n",
       "│          ┆            ┆          ┆           ┆   ┆           ┆           ┆ high-nig… ┆           │\n",
       "│ 2        ┆ 2          ┆ O.sativa ┆ ssp.      ┆ … ┆ 10.1038/s ┆ null      ┆ LaGrue(HN ┆ null      │\n",
       "│          ┆            ┆          ┆ japonica  ┆   ┆ 41598-023 ┆           ┆ T-toleran ┆           │\n",
       "│          ┆            ┆          ┆           ┆   ┆ -31399-w  ┆           ┆ t),       ┆           │\n",
       "│          ┆            ┆          ┆           ┆   ┆           ┆           ┆ high-nig… ┆           │\n",
       "│ 3        ┆ 3          ┆ O.sativa ┆ ssp.      ┆ … ┆ 10.1038/s ┆ null      ┆ LaGrue(HN ┆ null      │\n",
       "│          ┆            ┆          ┆ japonica  ┆   ┆ 41598-023 ┆           ┆ T-toleran ┆           │\n",
       "│          ┆            ┆          ┆           ┆   ┆ -31399-w  ┆           ┆ t),       ┆           │\n",
       "│          ┆            ┆          ┆           ┆   ┆           ┆           ┆ high-nig… ┆           │\n",
       "│ 4        ┆ 4          ┆ O.sativa ┆ ssp.      ┆ … ┆ 10.1038/s ┆ null      ┆ LaGrue(HN ┆ null      │\n",
       "│          ┆            ┆          ┆ japonica  ┆   ┆ 41598-023 ┆           ┆ T-toleran ┆           │\n",
       "│          ┆            ┆          ┆           ┆   ┆ -31399-w  ┆           ┆ t),       ┆           │\n",
       "│          ┆            ┆          ┆           ┆   ┆           ┆           ┆ high-nig… ┆           │\n",
       "│ 5        ┆ 5          ┆ O.sativa ┆ ssp.      ┆ … ┆ 10.1038/s ┆ null      ┆ Cypress(H ┆ null      │\n",
       "│          ┆            ┆          ┆ japonica  ┆   ┆ 41598-023 ┆           ┆ NT-sensit ┆           │\n",
       "│          ┆            ┆          ┆           ┆   ┆ -31399-w  ┆           ┆ ive),     ┆           │\n",
       "│          ┆            ┆          ┆           ┆   ┆           ┆           ┆ high-n…   ┆           │\n",
       "└──────────┴────────────┴──────────┴───────────┴───┴───────────┴───────────┴───────────┴───────────┘"
      ]
     },
     "metadata": {},
     "output_type": "display_data"
    }
   ],
   "source": [
    "# polars method: https://docs.pola.rs/api/python/stable/reference/expressions/api/polars.Expr.str.replace_all.html#polars-expr-str-replace-all\n",
    "\n",
    "metadata = pl.read_csv(\n",
    "    \"../Data/Data_HNscore/HS_rice_meta-data.csv\",\n",
    "    separator=\",\"\n",
    ").with_columns([\n",
    "    pl.col(\"Tissue\") # サンプル名を処理しやすくするために、スペースなどをなるべく取り除く\n",
    "        .str.replace_all(\",\", \" \")  # , to space\n",
    "        .str.replace_all(r\"\\s+\", \" \")  # replace continuous spaces with one space\n",
    "        .str.replace_all(r\"[()]\", \"\")  # remove parentheses (  )\n",
    "        .str.replace_all(r\"\\s+$\", \"\")  # remove trailing spaces ('\\s+' matches any whitespace character, and '$' matches the end of the string)\n",
    "        .str.replace_all(\" \", \"-\")  # replace remaining spaces with hyphen\n",
    "    ]\n",
    ")\n",
    "display(metadata.head())"
   ]
  },
  {
   "cell_type": "code",
   "execution_count": 5,
   "metadata": {},
   "outputs": [
    {
     "data": {
      "text/html": [
       "<div><style>\n",
       ".dataframe > thead > tr,\n",
       ".dataframe > tbody > tr {\n",
       "  text-align: right;\n",
       "  white-space: pre-wrap;\n",
       "}\n",
       "</style>\n",
       "<small>shape: (35_691, 361)</small><table border=\"1\" class=\"dataframe\"><thead><tr><th>GENEID</th><th>SRR22741460</th><th>SRR22741461</th><th>SRR22741462</th><th>SRR22741463</th><th>SRR22741468</th><th>SRR22741469</th><th>SRR22741470</th><th>SRR22741471</th><th>SRR10991576</th><th>SRR10991577</th><th>SRR10991578</th><th>SRR10991582</th><th>SRR10991583</th><th>SRR10991584</th><th>SRR8140273</th><th>SRR8140274</th><th>SRR8140275</th><th>SRR8140276</th><th>SRR8140277</th><th>SRR8140278</th><th>SRR8140285</th><th>SRR8140286</th><th>SRR8140287</th><th>SRR8140288</th><th>SRR8140289</th><th>SRR8140290</th><th>SRR10423442</th><th>SRR10423443</th><th>SRR10423444</th><th>SRR10423430</th><th>SRR10423431</th><th>SRR10423432</th><th>SRR10423433</th><th>SRR10423434</th><th>SRR10423435</th><th>SRR10423418</th><th>&hellip;</th><th>SRR15060432</th><th>SRR15060433</th><th>SRR15060434</th><th>SRR15060435</th><th>SRR15060436</th><th>SRR15060437</th><th>SRR15060438</th><th>SRR15060439</th><th>SRR15060440</th><th>SRR15060441</th><th>SRR15060442</th><th>SRR15060443</th><th>SRR15060444</th><th>SRR15060445</th><th>SRR15060446</th><th>SRR15060447</th><th>SRR15060448</th><th>SRR15060449</th><th>SRR15060450</th><th>SRR15060451</th><th>SRR15060452</th><th>SRR15060453</th><th>SRR15060454</th><th>SRR15060455</th><th>SRR15060456</th><th>SRR22854097</th><th>SRR22854098</th><th>SRR22854099</th><th>SRR22854094</th><th>SRR22854095</th><th>SRR22854096</th><th>SRR23051879</th><th>SRR23051878</th><th>SRR23051877</th><th>SRR23051876</th><th>SRR23051875</th><th>SRR23051874</th></tr><tr><td>str</td><td>f64</td><td>f64</td><td>f64</td><td>f64</td><td>f64</td><td>f64</td><td>f64</td><td>f64</td><td>f64</td><td>f64</td><td>f64</td><td>f64</td><td>f64</td><td>f64</td><td>f64</td><td>f64</td><td>f64</td><td>f64</td><td>f64</td><td>f64</td><td>f64</td><td>f64</td><td>f64</td><td>f64</td><td>f64</td><td>f64</td><td>f64</td><td>f64</td><td>f64</td><td>f64</td><td>f64</td><td>f64</td><td>f64</td><td>f64</td><td>f64</td><td>f64</td><td>&hellip;</td><td>f64</td><td>f64</td><td>f64</td><td>f64</td><td>f64</td><td>f64</td><td>f64</td><td>f64</td><td>f64</td><td>f64</td><td>f64</td><td>f64</td><td>f64</td><td>f64</td><td>f64</td><td>f64</td><td>f64</td><td>f64</td><td>f64</td><td>f64</td><td>f64</td><td>f64</td><td>f64</td><td>f64</td><td>f64</td><td>f64</td><td>f64</td><td>f64</td><td>f64</td><td>f64</td><td>f64</td><td>f64</td><td>f64</td><td>f64</td><td>f64</td><td>f64</td><td>f64</td></tr></thead><tbody><tr><td>&quot;EPlORYSAT000373610&quot;</td><td>1.0</td><td>1.0</td><td>64.003051</td><td>64.326859</td><td>0.015755</td><td>1.0</td><td>1.0</td><td>1.0</td><td>1.0</td><td>1.0</td><td>1.0</td><td>1.0</td><td>1.0</td><td>1.0</td><td>1.0</td><td>1.0</td><td>1.0</td><td>1.0</td><td>1.0</td><td>1.0</td><td>1.0</td><td>1.0</td><td>1.0</td><td>1.0</td><td>1.0</td><td>1.0</td><td>1.0</td><td>1.0</td><td>1.0</td><td>1.0</td><td>1.0</td><td>1.0</td><td>1.0</td><td>1.0</td><td>1.0</td><td>1.0</td><td>&hellip;</td><td>1.0</td><td>1.0</td><td>1.0</td><td>1.0</td><td>1.0</td><td>1.0</td><td>1.0</td><td>1.0</td><td>1.0</td><td>1.0</td><td>1.0</td><td>1.0</td><td>188.995833</td><td>1.0</td><td>1.0</td><td>1.0</td><td>1.0</td><td>1.0</td><td>1.0</td><td>1.0</td><td>1.0</td><td>200.462188</td><td>1.0</td><td>1.0</td><td>1.0</td><td>0.017064</td><td>1.0</td><td>70.185139</td><td>1.284229</td><td>1.0</td><td>1.0</td><td>1.0</td><td>1.0</td><td>1.0</td><td>1.0</td><td>1.0</td><td>1.0</td></tr><tr><td>&quot;EPlORYSAT000373621&quot;</td><td>1.0</td><td>1.0</td><td>1.0</td><td>1.0</td><td>1.0</td><td>1.0</td><td>1.0</td><td>1.0</td><td>1.0</td><td>1.0</td><td>1.0</td><td>1.0</td><td>1.0</td><td>1.0</td><td>1.0</td><td>1.0</td><td>1.0</td><td>1.0</td><td>1.0</td><td>1.0</td><td>1.0</td><td>1.0</td><td>1.0</td><td>1.0</td><td>1.0</td><td>1.0</td><td>1.0</td><td>1.0</td><td>1.0</td><td>1.0</td><td>1.0</td><td>1.0</td><td>1.0</td><td>1.0</td><td>1.0</td><td>1.0</td><td>&hellip;</td><td>1.0</td><td>1.0</td><td>1.0</td><td>1.0</td><td>1.0</td><td>1.0</td><td>1.0</td><td>1.0</td><td>1.0</td><td>1.0</td><td>1.0</td><td>1.0</td><td>1.0</td><td>1.0</td><td>1.0</td><td>1.0</td><td>1.0</td><td>1.0</td><td>1.0</td><td>1.0</td><td>1.0</td><td>1.0</td><td>1.0</td><td>1.0</td><td>1.0</td><td>1.0</td><td>1.0</td><td>1.0</td><td>1.0</td><td>1.0</td><td>1.0</td><td>1.0</td><td>1.0</td><td>1.0</td><td>1.0</td><td>1.0</td><td>1.0</td></tr><tr><td>&quot;EPlORYSAT000373643&quot;</td><td>1.0</td><td>1.0</td><td>1.0</td><td>1.0</td><td>1.0</td><td>1.0</td><td>1.0</td><td>1.0</td><td>1.0</td><td>1.0</td><td>1.0</td><td>1.0</td><td>1.0</td><td>1.0</td><td>1.0</td><td>1.0</td><td>1.0</td><td>1.0</td><td>1.0</td><td>1.0</td><td>1.0</td><td>1.0</td><td>1.0</td><td>1.0</td><td>1.0</td><td>1.0</td><td>1.0</td><td>1.0</td><td>1.0</td><td>1.0</td><td>1.0</td><td>1.0</td><td>1.0</td><td>1.0</td><td>1.0</td><td>1.0</td><td>&hellip;</td><td>1.0</td><td>1.0</td><td>1.0</td><td>1.0</td><td>1.0</td><td>1.0</td><td>1.0</td><td>1.0</td><td>1.0</td><td>1.0</td><td>1.0</td><td>1.0</td><td>1.0</td><td>1.0</td><td>1.0</td><td>1.0</td><td>1.0</td><td>1.0</td><td>1.0</td><td>1.0</td><td>1.0</td><td>1.0</td><td>1.0</td><td>1.0</td><td>1.0</td><td>1.0</td><td>1.0</td><td>1.0</td><td>1.0</td><td>1.0</td><td>1.0</td><td>1.0</td><td>1.0</td><td>1.0</td><td>1.0</td><td>1.0</td><td>1.0</td></tr><tr><td>&quot;EPlORYSAT000373795&quot;</td><td>1.0</td><td>1.0</td><td>1.0</td><td>1.0</td><td>1.0</td><td>1.0</td><td>1.0</td><td>1.0</td><td>1.0</td><td>1.0</td><td>1.0</td><td>1.0</td><td>1.0</td><td>1.0</td><td>1.0</td><td>1.0</td><td>1.0</td><td>1.0</td><td>1.0</td><td>1.0</td><td>1.0</td><td>1.0</td><td>1.0</td><td>1.0</td><td>1.0</td><td>1.0</td><td>1.0</td><td>1.0</td><td>1.0</td><td>1.0</td><td>1.0</td><td>1.0</td><td>1.0</td><td>1.0</td><td>1.0</td><td>1.0</td><td>&hellip;</td><td>1.0</td><td>1.0</td><td>1.0</td><td>1.0</td><td>1.0</td><td>1.0</td><td>1.0</td><td>1.0</td><td>1.0</td><td>1.0</td><td>1.0</td><td>1.0</td><td>1.0</td><td>1.0</td><td>1.0</td><td>1.0</td><td>1.0</td><td>1.0</td><td>1.0</td><td>1.0</td><td>1.0</td><td>1.0</td><td>1.0</td><td>1.0</td><td>1.0</td><td>1.0</td><td>1.0</td><td>1.0</td><td>1.0</td><td>1.0</td><td>1.0</td><td>1.0</td><td>1.0</td><td>1.0</td><td>1.0</td><td>1.0</td><td>1.0</td></tr><tr><td>&quot;EPlORYSAT000373851&quot;</td><td>1.0</td><td>1.0</td><td>1.0</td><td>1.0</td><td>1.0</td><td>1.0</td><td>1.0</td><td>1.0</td><td>1.0</td><td>1.0</td><td>1.0</td><td>1.0</td><td>1.0</td><td>1.0</td><td>1.0</td><td>1.0</td><td>1.0</td><td>1.0</td><td>1.0</td><td>1.0</td><td>1.0</td><td>1.0</td><td>1.0</td><td>1.0</td><td>1.0</td><td>1.0</td><td>1.0</td><td>1.0</td><td>1.0</td><td>1.0</td><td>1.0</td><td>1.0</td><td>1.0</td><td>1.0</td><td>1.0</td><td>1.0</td><td>&hellip;</td><td>1.0</td><td>1.0</td><td>1.0</td><td>1.0</td><td>1.0</td><td>1.0</td><td>1.0</td><td>1.0</td><td>1.0</td><td>1.0</td><td>1.0</td><td>1.0</td><td>1.0</td><td>1.0</td><td>1.0</td><td>1.0</td><td>1.0</td><td>1.0</td><td>1.0</td><td>1.0</td><td>1.0</td><td>1.0</td><td>1.0</td><td>1.0</td><td>1.0</td><td>1.0</td><td>1.0</td><td>1.0</td><td>1.0</td><td>1.0</td><td>1.0</td><td>1.0</td><td>1.0</td><td>1.0</td><td>1.0</td><td>1.0</td><td>1.0</td></tr><tr><td>&hellip;</td><td>&hellip;</td><td>&hellip;</td><td>&hellip;</td><td>&hellip;</td><td>&hellip;</td><td>&hellip;</td><td>&hellip;</td><td>&hellip;</td><td>&hellip;</td><td>&hellip;</td><td>&hellip;</td><td>&hellip;</td><td>&hellip;</td><td>&hellip;</td><td>&hellip;</td><td>&hellip;</td><td>&hellip;</td><td>&hellip;</td><td>&hellip;</td><td>&hellip;</td><td>&hellip;</td><td>&hellip;</td><td>&hellip;</td><td>&hellip;</td><td>&hellip;</td><td>&hellip;</td><td>&hellip;</td><td>&hellip;</td><td>&hellip;</td><td>&hellip;</td><td>&hellip;</td><td>&hellip;</td><td>&hellip;</td><td>&hellip;</td><td>&hellip;</td><td>&hellip;</td><td>&hellip;</td><td>&hellip;</td><td>&hellip;</td><td>&hellip;</td><td>&hellip;</td><td>&hellip;</td><td>&hellip;</td><td>&hellip;</td><td>&hellip;</td><td>&hellip;</td><td>&hellip;</td><td>&hellip;</td><td>&hellip;</td><td>&hellip;</td><td>&hellip;</td><td>&hellip;</td><td>&hellip;</td><td>&hellip;</td><td>&hellip;</td><td>&hellip;</td><td>&hellip;</td><td>&hellip;</td><td>&hellip;</td><td>&hellip;</td><td>&hellip;</td><td>&hellip;</td><td>&hellip;</td><td>&hellip;</td><td>&hellip;</td><td>&hellip;</td><td>&hellip;</td><td>&hellip;</td><td>&hellip;</td><td>&hellip;</td><td>&hellip;</td><td>&hellip;</td><td>&hellip;</td><td>&hellip;</td></tr><tr><td>&quot;Os12g0641100&quot;</td><td>0.330482</td><td>0.881209</td><td>0.498074</td><td>0.510708</td><td>0.808446</td><td>0.986463</td><td>1.23701</td><td>0.690745</td><td>1.967604</td><td>2.090501</td><td>1.667619</td><td>0.663144</td><td>0.915042</td><td>1.175697</td><td>0.290975</td><td>0.287567</td><td>0.243554</td><td>0.240388</td><td>0.361402</td><td>0.367039</td><td>0.361091</td><td>0.361422</td><td>0.356863</td><td>0.362518</td><td>0.45673</td><td>0.463282</td><td>5.218504</td><td>3.569581</td><td>3.710993</td><td>2.168091</td><td>1.36272</td><td>1.019475</td><td>2.594985</td><td>1.684937</td><td>1.135803</td><td>10.381417</td><td>&hellip;</td><td>1.254025</td><td>0.520597</td><td>1.459464</td><td>0.983362</td><td>0.992884</td><td>1.093461</td><td>1.780748</td><td>1.34706</td><td>1.17272</td><td>2.118824</td><td>1.495923</td><td>1.029656</td><td>0.80882</td><td>1.615215</td><td>1.139736</td><td>0.948756</td><td>0.962316</td><td>0.721113</td><td>1.061525</td><td>1.037891</td><td>1.287411</td><td>2.775175</td><td>0.525017</td><td>2.270865</td><td>0.577094</td><td>0.639495</td><td>0.560287</td><td>0.520431</td><td>0.792163</td><td>0.735383</td><td>0.738452</td><td>1.377318</td><td>0.974089</td><td>0.60175</td><td>0.558296</td><td>0.972543</td><td>1.624633</td></tr><tr><td>&quot;Os12g0641200&quot;</td><td>1.0</td><td>1.0</td><td>1.0</td><td>1.0</td><td>1.0</td><td>1.0</td><td>1.0</td><td>1.0</td><td>1.34581</td><td>1.337851</td><td>0.722855</td><td>0.202596</td><td>0.310684</td><td>0.482447</td><td>2.147339</td><td>2.66812</td><td>2.470606</td><td>2.420584</td><td>1.210811</td><td>1.68822</td><td>1.782365</td><td>2.02234</td><td>0.864469</td><td>0.57654</td><td>2.820844</td><td>3.900592</td><td>1.0</td><td>1.0</td><td>1.363146</td><td>0.224637</td><td>2.561818</td><td>5.592903</td><td>0.891283</td><td>1.0</td><td>2.886571</td><td>0.399646</td><td>&hellip;</td><td>1.626003</td><td>0.554418</td><td>2.327543</td><td>0.708659</td><td>1.253904</td><td>0.747667</td><td>1.21419</td><td>1.394378</td><td>0.3072</td><td>1.54719</td><td>0.853705</td><td>0.422481</td><td>0.317257</td><td>2.731734</td><td>1.396359</td><td>1.205544</td><td>0.483574</td><td>0.733506</td><td>0.479358</td><td>0.468497</td><td>1.266185</td><td>1.540311</td><td>0.340326</td><td>0.938826</td><td>0.744195</td><td>0.902789</td><td>0.293271</td><td>0.734621</td><td>2.713237</td><td>0.723214</td><td>1.469847</td><td>8.251797</td><td>12.227851</td><td>3.864073</td><td>1.986833</td><td>0.582545</td><td>14.041889</td></tr><tr><td>&quot;Os12g0641300&quot;</td><td>1.0</td><td>1.0</td><td>1.0</td><td>1.0</td><td>0.316684</td><td>1.0</td><td>1.0</td><td>1.0</td><td>1.814044</td><td>1.959658</td><td>1.651451</td><td>0.363303</td><td>0.489477</td><td>0.513967</td><td>2.183846</td><td>2.08417</td><td>1.371521</td><td>1.332527</td><td>1.70133</td><td>1.59343</td><td>2.331243</td><td>2.217381</td><td>1.709113</td><td>1.78951</td><td>2.844805</td><td>2.677968</td><td>0.253169</td><td>0.211079</td><td>0.145295</td><td>1.157339</td><td>1.6192</td><td>1.448443</td><td>1.300356</td><td>2.497598</td><td>1.559386</td><td>1.36379</td><td>&hellip;</td><td>1.137144</td><td>0.462542</td><td>1.408695</td><td>0.915513</td><td>0.854722</td><td>0.741904</td><td>1.555971</td><td>1.282565</td><td>1.182925</td><td>1.995457</td><td>1.473107</td><td>1.037217</td><td>0.94501</td><td>2.389791</td><td>1.674603</td><td>1.253617</td><td>1.145706</td><td>0.964097</td><td>1.156783</td><td>1.536818</td><td>0.871979</td><td>1.831006</td><td>0.543172</td><td>2.212088</td><td>0.656573</td><td>1.132524</td><td>0.721943</td><td>0.54759</td><td>1.798458</td><td>1.377382</td><td>1.720096</td><td>1.417665</td><td>1.672338</td><td>1.197103</td><td>0.377292</td><td>1.064871</td><td>1.447654</td></tr><tr><td>&quot;Os12g0641400&quot;</td><td>0.656297</td><td>0.944844</td><td>0.682396</td><td>0.827123</td><td>0.600326</td><td>1.508617</td><td>0.951318</td><td>0.385374</td><td>1.11855</td><td>1.06925</td><td>1.000182</td><td>0.951502</td><td>1.288889</td><td>1.349027</td><td>0.777332</td><td>0.783799</td><td>0.715868</td><td>0.711444</td><td>0.690354</td><td>0.699451</td><td>0.817806</td><td>0.806047</td><td>0.577829</td><td>0.580564</td><td>0.900966</td><td>0.90491</td><td>2.492621</td><td>3.345792</td><td>2.583717</td><td>1.302779</td><td>1.227777</td><td>0.929066</td><td>1.208109</td><td>1.311805</td><td>0.985016</td><td>1.73784</td><td>&hellip;</td><td>1.14999</td><td>0.401833</td><td>1.203462</td><td>0.904723</td><td>0.752594</td><td>0.545916</td><td>0.987183</td><td>0.839881</td><td>0.904542</td><td>1.304546</td><td>1.016111</td><td>0.715164</td><td>0.688706</td><td>1.305155</td><td>0.979802</td><td>0.888161</td><td>0.72413</td><td>0.595877</td><td>0.785112</td><td>0.914574</td><td>0.664386</td><td>1.343614</td><td>0.443142</td><td>1.710404</td><td>0.427035</td><td>0.573803</td><td>0.430716</td><td>0.43136</td><td>0.943933</td><td>0.783158</td><td>0.879249</td><td>0.73665</td><td>1.022858</td><td>0.340235</td><td>0.377274</td><td>0.546013</td><td>1.023622</td></tr><tr><td>&quot;Os12g0641500&quot;</td><td>0.854</td><td>1.063454</td><td>0.821973</td><td>1.081992</td><td>0.896639</td><td>0.827501</td><td>1.177691</td><td>0.871535</td><td>1.795138</td><td>1.864458</td><td>1.489137</td><td>1.389437</td><td>2.199542</td><td>2.876902</td><td>0.411915</td><td>0.419311</td><td>0.348308</td><td>0.343535</td><td>0.480602</td><td>0.49441</td><td>0.556721</td><td>0.556653</td><td>0.465437</td><td>0.466151</td><td>0.646637</td><td>0.65308</td><td>9.08905</td><td>5.356792</td><td>11.442835</td><td>2.955065</td><td>1.156059</td><td>1.259709</td><td>2.453632</td><td>1.427103</td><td>1.322571</td><td>4.541973</td><td>&hellip;</td><td>1.223966</td><td>0.4179</td><td>1.268587</td><td>0.841521</td><td>1.169084</td><td>1.112873</td><td>1.949383</td><td>1.470266</td><td>1.041914</td><td>1.873556</td><td>1.35495</td><td>0.844412</td><td>0.854512</td><td>1.713295</td><td>1.243602</td><td>1.005852</td><td>0.970481</td><td>0.733052</td><td>0.999838</td><td>1.092754</td><td>1.292979</td><td>2.592577</td><td>0.481811</td><td>2.315379</td><td>0.512562</td><td>0.975283</td><td>0.532336</td><td>0.536193</td><td>1.636216</td><td>1.094168</td><td>0.965324</td><td>1.285873</td><td>1.251288</td><td>0.621946</td><td>1.115922</td><td>1.046188</td><td>1.598548</td></tr></tbody></table></div>"
      ],
      "text/plain": [
       "shape: (35_691, 361)\n",
       "┌───────────┬───────────┬───────────┬───────────┬───┬───────────┬───────────┬───────────┬──────────┐\n",
       "│ GENEID    ┆ SRR227414 ┆ SRR227414 ┆ SRR227414 ┆ … ┆ SRR230518 ┆ SRR230518 ┆ SRR230518 ┆ SRR23051 │\n",
       "│ ---       ┆ 60        ┆ 61        ┆ 62        ┆   ┆ 77        ┆ 76        ┆ 75        ┆ 874      │\n",
       "│ str       ┆ ---       ┆ ---       ┆ ---       ┆   ┆ ---       ┆ ---       ┆ ---       ┆ ---      │\n",
       "│           ┆ f64       ┆ f64       ┆ f64       ┆   ┆ f64       ┆ f64       ┆ f64       ┆ f64      │\n",
       "╞═══════════╪═══════════╪═══════════╪═══════════╪═══╪═══════════╪═══════════╪═══════════╪══════════╡\n",
       "│ EPlORYSAT ┆ 1.0       ┆ 1.0       ┆ 64.003051 ┆ … ┆ 1.0       ┆ 1.0       ┆ 1.0       ┆ 1.0      │\n",
       "│ 000373610 ┆           ┆           ┆           ┆   ┆           ┆           ┆           ┆          │\n",
       "│ EPlORYSAT ┆ 1.0       ┆ 1.0       ┆ 1.0       ┆ … ┆ 1.0       ┆ 1.0       ┆ 1.0       ┆ 1.0      │\n",
       "│ 000373621 ┆           ┆           ┆           ┆   ┆           ┆           ┆           ┆          │\n",
       "│ EPlORYSAT ┆ 1.0       ┆ 1.0       ┆ 1.0       ┆ … ┆ 1.0       ┆ 1.0       ┆ 1.0       ┆ 1.0      │\n",
       "│ 000373643 ┆           ┆           ┆           ┆   ┆           ┆           ┆           ┆          │\n",
       "│ EPlORYSAT ┆ 1.0       ┆ 1.0       ┆ 1.0       ┆ … ┆ 1.0       ┆ 1.0       ┆ 1.0       ┆ 1.0      │\n",
       "│ 000373795 ┆           ┆           ┆           ┆   ┆           ┆           ┆           ┆          │\n",
       "│ EPlORYSAT ┆ 1.0       ┆ 1.0       ┆ 1.0       ┆ … ┆ 1.0       ┆ 1.0       ┆ 1.0       ┆ 1.0      │\n",
       "│ 000373851 ┆           ┆           ┆           ┆   ┆           ┆           ┆           ┆          │\n",
       "│ …         ┆ …         ┆ …         ┆ …         ┆ … ┆ …         ┆ …         ┆ …         ┆ …        │\n",
       "│ Os12g0641 ┆ 0.330482  ┆ 0.881209  ┆ 0.498074  ┆ … ┆ 0.60175   ┆ 0.558296  ┆ 0.972543  ┆ 1.624633 │\n",
       "│ 100       ┆           ┆           ┆           ┆   ┆           ┆           ┆           ┆          │\n",
       "│ Os12g0641 ┆ 1.0       ┆ 1.0       ┆ 1.0       ┆ … ┆ 3.864073  ┆ 1.986833  ┆ 0.582545  ┆ 14.04188 │\n",
       "│ 200       ┆           ┆           ┆           ┆   ┆           ┆           ┆           ┆ 9        │\n",
       "│ Os12g0641 ┆ 1.0       ┆ 1.0       ┆ 1.0       ┆ … ┆ 1.197103  ┆ 0.377292  ┆ 1.064871  ┆ 1.447654 │\n",
       "│ 300       ┆           ┆           ┆           ┆   ┆           ┆           ┆           ┆          │\n",
       "│ Os12g0641 ┆ 0.656297  ┆ 0.944844  ┆ 0.682396  ┆ … ┆ 0.340235  ┆ 0.377274  ┆ 0.546013  ┆ 1.023622 │\n",
       "│ 400       ┆           ┆           ┆           ┆   ┆           ┆           ┆           ┆          │\n",
       "│ Os12g0641 ┆ 0.854     ┆ 1.063454  ┆ 0.821973  ┆ … ┆ 0.621946  ┆ 1.115922  ┆ 1.046188  ┆ 1.598548 │\n",
       "│ 500       ┆           ┆           ┆           ┆   ┆           ┆           ┆           ┆          │\n",
       "└───────────┴───────────┴───────────┴───────────┴───┴───────────┴───────────┴───────────┴──────────┘"
      ]
     },
     "metadata": {},
     "output_type": "display_data"
    }
   ],
   "source": [
    "HNratio = pl.read_csv(\"../Data/Data_HNscore/HNratio_rice_240806_all.csv\", separator=\",\")\n",
    "display(HNratio)"
   ]
  },
  {
   "cell_type": "code",
   "execution_count": 6,
   "metadata": {},
   "outputs": [
    {
     "name": "stdout",
     "output_type": "stream",
     "text": [
      "{'SRR22741460': 'seed-endosperm-R6-caryopsis', 'SRR22741461': 'seed-endosperm-R6-caryopsis', 'SRR22741462': 'seed-endosperm-R6-caryopsis', 'SRR22741463': 'seed-endosperm-R6-caryopsis', 'SRR22741468': 'seed-endosperm-R6-caryopsis', 'SRR22741469': 'seed-endosperm-R6-caryopsis', 'SRR22741470': 'seed-endosperm-R6-caryopsis', 'SRR22741471': 'seed-endosperm-R6-caryopsis', 'SRR10991576': '3-week-old-seedling', 'SRR10991577': '3-week-old-seedling', 'SRR10991578': '3-week-old-seedling', 'SRR10991582': '3-week-old-seedling', 'SRR10991583': '3-week-old-seedling', 'SRR10991584': '3-week-old-seedling', 'SRR8140273': 'seedling-8-day-old', 'SRR8140274': 'seedling-8-day-old', 'SRR8140275': 'seedling-8-day-old', 'SRR8140276': 'seedling-8-day-old', 'SRR8140277': 'seedling-8-day-old', 'SRR8140278': 'seedling-8-day-old', 'SRR8140285': 'seedling-8-day-old', 'SRR8140286': 'seedling-8-day-old', 'SRR8140287': 'seedling-8-day-old', 'SRR8140288': 'seedling-8-day-old', 'SRR8140289': 'seedling-8-day-old', 'SRR8140290': 'seedling-8-day-old', 'SRR10423442': 'caryopsis-7-days-after-pollination', 'SRR10423443': 'caryopsis-7-days-after-pollination', 'SRR10423444': 'caryopsis-7-days-after-pollination', 'SRR10423430': 'caryopsis-7-days-after-pollination', 'SRR10423431': 'caryopsis-7-days-after-pollination', 'SRR10423432': 'caryopsis-7-days-after-pollination', 'SRR10423433': 'caryopsis-7-days-after-pollination', 'SRR10423434': 'caryopsis-7-days-after-pollination', 'SRR10423435': 'caryopsis-7-days-after-pollination', 'SRR10423418': 'caryopsis-7-days-after-pollination', 'SRR10423419': 'caryopsis-7-days-after-pollination', 'SRR10423420': 'caryopsis-7-days-after-pollination', 'SRR10423421': 'caryopsis-7-days-after-pollination', 'SRR10423422': 'caryopsis-7-days-after-pollination', 'SRR10423423': 'caryopsis-7-days-after-pollination', 'SRR5796950': 'shoot2-week-old', 'SRR5796951': 'shoot2-week-old', 'SRR5796952': 'shoot2-week-old', 'SRR5796953': 'shoot2-week-old', 'SRR5796954': 'shoot2-week-old', 'SRR5796955': 'shoot2-week-old', 'SRR5796956': 'shoot2-week-old', 'SRR5796957': 'shoot2-week-old', 'SRR5796958': 'shoot2-week-old', 'SRR5796959': 'shoot2-week-old', 'SRR2931075': 'leaf', 'SRR2931076': 'leaf', 'SRR2931077': 'leaf', 'SRR2931078': 'leaf', 'SRR2931079': 'leaf', 'SRR2931080': 'leaf', 'SRR2931081': 'leaf', 'SRR2931082': 'leaf', 'SRR2931083': 'leaf', 'SRR2931084': 'leaf', 'SRR2931085': 'leaf', 'SRR2931086': 'leaf', 'SRR2931087': 'leaf', 'SRR2931088': 'leaf', 'SRR2931089': 'leaf', 'SRR2931090': 'leaf', 'SRR2931091': 'leaf', 'SRR2931092': 'leaf', 'SRR2931093': 'leaf', 'SRR2931094': 'leaf', 'SRR2931095': 'leaf', 'SRR2931096': 'leaf', 'SRR2931097': 'leaf', 'SRR2931098': 'leaf', 'SRR2931099': 'leaf', 'SRR2931100': 'leaf', 'SRR2931101': 'leaf', 'SRR2931102': 'leaf', 'SRR2931103': 'leaf', 'SRR2931104': 'leaf', 'SRR2931105': 'leaf', 'SRR2931106': 'leaf', 'SRR2931107': 'leaf', 'SRR2931108': 'leaf', 'SRR2931109': 'leaf', 'SRR2931110': 'leaf', 'SRR2931111': 'leaf', 'SRR2931112': 'leaf', 'SRR2931113': 'leaf', 'SRR2931114': 'leaf', 'SRR2931115': 'leaf', 'SRR2931116': 'leaf', 'SRR2931117': 'leaf', 'SRR2931118': 'leaf', 'SRR2931119': 'leaf', 'SRR2931120': 'leaf', 'SRR2931121': 'leaf', 'SRR2931122': 'leaf', 'SRR2931195': 'leaf', 'SRR2931196': 'leaf', 'SRR2931197': 'leaf', 'SRR2931198': 'leaf', 'SRR2931199': 'leaf', 'SRR2931200': 'leaf', 'SRR2931201': 'leaf', 'SRR2931202': 'leaf', 'SRR2931203': 'leaf', 'SRR2931204': 'leaf', 'SRR2931205': 'leaf', 'SRR2931206': 'leaf', 'SRR2931207': 'leaf', 'SRR2931208': 'leaf', 'SRR2931209': 'leaf', 'SRR2931210': 'leaf', 'SRR2931211': 'leaf', 'SRR2931212': 'leaf', 'SRR2931213': 'leaf', 'SRR2931214': 'leaf', 'SRR2931215': 'leaf', 'SRR2931216': 'leaf', 'SRR2931217': 'leaf', 'SRR2931218': 'leaf', 'SRR2931219': 'leaf', 'SRR2931220': 'leaf', 'SRR2931221': 'leaf', 'SRR2931222': 'leaf', 'SRR2931223': 'leaf', 'SRR2931224': 'leaf', 'SRR2931225': 'leaf', 'SRR2931226': 'leaf', 'SRR2931227': 'leaf', 'SRR2931228': 'leaf', 'SRR2931229': 'leaf', 'SRR2931230': 'leaf', 'SRR2931231': 'leaf', 'SRR2931232': 'leaf', 'SRR2931233': 'leaf', 'SRR2931234': 'leaf', 'SRR2931235': 'leaf', 'SRR2931236': 'leaf', 'SRR2931237': 'leaf', 'SRR2931238': 'leaf', 'SRR2931239': 'leaf', 'SRR2931240': 'leaf', 'SRR2931241': 'leaf', 'SRR2931313': 'leaf', 'SRR2931314': 'leaf', 'SRR2931315': 'leaf', 'SRR2931316': 'leaf', 'SRR2931317': 'leaf', 'SRR2931318': 'leaf', 'SRR2931319': 'leaf', 'SRR2931320': 'leaf', 'SRR2931321': 'leaf', 'SRR2931322': 'leaf', 'SRR2931323': 'leaf', 'SRR2931324': 'leaf', 'SRR2931325': 'leaf', 'SRR2931326': 'leaf', 'SRR2931327': 'leaf', 'SRR2931328': 'leaf', 'SRR2931329': 'leaf', 'SRR2931330': 'leaf', 'SRR2931331': 'leaf', 'SRR2931332': 'leaf', 'SRR2931333': 'leaf', 'SRR2931334': 'leaf', 'SRR2931335': 'leaf', 'SRR2931336': 'leaf', 'SRR2931337': 'leaf', 'SRR2931338': 'leaf', 'SRR2931339': 'leaf', 'SRR2931340': 'leaf', 'SRR2931341': 'leaf', 'SRR2931342': 'leaf', 'SRR2931343': 'leaf', 'SRR2931344': 'leaf', 'SRR2931345': 'leaf', 'SRR2931346': 'leaf', 'SRR2931347': 'leaf', 'SRR2931348': 'leaf', 'SRR2931349': 'leaf', 'SRR2931350': 'leaf', 'SRR2931351': 'leaf', 'SRR2931352': 'leaf', 'SRR2931353': 'leaf', 'SRR2931354': 'leaf', 'SRR2931355': 'leaf', 'SRR2931356': 'leaf', 'SRR2931357': 'leaf', 'SRR2931358': 'leaf', 'SRR2931359': 'leaf', 'SRR2931360': 'leaf', 'SRR2931431': 'leaf', 'SRR2931432': 'leaf', 'SRR2931433': 'leaf', 'SRR2931434': 'leaf', 'SRR2931435': 'leaf', 'SRR2931436': 'leaf', 'SRR2931437': 'leaf', 'SRR2931438': 'leaf', 'SRR2931439': 'leaf', 'SRR2931440': 'leaf', 'SRR2931441': 'leaf', 'SRR2931442': 'leaf', 'SRR2931443': 'leaf', 'SRR2931444': 'leaf', 'SRR2931445': 'leaf', 'SRR2931446': 'leaf', 'SRR2931447': 'leaf', 'SRR2931448': 'leaf', 'SRR2931449': 'leaf', 'SRR2931450': 'leaf', 'SRR2931451': 'leaf', 'SRR2931452': 'leaf', 'SRR2931453': 'leaf', 'SRR2931454': 'leaf', 'SRR2931455': 'leaf', 'SRR2931456': 'leaf', 'SRR2931457': 'leaf', 'SRR2931458': 'leaf', 'SRR2931459': 'leaf', 'SRR2931460': 'leaf', 'SRR2931461': 'leaf', 'SRR2931462': 'leaf', 'SRR2931463': 'leaf', 'SRR2931464': 'leaf', 'SRR2931465': 'leaf', 'SRR2931466': 'leaf', 'SRR2931467': 'leaf', 'SRR2931468': 'leaf', 'SRR2931469': 'leaf', 'SRR2931470': 'leaf', 'SRR2931471': 'leaf', 'SRR2931472': 'leaf', 'SRR2931473': 'leaf', 'SRR2931474': 'leaf', 'SRR2931475': 'leaf', 'SRR2931476': 'leaf', 'SRR2931477': 'leaf', 'SRR2931478': 'leaf', 'SRR2338868': 'endosperm-grain-filling-stage', 'SRR2338869': 'endosperm-grain-filling-stage', 'SRR611649': 'Leaf-blades', 'SRR611651': 'Leaf-blades', 'SRR7760294': 'Spikeletsof-the-middle-third-of-the-panicle', 'SRR7760295': 'Spikeletsof-the-middle-third-of-the-panicle', 'SRR7760296': 'Spikeletsof-the-middle-third-of-the-panicle', 'SRR7760300': 'Spikeletsof-the-middle-third-of-the-panicle', 'SRR7760301': 'Spikeletsof-the-middle-third-of-the-panicle', 'SRR7760302': 'Spikeletsof-the-middle-third-of-the-panicle', 'SRR5311320': 'leaf', 'SRR5311321': 'leaf', 'SRR5311322': 'leaf', 'SRR5311323': 'leaf', 'SRR5311324': 'leaf', 'SRR5311325': 'leaf', 'SRR5311332': 'leaf', 'SRR5311333': 'leaf', 'SRR5311334': 'leaf', 'SRR5311335': 'leaf', 'SRR5311336': 'leaf', 'SRR5311337': 'leaf', 'SRR5311340': 'leaf', 'SRR5311341': 'leaf', 'SRR15060375': 'Tip', 'SRR15060376': 'Tip', 'SRR15060377': 'Tip', 'SRR15060378': 'Tip', 'SRR15060379': 'Tip', 'SRR15060380': 'Tip', 'SRR15060381': 'Tip', 'SRR15060382': 'Tip', 'SRR15060383': 'Tip', 'SRR15060384': 'Tip', 'SRR15060385': 'Tip', 'SRR15060386': 'Tip', 'SRR15060387': 'Tip', 'SRR15060388': 'Tip', 'SRR15060389': 'Tip', 'SRR15060390': 'Tip', 'SRR15060391': 'Tip', 'SRR15060392': 'Middle', 'SRR15060393': 'Middle', 'SRR15060394': 'Middle', 'SRR15060395': 'Middle', 'SRR15060396': 'Middle', 'SRR15060397': 'Middle', 'SRR15060398': 'Middle', 'SRR15060399': 'Middle', 'SRR15060400': 'Middle', 'SRR15060401': 'Middle', 'SRR15060402': 'Middle', 'SRR15060403': 'Middle', 'SRR15060404': 'Middle', 'SRR15060405': 'Middle', 'SRR15060406': 'Middle', 'SRR15060407': 'Middle', 'SRR15060408': 'Middle', 'SRR15060409': 'Base', 'SRR15060410': 'Base', 'SRR15060411': 'Base', 'SRR15060412': 'Base', 'SRR15060413': 'Base', 'SRR15060414': 'Base', 'SRR15060415': 'Base', 'SRR15060416': 'Base', 'SRR15060417': 'Base', 'SRR15060418': 'Base', 'SRR15060419': 'Base', 'SRR15060420': 'Base', 'SRR15060421': 'Base', 'SRR15060422': 'Base', 'SRR15060423': 'Base', 'SRR15060424': 'Base', 'SRR15060425': 'Base', 'SRR15060426': 'Base', 'SRR15060427': 'Base', 'SRR15060428': 'Base', 'SRR15060429': 'Base', 'SRR15060430': 'Base', 'SRR15060431': 'Base', 'SRR15060432': 'Base', 'SRR15060433': 'Base', 'SRR15060434': 'Base', 'SRR15060435': 'Base', 'SRR15060436': 'Sheath', 'SRR15060437': 'Sheath', 'SRR15060438': 'Sheath', 'SRR15060439': 'Sheath', 'SRR15060440': 'Sheath', 'SRR15060441': 'Sheath', 'SRR15060442': 'Sheath', 'SRR15060443': 'Sheath', 'SRR15060444': 'Sheath', 'SRR15060445': 'Sheath', 'SRR15060446': 'Sheath', 'SRR15060447': 'Sheath', 'SRR15060448': 'Sheath', 'SRR15060449': 'Sheath', 'SRR15060450': 'Sheath', 'SRR15060451': 'Sheath', 'SRR15060452': 'Sheath', 'SRR15060453': 'Sheath', 'SRR15060454': 'Sheath', 'SRR15060455': 'Sheath', 'SRR15060456': 'Sheath', 'SRR22854097': 'Whole-shoot', 'SRR22854098': 'Whole-shoot', 'SRR22854099': 'Whole-shoot', 'SRR22854094': 'Whole-shoot', 'SRR22854095': 'Whole-shoot', 'SRR22854096': 'Whole-shoot', 'SRR23051879': 'Whole-plants-7-day-old-seedlings', 'SRR23051878': 'Whole-plants-7-day-old-seedlings', 'SRR23051877': 'Whole-plants-7-day-old-seedlings', 'SRR23051876': 'Whole-plants-7-day-old-seedlings', 'SRR23051875': 'Whole-plants-7-day-old-seedlings', 'SRR23051874': 'Whole-plants-7-day-old-seedlings'}\n"
     ]
    },
    {
     "data": {
      "text/html": [
       "<div><style>\n",
       ".dataframe > thead > tr,\n",
       ".dataframe > tbody > tr {\n",
       "  text-align: right;\n",
       "  white-space: pre-wrap;\n",
       "}\n",
       "</style>\n",
       "<small>shape: (35_691, 361)</small><table border=\"1\" class=\"dataframe\"><thead><tr><th>GENEID</th><th>seed-endosperm-R6-caryopsis</th><th>seed-endosperm-R6-caryopsis_1</th><th>seed-endosperm-R6-caryopsis_2</th><th>seed-endosperm-R6-caryopsis_3</th><th>seed-endosperm-R6-caryopsis_4</th><th>seed-endosperm-R6-caryopsis_5</th><th>seed-endosperm-R6-caryopsis_6</th><th>seed-endosperm-R6-caryopsis_7</th><th>3-week-old-seedling</th><th>3-week-old-seedling_1</th><th>3-week-old-seedling_2</th><th>3-week-old-seedling_3</th><th>3-week-old-seedling_4</th><th>3-week-old-seedling_5</th><th>seedling-8-day-old</th><th>seedling-8-day-old_1</th><th>seedling-8-day-old_2</th><th>seedling-8-day-old_3</th><th>seedling-8-day-old_4</th><th>seedling-8-day-old_5</th><th>seedling-8-day-old_6</th><th>seedling-8-day-old_7</th><th>seedling-8-day-old_8</th><th>seedling-8-day-old_9</th><th>seedling-8-day-old_10</th><th>seedling-8-day-old_11</th><th>caryopsis-7-days-after-pollination</th><th>caryopsis-7-days-after-pollination_1</th><th>caryopsis-7-days-after-pollination_2</th><th>caryopsis-7-days-after-pollination_3</th><th>caryopsis-7-days-after-pollination_4</th><th>caryopsis-7-days-after-pollination_5</th><th>caryopsis-7-days-after-pollination_6</th><th>caryopsis-7-days-after-pollination_7</th><th>caryopsis-7-days-after-pollination_8</th><th>caryopsis-7-days-after-pollination_9</th><th>&hellip;</th><th>Base_23</th><th>Base_24</th><th>Base_25</th><th>Base_26</th><th>Sheath</th><th>Sheath_1</th><th>Sheath_2</th><th>Sheath_3</th><th>Sheath_4</th><th>Sheath_5</th><th>Sheath_6</th><th>Sheath_7</th><th>Sheath_8</th><th>Sheath_9</th><th>Sheath_10</th><th>Sheath_11</th><th>Sheath_12</th><th>Sheath_13</th><th>Sheath_14</th><th>Sheath_15</th><th>Sheath_16</th><th>Sheath_17</th><th>Sheath_18</th><th>Sheath_19</th><th>Sheath_20</th><th>Whole-shoot</th><th>Whole-shoot_1</th><th>Whole-shoot_2</th><th>Whole-shoot_3</th><th>Whole-shoot_4</th><th>Whole-shoot_5</th><th>Whole-plants-7-day-old-seedlings</th><th>Whole-plants-7-day-old-seedlings_1</th><th>Whole-plants-7-day-old-seedlings_2</th><th>Whole-plants-7-day-old-seedlings_3</th><th>Whole-plants-7-day-old-seedlings_4</th><th>Whole-plants-7-day-old-seedlings_5</th></tr><tr><td>str</td><td>f64</td><td>f64</td><td>f64</td><td>f64</td><td>f64</td><td>f64</td><td>f64</td><td>f64</td><td>f64</td><td>f64</td><td>f64</td><td>f64</td><td>f64</td><td>f64</td><td>f64</td><td>f64</td><td>f64</td><td>f64</td><td>f64</td><td>f64</td><td>f64</td><td>f64</td><td>f64</td><td>f64</td><td>f64</td><td>f64</td><td>f64</td><td>f64</td><td>f64</td><td>f64</td><td>f64</td><td>f64</td><td>f64</td><td>f64</td><td>f64</td><td>f64</td><td>&hellip;</td><td>f64</td><td>f64</td><td>f64</td><td>f64</td><td>f64</td><td>f64</td><td>f64</td><td>f64</td><td>f64</td><td>f64</td><td>f64</td><td>f64</td><td>f64</td><td>f64</td><td>f64</td><td>f64</td><td>f64</td><td>f64</td><td>f64</td><td>f64</td><td>f64</td><td>f64</td><td>f64</td><td>f64</td><td>f64</td><td>f64</td><td>f64</td><td>f64</td><td>f64</td><td>f64</td><td>f64</td><td>f64</td><td>f64</td><td>f64</td><td>f64</td><td>f64</td><td>f64</td></tr></thead><tbody><tr><td>&quot;EPlORYSAT000373610&quot;</td><td>1.0</td><td>1.0</td><td>64.003051</td><td>64.326859</td><td>0.015755</td><td>1.0</td><td>1.0</td><td>1.0</td><td>1.0</td><td>1.0</td><td>1.0</td><td>1.0</td><td>1.0</td><td>1.0</td><td>1.0</td><td>1.0</td><td>1.0</td><td>1.0</td><td>1.0</td><td>1.0</td><td>1.0</td><td>1.0</td><td>1.0</td><td>1.0</td><td>1.0</td><td>1.0</td><td>1.0</td><td>1.0</td><td>1.0</td><td>1.0</td><td>1.0</td><td>1.0</td><td>1.0</td><td>1.0</td><td>1.0</td><td>1.0</td><td>&hellip;</td><td>1.0</td><td>1.0</td><td>1.0</td><td>1.0</td><td>1.0</td><td>1.0</td><td>1.0</td><td>1.0</td><td>1.0</td><td>1.0</td><td>1.0</td><td>1.0</td><td>188.995833</td><td>1.0</td><td>1.0</td><td>1.0</td><td>1.0</td><td>1.0</td><td>1.0</td><td>1.0</td><td>1.0</td><td>200.462188</td><td>1.0</td><td>1.0</td><td>1.0</td><td>0.017064</td><td>1.0</td><td>70.185139</td><td>1.284229</td><td>1.0</td><td>1.0</td><td>1.0</td><td>1.0</td><td>1.0</td><td>1.0</td><td>1.0</td><td>1.0</td></tr><tr><td>&quot;EPlORYSAT000373621&quot;</td><td>1.0</td><td>1.0</td><td>1.0</td><td>1.0</td><td>1.0</td><td>1.0</td><td>1.0</td><td>1.0</td><td>1.0</td><td>1.0</td><td>1.0</td><td>1.0</td><td>1.0</td><td>1.0</td><td>1.0</td><td>1.0</td><td>1.0</td><td>1.0</td><td>1.0</td><td>1.0</td><td>1.0</td><td>1.0</td><td>1.0</td><td>1.0</td><td>1.0</td><td>1.0</td><td>1.0</td><td>1.0</td><td>1.0</td><td>1.0</td><td>1.0</td><td>1.0</td><td>1.0</td><td>1.0</td><td>1.0</td><td>1.0</td><td>&hellip;</td><td>1.0</td><td>1.0</td><td>1.0</td><td>1.0</td><td>1.0</td><td>1.0</td><td>1.0</td><td>1.0</td><td>1.0</td><td>1.0</td><td>1.0</td><td>1.0</td><td>1.0</td><td>1.0</td><td>1.0</td><td>1.0</td><td>1.0</td><td>1.0</td><td>1.0</td><td>1.0</td><td>1.0</td><td>1.0</td><td>1.0</td><td>1.0</td><td>1.0</td><td>1.0</td><td>1.0</td><td>1.0</td><td>1.0</td><td>1.0</td><td>1.0</td><td>1.0</td><td>1.0</td><td>1.0</td><td>1.0</td><td>1.0</td><td>1.0</td></tr><tr><td>&quot;EPlORYSAT000373643&quot;</td><td>1.0</td><td>1.0</td><td>1.0</td><td>1.0</td><td>1.0</td><td>1.0</td><td>1.0</td><td>1.0</td><td>1.0</td><td>1.0</td><td>1.0</td><td>1.0</td><td>1.0</td><td>1.0</td><td>1.0</td><td>1.0</td><td>1.0</td><td>1.0</td><td>1.0</td><td>1.0</td><td>1.0</td><td>1.0</td><td>1.0</td><td>1.0</td><td>1.0</td><td>1.0</td><td>1.0</td><td>1.0</td><td>1.0</td><td>1.0</td><td>1.0</td><td>1.0</td><td>1.0</td><td>1.0</td><td>1.0</td><td>1.0</td><td>&hellip;</td><td>1.0</td><td>1.0</td><td>1.0</td><td>1.0</td><td>1.0</td><td>1.0</td><td>1.0</td><td>1.0</td><td>1.0</td><td>1.0</td><td>1.0</td><td>1.0</td><td>1.0</td><td>1.0</td><td>1.0</td><td>1.0</td><td>1.0</td><td>1.0</td><td>1.0</td><td>1.0</td><td>1.0</td><td>1.0</td><td>1.0</td><td>1.0</td><td>1.0</td><td>1.0</td><td>1.0</td><td>1.0</td><td>1.0</td><td>1.0</td><td>1.0</td><td>1.0</td><td>1.0</td><td>1.0</td><td>1.0</td><td>1.0</td><td>1.0</td></tr><tr><td>&quot;EPlORYSAT000373795&quot;</td><td>1.0</td><td>1.0</td><td>1.0</td><td>1.0</td><td>1.0</td><td>1.0</td><td>1.0</td><td>1.0</td><td>1.0</td><td>1.0</td><td>1.0</td><td>1.0</td><td>1.0</td><td>1.0</td><td>1.0</td><td>1.0</td><td>1.0</td><td>1.0</td><td>1.0</td><td>1.0</td><td>1.0</td><td>1.0</td><td>1.0</td><td>1.0</td><td>1.0</td><td>1.0</td><td>1.0</td><td>1.0</td><td>1.0</td><td>1.0</td><td>1.0</td><td>1.0</td><td>1.0</td><td>1.0</td><td>1.0</td><td>1.0</td><td>&hellip;</td><td>1.0</td><td>1.0</td><td>1.0</td><td>1.0</td><td>1.0</td><td>1.0</td><td>1.0</td><td>1.0</td><td>1.0</td><td>1.0</td><td>1.0</td><td>1.0</td><td>1.0</td><td>1.0</td><td>1.0</td><td>1.0</td><td>1.0</td><td>1.0</td><td>1.0</td><td>1.0</td><td>1.0</td><td>1.0</td><td>1.0</td><td>1.0</td><td>1.0</td><td>1.0</td><td>1.0</td><td>1.0</td><td>1.0</td><td>1.0</td><td>1.0</td><td>1.0</td><td>1.0</td><td>1.0</td><td>1.0</td><td>1.0</td><td>1.0</td></tr><tr><td>&quot;EPlORYSAT000373851&quot;</td><td>1.0</td><td>1.0</td><td>1.0</td><td>1.0</td><td>1.0</td><td>1.0</td><td>1.0</td><td>1.0</td><td>1.0</td><td>1.0</td><td>1.0</td><td>1.0</td><td>1.0</td><td>1.0</td><td>1.0</td><td>1.0</td><td>1.0</td><td>1.0</td><td>1.0</td><td>1.0</td><td>1.0</td><td>1.0</td><td>1.0</td><td>1.0</td><td>1.0</td><td>1.0</td><td>1.0</td><td>1.0</td><td>1.0</td><td>1.0</td><td>1.0</td><td>1.0</td><td>1.0</td><td>1.0</td><td>1.0</td><td>1.0</td><td>&hellip;</td><td>1.0</td><td>1.0</td><td>1.0</td><td>1.0</td><td>1.0</td><td>1.0</td><td>1.0</td><td>1.0</td><td>1.0</td><td>1.0</td><td>1.0</td><td>1.0</td><td>1.0</td><td>1.0</td><td>1.0</td><td>1.0</td><td>1.0</td><td>1.0</td><td>1.0</td><td>1.0</td><td>1.0</td><td>1.0</td><td>1.0</td><td>1.0</td><td>1.0</td><td>1.0</td><td>1.0</td><td>1.0</td><td>1.0</td><td>1.0</td><td>1.0</td><td>1.0</td><td>1.0</td><td>1.0</td><td>1.0</td><td>1.0</td><td>1.0</td></tr><tr><td>&hellip;</td><td>&hellip;</td><td>&hellip;</td><td>&hellip;</td><td>&hellip;</td><td>&hellip;</td><td>&hellip;</td><td>&hellip;</td><td>&hellip;</td><td>&hellip;</td><td>&hellip;</td><td>&hellip;</td><td>&hellip;</td><td>&hellip;</td><td>&hellip;</td><td>&hellip;</td><td>&hellip;</td><td>&hellip;</td><td>&hellip;</td><td>&hellip;</td><td>&hellip;</td><td>&hellip;</td><td>&hellip;</td><td>&hellip;</td><td>&hellip;</td><td>&hellip;</td><td>&hellip;</td><td>&hellip;</td><td>&hellip;</td><td>&hellip;</td><td>&hellip;</td><td>&hellip;</td><td>&hellip;</td><td>&hellip;</td><td>&hellip;</td><td>&hellip;</td><td>&hellip;</td><td>&hellip;</td><td>&hellip;</td><td>&hellip;</td><td>&hellip;</td><td>&hellip;</td><td>&hellip;</td><td>&hellip;</td><td>&hellip;</td><td>&hellip;</td><td>&hellip;</td><td>&hellip;</td><td>&hellip;</td><td>&hellip;</td><td>&hellip;</td><td>&hellip;</td><td>&hellip;</td><td>&hellip;</td><td>&hellip;</td><td>&hellip;</td><td>&hellip;</td><td>&hellip;</td><td>&hellip;</td><td>&hellip;</td><td>&hellip;</td><td>&hellip;</td><td>&hellip;</td><td>&hellip;</td><td>&hellip;</td><td>&hellip;</td><td>&hellip;</td><td>&hellip;</td><td>&hellip;</td><td>&hellip;</td><td>&hellip;</td><td>&hellip;</td><td>&hellip;</td><td>&hellip;</td><td>&hellip;</td></tr><tr><td>&quot;Os12g0641100&quot;</td><td>0.330482</td><td>0.881209</td><td>0.498074</td><td>0.510708</td><td>0.808446</td><td>0.986463</td><td>1.23701</td><td>0.690745</td><td>1.967604</td><td>2.090501</td><td>1.667619</td><td>0.663144</td><td>0.915042</td><td>1.175697</td><td>0.290975</td><td>0.287567</td><td>0.243554</td><td>0.240388</td><td>0.361402</td><td>0.367039</td><td>0.361091</td><td>0.361422</td><td>0.356863</td><td>0.362518</td><td>0.45673</td><td>0.463282</td><td>5.218504</td><td>3.569581</td><td>3.710993</td><td>2.168091</td><td>1.36272</td><td>1.019475</td><td>2.594985</td><td>1.684937</td><td>1.135803</td><td>10.381417</td><td>&hellip;</td><td>1.254025</td><td>0.520597</td><td>1.459464</td><td>0.983362</td><td>0.992884</td><td>1.093461</td><td>1.780748</td><td>1.34706</td><td>1.17272</td><td>2.118824</td><td>1.495923</td><td>1.029656</td><td>0.80882</td><td>1.615215</td><td>1.139736</td><td>0.948756</td><td>0.962316</td><td>0.721113</td><td>1.061525</td><td>1.037891</td><td>1.287411</td><td>2.775175</td><td>0.525017</td><td>2.270865</td><td>0.577094</td><td>0.639495</td><td>0.560287</td><td>0.520431</td><td>0.792163</td><td>0.735383</td><td>0.738452</td><td>1.377318</td><td>0.974089</td><td>0.60175</td><td>0.558296</td><td>0.972543</td><td>1.624633</td></tr><tr><td>&quot;Os12g0641200&quot;</td><td>1.0</td><td>1.0</td><td>1.0</td><td>1.0</td><td>1.0</td><td>1.0</td><td>1.0</td><td>1.0</td><td>1.34581</td><td>1.337851</td><td>0.722855</td><td>0.202596</td><td>0.310684</td><td>0.482447</td><td>2.147339</td><td>2.66812</td><td>2.470606</td><td>2.420584</td><td>1.210811</td><td>1.68822</td><td>1.782365</td><td>2.02234</td><td>0.864469</td><td>0.57654</td><td>2.820844</td><td>3.900592</td><td>1.0</td><td>1.0</td><td>1.363146</td><td>0.224637</td><td>2.561818</td><td>5.592903</td><td>0.891283</td><td>1.0</td><td>2.886571</td><td>0.399646</td><td>&hellip;</td><td>1.626003</td><td>0.554418</td><td>2.327543</td><td>0.708659</td><td>1.253904</td><td>0.747667</td><td>1.21419</td><td>1.394378</td><td>0.3072</td><td>1.54719</td><td>0.853705</td><td>0.422481</td><td>0.317257</td><td>2.731734</td><td>1.396359</td><td>1.205544</td><td>0.483574</td><td>0.733506</td><td>0.479358</td><td>0.468497</td><td>1.266185</td><td>1.540311</td><td>0.340326</td><td>0.938826</td><td>0.744195</td><td>0.902789</td><td>0.293271</td><td>0.734621</td><td>2.713237</td><td>0.723214</td><td>1.469847</td><td>8.251797</td><td>12.227851</td><td>3.864073</td><td>1.986833</td><td>0.582545</td><td>14.041889</td></tr><tr><td>&quot;Os12g0641300&quot;</td><td>1.0</td><td>1.0</td><td>1.0</td><td>1.0</td><td>0.316684</td><td>1.0</td><td>1.0</td><td>1.0</td><td>1.814044</td><td>1.959658</td><td>1.651451</td><td>0.363303</td><td>0.489477</td><td>0.513967</td><td>2.183846</td><td>2.08417</td><td>1.371521</td><td>1.332527</td><td>1.70133</td><td>1.59343</td><td>2.331243</td><td>2.217381</td><td>1.709113</td><td>1.78951</td><td>2.844805</td><td>2.677968</td><td>0.253169</td><td>0.211079</td><td>0.145295</td><td>1.157339</td><td>1.6192</td><td>1.448443</td><td>1.300356</td><td>2.497598</td><td>1.559386</td><td>1.36379</td><td>&hellip;</td><td>1.137144</td><td>0.462542</td><td>1.408695</td><td>0.915513</td><td>0.854722</td><td>0.741904</td><td>1.555971</td><td>1.282565</td><td>1.182925</td><td>1.995457</td><td>1.473107</td><td>1.037217</td><td>0.94501</td><td>2.389791</td><td>1.674603</td><td>1.253617</td><td>1.145706</td><td>0.964097</td><td>1.156783</td><td>1.536818</td><td>0.871979</td><td>1.831006</td><td>0.543172</td><td>2.212088</td><td>0.656573</td><td>1.132524</td><td>0.721943</td><td>0.54759</td><td>1.798458</td><td>1.377382</td><td>1.720096</td><td>1.417665</td><td>1.672338</td><td>1.197103</td><td>0.377292</td><td>1.064871</td><td>1.447654</td></tr><tr><td>&quot;Os12g0641400&quot;</td><td>0.656297</td><td>0.944844</td><td>0.682396</td><td>0.827123</td><td>0.600326</td><td>1.508617</td><td>0.951318</td><td>0.385374</td><td>1.11855</td><td>1.06925</td><td>1.000182</td><td>0.951502</td><td>1.288889</td><td>1.349027</td><td>0.777332</td><td>0.783799</td><td>0.715868</td><td>0.711444</td><td>0.690354</td><td>0.699451</td><td>0.817806</td><td>0.806047</td><td>0.577829</td><td>0.580564</td><td>0.900966</td><td>0.90491</td><td>2.492621</td><td>3.345792</td><td>2.583717</td><td>1.302779</td><td>1.227777</td><td>0.929066</td><td>1.208109</td><td>1.311805</td><td>0.985016</td><td>1.73784</td><td>&hellip;</td><td>1.14999</td><td>0.401833</td><td>1.203462</td><td>0.904723</td><td>0.752594</td><td>0.545916</td><td>0.987183</td><td>0.839881</td><td>0.904542</td><td>1.304546</td><td>1.016111</td><td>0.715164</td><td>0.688706</td><td>1.305155</td><td>0.979802</td><td>0.888161</td><td>0.72413</td><td>0.595877</td><td>0.785112</td><td>0.914574</td><td>0.664386</td><td>1.343614</td><td>0.443142</td><td>1.710404</td><td>0.427035</td><td>0.573803</td><td>0.430716</td><td>0.43136</td><td>0.943933</td><td>0.783158</td><td>0.879249</td><td>0.73665</td><td>1.022858</td><td>0.340235</td><td>0.377274</td><td>0.546013</td><td>1.023622</td></tr><tr><td>&quot;Os12g0641500&quot;</td><td>0.854</td><td>1.063454</td><td>0.821973</td><td>1.081992</td><td>0.896639</td><td>0.827501</td><td>1.177691</td><td>0.871535</td><td>1.795138</td><td>1.864458</td><td>1.489137</td><td>1.389437</td><td>2.199542</td><td>2.876902</td><td>0.411915</td><td>0.419311</td><td>0.348308</td><td>0.343535</td><td>0.480602</td><td>0.49441</td><td>0.556721</td><td>0.556653</td><td>0.465437</td><td>0.466151</td><td>0.646637</td><td>0.65308</td><td>9.08905</td><td>5.356792</td><td>11.442835</td><td>2.955065</td><td>1.156059</td><td>1.259709</td><td>2.453632</td><td>1.427103</td><td>1.322571</td><td>4.541973</td><td>&hellip;</td><td>1.223966</td><td>0.4179</td><td>1.268587</td><td>0.841521</td><td>1.169084</td><td>1.112873</td><td>1.949383</td><td>1.470266</td><td>1.041914</td><td>1.873556</td><td>1.35495</td><td>0.844412</td><td>0.854512</td><td>1.713295</td><td>1.243602</td><td>1.005852</td><td>0.970481</td><td>0.733052</td><td>0.999838</td><td>1.092754</td><td>1.292979</td><td>2.592577</td><td>0.481811</td><td>2.315379</td><td>0.512562</td><td>0.975283</td><td>0.532336</td><td>0.536193</td><td>1.636216</td><td>1.094168</td><td>0.965324</td><td>1.285873</td><td>1.251288</td><td>0.621946</td><td>1.115922</td><td>1.046188</td><td>1.598548</td></tr></tbody></table></div>"
      ],
      "text/plain": [
       "shape: (35_691, 361)\n",
       "┌───────────┬───────────┬───────────┬───────────┬───┬───────────┬───────────┬───────────┬──────────┐\n",
       "│ GENEID    ┆ seed-endo ┆ seed-endo ┆ seed-endo ┆ … ┆ Whole-pla ┆ Whole-pla ┆ Whole-pla ┆ Whole-pl │\n",
       "│ ---       ┆ sperm-R6- ┆ sperm-R6- ┆ sperm-R6- ┆   ┆ nts-7-day ┆ nts-7-day ┆ nts-7-day ┆ ants-7-d │\n",
       "│ str       ┆ caryopsis ┆ caryopsis ┆ caryopsis ┆   ┆ -old-seed ┆ -old-seed ┆ -old-seed ┆ ay-old-s │\n",
       "│           ┆ ---       ┆ _1        ┆ _2        ┆   ┆ lin…      ┆ lin…      ┆ lin…      ┆ eedlin…  │\n",
       "│           ┆ f64       ┆ ---       ┆ ---       ┆   ┆ ---       ┆ ---       ┆ ---       ┆ ---      │\n",
       "│           ┆           ┆ f64       ┆ f64       ┆   ┆ f64       ┆ f64       ┆ f64       ┆ f64      │\n",
       "╞═══════════╪═══════════╪═══════════╪═══════════╪═══╪═══════════╪═══════════╪═══════════╪══════════╡\n",
       "│ EPlORYSAT ┆ 1.0       ┆ 1.0       ┆ 64.003051 ┆ … ┆ 1.0       ┆ 1.0       ┆ 1.0       ┆ 1.0      │\n",
       "│ 000373610 ┆           ┆           ┆           ┆   ┆           ┆           ┆           ┆          │\n",
       "│ EPlORYSAT ┆ 1.0       ┆ 1.0       ┆ 1.0       ┆ … ┆ 1.0       ┆ 1.0       ┆ 1.0       ┆ 1.0      │\n",
       "│ 000373621 ┆           ┆           ┆           ┆   ┆           ┆           ┆           ┆          │\n",
       "│ EPlORYSAT ┆ 1.0       ┆ 1.0       ┆ 1.0       ┆ … ┆ 1.0       ┆ 1.0       ┆ 1.0       ┆ 1.0      │\n",
       "│ 000373643 ┆           ┆           ┆           ┆   ┆           ┆           ┆           ┆          │\n",
       "│ EPlORYSAT ┆ 1.0       ┆ 1.0       ┆ 1.0       ┆ … ┆ 1.0       ┆ 1.0       ┆ 1.0       ┆ 1.0      │\n",
       "│ 000373795 ┆           ┆           ┆           ┆   ┆           ┆           ┆           ┆          │\n",
       "│ EPlORYSAT ┆ 1.0       ┆ 1.0       ┆ 1.0       ┆ … ┆ 1.0       ┆ 1.0       ┆ 1.0       ┆ 1.0      │\n",
       "│ 000373851 ┆           ┆           ┆           ┆   ┆           ┆           ┆           ┆          │\n",
       "│ …         ┆ …         ┆ …         ┆ …         ┆ … ┆ …         ┆ …         ┆ …         ┆ …        │\n",
       "│ Os12g0641 ┆ 0.330482  ┆ 0.881209  ┆ 0.498074  ┆ … ┆ 0.60175   ┆ 0.558296  ┆ 0.972543  ┆ 1.624633 │\n",
       "│ 100       ┆           ┆           ┆           ┆   ┆           ┆           ┆           ┆          │\n",
       "│ Os12g0641 ┆ 1.0       ┆ 1.0       ┆ 1.0       ┆ … ┆ 3.864073  ┆ 1.986833  ┆ 0.582545  ┆ 14.04188 │\n",
       "│ 200       ┆           ┆           ┆           ┆   ┆           ┆           ┆           ┆ 9        │\n",
       "│ Os12g0641 ┆ 1.0       ┆ 1.0       ┆ 1.0       ┆ … ┆ 1.197103  ┆ 0.377292  ┆ 1.064871  ┆ 1.447654 │\n",
       "│ 300       ┆           ┆           ┆           ┆   ┆           ┆           ┆           ┆          │\n",
       "│ Os12g0641 ┆ 0.656297  ┆ 0.944844  ┆ 0.682396  ┆ … ┆ 0.340235  ┆ 0.377274  ┆ 0.546013  ┆ 1.023622 │\n",
       "│ 400       ┆           ┆           ┆           ┆   ┆           ┆           ┆           ┆          │\n",
       "│ Os12g0641 ┆ 0.854     ┆ 1.063454  ┆ 0.821973  ┆ … ┆ 0.621946  ┆ 1.115922  ┆ 1.046188  ┆ 1.598548 │\n",
       "│ 500       ┆           ┆           ┆           ┆   ┆           ┆           ┆           ┆          │\n",
       "└───────────┴───────────┴───────────┴───────────┴───┴───────────┴───────────┴───────────┴──────────┘"
      ]
     },
     "metadata": {},
     "output_type": "display_data"
    }
   ],
   "source": [
    "rename_dict = dict(\n",
    "    zip( # 発現比を記載したファイルのカラム名に該当する値をメタデータのカラムから選択し､それに対応するサンプル名を辞書型として格納する\n",
    "        metadata['Stress'], metadata['Tissue'] # 例: メタデータの｢Stress｣カラムに｢SRR22741460｣があったら､対応するサンプルは｢Tissue｣カラムの｢\"seed-endosperm-R6-caryopsis\"｣\n",
    "    )\n",
    ")\n",
    "\n",
    "print(rename_dict)\n",
    "\n",
    "# HNratioデータフレームのカラム名を置き換える\n",
    "new_columns = []\n",
    "seen = set()\n",
    "for col in HNratio.columns:\n",
    "    new_col = rename_dict.get(col, col)\n",
    "    if new_col in seen:\n",
    "        suffix = 1\n",
    "        while f\"{new_col}_{suffix}\" in seen:\n",
    "            suffix += 1\n",
    "        new_col = f\"{new_col}_{suffix}\"\n",
    "    seen.add(new_col)\n",
    "    new_columns.append(new_col)\n",
    "\n",
    "HNratio = HNratio.rename(dict(zip(HNratio.columns, new_columns)))\n",
    "\n",
    "display(HNratio)"
   ]
  },
  {
   "cell_type": "code",
   "execution_count": 7,
   "metadata": {},
   "outputs": [
    {
     "data": {
      "text/html": [
       "<div><style>\n",
       ".dataframe > thead > tr,\n",
       ".dataframe > tbody > tr {\n",
       "  text-align: right;\n",
       "  white-space: pre-wrap;\n",
       "}\n",
       "</style>\n",
       "<small>shape: (35_691, 361)</small><table border=\"1\" class=\"dataframe\"><thead><tr><th>GENEID</th><th>seed-endosperm-R6-caryopsis</th><th>seed-endosperm-R6-caryopsis_1</th><th>seed-endosperm-R6-caryopsis_2</th><th>seed-endosperm-R6-caryopsis_3</th><th>seed-endosperm-R6-caryopsis_4</th><th>seed-endosperm-R6-caryopsis_5</th><th>seed-endosperm-R6-caryopsis_6</th><th>seed-endosperm-R6-caryopsis_7</th><th>3-week-old-seedling</th><th>3-week-old-seedling_1</th><th>3-week-old-seedling_2</th><th>3-week-old-seedling_3</th><th>3-week-old-seedling_4</th><th>3-week-old-seedling_5</th><th>seedling-8-day-old</th><th>seedling-8-day-old_1</th><th>seedling-8-day-old_2</th><th>seedling-8-day-old_3</th><th>seedling-8-day-old_4</th><th>seedling-8-day-old_5</th><th>seedling-8-day-old_6</th><th>seedling-8-day-old_7</th><th>seedling-8-day-old_8</th><th>seedling-8-day-old_9</th><th>seedling-8-day-old_10</th><th>seedling-8-day-old_11</th><th>caryopsis-7-days-after-pollination</th><th>caryopsis-7-days-after-pollination_1</th><th>caryopsis-7-days-after-pollination_2</th><th>caryopsis-7-days-after-pollination_3</th><th>caryopsis-7-days-after-pollination_4</th><th>caryopsis-7-days-after-pollination_5</th><th>caryopsis-7-days-after-pollination_6</th><th>caryopsis-7-days-after-pollination_7</th><th>caryopsis-7-days-after-pollination_8</th><th>caryopsis-7-days-after-pollination_9</th><th>&hellip;</th><th>Base_23</th><th>Base_24</th><th>Base_25</th><th>Base_26</th><th>Sheath</th><th>Sheath_1</th><th>Sheath_2</th><th>Sheath_3</th><th>Sheath_4</th><th>Sheath_5</th><th>Sheath_6</th><th>Sheath_7</th><th>Sheath_8</th><th>Sheath_9</th><th>Sheath_10</th><th>Sheath_11</th><th>Sheath_12</th><th>Sheath_13</th><th>Sheath_14</th><th>Sheath_15</th><th>Sheath_16</th><th>Sheath_17</th><th>Sheath_18</th><th>Sheath_19</th><th>Sheath_20</th><th>Whole-shoot</th><th>Whole-shoot_1</th><th>Whole-shoot_2</th><th>Whole-shoot_3</th><th>Whole-shoot_4</th><th>Whole-shoot_5</th><th>Whole-plants-7-day-old-seedlings</th><th>Whole-plants-7-day-old-seedlings_1</th><th>Whole-plants-7-day-old-seedlings_2</th><th>Whole-plants-7-day-old-seedlings_3</th><th>Whole-plants-7-day-old-seedlings_4</th><th>Whole-plants-7-day-old-seedlings_5</th></tr><tr><td>str</td><td>str</td><td>str</td><td>str</td><td>str</td><td>str</td><td>str</td><td>str</td><td>str</td><td>str</td><td>str</td><td>str</td><td>str</td><td>str</td><td>str</td><td>str</td><td>str</td><td>str</td><td>str</td><td>str</td><td>str</td><td>str</td><td>str</td><td>str</td><td>str</td><td>str</td><td>str</td><td>str</td><td>str</td><td>str</td><td>str</td><td>str</td><td>str</td><td>str</td><td>str</td><td>str</td><td>str</td><td>&hellip;</td><td>str</td><td>str</td><td>str</td><td>str</td><td>str</td><td>str</td><td>str</td><td>str</td><td>str</td><td>str</td><td>str</td><td>str</td><td>str</td><td>str</td><td>str</td><td>str</td><td>str</td><td>str</td><td>str</td><td>str</td><td>str</td><td>str</td><td>str</td><td>str</td><td>str</td><td>str</td><td>str</td><td>str</td><td>str</td><td>str</td><td>str</td><td>str</td><td>str</td><td>str</td><td>str</td><td>str</td><td>str</td></tr></thead><tbody><tr><td>&quot;EPlORYSAT000373610&quot;</td><td>&quot;UNCHANGED&quot;</td><td>&quot;UNCHANGED&quot;</td><td>&quot;UP&quot;</td><td>&quot;UP&quot;</td><td>&quot;DOWN&quot;</td><td>&quot;UNCHANGED&quot;</td><td>&quot;UNCHANGED&quot;</td><td>&quot;UNCHANGED&quot;</td><td>&quot;UNCHANGED&quot;</td><td>&quot;UNCHANGED&quot;</td><td>&quot;UNCHANGED&quot;</td><td>&quot;UNCHANGED&quot;</td><td>&quot;UNCHANGED&quot;</td><td>&quot;UNCHANGED&quot;</td><td>&quot;UNCHANGED&quot;</td><td>&quot;UNCHANGED&quot;</td><td>&quot;UNCHANGED&quot;</td><td>&quot;UNCHANGED&quot;</td><td>&quot;UNCHANGED&quot;</td><td>&quot;UNCHANGED&quot;</td><td>&quot;UNCHANGED&quot;</td><td>&quot;UNCHANGED&quot;</td><td>&quot;UNCHANGED&quot;</td><td>&quot;UNCHANGED&quot;</td><td>&quot;UNCHANGED&quot;</td><td>&quot;UNCHANGED&quot;</td><td>&quot;UNCHANGED&quot;</td><td>&quot;UNCHANGED&quot;</td><td>&quot;UNCHANGED&quot;</td><td>&quot;UNCHANGED&quot;</td><td>&quot;UNCHANGED&quot;</td><td>&quot;UNCHANGED&quot;</td><td>&quot;UNCHANGED&quot;</td><td>&quot;UNCHANGED&quot;</td><td>&quot;UNCHANGED&quot;</td><td>&quot;UNCHANGED&quot;</td><td>&hellip;</td><td>&quot;UNCHANGED&quot;</td><td>&quot;UNCHANGED&quot;</td><td>&quot;UNCHANGED&quot;</td><td>&quot;UNCHANGED&quot;</td><td>&quot;UNCHANGED&quot;</td><td>&quot;UNCHANGED&quot;</td><td>&quot;UNCHANGED&quot;</td><td>&quot;UNCHANGED&quot;</td><td>&quot;UNCHANGED&quot;</td><td>&quot;UNCHANGED&quot;</td><td>&quot;UNCHANGED&quot;</td><td>&quot;UNCHANGED&quot;</td><td>&quot;UP&quot;</td><td>&quot;UNCHANGED&quot;</td><td>&quot;UNCHANGED&quot;</td><td>&quot;UNCHANGED&quot;</td><td>&quot;UNCHANGED&quot;</td><td>&quot;UNCHANGED&quot;</td><td>&quot;UNCHANGED&quot;</td><td>&quot;UNCHANGED&quot;</td><td>&quot;UNCHANGED&quot;</td><td>&quot;UP&quot;</td><td>&quot;UNCHANGED&quot;</td><td>&quot;UNCHANGED&quot;</td><td>&quot;UNCHANGED&quot;</td><td>&quot;DOWN&quot;</td><td>&quot;UNCHANGED&quot;</td><td>&quot;UP&quot;</td><td>&quot;UNCHANGED&quot;</td><td>&quot;UNCHANGED&quot;</td><td>&quot;UNCHANGED&quot;</td><td>&quot;UNCHANGED&quot;</td><td>&quot;UNCHANGED&quot;</td><td>&quot;UNCHANGED&quot;</td><td>&quot;UNCHANGED&quot;</td><td>&quot;UNCHANGED&quot;</td><td>&quot;UNCHANGED&quot;</td></tr><tr><td>&quot;EPlORYSAT000373621&quot;</td><td>&quot;UNCHANGED&quot;</td><td>&quot;UNCHANGED&quot;</td><td>&quot;UNCHANGED&quot;</td><td>&quot;UNCHANGED&quot;</td><td>&quot;UNCHANGED&quot;</td><td>&quot;UNCHANGED&quot;</td><td>&quot;UNCHANGED&quot;</td><td>&quot;UNCHANGED&quot;</td><td>&quot;UNCHANGED&quot;</td><td>&quot;UNCHANGED&quot;</td><td>&quot;UNCHANGED&quot;</td><td>&quot;UNCHANGED&quot;</td><td>&quot;UNCHANGED&quot;</td><td>&quot;UNCHANGED&quot;</td><td>&quot;UNCHANGED&quot;</td><td>&quot;UNCHANGED&quot;</td><td>&quot;UNCHANGED&quot;</td><td>&quot;UNCHANGED&quot;</td><td>&quot;UNCHANGED&quot;</td><td>&quot;UNCHANGED&quot;</td><td>&quot;UNCHANGED&quot;</td><td>&quot;UNCHANGED&quot;</td><td>&quot;UNCHANGED&quot;</td><td>&quot;UNCHANGED&quot;</td><td>&quot;UNCHANGED&quot;</td><td>&quot;UNCHANGED&quot;</td><td>&quot;UNCHANGED&quot;</td><td>&quot;UNCHANGED&quot;</td><td>&quot;UNCHANGED&quot;</td><td>&quot;UNCHANGED&quot;</td><td>&quot;UNCHANGED&quot;</td><td>&quot;UNCHANGED&quot;</td><td>&quot;UNCHANGED&quot;</td><td>&quot;UNCHANGED&quot;</td><td>&quot;UNCHANGED&quot;</td><td>&quot;UNCHANGED&quot;</td><td>&hellip;</td><td>&quot;UNCHANGED&quot;</td><td>&quot;UNCHANGED&quot;</td><td>&quot;UNCHANGED&quot;</td><td>&quot;UNCHANGED&quot;</td><td>&quot;UNCHANGED&quot;</td><td>&quot;UNCHANGED&quot;</td><td>&quot;UNCHANGED&quot;</td><td>&quot;UNCHANGED&quot;</td><td>&quot;UNCHANGED&quot;</td><td>&quot;UNCHANGED&quot;</td><td>&quot;UNCHANGED&quot;</td><td>&quot;UNCHANGED&quot;</td><td>&quot;UNCHANGED&quot;</td><td>&quot;UNCHANGED&quot;</td><td>&quot;UNCHANGED&quot;</td><td>&quot;UNCHANGED&quot;</td><td>&quot;UNCHANGED&quot;</td><td>&quot;UNCHANGED&quot;</td><td>&quot;UNCHANGED&quot;</td><td>&quot;UNCHANGED&quot;</td><td>&quot;UNCHANGED&quot;</td><td>&quot;UNCHANGED&quot;</td><td>&quot;UNCHANGED&quot;</td><td>&quot;UNCHANGED&quot;</td><td>&quot;UNCHANGED&quot;</td><td>&quot;UNCHANGED&quot;</td><td>&quot;UNCHANGED&quot;</td><td>&quot;UNCHANGED&quot;</td><td>&quot;UNCHANGED&quot;</td><td>&quot;UNCHANGED&quot;</td><td>&quot;UNCHANGED&quot;</td><td>&quot;UNCHANGED&quot;</td><td>&quot;UNCHANGED&quot;</td><td>&quot;UNCHANGED&quot;</td><td>&quot;UNCHANGED&quot;</td><td>&quot;UNCHANGED&quot;</td><td>&quot;UNCHANGED&quot;</td></tr><tr><td>&quot;EPlORYSAT000373643&quot;</td><td>&quot;UNCHANGED&quot;</td><td>&quot;UNCHANGED&quot;</td><td>&quot;UNCHANGED&quot;</td><td>&quot;UNCHANGED&quot;</td><td>&quot;UNCHANGED&quot;</td><td>&quot;UNCHANGED&quot;</td><td>&quot;UNCHANGED&quot;</td><td>&quot;UNCHANGED&quot;</td><td>&quot;UNCHANGED&quot;</td><td>&quot;UNCHANGED&quot;</td><td>&quot;UNCHANGED&quot;</td><td>&quot;UNCHANGED&quot;</td><td>&quot;UNCHANGED&quot;</td><td>&quot;UNCHANGED&quot;</td><td>&quot;UNCHANGED&quot;</td><td>&quot;UNCHANGED&quot;</td><td>&quot;UNCHANGED&quot;</td><td>&quot;UNCHANGED&quot;</td><td>&quot;UNCHANGED&quot;</td><td>&quot;UNCHANGED&quot;</td><td>&quot;UNCHANGED&quot;</td><td>&quot;UNCHANGED&quot;</td><td>&quot;UNCHANGED&quot;</td><td>&quot;UNCHANGED&quot;</td><td>&quot;UNCHANGED&quot;</td><td>&quot;UNCHANGED&quot;</td><td>&quot;UNCHANGED&quot;</td><td>&quot;UNCHANGED&quot;</td><td>&quot;UNCHANGED&quot;</td><td>&quot;UNCHANGED&quot;</td><td>&quot;UNCHANGED&quot;</td><td>&quot;UNCHANGED&quot;</td><td>&quot;UNCHANGED&quot;</td><td>&quot;UNCHANGED&quot;</td><td>&quot;UNCHANGED&quot;</td><td>&quot;UNCHANGED&quot;</td><td>&hellip;</td><td>&quot;UNCHANGED&quot;</td><td>&quot;UNCHANGED&quot;</td><td>&quot;UNCHANGED&quot;</td><td>&quot;UNCHANGED&quot;</td><td>&quot;UNCHANGED&quot;</td><td>&quot;UNCHANGED&quot;</td><td>&quot;UNCHANGED&quot;</td><td>&quot;UNCHANGED&quot;</td><td>&quot;UNCHANGED&quot;</td><td>&quot;UNCHANGED&quot;</td><td>&quot;UNCHANGED&quot;</td><td>&quot;UNCHANGED&quot;</td><td>&quot;UNCHANGED&quot;</td><td>&quot;UNCHANGED&quot;</td><td>&quot;UNCHANGED&quot;</td><td>&quot;UNCHANGED&quot;</td><td>&quot;UNCHANGED&quot;</td><td>&quot;UNCHANGED&quot;</td><td>&quot;UNCHANGED&quot;</td><td>&quot;UNCHANGED&quot;</td><td>&quot;UNCHANGED&quot;</td><td>&quot;UNCHANGED&quot;</td><td>&quot;UNCHANGED&quot;</td><td>&quot;UNCHANGED&quot;</td><td>&quot;UNCHANGED&quot;</td><td>&quot;UNCHANGED&quot;</td><td>&quot;UNCHANGED&quot;</td><td>&quot;UNCHANGED&quot;</td><td>&quot;UNCHANGED&quot;</td><td>&quot;UNCHANGED&quot;</td><td>&quot;UNCHANGED&quot;</td><td>&quot;UNCHANGED&quot;</td><td>&quot;UNCHANGED&quot;</td><td>&quot;UNCHANGED&quot;</td><td>&quot;UNCHANGED&quot;</td><td>&quot;UNCHANGED&quot;</td><td>&quot;UNCHANGED&quot;</td></tr><tr><td>&quot;EPlORYSAT000373795&quot;</td><td>&quot;UNCHANGED&quot;</td><td>&quot;UNCHANGED&quot;</td><td>&quot;UNCHANGED&quot;</td><td>&quot;UNCHANGED&quot;</td><td>&quot;UNCHANGED&quot;</td><td>&quot;UNCHANGED&quot;</td><td>&quot;UNCHANGED&quot;</td><td>&quot;UNCHANGED&quot;</td><td>&quot;UNCHANGED&quot;</td><td>&quot;UNCHANGED&quot;</td><td>&quot;UNCHANGED&quot;</td><td>&quot;UNCHANGED&quot;</td><td>&quot;UNCHANGED&quot;</td><td>&quot;UNCHANGED&quot;</td><td>&quot;UNCHANGED&quot;</td><td>&quot;UNCHANGED&quot;</td><td>&quot;UNCHANGED&quot;</td><td>&quot;UNCHANGED&quot;</td><td>&quot;UNCHANGED&quot;</td><td>&quot;UNCHANGED&quot;</td><td>&quot;UNCHANGED&quot;</td><td>&quot;UNCHANGED&quot;</td><td>&quot;UNCHANGED&quot;</td><td>&quot;UNCHANGED&quot;</td><td>&quot;UNCHANGED&quot;</td><td>&quot;UNCHANGED&quot;</td><td>&quot;UNCHANGED&quot;</td><td>&quot;UNCHANGED&quot;</td><td>&quot;UNCHANGED&quot;</td><td>&quot;UNCHANGED&quot;</td><td>&quot;UNCHANGED&quot;</td><td>&quot;UNCHANGED&quot;</td><td>&quot;UNCHANGED&quot;</td><td>&quot;UNCHANGED&quot;</td><td>&quot;UNCHANGED&quot;</td><td>&quot;UNCHANGED&quot;</td><td>&hellip;</td><td>&quot;UNCHANGED&quot;</td><td>&quot;UNCHANGED&quot;</td><td>&quot;UNCHANGED&quot;</td><td>&quot;UNCHANGED&quot;</td><td>&quot;UNCHANGED&quot;</td><td>&quot;UNCHANGED&quot;</td><td>&quot;UNCHANGED&quot;</td><td>&quot;UNCHANGED&quot;</td><td>&quot;UNCHANGED&quot;</td><td>&quot;UNCHANGED&quot;</td><td>&quot;UNCHANGED&quot;</td><td>&quot;UNCHANGED&quot;</td><td>&quot;UNCHANGED&quot;</td><td>&quot;UNCHANGED&quot;</td><td>&quot;UNCHANGED&quot;</td><td>&quot;UNCHANGED&quot;</td><td>&quot;UNCHANGED&quot;</td><td>&quot;UNCHANGED&quot;</td><td>&quot;UNCHANGED&quot;</td><td>&quot;UNCHANGED&quot;</td><td>&quot;UNCHANGED&quot;</td><td>&quot;UNCHANGED&quot;</td><td>&quot;UNCHANGED&quot;</td><td>&quot;UNCHANGED&quot;</td><td>&quot;UNCHANGED&quot;</td><td>&quot;UNCHANGED&quot;</td><td>&quot;UNCHANGED&quot;</td><td>&quot;UNCHANGED&quot;</td><td>&quot;UNCHANGED&quot;</td><td>&quot;UNCHANGED&quot;</td><td>&quot;UNCHANGED&quot;</td><td>&quot;UNCHANGED&quot;</td><td>&quot;UNCHANGED&quot;</td><td>&quot;UNCHANGED&quot;</td><td>&quot;UNCHANGED&quot;</td><td>&quot;UNCHANGED&quot;</td><td>&quot;UNCHANGED&quot;</td></tr><tr><td>&quot;EPlORYSAT000373851&quot;</td><td>&quot;UNCHANGED&quot;</td><td>&quot;UNCHANGED&quot;</td><td>&quot;UNCHANGED&quot;</td><td>&quot;UNCHANGED&quot;</td><td>&quot;UNCHANGED&quot;</td><td>&quot;UNCHANGED&quot;</td><td>&quot;UNCHANGED&quot;</td><td>&quot;UNCHANGED&quot;</td><td>&quot;UNCHANGED&quot;</td><td>&quot;UNCHANGED&quot;</td><td>&quot;UNCHANGED&quot;</td><td>&quot;UNCHANGED&quot;</td><td>&quot;UNCHANGED&quot;</td><td>&quot;UNCHANGED&quot;</td><td>&quot;UNCHANGED&quot;</td><td>&quot;UNCHANGED&quot;</td><td>&quot;UNCHANGED&quot;</td><td>&quot;UNCHANGED&quot;</td><td>&quot;UNCHANGED&quot;</td><td>&quot;UNCHANGED&quot;</td><td>&quot;UNCHANGED&quot;</td><td>&quot;UNCHANGED&quot;</td><td>&quot;UNCHANGED&quot;</td><td>&quot;UNCHANGED&quot;</td><td>&quot;UNCHANGED&quot;</td><td>&quot;UNCHANGED&quot;</td><td>&quot;UNCHANGED&quot;</td><td>&quot;UNCHANGED&quot;</td><td>&quot;UNCHANGED&quot;</td><td>&quot;UNCHANGED&quot;</td><td>&quot;UNCHANGED&quot;</td><td>&quot;UNCHANGED&quot;</td><td>&quot;UNCHANGED&quot;</td><td>&quot;UNCHANGED&quot;</td><td>&quot;UNCHANGED&quot;</td><td>&quot;UNCHANGED&quot;</td><td>&hellip;</td><td>&quot;UNCHANGED&quot;</td><td>&quot;UNCHANGED&quot;</td><td>&quot;UNCHANGED&quot;</td><td>&quot;UNCHANGED&quot;</td><td>&quot;UNCHANGED&quot;</td><td>&quot;UNCHANGED&quot;</td><td>&quot;UNCHANGED&quot;</td><td>&quot;UNCHANGED&quot;</td><td>&quot;UNCHANGED&quot;</td><td>&quot;UNCHANGED&quot;</td><td>&quot;UNCHANGED&quot;</td><td>&quot;UNCHANGED&quot;</td><td>&quot;UNCHANGED&quot;</td><td>&quot;UNCHANGED&quot;</td><td>&quot;UNCHANGED&quot;</td><td>&quot;UNCHANGED&quot;</td><td>&quot;UNCHANGED&quot;</td><td>&quot;UNCHANGED&quot;</td><td>&quot;UNCHANGED&quot;</td><td>&quot;UNCHANGED&quot;</td><td>&quot;UNCHANGED&quot;</td><td>&quot;UNCHANGED&quot;</td><td>&quot;UNCHANGED&quot;</td><td>&quot;UNCHANGED&quot;</td><td>&quot;UNCHANGED&quot;</td><td>&quot;UNCHANGED&quot;</td><td>&quot;UNCHANGED&quot;</td><td>&quot;UNCHANGED&quot;</td><td>&quot;UNCHANGED&quot;</td><td>&quot;UNCHANGED&quot;</td><td>&quot;UNCHANGED&quot;</td><td>&quot;UNCHANGED&quot;</td><td>&quot;UNCHANGED&quot;</td><td>&quot;UNCHANGED&quot;</td><td>&quot;UNCHANGED&quot;</td><td>&quot;UNCHANGED&quot;</td><td>&quot;UNCHANGED&quot;</td></tr><tr><td>&hellip;</td><td>&hellip;</td><td>&hellip;</td><td>&hellip;</td><td>&hellip;</td><td>&hellip;</td><td>&hellip;</td><td>&hellip;</td><td>&hellip;</td><td>&hellip;</td><td>&hellip;</td><td>&hellip;</td><td>&hellip;</td><td>&hellip;</td><td>&hellip;</td><td>&hellip;</td><td>&hellip;</td><td>&hellip;</td><td>&hellip;</td><td>&hellip;</td><td>&hellip;</td><td>&hellip;</td><td>&hellip;</td><td>&hellip;</td><td>&hellip;</td><td>&hellip;</td><td>&hellip;</td><td>&hellip;</td><td>&hellip;</td><td>&hellip;</td><td>&hellip;</td><td>&hellip;</td><td>&hellip;</td><td>&hellip;</td><td>&hellip;</td><td>&hellip;</td><td>&hellip;</td><td>&hellip;</td><td>&hellip;</td><td>&hellip;</td><td>&hellip;</td><td>&hellip;</td><td>&hellip;</td><td>&hellip;</td><td>&hellip;</td><td>&hellip;</td><td>&hellip;</td><td>&hellip;</td><td>&hellip;</td><td>&hellip;</td><td>&hellip;</td><td>&hellip;</td><td>&hellip;</td><td>&hellip;</td><td>&hellip;</td><td>&hellip;</td><td>&hellip;</td><td>&hellip;</td><td>&hellip;</td><td>&hellip;</td><td>&hellip;</td><td>&hellip;</td><td>&hellip;</td><td>&hellip;</td><td>&hellip;</td><td>&hellip;</td><td>&hellip;</td><td>&hellip;</td><td>&hellip;</td><td>&hellip;</td><td>&hellip;</td><td>&hellip;</td><td>&hellip;</td><td>&hellip;</td><td>&hellip;</td></tr><tr><td>&quot;Os12g0641100&quot;</td><td>&quot;UNCHANGED&quot;</td><td>&quot;UNCHANGED&quot;</td><td>&quot;UNCHANGED&quot;</td><td>&quot;UNCHANGED&quot;</td><td>&quot;UNCHANGED&quot;</td><td>&quot;UNCHANGED&quot;</td><td>&quot;UNCHANGED&quot;</td><td>&quot;UNCHANGED&quot;</td><td>&quot;UNCHANGED&quot;</td><td>&quot;UNCHANGED&quot;</td><td>&quot;UNCHANGED&quot;</td><td>&quot;UNCHANGED&quot;</td><td>&quot;UNCHANGED&quot;</td><td>&quot;UNCHANGED&quot;</td><td>&quot;UNCHANGED&quot;</td><td>&quot;UNCHANGED&quot;</td><td>&quot;UNCHANGED&quot;</td><td>&quot;UNCHANGED&quot;</td><td>&quot;UNCHANGED&quot;</td><td>&quot;UNCHANGED&quot;</td><td>&quot;UNCHANGED&quot;</td><td>&quot;UNCHANGED&quot;</td><td>&quot;UNCHANGED&quot;</td><td>&quot;UNCHANGED&quot;</td><td>&quot;UNCHANGED&quot;</td><td>&quot;UNCHANGED&quot;</td><td>&quot;UP&quot;</td><td>&quot;UNCHANGED&quot;</td><td>&quot;UNCHANGED&quot;</td><td>&quot;UNCHANGED&quot;</td><td>&quot;UNCHANGED&quot;</td><td>&quot;UNCHANGED&quot;</td><td>&quot;UNCHANGED&quot;</td><td>&quot;UNCHANGED&quot;</td><td>&quot;UNCHANGED&quot;</td><td>&quot;UP&quot;</td><td>&hellip;</td><td>&quot;UNCHANGED&quot;</td><td>&quot;UNCHANGED&quot;</td><td>&quot;UNCHANGED&quot;</td><td>&quot;UNCHANGED&quot;</td><td>&quot;UNCHANGED&quot;</td><td>&quot;UNCHANGED&quot;</td><td>&quot;UNCHANGED&quot;</td><td>&quot;UNCHANGED&quot;</td><td>&quot;UNCHANGED&quot;</td><td>&quot;UNCHANGED&quot;</td><td>&quot;UNCHANGED&quot;</td><td>&quot;UNCHANGED&quot;</td><td>&quot;UNCHANGED&quot;</td><td>&quot;UNCHANGED&quot;</td><td>&quot;UNCHANGED&quot;</td><td>&quot;UNCHANGED&quot;</td><td>&quot;UNCHANGED&quot;</td><td>&quot;UNCHANGED&quot;</td><td>&quot;UNCHANGED&quot;</td><td>&quot;UNCHANGED&quot;</td><td>&quot;UNCHANGED&quot;</td><td>&quot;UNCHANGED&quot;</td><td>&quot;UNCHANGED&quot;</td><td>&quot;UNCHANGED&quot;</td><td>&quot;UNCHANGED&quot;</td><td>&quot;UNCHANGED&quot;</td><td>&quot;UNCHANGED&quot;</td><td>&quot;UNCHANGED&quot;</td><td>&quot;UNCHANGED&quot;</td><td>&quot;UNCHANGED&quot;</td><td>&quot;UNCHANGED&quot;</td><td>&quot;UNCHANGED&quot;</td><td>&quot;UNCHANGED&quot;</td><td>&quot;UNCHANGED&quot;</td><td>&quot;UNCHANGED&quot;</td><td>&quot;UNCHANGED&quot;</td><td>&quot;UNCHANGED&quot;</td></tr><tr><td>&quot;Os12g0641200&quot;</td><td>&quot;UNCHANGED&quot;</td><td>&quot;UNCHANGED&quot;</td><td>&quot;UNCHANGED&quot;</td><td>&quot;UNCHANGED&quot;</td><td>&quot;UNCHANGED&quot;</td><td>&quot;UNCHANGED&quot;</td><td>&quot;UNCHANGED&quot;</td><td>&quot;UNCHANGED&quot;</td><td>&quot;UNCHANGED&quot;</td><td>&quot;UNCHANGED&quot;</td><td>&quot;UNCHANGED&quot;</td><td>&quot;UNCHANGED&quot;</td><td>&quot;UNCHANGED&quot;</td><td>&quot;UNCHANGED&quot;</td><td>&quot;UNCHANGED&quot;</td><td>&quot;UNCHANGED&quot;</td><td>&quot;UNCHANGED&quot;</td><td>&quot;UNCHANGED&quot;</td><td>&quot;UNCHANGED&quot;</td><td>&quot;UNCHANGED&quot;</td><td>&quot;UNCHANGED&quot;</td><td>&quot;UNCHANGED&quot;</td><td>&quot;UNCHANGED&quot;</td><td>&quot;UNCHANGED&quot;</td><td>&quot;UNCHANGED&quot;</td><td>&quot;UNCHANGED&quot;</td><td>&quot;UNCHANGED&quot;</td><td>&quot;UNCHANGED&quot;</td><td>&quot;UNCHANGED&quot;</td><td>&quot;UNCHANGED&quot;</td><td>&quot;UNCHANGED&quot;</td><td>&quot;UP&quot;</td><td>&quot;UNCHANGED&quot;</td><td>&quot;UNCHANGED&quot;</td><td>&quot;UNCHANGED&quot;</td><td>&quot;UNCHANGED&quot;</td><td>&hellip;</td><td>&quot;UNCHANGED&quot;</td><td>&quot;UNCHANGED&quot;</td><td>&quot;UNCHANGED&quot;</td><td>&quot;UNCHANGED&quot;</td><td>&quot;UNCHANGED&quot;</td><td>&quot;UNCHANGED&quot;</td><td>&quot;UNCHANGED&quot;</td><td>&quot;UNCHANGED&quot;</td><td>&quot;UNCHANGED&quot;</td><td>&quot;UNCHANGED&quot;</td><td>&quot;UNCHANGED&quot;</td><td>&quot;UNCHANGED&quot;</td><td>&quot;UNCHANGED&quot;</td><td>&quot;UNCHANGED&quot;</td><td>&quot;UNCHANGED&quot;</td><td>&quot;UNCHANGED&quot;</td><td>&quot;UNCHANGED&quot;</td><td>&quot;UNCHANGED&quot;</td><td>&quot;UNCHANGED&quot;</td><td>&quot;UNCHANGED&quot;</td><td>&quot;UNCHANGED&quot;</td><td>&quot;UNCHANGED&quot;</td><td>&quot;UNCHANGED&quot;</td><td>&quot;UNCHANGED&quot;</td><td>&quot;UNCHANGED&quot;</td><td>&quot;UNCHANGED&quot;</td><td>&quot;UNCHANGED&quot;</td><td>&quot;UNCHANGED&quot;</td><td>&quot;UNCHANGED&quot;</td><td>&quot;UNCHANGED&quot;</td><td>&quot;UNCHANGED&quot;</td><td>&quot;UP&quot;</td><td>&quot;UP&quot;</td><td>&quot;UNCHANGED&quot;</td><td>&quot;UNCHANGED&quot;</td><td>&quot;UNCHANGED&quot;</td><td>&quot;UP&quot;</td></tr><tr><td>&quot;Os12g0641300&quot;</td><td>&quot;UNCHANGED&quot;</td><td>&quot;UNCHANGED&quot;</td><td>&quot;UNCHANGED&quot;</td><td>&quot;UNCHANGED&quot;</td><td>&quot;UNCHANGED&quot;</td><td>&quot;UNCHANGED&quot;</td><td>&quot;UNCHANGED&quot;</td><td>&quot;UNCHANGED&quot;</td><td>&quot;UNCHANGED&quot;</td><td>&quot;UNCHANGED&quot;</td><td>&quot;UNCHANGED&quot;</td><td>&quot;UNCHANGED&quot;</td><td>&quot;UNCHANGED&quot;</td><td>&quot;UNCHANGED&quot;</td><td>&quot;UNCHANGED&quot;</td><td>&quot;UNCHANGED&quot;</td><td>&quot;UNCHANGED&quot;</td><td>&quot;UNCHANGED&quot;</td><td>&quot;UNCHANGED&quot;</td><td>&quot;UNCHANGED&quot;</td><td>&quot;UNCHANGED&quot;</td><td>&quot;UNCHANGED&quot;</td><td>&quot;UNCHANGED&quot;</td><td>&quot;UNCHANGED&quot;</td><td>&quot;UNCHANGED&quot;</td><td>&quot;UNCHANGED&quot;</td><td>&quot;UNCHANGED&quot;</td><td>&quot;UNCHANGED&quot;</td><td>&quot;DOWN&quot;</td><td>&quot;UNCHANGED&quot;</td><td>&quot;UNCHANGED&quot;</td><td>&quot;UNCHANGED&quot;</td><td>&quot;UNCHANGED&quot;</td><td>&quot;UNCHANGED&quot;</td><td>&quot;UNCHANGED&quot;</td><td>&quot;UNCHANGED&quot;</td><td>&hellip;</td><td>&quot;UNCHANGED&quot;</td><td>&quot;UNCHANGED&quot;</td><td>&quot;UNCHANGED&quot;</td><td>&quot;UNCHANGED&quot;</td><td>&quot;UNCHANGED&quot;</td><td>&quot;UNCHANGED&quot;</td><td>&quot;UNCHANGED&quot;</td><td>&quot;UNCHANGED&quot;</td><td>&quot;UNCHANGED&quot;</td><td>&quot;UNCHANGED&quot;</td><td>&quot;UNCHANGED&quot;</td><td>&quot;UNCHANGED&quot;</td><td>&quot;UNCHANGED&quot;</td><td>&quot;UNCHANGED&quot;</td><td>&quot;UNCHANGED&quot;</td><td>&quot;UNCHANGED&quot;</td><td>&quot;UNCHANGED&quot;</td><td>&quot;UNCHANGED&quot;</td><td>&quot;UNCHANGED&quot;</td><td>&quot;UNCHANGED&quot;</td><td>&quot;UNCHANGED&quot;</td><td>&quot;UNCHANGED&quot;</td><td>&quot;UNCHANGED&quot;</td><td>&quot;UNCHANGED&quot;</td><td>&quot;UNCHANGED&quot;</td><td>&quot;UNCHANGED&quot;</td><td>&quot;UNCHANGED&quot;</td><td>&quot;UNCHANGED&quot;</td><td>&quot;UNCHANGED&quot;</td><td>&quot;UNCHANGED&quot;</td><td>&quot;UNCHANGED&quot;</td><td>&quot;UNCHANGED&quot;</td><td>&quot;UNCHANGED&quot;</td><td>&quot;UNCHANGED&quot;</td><td>&quot;UNCHANGED&quot;</td><td>&quot;UNCHANGED&quot;</td><td>&quot;UNCHANGED&quot;</td></tr><tr><td>&quot;Os12g0641400&quot;</td><td>&quot;UNCHANGED&quot;</td><td>&quot;UNCHANGED&quot;</td><td>&quot;UNCHANGED&quot;</td><td>&quot;UNCHANGED&quot;</td><td>&quot;UNCHANGED&quot;</td><td>&quot;UNCHANGED&quot;</td><td>&quot;UNCHANGED&quot;</td><td>&quot;UNCHANGED&quot;</td><td>&quot;UNCHANGED&quot;</td><td>&quot;UNCHANGED&quot;</td><td>&quot;UNCHANGED&quot;</td><td>&quot;UNCHANGED&quot;</td><td>&quot;UNCHANGED&quot;</td><td>&quot;UNCHANGED&quot;</td><td>&quot;UNCHANGED&quot;</td><td>&quot;UNCHANGED&quot;</td><td>&quot;UNCHANGED&quot;</td><td>&quot;UNCHANGED&quot;</td><td>&quot;UNCHANGED&quot;</td><td>&quot;UNCHANGED&quot;</td><td>&quot;UNCHANGED&quot;</td><td>&quot;UNCHANGED&quot;</td><td>&quot;UNCHANGED&quot;</td><td>&quot;UNCHANGED&quot;</td><td>&quot;UNCHANGED&quot;</td><td>&quot;UNCHANGED&quot;</td><td>&quot;UNCHANGED&quot;</td><td>&quot;UNCHANGED&quot;</td><td>&quot;UNCHANGED&quot;</td><td>&quot;UNCHANGED&quot;</td><td>&quot;UNCHANGED&quot;</td><td>&quot;UNCHANGED&quot;</td><td>&quot;UNCHANGED&quot;</td><td>&quot;UNCHANGED&quot;</td><td>&quot;UNCHANGED&quot;</td><td>&quot;UNCHANGED&quot;</td><td>&hellip;</td><td>&quot;UNCHANGED&quot;</td><td>&quot;UNCHANGED&quot;</td><td>&quot;UNCHANGED&quot;</td><td>&quot;UNCHANGED&quot;</td><td>&quot;UNCHANGED&quot;</td><td>&quot;UNCHANGED&quot;</td><td>&quot;UNCHANGED&quot;</td><td>&quot;UNCHANGED&quot;</td><td>&quot;UNCHANGED&quot;</td><td>&quot;UNCHANGED&quot;</td><td>&quot;UNCHANGED&quot;</td><td>&quot;UNCHANGED&quot;</td><td>&quot;UNCHANGED&quot;</td><td>&quot;UNCHANGED&quot;</td><td>&quot;UNCHANGED&quot;</td><td>&quot;UNCHANGED&quot;</td><td>&quot;UNCHANGED&quot;</td><td>&quot;UNCHANGED&quot;</td><td>&quot;UNCHANGED&quot;</td><td>&quot;UNCHANGED&quot;</td><td>&quot;UNCHANGED&quot;</td><td>&quot;UNCHANGED&quot;</td><td>&quot;UNCHANGED&quot;</td><td>&quot;UNCHANGED&quot;</td><td>&quot;UNCHANGED&quot;</td><td>&quot;UNCHANGED&quot;</td><td>&quot;UNCHANGED&quot;</td><td>&quot;UNCHANGED&quot;</td><td>&quot;UNCHANGED&quot;</td><td>&quot;UNCHANGED&quot;</td><td>&quot;UNCHANGED&quot;</td><td>&quot;UNCHANGED&quot;</td><td>&quot;UNCHANGED&quot;</td><td>&quot;UNCHANGED&quot;</td><td>&quot;UNCHANGED&quot;</td><td>&quot;UNCHANGED&quot;</td><td>&quot;UNCHANGED&quot;</td></tr><tr><td>&quot;Os12g0641500&quot;</td><td>&quot;UNCHANGED&quot;</td><td>&quot;UNCHANGED&quot;</td><td>&quot;UNCHANGED&quot;</td><td>&quot;UNCHANGED&quot;</td><td>&quot;UNCHANGED&quot;</td><td>&quot;UNCHANGED&quot;</td><td>&quot;UNCHANGED&quot;</td><td>&quot;UNCHANGED&quot;</td><td>&quot;UNCHANGED&quot;</td><td>&quot;UNCHANGED&quot;</td><td>&quot;UNCHANGED&quot;</td><td>&quot;UNCHANGED&quot;</td><td>&quot;UNCHANGED&quot;</td><td>&quot;UNCHANGED&quot;</td><td>&quot;UNCHANGED&quot;</td><td>&quot;UNCHANGED&quot;</td><td>&quot;UNCHANGED&quot;</td><td>&quot;UNCHANGED&quot;</td><td>&quot;UNCHANGED&quot;</td><td>&quot;UNCHANGED&quot;</td><td>&quot;UNCHANGED&quot;</td><td>&quot;UNCHANGED&quot;</td><td>&quot;UNCHANGED&quot;</td><td>&quot;UNCHANGED&quot;</td><td>&quot;UNCHANGED&quot;</td><td>&quot;UNCHANGED&quot;</td><td>&quot;UP&quot;</td><td>&quot;UP&quot;</td><td>&quot;UP&quot;</td><td>&quot;UNCHANGED&quot;</td><td>&quot;UNCHANGED&quot;</td><td>&quot;UNCHANGED&quot;</td><td>&quot;UNCHANGED&quot;</td><td>&quot;UNCHANGED&quot;</td><td>&quot;UNCHANGED&quot;</td><td>&quot;UNCHANGED&quot;</td><td>&hellip;</td><td>&quot;UNCHANGED&quot;</td><td>&quot;UNCHANGED&quot;</td><td>&quot;UNCHANGED&quot;</td><td>&quot;UNCHANGED&quot;</td><td>&quot;UNCHANGED&quot;</td><td>&quot;UNCHANGED&quot;</td><td>&quot;UNCHANGED&quot;</td><td>&quot;UNCHANGED&quot;</td><td>&quot;UNCHANGED&quot;</td><td>&quot;UNCHANGED&quot;</td><td>&quot;UNCHANGED&quot;</td><td>&quot;UNCHANGED&quot;</td><td>&quot;UNCHANGED&quot;</td><td>&quot;UNCHANGED&quot;</td><td>&quot;UNCHANGED&quot;</td><td>&quot;UNCHANGED&quot;</td><td>&quot;UNCHANGED&quot;</td><td>&quot;UNCHANGED&quot;</td><td>&quot;UNCHANGED&quot;</td><td>&quot;UNCHANGED&quot;</td><td>&quot;UNCHANGED&quot;</td><td>&quot;UNCHANGED&quot;</td><td>&quot;UNCHANGED&quot;</td><td>&quot;UNCHANGED&quot;</td><td>&quot;UNCHANGED&quot;</td><td>&quot;UNCHANGED&quot;</td><td>&quot;UNCHANGED&quot;</td><td>&quot;UNCHANGED&quot;</td><td>&quot;UNCHANGED&quot;</td><td>&quot;UNCHANGED&quot;</td><td>&quot;UNCHANGED&quot;</td><td>&quot;UNCHANGED&quot;</td><td>&quot;UNCHANGED&quot;</td><td>&quot;UNCHANGED&quot;</td><td>&quot;UNCHANGED&quot;</td><td>&quot;UNCHANGED&quot;</td><td>&quot;UNCHANGED&quot;</td></tr></tbody></table></div>"
      ],
      "text/plain": [
       "shape: (35_691, 361)\n",
       "┌───────────┬───────────┬───────────┬───────────┬───┬───────────┬───────────┬───────────┬──────────┐\n",
       "│ GENEID    ┆ seed-endo ┆ seed-endo ┆ seed-endo ┆ … ┆ Whole-pla ┆ Whole-pla ┆ Whole-pla ┆ Whole-pl │\n",
       "│ ---       ┆ sperm-R6- ┆ sperm-R6- ┆ sperm-R6- ┆   ┆ nts-7-day ┆ nts-7-day ┆ nts-7-day ┆ ants-7-d │\n",
       "│ str       ┆ caryopsis ┆ caryopsis ┆ caryopsis ┆   ┆ -old-seed ┆ -old-seed ┆ -old-seed ┆ ay-old-s │\n",
       "│           ┆ ---       ┆ _1        ┆ _2        ┆   ┆ lin…      ┆ lin…      ┆ lin…      ┆ eedlin…  │\n",
       "│           ┆ str       ┆ ---       ┆ ---       ┆   ┆ ---       ┆ ---       ┆ ---       ┆ ---      │\n",
       "│           ┆           ┆ str       ┆ str       ┆   ┆ str       ┆ str       ┆ str       ┆ str      │\n",
       "╞═══════════╪═══════════╪═══════════╪═══════════╪═══╪═══════════╪═══════════╪═══════════╪══════════╡\n",
       "│ EPlORYSAT ┆ UNCHANGED ┆ UNCHANGED ┆ UP        ┆ … ┆ UNCHANGED ┆ UNCHANGED ┆ UNCHANGED ┆ UNCHANGE │\n",
       "│ 000373610 ┆           ┆           ┆           ┆   ┆           ┆           ┆           ┆ D        │\n",
       "│ EPlORYSAT ┆ UNCHANGED ┆ UNCHANGED ┆ UNCHANGED ┆ … ┆ UNCHANGED ┆ UNCHANGED ┆ UNCHANGED ┆ UNCHANGE │\n",
       "│ 000373621 ┆           ┆           ┆           ┆   ┆           ┆           ┆           ┆ D        │\n",
       "│ EPlORYSAT ┆ UNCHANGED ┆ UNCHANGED ┆ UNCHANGED ┆ … ┆ UNCHANGED ┆ UNCHANGED ┆ UNCHANGED ┆ UNCHANGE │\n",
       "│ 000373643 ┆           ┆           ┆           ┆   ┆           ┆           ┆           ┆ D        │\n",
       "│ EPlORYSAT ┆ UNCHANGED ┆ UNCHANGED ┆ UNCHANGED ┆ … ┆ UNCHANGED ┆ UNCHANGED ┆ UNCHANGED ┆ UNCHANGE │\n",
       "│ 000373795 ┆           ┆           ┆           ┆   ┆           ┆           ┆           ┆ D        │\n",
       "│ EPlORYSAT ┆ UNCHANGED ┆ UNCHANGED ┆ UNCHANGED ┆ … ┆ UNCHANGED ┆ UNCHANGED ┆ UNCHANGED ┆ UNCHANGE │\n",
       "│ 000373851 ┆           ┆           ┆           ┆   ┆           ┆           ┆           ┆ D        │\n",
       "│ …         ┆ …         ┆ …         ┆ …         ┆ … ┆ …         ┆ …         ┆ …         ┆ …        │\n",
       "│ Os12g0641 ┆ UNCHANGED ┆ UNCHANGED ┆ UNCHANGED ┆ … ┆ UNCHANGED ┆ UNCHANGED ┆ UNCHANGED ┆ UNCHANGE │\n",
       "│ 100       ┆           ┆           ┆           ┆   ┆           ┆           ┆           ┆ D        │\n",
       "│ Os12g0641 ┆ UNCHANGED ┆ UNCHANGED ┆ UNCHANGED ┆ … ┆ UNCHANGED ┆ UNCHANGED ┆ UNCHANGED ┆ UP       │\n",
       "│ 200       ┆           ┆           ┆           ┆   ┆           ┆           ┆           ┆          │\n",
       "│ Os12g0641 ┆ UNCHANGED ┆ UNCHANGED ┆ UNCHANGED ┆ … ┆ UNCHANGED ┆ UNCHANGED ┆ UNCHANGED ┆ UNCHANGE │\n",
       "│ 300       ┆           ┆           ┆           ┆   ┆           ┆           ┆           ┆ D        │\n",
       "│ Os12g0641 ┆ UNCHANGED ┆ UNCHANGED ┆ UNCHANGED ┆ … ┆ UNCHANGED ┆ UNCHANGED ┆ UNCHANGED ┆ UNCHANGE │\n",
       "│ 400       ┆           ┆           ┆           ┆   ┆           ┆           ┆           ┆ D        │\n",
       "│ Os12g0641 ┆ UNCHANGED ┆ UNCHANGED ┆ UNCHANGED ┆ … ┆ UNCHANGED ┆ UNCHANGED ┆ UNCHANGED ┆ UNCHANGE │\n",
       "│ 500       ┆           ┆           ┆           ┆   ┆           ┆           ┆           ┆ D        │\n",
       "└───────────┴───────────┴───────────┴───────────┴───┴───────────┴───────────┴───────────┴──────────┘"
      ]
     },
     "metadata": {},
     "output_type": "display_data"
    }
   ],
   "source": [
    "# define a function to categorize the HNratio\n",
    "def categorize(x):\n",
    "    if x >= threshold:\n",
    "        return 'UP'\n",
    "    elif x <= 1 / threshold:\n",
    "        return 'DOWN'\n",
    "    else:\n",
    "        return 'UNCHANGED'\n",
    "\n",
    "# apply the categorize function to all columns except GENEID\n",
    "result = HNratio.with_columns([\n",
    "    pl.col(col).map_elements(categorize, return_dtype=pl.String)\n",
    "    for col in HNratio.columns if col != 'GENEID'\n",
    "])\n",
    "\n",
    "# display the result\n",
    "display(result)"
   ]
  },
  {
   "cell_type": "code",
   "execution_count": 8,
   "metadata": {},
   "outputs": [
    {
     "name": "stdout",
     "output_type": "stream",
     "text": [
      "{'seed-endosperm-R6-caryopsis', 'leaf', 'Tip', 'Base', 'endosperm-grain-filling-stage', 'Spikeletsof-the-middle-third-of-the-panicle', 'Whole-plants-7-day-old-seedlings', 'Whole-shoot', 'Middle', 'seedling-8-day-old', 'Leaf-blades', 'shoot2-week-old', 'Sheath', '3-week-old-seedling', 'caryopsis-7-days-after-pollination'}\n"
     ]
    },
    {
     "data": {
      "text/html": [
       "<div><style>\n",
       ".dataframe > thead > tr,\n",
       ".dataframe > tbody > tr {\n",
       "  text-align: right;\n",
       "  white-space: pre-wrap;\n",
       "}\n",
       "</style>\n",
       "<small>shape: (35_691, 46)</small><table border=\"1\" class=\"dataframe\"><thead><tr><th>GENEID</th><th>UP(seed-endosperm-R6-caryopsis)</th><th>DOWN(seed-endosperm-R6-caryopsis)</th><th>UNCHANGED(seed-endosperm-R6-caryopsis)</th><th>UP(leaf)</th><th>DOWN(leaf)</th><th>UNCHANGED(leaf)</th><th>UP(Tip)</th><th>DOWN(Tip)</th><th>UNCHANGED(Tip)</th><th>UP(Base)</th><th>DOWN(Base)</th><th>UNCHANGED(Base)</th><th>UP(endosperm-grain-filling-stage)</th><th>DOWN(endosperm-grain-filling-stage)</th><th>UNCHANGED(endosperm-grain-filling-stage)</th><th>UP(Spikeletsof-the-middle-third-of-the-panicle)</th><th>DOWN(Spikeletsof-the-middle-third-of-the-panicle)</th><th>UNCHANGED(Spikeletsof-the-middle-third-of-the-panicle)</th><th>UP(Whole-plants-7-day-old-seedlings)</th><th>DOWN(Whole-plants-7-day-old-seedlings)</th><th>UNCHANGED(Whole-plants-7-day-old-seedlings)</th><th>UP(Whole-shoot)</th><th>DOWN(Whole-shoot)</th><th>UNCHANGED(Whole-shoot)</th><th>UP(Middle)</th><th>DOWN(Middle)</th><th>UNCHANGED(Middle)</th><th>UP(seedling-8-day-old)</th><th>DOWN(seedling-8-day-old)</th><th>UNCHANGED(seedling-8-day-old)</th><th>UP(Leaf-blades)</th><th>DOWN(Leaf-blades)</th><th>UNCHANGED(Leaf-blades)</th><th>UP(shoot2-week-old)</th><th>DOWN(shoot2-week-old)</th><th>UNCHANGED(shoot2-week-old)</th><th>UP(Sheath)</th><th>DOWN(Sheath)</th><th>UNCHANGED(Sheath)</th><th>UP(3-week-old-seedling)</th><th>DOWN(3-week-old-seedling)</th><th>UNCHANGED(3-week-old-seedling)</th><th>UP(caryopsis-7-days-after-pollination)</th><th>DOWN(caryopsis-7-days-after-pollination)</th><th>UNCHANGED(caryopsis-7-days-after-pollination)</th></tr><tr><td>str</td><td>i32</td><td>i32</td><td>i32</td><td>i32</td><td>i32</td><td>i32</td><td>i32</td><td>i32</td><td>i32</td><td>i32</td><td>i32</td><td>i32</td><td>i32</td><td>i32</td><td>i32</td><td>i32</td><td>i32</td><td>i32</td><td>i32</td><td>i32</td><td>i32</td><td>i32</td><td>i32</td><td>i32</td><td>i32</td><td>i32</td><td>i32</td><td>i32</td><td>i32</td><td>i32</td><td>i32</td><td>i32</td><td>i32</td><td>i32</td><td>i32</td><td>i32</td><td>i32</td><td>i32</td><td>i32</td><td>i32</td><td>i32</td><td>i32</td><td>i32</td><td>i32</td><td>i32</td></tr></thead><tbody><tr><td>&quot;EPlORYSAT000373610&quot;</td><td>2</td><td>1</td><td>5</td><td>11</td><td>11</td><td>183</td><td>1</td><td>0</td><td>16</td><td>1</td><td>2</td><td>24</td><td>0</td><td>1</td><td>1</td><td>0</td><td>0</td><td>6</td><td>0</td><td>0</td><td>6</td><td>1</td><td>1</td><td>4</td><td>1</td><td>2</td><td>14</td><td>0</td><td>0</td><td>12</td><td>0</td><td>0</td><td>2</td><td>3</td><td>0</td><td>7</td><td>2</td><td>0</td><td>19</td><td>0</td><td>0</td><td>6</td><td>0</td><td>0</td><td>15</td></tr><tr><td>&quot;EPlORYSAT000373621&quot;</td><td>0</td><td>0</td><td>8</td><td>0</td><td>0</td><td>205</td><td>0</td><td>0</td><td>17</td><td>0</td><td>0</td><td>27</td><td>0</td><td>0</td><td>2</td><td>0</td><td>0</td><td>6</td><td>0</td><td>0</td><td>6</td><td>0</td><td>0</td><td>6</td><td>0</td><td>0</td><td>17</td><td>0</td><td>0</td><td>12</td><td>0</td><td>0</td><td>2</td><td>0</td><td>0</td><td>10</td><td>0</td><td>0</td><td>21</td><td>0</td><td>0</td><td>6</td><td>0</td><td>0</td><td>15</td></tr><tr><td>&quot;EPlORYSAT000373643&quot;</td><td>0</td><td>0</td><td>8</td><td>47</td><td>31</td><td>127</td><td>0</td><td>0</td><td>17</td><td>0</td><td>0</td><td>27</td><td>0</td><td>0</td><td>2</td><td>0</td><td>0</td><td>6</td><td>0</td><td>0</td><td>6</td><td>0</td><td>0</td><td>6</td><td>0</td><td>0</td><td>17</td><td>0</td><td>0</td><td>12</td><td>0</td><td>0</td><td>2</td><td>0</td><td>0</td><td>10</td><td>0</td><td>0</td><td>21</td><td>0</td><td>0</td><td>6</td><td>0</td><td>0</td><td>15</td></tr><tr><td>&quot;EPlORYSAT000373795&quot;</td><td>0</td><td>0</td><td>8</td><td>7</td><td>15</td><td>183</td><td>0</td><td>0</td><td>17</td><td>0</td><td>0</td><td>27</td><td>0</td><td>0</td><td>2</td><td>0</td><td>0</td><td>6</td><td>0</td><td>0</td><td>6</td><td>0</td><td>0</td><td>6</td><td>0</td><td>0</td><td>17</td><td>0</td><td>0</td><td>12</td><td>0</td><td>0</td><td>2</td><td>0</td><td>0</td><td>10</td><td>0</td><td>0</td><td>21</td><td>0</td><td>0</td><td>6</td><td>0</td><td>0</td><td>15</td></tr><tr><td>&quot;EPlORYSAT000373851&quot;</td><td>0</td><td>0</td><td>8</td><td>7</td><td>17</td><td>181</td><td>0</td><td>0</td><td>17</td><td>0</td><td>0</td><td>27</td><td>0</td><td>0</td><td>2</td><td>0</td><td>0</td><td>6</td><td>0</td><td>0</td><td>6</td><td>0</td><td>0</td><td>6</td><td>0</td><td>0</td><td>17</td><td>0</td><td>0</td><td>12</td><td>0</td><td>0</td><td>2</td><td>0</td><td>0</td><td>10</td><td>0</td><td>0</td><td>21</td><td>0</td><td>0</td><td>6</td><td>0</td><td>0</td><td>15</td></tr><tr><td>&hellip;</td><td>&hellip;</td><td>&hellip;</td><td>&hellip;</td><td>&hellip;</td><td>&hellip;</td><td>&hellip;</td><td>&hellip;</td><td>&hellip;</td><td>&hellip;</td><td>&hellip;</td><td>&hellip;</td><td>&hellip;</td><td>&hellip;</td><td>&hellip;</td><td>&hellip;</td><td>&hellip;</td><td>&hellip;</td><td>&hellip;</td><td>&hellip;</td><td>&hellip;</td><td>&hellip;</td><td>&hellip;</td><td>&hellip;</td><td>&hellip;</td><td>&hellip;</td><td>&hellip;</td><td>&hellip;</td><td>&hellip;</td><td>&hellip;</td><td>&hellip;</td><td>&hellip;</td><td>&hellip;</td><td>&hellip;</td><td>&hellip;</td><td>&hellip;</td><td>&hellip;</td><td>&hellip;</td><td>&hellip;</td><td>&hellip;</td><td>&hellip;</td><td>&hellip;</td><td>&hellip;</td><td>&hellip;</td><td>&hellip;</td><td>&hellip;</td></tr><tr><td>&quot;Os12g0641100&quot;</td><td>0</td><td>0</td><td>8</td><td>3</td><td>8</td><td>194</td><td>1</td><td>0</td><td>16</td><td>3</td><td>1</td><td>23</td><td>0</td><td>0</td><td>2</td><td>1</td><td>0</td><td>5</td><td>0</td><td>0</td><td>6</td><td>0</td><td>0</td><td>6</td><td>0</td><td>1</td><td>16</td><td>0</td><td>0</td><td>12</td><td>0</td><td>0</td><td>2</td><td>0</td><td>0</td><td>10</td><td>0</td><td>0</td><td>21</td><td>0</td><td>0</td><td>6</td><td>3</td><td>0</td><td>12</td></tr><tr><td>&quot;Os12g0641200&quot;</td><td>0</td><td>0</td><td>8</td><td>4</td><td>6</td><td>195</td><td>0</td><td>0</td><td>17</td><td>2</td><td>0</td><td>25</td><td>0</td><td>0</td><td>2</td><td>2</td><td>0</td><td>4</td><td>3</td><td>0</td><td>3</td><td>0</td><td>0</td><td>6</td><td>0</td><td>0</td><td>17</td><td>0</td><td>0</td><td>12</td><td>0</td><td>0</td><td>2</td><td>2</td><td>0</td><td>8</td><td>0</td><td>0</td><td>21</td><td>0</td><td>0</td><td>6</td><td>1</td><td>1</td><td>13</td></tr><tr><td>&quot;Os12g0641300&quot;</td><td>0</td><td>0</td><td>8</td><td>4</td><td>10</td><td>191</td><td>1</td><td>0</td><td>16</td><td>3</td><td>1</td><td>23</td><td>1</td><td>0</td><td>1</td><td>1</td><td>0</td><td>5</td><td>0</td><td>0</td><td>6</td><td>0</td><td>0</td><td>6</td><td>0</td><td>1</td><td>16</td><td>0</td><td>0</td><td>12</td><td>0</td><td>0</td><td>2</td><td>0</td><td>0</td><td>10</td><td>0</td><td>0</td><td>21</td><td>0</td><td>0</td><td>6</td><td>0</td><td>2</td><td>13</td></tr><tr><td>&quot;Os12g0641400&quot;</td><td>0</td><td>0</td><td>8</td><td>4</td><td>12</td><td>189</td><td>1</td><td>0</td><td>16</td><td>3</td><td>1</td><td>23</td><td>0</td><td>0</td><td>2</td><td>1</td><td>0</td><td>5</td><td>0</td><td>0</td><td>6</td><td>0</td><td>0</td><td>6</td><td>0</td><td>1</td><td>16</td><td>0</td><td>0</td><td>12</td><td>0</td><td>0</td><td>2</td><td>0</td><td>0</td><td>10</td><td>0</td><td>0</td><td>21</td><td>0</td><td>0</td><td>6</td><td>0</td><td>0</td><td>15</td></tr><tr><td>&quot;Os12g0641500&quot;</td><td>0</td><td>0</td><td>8</td><td>4</td><td>4</td><td>197</td><td>0</td><td>0</td><td>17</td><td>3</td><td>1</td><td>23</td><td>0</td><td>0</td><td>2</td><td>1</td><td>0</td><td>5</td><td>0</td><td>0</td><td>6</td><td>0</td><td>0</td><td>6</td><td>0</td><td>1</td><td>16</td><td>0</td><td>0</td><td>12</td><td>0</td><td>0</td><td>2</td><td>0</td><td>0</td><td>10</td><td>0</td><td>0</td><td>21</td><td>0</td><td>0</td><td>6</td><td>7</td><td>0</td><td>8</td></tr></tbody></table></div>"
      ],
      "text/plain": [
       "shape: (35_691, 46)\n",
       "┌───────────┬───────────┬───────────┬───────────┬───┬───────────┬───────────┬───────────┬──────────┐\n",
       "│ GENEID    ┆ UP(seed-e ┆ DOWN(seed ┆ UNCHANGED ┆ … ┆ UNCHANGED ┆ UP(caryop ┆ DOWN(cary ┆ UNCHANGE │\n",
       "│ ---       ┆ ndosperm- ┆ -endosper ┆ (seed-end ┆   ┆ (3-week-o ┆ sis-7-day ┆ opsis-7-d ┆ D(caryop │\n",
       "│ str       ┆ R6-caryop ┆ m-R6-cary ┆ osperm-R6 ┆   ┆ ld-seedli ┆ s-after-p ┆ ays-after ┆ sis-7-da │\n",
       "│           ┆ sis…      ┆ ops…      ┆ -ca…      ┆   ┆ ng)       ┆ oll…      ┆ -po…      ┆ ys-aft…  │\n",
       "│           ┆ ---       ┆ ---       ┆ ---       ┆   ┆ ---       ┆ ---       ┆ ---       ┆ ---      │\n",
       "│           ┆ i32       ┆ i32       ┆ i32       ┆   ┆ i32       ┆ i32       ┆ i32       ┆ i32      │\n",
       "╞═══════════╪═══════════╪═══════════╪═══════════╪═══╪═══════════╪═══════════╪═══════════╪══════════╡\n",
       "│ EPlORYSAT ┆ 2         ┆ 1         ┆ 5         ┆ … ┆ 6         ┆ 0         ┆ 0         ┆ 15       │\n",
       "│ 000373610 ┆           ┆           ┆           ┆   ┆           ┆           ┆           ┆          │\n",
       "│ EPlORYSAT ┆ 0         ┆ 0         ┆ 8         ┆ … ┆ 6         ┆ 0         ┆ 0         ┆ 15       │\n",
       "│ 000373621 ┆           ┆           ┆           ┆   ┆           ┆           ┆           ┆          │\n",
       "│ EPlORYSAT ┆ 0         ┆ 0         ┆ 8         ┆ … ┆ 6         ┆ 0         ┆ 0         ┆ 15       │\n",
       "│ 000373643 ┆           ┆           ┆           ┆   ┆           ┆           ┆           ┆          │\n",
       "│ EPlORYSAT ┆ 0         ┆ 0         ┆ 8         ┆ … ┆ 6         ┆ 0         ┆ 0         ┆ 15       │\n",
       "│ 000373795 ┆           ┆           ┆           ┆   ┆           ┆           ┆           ┆          │\n",
       "│ EPlORYSAT ┆ 0         ┆ 0         ┆ 8         ┆ … ┆ 6         ┆ 0         ┆ 0         ┆ 15       │\n",
       "│ 000373851 ┆           ┆           ┆           ┆   ┆           ┆           ┆           ┆          │\n",
       "│ …         ┆ …         ┆ …         ┆ …         ┆ … ┆ …         ┆ …         ┆ …         ┆ …        │\n",
       "│ Os12g0641 ┆ 0         ┆ 0         ┆ 8         ┆ … ┆ 6         ┆ 3         ┆ 0         ┆ 12       │\n",
       "│ 100       ┆           ┆           ┆           ┆   ┆           ┆           ┆           ┆          │\n",
       "│ Os12g0641 ┆ 0         ┆ 0         ┆ 8         ┆ … ┆ 6         ┆ 1         ┆ 1         ┆ 13       │\n",
       "│ 200       ┆           ┆           ┆           ┆   ┆           ┆           ┆           ┆          │\n",
       "│ Os12g0641 ┆ 0         ┆ 0         ┆ 8         ┆ … ┆ 6         ┆ 0         ┆ 2         ┆ 13       │\n",
       "│ 300       ┆           ┆           ┆           ┆   ┆           ┆           ┆           ┆          │\n",
       "│ Os12g0641 ┆ 0         ┆ 0         ┆ 8         ┆ … ┆ 6         ┆ 0         ┆ 0         ┆ 15       │\n",
       "│ 400       ┆           ┆           ┆           ┆   ┆           ┆           ┆           ┆          │\n",
       "│ Os12g0641 ┆ 0         ┆ 0         ┆ 8         ┆ … ┆ 6         ┆ 7         ┆ 0         ┆ 8        │\n",
       "│ 500       ┆           ┆           ┆           ┆   ┆           ┆           ┆           ┆          │\n",
       "└───────────┴───────────┴───────────┴───────────┴───┴───────────┴───────────┴───────────┴──────────┘"
      ]
     },
     "metadata": {},
     "output_type": "display_data"
    }
   ],
   "source": [
    "# remove the suffix from the column name\n",
    "def remove_suffix(col_name):\n",
    "    return col_name.rsplit('_', 1)[0]\n",
    "\n",
    "\n",
    "# get the sample column list\n",
    "sample_columns = set(remove_suffix(col) for col in result.columns if col != 'GENEID')\n",
    "\n",
    "print(sample_columns)\n",
    "\n",
    "counts = []\n",
    "for sample in sample_columns: # sample_columnsはサンプル名のリスト\n",
    "    # get the dataframe for each sample\n",
    "    sample_df = result.select(\n",
    "        ['GENEID'] + [col for col in result.columns if remove_suffix(col) == sample]\n",
    "    )\n",
    "    # count the number of UP, DOWN, UNCHANGED\n",
    "    count = sample_df.with_columns([\n",
    "        (pl.sum_horizontal([\n",
    "            (pl.col(col) == \"UP\").cast(pl.Int32) for col in sample_df.columns if col != \"GENEID\"\n",
    "        ])).alias(f\"UP({sample})\"),\n",
    "        (pl.sum_horizontal([\n",
    "            (pl.col(col) == \"DOWN\").cast(pl.Int32) for col in sample_df.columns if col != \"GENEID\"\n",
    "        ])).alias(f\"DOWN({sample})\"),\n",
    "        pl.sum_horizontal([\n",
    "            (pl.col(col) == \"UNCHANGED\").cast(pl.Int32) for col in sample_df.columns if col != \"GENEID\"\n",
    "        ]).alias(f\"UNCHANGED({sample})\")\n",
    "    ])\n",
    "    # append the count to the counts list\n",
    "    counts.append(count)\n",
    "\n",
    "# combine all samples\n",
    "final_count = counts[0] # initialize the final_count with the first count\n",
    "for count in counts[1:]: # [1:] is the list of counts from the second sample to the last sample\n",
    "    final_count = final_count.join(\n",
    "        count, \n",
    "        on=['GENEID'], \n",
    "        how='left',\n",
    "        coalesce=True\n",
    "    )\n",
    "\n",
    "final_count = final_count.select(\n",
    "    ['GENEID'] + [col for col in final_count.columns if col.startswith('UP(') or col.startswith('DOWN(') or col.startswith('UNCHANGED(')]\n",
    ")\n",
    "\n",
    "# (UP,DOWN, UNCHANGEDの3カラム × sample数 (15個) ) + GENEIDカラムのデータフレームを作成\n",
    "display(final_count)"
   ]
  },
  {
   "cell_type": "code",
   "execution_count": 9,
   "metadata": {},
   "outputs": [
    {
     "name": "stdout",
     "output_type": "stream",
     "text": [
      "['seed-endosperm-R6-caryopsis', 'leaf', 'Tip', 'Base', 'endosperm-grain-filling-stage', 'Spikeletsof-the-middle-third-of-the-panicle', 'Whole-plants-7-day-old-seedlings', 'Whole-shoot', 'Middle', 'seedling-8-day-old', 'Leaf-blades', 'shoot2-week-old', 'Sheath', '3-week-old-seedling', 'caryopsis-7-days-after-pollination']\n"
     ]
    },
    {
     "data": {
      "text/html": [
       "<div><style>\n",
       ".dataframe > thead > tr,\n",
       ".dataframe > tbody > tr {\n",
       "  text-align: right;\n",
       "  white-space: pre-wrap;\n",
       "}\n",
       "</style>\n",
       "<small>shape: (35_691, 17)</small><table border=\"1\" class=\"dataframe\"><thead><tr><th>GENEID</th><th>HN5(seed-endosperm-R6-caryopsis)</th><th>HN5(leaf)</th><th>HN5(Tip)</th><th>HN5(Base)</th><th>HN5(endosperm-grain-filling-stage)</th><th>HN5(Spikeletsof-the-middle-third-of-the-panicle)</th><th>HN5(Whole-plants-7-day-old-seedlings)</th><th>HN5(Whole-shoot)</th><th>HN5(Middle)</th><th>HN5(seedling-8-day-old)</th><th>HN5(Leaf-blades)</th><th>HN5(shoot2-week-old)</th><th>HN5(Sheath)</th><th>HN5(3-week-old-seedling)</th><th>HN5(caryopsis-7-days-after-pollination)</th><th>HN5(all)</th></tr><tr><td>str</td><td>i32</td><td>i32</td><td>i32</td><td>i32</td><td>i32</td><td>i32</td><td>i32</td><td>i32</td><td>i32</td><td>i32</td><td>i32</td><td>i32</td><td>i32</td><td>i32</td><td>i32</td><td>i32</td></tr></thead><tbody><tr><td>&quot;Os04g0107900&quot;</td><td>-4</td><td>184</td><td>7</td><td>8</td><td>2</td><td>5</td><td>6</td><td>6</td><td>7</td><td>12</td><td>2</td><td>10</td><td>7</td><td>6</td><td>-3</td><td>255</td></tr><tr><td>&quot;Os01g0136100&quot;</td><td>-1</td><td>194</td><td>3</td><td>1</td><td>1</td><td>5</td><td>6</td><td>6</td><td>0</td><td>12</td><td>1</td><td>9</td><td>2</td><td>6</td><td>0</td><td>245</td></tr><tr><td>&quot;Os02g0259900&quot;</td><td>-4</td><td>194</td><td>1</td><td>1</td><td>1</td><td>5</td><td>6</td><td>6</td><td>0</td><td>12</td><td>0</td><td>10</td><td>0</td><td>6</td><td>0</td><td>238</td></tr><tr><td>&quot;Os02g0259850&quot;</td><td>-4</td><td>191</td><td>2</td><td>-1</td><td>1</td><td>5</td><td>6</td><td>6</td><td>2</td><td>12</td><td>0</td><td>10</td><td>0</td><td>6</td><td>1</td><td>237</td></tr><tr><td>&quot;Os03g0245800&quot;</td><td>-4</td><td>196</td><td>2</td><td>0</td><td>2</td><td>5</td><td>6</td><td>6</td><td>0</td><td>12</td><td>0</td><td>10</td><td>0</td><td>6</td><td>-4</td><td>237</td></tr><tr><td>&hellip;</td><td>&hellip;</td><td>&hellip;</td><td>&hellip;</td><td>&hellip;</td><td>&hellip;</td><td>&hellip;</td><td>&hellip;</td><td>&hellip;</td><td>&hellip;</td><td>&hellip;</td><td>&hellip;</td><td>&hellip;</td><td>&hellip;</td><td>&hellip;</td><td>&hellip;</td><td>&hellip;</td></tr><tr><td>&quot;Os01g0952800&quot;</td><td>0</td><td>-108</td><td>-12</td><td>-14</td><td>0</td><td>-1</td><td>0</td><td>-1</td><td>-12</td><td>-4</td><td>1</td><td>-2</td><td>-18</td><td>-2</td><td>0</td><td>-173</td></tr><tr><td>&quot;Os07g0142100&quot;</td><td>0</td><td>-107</td><td>-14</td><td>-20</td><td>0</td><td>-2</td><td>-3</td><td>0</td><td>-12</td><td>0</td><td>2</td><td>0</td><td>-20</td><td>0</td><td>0</td><td>-176</td></tr><tr><td>&quot;Os03g0307200&quot;</td><td>-3</td><td>-133</td><td>-9</td><td>-19</td><td>0</td><td>0</td><td>0</td><td>-3</td><td>-11</td><td>0</td><td>0</td><td>2</td><td>-5</td><td>0</td><td>1</td><td>-180</td></tr><tr><td>&quot;Os07g0142200&quot;</td><td>0</td><td>-102</td><td>-17</td><td>-18</td><td>0</td><td>0</td><td>-1</td><td>-2</td><td>-13</td><td>-12</td><td>1</td><td>-1</td><td>-16</td><td>-4</td><td>-1</td><td>-186</td></tr><tr><td>&quot;Os03g0307300&quot;</td><td>0</td><td>-154</td><td>-9</td><td>-18</td><td>0</td><td>0</td><td>0</td><td>-3</td><td>-11</td><td>0</td><td>0</td><td>-2</td><td>-8</td><td>3</td><td>-2</td><td>-204</td></tr></tbody></table></div>"
      ],
      "text/plain": [
       "shape: (35_691, 17)\n",
       "┌────────────┬───────────┬───────────┬──────────┬───┬───────────┬───────────┬───────────┬──────────┐\n",
       "│ GENEID     ┆ HN5(seed- ┆ HN5(leaf) ┆ HN5(Tip) ┆ … ┆ HN5(Sheat ┆ HN5(3-wee ┆ HN5(caryo ┆ HN5(all) │\n",
       "│ ---        ┆ endosperm ┆ ---       ┆ ---      ┆   ┆ h)        ┆ k-old-see ┆ psis-7-da ┆ ---      │\n",
       "│ str        ┆ -R6-caryo ┆ i32       ┆ i32      ┆   ┆ ---       ┆ dling)    ┆ ys-after- ┆ i32      │\n",
       "│            ┆ psi…      ┆           ┆          ┆   ┆ i32       ┆ ---       ┆ pol…      ┆          │\n",
       "│            ┆ ---       ┆           ┆          ┆   ┆           ┆ i32       ┆ ---       ┆          │\n",
       "│            ┆ i32       ┆           ┆          ┆   ┆           ┆           ┆ i32       ┆          │\n",
       "╞════════════╪═══════════╪═══════════╪══════════╪═══╪═══════════╪═══════════╪═══════════╪══════════╡\n",
       "│ Os04g01079 ┆ -4        ┆ 184       ┆ 7        ┆ … ┆ 7         ┆ 6         ┆ -3        ┆ 255      │\n",
       "│ 00         ┆           ┆           ┆          ┆   ┆           ┆           ┆           ┆          │\n",
       "│ Os01g01361 ┆ -1        ┆ 194       ┆ 3        ┆ … ┆ 2         ┆ 6         ┆ 0         ┆ 245      │\n",
       "│ 00         ┆           ┆           ┆          ┆   ┆           ┆           ┆           ┆          │\n",
       "│ Os02g02599 ┆ -4        ┆ 194       ┆ 1        ┆ … ┆ 0         ┆ 6         ┆ 0         ┆ 238      │\n",
       "│ 00         ┆           ┆           ┆          ┆   ┆           ┆           ┆           ┆          │\n",
       "│ Os02g02598 ┆ -4        ┆ 191       ┆ 2        ┆ … ┆ 0         ┆ 6         ┆ 1         ┆ 237      │\n",
       "│ 50         ┆           ┆           ┆          ┆   ┆           ┆           ┆           ┆          │\n",
       "│ Os03g02458 ┆ -4        ┆ 196       ┆ 2        ┆ … ┆ 0         ┆ 6         ┆ -4        ┆ 237      │\n",
       "│ 00         ┆           ┆           ┆          ┆   ┆           ┆           ┆           ┆          │\n",
       "│ …          ┆ …         ┆ …         ┆ …        ┆ … ┆ …         ┆ …         ┆ …         ┆ …        │\n",
       "│ Os01g09528 ┆ 0         ┆ -108      ┆ -12      ┆ … ┆ -18       ┆ -2        ┆ 0         ┆ -173     │\n",
       "│ 00         ┆           ┆           ┆          ┆   ┆           ┆           ┆           ┆          │\n",
       "│ Os07g01421 ┆ 0         ┆ -107      ┆ -14      ┆ … ┆ -20       ┆ 0         ┆ 0         ┆ -176     │\n",
       "│ 00         ┆           ┆           ┆          ┆   ┆           ┆           ┆           ┆          │\n",
       "│ Os03g03072 ┆ -3        ┆ -133      ┆ -9       ┆ … ┆ -5        ┆ 0         ┆ 1         ┆ -180     │\n",
       "│ 00         ┆           ┆           ┆          ┆   ┆           ┆           ┆           ┆          │\n",
       "│ Os07g01422 ┆ 0         ┆ -102      ┆ -17      ┆ … ┆ -16       ┆ -4        ┆ -1        ┆ -186     │\n",
       "│ 00         ┆           ┆           ┆          ┆   ┆           ┆           ┆           ┆          │\n",
       "│ Os03g03073 ┆ 0         ┆ -154      ┆ -9       ┆ … ┆ -8        ┆ 3         ┆ -2        ┆ -204     │\n",
       "│ 00         ┆           ┆           ┆          ┆   ┆           ┆           ┆           ┆          │\n",
       "└────────────┴───────────┴───────────┴──────────┴───┴───────────┴───────────┴───────────┴──────────┘"
      ]
     },
     "metadata": {},
     "output_type": "display_data"
    }
   ],
   "source": [
    "# get the sample name list\n",
    "sample_names = [col.split('(')[1].split(')')[0] for col in final_count.columns if col.startswith('UP(')]\n",
    "print(sample_names)\n",
    "\n",
    "# calculate HNscore for each sample\n",
    "HNscore_sample_count = final_count.with_columns([\n",
    "    (\n",
    "        pl.col(f'UP({sample})') - pl.col(f'DOWN({sample})')\n",
    "    ).alias(\n",
    "        f'HN{threshold}({sample})'\n",
    "    )\n",
    "    for sample in sample_names # sample_names is the list of sample names\n",
    "])\n",
    "\n",
    "# select the columns that start with HN and end with the sample name\n",
    "HNscore_sample_count = HNscore_sample_count.select(\n",
    "    ['GENEID'] + \n",
    "    [col for col in HNscore_sample_count.columns if col.startswith(f'HN{threshold}(') and col.endswith(')')]\n",
    ").with_columns( # すべてのサンプルのHNscoreを合計したHNscoreを算出\n",
    "    pl.sum_horizontal([\n",
    "        pl.col(col) for col in HNscore_sample_count.columns if col.startswith(f'HN{threshold}(') and col.endswith(')')\n",
    "    ]).alias(f'HN{threshold}(all)')\n",
    ").sort(\n",
    "    by=[f'HN{threshold}(all)'],\n",
    "    descending=True\n",
    ")\n",
    "\n",
    "# save the result to csv\n",
    "HNscore_sample_count.write_csv(\n",
    "    f'../Data/Data_HNscore/HNscore_sample_count_HN{threshold}.tsv',\n",
    "    separator='\\t'\n",
    ")\n",
    "\n",
    "print\n",
    "display(HNscore_sample_count)"
   ]
  },
  {
   "cell_type": "markdown",
   "metadata": {},
   "source": [
    "## HN-score validation\n"
   ]
  },
  {
   "cell_type": "code",
   "execution_count": 10,
   "metadata": {},
   "outputs": [
    {
     "data": {
      "text/plain": [
       "['HN5(seed-endosperm-R6-caryopsis)',\n",
       " 'HN5(leaf)',\n",
       " 'HN5(Tip)',\n",
       " 'HN5(Base)',\n",
       " 'HN5(endosperm-grain-filling-stage)',\n",
       " 'HN5(Spikeletsof-the-middle-third-of-the-panicle)',\n",
       " 'HN5(Whole-plants-7-day-old-seedlings)',\n",
       " 'HN5(Whole-shoot)',\n",
       " 'HN5(Middle)',\n",
       " 'HN5(seedling-8-day-old)',\n",
       " 'HN5(Leaf-blades)',\n",
       " 'HN5(shoot2-week-old)',\n",
       " 'HN5(Sheath)',\n",
       " 'HN5(3-week-old-seedling)',\n",
       " 'HN5(caryopsis-7-days-after-pollination)']"
      ]
     },
     "metadata": {},
     "output_type": "display_data"
    }
   ],
   "source": [
    "# select HN5 columns (exclude HN5(all))\n",
    "hn5_columns = [col for col in HNscore_sample_count.columns if col.startswith(\"HN5(\") and col != \"HN5(all)\"]\n",
    "display(hn5_columns)"
   ]
  },
  {
   "cell_type": "code",
   "execution_count": 11,
   "metadata": {},
   "outputs": [
    {
     "data": {
      "text/html": [
       "<div><style>\n",
       ".dataframe > thead > tr,\n",
       ".dataframe > tbody > tr {\n",
       "  text-align: right;\n",
       "  white-space: pre-wrap;\n",
       "}\n",
       "</style>\n",
       "<small>shape: (5, 7)</small><table border=\"1\" class=\"dataframe\"><thead><tr><th>GENEID</th><th>HN5(all)</th><th>positive_samples_count</th><th>negative_samples_count</th><th>total_samples</th><th>positive_contribution</th><th>negative_contribution</th></tr><tr><td>str</td><td>i32</td><td>i32</td><td>i32</td><td>i32</td><td>str</td><td>str</td></tr></thead><tbody><tr><td>&quot;Os04g0107900&quot;</td><td>255</td><td>13</td><td>2</td><td>15</td><td>&quot;13 / 15 samples positively con…</td><td>&quot;2 / 15 samples negatively cont…</td></tr><tr><td>&quot;Os01g0136100&quot;</td><td>245</td><td>12</td><td>1</td><td>15</td><td>&quot;12 / 15 samples positively con…</td><td>&quot;1 / 15 samples negatively cont…</td></tr><tr><td>&quot;Os02g0259900&quot;</td><td>238</td><td>10</td><td>1</td><td>15</td><td>&quot;10 / 15 samples positively con…</td><td>&quot;1 / 15 samples negatively cont…</td></tr><tr><td>&quot;Os02g0259850&quot;</td><td>237</td><td>11</td><td>2</td><td>15</td><td>&quot;11 / 15 samples positively con…</td><td>&quot;2 / 15 samples negatively cont…</td></tr><tr><td>&quot;Os03g0245800&quot;</td><td>237</td><td>9</td><td>2</td><td>15</td><td>&quot;9 / 15 samples positively cont…</td><td>&quot;2 / 15 samples negatively cont…</td></tr></tbody></table></div>"
      ],
      "text/plain": [
       "shape: (5, 7)\n",
       "┌──────────────┬──────────┬──────────────┬──────────────┬──────────────┬─────────────┬─────────────┐\n",
       "│ GENEID       ┆ HN5(all) ┆ positive_sam ┆ negative_sam ┆ total_sample ┆ positive_co ┆ negative_co │\n",
       "│ ---          ┆ ---      ┆ ples_count   ┆ ples_count   ┆ s            ┆ ntribution  ┆ ntribution  │\n",
       "│ str          ┆ i32      ┆ ---          ┆ ---          ┆ ---          ┆ ---         ┆ ---         │\n",
       "│              ┆          ┆ i32          ┆ i32          ┆ i32          ┆ str         ┆ str         │\n",
       "╞══════════════╪══════════╪══════════════╪══════════════╪══════════════╪═════════════╪═════════════╡\n",
       "│ Os04g0107900 ┆ 255      ┆ 13           ┆ 2            ┆ 15           ┆ 13 / 15     ┆ 2 / 15      │\n",
       "│              ┆          ┆              ┆              ┆              ┆ samples     ┆ samples     │\n",
       "│              ┆          ┆              ┆              ┆              ┆ positively  ┆ negatively  │\n",
       "│              ┆          ┆              ┆              ┆              ┆ con…        ┆ cont…       │\n",
       "│ Os01g0136100 ┆ 245      ┆ 12           ┆ 1            ┆ 15           ┆ 12 / 15     ┆ 1 / 15      │\n",
       "│              ┆          ┆              ┆              ┆              ┆ samples     ┆ samples     │\n",
       "│              ┆          ┆              ┆              ┆              ┆ positively  ┆ negatively  │\n",
       "│              ┆          ┆              ┆              ┆              ┆ con…        ┆ cont…       │\n",
       "│ Os02g0259900 ┆ 238      ┆ 10           ┆ 1            ┆ 15           ┆ 10 / 15     ┆ 1 / 15      │\n",
       "│              ┆          ┆              ┆              ┆              ┆ samples     ┆ samples     │\n",
       "│              ┆          ┆              ┆              ┆              ┆ positively  ┆ negatively  │\n",
       "│              ┆          ┆              ┆              ┆              ┆ con…        ┆ cont…       │\n",
       "│ Os02g0259850 ┆ 237      ┆ 11           ┆ 2            ┆ 15           ┆ 11 / 15     ┆ 2 / 15      │\n",
       "│              ┆          ┆              ┆              ┆              ┆ samples     ┆ samples     │\n",
       "│              ┆          ┆              ┆              ┆              ┆ positively  ┆ negatively  │\n",
       "│              ┆          ┆              ┆              ┆              ┆ con…        ┆ cont…       │\n",
       "│ Os03g0245800 ┆ 237      ┆ 9            ┆ 2            ┆ 15           ┆ 9 / 15      ┆ 2 / 15      │\n",
       "│              ┆          ┆              ┆              ┆              ┆ samples     ┆ samples     │\n",
       "│              ┆          ┆              ┆              ┆              ┆ positively  ┆ negatively  │\n",
       "│              ┆          ┆              ┆              ┆              ┆ cont…       ┆ cont…       │\n",
       "└──────────────┴──────────┴──────────────┴──────────────┴──────────────┴─────────────┴─────────────┘"
      ]
     },
     "metadata": {},
     "output_type": "display_data"
    }
   ],
   "source": [
    "# count positive and negative samples\n",
    "HNscore_sample_validate = HNscore_sample_count.with_columns([\n",
    "    pl.fold(0, lambda acc, x: acc + (x > 0).cast(pl.Int32), hn5_columns).alias(\"positive_samples_count\"),\n",
    "    pl.fold(0, lambda acc, x: acc + (x < 0).cast(pl.Int32), hn5_columns).alias(\"negative_samples_count\")\n",
    "])\n",
    "\n",
    "# assign tag to the contribution of samples\n",
    "def tag_contribution(count, type, hn5_column):\n",
    "    total_samples = len(hn5_column)\n",
    "    if count == total_samples:\n",
    "        return f\"all samples {type} contribute to the score\"\n",
    "    else:\n",
    "        return f\"{count} / {total_samples} samples {type} contribute to the score\"\n",
    "    \n",
    "HNscore_sample_validate = HNscore_sample_validate.with_columns(\n",
    "    [\n",
    "        pl.lit(len(hn5_columns)).alias(\"total_samples\"),\n",
    "        pl.col(\"positive_samples_count\").map_elements(lambda x: tag_contribution(x, \"positively\", hn5_columns), return_dtype=pl.Utf8).alias(\"positive_contribution\"),\n",
    "        pl.col(\"negative_samples_count\").map_elements(lambda x: tag_contribution(x, \"negatively\", hn5_columns), return_dtype=pl.Utf8).alias(\"negative_contribution\")\n",
    "]\n",
    ").sort(\n",
    "    by=[\"HN5(all)\"],\n",
    "    descending=True\n",
    ").drop(\n",
    "    hn5_columns\n",
    ")\n",
    "\n",
    "# save the result to csv\n",
    "HNscore_sample_validate.write_csv(\n",
    "    f'../Data/Data_HNscore/HNscore_sample_validate_HN{threshold}_rice.tsv',\n",
    "    separator='\\t'\n",
    ")\n",
    "\n",
    "display(HNscore_sample_validate.head())"
   ]
  },
  {
   "cell_type": "markdown",
   "metadata": {},
   "source": [
    "&nbsp;\n",
    "\n",
    "&nbsp;\n"
   ]
  },
  {
   "cell_type": "markdown",
   "metadata": {},
   "source": [
    "## Search specific gene related to GO term"
   ]
  },
  {
   "cell_type": "code",
   "execution_count": 12,
   "metadata": {},
   "outputs": [
    {
     "data": {
      "text/html": [
       "<div><style>\n",
       ".dataframe > thead > tr,\n",
       ".dataframe > tbody > tr {\n",
       "  text-align: right;\n",
       "  white-space: pre-wrap;\n",
       "}\n",
       "</style>\n",
       "<small>shape: (3, 17)</small><table border=\"1\" class=\"dataframe\"><thead><tr><th>GENEID</th><th>HN5(seed-endosperm-R6-caryopsis)</th><th>HN5(leaf)</th><th>HN5(Tip)</th><th>HN5(Base)</th><th>HN5(endosperm-grain-filling-stage)</th><th>HN5(Spikeletsof-the-middle-third-of-the-panicle)</th><th>HN5(Whole-plants-7-day-old-seedlings)</th><th>HN5(Whole-shoot)</th><th>HN5(Middle)</th><th>HN5(seedling-8-day-old)</th><th>HN5(Leaf-blades)</th><th>HN5(shoot2-week-old)</th><th>HN5(Sheath)</th><th>HN5(3-week-old-seedling)</th><th>HN5(caryopsis-7-days-after-pollination)</th><th>HN5(all)</th></tr><tr><td>str</td><td>i32</td><td>i32</td><td>i32</td><td>i32</td><td>i32</td><td>i32</td><td>i32</td><td>i32</td><td>i32</td><td>i32</td><td>i32</td><td>i32</td><td>i32</td><td>i32</td><td>i32</td><td>i32</td></tr></thead><tbody><tr><td>&quot;Os09g0396900&quot;</td><td>0</td><td>93</td><td>8</td><td>7</td><td>0</td><td>3</td><td>2</td><td>0</td><td>7</td><td>0</td><td>0</td><td>0</td><td>-2</td><td>-1</td><td>0</td><td>117</td></tr><tr><td>&quot;Os12g0106000&quot;</td><td>0</td><td>33</td><td>1</td><td>2</td><td>1</td><td>3</td><td>5</td><td>0</td><td>-1</td><td>12</td><td>0</td><td>0</td><td>2</td><td>0</td><td>0</td><td>58</td></tr><tr><td>&quot;Os11g0106700&quot;</td><td>-1</td><td>25</td><td>1</td><td>3</td><td>1</td><td>3</td><td>5</td><td>0</td><td>-1</td><td>12</td><td>0</td><td>0</td><td>1</td><td>0</td><td>0</td><td>49</td></tr></tbody></table></div>"
      ],
      "text/plain": [
       "shape: (3, 17)\n",
       "┌────────────┬───────────┬───────────┬──────────┬───┬───────────┬───────────┬───────────┬──────────┐\n",
       "│ GENEID     ┆ HN5(seed- ┆ HN5(leaf) ┆ HN5(Tip) ┆ … ┆ HN5(Sheat ┆ HN5(3-wee ┆ HN5(caryo ┆ HN5(all) │\n",
       "│ ---        ┆ endosperm ┆ ---       ┆ ---      ┆   ┆ h)        ┆ k-old-see ┆ psis-7-da ┆ ---      │\n",
       "│ str        ┆ -R6-caryo ┆ i32       ┆ i32      ┆   ┆ ---       ┆ dling)    ┆ ys-after- ┆ i32      │\n",
       "│            ┆ psi…      ┆           ┆          ┆   ┆ i32       ┆ ---       ┆ pol…      ┆          │\n",
       "│            ┆ ---       ┆           ┆          ┆   ┆           ┆ i32       ┆ ---       ┆          │\n",
       "│            ┆ i32       ┆           ┆          ┆   ┆           ┆           ┆ i32       ┆          │\n",
       "╞════════════╪═══════════╪═══════════╪══════════╪═══╪═══════════╪═══════════╪═══════════╪══════════╡\n",
       "│ Os09g03969 ┆ 0         ┆ 93        ┆ 8        ┆ … ┆ -2        ┆ -1        ┆ 0         ┆ 117      │\n",
       "│ 00         ┆           ┆           ┆          ┆   ┆           ┆           ┆           ┆          │\n",
       "│ Os12g01060 ┆ 0         ┆ 33        ┆ 1        ┆ … ┆ 2         ┆ 0         ┆ 0         ┆ 58       │\n",
       "│ 00         ┆           ┆           ┆          ┆   ┆           ┆           ┆           ┆          │\n",
       "│ Os11g01067 ┆ -1        ┆ 25        ┆ 1        ┆ … ┆ 1         ┆ 0         ┆ 0         ┆ 49       │\n",
       "│ 00         ┆           ┆           ┆          ┆   ┆           ┆           ┆           ┆          │\n",
       "└────────────┴───────────┴───────────┴──────────┴───┴───────────┴───────────┴───────────┴──────────┘"
      ]
     },
     "metadata": {},
     "output_type": "display_data"
    }
   ],
   "source": [
    "# Search specific gene related to GO:0097577\tsequestering of iron ion\n",
    "specific_gene = ['Os09g0396900', 'Os11g0106700', 'Os12g0106000']\n",
    "specific_gene_df = HNscore_sample_count.filter(\n",
    "    pl.col('GENEID').is_in(specific_gene)\n",
    ")\n",
    "display(specific_gene_df)"
   ]
  },
  {
   "cell_type": "code",
   "execution_count": 13,
   "metadata": {},
   "outputs": [
    {
     "data": {
      "text/html": [
       "<div><style>\n",
       ".dataframe > thead > tr,\n",
       ".dataframe > tbody > tr {\n",
       "  text-align: right;\n",
       "  white-space: pre-wrap;\n",
       "}\n",
       "</style>\n",
       "<small>shape: (7, 17)</small><table border=\"1\" class=\"dataframe\"><thead><tr><th>GENEID</th><th>HN5(seed-endosperm-R6-caryopsis)</th><th>HN5(leaf)</th><th>HN5(Tip)</th><th>HN5(Base)</th><th>HN5(endosperm-grain-filling-stage)</th><th>HN5(Spikeletsof-the-middle-third-of-the-panicle)</th><th>HN5(Whole-plants-7-day-old-seedlings)</th><th>HN5(Whole-shoot)</th><th>HN5(Middle)</th><th>HN5(seedling-8-day-old)</th><th>HN5(Leaf-blades)</th><th>HN5(shoot2-week-old)</th><th>HN5(Sheath)</th><th>HN5(3-week-old-seedling)</th><th>HN5(caryopsis-7-days-after-pollination)</th><th>HN5(all)</th></tr><tr><td>str</td><td>i32</td><td>i32</td><td>i32</td><td>i32</td><td>i32</td><td>i32</td><td>i32</td><td>i32</td><td>i32</td><td>i32</td><td>i32</td><td>i32</td><td>i32</td><td>i32</td><td>i32</td><td>i32</td></tr></thead><tbody><tr><td>&quot;Os07g0258400&quot;</td><td>-2</td><td>-102</td><td>-12</td><td>-15</td><td>1</td><td>0</td><td>0</td><td>0</td><td>-12</td><td>-12</td><td>1</td><td>-2</td><td>-18</td><td>-3</td><td>5</td><td>-171</td></tr><tr><td>&quot;Os02g0650300&quot;</td><td>0</td><td>-118</td><td>0</td><td>0</td><td>0</td><td>0</td><td>0</td><td>-3</td><td>0</td><td>-12</td><td>0</td><td>0</td><td>0</td><td>0</td><td>0</td><td>-133</td></tr><tr><td>&quot;Os02g0649900&quot;</td><td>0</td><td>-105</td><td>-5</td><td>-9</td><td>1</td><td>1</td><td>1</td><td>-1</td><td>-6</td><td>-4</td><td>0</td><td>0</td><td>-8</td><td>5</td><td>3</td><td>-127</td></tr><tr><td>&quot;Os05g0551000&quot;</td><td>0</td><td>-96</td><td>-5</td><td>-4</td><td>0</td><td>2</td><td>0</td><td>0</td><td>-6</td><td>-2</td><td>0</td><td>0</td><td>0</td><td>0</td><td>8</td><td>-103</td></tr><tr><td>&quot;Os01g0689451&quot;</td><td>0</td><td>-83</td><td>0</td><td>0</td><td>0</td><td>1</td><td>0</td><td>0</td><td>-4</td><td>-2</td><td>0</td><td>0</td><td>0</td><td>0</td><td>8</td><td>-80</td></tr><tr><td>&quot;Os03g0667300&quot;</td><td>0</td><td>-60</td><td>0</td><td>0</td><td>0</td><td>0</td><td>0</td><td>0</td><td>0</td><td>-12</td><td>0</td><td>-2</td><td>0</td><td>0</td><td>-1</td><td>-75</td></tr><tr><td>&quot;Os07g0257200&quot;</td><td>0</td><td>-16</td><td>0</td><td>1</td><td>0</td><td>0</td><td>-3</td><td>-5</td><td>0</td><td>-12</td><td>0</td><td>0</td><td>0</td><td>-4</td><td>-4</td><td>-43</td></tr></tbody></table></div>"
      ],
      "text/plain": [
       "shape: (7, 17)\n",
       "┌────────────┬───────────┬───────────┬──────────┬───┬───────────┬───────────┬───────────┬──────────┐\n",
       "│ GENEID     ┆ HN5(seed- ┆ HN5(leaf) ┆ HN5(Tip) ┆ … ┆ HN5(Sheat ┆ HN5(3-wee ┆ HN5(caryo ┆ HN5(all) │\n",
       "│ ---        ┆ endosperm ┆ ---       ┆ ---      ┆   ┆ h)        ┆ k-old-see ┆ psis-7-da ┆ ---      │\n",
       "│ str        ┆ -R6-caryo ┆ i32       ┆ i32      ┆   ┆ ---       ┆ dling)    ┆ ys-after- ┆ i32      │\n",
       "│            ┆ psi…      ┆           ┆          ┆   ┆ i32       ┆ ---       ┆ pol…      ┆          │\n",
       "│            ┆ ---       ┆           ┆          ┆   ┆           ┆ i32       ┆ ---       ┆          │\n",
       "│            ┆ i32       ┆           ┆          ┆   ┆           ┆           ┆ i32       ┆          │\n",
       "╞════════════╪═══════════╪═══════════╪══════════╪═══╪═══════════╪═══════════╪═══════════╪══════════╡\n",
       "│ Os07g02584 ┆ -2        ┆ -102      ┆ -12      ┆ … ┆ -18       ┆ -3        ┆ 5         ┆ -171     │\n",
       "│ 00         ┆           ┆           ┆          ┆   ┆           ┆           ┆           ┆          │\n",
       "│ Os02g06503 ┆ 0         ┆ -118      ┆ 0        ┆ … ┆ 0         ┆ 0         ┆ 0         ┆ -133     │\n",
       "│ 00         ┆           ┆           ┆          ┆   ┆           ┆           ┆           ┆          │\n",
       "│ Os02g06499 ┆ 0         ┆ -105      ┆ -5       ┆ … ┆ -8        ┆ 5         ┆ 3         ┆ -127     │\n",
       "│ 00         ┆           ┆           ┆          ┆   ┆           ┆           ┆           ┆          │\n",
       "│ Os05g05510 ┆ 0         ┆ -96       ┆ -5       ┆ … ┆ 0         ┆ 0         ┆ 8         ┆ -103     │\n",
       "│ 00         ┆           ┆           ┆          ┆   ┆           ┆           ┆           ┆          │\n",
       "│ Os01g06894 ┆ 0         ┆ -83       ┆ 0        ┆ … ┆ 0         ┆ 0         ┆ 8         ┆ -80      │\n",
       "│ 51         ┆           ┆           ┆          ┆   ┆           ┆           ┆           ┆          │\n",
       "│ Os03g06673 ┆ 0         ┆ -60       ┆ 0        ┆ … ┆ 0         ┆ 0         ┆ -1        ┆ -75      │\n",
       "│ 00         ┆           ┆           ┆          ┆   ┆           ┆           ┆           ┆          │\n",
       "│ Os07g02572 ┆ 0         ┆ -16       ┆ 0        ┆ … ┆ 0         ┆ -4        ┆ -4        ┆ -43      │\n",
       "│ 00         ┆           ┆           ┆          ┆   ┆           ┆           ┆           ┆          │\n",
       "└────────────┴───────────┴───────────┴──────────┴───┴───────────┴───────────┴───────────┴──────────┘"
      ]
     },
     "metadata": {},
     "output_type": "display_data"
    }
   ],
   "source": [
    "# Search specific gene related to GO:0006879\tintracellular iron ion homeostasis\n",
    "specific_gene_down = ['Os01g0689451', 'Os02g0649900', 'Os02g0650300', 'Os03g0667300', 'Os05g0551000', 'Os07g0257200', 'Os07g0258400']\n",
    "specific_gene_down_df = HNscore_sample_count.filter(\n",
    "    pl.col('GENEID').is_in(specific_gene_down)\n",
    ").sort(\n",
    "    by=[\"HN5(all)\", \"GENEID\"],\n",
    "    descending=[False, False]\n",
    ")\n",
    "display(specific_gene_down_df)"
   ]
  }
 ],
 "metadata": {
  "kernelspec": {
   "display_name": "Python 3 (ipykernel)",
   "language": "python",
   "name": "python3"
  },
  "language_info": {
   "codemirror_mode": {
    "name": "ipython",
    "version": 3
   },
   "file_extension": ".py",
   "mimetype": "text/x-python",
   "name": "python",
   "nbconvert_exporter": "python",
   "pygments_lexer": "ipython3",
   "version": "3.11.4"
  }
 },
 "nbformat": 4,
 "nbformat_minor": 4
}
