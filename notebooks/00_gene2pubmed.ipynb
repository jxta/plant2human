{
 "cells": [
  {
   "cell_type": "code",
   "execution_count": 1,
   "metadata": {},
   "outputs": [],
   "source": [
    "import polars as pl # type: ignore"
   ]
  },
  {
   "cell_type": "code",
   "execution_count": 2,
   "metadata": {},
   "outputs": [],
   "source": [
    "# Download 2024/03/31\n",
    "# re-download 2024/09/17\n",
    "# https://ftp.ncbi.nlm.nih.gov/gene/DATA/gene2pubmed.gz"
   ]
  },
  {
   "cell_type": "code",
   "execution_count": 3,
   "metadata": {},
   "outputs": [
    {
     "data": {
      "text/html": [
       "<div><style>\n",
       ".dataframe > thead > tr,\n",
       ".dataframe > tbody > tr {\n",
       "  text-align: right;\n",
       "  white-space: pre-wrap;\n",
       "}\n",
       "</style>\n",
       "<small>shape: (5, 3)</small><table border=\"1\" class=\"dataframe\"><thead><tr><th>taxonomy id</th><th>gene id</th><th>pubmed id</th></tr><tr><td>i64</td><td>i64</td><td>i64</td></tr></thead><tbody><tr><td>24</td><td>67441593</td><td>1779750</td></tr><tr><td>24</td><td>67441593</td><td>16753031</td></tr><tr><td>24</td><td>67441593</td><td>21620858</td></tr><tr><td>24</td><td>67441594</td><td>21219854</td></tr><tr><td>24</td><td>67441594</td><td>30366028</td></tr></tbody></table></div>"
      ],
      "text/plain": [
       "shape: (5, 3)\n",
       "┌─────────────┬──────────┬───────────┐\n",
       "│ taxonomy id ┆ gene id  ┆ pubmed id │\n",
       "│ ---         ┆ ---      ┆ ---       │\n",
       "│ i64         ┆ i64      ┆ i64       │\n",
       "╞═════════════╪══════════╪═══════════╡\n",
       "│ 24          ┆ 67441593 ┆ 1779750   │\n",
       "│ 24          ┆ 67441593 ┆ 16753031  │\n",
       "│ 24          ┆ 67441593 ┆ 21620858  │\n",
       "│ 24          ┆ 67441594 ┆ 21219854  │\n",
       "│ 24          ┆ 67441594 ┆ 30366028  │\n",
       "└─────────────┴──────────┴───────────┘"
      ]
     },
     "metadata": {},
     "output_type": "display_data"
    }
   ],
   "source": [
    "# Download 2024/03/31\n",
    "# re-download 2024/09/17\n",
    "gene2pubmed = pl.read_csv(\n",
    "    \"../Data/Data_ncbi/gene2pubmed\",\n",
    "    separator=\"\\t\"\n",
    ").rename(\n",
    "    {\n",
    "        \"#tax_id\": \"taxonomy id\",\n",
    "        \"GeneID\": \"gene id\",\n",
    "        \"PubMed_ID\": \"pubmed id\"\n",
    "    }\n",
    ")\n",
    "\n",
    "display(gene2pubmed.head())"
   ]
  },
  {
   "cell_type": "code",
   "execution_count": 4,
   "metadata": {},
   "outputs": [
    {
     "data": {
      "text/html": [
       "<div><style>\n",
       ".dataframe > thead > tr,\n",
       ".dataframe > tbody > tr {\n",
       "  text-align: right;\n",
       "  white-space: pre-wrap;\n",
       "}\n",
       "</style>\n",
       "<small>shape: (162_990, 4)</small><table border=\"1\" class=\"dataframe\"><thead><tr><th>taxonomy id</th><th>gene id</th><th>pubmed id count</th><th>pubmed ids list</th></tr><tr><td>i64</td><td>i64</td><td>u32</td><td>list[i64]</td></tr></thead><tbody><tr><td>9606</td><td>7157</td><td>11544</td><td>[1088347, 1303181, … 39207627]</td></tr><tr><td>9606</td><td>1956</td><td>6650</td><td>[1281549, 1301150, … 39205824]</td></tr><tr><td>9606</td><td>7124</td><td>6425</td><td>[1279199, 1310388, … 39201392]</td></tr><tr><td>9606</td><td>3569</td><td>5450</td><td>[1113021, 1291290, … 39231832]</td></tr><tr><td>9606</td><td>7422</td><td>5207</td><td>[1312256, 1417831, … 39174921]</td></tr><tr><td>&hellip;</td><td>&hellip;</td><td>&hellip;</td><td>&hellip;</td></tr><tr><td>9606</td><td>127273790</td><td>1</td><td>[30033119]</td></tr><tr><td>9606</td><td>106736465</td><td>1</td><td>[25326701]</td></tr><tr><td>9606</td><td>129662445</td><td>1</td><td>[32094911]</td></tr><tr><td>9606</td><td>129937677</td><td>1</td><td>[35858748]</td></tr><tr><td>9606</td><td>127882636</td><td>1</td><td>[30033119]</td></tr></tbody></table></div>"
      ],
      "text/plain": [
       "shape: (162_990, 4)\n",
       "┌─────────────┬───────────┬─────────────────┬────────────────────────────────┐\n",
       "│ taxonomy id ┆ gene id   ┆ pubmed id count ┆ pubmed ids list                │\n",
       "│ ---         ┆ ---       ┆ ---             ┆ ---                            │\n",
       "│ i64         ┆ i64       ┆ u32             ┆ list[i64]                      │\n",
       "╞═════════════╪═══════════╪═════════════════╪════════════════════════════════╡\n",
       "│ 9606        ┆ 7157      ┆ 11544           ┆ [1088347, 1303181, … 39207627] │\n",
       "│ 9606        ┆ 1956      ┆ 6650            ┆ [1281549, 1301150, … 39205824] │\n",
       "│ 9606        ┆ 7124      ┆ 6425            ┆ [1279199, 1310388, … 39201392] │\n",
       "│ 9606        ┆ 3569      ┆ 5450            ┆ [1113021, 1291290, … 39231832] │\n",
       "│ 9606        ┆ 7422      ┆ 5207            ┆ [1312256, 1417831, … 39174921] │\n",
       "│ …           ┆ …         ┆ …               ┆ …                              │\n",
       "│ 9606        ┆ 127273790 ┆ 1               ┆ [30033119]                     │\n",
       "│ 9606        ┆ 106736465 ┆ 1               ┆ [25326701]                     │\n",
       "│ 9606        ┆ 129662445 ┆ 1               ┆ [32094911]                     │\n",
       "│ 9606        ┆ 129937677 ┆ 1               ┆ [35858748]                     │\n",
       "│ 9606        ┆ 127882636 ┆ 1               ┆ [30033119]                     │\n",
       "└─────────────┴───────────┴─────────────────┴────────────────────────────────┘"
      ]
     },
     "metadata": {},
     "output_type": "display_data"
    }
   ],
   "source": [
    "gene2pubmed_human = gene2pubmed.filter(\n",
    "    pl.col(\"taxonomy id\") == 9606\n",
    ").group_by(\n",
    "    \"taxonomy id\", \"gene id\"\n",
    ").agg(\n",
    "    pl.col(\"pubmed id\").n_unique().alias(\"pubmed id count\"),\n",
    "    pl.col(\"pubmed id\").sort().unique().alias(\"pubmed ids list\")\n",
    "    # pl.col(\"pubmed id\").cast(pl.Utf8).map_elements(lambda x: \", \".join(x), return_dtype=pl.Utf8).alias(\"pubmed ids list\")\n",
    ").sort(\n",
    "    \"pubmed id count\", \n",
    "    descending=True\n",
    ")\n",
    "\n",
    "\n",
    "# gene2pubmed_human.write_csv(\"gene2pubmed_human.tsv\", separator=\"\\t\")\n",
    "display(gene2pubmed_human)"
   ]
  },
  {
   "cell_type": "code",
   "execution_count": 5,
   "metadata": {},
   "outputs": [
    {
     "data": {
      "text/html": [
       "<div><style>\n",
       ".dataframe > thead > tr,\n",
       ".dataframe > tbody > tr {\n",
       "  text-align: right;\n",
       "  white-space: pre-wrap;\n",
       "}\n",
       "</style>\n",
       "<small>shape: (10, 3)</small><table border=\"1\" class=\"dataframe\"><thead><tr><th>Gene stable ID</th><th>HGNC symbol</th><th>gene id</th></tr><tr><td>str</td><td>str</td><td>i64</td></tr></thead><tbody><tr><td>&quot;ENSG00000210049&quot;</td><td>&quot;MT-TF&quot;</td><td>null</td></tr><tr><td>&quot;ENSG00000211459&quot;</td><td>&quot;MT-RNR1&quot;</td><td>null</td></tr><tr><td>&quot;ENSG00000210077&quot;</td><td>&quot;MT-TV&quot;</td><td>null</td></tr><tr><td>&quot;ENSG00000210082&quot;</td><td>&quot;MT-RNR2&quot;</td><td>null</td></tr><tr><td>&quot;ENSG00000209082&quot;</td><td>&quot;MT-TL1&quot;</td><td>null</td></tr><tr><td>&quot;ENSG00000198888&quot;</td><td>&quot;MT-ND1&quot;</td><td>4535</td></tr><tr><td>&quot;ENSG00000210100&quot;</td><td>&quot;MT-TI&quot;</td><td>null</td></tr><tr><td>&quot;ENSG00000210107&quot;</td><td>&quot;MT-TQ&quot;</td><td>null</td></tr><tr><td>&quot;ENSG00000210112&quot;</td><td>&quot;MT-TM&quot;</td><td>null</td></tr><tr><td>&quot;ENSG00000198763&quot;</td><td>&quot;MT-ND2&quot;</td><td>4536</td></tr></tbody></table></div>"
      ],
      "text/plain": [
       "shape: (10, 3)\n",
       "┌─────────────────┬─────────────┬─────────┐\n",
       "│ Gene stable ID  ┆ HGNC symbol ┆ gene id │\n",
       "│ ---             ┆ ---         ┆ ---     │\n",
       "│ str             ┆ str         ┆ i64     │\n",
       "╞═════════════════╪═════════════╪═════════╡\n",
       "│ ENSG00000210049 ┆ MT-TF       ┆ null    │\n",
       "│ ENSG00000211459 ┆ MT-RNR1     ┆ null    │\n",
       "│ ENSG00000210077 ┆ MT-TV       ┆ null    │\n",
       "│ ENSG00000210082 ┆ MT-RNR2     ┆ null    │\n",
       "│ ENSG00000209082 ┆ MT-TL1      ┆ null    │\n",
       "│ ENSG00000198888 ┆ MT-ND1      ┆ 4535    │\n",
       "│ ENSG00000210100 ┆ MT-TI       ┆ null    │\n",
       "│ ENSG00000210107 ┆ MT-TQ       ┆ null    │\n",
       "│ ENSG00000210112 ┆ MT-TM       ┆ null    │\n",
       "│ ENSG00000198763 ┆ MT-ND2      ┆ 4536    │\n",
       "└─────────────────┴─────────────┴─────────┘"
      ]
     },
     "metadata": {},
     "output_type": "display_data"
    }
   ],
   "source": [
    "gene2ensembl = pl.read_csv(\n",
    "    \"../Data/Data_ensembl/ensembl2ncbigeneid.tsv\",\n",
    "    separator=\"\\t\"\n",
    ").rename(\n",
    "    {\n",
    "        \"NCBI gene (formerly Entrezgene) ID\": \"gene id\"\n",
    "    }\n",
    ")\n",
    "\n",
    "display(gene2ensembl.head(10))"
   ]
  },
  {
   "cell_type": "code",
   "execution_count": 7,
   "metadata": {},
   "outputs": [
    {
     "name": "stdout",
     "output_type": "stream",
     "text": [
      "shape: (1, 2)\n",
      "┌─────────────┬─────┐\n",
      "│ HGNC symbol ┆ len │\n",
      "│ ---         ┆ --- │\n",
      "│ str         ┆ u32 │\n",
      "╞═════════════╪═════╡\n",
      "│ null        ┆ 1   │\n",
      "└─────────────┴─────┘\n"
     ]
    },
    {
     "data": {
      "text/html": [
       "<div><style>\n",
       ".dataframe > thead > tr,\n",
       ".dataframe > tbody > tr {\n",
       "  text-align: right;\n",
       "  white-space: pre-wrap;\n",
       "}\n",
       "</style>\n",
       "<small>shape: (1, 6)</small><table border=\"1\" class=\"dataframe\"><thead><tr><th>Gene stable ID</th><th>HGNC symbol</th><th>gene id</th><th>taxonomy id</th><th>pubmed id count</th><th>pubmed ids list</th></tr><tr><td>str</td><td>str</td><td>i64</td><td>i64</td><td>u32</td><td>list[i64]</td></tr></thead><tbody><tr><td>&quot;ENSG00000132952&quot;</td><td>&quot;USPL1&quot;</td><td>10208</td><td>9606</td><td>24</td><td>[12477932, 14702039, … 36724073]</td></tr></tbody></table></div>"
      ],
      "text/plain": [
       "shape: (1, 6)\n",
       "┌─────────────────┬─────────────┬─────────┬─────────────┬─────────────────┬────────────────────────┐\n",
       "│ Gene stable ID  ┆ HGNC symbol ┆ gene id ┆ taxonomy id ┆ pubmed id count ┆ pubmed ids list        │\n",
       "│ ---             ┆ ---         ┆ ---     ┆ ---         ┆ ---             ┆ ---                    │\n",
       "│ str             ┆ str         ┆ i64     ┆ i64         ┆ u32             ┆ list[i64]              │\n",
       "╞═════════════════╪═════════════╪═════════╪═════════════╪═════════════════╪════════════════════════╡\n",
       "│ ENSG00000132952 ┆ USPL1       ┆ 10208   ┆ 9606        ┆ 24              ┆ [12477932, 14702039, … │\n",
       "│                 ┆             ┆         ┆             ┆                 ┆ 3672407…               │\n",
       "└─────────────────┴─────────────┴─────────┴─────────────┴─────────────────┴────────────────────────┘"
      ]
     },
     "metadata": {},
     "output_type": "display_data"
    }
   ],
   "source": [
    "symbol2pubmed = gene2ensembl.join(\n",
    "    gene2pubmed_human,\n",
    "    on=\"gene id\",\n",
    "    how=\"left\",\n",
    "    coalesce=True\n",
    ").sort(\n",
    "    \"pubmed id count\",\n",
    "    descending=True\n",
    ")\n",
    "\n",
    "symbol2pubmed_filter = symbol2pubmed.filter(\n",
    "    (pl.col(\"pubmed id count\").is_not_null()) &\n",
    "    (pl.col(\"HGNC symbol\") == \"USPL1\")\n",
    ")\n",
    "\n",
    "# .with_columns(\n",
    "#     pl.col(\"pubmed ids list\").map_elements(\n",
    "#         lambda x: \",\".join(map(str, x)),\n",
    "#         return_dtype=pl.String\n",
    "#     ).alias(\"pubmed ids list\")\n",
    "# )\n",
    "\n",
    "print(symbol2pubmed_filter.group_by([\"HGNC symbol\"]).len().sum())\n",
    "display(symbol2pubmed_filter)"
   ]
  },
  {
   "cell_type": "code",
   "execution_count": 36,
   "metadata": {},
   "outputs": [
    {
     "data": {
      "text/html": [
       "<div><style>\n",
       ".dataframe > thead > tr,\n",
       ".dataframe > tbody > tr {\n",
       "  text-align: right;\n",
       "  white-space: pre-wrap;\n",
       "}\n",
       "</style>\n",
       "<small>shape: (47_224, 3)</small><table border=\"1\" class=\"dataframe\"><thead><tr><th>Gene stable ID</th><th>HGNC symbol</th><th>gene id</th></tr><tr><td>str</td><td>str</td><td>i64</td></tr></thead><tbody><tr><td>&quot;ENSG00000210049&quot;</td><td>&quot;MT-TF&quot;</td><td>null</td></tr><tr><td>&quot;ENSG00000211459&quot;</td><td>&quot;MT-RNR1&quot;</td><td>null</td></tr><tr><td>&quot;ENSG00000210077&quot;</td><td>&quot;MT-TV&quot;</td><td>null</td></tr><tr><td>&quot;ENSG00000210082&quot;</td><td>&quot;MT-RNR2&quot;</td><td>null</td></tr><tr><td>&quot;ENSG00000209082&quot;</td><td>&quot;MT-TL1&quot;</td><td>null</td></tr><tr><td>&hellip;</td><td>&hellip;</td><td>&hellip;</td></tr><tr><td>&quot;ENSG00000232679&quot;</td><td>&quot;LINC01705&quot;</td><td>105372950</td></tr><tr><td>&quot;ENSG00000200033&quot;</td><td>&quot;RNU6-403P&quot;</td><td>null</td></tr><tr><td>&quot;ENSG00000228437&quot;</td><td>&quot;LINC02474&quot;</td><td>null</td></tr><tr><td>&quot;ENSG00000229463&quot;</td><td>&quot;LYST-AS1&quot;</td><td>null</td></tr><tr><td>&quot;ENSG00000229291&quot;</td><td>&quot;LINC02768&quot;</td><td>null</td></tr></tbody></table></div>"
      ],
      "text/plain": [
       "shape: (47_224, 3)\n",
       "┌─────────────────┬─────────────┬───────────┐\n",
       "│ Gene stable ID  ┆ HGNC symbol ┆ gene id   │\n",
       "│ ---             ┆ ---         ┆ ---       │\n",
       "│ str             ┆ str         ┆ i64       │\n",
       "╞═════════════════╪═════════════╪═══════════╡\n",
       "│ ENSG00000210049 ┆ MT-TF       ┆ null      │\n",
       "│ ENSG00000211459 ┆ MT-RNR1     ┆ null      │\n",
       "│ ENSG00000210077 ┆ MT-TV       ┆ null      │\n",
       "│ ENSG00000210082 ┆ MT-RNR2     ┆ null      │\n",
       "│ ENSG00000209082 ┆ MT-TL1      ┆ null      │\n",
       "│ …               ┆ …           ┆ …         │\n",
       "│ ENSG00000232679 ┆ LINC01705   ┆ 105372950 │\n",
       "│ ENSG00000200033 ┆ RNU6-403P   ┆ null      │\n",
       "│ ENSG00000228437 ┆ LINC02474   ┆ null      │\n",
       "│ ENSG00000229463 ┆ LYST-AS1    ┆ null      │\n",
       "│ ENSG00000229291 ┆ LINC02768   ┆ null      │\n",
       "└─────────────────┴─────────────┴───────────┘"
      ]
     },
     "metadata": {},
     "output_type": "display_data"
    }
   ],
   "source": [
    "no_coresspondence = symbol2pubmed.filter(\n",
    "    pl.col(\"pubmed id count\").is_null()\n",
    ").drop(\n",
    "    \"pubmed ids list\",\n",
    "    \"pubmed id count\",\n",
    "    \"taxonomy id\"\n",
    ")\n",
    "\n",
    "display(no_coresspondence)"
   ]
  }
 ],
 "metadata": {
  "kernelspec": {
   "display_name": "Python 3",
   "language": "python",
   "name": "python3"
  },
  "language_info": {
   "codemirror_mode": {
    "name": "ipython",
    "version": 3
   },
   "file_extension": ".py",
   "mimetype": "text/x-python",
   "name": "python",
   "nbconvert_exporter": "python",
   "pygments_lexer": "ipython3",
   "version": "3.10.12"
  }
 },
 "nbformat": 4,
 "nbformat_minor": 2
}
