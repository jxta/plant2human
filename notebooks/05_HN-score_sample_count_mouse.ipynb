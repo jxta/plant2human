{
 "cells": [
  {
   "cell_type": "code",
   "execution_count": 1,
   "metadata": {},
   "outputs": [],
   "source": [
    "import re\n",
    "import datetime\n",
    "import polars as pl"
   ]
  },
  {
   "cell_type": "code",
   "execution_count": 2,
   "metadata": {},
   "outputs": [
    {
     "name": "stdout",
     "output_type": "stream",
     "text": [
      "2024-11-03 03:58:46.936697\n"
     ]
    }
   ],
   "source": [
    "now = datetime.datetime.now()\n",
    "print(now)"
   ]
  },
  {
   "cell_type": "code",
   "execution_count": 3,
   "metadata": {},
   "outputs": [],
   "source": [
    "# set the threshold\n",
    "threshold = 5"
   ]
  },
  {
   "cell_type": "code",
   "execution_count": 4,
   "metadata": {},
   "outputs": [
    {
     "data": {
      "text/html": [
       "<div><style>\n",
       ".dataframe > thead > tr,\n",
       ".dataframe > tbody > tr {\n",
       "  text-align: right;\n",
       "  white-space: pre-wrap;\n",
       "}\n",
       "</style>\n",
       "<small>shape: (242, 20)</small><table border=\"1\" class=\"dataframe\"><thead><tr><th>SRA study count</th><th>SRA Study</th><th>pair</th><th>Source of Stress (Condition)</th><th>Control</th><th>strategy</th><th>LibrarySelect</th><th>temperature</th><th>time</th><th>treatment</th><th>control temperature</th><th>Cell-line(type)</th><th>tissue</th><th>strain</th><th>Genotype/Phenotype</th><th>LibraryLayout</th><th>RNA</th><th>Instrument</th><th>note</th><th>sample</th></tr><tr><td>i64</td><td>str</td><td>i64</td><td>str</td><td>str</td><td>str</td><td>str</td><td>str</td><td>str</td><td>str</td><td>str</td><td>str</td><td>str</td><td>str</td><td>str</td><td>str</td><td>str</td><td>str</td><td>str</td><td>str</td></tr></thead><tbody><tr><td>1</td><td>&quot;SRP212072&quot;</td><td>1</td><td>&quot;SRR9601002&quot;</td><td>&quot;SRR9600999&quot;</td><td>&quot;RNA-seq&quot;</td><td>&quot;cDNA&quot;</td><td>&quot;45℃&quot;</td><td>&quot;1h.&quot;</td><td>&quot;culture incubator (Thermo Fish…</td><td>&quot;37℃&quot;</td><td>&quot;B16-OVA(mouse melanoma cell)&quot;</td><td>null</td><td>&quot;C57BL/6J(strain)&quot;</td><td>null</td><td>&quot;PAIRED&quot;</td><td>null</td><td>&quot;Illumina NovaSeq 6000&quot;</td><td>&quot;control siRNA&quot;</td><td>&quot;B16-OVAmouse-melanoma-cell&quot;</td></tr><tr><td>null</td><td>null</td><td>2</td><td>&quot;SRR9601003&quot;</td><td>&quot;SRR9601000&quot;</td><td>&quot;RNA-seq&quot;</td><td>&quot;cDNA&quot;</td><td>&quot;45℃&quot;</td><td>&quot;1h.&quot;</td><td>&quot;culture incubator (Thermo Fish…</td><td>&quot;37℃&quot;</td><td>&quot;B16-OVA(mouse melanoma cell)&quot;</td><td>null</td><td>&quot;C57BL/6J(strain)&quot;</td><td>null</td><td>&quot;PAIRED&quot;</td><td>null</td><td>&quot;Illumina NovaSeq 6000&quot;</td><td>&quot;control siRNA&quot;</td><td>&quot;B16-OVAmouse-melanoma-cell&quot;</td></tr><tr><td>null</td><td>null</td><td>3</td><td>&quot;SRR9601008&quot;</td><td>&quot;SRR9601004&quot;</td><td>&quot;RNA-seq&quot;</td><td>&quot;cDNA&quot;</td><td>&quot;45℃&quot;</td><td>&quot;1h.&quot;</td><td>&quot;culture incubator (Thermo Fish…</td><td>&quot;37℃&quot;</td><td>&quot;B16-OVA(mouse melanoma cell)&quot;</td><td>null</td><td>&quot;C57BL/6J(strain)&quot;</td><td>null</td><td>&quot;PAIRED&quot;</td><td>null</td><td>&quot;Illumina NovaSeq 6000&quot;</td><td>&quot;pool of siRNAs against YAP and…</td><td>&quot;B16-OVAmouse-melanoma-cell&quot;</td></tr><tr><td>null</td><td>null</td><td>4</td><td>&quot;SRR9601009&quot;</td><td>&quot;SRR9601005&quot;</td><td>&quot;RNA-seq&quot;</td><td>&quot;cDNA&quot;</td><td>&quot;45℃&quot;</td><td>&quot;1h.&quot;</td><td>&quot;culture incubator (Thermo Fish…</td><td>&quot;37℃&quot;</td><td>&quot;B16-OVA(mouse melanoma cell)&quot;</td><td>null</td><td>&quot;C57BL/6J(strain)&quot;</td><td>null</td><td>&quot;PAIRED&quot;</td><td>null</td><td>&quot;Illumina NovaSeq 6000&quot;</td><td>&quot;pool of siRNAs against YAP and…</td><td>&quot;B16-OVAmouse-melanoma-cell&quot;</td></tr><tr><td>null</td><td>null</td><td>5</td><td>&quot;SRR9601010&quot;</td><td>&quot;SRR9601006&quot;</td><td>&quot;RNA-seq&quot;</td><td>&quot;cDNA&quot;</td><td>&quot;45℃&quot;</td><td>&quot;1h.&quot;</td><td>&quot;culture incubator (Thermo Fish…</td><td>&quot;37℃&quot;</td><td>&quot;B16-OVA(mouse melanoma cell)&quot;</td><td>null</td><td>&quot;C57BL/6J(strain)&quot;</td><td>null</td><td>&quot;PAIRED&quot;</td><td>null</td><td>&quot;Illumina NovaSeq 6000&quot;</td><td>&quot;pool of siRNAs against YAP and…</td><td>&quot;B16-OVAmouse-melanoma-cell&quot;</td></tr><tr><td>&hellip;</td><td>&hellip;</td><td>&hellip;</td><td>&hellip;</td><td>&hellip;</td><td>&hellip;</td><td>&hellip;</td><td>&hellip;</td><td>&hellip;</td><td>&hellip;</td><td>&hellip;</td><td>&hellip;</td><td>&hellip;</td><td>&hellip;</td><td>&hellip;</td><td>&hellip;</td><td>&hellip;</td><td>&hellip;</td><td>&hellip;</td><td>&hellip;</td></tr><tr><td>null</td><td>null</td><td>238</td><td>&quot;SRR11684186&quot;</td><td>&quot;SRR11684195&quot;</td><td>&quot;RNA-seq&quot;</td><td>&quot;cDNA&quot;</td><td>&quot;42℃&quot;</td><td>&quot;20min.&quot;</td><td>null</td><td>&quot;33℃&quot;</td><td>null</td><td>&quot;Testis&quot;</td><td>&quot;C57BL6&quot;</td><td>&quot;Mageb4 KO&quot;</td><td>&quot;PAIRED&quot;</td><td>null</td><td>&quot;Illumina HiSeq 4000&quot;</td><td>&quot;Mageb4 KO 72h after heat shock…</td><td>&quot;Testis&quot;</td></tr><tr><td>30</td><td>&quot;SRP151770&quot;</td><td>239</td><td>&quot;SRR7463322&quot;</td><td>&quot;SRR7463318&quot;</td><td>&quot;RNA-seq&quot;</td><td>&quot;cDNA&quot;</td><td>&quot;43℃&quot;</td><td>&quot;30min.&quot;</td><td>&quot;water bath&quot;</td><td>&quot;37℃&quot;</td><td>null</td><td>&quot;Vestibular system tissue (Utri…</td><td>&quot;CBA/J&quot;</td><td>null</td><td>&quot;PAIRED&quot;</td><td>null</td><td>&quot;Illumina HiSeq 1500&quot;</td><td>&quot;Adult mause (P30-P60), 2h reco…</td><td>&quot;Vestibular-system-tissue-Utric…</td></tr><tr><td>null</td><td>null</td><td>240</td><td>&quot;SRR7463323&quot;</td><td>&quot;SRR7463319&quot;</td><td>&quot;RNA-seq&quot;</td><td>&quot;cDNA&quot;</td><td>&quot;43℃&quot;</td><td>&quot;30min.&quot;</td><td>&quot;water bath&quot;</td><td>&quot;37℃&quot;</td><td>null</td><td>&quot;Vestibular system tissue (Utri…</td><td>&quot;CBA/J&quot;</td><td>null</td><td>&quot;PAIRED&quot;</td><td>null</td><td>&quot;Illumina HiSeq 1500&quot;</td><td>&quot;Adult mause (P30-P60), 2h reco…</td><td>&quot;Vestibular-system-tissue-Utric…</td></tr><tr><td>null</td><td>null</td><td>241</td><td>&quot;SRR7463324&quot;</td><td>&quot;SRR7463320&quot;</td><td>&quot;RNA-seq&quot;</td><td>&quot;cDNA&quot;</td><td>&quot;43℃&quot;</td><td>&quot;30min.&quot;</td><td>&quot;water bath&quot;</td><td>&quot;37℃&quot;</td><td>null</td><td>&quot;Vestibular system tissue (Utri…</td><td>&quot;CBA/J&quot;</td><td>null</td><td>&quot;PAIRED&quot;</td><td>null</td><td>&quot;Illumina HiSeq 1500&quot;</td><td>&quot;Adult mause (P30-P60), 2h reco…</td><td>&quot;Vestibular-system-tissue-Utric…</td></tr><tr><td>null</td><td>null</td><td>242</td><td>&quot;SRR7463325&quot;</td><td>&quot;SRR7463321&quot;</td><td>&quot;RNA-seq&quot;</td><td>&quot;cDNA&quot;</td><td>&quot;43℃&quot;</td><td>&quot;30min.&quot;</td><td>&quot;water bath&quot;</td><td>&quot;37℃&quot;</td><td>null</td><td>&quot;Vestibular system tissue (Utri…</td><td>&quot;CBA/J&quot;</td><td>null</td><td>&quot;PAIRED&quot;</td><td>null</td><td>&quot;Illumina HiSeq 1500&quot;</td><td>&quot;Adult mause (P30-P60), 2h reco…</td><td>&quot;Vestibular-system-tissue-Utric…</td></tr></tbody></table></div>"
      ],
      "text/plain": [
       "shape: (242, 20)\n",
       "┌─────────────┬───────────┬──────┬─────────────┬───┬──────┬─────────────┬─────────────┬────────────┐\n",
       "│ SRA study   ┆ SRA Study ┆ pair ┆ Source of   ┆ … ┆ RNA  ┆ Instrument  ┆ note        ┆ sample     │\n",
       "│ count       ┆ ---       ┆ ---  ┆ Stress      ┆   ┆ ---  ┆ ---         ┆ ---         ┆ ---        │\n",
       "│ ---         ┆ str       ┆ i64  ┆ (Condition) ┆   ┆ str  ┆ str         ┆ str         ┆ str        │\n",
       "│ i64         ┆           ┆      ┆ ---         ┆   ┆      ┆             ┆             ┆            │\n",
       "│             ┆           ┆      ┆ str         ┆   ┆      ┆             ┆             ┆            │\n",
       "╞═════════════╪═══════════╪══════╪═════════════╪═══╪══════╪═════════════╪═════════════╪════════════╡\n",
       "│ 1           ┆ SRP212072 ┆ 1    ┆ SRR9601002  ┆ … ┆ null ┆ Illumina    ┆ control     ┆ B16-OVAmou │\n",
       "│             ┆           ┆      ┆             ┆   ┆      ┆ NovaSeq     ┆ siRNA       ┆ se-melanom │\n",
       "│             ┆           ┆      ┆             ┆   ┆      ┆ 6000        ┆             ┆ a-cell     │\n",
       "│ null        ┆ null      ┆ 2    ┆ SRR9601003  ┆ … ┆ null ┆ Illumina    ┆ control     ┆ B16-OVAmou │\n",
       "│             ┆           ┆      ┆             ┆   ┆      ┆ NovaSeq     ┆ siRNA       ┆ se-melanom │\n",
       "│             ┆           ┆      ┆             ┆   ┆      ┆ 6000        ┆             ┆ a-cell     │\n",
       "│ null        ┆ null      ┆ 3    ┆ SRR9601008  ┆ … ┆ null ┆ Illumina    ┆ pool of     ┆ B16-OVAmou │\n",
       "│             ┆           ┆      ┆             ┆   ┆      ┆ NovaSeq     ┆ siRNAs      ┆ se-melanom │\n",
       "│             ┆           ┆      ┆             ┆   ┆      ┆ 6000        ┆ against YAP ┆ a-cell     │\n",
       "│             ┆           ┆      ┆             ┆   ┆      ┆             ┆ and…        ┆            │\n",
       "│ null        ┆ null      ┆ 4    ┆ SRR9601009  ┆ … ┆ null ┆ Illumina    ┆ pool of     ┆ B16-OVAmou │\n",
       "│             ┆           ┆      ┆             ┆   ┆      ┆ NovaSeq     ┆ siRNAs      ┆ se-melanom │\n",
       "│             ┆           ┆      ┆             ┆   ┆      ┆ 6000        ┆ against YAP ┆ a-cell     │\n",
       "│             ┆           ┆      ┆             ┆   ┆      ┆             ┆ and…        ┆            │\n",
       "│ null        ┆ null      ┆ 5    ┆ SRR9601010  ┆ … ┆ null ┆ Illumina    ┆ pool of     ┆ B16-OVAmou │\n",
       "│             ┆           ┆      ┆             ┆   ┆      ┆ NovaSeq     ┆ siRNAs      ┆ se-melanom │\n",
       "│             ┆           ┆      ┆             ┆   ┆      ┆ 6000        ┆ against YAP ┆ a-cell     │\n",
       "│             ┆           ┆      ┆             ┆   ┆      ┆             ┆ and…        ┆            │\n",
       "│ …           ┆ …         ┆ …    ┆ …           ┆ … ┆ …    ┆ …           ┆ …           ┆ …          │\n",
       "│ null        ┆ null      ┆ 238  ┆ SRR11684186 ┆ … ┆ null ┆ Illumina    ┆ Mageb4 KO   ┆ Testis     │\n",
       "│             ┆           ┆      ┆             ┆   ┆      ┆ HiSeq 4000  ┆ 72h after   ┆            │\n",
       "│             ┆           ┆      ┆             ┆   ┆      ┆             ┆ heat shock… ┆            │\n",
       "│ 30          ┆ SRP151770 ┆ 239  ┆ SRR7463322  ┆ … ┆ null ┆ Illumina    ┆ Adult mause ┆ Vestibular │\n",
       "│             ┆           ┆      ┆             ┆   ┆      ┆ HiSeq 1500  ┆ (P30-P60),  ┆ -system-ti │\n",
       "│             ┆           ┆      ┆             ┆   ┆      ┆             ┆ 2h reco…    ┆ ssue-Utric │\n",
       "│             ┆           ┆      ┆             ┆   ┆      ┆             ┆             ┆ …          │\n",
       "│ null        ┆ null      ┆ 240  ┆ SRR7463323  ┆ … ┆ null ┆ Illumina    ┆ Adult mause ┆ Vestibular │\n",
       "│             ┆           ┆      ┆             ┆   ┆      ┆ HiSeq 1500  ┆ (P30-P60),  ┆ -system-ti │\n",
       "│             ┆           ┆      ┆             ┆   ┆      ┆             ┆ 2h reco…    ┆ ssue-Utric │\n",
       "│             ┆           ┆      ┆             ┆   ┆      ┆             ┆             ┆ …          │\n",
       "│ null        ┆ null      ┆ 241  ┆ SRR7463324  ┆ … ┆ null ┆ Illumina    ┆ Adult mause ┆ Vestibular │\n",
       "│             ┆           ┆      ┆             ┆   ┆      ┆ HiSeq 1500  ┆ (P30-P60),  ┆ -system-ti │\n",
       "│             ┆           ┆      ┆             ┆   ┆      ┆             ┆ 2h reco…    ┆ ssue-Utric │\n",
       "│             ┆           ┆      ┆             ┆   ┆      ┆             ┆             ┆ …          │\n",
       "│ null        ┆ null      ┆ 242  ┆ SRR7463325  ┆ … ┆ null ┆ Illumina    ┆ Adult mause ┆ Vestibular │\n",
       "│             ┆           ┆      ┆             ┆   ┆      ┆ HiSeq 1500  ┆ (P30-P60),  ┆ -system-ti │\n",
       "│             ┆           ┆      ┆             ┆   ┆      ┆             ┆ 2h reco…    ┆ ssue-Utric │\n",
       "│             ┆           ┆      ┆             ┆   ┆      ┆             ┆             ┆ …          │\n",
       "└─────────────┴───────────┴──────┴─────────────┴───┴──────┴─────────────┴─────────────┴────────────┘"
      ]
     },
     "metadata": {},
     "output_type": "display_data"
    }
   ],
   "source": [
    "# polars method: https://docs.pola.rs/api/python/stable/reference/expressions/api/polars.Expr.str.replace_all.html#polars-expr-str-replace-all\n",
    "\n",
    "metadata = pl.read_csv(\n",
    "    \"../Data/Data_HNscore/HS_mouse_meta-data.csv\",\n",
    "    separator=\",\"\n",
    ").with_columns( # Cell-line(type) が null の場合は tissue を sample として使用し、統合する\n",
    "    pl.when(pl.col(\"Cell-line(type)\").is_not_null())\n",
    "    .then(pl.col(\"Cell-line(type)\"))\n",
    "    .otherwise(pl.col(\"tissue\"))\n",
    "    .alias(\"sample\")\n",
    ").with_columns([\n",
    "    pl.col(\"sample\")\n",
    "        .str.replace_all(\",\", \" \")  # , to space\n",
    "        .str.replace_all(r\"\\s+\", \" \")  # replace continuous spaces with one space\n",
    "        .str.replace_all(r\"[()]\", \"\")  # remove parentheses (  )\n",
    "        .str.replace_all(r\"\\s+$\", \"\")  # remove trailing spaces ('\\s+' matches any whitespace character, and '$' matches the end of the string)\n",
    "        .str.replace_all(\" \", \"-\")  # replace remaining spaces with hyphen\n",
    "    ]\n",
    ")\n",
    "\n",
    "display(metadata)"
   ]
  },
  {
   "cell_type": "code",
   "execution_count": 5,
   "metadata": {},
   "outputs": [
    {
     "data": {
      "text/html": [
       "<div><style>\n",
       ".dataframe > thead > tr,\n",
       ".dataframe > tbody > tr {\n",
       "  text-align: right;\n",
       "  white-space: pre-wrap;\n",
       "}\n",
       "</style>\n",
       "<small>shape: (22_216, 243)</small><table border=\"1\" class=\"dataframe\"><thead><tr><th>GENEID</th><th>SRR8835898</th><th>SRR8835908</th><th>SRR8835910</th><th>SRR8835917</th><th>SRR8835894</th><th>SRR8835928</th><th>SRR8835900</th><th>SRR8835904</th><th>SRR8835891</th><th>SRR8835916</th><th>SRR8835920</th><th>SRR8835935</th><th>SRR2068908</th><th>SRR2068909</th><th>SRR2068912</th><th>SRR2068913</th><th>SRR8494667</th><th>SRR8494669</th><th>SRR8494671</th><th>SRR8494673</th><th>SRR8494675</th><th>SRR8494677</th><th>SRR8494679</th><th>SRR8494681</th><th>SRR8494691</th><th>SRR8494693</th><th>SRR8494695</th><th>SRR8494697</th><th>SRR8494699</th><th>SRR8494701</th><th>SRR8494703</th><th>SRR8494705</th><th>SRR7092927</th><th>SRR7092929</th><th>SRR6439785</th><th>SRR6439787</th><th>&hellip;</th><th>SRR8713378</th><th>SRR8713379</th><th>SRR8713368</th><th>SRR8713369</th><th>SRR8713370</th><th>SRR2144180</th><th>SRR2144181</th><th>SRR2144182</th><th>SRR2144183</th><th>SRR2144184</th><th>SRR2144185</th><th>SRR2144188</th><th>SRR2144189</th><th>SRR2144190</th><th>SRR2144191</th><th>SRR2144192</th><th>SRR2144193</th><th>SRR2144196</th><th>SRR2144197</th><th>SRR2144198</th><th>SRR2144199</th><th>SRR2144200</th><th>SRR2144201</th><th>SRR7458429</th><th>SRR6262112</th><th>SRR6262113</th><th>SRR6262116</th><th>SRR6262117</th><th>SRR6262104</th><th>SRR6262105</th><th>SRR6262108</th><th>SRR6262109</th><th>SRR13571065</th><th>SRR13571066</th><th>SRR13571067</th><th>SRR3624807</th><th>SRR3624808</th></tr><tr><td>str</td><td>f64</td><td>f64</td><td>f64</td><td>f64</td><td>f64</td><td>f64</td><td>f64</td><td>f64</td><td>f64</td><td>f64</td><td>f64</td><td>f64</td><td>f64</td><td>f64</td><td>f64</td><td>f64</td><td>f64</td><td>f64</td><td>f64</td><td>f64</td><td>f64</td><td>f64</td><td>f64</td><td>f64</td><td>f64</td><td>f64</td><td>f64</td><td>f64</td><td>f64</td><td>f64</td><td>f64</td><td>f64</td><td>f64</td><td>f64</td><td>f64</td><td>f64</td><td>&hellip;</td><td>f64</td><td>f64</td><td>f64</td><td>f64</td><td>f64</td><td>f64</td><td>f64</td><td>f64</td><td>f64</td><td>f64</td><td>f64</td><td>f64</td><td>f64</td><td>f64</td><td>f64</td><td>f64</td><td>f64</td><td>f64</td><td>f64</td><td>f64</td><td>f64</td><td>f64</td><td>f64</td><td>f64</td><td>f64</td><td>f64</td><td>f64</td><td>f64</td><td>f64</td><td>f64</td><td>f64</td><td>f64</td><td>f64</td><td>f64</td><td>f64</td><td>f64</td><td>f64</td></tr></thead><tbody><tr><td>&quot;0610009B22Rik&quot;</td><td>0.888477</td><td>0.472901</td><td>0.585592</td><td>1.348745</td><td>0.704214</td><td>1.117431</td><td>0.731358</td><td>1.519465</td><td>1.117518</td><td>0.669057</td><td>0.93911</td><td>85.817063</td><td>0.683529</td><td>1.298941</td><td>1.171331</td><td>1.090664</td><td>3.972982</td><td>0.812053</td><td>1.451236</td><td>1.703709</td><td>4.024009</td><td>0.632686</td><td>0.899325</td><td>1.003064</td><td>0.781833</td><td>0.533815</td><td>0.594683</td><td>0.897912</td><td>0.86295</td><td>0.529685</td><td>0.727475</td><td>1.640231</td><td>0.704483</td><td>0.985401</td><td>1.506928</td><td>0.921028</td><td>&hellip;</td><td>0.383905</td><td>0.412896</td><td>2.652033</td><td>1.102511</td><td>1.32436</td><td>0.961777</td><td>1.379101</td><td>1.669197</td><td>1.870865</td><td>1.14608</td><td>0.323536</td><td>0.171554</td><td>0.110785</td><td>1.069491</td><td>0.804621</td><td>1.319187</td><td>1.681715</td><td>0.454974</td><td>0.36019</td><td>1.244047</td><td>1.56152</td><td>2.376479</td><td>0.917361</td><td>1.21097</td><td>4.522056</td><td>0.625339</td><td>1.475054</td><td>4.652027</td><td>0.533154</td><td>1.523169</td><td>3.681419</td><td>1.290168</td><td>1.0</td><td>1.0</td><td>0.220645</td><td>1.515786</td><td>1.264775</td></tr><tr><td>&quot;0610010F05Rik&quot;</td><td>1.301893</td><td>0.993249</td><td>1.09083</td><td>1.752709</td><td>1.050022</td><td>0.740508</td><td>0.682207</td><td>0.8303</td><td>1.085242</td><td>0.866288</td><td>0.591468</td><td>15.849933</td><td>0.560752</td><td>1.025288</td><td>0.400601</td><td>0.535501</td><td>5.144965</td><td>1.154868</td><td>1.170252</td><td>0.726107</td><td>3.947539</td><td>1.440232</td><td>1.060984</td><td>0.52689</td><td>0.779771</td><td>0.811449</td><td>1.030146</td><td>1.492635</td><td>1.17172</td><td>1.518397</td><td>0.314611</td><td>0.566165</td><td>0.938511</td><td>1.785951</td><td>1.294</td><td>0.625073</td><td>&hellip;</td><td>2.930904</td><td>3.840904</td><td>2.808893</td><td>2.087653</td><td>2.51252</td><td>0.993413</td><td>0.968014</td><td>0.907144</td><td>0.673175</td><td>1.130497</td><td>0.131761</td><td>0.135847</td><td>0.084142</td><td>0.39776</td><td>0.879705</td><td>0.175334</td><td>0.470106</td><td>0.521215</td><td>0.574091</td><td>1.313915</td><td>2.045847</td><td>3.026641</td><td>1.201071</td><td>3.137886</td><td>0.922749</td><td>0.952688</td><td>1.490413</td><td>3.486095</td><td>1.030767</td><td>2.252301</td><td>3.749367</td><td>2.454809</td><td>3.99786</td><td>1.0</td><td>7.577615</td><td>1.197426</td><td>0.745424</td></tr><tr><td>&quot;0610010K14Rik&quot;</td><td>1.633539</td><td>0.318482</td><td>1.338232</td><td>1.319906</td><td>0.724082</td><td>0.865305</td><td>1.264106</td><td>0.721409</td><td>0.853692</td><td>0.831326</td><td>0.56246</td><td>38.462246</td><td>0.752448</td><td>0.81768</td><td>0.654543</td><td>0.767625</td><td>1.440976</td><td>0.934084</td><td>1.28849</td><td>2.238425</td><td>2.591539</td><td>1.421317</td><td>1.197143</td><td>1.303096</td><td>0.659862</td><td>0.470973</td><td>1.10723</td><td>0.856258</td><td>0.926049</td><td>0.758249</td><td>1.883928</td><td>1.692645</td><td>0.868496</td><td>0.905947</td><td>1.372529</td><td>0.700447</td><td>&hellip;</td><td>2.525657</td><td>4.993299</td><td>0.138346</td><td>1.894906</td><td>1.212691</td><td>0.784016</td><td>3.765472</td><td>1.417482</td><td>2.660671</td><td>2.489764</td><td>0.061067</td><td>0.122587</td><td>0.063433</td><td>0.561869</td><td>1.114533</td><td>0.302764</td><td>0.847027</td><td>0.10486</td><td>0.198684</td><td>1.017632</td><td>1.573518</td><td>4.862532</td><td>0.990388</td><td>2.190758</td><td>0.945129</td><td>1.410564</td><td>3.398298</td><td>3.138838</td><td>1.568461</td><td>1.842289</td><td>4.277982</td><td>1.101588</td><td>1.0</td><td>1.0</td><td>1.0</td><td>0.889799</td><td>0.451231</td></tr><tr><td>&quot;0610012G03Rik&quot;</td><td>1.250494</td><td>0.584869</td><td>0.65624</td><td>1.862847</td><td>0.672534</td><td>1.072469</td><td>0.93719</td><td>1.019688</td><td>1.160474</td><td>0.888001</td><td>0.862622</td><td>44.619135</td><td>1.20957</td><td>1.084018</td><td>0.874951</td><td>1.16311</td><td>3.893803</td><td>1.00418</td><td>1.094192</td><td>1.09372</td><td>3.786643</td><td>0.936483</td><td>0.850894</td><td>0.878284</td><td>0.884353</td><td>0.670857</td><td>0.888402</td><td>1.076101</td><td>0.951451</td><td>0.911551</td><td>1.301394</td><td>1.298785</td><td>1.020867</td><td>0.918052</td><td>1.547709</td><td>0.936264</td><td>&hellip;</td><td>0.593911</td><td>0.869913</td><td>1.763948</td><td>1.039949</td><td>0.690518</td><td>0.645407</td><td>0.959884</td><td>0.788437</td><td>1.250749</td><td>0.479205</td><td>0.114527</td><td>0.175591</td><td>0.126335</td><td>0.410451</td><td>0.755652</td><td>0.27686</td><td>0.544098</td><td>0.417934</td><td>0.435387</td><td>1.295517</td><td>1.573813</td><td>2.122747</td><td>0.908573</td><td>1.038196</td><td>1.24298</td><td>1.100001</td><td>1.630976</td><td>2.65972</td><td>0.805139</td><td>1.393825</td><td>3.264708</td><td>1.688933</td><td>1.0</td><td>1.0</td><td>1.0</td><td>0.704087</td><td>0.848764</td></tr><tr><td>&quot;0610030E20Rik&quot;</td><td>1.021152</td><td>0.592594</td><td>0.937276</td><td>1.702173</td><td>0.969005</td><td>0.994161</td><td>0.79712</td><td>1.067343</td><td>1.102271</td><td>0.818644</td><td>0.740996</td><td>14.696016</td><td>1.271687</td><td>1.676788</td><td>1.217478</td><td>1.057126</td><td>3.407591</td><td>0.987954</td><td>1.230204</td><td>1.284855</td><td>3.440074</td><td>1.027005</td><td>0.999894</td><td>0.956125</td><td>1.048658</td><td>0.856726</td><td>0.783964</td><td>1.710998</td><td>1.163853</td><td>0.883653</td><td>0.392347</td><td>1.181293</td><td>0.940056</td><td>1.045307</td><td>1.68274</td><td>1.228969</td><td>&hellip;</td><td>0.452919</td><td>0.938376</td><td>1.586889</td><td>1.608499</td><td>0.803457</td><td>0.671671</td><td>0.846702</td><td>0.875221</td><td>1.255595</td><td>0.929695</td><td>0.464893</td><td>0.133031</td><td>0.114722</td><td>0.473275</td><td>0.718657</td><td>0.32218</td><td>0.691429</td><td>0.387403</td><td>0.32547</td><td>1.196692</td><td>1.314845</td><td>1.865166</td><td>0.756126</td><td>1.055833</td><td>1.058612</td><td>1.316062</td><td>2.006645</td><td>3.718134</td><td>0.675485</td><td>1.299097</td><td>3.87085</td><td>2.194397</td><td>0.688592</td><td>0.163139</td><td>0.183326</td><td>1.270474</td><td>1.272291</td></tr><tr><td>&hellip;</td><td>&hellip;</td><td>&hellip;</td><td>&hellip;</td><td>&hellip;</td><td>&hellip;</td><td>&hellip;</td><td>&hellip;</td><td>&hellip;</td><td>&hellip;</td><td>&hellip;</td><td>&hellip;</td><td>&hellip;</td><td>&hellip;</td><td>&hellip;</td><td>&hellip;</td><td>&hellip;</td><td>&hellip;</td><td>&hellip;</td><td>&hellip;</td><td>&hellip;</td><td>&hellip;</td><td>&hellip;</td><td>&hellip;</td><td>&hellip;</td><td>&hellip;</td><td>&hellip;</td><td>&hellip;</td><td>&hellip;</td><td>&hellip;</td><td>&hellip;</td><td>&hellip;</td><td>&hellip;</td><td>&hellip;</td><td>&hellip;</td><td>&hellip;</td><td>&hellip;</td><td>&hellip;</td><td>&hellip;</td><td>&hellip;</td><td>&hellip;</td><td>&hellip;</td><td>&hellip;</td><td>&hellip;</td><td>&hellip;</td><td>&hellip;</td><td>&hellip;</td><td>&hellip;</td><td>&hellip;</td><td>&hellip;</td><td>&hellip;</td><td>&hellip;</td><td>&hellip;</td><td>&hellip;</td><td>&hellip;</td><td>&hellip;</td><td>&hellip;</td><td>&hellip;</td><td>&hellip;</td><td>&hellip;</td><td>&hellip;</td><td>&hellip;</td><td>&hellip;</td><td>&hellip;</td><td>&hellip;</td><td>&hellip;</td><td>&hellip;</td><td>&hellip;</td><td>&hellip;</td><td>&hellip;</td><td>&hellip;</td><td>&hellip;</td><td>&hellip;</td><td>&hellip;</td><td>&hellip;</td></tr><tr><td>&quot;Zyg11a&quot;</td><td>1.0</td><td>1.0</td><td>1.0</td><td>1.0</td><td>0.973238</td><td>1.827013</td><td>1.344066</td><td>1.0</td><td>1.0</td><td>0.719475</td><td>0.515846</td><td>1.0</td><td>1.026694</td><td>1.0</td><td>1.0</td><td>1.0</td><td>4.448667</td><td>1.292855</td><td>1.122761</td><td>0.845902</td><td>2.963954</td><td>1.045997</td><td>0.784728</td><td>0.531484</td><td>1.021725</td><td>0.901062</td><td>1.162395</td><td>2.059765</td><td>1.270635</td><td>1.019143</td><td>0.719271</td><td>1.465642</td><td>1.567627</td><td>1.683079</td><td>1.613723</td><td>1.390324</td><td>&hellip;</td><td>0.355615</td><td>1.905806</td><td>0.676304</td><td>1.96695</td><td>1.907713</td><td>0.602463</td><td>1.915324</td><td>0.774462</td><td>2.016133</td><td>0.227295</td><td>0.681702</td><td>0.19319</td><td>0.26282</td><td>0.656868</td><td>0.873219</td><td>0.14958</td><td>0.589541</td><td>0.44485</td><td>0.872924</td><td>1.645588</td><td>2.021728</td><td>4.286222</td><td>0.708096</td><td>1.0</td><td>1.0</td><td>1.0</td><td>1.0</td><td>1.0</td><td>1.0</td><td>1.0</td><td>1.0</td><td>1.0</td><td>1.0</td><td>1.0</td><td>1.0</td><td>1.0</td><td>1.0</td></tr><tr><td>&quot;Zyg11b&quot;</td><td>0.994437</td><td>0.66339</td><td>0.745125</td><td>1.312598</td><td>0.914898</td><td>0.95033</td><td>0.724292</td><td>0.870226</td><td>1.237933</td><td>0.651999</td><td>0.678492</td><td>24.613296</td><td>1.985538</td><td>2.592013</td><td>1.648944</td><td>1.524093</td><td>2.629524</td><td>0.923297</td><td>1.043034</td><td>1.223348</td><td>4.242868</td><td>0.965024</td><td>1.227664</td><td>0.870982</td><td>0.630988</td><td>0.613768</td><td>1.047167</td><td>1.185174</td><td>0.827868</td><td>0.652681</td><td>0.457</td><td>0.795573</td><td>1.036817</td><td>1.199099</td><td>1.228439</td><td>0.66729</td><td>&hellip;</td><td>0.344432</td><td>0.76494</td><td>1.661084</td><td>1.545867</td><td>0.786571</td><td>0.696414</td><td>0.89196</td><td>0.945218</td><td>1.207455</td><td>0.737793</td><td>0.256676</td><td>0.154483</td><td>0.122135</td><td>0.923125</td><td>0.775715</td><td>0.493501</td><td>0.751197</td><td>0.376012</td><td>0.398141</td><td>1.357582</td><td>1.849383</td><td>2.040356</td><td>0.833846</td><td>1.755919</td><td>1.138647</td><td>1.097232</td><td>1.753397</td><td>2.638969</td><td>0.993845</td><td>1.518296</td><td>3.121326</td><td>1.862767</td><td>0.74089</td><td>0.723912</td><td>0.305844</td><td>1.76592</td><td>1.899622</td></tr><tr><td>&quot;Zyx&quot;</td><td>1.275867</td><td>0.965967</td><td>2.341929</td><td>1.488114</td><td>1.030547</td><td>1.513087</td><td>1.050897</td><td>1.446074</td><td>1.122784</td><td>1.106898</td><td>0.815169</td><td>63.610783</td><td>0.798922</td><td>0.858592</td><td>0.763679</td><td>0.721231</td><td>2.596931</td><td>1.454483</td><td>1.018799</td><td>1.805756</td><td>1.540682</td><td>1.006681</td><td>0.963536</td><td>1.01631</td><td>1.467409</td><td>0.87477</td><td>1.456489</td><td>1.83863</td><td>1.207955</td><td>1.047385</td><td>1.490037</td><td>1.92328</td><td>0.950041</td><td>0.930051</td><td>1.463243</td><td>0.875306</td><td>&hellip;</td><td>0.602322</td><td>0.879179</td><td>1.167843</td><td>1.064288</td><td>0.547484</td><td>1.00292</td><td>0.970587</td><td>1.276776</td><td>1.731226</td><td>0.420698</td><td>0.153198</td><td>0.292484</td><td>0.384555</td><td>0.585109</td><td>0.996457</td><td>0.139115</td><td>0.341271</td><td>0.684487</td><td>0.606121</td><td>1.157441</td><td>1.525141</td><td>1.148903</td><td>0.417653</td><td>2.079308</td><td>1.187035</td><td>1.141538</td><td>2.081448</td><td>2.398587</td><td>0.782831</td><td>1.664471</td><td>3.111907</td><td>2.088015</td><td>1.0</td><td>1.0</td><td>1.0</td><td>2.634107</td><td>2.940409</td></tr><tr><td>&quot;Zzef1&quot;</td><td>1.191587</td><td>0.563984</td><td>0.8697</td><td>1.050962</td><td>1.031487</td><td>0.900483</td><td>0.494193</td><td>0.748082</td><td>0.825709</td><td>0.662769</td><td>0.711284</td><td>13.496464</td><td>0.688491</td><td>0.778738</td><td>0.60582</td><td>0.492164</td><td>2.19875</td><td>1.18821</td><td>1.112506</td><td>0.752494</td><td>1.950098</td><td>0.829355</td><td>0.929342</td><td>0.592801</td><td>0.796896</td><td>0.74645</td><td>1.111459</td><td>1.521453</td><td>1.052057</td><td>1.015253</td><td>0.461959</td><td>0.910054</td><td>0.997978</td><td>1.027312</td><td>1.402163</td><td>0.747191</td><td>&hellip;</td><td>1.330052</td><td>1.917841</td><td>1.524738</td><td>1.168699</td><td>0.82248</td><td>0.725427</td><td>0.980424</td><td>1.208675</td><td>1.298102</td><td>1.449719</td><td>0.57576</td><td>0.211162</td><td>0.209631</td><td>0.575313</td><td>0.898802</td><td>0.575756</td><td>1.204846</td><td>0.433979</td><td>0.452476</td><td>1.128795</td><td>1.57966</td><td>3.014792</td><td>1.071002</td><td>4.600872</td><td>1.052756</td><td>0.955161</td><td>1.805878</td><td>2.885652</td><td>0.919514</td><td>1.849519</td><td>3.474287</td><td>2.121918</td><td>1.0</td><td>1.0</td><td>1.0</td><td>1.413741</td><td>1.356466</td></tr><tr><td>&quot;Zzz3&quot;</td><td>0.873637</td><td>0.787087</td><td>0.749408</td><td>1.417882</td><td>0.933958</td><td>0.889822</td><td>0.726374</td><td>1.102629</td><td>1.240393</td><td>0.670844</td><td>1.1104</td><td>32.72165</td><td>1.186512</td><td>1.569736</td><td>1.314679</td><td>1.198354</td><td>4.853788</td><td>1.411665</td><td>0.981524</td><td>0.958972</td><td>4.041306</td><td>0.967772</td><td>1.144439</td><td>0.821079</td><td>1.224264</td><td>1.114803</td><td>1.53933</td><td>1.746949</td><td>1.526022</td><td>1.241964</td><td>0.384111</td><td>0.839649</td><td>0.862402</td><td>1.238286</td><td>1.55342</td><td>0.91173</td><td>&hellip;</td><td>0.372677</td><td>1.276997</td><td>1.474507</td><td>1.873246</td><td>0.486167</td><td>0.618274</td><td>0.889404</td><td>0.877035</td><td>1.280387</td><td>0.965744</td><td>0.250172</td><td>0.135984</td><td>0.141872</td><td>0.467432</td><td>0.803547</td><td>0.262995</td><td>0.663539</td><td>0.397827</td><td>0.362416</td><td>1.067775</td><td>1.453055</td><td>1.589243</td><td>0.650697</td><td>0.691367</td><td>1.342813</td><td>1.282117</td><td>2.160802</td><td>3.045137</td><td>0.755807</td><td>2.00166</td><td>3.504359</td><td>2.325644</td><td>0.973647</td><td>0.804182</td><td>0.648348</td><td>3.398064</td><td>4.806367</td></tr></tbody></table></div>"
      ],
      "text/plain": [
       "shape: (22_216, 243)\n",
       "┌───────────┬───────────┬───────────┬───────────┬───┬───────────┬───────────┬───────────┬──────────┐\n",
       "│ GENEID    ┆ SRR883589 ┆ SRR883590 ┆ SRR883591 ┆ … ┆ SRR135710 ┆ SRR135710 ┆ SRR362480 ┆ SRR36248 │\n",
       "│ ---       ┆ 8         ┆ 8         ┆ 0         ┆   ┆ 66        ┆ 67        ┆ 7         ┆ 08       │\n",
       "│ str       ┆ ---       ┆ ---       ┆ ---       ┆   ┆ ---       ┆ ---       ┆ ---       ┆ ---      │\n",
       "│           ┆ f64       ┆ f64       ┆ f64       ┆   ┆ f64       ┆ f64       ┆ f64       ┆ f64      │\n",
       "╞═══════════╪═══════════╪═══════════╪═══════════╪═══╪═══════════╪═══════════╪═══════════╪══════════╡\n",
       "│ 0610009B2 ┆ 0.888477  ┆ 0.472901  ┆ 0.585592  ┆ … ┆ 1.0       ┆ 0.220645  ┆ 1.515786  ┆ 1.264775 │\n",
       "│ 2Rik      ┆           ┆           ┆           ┆   ┆           ┆           ┆           ┆          │\n",
       "│ 0610010F0 ┆ 1.301893  ┆ 0.993249  ┆ 1.09083   ┆ … ┆ 1.0       ┆ 7.577615  ┆ 1.197426  ┆ 0.745424 │\n",
       "│ 5Rik      ┆           ┆           ┆           ┆   ┆           ┆           ┆           ┆          │\n",
       "│ 0610010K1 ┆ 1.633539  ┆ 0.318482  ┆ 1.338232  ┆ … ┆ 1.0       ┆ 1.0       ┆ 0.889799  ┆ 0.451231 │\n",
       "│ 4Rik      ┆           ┆           ┆           ┆   ┆           ┆           ┆           ┆          │\n",
       "│ 0610012G0 ┆ 1.250494  ┆ 0.584869  ┆ 0.65624   ┆ … ┆ 1.0       ┆ 1.0       ┆ 0.704087  ┆ 0.848764 │\n",
       "│ 3Rik      ┆           ┆           ┆           ┆   ┆           ┆           ┆           ┆          │\n",
       "│ 0610030E2 ┆ 1.021152  ┆ 0.592594  ┆ 0.937276  ┆ … ┆ 0.163139  ┆ 0.183326  ┆ 1.270474  ┆ 1.272291 │\n",
       "│ 0Rik      ┆           ┆           ┆           ┆   ┆           ┆           ┆           ┆          │\n",
       "│ …         ┆ …         ┆ …         ┆ …         ┆ … ┆ …         ┆ …         ┆ …         ┆ …        │\n",
       "│ Zyg11a    ┆ 1.0       ┆ 1.0       ┆ 1.0       ┆ … ┆ 1.0       ┆ 1.0       ┆ 1.0       ┆ 1.0      │\n",
       "│ Zyg11b    ┆ 0.994437  ┆ 0.66339   ┆ 0.745125  ┆ … ┆ 0.723912  ┆ 0.305844  ┆ 1.76592   ┆ 1.899622 │\n",
       "│ Zyx       ┆ 1.275867  ┆ 0.965967  ┆ 2.341929  ┆ … ┆ 1.0       ┆ 1.0       ┆ 2.634107  ┆ 2.940409 │\n",
       "│ Zzef1     ┆ 1.191587  ┆ 0.563984  ┆ 0.8697    ┆ … ┆ 1.0       ┆ 1.0       ┆ 1.413741  ┆ 1.356466 │\n",
       "│ Zzz3      ┆ 0.873637  ┆ 0.787087  ┆ 0.749408  ┆ … ┆ 0.804182  ┆ 0.648348  ┆ 3.398064  ┆ 4.806367 │\n",
       "└───────────┴───────────┴───────────┴───────────┴───┴───────────┴───────────┴───────────┴──────────┘"
      ]
     },
     "metadata": {},
     "output_type": "display_data"
    }
   ],
   "source": [
    "HNratio = pl.read_csv(\n",
    "    \"../Data/Data_HNscore/HN-ratio_mouse_all.csv\", \n",
    "    separator=\",\"\n",
    ").rename(\n",
    "    {\n",
    "        \"GeneName\": \"GENEID\"\n",
    "    }\n",
    ")\n",
    "\n",
    "\n",
    "display(HNratio)"
   ]
  },
  {
   "cell_type": "code",
   "execution_count": 6,
   "metadata": {},
   "outputs": [
    {
     "name": "stdout",
     "output_type": "stream",
     "text": [
      "{'SRR9601002': 'B16-OVAmouse-melanoma-cell', 'SRR9601003': 'B16-OVAmouse-melanoma-cell', 'SRR9601008': 'B16-OVAmouse-melanoma-cell', 'SRR9601009': 'B16-OVAmouse-melanoma-cell', 'SRR9601010': 'B16-OVAmouse-melanoma-cell', 'SRR2068908': 'Splenic-B220+-cells', 'SRR2068909': 'Splenic-B220+-cells', 'SRR2068912': 'Splenic-B220+-cells', 'SRR2068913': 'Splenic-B220+-cells', 'SRR12044994': 'Mouse-splenic-CD4+-T-cells', 'SRR12044995': 'Mouse-splenic-CD4+-T-cells', 'SRR12044996': 'Mouse-splenic-CD4+-T-cells', 'SRR14119173': 'CD8-T-cell', 'SRR14119174': 'CD8-T-cell', 'SRR14119175': 'CD8-T-cell', 'SRR6439785': 'MEF-cells', 'SRR6439787': 'MEF-cells', 'SRR13125320': 'Mouse-embryonic-fibroblasts', 'SRR13125321': 'Mouse-embryonic-fibroblasts', 'SRR13125322': 'Mouse-embryonic-fibroblasts', 'SRR13125326': 'Mouse-embryonic-fibroblasts', 'SRR13125327': 'Mouse-embryonic-fibroblasts', 'SRR13125328': 'Mouse-embryonic-fibroblasts', 'SRR5558715': 'mouse-embryonic-fibroblasts', 'SRR5558716': 'mouse-embryonic-fibroblasts', 'SRR8713362': 'MEF', 'SRR8713363': 'MEF', 'SRR8713364': 'MEF', 'SRR8713365': 'MEF', 'SRR8713366': 'MEF', 'SRR8713367': 'MEF', 'SRR8713374': 'MEF', 'SRR8713375': 'MEF', 'SRR8713376': 'MEF', 'SRR8713377': 'MEF', 'SRR8713378': 'MEF', 'SRR8713379': 'MEF', 'SRR8713368': 'MEF', 'SRR8713369': 'MEF', 'SRR8713370': 'MEF', 'SRR2144180': 'MEF-cells', 'SRR2144181': 'MEF-cells', 'SRR2144182': 'MEF-cells', 'SRR2144183': 'MEF-cells', 'SRR2144184': 'MEF-cells', 'SRR2144185': 'MEF-cells', 'SRR2144188': 'MEF-cells', 'SRR2144189': 'MEF-cells', 'SRR2144190': 'MEF-cells', 'SRR2144191': 'MEF-cells', 'SRR2144192': 'MEF-cells', 'SRR2144193': 'MEF-cells', 'SRR2144196': 'MEF-cells', 'SRR2144197': 'MEF-cells', 'SRR2144198': 'MEF-cells', 'SRR2144199': 'MEF-cells', 'SRR2144200': 'MEF-cells', 'SRR2144201': 'MEF-cells', 'SRR7458429': 'MEF-cells', 'SRR6262112': 'immortalized-MEFs', 'SRR6262113': 'immortalized-MEFs', 'SRR6262116': 'immortalized-MEFs', 'SRR6262117': 'immortalized-MEFs', 'SRR6262104': 'immortalized-MEFs', 'SRR6262105': 'immortalized-MEFs', 'SRR6262108': 'immortalized-MEFs', 'SRR6262109': 'immortalized-MEFs', 'SRR8494667': 'mESC', 'SRR8494669': 'mESC', 'SRR8494671': 'mESC', 'SRR8494673': 'mESC', 'SRR8494675': 'mESC', 'SRR8494677': 'mESC', 'SRR8494679': 'mESC', 'SRR8494681': 'mESC', 'SRR8494691': 'mESC', 'SRR8494693': 'mESC', 'SRR8494695': 'mESC', 'SRR8494697': 'mESC', 'SRR8494699': 'mESC', 'SRR8494701': 'mESC', 'SRR8494703': 'mESC', 'SRR8494705': 'mESC', 'SRR6439788': 'mESC', 'SRR6439791': 'mESC', 'SRR8494668': 'mouse-embryonic-stem-cells', 'SRR8494670': 'mouse-embryonic-stem-cells', 'SRR8494672': 'mouse-embryonic-stem-cells', 'SRR8494674': 'mouse-embryonic-stem-cells', 'SRR8494676': 'mouse-embryonic-stem-cells', 'SRR8494678': 'mouse-embryonic-stem-cells', 'SRR8494680': 'mouse-embryonic-stem-cells', 'SRR8494682': 'mouse-embryonic-stem-cells', 'SRR8494692': 'mouse-embryonic-stem-cells', 'SRR8494694': 'mouse-embryonic-stem-cells', 'SRR8494696': 'mouse-embryonic-stem-cells', 'SRR8494698': 'mouse-embryonic-stem-cells', 'SRR8494700': 'mouse-embryonic-stem-cells', 'SRR8494702': 'mouse-embryonic-stem-cells', 'SRR8494704': 'mouse-embryonic-stem-cells', 'SRR8494706': 'mouse-embryonic-stem-cells', 'SRR5098222': 'mESC', 'SRR5098223': 'mESC', 'SRR5098224': 'mESC', 'SRR5098228': 'mESC', 'SRR5098229': 'mESC', 'SRR5098230': 'mESC', 'SRR5076803': 'NIH3T3', 'SRR5076804': 'NIH3T3', 'SRR5076805': 'NIH3T3', 'SRR5076806': 'NIH3T3', 'SRR1787569': 'NIH3T3', 'SRR1787570': 'NIH3T3', 'SRR1787571': 'NIH3T3', 'SRR1787572': 'NIH3T3', 'SRR1787573': 'NIH3T3', 'SRR1787574': 'NIH3T3', 'SRR649750': 'NIH/3T3-cells', 'SRR649751': 'NIH/3T3-cells', 'SRR649754': '3T3-cells', 'SRR649758': '3T3-cells', 'SRR649756': '3T3-cells', 'SRR649757': '3T3-cells', 'SRR3624807': 'NIH/3T3-Fibroblasts', 'SRR3624808': 'NIH/3T3-Fibroblasts', 'SRR17610122': 'Raw264.7.', 'SRR17610123': 'Raw264.7.', 'SRR17610124': 'Raw264.7.', 'SRR8451938': 'Th17-cells', 'SRR8451940': 'Th17-cells', 'SRR7092927': 'cortexbrain', 'SRR7092929': 'cortexbrain', 'SRR10363952': 'Cultured-utricles', 'SRR10363953': 'Cultured-utricles', 'SRR10363954': 'Cultured-utricles', 'SRR10363955': 'Cultured-utricles', 'SRR10363956': 'Cultured-utricles', 'SRR10363961': 'Cultured-utricles', 'SRR10363962': 'Cultured-utricles', 'SRR10363963': 'Cultured-utricles', 'SRR10363964': 'Cultured-utricles', 'SRR10363972': 'Cultured-utricles', 'SRR10363973': 'Cultured-utricles', 'SRR10363974': 'Cultured-utricles', 'SRR10363975': 'Cultured-utricles', 'SRR10363976': 'Cultured-utricles', 'SRR10363977': 'Cultured-utricles', 'SRR10363978': 'Cultured-utricles', 'SRR10363979': 'Cultured-utricles', 'SRR17417628': 'Fetal-jejunum', 'SRR17417629': 'Fetal-jejunum', 'SRR17417630': 'Fetal-jejunum', 'SRR17417644': 'Fetal-duodenum', 'SRR17417645': 'Fetal-duodenum', 'SRR17417632': 'Fetal-duodenum', 'SRR17417638': 'Placenta', 'SRR17417639': 'Placenta', 'SRR17417640': 'Placenta', 'SRR8760528': 'hypothalamus', 'SRR8760529': 'hypothalamus', 'SRR8760530': 'hypothalamus', 'SRR8760531': 'hypothalamus', 'SRR8760532': 'hypothalamus', 'SRR8760533': 'hypothalamus', 'SRR8760534': 'hypothalamus', 'SRR8760535': 'hypothalamus', 'SRR8760544': 'mammary-gland', 'SRR8760545': 'mammary-gland', 'SRR8760546': 'mammary-gland', 'SRR8760547': 'mammary-gland', 'SRR8760548': 'mammary-gland', 'SRR8760549': 'mammary-gland', 'SRR8760550': 'mammary-gland', 'SRR8760551': 'mammary-gland', 'SRR8760513': 'pituitary', 'SRR8760514': 'pituitary', 'SRR8760515': 'pituitary', 'SRR8760516': 'pituitary', 'SRR8760517': 'pituitary', 'SRR8760518': 'pituitary', 'SRR8760519': 'pituitary', 'SRR8769760': 'pituitary', 'SRR8835898': 'kidney', 'SRR8835908': 'kidney', 'SRR8835910': 'kidney', 'SRR8835917': 'kidney', 'SRR8835894': 'kidney', 'SRR8835928': 'kidney', 'SRR8835900': 'kidney', 'SRR8835904': 'kidney', 'SRR8835891': 'kidney', 'SRR8835916': 'kidney', 'SRR8835920': 'kidney', 'SRR8835935': 'kidney', 'SRR8835888': 'kidney', 'SRR8835906': 'kidney', 'SRR8835922': 'kidney', 'SRR8835923': 'kidney', 'SRR8835926': 'kidney', 'SRR8835930': 'kidney', 'SRR8835892': 'kidney', 'SRR8835896': 'kidney', 'SRR8835903': 'kidney', 'SRR8835912': 'kidney', 'SRR8835914': 'kidney', 'SRR5306699': 'quadriceps-femoris-muscle', 'SRR5306700': 'quadriceps-femoris-muscle', 'SRR5306703': 'quadriceps-femoris-muscle', 'SRR5306704': 'quadriceps-femoris-muscle', 'SRR5306707': 'quadriceps-femoris-muscle', 'SRR5306708': 'quadriceps-femoris-muscle', 'SRR8485461': 'Mouse-testicular-peritubular-myoid-PTM-cells', 'SRR8485462': 'Mouse-testicular-peritubular-myoid-PTM-cells', 'SRR8485463': 'Mouse-testicular-peritubular-myoid-PTM-cells', 'SRR8485464': 'Mouse-testicular-peritubular-myoid-PTM-cells', 'SRR8485465': 'Mouse-testicular-peritubular-myoid-PTM-cells', 'SRR8485466': 'Mouse-testicular-peritubular-myoid-PTM-cells', 'SRR8437830': 'Mouse-testicular-peritubular-myoid-PTM-cells', 'SRR8437831': 'Mouse-testicular-peritubular-myoid-PTM-cells', 'SRR8437832': 'Mouse-testicular-peritubular-myoid-PTM-cells', 'SRR8437833': 'Mouse-testicular-peritubular-myoid-PTM-cells', 'SRR8437834': 'Mouse-testicular-peritubular-myoid-PTM-cells', 'SRR8437835': 'Mouse-testicular-peritubular-myoid-PTM-cells', 'SRR13571059': 'Testis', 'SRR13571060': 'Testis', 'SRR13571061': 'Testis', 'SRR13571065': 'Testis', 'SRR13571066': 'Testis', 'SRR13571067': 'Testis', 'SRR11684187': 'Testis', 'SRR11684188': 'Testis', 'SRR11684189': 'Testis', 'SRR11684190': 'Testis', 'SRR11684182': 'Testis', 'SRR11684183': 'Testis', 'SRR11684184': 'Testis', 'SRR11684185': 'Testis', 'SRR11684186': 'Testis', 'SRR7463322': 'Vestibular-system-tissue-Utricle', 'SRR7463323': 'Vestibular-system-tissue-Utricle', 'SRR7463324': 'Vestibular-system-tissue-Utricle', 'SRR7463325': 'Vestibular-system-tissue-Utricle'}\n"
     ]
    },
    {
     "data": {
      "text/html": [
       "<div><style>\n",
       ".dataframe > thead > tr,\n",
       ".dataframe > tbody > tr {\n",
       "  text-align: right;\n",
       "  white-space: pre-wrap;\n",
       "}\n",
       "</style>\n",
       "<small>shape: (22_216, 243)</small><table border=\"1\" class=\"dataframe\"><thead><tr><th>GENEID</th><th>kidney</th><th>kidney_1</th><th>kidney_2</th><th>kidney_3</th><th>kidney_4</th><th>kidney_5</th><th>kidney_6</th><th>kidney_7</th><th>kidney_8</th><th>kidney_9</th><th>kidney_10</th><th>kidney_11</th><th>Splenic-B220+-cells</th><th>Splenic-B220+-cells_1</th><th>Splenic-B220+-cells_2</th><th>Splenic-B220+-cells_3</th><th>mESC</th><th>mESC_1</th><th>mESC_2</th><th>mESC_3</th><th>mESC_4</th><th>mESC_5</th><th>mESC_6</th><th>mESC_7</th><th>mESC_8</th><th>mESC_9</th><th>mESC_10</th><th>mESC_11</th><th>mESC_12</th><th>mESC_13</th><th>mESC_14</th><th>mESC_15</th><th>cortexbrain</th><th>cortexbrain_1</th><th>MEF-cells</th><th>MEF-cells_1</th><th>&hellip;</th><th>MEF_10</th><th>MEF_11</th><th>MEF_12</th><th>MEF_13</th><th>MEF_14</th><th>MEF-cells_2</th><th>MEF-cells_3</th><th>MEF-cells_4</th><th>MEF-cells_5</th><th>MEF-cells_6</th><th>MEF-cells_7</th><th>MEF-cells_8</th><th>MEF-cells_9</th><th>MEF-cells_10</th><th>MEF-cells_11</th><th>MEF-cells_12</th><th>MEF-cells_13</th><th>MEF-cells_14</th><th>MEF-cells_15</th><th>MEF-cells_16</th><th>MEF-cells_17</th><th>MEF-cells_18</th><th>MEF-cells_19</th><th>MEF-cells_20</th><th>immortalized-MEFs</th><th>immortalized-MEFs_1</th><th>immortalized-MEFs_2</th><th>immortalized-MEFs_3</th><th>immortalized-MEFs_4</th><th>immortalized-MEFs_5</th><th>immortalized-MEFs_6</th><th>immortalized-MEFs_7</th><th>Testis_12</th><th>Testis_13</th><th>Testis_14</th><th>NIH/3T3-Fibroblasts</th><th>NIH/3T3-Fibroblasts_1</th></tr><tr><td>str</td><td>f64</td><td>f64</td><td>f64</td><td>f64</td><td>f64</td><td>f64</td><td>f64</td><td>f64</td><td>f64</td><td>f64</td><td>f64</td><td>f64</td><td>f64</td><td>f64</td><td>f64</td><td>f64</td><td>f64</td><td>f64</td><td>f64</td><td>f64</td><td>f64</td><td>f64</td><td>f64</td><td>f64</td><td>f64</td><td>f64</td><td>f64</td><td>f64</td><td>f64</td><td>f64</td><td>f64</td><td>f64</td><td>f64</td><td>f64</td><td>f64</td><td>f64</td><td>&hellip;</td><td>f64</td><td>f64</td><td>f64</td><td>f64</td><td>f64</td><td>f64</td><td>f64</td><td>f64</td><td>f64</td><td>f64</td><td>f64</td><td>f64</td><td>f64</td><td>f64</td><td>f64</td><td>f64</td><td>f64</td><td>f64</td><td>f64</td><td>f64</td><td>f64</td><td>f64</td><td>f64</td><td>f64</td><td>f64</td><td>f64</td><td>f64</td><td>f64</td><td>f64</td><td>f64</td><td>f64</td><td>f64</td><td>f64</td><td>f64</td><td>f64</td><td>f64</td><td>f64</td></tr></thead><tbody><tr><td>&quot;0610009B22Rik&quot;</td><td>0.888477</td><td>0.472901</td><td>0.585592</td><td>1.348745</td><td>0.704214</td><td>1.117431</td><td>0.731358</td><td>1.519465</td><td>1.117518</td><td>0.669057</td><td>0.93911</td><td>85.817063</td><td>0.683529</td><td>1.298941</td><td>1.171331</td><td>1.090664</td><td>3.972982</td><td>0.812053</td><td>1.451236</td><td>1.703709</td><td>4.024009</td><td>0.632686</td><td>0.899325</td><td>1.003064</td><td>0.781833</td><td>0.533815</td><td>0.594683</td><td>0.897912</td><td>0.86295</td><td>0.529685</td><td>0.727475</td><td>1.640231</td><td>0.704483</td><td>0.985401</td><td>1.506928</td><td>0.921028</td><td>&hellip;</td><td>0.383905</td><td>0.412896</td><td>2.652033</td><td>1.102511</td><td>1.32436</td><td>0.961777</td><td>1.379101</td><td>1.669197</td><td>1.870865</td><td>1.14608</td><td>0.323536</td><td>0.171554</td><td>0.110785</td><td>1.069491</td><td>0.804621</td><td>1.319187</td><td>1.681715</td><td>0.454974</td><td>0.36019</td><td>1.244047</td><td>1.56152</td><td>2.376479</td><td>0.917361</td><td>1.21097</td><td>4.522056</td><td>0.625339</td><td>1.475054</td><td>4.652027</td><td>0.533154</td><td>1.523169</td><td>3.681419</td><td>1.290168</td><td>1.0</td><td>1.0</td><td>0.220645</td><td>1.515786</td><td>1.264775</td></tr><tr><td>&quot;0610010F05Rik&quot;</td><td>1.301893</td><td>0.993249</td><td>1.09083</td><td>1.752709</td><td>1.050022</td><td>0.740508</td><td>0.682207</td><td>0.8303</td><td>1.085242</td><td>0.866288</td><td>0.591468</td><td>15.849933</td><td>0.560752</td><td>1.025288</td><td>0.400601</td><td>0.535501</td><td>5.144965</td><td>1.154868</td><td>1.170252</td><td>0.726107</td><td>3.947539</td><td>1.440232</td><td>1.060984</td><td>0.52689</td><td>0.779771</td><td>0.811449</td><td>1.030146</td><td>1.492635</td><td>1.17172</td><td>1.518397</td><td>0.314611</td><td>0.566165</td><td>0.938511</td><td>1.785951</td><td>1.294</td><td>0.625073</td><td>&hellip;</td><td>2.930904</td><td>3.840904</td><td>2.808893</td><td>2.087653</td><td>2.51252</td><td>0.993413</td><td>0.968014</td><td>0.907144</td><td>0.673175</td><td>1.130497</td><td>0.131761</td><td>0.135847</td><td>0.084142</td><td>0.39776</td><td>0.879705</td><td>0.175334</td><td>0.470106</td><td>0.521215</td><td>0.574091</td><td>1.313915</td><td>2.045847</td><td>3.026641</td><td>1.201071</td><td>3.137886</td><td>0.922749</td><td>0.952688</td><td>1.490413</td><td>3.486095</td><td>1.030767</td><td>2.252301</td><td>3.749367</td><td>2.454809</td><td>3.99786</td><td>1.0</td><td>7.577615</td><td>1.197426</td><td>0.745424</td></tr><tr><td>&quot;0610010K14Rik&quot;</td><td>1.633539</td><td>0.318482</td><td>1.338232</td><td>1.319906</td><td>0.724082</td><td>0.865305</td><td>1.264106</td><td>0.721409</td><td>0.853692</td><td>0.831326</td><td>0.56246</td><td>38.462246</td><td>0.752448</td><td>0.81768</td><td>0.654543</td><td>0.767625</td><td>1.440976</td><td>0.934084</td><td>1.28849</td><td>2.238425</td><td>2.591539</td><td>1.421317</td><td>1.197143</td><td>1.303096</td><td>0.659862</td><td>0.470973</td><td>1.10723</td><td>0.856258</td><td>0.926049</td><td>0.758249</td><td>1.883928</td><td>1.692645</td><td>0.868496</td><td>0.905947</td><td>1.372529</td><td>0.700447</td><td>&hellip;</td><td>2.525657</td><td>4.993299</td><td>0.138346</td><td>1.894906</td><td>1.212691</td><td>0.784016</td><td>3.765472</td><td>1.417482</td><td>2.660671</td><td>2.489764</td><td>0.061067</td><td>0.122587</td><td>0.063433</td><td>0.561869</td><td>1.114533</td><td>0.302764</td><td>0.847027</td><td>0.10486</td><td>0.198684</td><td>1.017632</td><td>1.573518</td><td>4.862532</td><td>0.990388</td><td>2.190758</td><td>0.945129</td><td>1.410564</td><td>3.398298</td><td>3.138838</td><td>1.568461</td><td>1.842289</td><td>4.277982</td><td>1.101588</td><td>1.0</td><td>1.0</td><td>1.0</td><td>0.889799</td><td>0.451231</td></tr><tr><td>&quot;0610012G03Rik&quot;</td><td>1.250494</td><td>0.584869</td><td>0.65624</td><td>1.862847</td><td>0.672534</td><td>1.072469</td><td>0.93719</td><td>1.019688</td><td>1.160474</td><td>0.888001</td><td>0.862622</td><td>44.619135</td><td>1.20957</td><td>1.084018</td><td>0.874951</td><td>1.16311</td><td>3.893803</td><td>1.00418</td><td>1.094192</td><td>1.09372</td><td>3.786643</td><td>0.936483</td><td>0.850894</td><td>0.878284</td><td>0.884353</td><td>0.670857</td><td>0.888402</td><td>1.076101</td><td>0.951451</td><td>0.911551</td><td>1.301394</td><td>1.298785</td><td>1.020867</td><td>0.918052</td><td>1.547709</td><td>0.936264</td><td>&hellip;</td><td>0.593911</td><td>0.869913</td><td>1.763948</td><td>1.039949</td><td>0.690518</td><td>0.645407</td><td>0.959884</td><td>0.788437</td><td>1.250749</td><td>0.479205</td><td>0.114527</td><td>0.175591</td><td>0.126335</td><td>0.410451</td><td>0.755652</td><td>0.27686</td><td>0.544098</td><td>0.417934</td><td>0.435387</td><td>1.295517</td><td>1.573813</td><td>2.122747</td><td>0.908573</td><td>1.038196</td><td>1.24298</td><td>1.100001</td><td>1.630976</td><td>2.65972</td><td>0.805139</td><td>1.393825</td><td>3.264708</td><td>1.688933</td><td>1.0</td><td>1.0</td><td>1.0</td><td>0.704087</td><td>0.848764</td></tr><tr><td>&quot;0610030E20Rik&quot;</td><td>1.021152</td><td>0.592594</td><td>0.937276</td><td>1.702173</td><td>0.969005</td><td>0.994161</td><td>0.79712</td><td>1.067343</td><td>1.102271</td><td>0.818644</td><td>0.740996</td><td>14.696016</td><td>1.271687</td><td>1.676788</td><td>1.217478</td><td>1.057126</td><td>3.407591</td><td>0.987954</td><td>1.230204</td><td>1.284855</td><td>3.440074</td><td>1.027005</td><td>0.999894</td><td>0.956125</td><td>1.048658</td><td>0.856726</td><td>0.783964</td><td>1.710998</td><td>1.163853</td><td>0.883653</td><td>0.392347</td><td>1.181293</td><td>0.940056</td><td>1.045307</td><td>1.68274</td><td>1.228969</td><td>&hellip;</td><td>0.452919</td><td>0.938376</td><td>1.586889</td><td>1.608499</td><td>0.803457</td><td>0.671671</td><td>0.846702</td><td>0.875221</td><td>1.255595</td><td>0.929695</td><td>0.464893</td><td>0.133031</td><td>0.114722</td><td>0.473275</td><td>0.718657</td><td>0.32218</td><td>0.691429</td><td>0.387403</td><td>0.32547</td><td>1.196692</td><td>1.314845</td><td>1.865166</td><td>0.756126</td><td>1.055833</td><td>1.058612</td><td>1.316062</td><td>2.006645</td><td>3.718134</td><td>0.675485</td><td>1.299097</td><td>3.87085</td><td>2.194397</td><td>0.688592</td><td>0.163139</td><td>0.183326</td><td>1.270474</td><td>1.272291</td></tr><tr><td>&hellip;</td><td>&hellip;</td><td>&hellip;</td><td>&hellip;</td><td>&hellip;</td><td>&hellip;</td><td>&hellip;</td><td>&hellip;</td><td>&hellip;</td><td>&hellip;</td><td>&hellip;</td><td>&hellip;</td><td>&hellip;</td><td>&hellip;</td><td>&hellip;</td><td>&hellip;</td><td>&hellip;</td><td>&hellip;</td><td>&hellip;</td><td>&hellip;</td><td>&hellip;</td><td>&hellip;</td><td>&hellip;</td><td>&hellip;</td><td>&hellip;</td><td>&hellip;</td><td>&hellip;</td><td>&hellip;</td><td>&hellip;</td><td>&hellip;</td><td>&hellip;</td><td>&hellip;</td><td>&hellip;</td><td>&hellip;</td><td>&hellip;</td><td>&hellip;</td><td>&hellip;</td><td>&hellip;</td><td>&hellip;</td><td>&hellip;</td><td>&hellip;</td><td>&hellip;</td><td>&hellip;</td><td>&hellip;</td><td>&hellip;</td><td>&hellip;</td><td>&hellip;</td><td>&hellip;</td><td>&hellip;</td><td>&hellip;</td><td>&hellip;</td><td>&hellip;</td><td>&hellip;</td><td>&hellip;</td><td>&hellip;</td><td>&hellip;</td><td>&hellip;</td><td>&hellip;</td><td>&hellip;</td><td>&hellip;</td><td>&hellip;</td><td>&hellip;</td><td>&hellip;</td><td>&hellip;</td><td>&hellip;</td><td>&hellip;</td><td>&hellip;</td><td>&hellip;</td><td>&hellip;</td><td>&hellip;</td><td>&hellip;</td><td>&hellip;</td><td>&hellip;</td><td>&hellip;</td><td>&hellip;</td></tr><tr><td>&quot;Zyg11a&quot;</td><td>1.0</td><td>1.0</td><td>1.0</td><td>1.0</td><td>0.973238</td><td>1.827013</td><td>1.344066</td><td>1.0</td><td>1.0</td><td>0.719475</td><td>0.515846</td><td>1.0</td><td>1.026694</td><td>1.0</td><td>1.0</td><td>1.0</td><td>4.448667</td><td>1.292855</td><td>1.122761</td><td>0.845902</td><td>2.963954</td><td>1.045997</td><td>0.784728</td><td>0.531484</td><td>1.021725</td><td>0.901062</td><td>1.162395</td><td>2.059765</td><td>1.270635</td><td>1.019143</td><td>0.719271</td><td>1.465642</td><td>1.567627</td><td>1.683079</td><td>1.613723</td><td>1.390324</td><td>&hellip;</td><td>0.355615</td><td>1.905806</td><td>0.676304</td><td>1.96695</td><td>1.907713</td><td>0.602463</td><td>1.915324</td><td>0.774462</td><td>2.016133</td><td>0.227295</td><td>0.681702</td><td>0.19319</td><td>0.26282</td><td>0.656868</td><td>0.873219</td><td>0.14958</td><td>0.589541</td><td>0.44485</td><td>0.872924</td><td>1.645588</td><td>2.021728</td><td>4.286222</td><td>0.708096</td><td>1.0</td><td>1.0</td><td>1.0</td><td>1.0</td><td>1.0</td><td>1.0</td><td>1.0</td><td>1.0</td><td>1.0</td><td>1.0</td><td>1.0</td><td>1.0</td><td>1.0</td><td>1.0</td></tr><tr><td>&quot;Zyg11b&quot;</td><td>0.994437</td><td>0.66339</td><td>0.745125</td><td>1.312598</td><td>0.914898</td><td>0.95033</td><td>0.724292</td><td>0.870226</td><td>1.237933</td><td>0.651999</td><td>0.678492</td><td>24.613296</td><td>1.985538</td><td>2.592013</td><td>1.648944</td><td>1.524093</td><td>2.629524</td><td>0.923297</td><td>1.043034</td><td>1.223348</td><td>4.242868</td><td>0.965024</td><td>1.227664</td><td>0.870982</td><td>0.630988</td><td>0.613768</td><td>1.047167</td><td>1.185174</td><td>0.827868</td><td>0.652681</td><td>0.457</td><td>0.795573</td><td>1.036817</td><td>1.199099</td><td>1.228439</td><td>0.66729</td><td>&hellip;</td><td>0.344432</td><td>0.76494</td><td>1.661084</td><td>1.545867</td><td>0.786571</td><td>0.696414</td><td>0.89196</td><td>0.945218</td><td>1.207455</td><td>0.737793</td><td>0.256676</td><td>0.154483</td><td>0.122135</td><td>0.923125</td><td>0.775715</td><td>0.493501</td><td>0.751197</td><td>0.376012</td><td>0.398141</td><td>1.357582</td><td>1.849383</td><td>2.040356</td><td>0.833846</td><td>1.755919</td><td>1.138647</td><td>1.097232</td><td>1.753397</td><td>2.638969</td><td>0.993845</td><td>1.518296</td><td>3.121326</td><td>1.862767</td><td>0.74089</td><td>0.723912</td><td>0.305844</td><td>1.76592</td><td>1.899622</td></tr><tr><td>&quot;Zyx&quot;</td><td>1.275867</td><td>0.965967</td><td>2.341929</td><td>1.488114</td><td>1.030547</td><td>1.513087</td><td>1.050897</td><td>1.446074</td><td>1.122784</td><td>1.106898</td><td>0.815169</td><td>63.610783</td><td>0.798922</td><td>0.858592</td><td>0.763679</td><td>0.721231</td><td>2.596931</td><td>1.454483</td><td>1.018799</td><td>1.805756</td><td>1.540682</td><td>1.006681</td><td>0.963536</td><td>1.01631</td><td>1.467409</td><td>0.87477</td><td>1.456489</td><td>1.83863</td><td>1.207955</td><td>1.047385</td><td>1.490037</td><td>1.92328</td><td>0.950041</td><td>0.930051</td><td>1.463243</td><td>0.875306</td><td>&hellip;</td><td>0.602322</td><td>0.879179</td><td>1.167843</td><td>1.064288</td><td>0.547484</td><td>1.00292</td><td>0.970587</td><td>1.276776</td><td>1.731226</td><td>0.420698</td><td>0.153198</td><td>0.292484</td><td>0.384555</td><td>0.585109</td><td>0.996457</td><td>0.139115</td><td>0.341271</td><td>0.684487</td><td>0.606121</td><td>1.157441</td><td>1.525141</td><td>1.148903</td><td>0.417653</td><td>2.079308</td><td>1.187035</td><td>1.141538</td><td>2.081448</td><td>2.398587</td><td>0.782831</td><td>1.664471</td><td>3.111907</td><td>2.088015</td><td>1.0</td><td>1.0</td><td>1.0</td><td>2.634107</td><td>2.940409</td></tr><tr><td>&quot;Zzef1&quot;</td><td>1.191587</td><td>0.563984</td><td>0.8697</td><td>1.050962</td><td>1.031487</td><td>0.900483</td><td>0.494193</td><td>0.748082</td><td>0.825709</td><td>0.662769</td><td>0.711284</td><td>13.496464</td><td>0.688491</td><td>0.778738</td><td>0.60582</td><td>0.492164</td><td>2.19875</td><td>1.18821</td><td>1.112506</td><td>0.752494</td><td>1.950098</td><td>0.829355</td><td>0.929342</td><td>0.592801</td><td>0.796896</td><td>0.74645</td><td>1.111459</td><td>1.521453</td><td>1.052057</td><td>1.015253</td><td>0.461959</td><td>0.910054</td><td>0.997978</td><td>1.027312</td><td>1.402163</td><td>0.747191</td><td>&hellip;</td><td>1.330052</td><td>1.917841</td><td>1.524738</td><td>1.168699</td><td>0.82248</td><td>0.725427</td><td>0.980424</td><td>1.208675</td><td>1.298102</td><td>1.449719</td><td>0.57576</td><td>0.211162</td><td>0.209631</td><td>0.575313</td><td>0.898802</td><td>0.575756</td><td>1.204846</td><td>0.433979</td><td>0.452476</td><td>1.128795</td><td>1.57966</td><td>3.014792</td><td>1.071002</td><td>4.600872</td><td>1.052756</td><td>0.955161</td><td>1.805878</td><td>2.885652</td><td>0.919514</td><td>1.849519</td><td>3.474287</td><td>2.121918</td><td>1.0</td><td>1.0</td><td>1.0</td><td>1.413741</td><td>1.356466</td></tr><tr><td>&quot;Zzz3&quot;</td><td>0.873637</td><td>0.787087</td><td>0.749408</td><td>1.417882</td><td>0.933958</td><td>0.889822</td><td>0.726374</td><td>1.102629</td><td>1.240393</td><td>0.670844</td><td>1.1104</td><td>32.72165</td><td>1.186512</td><td>1.569736</td><td>1.314679</td><td>1.198354</td><td>4.853788</td><td>1.411665</td><td>0.981524</td><td>0.958972</td><td>4.041306</td><td>0.967772</td><td>1.144439</td><td>0.821079</td><td>1.224264</td><td>1.114803</td><td>1.53933</td><td>1.746949</td><td>1.526022</td><td>1.241964</td><td>0.384111</td><td>0.839649</td><td>0.862402</td><td>1.238286</td><td>1.55342</td><td>0.91173</td><td>&hellip;</td><td>0.372677</td><td>1.276997</td><td>1.474507</td><td>1.873246</td><td>0.486167</td><td>0.618274</td><td>0.889404</td><td>0.877035</td><td>1.280387</td><td>0.965744</td><td>0.250172</td><td>0.135984</td><td>0.141872</td><td>0.467432</td><td>0.803547</td><td>0.262995</td><td>0.663539</td><td>0.397827</td><td>0.362416</td><td>1.067775</td><td>1.453055</td><td>1.589243</td><td>0.650697</td><td>0.691367</td><td>1.342813</td><td>1.282117</td><td>2.160802</td><td>3.045137</td><td>0.755807</td><td>2.00166</td><td>3.504359</td><td>2.325644</td><td>0.973647</td><td>0.804182</td><td>0.648348</td><td>3.398064</td><td>4.806367</td></tr></tbody></table></div>"
      ],
      "text/plain": [
       "shape: (22_216, 243)\n",
       "┌────────────┬──────────┬──────────┬──────────┬───┬───────────┬───────────┬────────────┬───────────┐\n",
       "│ GENEID     ┆ kidney   ┆ kidney_1 ┆ kidney_2 ┆ … ┆ Testis_13 ┆ Testis_14 ┆ NIH/3T3-Fi ┆ NIH/3T3-F │\n",
       "│ ---        ┆ ---      ┆ ---      ┆ ---      ┆   ┆ ---       ┆ ---       ┆ broblasts  ┆ ibroblast │\n",
       "│ str        ┆ f64      ┆ f64      ┆ f64      ┆   ┆ f64       ┆ f64       ┆ ---        ┆ s_1       │\n",
       "│            ┆          ┆          ┆          ┆   ┆           ┆           ┆ f64        ┆ ---       │\n",
       "│            ┆          ┆          ┆          ┆   ┆           ┆           ┆            ┆ f64       │\n",
       "╞════════════╪══════════╪══════════╪══════════╪═══╪═══════════╪═══════════╪════════════╪═══════════╡\n",
       "│ 0610009B22 ┆ 0.888477 ┆ 0.472901 ┆ 0.585592 ┆ … ┆ 1.0       ┆ 0.220645  ┆ 1.515786   ┆ 1.264775  │\n",
       "│ Rik        ┆          ┆          ┆          ┆   ┆           ┆           ┆            ┆           │\n",
       "│ 0610010F05 ┆ 1.301893 ┆ 0.993249 ┆ 1.09083  ┆ … ┆ 1.0       ┆ 7.577615  ┆ 1.197426   ┆ 0.745424  │\n",
       "│ Rik        ┆          ┆          ┆          ┆   ┆           ┆           ┆            ┆           │\n",
       "│ 0610010K14 ┆ 1.633539 ┆ 0.318482 ┆ 1.338232 ┆ … ┆ 1.0       ┆ 1.0       ┆ 0.889799   ┆ 0.451231  │\n",
       "│ Rik        ┆          ┆          ┆          ┆   ┆           ┆           ┆            ┆           │\n",
       "│ 0610012G03 ┆ 1.250494 ┆ 0.584869 ┆ 0.65624  ┆ … ┆ 1.0       ┆ 1.0       ┆ 0.704087   ┆ 0.848764  │\n",
       "│ Rik        ┆          ┆          ┆          ┆   ┆           ┆           ┆            ┆           │\n",
       "│ 0610030E20 ┆ 1.021152 ┆ 0.592594 ┆ 0.937276 ┆ … ┆ 0.163139  ┆ 0.183326  ┆ 1.270474   ┆ 1.272291  │\n",
       "│ Rik        ┆          ┆          ┆          ┆   ┆           ┆           ┆            ┆           │\n",
       "│ …          ┆ …        ┆ …        ┆ …        ┆ … ┆ …         ┆ …         ┆ …          ┆ …         │\n",
       "│ Zyg11a     ┆ 1.0      ┆ 1.0      ┆ 1.0      ┆ … ┆ 1.0       ┆ 1.0       ┆ 1.0        ┆ 1.0       │\n",
       "│ Zyg11b     ┆ 0.994437 ┆ 0.66339  ┆ 0.745125 ┆ … ┆ 0.723912  ┆ 0.305844  ┆ 1.76592    ┆ 1.899622  │\n",
       "│ Zyx        ┆ 1.275867 ┆ 0.965967 ┆ 2.341929 ┆ … ┆ 1.0       ┆ 1.0       ┆ 2.634107   ┆ 2.940409  │\n",
       "│ Zzef1      ┆ 1.191587 ┆ 0.563984 ┆ 0.8697   ┆ … ┆ 1.0       ┆ 1.0       ┆ 1.413741   ┆ 1.356466  │\n",
       "│ Zzz3       ┆ 0.873637 ┆ 0.787087 ┆ 0.749408 ┆ … ┆ 0.804182  ┆ 0.648348  ┆ 3.398064   ┆ 4.806367  │\n",
       "└────────────┴──────────┴──────────┴──────────┴───┴───────────┴───────────┴────────────┴───────────┘"
      ]
     },
     "metadata": {},
     "output_type": "display_data"
    }
   ],
   "source": [
    "rename_dict = dict(\n",
    "    zip(\n",
    "        metadata['Source of Stress (Condition)'], metadata['sample']\n",
    "    )\n",
    ")\n",
    "\n",
    "print(rename_dict)\n",
    "\n",
    "# change the column name based on the rename_dict\n",
    "new_columns = []\n",
    "seen = set()\n",
    "for col in HNratio.columns:\n",
    "    new_col = rename_dict.get(col, col)\n",
    "    if new_col in seen:\n",
    "        suffix = 1\n",
    "        while f\"{new_col}_{suffix}\" in seen:\n",
    "            suffix += 1\n",
    "        new_col = f\"{new_col}_{suffix}\"\n",
    "    seen.add(new_col)\n",
    "    new_columns.append(new_col)\n",
    "\n",
    "HNratio = HNratio.rename(\n",
    "    dict(\n",
    "        zip(\n",
    "            HNratio.columns, new_columns\n",
    "        )\n",
    "    )\n",
    ")\n",
    "\n",
    "display(HNratio)"
   ]
  },
  {
   "cell_type": "code",
   "execution_count": 7,
   "metadata": {},
   "outputs": [
    {
     "data": {
      "text/html": [
       "<div><style>\n",
       ".dataframe > thead > tr,\n",
       ".dataframe > tbody > tr {\n",
       "  text-align: right;\n",
       "  white-space: pre-wrap;\n",
       "}\n",
       "</style>\n",
       "<small>shape: (22_216, 243)</small><table border=\"1\" class=\"dataframe\"><thead><tr><th>GENEID</th><th>kidney</th><th>kidney_1</th><th>kidney_2</th><th>kidney_3</th><th>kidney_4</th><th>kidney_5</th><th>kidney_6</th><th>kidney_7</th><th>kidney_8</th><th>kidney_9</th><th>kidney_10</th><th>kidney_11</th><th>Splenic-B220+-cells</th><th>Splenic-B220+-cells_1</th><th>Splenic-B220+-cells_2</th><th>Splenic-B220+-cells_3</th><th>mESC</th><th>mESC_1</th><th>mESC_2</th><th>mESC_3</th><th>mESC_4</th><th>mESC_5</th><th>mESC_6</th><th>mESC_7</th><th>mESC_8</th><th>mESC_9</th><th>mESC_10</th><th>mESC_11</th><th>mESC_12</th><th>mESC_13</th><th>mESC_14</th><th>mESC_15</th><th>cortexbrain</th><th>cortexbrain_1</th><th>MEF-cells</th><th>MEF-cells_1</th><th>&hellip;</th><th>MEF_10</th><th>MEF_11</th><th>MEF_12</th><th>MEF_13</th><th>MEF_14</th><th>MEF-cells_2</th><th>MEF-cells_3</th><th>MEF-cells_4</th><th>MEF-cells_5</th><th>MEF-cells_6</th><th>MEF-cells_7</th><th>MEF-cells_8</th><th>MEF-cells_9</th><th>MEF-cells_10</th><th>MEF-cells_11</th><th>MEF-cells_12</th><th>MEF-cells_13</th><th>MEF-cells_14</th><th>MEF-cells_15</th><th>MEF-cells_16</th><th>MEF-cells_17</th><th>MEF-cells_18</th><th>MEF-cells_19</th><th>MEF-cells_20</th><th>immortalized-MEFs</th><th>immortalized-MEFs_1</th><th>immortalized-MEFs_2</th><th>immortalized-MEFs_3</th><th>immortalized-MEFs_4</th><th>immortalized-MEFs_5</th><th>immortalized-MEFs_6</th><th>immortalized-MEFs_7</th><th>Testis_12</th><th>Testis_13</th><th>Testis_14</th><th>NIH/3T3-Fibroblasts</th><th>NIH/3T3-Fibroblasts_1</th></tr><tr><td>str</td><td>str</td><td>str</td><td>str</td><td>str</td><td>str</td><td>str</td><td>str</td><td>str</td><td>str</td><td>str</td><td>str</td><td>str</td><td>str</td><td>str</td><td>str</td><td>str</td><td>str</td><td>str</td><td>str</td><td>str</td><td>str</td><td>str</td><td>str</td><td>str</td><td>str</td><td>str</td><td>str</td><td>str</td><td>str</td><td>str</td><td>str</td><td>str</td><td>str</td><td>str</td><td>str</td><td>str</td><td>&hellip;</td><td>str</td><td>str</td><td>str</td><td>str</td><td>str</td><td>str</td><td>str</td><td>str</td><td>str</td><td>str</td><td>str</td><td>str</td><td>str</td><td>str</td><td>str</td><td>str</td><td>str</td><td>str</td><td>str</td><td>str</td><td>str</td><td>str</td><td>str</td><td>str</td><td>str</td><td>str</td><td>str</td><td>str</td><td>str</td><td>str</td><td>str</td><td>str</td><td>str</td><td>str</td><td>str</td><td>str</td><td>str</td></tr></thead><tbody><tr><td>&quot;0610009B22Rik&quot;</td><td>&quot;UNCHANGED&quot;</td><td>&quot;UNCHANGED&quot;</td><td>&quot;UNCHANGED&quot;</td><td>&quot;UNCHANGED&quot;</td><td>&quot;UNCHANGED&quot;</td><td>&quot;UNCHANGED&quot;</td><td>&quot;UNCHANGED&quot;</td><td>&quot;UNCHANGED&quot;</td><td>&quot;UNCHANGED&quot;</td><td>&quot;UNCHANGED&quot;</td><td>&quot;UNCHANGED&quot;</td><td>&quot;UP&quot;</td><td>&quot;UNCHANGED&quot;</td><td>&quot;UNCHANGED&quot;</td><td>&quot;UNCHANGED&quot;</td><td>&quot;UNCHANGED&quot;</td><td>&quot;UNCHANGED&quot;</td><td>&quot;UNCHANGED&quot;</td><td>&quot;UNCHANGED&quot;</td><td>&quot;UNCHANGED&quot;</td><td>&quot;UNCHANGED&quot;</td><td>&quot;UNCHANGED&quot;</td><td>&quot;UNCHANGED&quot;</td><td>&quot;UNCHANGED&quot;</td><td>&quot;UNCHANGED&quot;</td><td>&quot;UNCHANGED&quot;</td><td>&quot;UNCHANGED&quot;</td><td>&quot;UNCHANGED&quot;</td><td>&quot;UNCHANGED&quot;</td><td>&quot;UNCHANGED&quot;</td><td>&quot;UNCHANGED&quot;</td><td>&quot;UNCHANGED&quot;</td><td>&quot;UNCHANGED&quot;</td><td>&quot;UNCHANGED&quot;</td><td>&quot;UNCHANGED&quot;</td><td>&quot;UNCHANGED&quot;</td><td>&hellip;</td><td>&quot;UNCHANGED&quot;</td><td>&quot;UNCHANGED&quot;</td><td>&quot;UNCHANGED&quot;</td><td>&quot;UNCHANGED&quot;</td><td>&quot;UNCHANGED&quot;</td><td>&quot;UNCHANGED&quot;</td><td>&quot;UNCHANGED&quot;</td><td>&quot;UNCHANGED&quot;</td><td>&quot;UNCHANGED&quot;</td><td>&quot;UNCHANGED&quot;</td><td>&quot;UNCHANGED&quot;</td><td>&quot;DOWN&quot;</td><td>&quot;DOWN&quot;</td><td>&quot;UNCHANGED&quot;</td><td>&quot;UNCHANGED&quot;</td><td>&quot;UNCHANGED&quot;</td><td>&quot;UNCHANGED&quot;</td><td>&quot;UNCHANGED&quot;</td><td>&quot;UNCHANGED&quot;</td><td>&quot;UNCHANGED&quot;</td><td>&quot;UNCHANGED&quot;</td><td>&quot;UNCHANGED&quot;</td><td>&quot;UNCHANGED&quot;</td><td>&quot;UNCHANGED&quot;</td><td>&quot;UNCHANGED&quot;</td><td>&quot;UNCHANGED&quot;</td><td>&quot;UNCHANGED&quot;</td><td>&quot;UNCHANGED&quot;</td><td>&quot;UNCHANGED&quot;</td><td>&quot;UNCHANGED&quot;</td><td>&quot;UNCHANGED&quot;</td><td>&quot;UNCHANGED&quot;</td><td>&quot;UNCHANGED&quot;</td><td>&quot;UNCHANGED&quot;</td><td>&quot;UNCHANGED&quot;</td><td>&quot;UNCHANGED&quot;</td><td>&quot;UNCHANGED&quot;</td></tr><tr><td>&quot;0610010F05Rik&quot;</td><td>&quot;UNCHANGED&quot;</td><td>&quot;UNCHANGED&quot;</td><td>&quot;UNCHANGED&quot;</td><td>&quot;UNCHANGED&quot;</td><td>&quot;UNCHANGED&quot;</td><td>&quot;UNCHANGED&quot;</td><td>&quot;UNCHANGED&quot;</td><td>&quot;UNCHANGED&quot;</td><td>&quot;UNCHANGED&quot;</td><td>&quot;UNCHANGED&quot;</td><td>&quot;UNCHANGED&quot;</td><td>&quot;UP&quot;</td><td>&quot;UNCHANGED&quot;</td><td>&quot;UNCHANGED&quot;</td><td>&quot;UNCHANGED&quot;</td><td>&quot;UNCHANGED&quot;</td><td>&quot;UP&quot;</td><td>&quot;UNCHANGED&quot;</td><td>&quot;UNCHANGED&quot;</td><td>&quot;UNCHANGED&quot;</td><td>&quot;UNCHANGED&quot;</td><td>&quot;UNCHANGED&quot;</td><td>&quot;UNCHANGED&quot;</td><td>&quot;UNCHANGED&quot;</td><td>&quot;UNCHANGED&quot;</td><td>&quot;UNCHANGED&quot;</td><td>&quot;UNCHANGED&quot;</td><td>&quot;UNCHANGED&quot;</td><td>&quot;UNCHANGED&quot;</td><td>&quot;UNCHANGED&quot;</td><td>&quot;UNCHANGED&quot;</td><td>&quot;UNCHANGED&quot;</td><td>&quot;UNCHANGED&quot;</td><td>&quot;UNCHANGED&quot;</td><td>&quot;UNCHANGED&quot;</td><td>&quot;UNCHANGED&quot;</td><td>&hellip;</td><td>&quot;UNCHANGED&quot;</td><td>&quot;UNCHANGED&quot;</td><td>&quot;UNCHANGED&quot;</td><td>&quot;UNCHANGED&quot;</td><td>&quot;UNCHANGED&quot;</td><td>&quot;UNCHANGED&quot;</td><td>&quot;UNCHANGED&quot;</td><td>&quot;UNCHANGED&quot;</td><td>&quot;UNCHANGED&quot;</td><td>&quot;UNCHANGED&quot;</td><td>&quot;DOWN&quot;</td><td>&quot;DOWN&quot;</td><td>&quot;DOWN&quot;</td><td>&quot;UNCHANGED&quot;</td><td>&quot;UNCHANGED&quot;</td><td>&quot;DOWN&quot;</td><td>&quot;UNCHANGED&quot;</td><td>&quot;UNCHANGED&quot;</td><td>&quot;UNCHANGED&quot;</td><td>&quot;UNCHANGED&quot;</td><td>&quot;UNCHANGED&quot;</td><td>&quot;UNCHANGED&quot;</td><td>&quot;UNCHANGED&quot;</td><td>&quot;UNCHANGED&quot;</td><td>&quot;UNCHANGED&quot;</td><td>&quot;UNCHANGED&quot;</td><td>&quot;UNCHANGED&quot;</td><td>&quot;UNCHANGED&quot;</td><td>&quot;UNCHANGED&quot;</td><td>&quot;UNCHANGED&quot;</td><td>&quot;UNCHANGED&quot;</td><td>&quot;UNCHANGED&quot;</td><td>&quot;UNCHANGED&quot;</td><td>&quot;UNCHANGED&quot;</td><td>&quot;UP&quot;</td><td>&quot;UNCHANGED&quot;</td><td>&quot;UNCHANGED&quot;</td></tr><tr><td>&quot;0610010K14Rik&quot;</td><td>&quot;UNCHANGED&quot;</td><td>&quot;UNCHANGED&quot;</td><td>&quot;UNCHANGED&quot;</td><td>&quot;UNCHANGED&quot;</td><td>&quot;UNCHANGED&quot;</td><td>&quot;UNCHANGED&quot;</td><td>&quot;UNCHANGED&quot;</td><td>&quot;UNCHANGED&quot;</td><td>&quot;UNCHANGED&quot;</td><td>&quot;UNCHANGED&quot;</td><td>&quot;UNCHANGED&quot;</td><td>&quot;UP&quot;</td><td>&quot;UNCHANGED&quot;</td><td>&quot;UNCHANGED&quot;</td><td>&quot;UNCHANGED&quot;</td><td>&quot;UNCHANGED&quot;</td><td>&quot;UNCHANGED&quot;</td><td>&quot;UNCHANGED&quot;</td><td>&quot;UNCHANGED&quot;</td><td>&quot;UNCHANGED&quot;</td><td>&quot;UNCHANGED&quot;</td><td>&quot;UNCHANGED&quot;</td><td>&quot;UNCHANGED&quot;</td><td>&quot;UNCHANGED&quot;</td><td>&quot;UNCHANGED&quot;</td><td>&quot;UNCHANGED&quot;</td><td>&quot;UNCHANGED&quot;</td><td>&quot;UNCHANGED&quot;</td><td>&quot;UNCHANGED&quot;</td><td>&quot;UNCHANGED&quot;</td><td>&quot;UNCHANGED&quot;</td><td>&quot;UNCHANGED&quot;</td><td>&quot;UNCHANGED&quot;</td><td>&quot;UNCHANGED&quot;</td><td>&quot;UNCHANGED&quot;</td><td>&quot;UNCHANGED&quot;</td><td>&hellip;</td><td>&quot;UNCHANGED&quot;</td><td>&quot;UNCHANGED&quot;</td><td>&quot;DOWN&quot;</td><td>&quot;UNCHANGED&quot;</td><td>&quot;UNCHANGED&quot;</td><td>&quot;UNCHANGED&quot;</td><td>&quot;UNCHANGED&quot;</td><td>&quot;UNCHANGED&quot;</td><td>&quot;UNCHANGED&quot;</td><td>&quot;UNCHANGED&quot;</td><td>&quot;DOWN&quot;</td><td>&quot;DOWN&quot;</td><td>&quot;DOWN&quot;</td><td>&quot;UNCHANGED&quot;</td><td>&quot;UNCHANGED&quot;</td><td>&quot;UNCHANGED&quot;</td><td>&quot;UNCHANGED&quot;</td><td>&quot;DOWN&quot;</td><td>&quot;DOWN&quot;</td><td>&quot;UNCHANGED&quot;</td><td>&quot;UNCHANGED&quot;</td><td>&quot;UNCHANGED&quot;</td><td>&quot;UNCHANGED&quot;</td><td>&quot;UNCHANGED&quot;</td><td>&quot;UNCHANGED&quot;</td><td>&quot;UNCHANGED&quot;</td><td>&quot;UNCHANGED&quot;</td><td>&quot;UNCHANGED&quot;</td><td>&quot;UNCHANGED&quot;</td><td>&quot;UNCHANGED&quot;</td><td>&quot;UNCHANGED&quot;</td><td>&quot;UNCHANGED&quot;</td><td>&quot;UNCHANGED&quot;</td><td>&quot;UNCHANGED&quot;</td><td>&quot;UNCHANGED&quot;</td><td>&quot;UNCHANGED&quot;</td><td>&quot;UNCHANGED&quot;</td></tr><tr><td>&quot;0610012G03Rik&quot;</td><td>&quot;UNCHANGED&quot;</td><td>&quot;UNCHANGED&quot;</td><td>&quot;UNCHANGED&quot;</td><td>&quot;UNCHANGED&quot;</td><td>&quot;UNCHANGED&quot;</td><td>&quot;UNCHANGED&quot;</td><td>&quot;UNCHANGED&quot;</td><td>&quot;UNCHANGED&quot;</td><td>&quot;UNCHANGED&quot;</td><td>&quot;UNCHANGED&quot;</td><td>&quot;UNCHANGED&quot;</td><td>&quot;UP&quot;</td><td>&quot;UNCHANGED&quot;</td><td>&quot;UNCHANGED&quot;</td><td>&quot;UNCHANGED&quot;</td><td>&quot;UNCHANGED&quot;</td><td>&quot;UNCHANGED&quot;</td><td>&quot;UNCHANGED&quot;</td><td>&quot;UNCHANGED&quot;</td><td>&quot;UNCHANGED&quot;</td><td>&quot;UNCHANGED&quot;</td><td>&quot;UNCHANGED&quot;</td><td>&quot;UNCHANGED&quot;</td><td>&quot;UNCHANGED&quot;</td><td>&quot;UNCHANGED&quot;</td><td>&quot;UNCHANGED&quot;</td><td>&quot;UNCHANGED&quot;</td><td>&quot;UNCHANGED&quot;</td><td>&quot;UNCHANGED&quot;</td><td>&quot;UNCHANGED&quot;</td><td>&quot;UNCHANGED&quot;</td><td>&quot;UNCHANGED&quot;</td><td>&quot;UNCHANGED&quot;</td><td>&quot;UNCHANGED&quot;</td><td>&quot;UNCHANGED&quot;</td><td>&quot;UNCHANGED&quot;</td><td>&hellip;</td><td>&quot;UNCHANGED&quot;</td><td>&quot;UNCHANGED&quot;</td><td>&quot;UNCHANGED&quot;</td><td>&quot;UNCHANGED&quot;</td><td>&quot;UNCHANGED&quot;</td><td>&quot;UNCHANGED&quot;</td><td>&quot;UNCHANGED&quot;</td><td>&quot;UNCHANGED&quot;</td><td>&quot;UNCHANGED&quot;</td><td>&quot;UNCHANGED&quot;</td><td>&quot;DOWN&quot;</td><td>&quot;DOWN&quot;</td><td>&quot;DOWN&quot;</td><td>&quot;UNCHANGED&quot;</td><td>&quot;UNCHANGED&quot;</td><td>&quot;UNCHANGED&quot;</td><td>&quot;UNCHANGED&quot;</td><td>&quot;UNCHANGED&quot;</td><td>&quot;UNCHANGED&quot;</td><td>&quot;UNCHANGED&quot;</td><td>&quot;UNCHANGED&quot;</td><td>&quot;UNCHANGED&quot;</td><td>&quot;UNCHANGED&quot;</td><td>&quot;UNCHANGED&quot;</td><td>&quot;UNCHANGED&quot;</td><td>&quot;UNCHANGED&quot;</td><td>&quot;UNCHANGED&quot;</td><td>&quot;UNCHANGED&quot;</td><td>&quot;UNCHANGED&quot;</td><td>&quot;UNCHANGED&quot;</td><td>&quot;UNCHANGED&quot;</td><td>&quot;UNCHANGED&quot;</td><td>&quot;UNCHANGED&quot;</td><td>&quot;UNCHANGED&quot;</td><td>&quot;UNCHANGED&quot;</td><td>&quot;UNCHANGED&quot;</td><td>&quot;UNCHANGED&quot;</td></tr><tr><td>&quot;0610030E20Rik&quot;</td><td>&quot;UNCHANGED&quot;</td><td>&quot;UNCHANGED&quot;</td><td>&quot;UNCHANGED&quot;</td><td>&quot;UNCHANGED&quot;</td><td>&quot;UNCHANGED&quot;</td><td>&quot;UNCHANGED&quot;</td><td>&quot;UNCHANGED&quot;</td><td>&quot;UNCHANGED&quot;</td><td>&quot;UNCHANGED&quot;</td><td>&quot;UNCHANGED&quot;</td><td>&quot;UNCHANGED&quot;</td><td>&quot;UP&quot;</td><td>&quot;UNCHANGED&quot;</td><td>&quot;UNCHANGED&quot;</td><td>&quot;UNCHANGED&quot;</td><td>&quot;UNCHANGED&quot;</td><td>&quot;UNCHANGED&quot;</td><td>&quot;UNCHANGED&quot;</td><td>&quot;UNCHANGED&quot;</td><td>&quot;UNCHANGED&quot;</td><td>&quot;UNCHANGED&quot;</td><td>&quot;UNCHANGED&quot;</td><td>&quot;UNCHANGED&quot;</td><td>&quot;UNCHANGED&quot;</td><td>&quot;UNCHANGED&quot;</td><td>&quot;UNCHANGED&quot;</td><td>&quot;UNCHANGED&quot;</td><td>&quot;UNCHANGED&quot;</td><td>&quot;UNCHANGED&quot;</td><td>&quot;UNCHANGED&quot;</td><td>&quot;UNCHANGED&quot;</td><td>&quot;UNCHANGED&quot;</td><td>&quot;UNCHANGED&quot;</td><td>&quot;UNCHANGED&quot;</td><td>&quot;UNCHANGED&quot;</td><td>&quot;UNCHANGED&quot;</td><td>&hellip;</td><td>&quot;UNCHANGED&quot;</td><td>&quot;UNCHANGED&quot;</td><td>&quot;UNCHANGED&quot;</td><td>&quot;UNCHANGED&quot;</td><td>&quot;UNCHANGED&quot;</td><td>&quot;UNCHANGED&quot;</td><td>&quot;UNCHANGED&quot;</td><td>&quot;UNCHANGED&quot;</td><td>&quot;UNCHANGED&quot;</td><td>&quot;UNCHANGED&quot;</td><td>&quot;UNCHANGED&quot;</td><td>&quot;DOWN&quot;</td><td>&quot;DOWN&quot;</td><td>&quot;UNCHANGED&quot;</td><td>&quot;UNCHANGED&quot;</td><td>&quot;UNCHANGED&quot;</td><td>&quot;UNCHANGED&quot;</td><td>&quot;UNCHANGED&quot;</td><td>&quot;UNCHANGED&quot;</td><td>&quot;UNCHANGED&quot;</td><td>&quot;UNCHANGED&quot;</td><td>&quot;UNCHANGED&quot;</td><td>&quot;UNCHANGED&quot;</td><td>&quot;UNCHANGED&quot;</td><td>&quot;UNCHANGED&quot;</td><td>&quot;UNCHANGED&quot;</td><td>&quot;UNCHANGED&quot;</td><td>&quot;UNCHANGED&quot;</td><td>&quot;UNCHANGED&quot;</td><td>&quot;UNCHANGED&quot;</td><td>&quot;UNCHANGED&quot;</td><td>&quot;UNCHANGED&quot;</td><td>&quot;UNCHANGED&quot;</td><td>&quot;DOWN&quot;</td><td>&quot;DOWN&quot;</td><td>&quot;UNCHANGED&quot;</td><td>&quot;UNCHANGED&quot;</td></tr><tr><td>&hellip;</td><td>&hellip;</td><td>&hellip;</td><td>&hellip;</td><td>&hellip;</td><td>&hellip;</td><td>&hellip;</td><td>&hellip;</td><td>&hellip;</td><td>&hellip;</td><td>&hellip;</td><td>&hellip;</td><td>&hellip;</td><td>&hellip;</td><td>&hellip;</td><td>&hellip;</td><td>&hellip;</td><td>&hellip;</td><td>&hellip;</td><td>&hellip;</td><td>&hellip;</td><td>&hellip;</td><td>&hellip;</td><td>&hellip;</td><td>&hellip;</td><td>&hellip;</td><td>&hellip;</td><td>&hellip;</td><td>&hellip;</td><td>&hellip;</td><td>&hellip;</td><td>&hellip;</td><td>&hellip;</td><td>&hellip;</td><td>&hellip;</td><td>&hellip;</td><td>&hellip;</td><td>&hellip;</td><td>&hellip;</td><td>&hellip;</td><td>&hellip;</td><td>&hellip;</td><td>&hellip;</td><td>&hellip;</td><td>&hellip;</td><td>&hellip;</td><td>&hellip;</td><td>&hellip;</td><td>&hellip;</td><td>&hellip;</td><td>&hellip;</td><td>&hellip;</td><td>&hellip;</td><td>&hellip;</td><td>&hellip;</td><td>&hellip;</td><td>&hellip;</td><td>&hellip;</td><td>&hellip;</td><td>&hellip;</td><td>&hellip;</td><td>&hellip;</td><td>&hellip;</td><td>&hellip;</td><td>&hellip;</td><td>&hellip;</td><td>&hellip;</td><td>&hellip;</td><td>&hellip;</td><td>&hellip;</td><td>&hellip;</td><td>&hellip;</td><td>&hellip;</td><td>&hellip;</td><td>&hellip;</td></tr><tr><td>&quot;Zyg11a&quot;</td><td>&quot;UNCHANGED&quot;</td><td>&quot;UNCHANGED&quot;</td><td>&quot;UNCHANGED&quot;</td><td>&quot;UNCHANGED&quot;</td><td>&quot;UNCHANGED&quot;</td><td>&quot;UNCHANGED&quot;</td><td>&quot;UNCHANGED&quot;</td><td>&quot;UNCHANGED&quot;</td><td>&quot;UNCHANGED&quot;</td><td>&quot;UNCHANGED&quot;</td><td>&quot;UNCHANGED&quot;</td><td>&quot;UNCHANGED&quot;</td><td>&quot;UNCHANGED&quot;</td><td>&quot;UNCHANGED&quot;</td><td>&quot;UNCHANGED&quot;</td><td>&quot;UNCHANGED&quot;</td><td>&quot;UNCHANGED&quot;</td><td>&quot;UNCHANGED&quot;</td><td>&quot;UNCHANGED&quot;</td><td>&quot;UNCHANGED&quot;</td><td>&quot;UNCHANGED&quot;</td><td>&quot;UNCHANGED&quot;</td><td>&quot;UNCHANGED&quot;</td><td>&quot;UNCHANGED&quot;</td><td>&quot;UNCHANGED&quot;</td><td>&quot;UNCHANGED&quot;</td><td>&quot;UNCHANGED&quot;</td><td>&quot;UNCHANGED&quot;</td><td>&quot;UNCHANGED&quot;</td><td>&quot;UNCHANGED&quot;</td><td>&quot;UNCHANGED&quot;</td><td>&quot;UNCHANGED&quot;</td><td>&quot;UNCHANGED&quot;</td><td>&quot;UNCHANGED&quot;</td><td>&quot;UNCHANGED&quot;</td><td>&quot;UNCHANGED&quot;</td><td>&hellip;</td><td>&quot;UNCHANGED&quot;</td><td>&quot;UNCHANGED&quot;</td><td>&quot;UNCHANGED&quot;</td><td>&quot;UNCHANGED&quot;</td><td>&quot;UNCHANGED&quot;</td><td>&quot;UNCHANGED&quot;</td><td>&quot;UNCHANGED&quot;</td><td>&quot;UNCHANGED&quot;</td><td>&quot;UNCHANGED&quot;</td><td>&quot;UNCHANGED&quot;</td><td>&quot;UNCHANGED&quot;</td><td>&quot;DOWN&quot;</td><td>&quot;UNCHANGED&quot;</td><td>&quot;UNCHANGED&quot;</td><td>&quot;UNCHANGED&quot;</td><td>&quot;DOWN&quot;</td><td>&quot;UNCHANGED&quot;</td><td>&quot;UNCHANGED&quot;</td><td>&quot;UNCHANGED&quot;</td><td>&quot;UNCHANGED&quot;</td><td>&quot;UNCHANGED&quot;</td><td>&quot;UNCHANGED&quot;</td><td>&quot;UNCHANGED&quot;</td><td>&quot;UNCHANGED&quot;</td><td>&quot;UNCHANGED&quot;</td><td>&quot;UNCHANGED&quot;</td><td>&quot;UNCHANGED&quot;</td><td>&quot;UNCHANGED&quot;</td><td>&quot;UNCHANGED&quot;</td><td>&quot;UNCHANGED&quot;</td><td>&quot;UNCHANGED&quot;</td><td>&quot;UNCHANGED&quot;</td><td>&quot;UNCHANGED&quot;</td><td>&quot;UNCHANGED&quot;</td><td>&quot;UNCHANGED&quot;</td><td>&quot;UNCHANGED&quot;</td><td>&quot;UNCHANGED&quot;</td></tr><tr><td>&quot;Zyg11b&quot;</td><td>&quot;UNCHANGED&quot;</td><td>&quot;UNCHANGED&quot;</td><td>&quot;UNCHANGED&quot;</td><td>&quot;UNCHANGED&quot;</td><td>&quot;UNCHANGED&quot;</td><td>&quot;UNCHANGED&quot;</td><td>&quot;UNCHANGED&quot;</td><td>&quot;UNCHANGED&quot;</td><td>&quot;UNCHANGED&quot;</td><td>&quot;UNCHANGED&quot;</td><td>&quot;UNCHANGED&quot;</td><td>&quot;UP&quot;</td><td>&quot;UNCHANGED&quot;</td><td>&quot;UNCHANGED&quot;</td><td>&quot;UNCHANGED&quot;</td><td>&quot;UNCHANGED&quot;</td><td>&quot;UNCHANGED&quot;</td><td>&quot;UNCHANGED&quot;</td><td>&quot;UNCHANGED&quot;</td><td>&quot;UNCHANGED&quot;</td><td>&quot;UNCHANGED&quot;</td><td>&quot;UNCHANGED&quot;</td><td>&quot;UNCHANGED&quot;</td><td>&quot;UNCHANGED&quot;</td><td>&quot;UNCHANGED&quot;</td><td>&quot;UNCHANGED&quot;</td><td>&quot;UNCHANGED&quot;</td><td>&quot;UNCHANGED&quot;</td><td>&quot;UNCHANGED&quot;</td><td>&quot;UNCHANGED&quot;</td><td>&quot;UNCHANGED&quot;</td><td>&quot;UNCHANGED&quot;</td><td>&quot;UNCHANGED&quot;</td><td>&quot;UNCHANGED&quot;</td><td>&quot;UNCHANGED&quot;</td><td>&quot;UNCHANGED&quot;</td><td>&hellip;</td><td>&quot;UNCHANGED&quot;</td><td>&quot;UNCHANGED&quot;</td><td>&quot;UNCHANGED&quot;</td><td>&quot;UNCHANGED&quot;</td><td>&quot;UNCHANGED&quot;</td><td>&quot;UNCHANGED&quot;</td><td>&quot;UNCHANGED&quot;</td><td>&quot;UNCHANGED&quot;</td><td>&quot;UNCHANGED&quot;</td><td>&quot;UNCHANGED&quot;</td><td>&quot;UNCHANGED&quot;</td><td>&quot;DOWN&quot;</td><td>&quot;DOWN&quot;</td><td>&quot;UNCHANGED&quot;</td><td>&quot;UNCHANGED&quot;</td><td>&quot;UNCHANGED&quot;</td><td>&quot;UNCHANGED&quot;</td><td>&quot;UNCHANGED&quot;</td><td>&quot;UNCHANGED&quot;</td><td>&quot;UNCHANGED&quot;</td><td>&quot;UNCHANGED&quot;</td><td>&quot;UNCHANGED&quot;</td><td>&quot;UNCHANGED&quot;</td><td>&quot;UNCHANGED&quot;</td><td>&quot;UNCHANGED&quot;</td><td>&quot;UNCHANGED&quot;</td><td>&quot;UNCHANGED&quot;</td><td>&quot;UNCHANGED&quot;</td><td>&quot;UNCHANGED&quot;</td><td>&quot;UNCHANGED&quot;</td><td>&quot;UNCHANGED&quot;</td><td>&quot;UNCHANGED&quot;</td><td>&quot;UNCHANGED&quot;</td><td>&quot;UNCHANGED&quot;</td><td>&quot;UNCHANGED&quot;</td><td>&quot;UNCHANGED&quot;</td><td>&quot;UNCHANGED&quot;</td></tr><tr><td>&quot;Zyx&quot;</td><td>&quot;UNCHANGED&quot;</td><td>&quot;UNCHANGED&quot;</td><td>&quot;UNCHANGED&quot;</td><td>&quot;UNCHANGED&quot;</td><td>&quot;UNCHANGED&quot;</td><td>&quot;UNCHANGED&quot;</td><td>&quot;UNCHANGED&quot;</td><td>&quot;UNCHANGED&quot;</td><td>&quot;UNCHANGED&quot;</td><td>&quot;UNCHANGED&quot;</td><td>&quot;UNCHANGED&quot;</td><td>&quot;UP&quot;</td><td>&quot;UNCHANGED&quot;</td><td>&quot;UNCHANGED&quot;</td><td>&quot;UNCHANGED&quot;</td><td>&quot;UNCHANGED&quot;</td><td>&quot;UNCHANGED&quot;</td><td>&quot;UNCHANGED&quot;</td><td>&quot;UNCHANGED&quot;</td><td>&quot;UNCHANGED&quot;</td><td>&quot;UNCHANGED&quot;</td><td>&quot;UNCHANGED&quot;</td><td>&quot;UNCHANGED&quot;</td><td>&quot;UNCHANGED&quot;</td><td>&quot;UNCHANGED&quot;</td><td>&quot;UNCHANGED&quot;</td><td>&quot;UNCHANGED&quot;</td><td>&quot;UNCHANGED&quot;</td><td>&quot;UNCHANGED&quot;</td><td>&quot;UNCHANGED&quot;</td><td>&quot;UNCHANGED&quot;</td><td>&quot;UNCHANGED&quot;</td><td>&quot;UNCHANGED&quot;</td><td>&quot;UNCHANGED&quot;</td><td>&quot;UNCHANGED&quot;</td><td>&quot;UNCHANGED&quot;</td><td>&hellip;</td><td>&quot;UNCHANGED&quot;</td><td>&quot;UNCHANGED&quot;</td><td>&quot;UNCHANGED&quot;</td><td>&quot;UNCHANGED&quot;</td><td>&quot;UNCHANGED&quot;</td><td>&quot;UNCHANGED&quot;</td><td>&quot;UNCHANGED&quot;</td><td>&quot;UNCHANGED&quot;</td><td>&quot;UNCHANGED&quot;</td><td>&quot;UNCHANGED&quot;</td><td>&quot;DOWN&quot;</td><td>&quot;UNCHANGED&quot;</td><td>&quot;UNCHANGED&quot;</td><td>&quot;UNCHANGED&quot;</td><td>&quot;UNCHANGED&quot;</td><td>&quot;DOWN&quot;</td><td>&quot;UNCHANGED&quot;</td><td>&quot;UNCHANGED&quot;</td><td>&quot;UNCHANGED&quot;</td><td>&quot;UNCHANGED&quot;</td><td>&quot;UNCHANGED&quot;</td><td>&quot;UNCHANGED&quot;</td><td>&quot;UNCHANGED&quot;</td><td>&quot;UNCHANGED&quot;</td><td>&quot;UNCHANGED&quot;</td><td>&quot;UNCHANGED&quot;</td><td>&quot;UNCHANGED&quot;</td><td>&quot;UNCHANGED&quot;</td><td>&quot;UNCHANGED&quot;</td><td>&quot;UNCHANGED&quot;</td><td>&quot;UNCHANGED&quot;</td><td>&quot;UNCHANGED&quot;</td><td>&quot;UNCHANGED&quot;</td><td>&quot;UNCHANGED&quot;</td><td>&quot;UNCHANGED&quot;</td><td>&quot;UNCHANGED&quot;</td><td>&quot;UNCHANGED&quot;</td></tr><tr><td>&quot;Zzef1&quot;</td><td>&quot;UNCHANGED&quot;</td><td>&quot;UNCHANGED&quot;</td><td>&quot;UNCHANGED&quot;</td><td>&quot;UNCHANGED&quot;</td><td>&quot;UNCHANGED&quot;</td><td>&quot;UNCHANGED&quot;</td><td>&quot;UNCHANGED&quot;</td><td>&quot;UNCHANGED&quot;</td><td>&quot;UNCHANGED&quot;</td><td>&quot;UNCHANGED&quot;</td><td>&quot;UNCHANGED&quot;</td><td>&quot;UP&quot;</td><td>&quot;UNCHANGED&quot;</td><td>&quot;UNCHANGED&quot;</td><td>&quot;UNCHANGED&quot;</td><td>&quot;UNCHANGED&quot;</td><td>&quot;UNCHANGED&quot;</td><td>&quot;UNCHANGED&quot;</td><td>&quot;UNCHANGED&quot;</td><td>&quot;UNCHANGED&quot;</td><td>&quot;UNCHANGED&quot;</td><td>&quot;UNCHANGED&quot;</td><td>&quot;UNCHANGED&quot;</td><td>&quot;UNCHANGED&quot;</td><td>&quot;UNCHANGED&quot;</td><td>&quot;UNCHANGED&quot;</td><td>&quot;UNCHANGED&quot;</td><td>&quot;UNCHANGED&quot;</td><td>&quot;UNCHANGED&quot;</td><td>&quot;UNCHANGED&quot;</td><td>&quot;UNCHANGED&quot;</td><td>&quot;UNCHANGED&quot;</td><td>&quot;UNCHANGED&quot;</td><td>&quot;UNCHANGED&quot;</td><td>&quot;UNCHANGED&quot;</td><td>&quot;UNCHANGED&quot;</td><td>&hellip;</td><td>&quot;UNCHANGED&quot;</td><td>&quot;UNCHANGED&quot;</td><td>&quot;UNCHANGED&quot;</td><td>&quot;UNCHANGED&quot;</td><td>&quot;UNCHANGED&quot;</td><td>&quot;UNCHANGED&quot;</td><td>&quot;UNCHANGED&quot;</td><td>&quot;UNCHANGED&quot;</td><td>&quot;UNCHANGED&quot;</td><td>&quot;UNCHANGED&quot;</td><td>&quot;UNCHANGED&quot;</td><td>&quot;UNCHANGED&quot;</td><td>&quot;UNCHANGED&quot;</td><td>&quot;UNCHANGED&quot;</td><td>&quot;UNCHANGED&quot;</td><td>&quot;UNCHANGED&quot;</td><td>&quot;UNCHANGED&quot;</td><td>&quot;UNCHANGED&quot;</td><td>&quot;UNCHANGED&quot;</td><td>&quot;UNCHANGED&quot;</td><td>&quot;UNCHANGED&quot;</td><td>&quot;UNCHANGED&quot;</td><td>&quot;UNCHANGED&quot;</td><td>&quot;UNCHANGED&quot;</td><td>&quot;UNCHANGED&quot;</td><td>&quot;UNCHANGED&quot;</td><td>&quot;UNCHANGED&quot;</td><td>&quot;UNCHANGED&quot;</td><td>&quot;UNCHANGED&quot;</td><td>&quot;UNCHANGED&quot;</td><td>&quot;UNCHANGED&quot;</td><td>&quot;UNCHANGED&quot;</td><td>&quot;UNCHANGED&quot;</td><td>&quot;UNCHANGED&quot;</td><td>&quot;UNCHANGED&quot;</td><td>&quot;UNCHANGED&quot;</td><td>&quot;UNCHANGED&quot;</td></tr><tr><td>&quot;Zzz3&quot;</td><td>&quot;UNCHANGED&quot;</td><td>&quot;UNCHANGED&quot;</td><td>&quot;UNCHANGED&quot;</td><td>&quot;UNCHANGED&quot;</td><td>&quot;UNCHANGED&quot;</td><td>&quot;UNCHANGED&quot;</td><td>&quot;UNCHANGED&quot;</td><td>&quot;UNCHANGED&quot;</td><td>&quot;UNCHANGED&quot;</td><td>&quot;UNCHANGED&quot;</td><td>&quot;UNCHANGED&quot;</td><td>&quot;UP&quot;</td><td>&quot;UNCHANGED&quot;</td><td>&quot;UNCHANGED&quot;</td><td>&quot;UNCHANGED&quot;</td><td>&quot;UNCHANGED&quot;</td><td>&quot;UNCHANGED&quot;</td><td>&quot;UNCHANGED&quot;</td><td>&quot;UNCHANGED&quot;</td><td>&quot;UNCHANGED&quot;</td><td>&quot;UNCHANGED&quot;</td><td>&quot;UNCHANGED&quot;</td><td>&quot;UNCHANGED&quot;</td><td>&quot;UNCHANGED&quot;</td><td>&quot;UNCHANGED&quot;</td><td>&quot;UNCHANGED&quot;</td><td>&quot;UNCHANGED&quot;</td><td>&quot;UNCHANGED&quot;</td><td>&quot;UNCHANGED&quot;</td><td>&quot;UNCHANGED&quot;</td><td>&quot;UNCHANGED&quot;</td><td>&quot;UNCHANGED&quot;</td><td>&quot;UNCHANGED&quot;</td><td>&quot;UNCHANGED&quot;</td><td>&quot;UNCHANGED&quot;</td><td>&quot;UNCHANGED&quot;</td><td>&hellip;</td><td>&quot;UNCHANGED&quot;</td><td>&quot;UNCHANGED&quot;</td><td>&quot;UNCHANGED&quot;</td><td>&quot;UNCHANGED&quot;</td><td>&quot;UNCHANGED&quot;</td><td>&quot;UNCHANGED&quot;</td><td>&quot;UNCHANGED&quot;</td><td>&quot;UNCHANGED&quot;</td><td>&quot;UNCHANGED&quot;</td><td>&quot;UNCHANGED&quot;</td><td>&quot;UNCHANGED&quot;</td><td>&quot;DOWN&quot;</td><td>&quot;DOWN&quot;</td><td>&quot;UNCHANGED&quot;</td><td>&quot;UNCHANGED&quot;</td><td>&quot;UNCHANGED&quot;</td><td>&quot;UNCHANGED&quot;</td><td>&quot;UNCHANGED&quot;</td><td>&quot;UNCHANGED&quot;</td><td>&quot;UNCHANGED&quot;</td><td>&quot;UNCHANGED&quot;</td><td>&quot;UNCHANGED&quot;</td><td>&quot;UNCHANGED&quot;</td><td>&quot;UNCHANGED&quot;</td><td>&quot;UNCHANGED&quot;</td><td>&quot;UNCHANGED&quot;</td><td>&quot;UNCHANGED&quot;</td><td>&quot;UNCHANGED&quot;</td><td>&quot;UNCHANGED&quot;</td><td>&quot;UNCHANGED&quot;</td><td>&quot;UNCHANGED&quot;</td><td>&quot;UNCHANGED&quot;</td><td>&quot;UNCHANGED&quot;</td><td>&quot;UNCHANGED&quot;</td><td>&quot;UNCHANGED&quot;</td><td>&quot;UNCHANGED&quot;</td><td>&quot;UNCHANGED&quot;</td></tr></tbody></table></div>"
      ],
      "text/plain": [
       "shape: (22_216, 243)\n",
       "┌───────────┬───────────┬───────────┬───────────┬───┬───────────┬───────────┬───────────┬──────────┐\n",
       "│ GENEID    ┆ kidney    ┆ kidney_1  ┆ kidney_2  ┆ … ┆ Testis_13 ┆ Testis_14 ┆ NIH/3T3-F ┆ NIH/3T3- │\n",
       "│ ---       ┆ ---       ┆ ---       ┆ ---       ┆   ┆ ---       ┆ ---       ┆ ibroblast ┆ Fibrobla │\n",
       "│ str       ┆ str       ┆ str       ┆ str       ┆   ┆ str       ┆ str       ┆ s         ┆ sts_1    │\n",
       "│           ┆           ┆           ┆           ┆   ┆           ┆           ┆ ---       ┆ ---      │\n",
       "│           ┆           ┆           ┆           ┆   ┆           ┆           ┆ str       ┆ str      │\n",
       "╞═══════════╪═══════════╪═══════════╪═══════════╪═══╪═══════════╪═══════════╪═══════════╪══════════╡\n",
       "│ 0610009B2 ┆ UNCHANGED ┆ UNCHANGED ┆ UNCHANGED ┆ … ┆ UNCHANGED ┆ UNCHANGED ┆ UNCHANGED ┆ UNCHANGE │\n",
       "│ 2Rik      ┆           ┆           ┆           ┆   ┆           ┆           ┆           ┆ D        │\n",
       "│ 0610010F0 ┆ UNCHANGED ┆ UNCHANGED ┆ UNCHANGED ┆ … ┆ UNCHANGED ┆ UP        ┆ UNCHANGED ┆ UNCHANGE │\n",
       "│ 5Rik      ┆           ┆           ┆           ┆   ┆           ┆           ┆           ┆ D        │\n",
       "│ 0610010K1 ┆ UNCHANGED ┆ UNCHANGED ┆ UNCHANGED ┆ … ┆ UNCHANGED ┆ UNCHANGED ┆ UNCHANGED ┆ UNCHANGE │\n",
       "│ 4Rik      ┆           ┆           ┆           ┆   ┆           ┆           ┆           ┆ D        │\n",
       "│ 0610012G0 ┆ UNCHANGED ┆ UNCHANGED ┆ UNCHANGED ┆ … ┆ UNCHANGED ┆ UNCHANGED ┆ UNCHANGED ┆ UNCHANGE │\n",
       "│ 3Rik      ┆           ┆           ┆           ┆   ┆           ┆           ┆           ┆ D        │\n",
       "│ 0610030E2 ┆ UNCHANGED ┆ UNCHANGED ┆ UNCHANGED ┆ … ┆ DOWN      ┆ DOWN      ┆ UNCHANGED ┆ UNCHANGE │\n",
       "│ 0Rik      ┆           ┆           ┆           ┆   ┆           ┆           ┆           ┆ D        │\n",
       "│ …         ┆ …         ┆ …         ┆ …         ┆ … ┆ …         ┆ …         ┆ …         ┆ …        │\n",
       "│ Zyg11a    ┆ UNCHANGED ┆ UNCHANGED ┆ UNCHANGED ┆ … ┆ UNCHANGED ┆ UNCHANGED ┆ UNCHANGED ┆ UNCHANGE │\n",
       "│           ┆           ┆           ┆           ┆   ┆           ┆           ┆           ┆ D        │\n",
       "│ Zyg11b    ┆ UNCHANGED ┆ UNCHANGED ┆ UNCHANGED ┆ … ┆ UNCHANGED ┆ UNCHANGED ┆ UNCHANGED ┆ UNCHANGE │\n",
       "│           ┆           ┆           ┆           ┆   ┆           ┆           ┆           ┆ D        │\n",
       "│ Zyx       ┆ UNCHANGED ┆ UNCHANGED ┆ UNCHANGED ┆ … ┆ UNCHANGED ┆ UNCHANGED ┆ UNCHANGED ┆ UNCHANGE │\n",
       "│           ┆           ┆           ┆           ┆   ┆           ┆           ┆           ┆ D        │\n",
       "│ Zzef1     ┆ UNCHANGED ┆ UNCHANGED ┆ UNCHANGED ┆ … ┆ UNCHANGED ┆ UNCHANGED ┆ UNCHANGED ┆ UNCHANGE │\n",
       "│           ┆           ┆           ┆           ┆   ┆           ┆           ┆           ┆ D        │\n",
       "│ Zzz3      ┆ UNCHANGED ┆ UNCHANGED ┆ UNCHANGED ┆ … ┆ UNCHANGED ┆ UNCHANGED ┆ UNCHANGED ┆ UNCHANGE │\n",
       "│           ┆           ┆           ┆           ┆   ┆           ┆           ┆           ┆ D        │\n",
       "└───────────┴───────────┴───────────┴───────────┴───┴───────────┴───────────┴───────────┴──────────┘"
      ]
     },
     "metadata": {},
     "output_type": "display_data"
    }
   ],
   "source": [
    "# define a function to categorize the HNratio\n",
    "def categorize(x):\n",
    "    if x >= threshold:\n",
    "        return 'UP'\n",
    "    elif x <= 1 / threshold:\n",
    "        return 'DOWN'\n",
    "    else:\n",
    "        return 'UNCHANGED'\n",
    "\n",
    "# apply the categorize function to all columns except GENEID\n",
    "result = HNratio.with_columns([\n",
    "    pl.col(col).map_elements(categorize, return_dtype=pl.String)\n",
    "    for col in HNratio.columns if col != 'GENEID'\n",
    "])\n",
    "\n",
    "# display the result\n",
    "display(result)"
   ]
  },
  {
   "cell_type": "code",
   "execution_count": 8,
   "metadata": {},
   "outputs": [
    {
     "name": "stdout",
     "output_type": "stream",
     "text": [
      "{'immortalized-MEFs', 'mESC', 'quadriceps-femoris-muscle', 'Splenic-B220+-cells', 'mammary-gland', 'Mouse-splenic-CD4+-T-cells', 'CD8-T-cell', '3T3-cells', 'Vestibular-system-tissue-Utricle', 'cortexbrain', 'mouse-embryonic-fibroblasts', 'Mouse-testicular-peritubular-myoid-PTM-cells', 'NIH/3T3-cells', 'pituitary', 'kidney', 'B16-OVAmouse-melanoma-cell', 'Fetal-jejunum', 'Testis', 'Raw264.7.', 'hypothalamus', 'MEF', 'Fetal-duodenum', 'Cultured-utricles', 'Mouse-embryonic-fibroblasts', 'MEF-cells', 'Placenta', 'NIH/3T3-Fibroblasts', 'Th17-cells', 'NIH3T3', 'mouse-embryonic-stem-cells'}\n"
     ]
    },
    {
     "data": {
      "text/html": [
       "<div><style>\n",
       ".dataframe > thead > tr,\n",
       ".dataframe > tbody > tr {\n",
       "  text-align: right;\n",
       "  white-space: pre-wrap;\n",
       "}\n",
       "</style>\n",
       "<small>shape: (22_216, 91)</small><table border=\"1\" class=\"dataframe\"><thead><tr><th>GENEID</th><th>UP(immortalized-MEFs)</th><th>DOWN(immortalized-MEFs)</th><th>UNCHANGED(immortalized-MEFs)</th><th>UP(mESC)</th><th>DOWN(mESC)</th><th>UNCHANGED(mESC)</th><th>UP(quadriceps-femoris-muscle)</th><th>DOWN(quadriceps-femoris-muscle)</th><th>UNCHANGED(quadriceps-femoris-muscle)</th><th>UP(Splenic-B220+-cells)</th><th>DOWN(Splenic-B220+-cells)</th><th>UNCHANGED(Splenic-B220+-cells)</th><th>UP(mammary-gland)</th><th>DOWN(mammary-gland)</th><th>UNCHANGED(mammary-gland)</th><th>UP(Mouse-splenic-CD4+-T-cells)</th><th>DOWN(Mouse-splenic-CD4+-T-cells)</th><th>UNCHANGED(Mouse-splenic-CD4+-T-cells)</th><th>UP(CD8-T-cell)</th><th>DOWN(CD8-T-cell)</th><th>UNCHANGED(CD8-T-cell)</th><th>UP(3T3-cells)</th><th>DOWN(3T3-cells)</th><th>UNCHANGED(3T3-cells)</th><th>UP(Vestibular-system-tissue-Utricle)</th><th>DOWN(Vestibular-system-tissue-Utricle)</th><th>UNCHANGED(Vestibular-system-tissue-Utricle)</th><th>UP(cortexbrain)</th><th>DOWN(cortexbrain)</th><th>UNCHANGED(cortexbrain)</th><th>UP(mouse-embryonic-fibroblasts)</th><th>DOWN(mouse-embryonic-fibroblasts)</th><th>UNCHANGED(mouse-embryonic-fibroblasts)</th><th>UP(Mouse-testicular-peritubular-myoid-PTM-cells)</th><th>DOWN(Mouse-testicular-peritubular-myoid-PTM-cells)</th><th>UNCHANGED(Mouse-testicular-peritubular-myoid-PTM-cells)</th><th>&hellip;</th><th>UNCHANGED(Testis)</th><th>UP(Raw264.7.)</th><th>DOWN(Raw264.7.)</th><th>UNCHANGED(Raw264.7.)</th><th>UP(hypothalamus)</th><th>DOWN(hypothalamus)</th><th>UNCHANGED(hypothalamus)</th><th>UP(MEF)</th><th>DOWN(MEF)</th><th>UNCHANGED(MEF)</th><th>UP(Fetal-duodenum)</th><th>DOWN(Fetal-duodenum)</th><th>UNCHANGED(Fetal-duodenum)</th><th>UP(Cultured-utricles)</th><th>DOWN(Cultured-utricles)</th><th>UNCHANGED(Cultured-utricles)</th><th>UP(Mouse-embryonic-fibroblasts)</th><th>DOWN(Mouse-embryonic-fibroblasts)</th><th>UNCHANGED(Mouse-embryonic-fibroblasts)</th><th>UP(MEF-cells)</th><th>DOWN(MEF-cells)</th><th>UNCHANGED(MEF-cells)</th><th>UP(Placenta)</th><th>DOWN(Placenta)</th><th>UNCHANGED(Placenta)</th><th>UP(NIH/3T3-Fibroblasts)</th><th>DOWN(NIH/3T3-Fibroblasts)</th><th>UNCHANGED(NIH/3T3-Fibroblasts)</th><th>UP(Th17-cells)</th><th>DOWN(Th17-cells)</th><th>UNCHANGED(Th17-cells)</th><th>UP(NIH3T3)</th><th>DOWN(NIH3T3)</th><th>UNCHANGED(NIH3T3)</th><th>UP(mouse-embryonic-stem-cells)</th><th>DOWN(mouse-embryonic-stem-cells)</th><th>UNCHANGED(mouse-embryonic-stem-cells)</th></tr><tr><td>str</td><td>i32</td><td>i32</td><td>i32</td><td>i32</td><td>i32</td><td>i32</td><td>i32</td><td>i32</td><td>i32</td><td>i32</td><td>i32</td><td>i32</td><td>i32</td><td>i32</td><td>i32</td><td>i32</td><td>i32</td><td>i32</td><td>i32</td><td>i32</td><td>i32</td><td>i32</td><td>i32</td><td>i32</td><td>i32</td><td>i32</td><td>i32</td><td>i32</td><td>i32</td><td>i32</td><td>i32</td><td>i32</td><td>i32</td><td>i32</td><td>i32</td><td>i32</td><td>&hellip;</td><td>i32</td><td>i32</td><td>i32</td><td>i32</td><td>i32</td><td>i32</td><td>i32</td><td>i32</td><td>i32</td><td>i32</td><td>i32</td><td>i32</td><td>i32</td><td>i32</td><td>i32</td><td>i32</td><td>i32</td><td>i32</td><td>i32</td><td>i32</td><td>i32</td><td>i32</td><td>i32</td><td>i32</td><td>i32</td><td>i32</td><td>i32</td><td>i32</td><td>i32</td><td>i32</td><td>i32</td><td>i32</td><td>i32</td><td>i32</td><td>i32</td><td>i32</td><td>i32</td></tr></thead><tbody><tr><td>&quot;0610009B22Rik&quot;</td><td>0</td><td>0</td><td>8</td><td>0</td><td>0</td><td>24</td><td>0</td><td>0</td><td>6</td><td>0</td><td>0</td><td>4</td><td>0</td><td>0</td><td>8</td><td>0</td><td>0</td><td>3</td><td>0</td><td>0</td><td>3</td><td>0</td><td>1</td><td>3</td><td>0</td><td>0</td><td>4</td><td>0</td><td>0</td><td>2</td><td>0</td><td>0</td><td>2</td><td>0</td><td>0</td><td>12</td><td>&hellip;</td><td>15</td><td>0</td><td>0</td><td>3</td><td>0</td><td>0</td><td>8</td><td>0</td><td>2</td><td>13</td><td>0</td><td>0</td><td>3</td><td>0</td><td>0</td><td>17</td><td>0</td><td>0</td><td>6</td><td>0</td><td>2</td><td>19</td><td>0</td><td>0</td><td>3</td><td>0</td><td>0</td><td>2</td><td>0</td><td>0</td><td>2</td><td>0</td><td>1</td><td>9</td><td>0</td><td>0</td><td>16</td></tr><tr><td>&quot;0610010F05Rik&quot;</td><td>0</td><td>0</td><td>8</td><td>1</td><td>0</td><td>23</td><td>0</td><td>0</td><td>6</td><td>0</td><td>0</td><td>4</td><td>0</td><td>0</td><td>8</td><td>0</td><td>0</td><td>3</td><td>0</td><td>0</td><td>3</td><td>0</td><td>2</td><td>2</td><td>0</td><td>0</td><td>4</td><td>0</td><td>0</td><td>2</td><td>0</td><td>0</td><td>2</td><td>0</td><td>0</td><td>12</td><td>&hellip;</td><td>14</td><td>0</td><td>0</td><td>3</td><td>0</td><td>0</td><td>8</td><td>0</td><td>0</td><td>15</td><td>0</td><td>0</td><td>3</td><td>0</td><td>0</td><td>17</td><td>0</td><td>0</td><td>6</td><td>0</td><td>4</td><td>17</td><td>0</td><td>0</td><td>3</td><td>0</td><td>0</td><td>2</td><td>0</td><td>0</td><td>2</td><td>2</td><td>0</td><td>8</td><td>0</td><td>0</td><td>16</td></tr><tr><td>&quot;0610010K14Rik&quot;</td><td>0</td><td>0</td><td>8</td><td>0</td><td>0</td><td>24</td><td>0</td><td>0</td><td>6</td><td>0</td><td>0</td><td>4</td><td>0</td><td>0</td><td>8</td><td>0</td><td>0</td><td>3</td><td>0</td><td>0</td><td>3</td><td>1</td><td>0</td><td>3</td><td>0</td><td>0</td><td>4</td><td>0</td><td>0</td><td>2</td><td>0</td><td>0</td><td>2</td><td>0</td><td>0</td><td>12</td><td>&hellip;</td><td>15</td><td>0</td><td>0</td><td>3</td><td>0</td><td>0</td><td>8</td><td>2</td><td>1</td><td>12</td><td>0</td><td>0</td><td>3</td><td>0</td><td>0</td><td>17</td><td>0</td><td>0</td><td>6</td><td>0</td><td>5</td><td>16</td><td>0</td><td>0</td><td>3</td><td>0</td><td>0</td><td>2</td><td>0</td><td>0</td><td>2</td><td>0</td><td>0</td><td>10</td><td>1</td><td>0</td><td>15</td></tr><tr><td>&quot;0610012G03Rik&quot;</td><td>0</td><td>0</td><td>8</td><td>0</td><td>0</td><td>24</td><td>0</td><td>0</td><td>6</td><td>0</td><td>0</td><td>4</td><td>0</td><td>0</td><td>8</td><td>0</td><td>0</td><td>3</td><td>0</td><td>0</td><td>3</td><td>0</td><td>1</td><td>3</td><td>0</td><td>0</td><td>4</td><td>0</td><td>0</td><td>2</td><td>0</td><td>0</td><td>2</td><td>0</td><td>0</td><td>12</td><td>&hellip;</td><td>15</td><td>0</td><td>0</td><td>3</td><td>0</td><td>0</td><td>8</td><td>0</td><td>2</td><td>13</td><td>0</td><td>0</td><td>3</td><td>0</td><td>0</td><td>17</td><td>0</td><td>0</td><td>6</td><td>0</td><td>3</td><td>18</td><td>0</td><td>0</td><td>3</td><td>0</td><td>0</td><td>2</td><td>0</td><td>0</td><td>2</td><td>0</td><td>0</td><td>10</td><td>1</td><td>0</td><td>15</td></tr><tr><td>&quot;0610030E20Rik&quot;</td><td>0</td><td>0</td><td>8</td><td>0</td><td>0</td><td>24</td><td>0</td><td>0</td><td>6</td><td>0</td><td>0</td><td>4</td><td>0</td><td>0</td><td>8</td><td>0</td><td>0</td><td>3</td><td>0</td><td>0</td><td>3</td><td>0</td><td>0</td><td>4</td><td>0</td><td>0</td><td>4</td><td>0</td><td>0</td><td>2</td><td>0</td><td>0</td><td>2</td><td>0</td><td>0</td><td>12</td><td>&hellip;</td><td>13</td><td>0</td><td>0</td><td>3</td><td>0</td><td>0</td><td>8</td><td>0</td><td>3</td><td>12</td><td>0</td><td>0</td><td>3</td><td>0</td><td>0</td><td>17</td><td>0</td><td>0</td><td>6</td><td>0</td><td>2</td><td>19</td><td>0</td><td>0</td><td>3</td><td>0</td><td>0</td><td>2</td><td>0</td><td>0</td><td>2</td><td>0</td><td>0</td><td>10</td><td>0</td><td>0</td><td>16</td></tr><tr><td>&hellip;</td><td>&hellip;</td><td>&hellip;</td><td>&hellip;</td><td>&hellip;</td><td>&hellip;</td><td>&hellip;</td><td>&hellip;</td><td>&hellip;</td><td>&hellip;</td><td>&hellip;</td><td>&hellip;</td><td>&hellip;</td><td>&hellip;</td><td>&hellip;</td><td>&hellip;</td><td>&hellip;</td><td>&hellip;</td><td>&hellip;</td><td>&hellip;</td><td>&hellip;</td><td>&hellip;</td><td>&hellip;</td><td>&hellip;</td><td>&hellip;</td><td>&hellip;</td><td>&hellip;</td><td>&hellip;</td><td>&hellip;</td><td>&hellip;</td><td>&hellip;</td><td>&hellip;</td><td>&hellip;</td><td>&hellip;</td><td>&hellip;</td><td>&hellip;</td><td>&hellip;</td><td>&hellip;</td><td>&hellip;</td><td>&hellip;</td><td>&hellip;</td><td>&hellip;</td><td>&hellip;</td><td>&hellip;</td><td>&hellip;</td><td>&hellip;</td><td>&hellip;</td><td>&hellip;</td><td>&hellip;</td><td>&hellip;</td><td>&hellip;</td><td>&hellip;</td><td>&hellip;</td><td>&hellip;</td><td>&hellip;</td><td>&hellip;</td><td>&hellip;</td><td>&hellip;</td><td>&hellip;</td><td>&hellip;</td><td>&hellip;</td><td>&hellip;</td><td>&hellip;</td><td>&hellip;</td><td>&hellip;</td><td>&hellip;</td><td>&hellip;</td><td>&hellip;</td><td>&hellip;</td><td>&hellip;</td><td>&hellip;</td><td>&hellip;</td><td>&hellip;</td><td>&hellip;</td><td>&hellip;</td></tr><tr><td>&quot;Zyg11a&quot;</td><td>0</td><td>0</td><td>8</td><td>0</td><td>0</td><td>24</td><td>0</td><td>0</td><td>6</td><td>0</td><td>0</td><td>4</td><td>0</td><td>0</td><td>8</td><td>0</td><td>0</td><td>3</td><td>0</td><td>0</td><td>3</td><td>0</td><td>0</td><td>4</td><td>0</td><td>0</td><td>4</td><td>0</td><td>0</td><td>2</td><td>0</td><td>0</td><td>2</td><td>0</td><td>0</td><td>12</td><td>&hellip;</td><td>15</td><td>0</td><td>0</td><td>3</td><td>0</td><td>0</td><td>8</td><td>0</td><td>0</td><td>15</td><td>0</td><td>0</td><td>3</td><td>0</td><td>0</td><td>17</td><td>0</td><td>0</td><td>6</td><td>0</td><td>2</td><td>19</td><td>1</td><td>0</td><td>2</td><td>0</td><td>0</td><td>2</td><td>0</td><td>0</td><td>2</td><td>0</td><td>0</td><td>10</td><td>0</td><td>0</td><td>16</td></tr><tr><td>&quot;Zyg11b&quot;</td><td>0</td><td>0</td><td>8</td><td>0</td><td>0</td><td>24</td><td>0</td><td>0</td><td>6</td><td>0</td><td>0</td><td>4</td><td>0</td><td>0</td><td>8</td><td>0</td><td>0</td><td>3</td><td>0</td><td>0</td><td>3</td><td>0</td><td>0</td><td>4</td><td>0</td><td>0</td><td>4</td><td>0</td><td>0</td><td>2</td><td>0</td><td>0</td><td>2</td><td>0</td><td>0</td><td>12</td><td>&hellip;</td><td>15</td><td>0</td><td>0</td><td>3</td><td>0</td><td>0</td><td>8</td><td>0</td><td>1</td><td>14</td><td>0</td><td>0</td><td>3</td><td>0</td><td>1</td><td>16</td><td>0</td><td>0</td><td>6</td><td>0</td><td>2</td><td>19</td><td>0</td><td>0</td><td>3</td><td>0</td><td>0</td><td>2</td><td>0</td><td>0</td><td>2</td><td>0</td><td>0</td><td>10</td><td>0</td><td>0</td><td>16</td></tr><tr><td>&quot;Zyx&quot;</td><td>0</td><td>0</td><td>8</td><td>0</td><td>0</td><td>24</td><td>0</td><td>0</td><td>6</td><td>0</td><td>0</td><td>4</td><td>0</td><td>0</td><td>8</td><td>0</td><td>0</td><td>3</td><td>0</td><td>0</td><td>3</td><td>0</td><td>1</td><td>3</td><td>0</td><td>0</td><td>4</td><td>0</td><td>0</td><td>2</td><td>0</td><td>0</td><td>2</td><td>0</td><td>0</td><td>12</td><td>&hellip;</td><td>9</td><td>0</td><td>0</td><td>3</td><td>0</td><td>0</td><td>8</td><td>0</td><td>1</td><td>14</td><td>0</td><td>0</td><td>3</td><td>0</td><td>0</td><td>17</td><td>0</td><td>0</td><td>6</td><td>0</td><td>2</td><td>19</td><td>0</td><td>0</td><td>3</td><td>0</td><td>0</td><td>2</td><td>0</td><td>0</td><td>2</td><td>0</td><td>0</td><td>10</td><td>0</td><td>0</td><td>16</td></tr><tr><td>&quot;Zzef1&quot;</td><td>0</td><td>0</td><td>8</td><td>0</td><td>0</td><td>24</td><td>0</td><td>0</td><td>6</td><td>0</td><td>0</td><td>4</td><td>0</td><td>0</td><td>8</td><td>0</td><td>0</td><td>3</td><td>0</td><td>0</td><td>3</td><td>0</td><td>0</td><td>4</td><td>0</td><td>0</td><td>4</td><td>0</td><td>0</td><td>2</td><td>0</td><td>0</td><td>2</td><td>0</td><td>0</td><td>12</td><td>&hellip;</td><td>15</td><td>0</td><td>0</td><td>3</td><td>0</td><td>0</td><td>8</td><td>0</td><td>1</td><td>14</td><td>0</td><td>0</td><td>3</td><td>0</td><td>0</td><td>17</td><td>0</td><td>0</td><td>6</td><td>0</td><td>0</td><td>21</td><td>0</td><td>0</td><td>3</td><td>0</td><td>0</td><td>2</td><td>0</td><td>0</td><td>2</td><td>0</td><td>0</td><td>10</td><td>0</td><td>0</td><td>16</td></tr><tr><td>&quot;Zzz3&quot;</td><td>0</td><td>0</td><td>8</td><td>0</td><td>0</td><td>24</td><td>0</td><td>0</td><td>6</td><td>0</td><td>0</td><td>4</td><td>0</td><td>0</td><td>8</td><td>0</td><td>0</td><td>3</td><td>0</td><td>0</td><td>3</td><td>0</td><td>1</td><td>3</td><td>0</td><td>0</td><td>4</td><td>0</td><td>0</td><td>2</td><td>0</td><td>0</td><td>2</td><td>0</td><td>0</td><td>12</td><td>&hellip;</td><td>15</td><td>0</td><td>0</td><td>3</td><td>0</td><td>0</td><td>8</td><td>0</td><td>3</td><td>12</td><td>0</td><td>0</td><td>3</td><td>0</td><td>0</td><td>17</td><td>0</td><td>0</td><td>6</td><td>0</td><td>2</td><td>19</td><td>0</td><td>0</td><td>3</td><td>0</td><td>0</td><td>2</td><td>0</td><td>0</td><td>2</td><td>1</td><td>1</td><td>8</td><td>0</td><td>0</td><td>16</td></tr></tbody></table></div>"
      ],
      "text/plain": [
       "shape: (22_216, 91)\n",
       "┌───────────┬───────────┬───────────┬───────────┬───┬───────────┬───────────┬───────────┬──────────┐\n",
       "│ GENEID    ┆ UP(immort ┆ DOWN(immo ┆ UNCHANGED ┆ … ┆ UNCHANGED ┆ UP(mouse- ┆ DOWN(mous ┆ UNCHANGE │\n",
       "│ ---       ┆ alized-ME ┆ rtalized- ┆ (immortal ┆   ┆ (NIH3T3)  ┆ embryonic ┆ e-embryon ┆ D(mouse- │\n",
       "│ str       ┆ Fs)       ┆ MEFs)     ┆ ized-MEFs ┆   ┆ ---       ┆ -stem-cel ┆ ic-stem-c ┆ embryoni │\n",
       "│           ┆ ---       ┆ ---       ┆ )         ┆   ┆ i32       ┆ ls)       ┆ ell…      ┆ c-stem…  │\n",
       "│           ┆ i32       ┆ i32       ┆ ---       ┆   ┆           ┆ ---       ┆ ---       ┆ ---      │\n",
       "│           ┆           ┆           ┆ i32       ┆   ┆           ┆ i32       ┆ i32       ┆ i32      │\n",
       "╞═══════════╪═══════════╪═══════════╪═══════════╪═══╪═══════════╪═══════════╪═══════════╪══════════╡\n",
       "│ 0610009B2 ┆ 0         ┆ 0         ┆ 8         ┆ … ┆ 9         ┆ 0         ┆ 0         ┆ 16       │\n",
       "│ 2Rik      ┆           ┆           ┆           ┆   ┆           ┆           ┆           ┆          │\n",
       "│ 0610010F0 ┆ 0         ┆ 0         ┆ 8         ┆ … ┆ 8         ┆ 0         ┆ 0         ┆ 16       │\n",
       "│ 5Rik      ┆           ┆           ┆           ┆   ┆           ┆           ┆           ┆          │\n",
       "│ 0610010K1 ┆ 0         ┆ 0         ┆ 8         ┆ … ┆ 10        ┆ 1         ┆ 0         ┆ 15       │\n",
       "│ 4Rik      ┆           ┆           ┆           ┆   ┆           ┆           ┆           ┆          │\n",
       "│ 0610012G0 ┆ 0         ┆ 0         ┆ 8         ┆ … ┆ 10        ┆ 1         ┆ 0         ┆ 15       │\n",
       "│ 3Rik      ┆           ┆           ┆           ┆   ┆           ┆           ┆           ┆          │\n",
       "│ 0610030E2 ┆ 0         ┆ 0         ┆ 8         ┆ … ┆ 10        ┆ 0         ┆ 0         ┆ 16       │\n",
       "│ 0Rik      ┆           ┆           ┆           ┆   ┆           ┆           ┆           ┆          │\n",
       "│ …         ┆ …         ┆ …         ┆ …         ┆ … ┆ …         ┆ …         ┆ …         ┆ …        │\n",
       "│ Zyg11a    ┆ 0         ┆ 0         ┆ 8         ┆ … ┆ 10        ┆ 0         ┆ 0         ┆ 16       │\n",
       "│ Zyg11b    ┆ 0         ┆ 0         ┆ 8         ┆ … ┆ 10        ┆ 0         ┆ 0         ┆ 16       │\n",
       "│ Zyx       ┆ 0         ┆ 0         ┆ 8         ┆ … ┆ 10        ┆ 0         ┆ 0         ┆ 16       │\n",
       "│ Zzef1     ┆ 0         ┆ 0         ┆ 8         ┆ … ┆ 10        ┆ 0         ┆ 0         ┆ 16       │\n",
       "│ Zzz3      ┆ 0         ┆ 0         ┆ 8         ┆ … ┆ 8         ┆ 0         ┆ 0         ┆ 16       │\n",
       "└───────────┴───────────┴───────────┴───────────┴───┴───────────┴───────────┴───────────┴──────────┘"
      ]
     },
     "metadata": {},
     "output_type": "display_data"
    }
   ],
   "source": [
    "# remove the suffix from the column name\n",
    "def remove_suffix(col_name):\n",
    "    return col_name.rsplit('_', 1)[0]\n",
    "\n",
    "\n",
    "# get the sample column list\n",
    "sample_columns = set(remove_suffix(col) for col in result.columns if col != 'GENEID')\n",
    "\n",
    "print(sample_columns)\n",
    "\n",
    "counts = []\n",
    "for sample in sample_columns:\n",
    "    # get the dataframe for each sample\n",
    "    sample_df = result.select(\n",
    "        ['GENEID'] + [col for col in result.columns if remove_suffix(col) == sample]\n",
    "    )\n",
    "    # count the number of UP, DOWN, UNCHANGED\n",
    "    count = sample_df.with_columns([\n",
    "        (pl.sum_horizontal([\n",
    "            (pl.col(col) == \"UP\").cast(pl.Int32) for col in sample_df.columns if col != \"GENEID\"\n",
    "        ])).alias(f\"UP({sample})\"),\n",
    "        (pl.sum_horizontal([\n",
    "            (pl.col(col) == \"DOWN\").cast(pl.Int32) for col in sample_df.columns if col != \"GENEID\"\n",
    "        ])).alias(f\"DOWN({sample})\"),\n",
    "        pl.sum_horizontal([\n",
    "            (pl.col(col) == \"UNCHANGED\").cast(pl.Int32) for col in sample_df.columns if col != \"GENEID\"\n",
    "        ]).alias(f\"UNCHANGED({sample})\")\n",
    "    ])\n",
    "    # append the count to the counts list\n",
    "    counts.append(count)\n",
    "\n",
    "# combine all samples\n",
    "final_count = counts[0] # initialize the final_count with the first count\n",
    "for count in counts[1:]: # [1:] is the list of counts from the second sample to the last sample\n",
    "    final_count = final_count.join(\n",
    "        count, \n",
    "        on=['GENEID'], \n",
    "        how='left',\n",
    "        coalesce=True\n",
    "    )\n",
    "\n",
    "final_count = final_count.select(\n",
    "    ['GENEID'] + [col for col in final_count.columns if col.startswith('UP(') or col.startswith('DOWN(') or col.startswith('UNCHANGED(')]\n",
    ")\n",
    "\n",
    "display(final_count)"
   ]
  },
  {
   "cell_type": "code",
   "execution_count": 9,
   "metadata": {},
   "outputs": [
    {
     "name": "stdout",
     "output_type": "stream",
     "text": [
      "['immortalized-MEFs', 'mESC', 'quadriceps-femoris-muscle', 'Splenic-B220+-cells', 'mammary-gland', 'Mouse-splenic-CD4+-T-cells', 'CD8-T-cell', '3T3-cells', 'Vestibular-system-tissue-Utricle', 'cortexbrain', 'mouse-embryonic-fibroblasts', 'Mouse-testicular-peritubular-myoid-PTM-cells', 'NIH/3T3-cells', 'pituitary', 'kidney', 'B16-OVAmouse-melanoma-cell', 'Fetal-jejunum', 'Testis', 'Raw264.7.', 'hypothalamus', 'MEF', 'Fetal-duodenum', 'Cultured-utricles', 'Mouse-embryonic-fibroblasts', 'MEF-cells', 'Placenta', 'NIH/3T3-Fibroblasts', 'Th17-cells', 'NIH3T3', 'mouse-embryonic-stem-cells']\n"
     ]
    },
    {
     "data": {
      "text/html": [
       "<div><style>\n",
       ".dataframe > thead > tr,\n",
       ".dataframe > tbody > tr {\n",
       "  text-align: right;\n",
       "  white-space: pre-wrap;\n",
       "}\n",
       "</style>\n",
       "<small>shape: (22_216, 32)</small><table border=\"1\" class=\"dataframe\"><thead><tr><th>GENEID</th><th>HN5(immortalized-MEFs)</th><th>HN5(mESC)</th><th>HN5(quadriceps-femoris-muscle)</th><th>HN5(Splenic-B220+-cells)</th><th>HN5(mammary-gland)</th><th>HN5(Mouse-splenic-CD4+-T-cells)</th><th>HN5(CD8-T-cell)</th><th>HN5(3T3-cells)</th><th>HN5(Vestibular-system-tissue-Utricle)</th><th>HN5(cortexbrain)</th><th>HN5(mouse-embryonic-fibroblasts)</th><th>HN5(Mouse-testicular-peritubular-myoid-PTM-cells)</th><th>HN5(NIH/3T3-cells)</th><th>HN5(pituitary)</th><th>HN5(kidney)</th><th>HN5(B16-OVAmouse-melanoma-cell)</th><th>HN5(Fetal-jejunum)</th><th>HN5(Testis)</th><th>HN5(Raw264.7.)</th><th>HN5(hypothalamus)</th><th>HN5(MEF)</th><th>HN5(Fetal-duodenum)</th><th>HN5(Cultured-utricles)</th><th>HN5(Mouse-embryonic-fibroblasts)</th><th>HN5(MEF-cells)</th><th>HN5(Placenta)</th><th>HN5(NIH/3T3-Fibroblasts)</th><th>HN5(Th17-cells)</th><th>HN5(NIH3T3)</th><th>HN5(mouse-embryonic-stem-cells)</th><th>HN5(all)</th></tr><tr><td>str</td><td>i32</td><td>i32</td><td>i32</td><td>i32</td><td>i32</td><td>i32</td><td>i32</td><td>i32</td><td>i32</td><td>i32</td><td>i32</td><td>i32</td><td>i32</td><td>i32</td><td>i32</td><td>i32</td><td>i32</td><td>i32</td><td>i32</td><td>i32</td><td>i32</td><td>i32</td><td>i32</td><td>i32</td><td>i32</td><td>i32</td><td>i32</td><td>i32</td><td>i32</td><td>i32</td><td>i32</td></tr></thead><tbody><tr><td>&quot;Hspa1b&quot;</td><td>8</td><td>17</td><td>4</td><td>2</td><td>8</td><td>0</td><td>2</td><td>4</td><td>4</td><td>0</td><td>2</td><td>3</td><td>2</td><td>8</td><td>14</td><td>5</td><td>1</td><td>4</td><td>0</td><td>6</td><td>13</td><td>1</td><td>17</td><td>6</td><td>5</td><td>0</td><td>2</td><td>0</td><td>10</td><td>1</td><td>149</td></tr><tr><td>&quot;Hspa1a&quot;</td><td>0</td><td>17</td><td>4</td><td>3</td><td>8</td><td>0</td><td>1</td><td>4</td><td>4</td><td>0</td><td>2</td><td>5</td><td>2</td><td>8</td><td>15</td><td>5</td><td>1</td><td>3</td><td>0</td><td>7</td><td>10</td><td>1</td><td>17</td><td>5</td><td>4</td><td>0</td><td>1</td><td>0</td><td>10</td><td>0</td><td>137</td></tr><tr><td>&quot;Hspb1&quot;</td><td>2</td><td>2</td><td>2</td><td>3</td><td>5</td><td>1</td><td>1</td><td>3</td><td>4</td><td>-1</td><td>2</td><td>3</td><td>2</td><td>6</td><td>18</td><td>5</td><td>0</td><td>8</td><td>0</td><td>4</td><td>11</td><td>0</td><td>16</td><td>0</td><td>4</td><td>0</td><td>0</td><td>0</td><td>9</td><td>1</td><td>111</td></tr><tr><td>&quot;Gm20481&quot;</td><td>3</td><td>9</td><td>0</td><td>3</td><td>4</td><td>0</td><td>0</td><td>2</td><td>4</td><td>0</td><td>1</td><td>3</td><td>1</td><td>6</td><td>15</td><td>3</td><td>-1</td><td>2</td><td>0</td><td>2</td><td>5</td><td>0</td><td>17</td><td>3</td><td>1</td><td>-1</td><td>0</td><td>1</td><td>5</td><td>0</td><td>88</td></tr><tr><td>&quot;Atf3&quot;</td><td>5</td><td>2</td><td>1</td><td>2</td><td>0</td><td>0</td><td>0</td><td>0</td><td>3</td><td>0</td><td>2</td><td>3</td><td>0</td><td>1</td><td>16</td><td>2</td><td>0</td><td>10</td><td>0</td><td>1</td><td>6</td><td>0</td><td>8</td><td>2</td><td>5</td><td>0</td><td>0</td><td>1</td><td>8</td><td>0</td><td>78</td></tr><tr><td>&hellip;</td><td>&hellip;</td><td>&hellip;</td><td>&hellip;</td><td>&hellip;</td><td>&hellip;</td><td>&hellip;</td><td>&hellip;</td><td>&hellip;</td><td>&hellip;</td><td>&hellip;</td><td>&hellip;</td><td>&hellip;</td><td>&hellip;</td><td>&hellip;</td><td>&hellip;</td><td>&hellip;</td><td>&hellip;</td><td>&hellip;</td><td>&hellip;</td><td>&hellip;</td><td>&hellip;</td><td>&hellip;</td><td>&hellip;</td><td>&hellip;</td><td>&hellip;</td><td>&hellip;</td><td>&hellip;</td><td>&hellip;</td><td>&hellip;</td><td>&hellip;</td><td>&hellip;</td></tr><tr><td>&quot;Il4i1&quot;</td><td>0</td><td>-5</td><td>0</td><td>-4</td><td>2</td><td>0</td><td>0</td><td>0</td><td>0</td><td>0</td><td>0</td><td>-1</td><td>-2</td><td>-2</td><td>0</td><td>-1</td><td>1</td><td>-6</td><td>0</td><td>-4</td><td>0</td><td>0</td><td>-1</td><td>0</td><td>-5</td><td>0</td><td>0</td><td>0</td><td>-2</td><td>0</td><td>-30</td></tr><tr><td>&quot;Spata45&quot;</td><td>0</td><td>-1</td><td>-1</td><td>2</td><td>0</td><td>-1</td><td>0</td><td>-2</td><td>0</td><td>0</td><td>-2</td><td>-2</td><td>-1</td><td>-1</td><td>0</td><td>-3</td><td>-1</td><td>-6</td><td>0</td><td>-3</td><td>-2</td><td>-1</td><td>-4</td><td>-1</td><td>-2</td><td>0</td><td>0</td><td>-2</td><td>3</td><td>0</td><td>-31</td></tr><tr><td>&quot;Tmem89&quot;</td><td>0</td><td>-2</td><td>-1</td><td>-1</td><td>0</td><td>0</td><td>0</td><td>0</td><td>0</td><td>0</td><td>-1</td><td>0</td><td>-2</td><td>-1</td><td>0</td><td>-1</td><td>-1</td><td>-7</td><td>0</td><td>-1</td><td>-7</td><td>1</td><td>-1</td><td>0</td><td>-5</td><td>0</td><td>0</td><td>0</td><td>-1</td><td>0</td><td>-31</td></tr><tr><td>&quot;Fam24b&quot;</td><td>0</td><td>-3</td><td>1</td><td>-1</td><td>1</td><td>0</td><td>1</td><td>0</td><td>-1</td><td>0</td><td>-1</td><td>0</td><td>-2</td><td>-1</td><td>0</td><td>-2</td><td>0</td><td>-7</td><td>1</td><td>-1</td><td>-5</td><td>-1</td><td>-1</td><td>-3</td><td>-4</td><td>-1</td><td>1</td><td>1</td><td>-5</td><td>0</td><td>-33</td></tr><tr><td>&quot;1700028K03Rik&quot;</td><td>0</td><td>-8</td><td>0</td><td>-1</td><td>0</td><td>-2</td><td>1</td><td>0</td><td>-1</td><td>1</td><td>0</td><td>0</td><td>0</td><td>-1</td><td>0</td><td>0</td><td>0</td><td>-2</td><td>0</td><td>-3</td><td>-9</td><td>0</td><td>-3</td><td>0</td><td>-5</td><td>0</td><td>0</td><td>0</td><td>-2</td><td>0</td><td>-35</td></tr></tbody></table></div>"
      ],
      "text/plain": [
       "shape: (22_216, 32)\n",
       "┌───────────┬───────────┬───────────┬───────────┬───┬───────────┬───────────┬───────────┬──────────┐\n",
       "│ GENEID    ┆ HN5(immor ┆ HN5(mESC) ┆ HN5(quadr ┆ … ┆ HN5(Th17- ┆ HN5(NIH3T ┆ HN5(mouse ┆ HN5(all) │\n",
       "│ ---       ┆ talized-M ┆ ---       ┆ iceps-fem ┆   ┆ cells)    ┆ 3)        ┆ -embryoni ┆ ---      │\n",
       "│ str       ┆ EFs)      ┆ i32       ┆ oris-musc ┆   ┆ ---       ┆ ---       ┆ c-stem-ce ┆ i32      │\n",
       "│           ┆ ---       ┆           ┆ le)       ┆   ┆ i32       ┆ i32       ┆ lls…      ┆          │\n",
       "│           ┆ i32       ┆           ┆ ---       ┆   ┆           ┆           ┆ ---       ┆          │\n",
       "│           ┆           ┆           ┆ i32       ┆   ┆           ┆           ┆ i32       ┆          │\n",
       "╞═══════════╪═══════════╪═══════════╪═══════════╪═══╪═══════════╪═══════════╪═══════════╪══════════╡\n",
       "│ Hspa1b    ┆ 8         ┆ 17        ┆ 4         ┆ … ┆ 0         ┆ 10        ┆ 1         ┆ 149      │\n",
       "│ Hspa1a    ┆ 0         ┆ 17        ┆ 4         ┆ … ┆ 0         ┆ 10        ┆ 0         ┆ 137      │\n",
       "│ Hspb1     ┆ 2         ┆ 2         ┆ 2         ┆ … ┆ 0         ┆ 9         ┆ 1         ┆ 111      │\n",
       "│ Gm20481   ┆ 3         ┆ 9         ┆ 0         ┆ … ┆ 1         ┆ 5         ┆ 0         ┆ 88       │\n",
       "│ Atf3      ┆ 5         ┆ 2         ┆ 1         ┆ … ┆ 1         ┆ 8         ┆ 0         ┆ 78       │\n",
       "│ …         ┆ …         ┆ …         ┆ …         ┆ … ┆ …         ┆ …         ┆ …         ┆ …        │\n",
       "│ Il4i1     ┆ 0         ┆ -5        ┆ 0         ┆ … ┆ 0         ┆ -2        ┆ 0         ┆ -30      │\n",
       "│ Spata45   ┆ 0         ┆ -1        ┆ -1        ┆ … ┆ -2        ┆ 3         ┆ 0         ┆ -31      │\n",
       "│ Tmem89    ┆ 0         ┆ -2        ┆ -1        ┆ … ┆ 0         ┆ -1        ┆ 0         ┆ -31      │\n",
       "│ Fam24b    ┆ 0         ┆ -3        ┆ 1         ┆ … ┆ 1         ┆ -5        ┆ 0         ┆ -33      │\n",
       "│ 1700028K0 ┆ 0         ┆ -8        ┆ 0         ┆ … ┆ 0         ┆ -2        ┆ 0         ┆ -35      │\n",
       "│ 3Rik      ┆           ┆           ┆           ┆   ┆           ┆           ┆           ┆          │\n",
       "└───────────┴───────────┴───────────┴───────────┴───┴───────────┴───────────┴───────────┴──────────┘"
      ]
     },
     "metadata": {},
     "output_type": "display_data"
    }
   ],
   "source": [
    "# get the sample name list\n",
    "sample_names = [col.split('(')[1].split(')')[0] for col in final_count.columns if col.startswith('UP(')]\n",
    "print(sample_names)\n",
    "\n",
    "# calculate HNscore for each sample\n",
    "HNscore_sample_count = final_count.with_columns([\n",
    "    (\n",
    "        pl.col(f'UP({sample})') - pl.col(f'DOWN({sample})')\n",
    "    ).alias(\n",
    "        f'HN{threshold}({sample})'\n",
    "    )\n",
    "    for sample in sample_names # sample_names is the list of sample names\n",
    "])\n",
    "\n",
    "# select the columns that start with HN and end with the sample name\n",
    "HNscore_sample_count = HNscore_sample_count.select(\n",
    "    ['GENEID'] + \n",
    "    [col for col in HNscore_sample_count.columns if col.startswith(f'HN{threshold}(') and col.endswith(')')]\n",
    ").with_columns(\n",
    "    pl.sum_horizontal([\n",
    "        pl.col(col) for col in HNscore_sample_count.columns if col.startswith(f'HN{threshold}(') and col.endswith(')')\n",
    "    ]).alias(f'HN{threshold}(all)')\n",
    ").sort(\n",
    "    by=[f'HN{threshold}(all)'],\n",
    "    descending=True\n",
    ")\n",
    "\n",
    "display(HNscore_sample_count)"
   ]
  },
  {
   "cell_type": "markdown",
   "metadata": {},
   "source": [
    "&nbsp;\n",
    "\n",
    "&nbsp;"
   ]
  },
  {
   "cell_type": "markdown",
   "metadata": {},
   "source": [
    "## HN-score validation"
   ]
  },
  {
   "cell_type": "code",
   "execution_count": 10,
   "metadata": {},
   "outputs": [
    {
     "data": {
      "text/plain": [
       "['HN5(immortalized-MEFs)',\n",
       " 'HN5(mESC)',\n",
       " 'HN5(quadriceps-femoris-muscle)',\n",
       " 'HN5(Splenic-B220+-cells)',\n",
       " 'HN5(mammary-gland)',\n",
       " 'HN5(Mouse-splenic-CD4+-T-cells)',\n",
       " 'HN5(CD8-T-cell)',\n",
       " 'HN5(3T3-cells)',\n",
       " 'HN5(Vestibular-system-tissue-Utricle)',\n",
       " 'HN5(cortexbrain)',\n",
       " 'HN5(mouse-embryonic-fibroblasts)',\n",
       " 'HN5(Mouse-testicular-peritubular-myoid-PTM-cells)',\n",
       " 'HN5(NIH/3T3-cells)',\n",
       " 'HN5(pituitary)',\n",
       " 'HN5(kidney)',\n",
       " 'HN5(B16-OVAmouse-melanoma-cell)',\n",
       " 'HN5(Fetal-jejunum)',\n",
       " 'HN5(Testis)',\n",
       " 'HN5(Raw264.7.)',\n",
       " 'HN5(hypothalamus)',\n",
       " 'HN5(MEF)',\n",
       " 'HN5(Fetal-duodenum)',\n",
       " 'HN5(Cultured-utricles)',\n",
       " 'HN5(Mouse-embryonic-fibroblasts)',\n",
       " 'HN5(MEF-cells)',\n",
       " 'HN5(Placenta)',\n",
       " 'HN5(NIH/3T3-Fibroblasts)',\n",
       " 'HN5(Th17-cells)',\n",
       " 'HN5(NIH3T3)',\n",
       " 'HN5(mouse-embryonic-stem-cells)']"
      ]
     },
     "metadata": {},
     "output_type": "display_data"
    }
   ],
   "source": [
    "# select HN5 columns (exclude HN5(all))\n",
    "hn5_columns = [col for col in HNscore_sample_count.columns if col.startswith(\"HN5(\") and col != \"HN5(all)\"]\n",
    "display(hn5_columns)"
   ]
  },
  {
   "cell_type": "code",
   "execution_count": 11,
   "metadata": {},
   "outputs": [
    {
     "data": {
      "text/html": [
       "<div><style>\n",
       ".dataframe > thead > tr,\n",
       ".dataframe > tbody > tr {\n",
       "  text-align: right;\n",
       "  white-space: pre-wrap;\n",
       "}\n",
       "</style>\n",
       "<small>shape: (5, 7)</small><table border=\"1\" class=\"dataframe\"><thead><tr><th>GENEID</th><th>HN5(all)</th><th>positive_samples_count_mouse</th><th>negative_samples_count_mouse</th><th>total_samples</th><th>positive_contribution_mouse</th><th>negative_contribution_mouse</th></tr><tr><td>str</td><td>i32</td><td>i32</td><td>i32</td><td>i32</td><td>str</td><td>str</td></tr></thead><tbody><tr><td>&quot;Hspa1b&quot;</td><td>149</td><td>25</td><td>0</td><td>30</td><td>&quot;25 / 30 samples positively con…</td><td>&quot;0 / 30 samples negatively cont…</td></tr><tr><td>&quot;Hspa1a&quot;</td><td>137</td><td>23</td><td>0</td><td>30</td><td>&quot;23 / 30 samples positively con…</td><td>&quot;0 / 30 samples negatively cont…</td></tr><tr><td>&quot;Hspb1&quot;</td><td>111</td><td>22</td><td>1</td><td>30</td><td>&quot;22 / 30 samples positively con…</td><td>&quot;1 / 30 samples negatively cont…</td></tr><tr><td>&quot;Gm20481&quot;</td><td>88</td><td>20</td><td>2</td><td>30</td><td>&quot;20 / 30 samples positively con…</td><td>&quot;2 / 30 samples negatively cont…</td></tr><tr><td>&quot;Atf3&quot;</td><td>78</td><td>18</td><td>0</td><td>30</td><td>&quot;18 / 30 samples positively con…</td><td>&quot;0 / 30 samples negatively cont…</td></tr></tbody></table></div>"
      ],
      "text/plain": [
       "shape: (5, 7)\n",
       "┌─────────┬──────────┬───────────────┬───────────────┬───────────────┬──────────────┬──────────────┐\n",
       "│ GENEID  ┆ HN5(all) ┆ positive_samp ┆ negative_samp ┆ total_samples ┆ positive_con ┆ negative_con │\n",
       "│ ---     ┆ ---      ┆ les_count_mou ┆ les_count_mou ┆ ---           ┆ tribution_mo ┆ tribution_mo │\n",
       "│ str     ┆ i32      ┆ se            ┆ se            ┆ i32           ┆ use          ┆ use          │\n",
       "│         ┆          ┆ ---           ┆ ---           ┆               ┆ ---          ┆ ---          │\n",
       "│         ┆          ┆ i32           ┆ i32           ┆               ┆ str          ┆ str          │\n",
       "╞═════════╪══════════╪═══════════════╪═══════════════╪═══════════════╪══════════════╪══════════════╡\n",
       "│ Hspa1b  ┆ 149      ┆ 25            ┆ 0             ┆ 30            ┆ 25 / 30      ┆ 0 / 30       │\n",
       "│         ┆          ┆               ┆               ┆               ┆ samples      ┆ samples      │\n",
       "│         ┆          ┆               ┆               ┆               ┆ positively   ┆ negatively   │\n",
       "│         ┆          ┆               ┆               ┆               ┆ con…         ┆ cont…        │\n",
       "│ Hspa1a  ┆ 137      ┆ 23            ┆ 0             ┆ 30            ┆ 23 / 30      ┆ 0 / 30       │\n",
       "│         ┆          ┆               ┆               ┆               ┆ samples      ┆ samples      │\n",
       "│         ┆          ┆               ┆               ┆               ┆ positively   ┆ negatively   │\n",
       "│         ┆          ┆               ┆               ┆               ┆ con…         ┆ cont…        │\n",
       "│ Hspb1   ┆ 111      ┆ 22            ┆ 1             ┆ 30            ┆ 22 / 30      ┆ 1 / 30       │\n",
       "│         ┆          ┆               ┆               ┆               ┆ samples      ┆ samples      │\n",
       "│         ┆          ┆               ┆               ┆               ┆ positively   ┆ negatively   │\n",
       "│         ┆          ┆               ┆               ┆               ┆ con…         ┆ cont…        │\n",
       "│ Gm20481 ┆ 88       ┆ 20            ┆ 2             ┆ 30            ┆ 20 / 30      ┆ 2 / 30       │\n",
       "│         ┆          ┆               ┆               ┆               ┆ samples      ┆ samples      │\n",
       "│         ┆          ┆               ┆               ┆               ┆ positively   ┆ negatively   │\n",
       "│         ┆          ┆               ┆               ┆               ┆ con…         ┆ cont…        │\n",
       "│ Atf3    ┆ 78       ┆ 18            ┆ 0             ┆ 30            ┆ 18 / 30      ┆ 0 / 30       │\n",
       "│         ┆          ┆               ┆               ┆               ┆ samples      ┆ samples      │\n",
       "│         ┆          ┆               ┆               ┆               ┆ positively   ┆ negatively   │\n",
       "│         ┆          ┆               ┆               ┆               ┆ con…         ┆ cont…        │\n",
       "└─────────┴──────────┴───────────────┴───────────────┴───────────────┴──────────────┴──────────────┘"
      ]
     },
     "metadata": {},
     "output_type": "display_data"
    }
   ],
   "source": [
    "# count positive and negative samples\n",
    "HNscore_sample_validate = HNscore_sample_count.with_columns([\n",
    "    pl.fold(0, lambda acc, x: acc + (x > 0).cast(pl.Int32), hn5_columns).alias(\"positive_samples_count_mouse\"),\n",
    "    pl.fold(0, lambda acc, x: acc + (x < 0).cast(pl.Int32), hn5_columns).alias(\"negative_samples_count_mouse\")\n",
    "])\n",
    "\n",
    "# assign tag to the contribution of samples\n",
    "def tag_contribution(count, type, hn5_column):\n",
    "    total_samples = len(hn5_column)\n",
    "    if count == total_samples:\n",
    "        return f\"all samples {type} contribute to the score\"\n",
    "    else:\n",
    "        return f\"{count} / {total_samples} samples {type} contribute to the score\"\n",
    "    \n",
    "HNscore_sample_validate = HNscore_sample_validate.with_columns([\n",
    "    pl.lit(len(hn5_columns)).alias(\"total_samples\"),\n",
    "    pl.col(\"positive_samples_count_mouse\").map_elements(lambda x: tag_contribution(x, \"positively\", hn5_columns), return_dtype=pl.Utf8).alias(\"positive_contribution_mouse\"),\n",
    "    pl.col(\"negative_samples_count_mouse\").map_elements(lambda x: tag_contribution(x, \"negatively\", hn5_columns), return_dtype=pl.Utf8).alias(\"negative_contribution_mouse\")\n",
    "]\n",
    ").sort(\n",
    "    by=[\"HN5(all)\"],\n",
    "    descending=True\n",
    ").drop(\n",
    "    hn5_columns\n",
    ")\n",
    "\n",
    "# save the result to csv\n",
    "HNscore_sample_validate.write_csv(\n",
    "    f'../Data/Data_HNscore/HNscore_sample_validate_HN{threshold}_mouse.tsv',\n",
    "    separator='\\t'\n",
    ")\n",
    "\n",
    "display(HNscore_sample_validate.head())"
   ]
  },
  {
   "cell_type": "markdown",
   "metadata": {},
   "source": [
    "&nbsp;\n",
    "\n",
    "&nbsp;\n"
   ]
  },
  {
   "cell_type": "markdown",
   "metadata": {},
   "source": [
    "## Convert check\n",
    "\n",
    "- Ensembl Biomartでヒトと互換性があるか確認しておく\n",
    "- TogoIDでヒットしたヒトのUniProt IDをキーにMGI IDを取得しておく"
   ]
  },
  {
   "cell_type": "code",
   "execution_count": 12,
   "metadata": {},
   "outputs": [
    {
     "name": "stdout",
     "output_type": "stream",
     "text": [
      "  % Total    % Received % Xferd  Average Speed   Time    Time     Time  Current\n",
      "                                 Dload  Upload   Total   Spent    Left  Speed\n",
      "100 60262  100 49160  100 11102  12537   2831  0:00:03  0:00:03 --:--:-- 15365\n",
      "  % Total    % Received % Xferd  Average Speed   Time    Time     Time  Current\n",
      "                                 Dload  Upload   Total   Spent    Left  Speed\n",
      "100 58246  100 49644  100  8602  27749   4808  0:00:01  0:00:01 --:--:-- 32539\n",
      "  % Total    % Received % Xferd  Average Speed   Time    Time     Time  Current\n",
      "                                 Dload  Upload   Total   Spent    Left  Speed\n",
      "100 51111  100 44009  100  7102  28595   4614  0:00:01  0:00:01 --:--:-- 33210\n",
      "  % Total    % Received % Xferd  Average Speed   Time    Time     Time  Current\n",
      "                                 Dload  Upload   Total   Spent    Left  Speed\n",
      "100  154k  100  147k  100  7102  48808   2294  0:00:03  0:00:03 --:--:-- 51102\n",
      "  % Total    % Received % Xferd  Average Speed   Time    Time     Time  Current\n",
      "                                 Dload  Upload   Total   Spent    Left  Speed\n",
      "100 85020  100 77918  100  7102  66825   6090  0:00:01  0:00:01 --:--:-- 72915\n",
      "  % Total    % Received % Xferd  Average Speed   Time    Time     Time  Current\n",
      "                                 Dload  Upload   Total   Spent    Left  Speed\n",
      "100  123k  100  117k  100  6402  78177   4165  0:00:01  0:00:01 --:--:-- 82342\n",
      "  % Total    % Received % Xferd  Average Speed   Time    Time     Time  Current\n",
      "                                 Dload  Upload   Total   Spent    Left  Speed\n",
      "100 61210  100 50108  100 11102  72831  16136 --:--:-- --:--:-- --:--:-- 88968\n",
      "  % Total    % Received % Xferd  Average Speed   Time    Time     Time  Current\n",
      "                                 Dload  Upload   Total   Spent    Left  Speed\n",
      "100 37740  100 30158  100  7582  65847  16554 --:--:-- --:--:-- --:--:-- 82222\n",
      "  % Total    % Received % Xferd  Average Speed   Time    Time     Time  Current\n",
      "                                 Dload  Upload   Total   Spent    Left  Speed\n",
      "100 94317  100 87215  100  7102  98883   8052 --:--:-- --:--:-- --:--:--  104k\n",
      "  % Total    % Received % Xferd  Average Speed   Time    Time     Time  Current\n",
      "                                 Dload  Upload   Total   Spent    Left  Speed\n",
      "100  137k  100  130k  100  7102   115k   6307  0:00:01  0:00:01 --:--:--  122k\n",
      "  % Total    % Received % Xferd  Average Speed   Time    Time     Time  Current\n",
      "                                 Dload  Upload   Total   Spent    Left  Speed\n",
      "100  123k  100  117k  100  6598   126k   7094 --:--:-- --:--:-- --:--:--  132k\n"
     ]
    }
   ],
   "source": [
    "!bash ../scripts/togoid_convert.sh ../out/rice_up/uniprot_id_human_up.txt ../out/rice_up/ uniprot,ensembl_protein,ensembl_transcript,ensembl_gene,hgnc,mgi_gene rice_up_togoid_convert_to_mouse.tsv\n",
    "!bash ../scripts/togoid_convert.sh ../out/rice_down/uniprot_id_human_down.txt ../out/rice_down/ uniprot,ensembl_protein,ensembl_transcript,ensembl_gene,hgnc,mgi_gene rice_down_togoid_convert_to_mouse.tsv"
   ]
  },
  {
   "cell_type": "code",
   "execution_count": 13,
   "metadata": {},
   "outputs": [
    {
     "data": {
      "text/html": [
       "<div><style>\n",
       ".dataframe > thead > tr,\n",
       ".dataframe > tbody > tr {\n",
       "  text-align: right;\n",
       "  white-space: pre-wrap;\n",
       "}\n",
       "</style>\n",
       "<small>shape: (6_517, 6)</small><table border=\"1\" class=\"dataframe\"><thead><tr><th>uniprot_id</th><th>ensembl_protein_id</th><th>ensembl_transcript_id</th><th>ensembl_gene_id</th><th>hgnc_id</th><th>mgi_gene_id</th></tr><tr><td>str</td><td>str</td><td>str</td><td>str</td><td>i64</td><td>i64</td></tr></thead><tbody><tr><td>&quot;A0A024QZW4&quot;</td><td>&quot;ENSP00000518269&quot;</td><td>&quot;ENST00000710437&quot;</td><td>&quot;ENSG00000124786&quot;</td><td>21601</td><td>1913978</td></tr><tr><td>&quot;A0A024QZW4&quot;</td><td>&quot;ENSP00000498054&quot;</td><td>&quot;ENST00000648987&quot;</td><td>&quot;ENSG00000124786&quot;</td><td>21601</td><td>1913978</td></tr><tr><td>&quot;A0A024R3B9&quot;</td><td>&quot;ENSP00000435411&quot;</td><td>&quot;ENST00000525823&quot;</td><td>&quot;ENSG00000109846&quot;</td><td>2389</td><td>88516</td></tr><tr><td>&quot;A0A024R3B9&quot;</td><td>&quot;ENSP00000435960&quot;</td><td>&quot;ENST00000528961&quot;</td><td>&quot;ENSG00000109846&quot;</td><td>2389</td><td>88516</td></tr><tr><td>&quot;A0A024R3B9&quot;</td><td>&quot;ENSP00000435046&quot;</td><td>&quot;ENST00000533280&quot;</td><td>&quot;ENSG00000109846&quot;</td><td>2389</td><td>88516</td></tr><tr><td>&hellip;</td><td>&hellip;</td><td>&hellip;</td><td>&hellip;</td><td>&hellip;</td><td>&hellip;</td></tr><tr><td>&quot;X6RA14&quot;</td><td>&quot;ENSP00000367969&quot;</td><td>&quot;ENST00000378697&quot;</td><td>&quot;ENSG00000139684&quot;</td><td>3465</td><td>95421</td></tr><tr><td>&quot;X6RBJ8&quot;</td><td>&quot;ENSP00000380187&quot;</td><td>&quot;ENST00000396990&quot;</td><td>&quot;ENSG00000198876&quot;</td><td>19911</td><td>1916220</td></tr><tr><td>&quot;X6RHX1&quot;</td><td>&quot;ENSP00000407993&quot;</td><td>&quot;ENST00000423670&quot;</td><td>&quot;ENSG00000000457&quot;</td><td>19285</td><td>1921385</td></tr><tr><td>&quot;X6RID7&quot;</td><td>&quot;ENSP00000409527&quot;</td><td>&quot;ENST00000433268&quot;</td><td>&quot;ENSG00000156042&quot;</td><td>30726</td><td>1923920</td></tr><tr><td>&quot;X6RL26&quot;</td><td>&quot;ENSP00000415833&quot;</td><td>&quot;ENST00000450964&quot;</td><td>&quot;ENSG00000198876&quot;</td><td>19911</td><td>1916220</td></tr></tbody></table></div>"
      ],
      "text/plain": [
       "shape: (6_517, 6)\n",
       "┌────────────┬────────────────────┬──────────────────────┬─────────────────┬─────────┬─────────────┐\n",
       "│ uniprot_id ┆ ensembl_protein_id ┆ ensembl_transcript_i ┆ ensembl_gene_id ┆ hgnc_id ┆ mgi_gene_id │\n",
       "│ ---        ┆ ---                ┆ d                    ┆ ---             ┆ ---     ┆ ---         │\n",
       "│ str        ┆ str                ┆ ---                  ┆ str             ┆ i64     ┆ i64         │\n",
       "│            ┆                    ┆ str                  ┆                 ┆         ┆             │\n",
       "╞════════════╪════════════════════╪══════════════════════╪═════════════════╪═════════╪═════════════╡\n",
       "│ A0A024QZW4 ┆ ENSP00000518269    ┆ ENST00000710437      ┆ ENSG00000124786 ┆ 21601   ┆ 1913978     │\n",
       "│ A0A024QZW4 ┆ ENSP00000498054    ┆ ENST00000648987      ┆ ENSG00000124786 ┆ 21601   ┆ 1913978     │\n",
       "│ A0A024R3B9 ┆ ENSP00000435411    ┆ ENST00000525823      ┆ ENSG00000109846 ┆ 2389    ┆ 88516       │\n",
       "│ A0A024R3B9 ┆ ENSP00000435960    ┆ ENST00000528961      ┆ ENSG00000109846 ┆ 2389    ┆ 88516       │\n",
       "│ A0A024R3B9 ┆ ENSP00000435046    ┆ ENST00000533280      ┆ ENSG00000109846 ┆ 2389    ┆ 88516       │\n",
       "│ …          ┆ …                  ┆ …                    ┆ …               ┆ …       ┆ …           │\n",
       "│ X6RA14     ┆ ENSP00000367969    ┆ ENST00000378697      ┆ ENSG00000139684 ┆ 3465    ┆ 95421       │\n",
       "│ X6RBJ8     ┆ ENSP00000380187    ┆ ENST00000396990      ┆ ENSG00000198876 ┆ 19911   ┆ 1916220     │\n",
       "│ X6RHX1     ┆ ENSP00000407993    ┆ ENST00000423670      ┆ ENSG00000000457 ┆ 19285   ┆ 1921385     │\n",
       "│ X6RID7     ┆ ENSP00000409527    ┆ ENST00000433268      ┆ ENSG00000156042 ┆ 30726   ┆ 1923920     │\n",
       "│ X6RL26     ┆ ENSP00000415833    ┆ ENST00000450964      ┆ ENSG00000198876 ┆ 19911   ┆ 1916220     │\n",
       "└────────────┴────────────────────┴──────────────────────┴─────────────────┴─────────┴─────────────┘"
      ]
     },
     "metadata": {},
     "output_type": "display_data"
    }
   ],
   "source": [
    "togoid_convert_to_mouse_up = pl.read_csv(\n",
    "    \"../out/rice_up/rice_up_togoid_convert_to_mouse.tsv\",\n",
    "    separator=\"\\t\"\n",
    ").filter(\n",
    "    pl.col(\"hgnc_id\").is_not_null()\n",
    ")\n",
    "\n",
    "display(togoid_convert_to_mouse_up)"
   ]
  },
  {
   "cell_type": "code",
   "execution_count": 14,
   "metadata": {},
   "outputs": [
    {
     "data": {
      "text/html": [
       "<div><style>\n",
       ".dataframe > thead > tr,\n",
       ".dataframe > tbody > tr {\n",
       "  text-align: right;\n",
       "  white-space: pre-wrap;\n",
       "}\n",
       "</style>\n",
       "<small>shape: (5_588, 6)</small><table border=\"1\" class=\"dataframe\"><thead><tr><th>uniprot_id</th><th>ensembl_protein_id</th><th>ensembl_transcript_id</th><th>ensembl_gene_id</th><th>hgnc_id</th><th>mgi_gene_id</th></tr><tr><td>str</td><td>str</td><td>str</td><td>str</td><td>i64</td><td>i64</td></tr></thead><tbody><tr><td>&quot;A0A024QZP7&quot;</td><td>&quot;ENSP00000397973&quot;</td><td>&quot;ENST00000448257&quot;</td><td>&quot;ENSG00000170312&quot;</td><td>1722</td><td>88351</td></tr><tr><td>&quot;A0A024QZW4&quot;</td><td>&quot;ENSP00000498054&quot;</td><td>&quot;ENST00000648987&quot;</td><td>&quot;ENSG00000124786&quot;</td><td>21601</td><td>1913978</td></tr><tr><td>&quot;A0A024QZW4&quot;</td><td>&quot;ENSP00000518269&quot;</td><td>&quot;ENST00000710437&quot;</td><td>&quot;ENSG00000124786&quot;</td><td>21601</td><td>1913978</td></tr><tr><td>&quot;A0A024R3M2&quot;</td><td>&quot;ENSP00000489896&quot;</td><td>&quot;ENST00000638157&quot;</td><td>&quot;ENSG00000023171&quot;</td><td>29214</td><td>1925037</td></tr><tr><td>&quot;A0A024R5G9&quot;</td><td>&quot;ENSP00000435822&quot;</td><td>&quot;ENST00000526010&quot;</td><td>&quot;ENSG00000174080&quot;</td><td>2531</td><td>1861434</td></tr><tr><td>&hellip;</td><td>&hellip;</td><td>&hellip;</td><td>&hellip;</td><td>&hellip;</td><td>&hellip;</td></tr><tr><td>&quot;X6RGV9&quot;</td><td>&quot;ENSP00000403953&quot;</td><td>&quot;ENST00000420055&quot;</td><td>&quot;ENSG00000162639&quot;</td><td>26400</td><td>1913965</td></tr><tr><td>&quot;X6RI37&quot;</td><td>&quot;ENSP00000408275&quot;</td><td>&quot;ENST00000451838&quot;</td><td>&quot;ENSG00000108061&quot;</td><td>15454</td><td>1927197</td></tr><tr><td>&quot;X6RI37&quot;</td><td>&quot;ENSP00000510700&quot;</td><td>&quot;ENST00000689997&quot;</td><td>&quot;ENSG00000108061&quot;</td><td>15454</td><td>1927197</td></tr><tr><td>&quot;X6RIU2&quot;</td><td>&quot;ENSP00000409912&quot;</td><td>&quot;ENST00000442513&quot;</td><td>&quot;ENSG00000163075&quot;</td><td>33720</td><td>2684947</td></tr><tr><td>&quot;X6RM59&quot;</td><td>&quot;ENSP00000476480&quot;</td><td>&quot;ENST00000610140&quot;</td><td>&quot;ENSG00000122643&quot;</td><td>17820</td><td>1927186</td></tr></tbody></table></div>"
      ],
      "text/plain": [
       "shape: (5_588, 6)\n",
       "┌────────────┬────────────────────┬──────────────────────┬─────────────────┬─────────┬─────────────┐\n",
       "│ uniprot_id ┆ ensembl_protein_id ┆ ensembl_transcript_i ┆ ensembl_gene_id ┆ hgnc_id ┆ mgi_gene_id │\n",
       "│ ---        ┆ ---                ┆ d                    ┆ ---             ┆ ---     ┆ ---         │\n",
       "│ str        ┆ str                ┆ ---                  ┆ str             ┆ i64     ┆ i64         │\n",
       "│            ┆                    ┆ str                  ┆                 ┆         ┆             │\n",
       "╞════════════╪════════════════════╪══════════════════════╪═════════════════╪═════════╪═════════════╡\n",
       "│ A0A024QZP7 ┆ ENSP00000397973    ┆ ENST00000448257      ┆ ENSG00000170312 ┆ 1722    ┆ 88351       │\n",
       "│ A0A024QZW4 ┆ ENSP00000498054    ┆ ENST00000648987      ┆ ENSG00000124786 ┆ 21601   ┆ 1913978     │\n",
       "│ A0A024QZW4 ┆ ENSP00000518269    ┆ ENST00000710437      ┆ ENSG00000124786 ┆ 21601   ┆ 1913978     │\n",
       "│ A0A024R3M2 ┆ ENSP00000489896    ┆ ENST00000638157      ┆ ENSG00000023171 ┆ 29214   ┆ 1925037     │\n",
       "│ A0A024R5G9 ┆ ENSP00000435822    ┆ ENST00000526010      ┆ ENSG00000174080 ┆ 2531    ┆ 1861434     │\n",
       "│ …          ┆ …                  ┆ …                    ┆ …               ┆ …       ┆ …           │\n",
       "│ X6RGV9     ┆ ENSP00000403953    ┆ ENST00000420055      ┆ ENSG00000162639 ┆ 26400   ┆ 1913965     │\n",
       "│ X6RI37     ┆ ENSP00000408275    ┆ ENST00000451838      ┆ ENSG00000108061 ┆ 15454   ┆ 1927197     │\n",
       "│ X6RI37     ┆ ENSP00000510700    ┆ ENST00000689997      ┆ ENSG00000108061 ┆ 15454   ┆ 1927197     │\n",
       "│ X6RIU2     ┆ ENSP00000409912    ┆ ENST00000442513      ┆ ENSG00000163075 ┆ 33720   ┆ 2684947     │\n",
       "│ X6RM59     ┆ ENSP00000476480    ┆ ENST00000610140      ┆ ENSG00000122643 ┆ 17820   ┆ 1927186     │\n",
       "└────────────┴────────────────────┴──────────────────────┴─────────────────┴─────────┴─────────────┘"
      ]
     },
     "metadata": {},
     "output_type": "display_data"
    }
   ],
   "source": [
    "togoid_convert_to_mouse_down = pl.read_csv(\n",
    "    \"../out/rice_down/rice_down_togoid_convert_to_mouse.tsv\",\n",
    "    separator=\"\\t\"\n",
    ").filter(\n",
    "    pl.col(\"hgnc_id\").is_not_null()\n",
    ")\n",
    "\n",
    "display(togoid_convert_to_mouse_down)"
   ]
  },
  {
   "cell_type": "code",
   "execution_count": 15,
   "metadata": {},
   "outputs": [
    {
     "data": {
      "text/html": [
       "<div><style>\n",
       ".dataframe > thead > tr,\n",
       ".dataframe > tbody > tr {\n",
       "  text-align: right;\n",
       "  white-space: pre-wrap;\n",
       "}\n",
       "</style>\n",
       "<small>shape: (5, 8)</small><table border=\"1\" class=\"dataframe\"><thead><tr><th>uniprot_id</th><th>ensembl_protein_id</th><th>ensembl_transcript_id</th><th>ensembl_gene_id</th><th>hgnc_id</th><th>mgi_gene_id</th><th>Mouse Gene ID</th><th>GENEID</th></tr><tr><td>str</td><td>str</td><td>str</td><td>str</td><td>i64</td><td>i64</td><td>str</td><td>str</td></tr></thead><tbody><tr><td>&quot;A0A024QZW4&quot;</td><td>&quot;ENSP00000518269&quot;</td><td>&quot;ENST00000710437&quot;</td><td>&quot;ENSG00000124786&quot;</td><td>21601</td><td>1913978</td><td>&quot;ENSMUSG00000021432&quot;</td><td>&quot;Slc35b3&quot;</td></tr><tr><td>&quot;A0A024QZW4&quot;</td><td>&quot;ENSP00000498054&quot;</td><td>&quot;ENST00000648987&quot;</td><td>&quot;ENSG00000124786&quot;</td><td>21601</td><td>1913978</td><td>&quot;ENSMUSG00000021432&quot;</td><td>&quot;Slc35b3&quot;</td></tr><tr><td>&quot;A0A024R3B9&quot;</td><td>&quot;ENSP00000435411&quot;</td><td>&quot;ENST00000525823&quot;</td><td>&quot;ENSG00000109846&quot;</td><td>2389</td><td>88516</td><td>&quot;ENSMUSG00000032060&quot;</td><td>&quot;Cryab&quot;</td></tr><tr><td>&quot;A0A024R3B9&quot;</td><td>&quot;ENSP00000435960&quot;</td><td>&quot;ENST00000528961&quot;</td><td>&quot;ENSG00000109846&quot;</td><td>2389</td><td>88516</td><td>&quot;ENSMUSG00000032060&quot;</td><td>&quot;Cryab&quot;</td></tr><tr><td>&quot;A0A024R3B9&quot;</td><td>&quot;ENSP00000435046&quot;</td><td>&quot;ENST00000533280&quot;</td><td>&quot;ENSG00000109846&quot;</td><td>2389</td><td>88516</td><td>&quot;ENSMUSG00000032060&quot;</td><td>&quot;Cryab&quot;</td></tr></tbody></table></div>"
      ],
      "text/plain": [
       "shape: (5, 8)\n",
       "┌────────────┬─────────────┬────────────┬────────────┬─────────┬────────────┬────────────┬─────────┐\n",
       "│ uniprot_id ┆ ensembl_pro ┆ ensembl_tr ┆ ensembl_ge ┆ hgnc_id ┆ mgi_gene_i ┆ Mouse Gene ┆ GENEID  │\n",
       "│ ---        ┆ tein_id     ┆ anscript_i ┆ ne_id      ┆ ---     ┆ d          ┆ ID         ┆ ---     │\n",
       "│ str        ┆ ---         ┆ d          ┆ ---        ┆ i64     ┆ ---        ┆ ---        ┆ str     │\n",
       "│            ┆ str         ┆ ---        ┆ str        ┆         ┆ i64        ┆ str        ┆         │\n",
       "│            ┆             ┆ str        ┆            ┆         ┆            ┆            ┆         │\n",
       "╞════════════╪═════════════╪════════════╪════════════╪═════════╪════════════╪════════════╪═════════╡\n",
       "│ A0A024QZW4 ┆ ENSP0000051 ┆ ENST000007 ┆ ENSG000001 ┆ 21601   ┆ 1913978    ┆ ENSMUSG000 ┆ Slc35b3 │\n",
       "│            ┆ 8269        ┆ 10437      ┆ 24786      ┆         ┆            ┆ 00021432   ┆         │\n",
       "│ A0A024QZW4 ┆ ENSP0000049 ┆ ENST000006 ┆ ENSG000001 ┆ 21601   ┆ 1913978    ┆ ENSMUSG000 ┆ Slc35b3 │\n",
       "│            ┆ 8054        ┆ 48987      ┆ 24786      ┆         ┆            ┆ 00021432   ┆         │\n",
       "│ A0A024R3B9 ┆ ENSP0000043 ┆ ENST000005 ┆ ENSG000001 ┆ 2389    ┆ 88516      ┆ ENSMUSG000 ┆ Cryab   │\n",
       "│            ┆ 5411        ┆ 25823      ┆ 09846      ┆         ┆            ┆ 00032060   ┆         │\n",
       "│ A0A024R3B9 ┆ ENSP0000043 ┆ ENST000005 ┆ ENSG000001 ┆ 2389    ┆ 88516      ┆ ENSMUSG000 ┆ Cryab   │\n",
       "│            ┆ 5960        ┆ 28961      ┆ 09846      ┆         ┆            ┆ 00032060   ┆         │\n",
       "│ A0A024R3B9 ┆ ENSP0000043 ┆ ENST000005 ┆ ENSG000001 ┆ 2389    ┆ 88516      ┆ ENSMUSG000 ┆ Cryab   │\n",
       "│            ┆ 5046        ┆ 33280      ┆ 09846      ┆         ┆            ┆ 00032060   ┆         │\n",
       "└────────────┴─────────────┴────────────┴────────────┴─────────┴────────────┴────────────┴─────────┘"
      ]
     },
     "metadata": {},
     "output_type": "display_data"
    },
    {
     "data": {
      "text/html": [
       "<div><style>\n",
       ".dataframe > thead > tr,\n",
       ".dataframe > tbody > tr {\n",
       "  text-align: right;\n",
       "  white-space: pre-wrap;\n",
       "}\n",
       "</style>\n",
       "<small>shape: (5, 8)</small><table border=\"1\" class=\"dataframe\"><thead><tr><th>uniprot_id</th><th>ensembl_protein_id</th><th>ensembl_transcript_id</th><th>ensembl_gene_id</th><th>hgnc_id</th><th>mgi_gene_id</th><th>Mouse Gene ID</th><th>GENEID</th></tr><tr><td>str</td><td>str</td><td>str</td><td>str</td><td>i64</td><td>i64</td><td>str</td><td>str</td></tr></thead><tbody><tr><td>&quot;A0A024QZP7&quot;</td><td>&quot;ENSP00000397973&quot;</td><td>&quot;ENST00000448257&quot;</td><td>&quot;ENSG00000170312&quot;</td><td>1722</td><td>88351</td><td>&quot;ENSMUSG00000019942&quot;</td><td>&quot;Cdk1&quot;</td></tr><tr><td>&quot;A0A024QZW4&quot;</td><td>&quot;ENSP00000498054&quot;</td><td>&quot;ENST00000648987&quot;</td><td>&quot;ENSG00000124786&quot;</td><td>21601</td><td>1913978</td><td>&quot;ENSMUSG00000021432&quot;</td><td>&quot;Slc35b3&quot;</td></tr><tr><td>&quot;A0A024QZW4&quot;</td><td>&quot;ENSP00000518269&quot;</td><td>&quot;ENST00000710437&quot;</td><td>&quot;ENSG00000124786&quot;</td><td>21601</td><td>1913978</td><td>&quot;ENSMUSG00000021432&quot;</td><td>&quot;Slc35b3&quot;</td></tr><tr><td>&quot;A0A024R3M2&quot;</td><td>&quot;ENSP00000489896&quot;</td><td>&quot;ENST00000638157&quot;</td><td>&quot;ENSG00000023171&quot;</td><td>29214</td><td>1925037</td><td>&quot;ENSMUSG00000040111&quot;</td><td>&quot;Gramd1b&quot;</td></tr><tr><td>&quot;A0A024R5G9&quot;</td><td>&quot;ENSP00000435822&quot;</td><td>&quot;ENST00000526010&quot;</td><td>&quot;ENSG00000174080&quot;</td><td>2531</td><td>1861434</td><td>&quot;ENSMUSG00000083282&quot;</td><td>&quot;Ctsf&quot;</td></tr></tbody></table></div>"
      ],
      "text/plain": [
       "shape: (5, 8)\n",
       "┌────────────┬─────────────┬────────────┬────────────┬─────────┬────────────┬────────────┬─────────┐\n",
       "│ uniprot_id ┆ ensembl_pro ┆ ensembl_tr ┆ ensembl_ge ┆ hgnc_id ┆ mgi_gene_i ┆ Mouse Gene ┆ GENEID  │\n",
       "│ ---        ┆ tein_id     ┆ anscript_i ┆ ne_id      ┆ ---     ┆ d          ┆ ID         ┆ ---     │\n",
       "│ str        ┆ ---         ┆ d          ┆ ---        ┆ i64     ┆ ---        ┆ ---        ┆ str     │\n",
       "│            ┆ str         ┆ ---        ┆ str        ┆         ┆ i64        ┆ str        ┆         │\n",
       "│            ┆             ┆ str        ┆            ┆         ┆            ┆            ┆         │\n",
       "╞════════════╪═════════════╪════════════╪════════════╪═════════╪════════════╪════════════╪═════════╡\n",
       "│ A0A024QZP7 ┆ ENSP0000039 ┆ ENST000004 ┆ ENSG000001 ┆ 1722    ┆ 88351      ┆ ENSMUSG000 ┆ Cdk1    │\n",
       "│            ┆ 7973        ┆ 48257      ┆ 70312      ┆         ┆            ┆ 00019942   ┆         │\n",
       "│ A0A024QZW4 ┆ ENSP0000049 ┆ ENST000006 ┆ ENSG000001 ┆ 21601   ┆ 1913978    ┆ ENSMUSG000 ┆ Slc35b3 │\n",
       "│            ┆ 8054        ┆ 48987      ┆ 24786      ┆         ┆            ┆ 00021432   ┆         │\n",
       "│ A0A024QZW4 ┆ ENSP0000051 ┆ ENST000007 ┆ ENSG000001 ┆ 21601   ┆ 1913978    ┆ ENSMUSG000 ┆ Slc35b3 │\n",
       "│            ┆ 8269        ┆ 10437      ┆ 24786      ┆         ┆            ┆ 00021432   ┆         │\n",
       "│ A0A024R3M2 ┆ ENSP0000048 ┆ ENST000006 ┆ ENSG000000 ┆ 29214   ┆ 1925037    ┆ ENSMUSG000 ┆ Gramd1b │\n",
       "│            ┆ 9896        ┆ 38157      ┆ 23171      ┆         ┆            ┆ 00040111   ┆         │\n",
       "│ A0A024R5G9 ┆ ENSP0000043 ┆ ENST000005 ┆ ENSG000001 ┆ 2531    ┆ 1861434    ┆ ENSMUSG000 ┆ Ctsf    │\n",
       "│            ┆ 5822        ┆ 26010      ┆ 74080      ┆         ┆            ┆ 00083282   ┆         │\n",
       "└────────────┴─────────────┴────────────┴────────────┴─────────┴────────────┴────────────┴─────────┘"
      ]
     },
     "metadata": {},
     "output_type": "display_data"
    }
   ],
   "source": [
    "mouse_convert_symbol = pl.read_csv(\n",
    "    \"../Data/Data_HNscore/mouse_convert_symbol.tsv\", # Dowonload from Ensembl Biomart\n",
    "    separator=\"\\t\"\n",
    ").with_columns(\n",
    "    pl.col(\"MGI ID\").str.replace(\"MGI:\", \"\").cast(pl.Int64).alias(\"mgi_gene_id\")\n",
    ").drop(\n",
    "    \"MGI ID\"\n",
    ").rename(\n",
    "    {\n",
    "        \"Gene stable ID\": \"Mouse Gene ID\",\n",
    "        \"MGI symbol\": \"GENEID\"\n",
    "    }\n",
    ")\n",
    "\n",
    "human_hit_to_mgiid_up = togoid_convert_to_mouse_up.join(\n",
    "    mouse_convert_symbol,\n",
    "    on=\"mgi_gene_id\",\n",
    "    how=\"left\",\n",
    "    coalesce=True\n",
    ")\n",
    "\n",
    "human_hit_to_mgiid_down = togoid_convert_to_mouse_down.join(\n",
    "    mouse_convert_symbol,\n",
    "    on=\"mgi_gene_id\",\n",
    "    how=\"left\",\n",
    "    coalesce=True\n",
    ")\n",
    "\n",
    "display(human_hit_to_mgiid_up.head())\n",
    "display(human_hit_to_mgiid_down.head())"
   ]
  },
  {
   "cell_type": "markdown",
   "metadata": {},
   "source": [
    "&nbsp;\n",
    "\n",
    "&nbsp;\n"
   ]
  },
  {
   "cell_type": "code",
   "execution_count": 16,
   "metadata": {},
   "outputs": [
    {
     "data": {
      "text/html": [
       "<div><style>\n",
       ".dataframe > thead > tr,\n",
       ".dataframe > tbody > tr {\n",
       "  text-align: right;\n",
       "  white-space: pre-wrap;\n",
       "}\n",
       "</style>\n",
       "<small>shape: (6_230, 14)</small><table border=\"1\" class=\"dataframe\"><thead><tr><th>uniprot_id</th><th>ensembl_protein_id</th><th>ensembl_transcript_id</th><th>ensembl_gene_id</th><th>hgnc_id</th><th>mgi_gene_id</th><th>Mouse Gene ID</th><th>GENEID</th><th>HN5(all)</th><th>positive_samples_count_mouse</th><th>negative_samples_count_mouse</th><th>total_samples</th><th>positive_contribution_mouse</th><th>negative_contribution_mouse</th></tr><tr><td>str</td><td>str</td><td>str</td><td>str</td><td>i64</td><td>i64</td><td>str</td><td>str</td><td>i32</td><td>i32</td><td>i32</td><td>i32</td><td>str</td><td>str</td></tr></thead><tbody><tr><td>&quot;A0A0G2JIW1&quot;</td><td>&quot;ENSP00000387691&quot;</td><td>&quot;ENST00000417199&quot;</td><td>&quot;ENSG00000232804&quot;</td><td>5233</td><td>99517</td><td>&quot;ENSMUSG00000090877&quot;</td><td>&quot;Hspa1b&quot;</td><td>149</td><td>25</td><td>0</td><td>30</td><td>&quot;25 / 30 samples positively con…</td><td>&quot;0 / 30 samples negatively cont…</td></tr><tr><td>&quot;A0A0G2JIW1&quot;</td><td>&quot;ENSP00000402651&quot;</td><td>&quot;ENST00000458062&quot;</td><td>&quot;ENSG00000212866&quot;</td><td>5233</td><td>99517</td><td>&quot;ENSMUSG00000090877&quot;</td><td>&quot;Hspa1b&quot;</td><td>149</td><td>25</td><td>0</td><td>30</td><td>&quot;25 / 30 samples positively con…</td><td>&quot;0 / 30 samples negatively cont…</td></tr><tr><td>&quot;A0A0G2JIW1&quot;</td><td>&quot;ENSP00000442789&quot;</td><td>&quot;ENST00000545241&quot;</td><td>&quot;ENSG00000224501&quot;</td><td>5233</td><td>99517</td><td>&quot;ENSMUSG00000090877&quot;</td><td>&quot;Hspa1b&quot;</td><td>149</td><td>25</td><td>0</td><td>30</td><td>&quot;25 / 30 samples positively con…</td><td>&quot;0 / 30 samples negatively cont…</td></tr><tr><td>&quot;P0DMV9&quot;</td><td>&quot;ENSP00000364801&quot;</td><td>&quot;ENST00000375650&quot;</td><td>&quot;ENSG00000204388&quot;</td><td>5233</td><td>99517</td><td>&quot;ENSMUSG00000090877&quot;</td><td>&quot;Hspa1b&quot;</td><td>149</td><td>25</td><td>0</td><td>30</td><td>&quot;25 / 30 samples positively con…</td><td>&quot;0 / 30 samples negatively cont…</td></tr><tr><td>&quot;P0DMV9&quot;</td><td>&quot;ENSP00000375399&quot;</td><td>&quot;ENST00000391555&quot;</td><td>&quot;ENSG00000212866&quot;</td><td>5233</td><td>99517</td><td>&quot;ENSMUSG00000090877&quot;</td><td>&quot;Hspa1b&quot;</td><td>149</td><td>25</td><td>0</td><td>30</td><td>&quot;25 / 30 samples positively con…</td><td>&quot;0 / 30 samples negatively cont…</td></tr><tr><td>&hellip;</td><td>&hellip;</td><td>&hellip;</td><td>&hellip;</td><td>&hellip;</td><td>&hellip;</td><td>&hellip;</td><td>&hellip;</td><td>&hellip;</td><td>&hellip;</td><td>&hellip;</td><td>&hellip;</td><td>&hellip;</td><td>&hellip;</td></tr><tr><td>&quot;Q6PIW4&quot;</td><td>&quot;ENSP00000410811&quot;</td><td>&quot;ENST00000419119&quot;</td><td>&quot;ENSG00000132436&quot;</td><td>13286</td><td>1890648</td><td>&quot;ENSMUSG00000035455&quot;</td><td>&quot;Fignl1&quot;</td><td>-20</td><td>0</td><td>7</td><td>30</td><td>&quot;0 / 30 samples positively cont…</td><td>&quot;7 / 30 samples negatively cont…</td></tr><tr><td>&quot;Q6PIW4&quot;</td><td>&quot;ENSP00000483543&quot;</td><td>&quot;ENST00000615084&quot;</td><td>&quot;ENSG00000132436&quot;</td><td>13286</td><td>1890648</td><td>&quot;ENSMUSG00000035455&quot;</td><td>&quot;Fignl1&quot;</td><td>-20</td><td>0</td><td>7</td><td>30</td><td>&quot;0 / 30 samples positively cont…</td><td>&quot;7 / 30 samples negatively cont…</td></tr><tr><td>&quot;Q6PIW4&quot;</td><td>&quot;ENSP00000483126&quot;</td><td>&quot;ENST00000617389&quot;</td><td>&quot;ENSG00000132436&quot;</td><td>13286</td><td>1890648</td><td>&quot;ENSMUSG00000035455&quot;</td><td>&quot;Fignl1&quot;</td><td>-20</td><td>0</td><td>7</td><td>30</td><td>&quot;0 / 30 samples positively cont…</td><td>&quot;7 / 30 samples negatively cont…</td></tr><tr><td>&quot;Q6PIW4&quot;</td><td>&quot;ENSP00000399997&quot;</td><td>&quot;ENST00000433017&quot;</td><td>&quot;ENSG00000132436&quot;</td><td>13286</td><td>1890648</td><td>&quot;ENSMUSG00000035455&quot;</td><td>&quot;Fignl1&quot;</td><td>-20</td><td>0</td><td>7</td><td>30</td><td>&quot;0 / 30 samples positively cont…</td><td>&quot;7 / 30 samples negatively cont…</td></tr><tr><td>&quot;C9K0H3&quot;</td><td>&quot;ENSP00000375661&quot;</td><td>&quot;ENST00000391783&quot;</td><td>&quot;ENSG00000198538&quot;</td><td>13073</td><td>5591846</td><td>&quot;ENSMUSG00000112640&quot;</td><td>&quot;Gm32687&quot;</td><td>-26</td><td>3</td><td>11</td><td>30</td><td>&quot;3 / 30 samples positively cont…</td><td>&quot;11 / 30 samples negatively con…</td></tr></tbody></table></div>"
      ],
      "text/plain": [
       "shape: (6_230, 14)\n",
       "┌───────────┬───────────┬───────────┬───────────┬───┬───────────┬───────────┬───────────┬──────────┐\n",
       "│ uniprot_i ┆ ensembl_p ┆ ensembl_t ┆ ensembl_g ┆ … ┆ negative_ ┆ total_sam ┆ positive_ ┆ negative │\n",
       "│ d         ┆ rotein_id ┆ ranscript ┆ ene_id    ┆   ┆ samples_c ┆ ples      ┆ contribut ┆ _contrib │\n",
       "│ ---       ┆ ---       ┆ _id       ┆ ---       ┆   ┆ ount_mous ┆ ---       ┆ ion_mouse ┆ ution_mo │\n",
       "│ str       ┆ str       ┆ ---       ┆ str       ┆   ┆ e         ┆ i32       ┆ ---       ┆ use      │\n",
       "│           ┆           ┆ str       ┆           ┆   ┆ ---       ┆           ┆ str       ┆ ---      │\n",
       "│           ┆           ┆           ┆           ┆   ┆ i32       ┆           ┆           ┆ str      │\n",
       "╞═══════════╪═══════════╪═══════════╪═══════════╪═══╪═══════════╪═══════════╪═══════════╪══════════╡\n",
       "│ A0A0G2JIW ┆ ENSP00000 ┆ ENST00000 ┆ ENSG00000 ┆ … ┆ 0         ┆ 30        ┆ 25 / 30   ┆ 0 / 30   │\n",
       "│ 1         ┆ 387691    ┆ 417199    ┆ 232804    ┆   ┆           ┆           ┆ samples   ┆ samples  │\n",
       "│           ┆           ┆           ┆           ┆   ┆           ┆           ┆ positivel ┆ negative │\n",
       "│           ┆           ┆           ┆           ┆   ┆           ┆           ┆ y con…    ┆ ly cont… │\n",
       "│ A0A0G2JIW ┆ ENSP00000 ┆ ENST00000 ┆ ENSG00000 ┆ … ┆ 0         ┆ 30        ┆ 25 / 30   ┆ 0 / 30   │\n",
       "│ 1         ┆ 402651    ┆ 458062    ┆ 212866    ┆   ┆           ┆           ┆ samples   ┆ samples  │\n",
       "│           ┆           ┆           ┆           ┆   ┆           ┆           ┆ positivel ┆ negative │\n",
       "│           ┆           ┆           ┆           ┆   ┆           ┆           ┆ y con…    ┆ ly cont… │\n",
       "│ A0A0G2JIW ┆ ENSP00000 ┆ ENST00000 ┆ ENSG00000 ┆ … ┆ 0         ┆ 30        ┆ 25 / 30   ┆ 0 / 30   │\n",
       "│ 1         ┆ 442789    ┆ 545241    ┆ 224501    ┆   ┆           ┆           ┆ samples   ┆ samples  │\n",
       "│           ┆           ┆           ┆           ┆   ┆           ┆           ┆ positivel ┆ negative │\n",
       "│           ┆           ┆           ┆           ┆   ┆           ┆           ┆ y con…    ┆ ly cont… │\n",
       "│ P0DMV9    ┆ ENSP00000 ┆ ENST00000 ┆ ENSG00000 ┆ … ┆ 0         ┆ 30        ┆ 25 / 30   ┆ 0 / 30   │\n",
       "│           ┆ 364801    ┆ 375650    ┆ 204388    ┆   ┆           ┆           ┆ samples   ┆ samples  │\n",
       "│           ┆           ┆           ┆           ┆   ┆           ┆           ┆ positivel ┆ negative │\n",
       "│           ┆           ┆           ┆           ┆   ┆           ┆           ┆ y con…    ┆ ly cont… │\n",
       "│ P0DMV9    ┆ ENSP00000 ┆ ENST00000 ┆ ENSG00000 ┆ … ┆ 0         ┆ 30        ┆ 25 / 30   ┆ 0 / 30   │\n",
       "│           ┆ 375399    ┆ 391555    ┆ 212866    ┆   ┆           ┆           ┆ samples   ┆ samples  │\n",
       "│           ┆           ┆           ┆           ┆   ┆           ┆           ┆ positivel ┆ negative │\n",
       "│           ┆           ┆           ┆           ┆   ┆           ┆           ┆ y con…    ┆ ly cont… │\n",
       "│ …         ┆ …         ┆ …         ┆ …         ┆ … ┆ …         ┆ …         ┆ …         ┆ …        │\n",
       "│ Q6PIW4    ┆ ENSP00000 ┆ ENST00000 ┆ ENSG00000 ┆ … ┆ 7         ┆ 30        ┆ 0 / 30    ┆ 7 / 30   │\n",
       "│           ┆ 410811    ┆ 419119    ┆ 132436    ┆   ┆           ┆           ┆ samples   ┆ samples  │\n",
       "│           ┆           ┆           ┆           ┆   ┆           ┆           ┆ positivel ┆ negative │\n",
       "│           ┆           ┆           ┆           ┆   ┆           ┆           ┆ y cont…   ┆ ly cont… │\n",
       "│ Q6PIW4    ┆ ENSP00000 ┆ ENST00000 ┆ ENSG00000 ┆ … ┆ 7         ┆ 30        ┆ 0 / 30    ┆ 7 / 30   │\n",
       "│           ┆ 483543    ┆ 615084    ┆ 132436    ┆   ┆           ┆           ┆ samples   ┆ samples  │\n",
       "│           ┆           ┆           ┆           ┆   ┆           ┆           ┆ positivel ┆ negative │\n",
       "│           ┆           ┆           ┆           ┆   ┆           ┆           ┆ y cont…   ┆ ly cont… │\n",
       "│ Q6PIW4    ┆ ENSP00000 ┆ ENST00000 ┆ ENSG00000 ┆ … ┆ 7         ┆ 30        ┆ 0 / 30    ┆ 7 / 30   │\n",
       "│           ┆ 483126    ┆ 617389    ┆ 132436    ┆   ┆           ┆           ┆ samples   ┆ samples  │\n",
       "│           ┆           ┆           ┆           ┆   ┆           ┆           ┆ positivel ┆ negative │\n",
       "│           ┆           ┆           ┆           ┆   ┆           ┆           ┆ y cont…   ┆ ly cont… │\n",
       "│ Q6PIW4    ┆ ENSP00000 ┆ ENST00000 ┆ ENSG00000 ┆ … ┆ 7         ┆ 30        ┆ 0 / 30    ┆ 7 / 30   │\n",
       "│           ┆ 399997    ┆ 433017    ┆ 132436    ┆   ┆           ┆           ┆ samples   ┆ samples  │\n",
       "│           ┆           ┆           ┆           ┆   ┆           ┆           ┆ positivel ┆ negative │\n",
       "│           ┆           ┆           ┆           ┆   ┆           ┆           ┆ y cont…   ┆ ly cont… │\n",
       "│ C9K0H3    ┆ ENSP00000 ┆ ENST00000 ┆ ENSG00000 ┆ … ┆ 11        ┆ 30        ┆ 3 / 30    ┆ 11 / 30  │\n",
       "│           ┆ 375661    ┆ 391783    ┆ 198538    ┆   ┆           ┆           ┆ samples   ┆ samples  │\n",
       "│           ┆           ┆           ┆           ┆   ┆           ┆           ┆ positivel ┆ negative │\n",
       "│           ┆           ┆           ┆           ┆   ┆           ┆           ┆ y cont…   ┆ ly con…  │\n",
       "└───────────┴───────────┴───────────┴───────────┴───┴───────────┴───────────┴───────────┴──────────┘"
      ]
     },
     "metadata": {},
     "output_type": "display_data"
    },
    {
     "data": {
      "text/html": [
       "<div><style>\n",
       ".dataframe > thead > tr,\n",
       ".dataframe > tbody > tr {\n",
       "  text-align: right;\n",
       "  white-space: pre-wrap;\n",
       "}\n",
       "</style>\n",
       "<small>shape: (5_393, 14)</small><table border=\"1\" class=\"dataframe\"><thead><tr><th>uniprot_id</th><th>ensembl_protein_id</th><th>ensembl_transcript_id</th><th>ensembl_gene_id</th><th>hgnc_id</th><th>mgi_gene_id</th><th>Mouse Gene ID</th><th>GENEID</th><th>HN5(all)</th><th>positive_samples_count_mouse</th><th>negative_samples_count_mouse</th><th>total_samples</th><th>positive_contribution_mouse</th><th>negative_contribution_mouse</th></tr><tr><td>str</td><td>str</td><td>str</td><td>str</td><td>i64</td><td>i64</td><td>str</td><td>str</td><td>i32</td><td>i32</td><td>i32</td><td>i32</td><td>str</td><td>str</td></tr></thead><tbody><tr><td>&quot;F5H694&quot;</td><td>&quot;ENSP00000437799&quot;</td><td>&quot;ENST00000541261&quot;</td><td>&quot;ENSG00000130649&quot;</td><td>2631</td><td>88607</td><td>&quot;ENSMUSG00000025479&quot;</td><td>&quot;Cyp2e1&quot;</td><td>21</td><td>12</td><td>3</td><td>30</td><td>&quot;12 / 30 samples positively con…</td><td>&quot;3 / 30 samples negatively cont…</td></tr><tr><td>&quot;H0Y7H4&quot;</td><td>&quot;ENSP00000412754&quot;</td><td>&quot;ENST00000421586&quot;</td><td>&quot;ENSG00000130649&quot;</td><td>2631</td><td>88607</td><td>&quot;ENSMUSG00000025479&quot;</td><td>&quot;Cyp2e1&quot;</td><td>21</td><td>12</td><td>3</td><td>30</td><td>&quot;12 / 30 samples positively con…</td><td>&quot;3 / 30 samples negatively cont…</td></tr><tr><td>&quot;P05181&quot;</td><td>&quot;ENSP00000440689&quot;</td><td>&quot;ENST00000463117&quot;</td><td>&quot;ENSG00000130649&quot;</td><td>2631</td><td>88607</td><td>&quot;ENSMUSG00000025479&quot;</td><td>&quot;Cyp2e1&quot;</td><td>21</td><td>12</td><td>3</td><td>30</td><td>&quot;12 / 30 samples positively con…</td><td>&quot;3 / 30 samples negatively cont…</td></tr><tr><td>&quot;P05181&quot;</td><td>&quot;ENSP00000252945&quot;</td><td>&quot;ENST00000252945&quot;</td><td>&quot;ENSG00000130649&quot;</td><td>2631</td><td>88607</td><td>&quot;ENSMUSG00000025479&quot;</td><td>&quot;Cyp2e1&quot;</td><td>21</td><td>12</td><td>3</td><td>30</td><td>&quot;12 / 30 samples positively con…</td><td>&quot;3 / 30 samples negatively cont…</td></tr><tr><td>&quot;J3KR25&quot;</td><td>&quot;ENSP00000415416&quot;</td><td>&quot;ENST00000422053&quot;</td><td>&quot;ENSG00000101255&quot;</td><td>16228</td><td>1345675</td><td>&quot;ENSMUSG00000032715&quot;</td><td>&quot;Trib3&quot;</td><td>20</td><td>10</td><td>2</td><td>30</td><td>&quot;10 / 30 samples positively con…</td><td>&quot;2 / 30 samples negatively cont…</td></tr><tr><td>&hellip;</td><td>&hellip;</td><td>&hellip;</td><td>&hellip;</td><td>&hellip;</td><td>&hellip;</td><td>&hellip;</td><td>&hellip;</td><td>&hellip;</td><td>&hellip;</td><td>&hellip;</td><td>&hellip;</td><td>&hellip;</td><td>&hellip;</td></tr><tr><td>&quot;Q8TBE9&quot;</td><td>&quot;ENSP00000302441&quot;</td><td>&quot;ENST00000304788&quot;</td><td>&quot;ENSG00000170191&quot;</td><td>16140</td><td>1914561</td><td>&quot;ENSMUSG00000053916&quot;</td><td>&quot;Nanp&quot;</td><td>-19</td><td>1</td><td>5</td><td>30</td><td>&quot;1 / 30 samples positively cont…</td><td>&quot;5 / 30 samples negatively cont…</td></tr><tr><td>&quot;Q9BUA6&quot;</td><td>&quot;ENSP00000223167&quot;</td><td>&quot;ENST00000223167&quot;</td><td>&quot;ENSG00000106436&quot;</td><td>29825</td><td>1891705</td><td>&quot;ENSMUSG00000005474&quot;</td><td>&quot;Myl10&quot;</td><td>-19</td><td>1</td><td>10</td><td>30</td><td>&quot;1 / 30 samples positively cont…</td><td>&quot;10 / 30 samples negatively con…</td></tr><tr><td>&quot;P04908&quot;</td><td>&quot;ENSP00000483842&quot;</td><td>&quot;ENST00000615868&quot;</td><td>&quot;ENSG00000278463&quot;</td><td>4734</td><td>2448293</td><td>&quot;ENSMUSG00000069301&quot;</td><td>&quot;H2ac11&quot;</td><td>-20</td><td>4</td><td>7</td><td>30</td><td>&quot;4 / 30 samples positively cont…</td><td>&quot;7 / 30 samples negatively cont…</td></tr><tr><td>&quot;Q9C056&quot;</td><td>&quot;ENSP00000357581&quot;</td><td>&quot;ENST00000368592&quot;</td><td>&quot;ENSG00000148826&quot;</td><td>19321</td><td>1352738</td><td>&quot;ENSMUSG00000041309&quot;</td><td>&quot;Nkx6-2&quot;</td><td>-21</td><td>1</td><td>7</td><td>30</td><td>&quot;1 / 30 samples positively cont…</td><td>&quot;7 / 30 samples negatively cont…</td></tr><tr><td>&quot;Q8IWD5&quot;</td><td>&quot;ENSP00000330051&quot;</td><td>&quot;ENST00000329805&quot;</td><td>&quot;ENSG00000185156&quot;</td><td>26656</td><td>2384904</td><td>&quot;ENSMUSG00000048329&quot;</td><td>&quot;Mfsd6l&quot;</td><td>-22</td><td>1</td><td>2</td><td>30</td><td>&quot;1 / 30 samples positively cont…</td><td>&quot;2 / 30 samples negatively cont…</td></tr></tbody></table></div>"
      ],
      "text/plain": [
       "shape: (5_393, 14)\n",
       "┌───────────┬───────────┬───────────┬───────────┬───┬───────────┬───────────┬───────────┬──────────┐\n",
       "│ uniprot_i ┆ ensembl_p ┆ ensembl_t ┆ ensembl_g ┆ … ┆ negative_ ┆ total_sam ┆ positive_ ┆ negative │\n",
       "│ d         ┆ rotein_id ┆ ranscript ┆ ene_id    ┆   ┆ samples_c ┆ ples      ┆ contribut ┆ _contrib │\n",
       "│ ---       ┆ ---       ┆ _id       ┆ ---       ┆   ┆ ount_mous ┆ ---       ┆ ion_mouse ┆ ution_mo │\n",
       "│ str       ┆ str       ┆ ---       ┆ str       ┆   ┆ e         ┆ i32       ┆ ---       ┆ use      │\n",
       "│           ┆           ┆ str       ┆           ┆   ┆ ---       ┆           ┆ str       ┆ ---      │\n",
       "│           ┆           ┆           ┆           ┆   ┆ i32       ┆           ┆           ┆ str      │\n",
       "╞═══════════╪═══════════╪═══════════╪═══════════╪═══╪═══════════╪═══════════╪═══════════╪══════════╡\n",
       "│ F5H694    ┆ ENSP00000 ┆ ENST00000 ┆ ENSG00000 ┆ … ┆ 3         ┆ 30        ┆ 12 / 30   ┆ 3 / 30   │\n",
       "│           ┆ 437799    ┆ 541261    ┆ 130649    ┆   ┆           ┆           ┆ samples   ┆ samples  │\n",
       "│           ┆           ┆           ┆           ┆   ┆           ┆           ┆ positivel ┆ negative │\n",
       "│           ┆           ┆           ┆           ┆   ┆           ┆           ┆ y con…    ┆ ly cont… │\n",
       "│ H0Y7H4    ┆ ENSP00000 ┆ ENST00000 ┆ ENSG00000 ┆ … ┆ 3         ┆ 30        ┆ 12 / 30   ┆ 3 / 30   │\n",
       "│           ┆ 412754    ┆ 421586    ┆ 130649    ┆   ┆           ┆           ┆ samples   ┆ samples  │\n",
       "│           ┆           ┆           ┆           ┆   ┆           ┆           ┆ positivel ┆ negative │\n",
       "│           ┆           ┆           ┆           ┆   ┆           ┆           ┆ y con…    ┆ ly cont… │\n",
       "│ P05181    ┆ ENSP00000 ┆ ENST00000 ┆ ENSG00000 ┆ … ┆ 3         ┆ 30        ┆ 12 / 30   ┆ 3 / 30   │\n",
       "│           ┆ 440689    ┆ 463117    ┆ 130649    ┆   ┆           ┆           ┆ samples   ┆ samples  │\n",
       "│           ┆           ┆           ┆           ┆   ┆           ┆           ┆ positivel ┆ negative │\n",
       "│           ┆           ┆           ┆           ┆   ┆           ┆           ┆ y con…    ┆ ly cont… │\n",
       "│ P05181    ┆ ENSP00000 ┆ ENST00000 ┆ ENSG00000 ┆ … ┆ 3         ┆ 30        ┆ 12 / 30   ┆ 3 / 30   │\n",
       "│           ┆ 252945    ┆ 252945    ┆ 130649    ┆   ┆           ┆           ┆ samples   ┆ samples  │\n",
       "│           ┆           ┆           ┆           ┆   ┆           ┆           ┆ positivel ┆ negative │\n",
       "│           ┆           ┆           ┆           ┆   ┆           ┆           ┆ y con…    ┆ ly cont… │\n",
       "│ J3KR25    ┆ ENSP00000 ┆ ENST00000 ┆ ENSG00000 ┆ … ┆ 2         ┆ 30        ┆ 10 / 30   ┆ 2 / 30   │\n",
       "│           ┆ 415416    ┆ 422053    ┆ 101255    ┆   ┆           ┆           ┆ samples   ┆ samples  │\n",
       "│           ┆           ┆           ┆           ┆   ┆           ┆           ┆ positivel ┆ negative │\n",
       "│           ┆           ┆           ┆           ┆   ┆           ┆           ┆ y con…    ┆ ly cont… │\n",
       "│ …         ┆ …         ┆ …         ┆ …         ┆ … ┆ …         ┆ …         ┆ …         ┆ …        │\n",
       "│ Q8TBE9    ┆ ENSP00000 ┆ ENST00000 ┆ ENSG00000 ┆ … ┆ 5         ┆ 30        ┆ 1 / 30    ┆ 5 / 30   │\n",
       "│           ┆ 302441    ┆ 304788    ┆ 170191    ┆   ┆           ┆           ┆ samples   ┆ samples  │\n",
       "│           ┆           ┆           ┆           ┆   ┆           ┆           ┆ positivel ┆ negative │\n",
       "│           ┆           ┆           ┆           ┆   ┆           ┆           ┆ y cont…   ┆ ly cont… │\n",
       "│ Q9BUA6    ┆ ENSP00000 ┆ ENST00000 ┆ ENSG00000 ┆ … ┆ 10        ┆ 30        ┆ 1 / 30    ┆ 10 / 30  │\n",
       "│           ┆ 223167    ┆ 223167    ┆ 106436    ┆   ┆           ┆           ┆ samples   ┆ samples  │\n",
       "│           ┆           ┆           ┆           ┆   ┆           ┆           ┆ positivel ┆ negative │\n",
       "│           ┆           ┆           ┆           ┆   ┆           ┆           ┆ y cont…   ┆ ly con…  │\n",
       "│ P04908    ┆ ENSP00000 ┆ ENST00000 ┆ ENSG00000 ┆ … ┆ 7         ┆ 30        ┆ 4 / 30    ┆ 7 / 30   │\n",
       "│           ┆ 483842    ┆ 615868    ┆ 278463    ┆   ┆           ┆           ┆ samples   ┆ samples  │\n",
       "│           ┆           ┆           ┆           ┆   ┆           ┆           ┆ positivel ┆ negative │\n",
       "│           ┆           ┆           ┆           ┆   ┆           ┆           ┆ y cont…   ┆ ly cont… │\n",
       "│ Q9C056    ┆ ENSP00000 ┆ ENST00000 ┆ ENSG00000 ┆ … ┆ 7         ┆ 30        ┆ 1 / 30    ┆ 7 / 30   │\n",
       "│           ┆ 357581    ┆ 368592    ┆ 148826    ┆   ┆           ┆           ┆ samples   ┆ samples  │\n",
       "│           ┆           ┆           ┆           ┆   ┆           ┆           ┆ positivel ┆ negative │\n",
       "│           ┆           ┆           ┆           ┆   ┆           ┆           ┆ y cont…   ┆ ly cont… │\n",
       "│ Q8IWD5    ┆ ENSP00000 ┆ ENST00000 ┆ ENSG00000 ┆ … ┆ 2         ┆ 30        ┆ 1 / 30    ┆ 2 / 30   │\n",
       "│           ┆ 330051    ┆ 329805    ┆ 185156    ┆   ┆           ┆           ┆ samples   ┆ samples  │\n",
       "│           ┆           ┆           ┆           ┆   ┆           ┆           ┆ positivel ┆ negative │\n",
       "│           ┆           ┆           ┆           ┆   ┆           ┆           ┆ y cont…   ┆ ly cont… │\n",
       "└───────────┴───────────┴───────────┴───────────┴───┴───────────┴───────────┴───────────┴──────────┘"
      ]
     },
     "metadata": {},
     "output_type": "display_data"
    }
   ],
   "source": [
    "HNscore_sample_count_checked_up = human_hit_to_mgiid_up.join(\n",
    "    HNscore_sample_validate,\n",
    "    on=\"GENEID\",\n",
    "    how=\"left\",\n",
    "    coalesce=True\n",
    ").filter(\n",
    "    pl.col(\"HN5(all)\").is_not_null()\n",
    ").sort(\n",
    "    by=[f'HN{threshold}(all)'],\n",
    "    descending=True\n",
    ")\n",
    "\n",
    "HNscore_sample_count_checked_down = human_hit_to_mgiid_down.join(\n",
    "    HNscore_sample_validate,\n",
    "    on=\"GENEID\",\n",
    "    how=\"left\",\n",
    "    coalesce=True\n",
    ").filter(\n",
    "    pl.col(\"HN5(all)\").is_not_null()\n",
    ").sort(\n",
    "    by=[f'HN{threshold}(all)'],\n",
    "    descending=True\n",
    ")\n",
    "\n",
    "# save the result to csv\n",
    "HNscore_sample_count_checked_up.write_csv(\n",
    "    f'../Data/Data_HNscore/HNscore_sample_count_HN{threshold}_mouse_checked_up.tsv',\n",
    "    separator='\\t'\n",
    ")\n",
    "\n",
    "HNscore_sample_count_checked_down.write_csv(\n",
    "    f'../Data/Data_HNscore/HNscore_sample_count_HN{threshold}_mouse_checked_down.tsv',\n",
    "    separator='\\t'\n",
    ")\n",
    "display(HNscore_sample_count_checked_up)\n",
    "display(HNscore_sample_count_checked_down)"
   ]
  }
 ],
 "metadata": {
  "kernelspec": {
   "display_name": "Python 3 (ipykernel)",
   "language": "python",
   "name": "python3"
  },
  "language_info": {
   "codemirror_mode": {
    "name": "ipython",
    "version": 3
   },
   "file_extension": ".py",
   "mimetype": "text/x-python",
   "name": "python",
   "nbconvert_exporter": "python",
   "pygments_lexer": "ipython3",
   "version": "3.11.4"
  }
 },
 "nbformat": 4,
 "nbformat_minor": 4
}
