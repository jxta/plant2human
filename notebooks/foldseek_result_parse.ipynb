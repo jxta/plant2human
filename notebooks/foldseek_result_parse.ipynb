{
 "cells": [
  {
   "cell_type": "code",
   "execution_count": 1,
   "metadata": {},
   "outputs": [],
   "source": [
    "import re\n",
    "import datetime\n",
    "import pathlib\n",
    "import polars as pl # type: ignore\n",
    "import matplotlib.pyplot as plt # type: ignore\n",
    "import seaborn as sns # type: ignore"
   ]
  },
  {
   "cell_type": "code",
   "execution_count": 2,
   "metadata": {},
   "outputs": [
    {
     "name": "stdout",
     "output_type": "stream",
     "text": [
      "Execute Date: 241108\n"
     ]
    }
   ],
   "source": [
    "VERSION = datetime.datetime.now().strftime(\"%y%m%d\")\n",
    "print(f\"Execute Date: {VERSION}\")"
   ]
  },
  {
   "cell_type": "markdown",
   "metadata": {},
   "source": [
    "## Parameters for papermill"
   ]
  },
  {
   "cell_type": "code",
   "execution_count": 3,
   "metadata": {
    "tags": [
     "parameters"
    ]
   },
   "outputs": [],
   "source": [
    "foldseek_result_tsv = pathlib.Path(\"./out/rice_up/foldseek_rice_up_9606.tsv\")\n",
    "query_uniprot_idmapping_tsv = pathlib.Path(\"./out/rice_up/rice_up_idmapping.tsv\")\n",
    "water_result_dir_path = pathlib.Path(\"./out/rice_up/water_result\")\n",
    "needle_result_dir_path = pathlib.Path(\"./out/rice_up/needle_result\")\n",
    "query_gene_list_tsv_path = pathlib.Path(\"./Data/Data_HN5_genelist_rice_2402/HN5_genes_up_rice.tsv\")\n",
    "togoid_convert_tsv_path = pathlib.Path(\"./out/rice_up/rice_up_togoid_convert.tsv\")"
   ]
  },
  {
   "cell_type": "code",
   "execution_count": 4,
   "metadata": {},
   "outputs": [
    {
     "ename": "FileNotFoundError",
     "evalue": "No such file or directory (os error 2): out/rice_up/foldseek_rice_up_9606.tsv",
     "output_type": "error",
     "traceback": [
      "\u001b[0;31m---------------------------------------------------------------------------\u001b[0m",
      "\u001b[0;31mFileNotFoundError\u001b[0m                         Traceback (most recent call last)",
      "Cell \u001b[0;32mIn[4], line 1\u001b[0m\n\u001b[0;32m----> 1\u001b[0m foldseek_result_df \u001b[38;5;241m=\u001b[39m \u001b[43mpl\u001b[49m\u001b[38;5;241;43m.\u001b[39;49m\u001b[43mread_csv\u001b[49m\u001b[43m(\u001b[49m\n\u001b[1;32m      2\u001b[0m \u001b[43m    \u001b[49m\u001b[43mfoldseek_result_tsv\u001b[49m\u001b[43m,\u001b[49m\n\u001b[1;32m      3\u001b[0m \u001b[43m    \u001b[49m\u001b[43mseparator\u001b[49m\u001b[38;5;241;43m=\u001b[39;49m\u001b[38;5;124;43m'\u001b[39;49m\u001b[38;5;130;43;01m\\t\u001b[39;49;00m\u001b[38;5;124;43m'\u001b[39;49m\n\u001b[1;32m      4\u001b[0m \u001b[43m)\u001b[49m\n\u001b[1;32m      6\u001b[0m foldseek_result \u001b[38;5;241m=\u001b[39m pl\u001b[38;5;241m.\u001b[39mread_csv(\n\u001b[1;32m      7\u001b[0m     rice_uniprot_idmapping_tsv, \u001b[38;5;66;03m# query idmapping\u001b[39;00m\n\u001b[1;32m      8\u001b[0m     separator\u001b[38;5;241m=\u001b[39m\u001b[38;5;124m'\u001b[39m\u001b[38;5;130;01m\\t\u001b[39;00m\u001b[38;5;124m'\u001b[39m\n\u001b[0;32m   (...)\u001b[0m\n\u001b[1;32m     13\u001b[0m     coalesce\u001b[38;5;241m=\u001b[39m\u001b[38;5;28;01mTrue\u001b[39;00m\n\u001b[1;32m     14\u001b[0m )\n\u001b[1;32m     16\u001b[0m display(foldseek_result)\n",
      "File \u001b[0;32m/usr/local/lib/python3.11/site-packages/polars/_utils/deprecation.py:92\u001b[0m, in \u001b[0;36mdeprecate_renamed_parameter.<locals>.decorate.<locals>.wrapper\u001b[0;34m(*args, **kwargs)\u001b[0m\n\u001b[1;32m     87\u001b[0m \u001b[38;5;129m@wraps\u001b[39m(function)\n\u001b[1;32m     88\u001b[0m \u001b[38;5;28;01mdef\u001b[39;00m \u001b[38;5;21mwrapper\u001b[39m(\u001b[38;5;241m*\u001b[39margs: P\u001b[38;5;241m.\u001b[39margs, \u001b[38;5;241m*\u001b[39m\u001b[38;5;241m*\u001b[39mkwargs: P\u001b[38;5;241m.\u001b[39mkwargs) \u001b[38;5;241m-\u001b[39m\u001b[38;5;241m>\u001b[39m T:\n\u001b[1;32m     89\u001b[0m     _rename_keyword_argument(\n\u001b[1;32m     90\u001b[0m         old_name, new_name, kwargs, function\u001b[38;5;241m.\u001b[39m\u001b[38;5;18m__qualname__\u001b[39m, version\n\u001b[1;32m     91\u001b[0m     )\n\u001b[0;32m---> 92\u001b[0m     \u001b[38;5;28;01mreturn\u001b[39;00m \u001b[43mfunction\u001b[49m\u001b[43m(\u001b[49m\u001b[38;5;241;43m*\u001b[39;49m\u001b[43margs\u001b[49m\u001b[43m,\u001b[49m\u001b[43m \u001b[49m\u001b[38;5;241;43m*\u001b[39;49m\u001b[38;5;241;43m*\u001b[39;49m\u001b[43mkwargs\u001b[49m\u001b[43m)\u001b[49m\n",
      "File \u001b[0;32m/usr/local/lib/python3.11/site-packages/polars/_utils/deprecation.py:92\u001b[0m, in \u001b[0;36mdeprecate_renamed_parameter.<locals>.decorate.<locals>.wrapper\u001b[0;34m(*args, **kwargs)\u001b[0m\n\u001b[1;32m     87\u001b[0m \u001b[38;5;129m@wraps\u001b[39m(function)\n\u001b[1;32m     88\u001b[0m \u001b[38;5;28;01mdef\u001b[39;00m \u001b[38;5;21mwrapper\u001b[39m(\u001b[38;5;241m*\u001b[39margs: P\u001b[38;5;241m.\u001b[39margs, \u001b[38;5;241m*\u001b[39m\u001b[38;5;241m*\u001b[39mkwargs: P\u001b[38;5;241m.\u001b[39mkwargs) \u001b[38;5;241m-\u001b[39m\u001b[38;5;241m>\u001b[39m T:\n\u001b[1;32m     89\u001b[0m     _rename_keyword_argument(\n\u001b[1;32m     90\u001b[0m         old_name, new_name, kwargs, function\u001b[38;5;241m.\u001b[39m\u001b[38;5;18m__qualname__\u001b[39m, version\n\u001b[1;32m     91\u001b[0m     )\n\u001b[0;32m---> 92\u001b[0m     \u001b[38;5;28;01mreturn\u001b[39;00m \u001b[43mfunction\u001b[49m\u001b[43m(\u001b[49m\u001b[38;5;241;43m*\u001b[39;49m\u001b[43margs\u001b[49m\u001b[43m,\u001b[49m\u001b[43m \u001b[49m\u001b[38;5;241;43m*\u001b[39;49m\u001b[38;5;241;43m*\u001b[39;49m\u001b[43mkwargs\u001b[49m\u001b[43m)\u001b[49m\n",
      "File \u001b[0;32m/usr/local/lib/python3.11/site-packages/polars/_utils/deprecation.py:92\u001b[0m, in \u001b[0;36mdeprecate_renamed_parameter.<locals>.decorate.<locals>.wrapper\u001b[0;34m(*args, **kwargs)\u001b[0m\n\u001b[1;32m     87\u001b[0m \u001b[38;5;129m@wraps\u001b[39m(function)\n\u001b[1;32m     88\u001b[0m \u001b[38;5;28;01mdef\u001b[39;00m \u001b[38;5;21mwrapper\u001b[39m(\u001b[38;5;241m*\u001b[39margs: P\u001b[38;5;241m.\u001b[39margs, \u001b[38;5;241m*\u001b[39m\u001b[38;5;241m*\u001b[39mkwargs: P\u001b[38;5;241m.\u001b[39mkwargs) \u001b[38;5;241m-\u001b[39m\u001b[38;5;241m>\u001b[39m T:\n\u001b[1;32m     89\u001b[0m     _rename_keyword_argument(\n\u001b[1;32m     90\u001b[0m         old_name, new_name, kwargs, function\u001b[38;5;241m.\u001b[39m\u001b[38;5;18m__qualname__\u001b[39m, version\n\u001b[1;32m     91\u001b[0m     )\n\u001b[0;32m---> 92\u001b[0m     \u001b[38;5;28;01mreturn\u001b[39;00m \u001b[43mfunction\u001b[49m\u001b[43m(\u001b[49m\u001b[38;5;241;43m*\u001b[39;49m\u001b[43margs\u001b[49m\u001b[43m,\u001b[49m\u001b[43m \u001b[49m\u001b[38;5;241;43m*\u001b[39;49m\u001b[38;5;241;43m*\u001b[39;49m\u001b[43mkwargs\u001b[49m\u001b[43m)\u001b[49m\n",
      "File \u001b[0;32m/usr/local/lib/python3.11/site-packages/polars/io/csv/functions.py:503\u001b[0m, in \u001b[0;36mread_csv\u001b[0;34m(source, has_header, columns, new_columns, separator, comment_prefix, quote_char, skip_rows, schema, schema_overrides, null_values, missing_utf8_is_empty_string, ignore_errors, try_parse_dates, n_threads, infer_schema, infer_schema_length, batch_size, n_rows, encoding, low_memory, rechunk, use_pyarrow, storage_options, skip_rows_after_header, row_index_name, row_index_offset, sample_size, eol_char, raise_if_empty, truncate_ragged_lines, decimal_comma, glob)\u001b[0m\n\u001b[1;32m    495\u001b[0m \u001b[38;5;28;01melse\u001b[39;00m:\n\u001b[1;32m    496\u001b[0m     \u001b[38;5;28;01mwith\u001b[39;00m prepare_file_arg(\n\u001b[1;32m    497\u001b[0m         source,\n\u001b[1;32m    498\u001b[0m         encoding\u001b[38;5;241m=\u001b[39mencoding,\n\u001b[0;32m   (...)\u001b[0m\n\u001b[1;32m    501\u001b[0m         storage_options\u001b[38;5;241m=\u001b[39mstorage_options,\n\u001b[1;32m    502\u001b[0m     ) \u001b[38;5;28;01mas\u001b[39;00m data:\n\u001b[0;32m--> 503\u001b[0m         df \u001b[38;5;241m=\u001b[39m \u001b[43m_read_csv_impl\u001b[49m\u001b[43m(\u001b[49m\n\u001b[1;32m    504\u001b[0m \u001b[43m            \u001b[49m\u001b[43mdata\u001b[49m\u001b[43m,\u001b[49m\n\u001b[1;32m    505\u001b[0m \u001b[43m            \u001b[49m\u001b[43mhas_header\u001b[49m\u001b[38;5;241;43m=\u001b[39;49m\u001b[43mhas_header\u001b[49m\u001b[43m,\u001b[49m\n\u001b[1;32m    506\u001b[0m \u001b[43m            \u001b[49m\u001b[43mcolumns\u001b[49m\u001b[38;5;241;43m=\u001b[39;49m\u001b[43mcolumns\u001b[49m\u001b[43m \u001b[49m\u001b[38;5;28;43;01mif\u001b[39;49;00m\u001b[43m \u001b[49m\u001b[43mcolumns\u001b[49m\u001b[43m \u001b[49m\u001b[38;5;28;43;01melse\u001b[39;49;00m\u001b[43m \u001b[49m\u001b[43mprojection\u001b[49m\u001b[43m,\u001b[49m\n\u001b[1;32m    507\u001b[0m \u001b[43m            \u001b[49m\u001b[43mseparator\u001b[49m\u001b[38;5;241;43m=\u001b[39;49m\u001b[43mseparator\u001b[49m\u001b[43m,\u001b[49m\n\u001b[1;32m    508\u001b[0m \u001b[43m            \u001b[49m\u001b[43mcomment_prefix\u001b[49m\u001b[38;5;241;43m=\u001b[39;49m\u001b[43mcomment_prefix\u001b[49m\u001b[43m,\u001b[49m\n\u001b[1;32m    509\u001b[0m \u001b[43m            \u001b[49m\u001b[43mquote_char\u001b[49m\u001b[38;5;241;43m=\u001b[39;49m\u001b[43mquote_char\u001b[49m\u001b[43m,\u001b[49m\n\u001b[1;32m    510\u001b[0m \u001b[43m            \u001b[49m\u001b[43mskip_rows\u001b[49m\u001b[38;5;241;43m=\u001b[39;49m\u001b[43mskip_rows\u001b[49m\u001b[43m,\u001b[49m\n\u001b[1;32m    511\u001b[0m \u001b[43m            \u001b[49m\u001b[43mschema_overrides\u001b[49m\u001b[38;5;241;43m=\u001b[39;49m\u001b[43mschema_overrides\u001b[49m\u001b[43m,\u001b[49m\n\u001b[1;32m    512\u001b[0m \u001b[43m            \u001b[49m\u001b[43mschema\u001b[49m\u001b[38;5;241;43m=\u001b[39;49m\u001b[43mschema\u001b[49m\u001b[43m,\u001b[49m\n\u001b[1;32m    513\u001b[0m \u001b[43m            \u001b[49m\u001b[43mnull_values\u001b[49m\u001b[38;5;241;43m=\u001b[39;49m\u001b[43mnull_values\u001b[49m\u001b[43m,\u001b[49m\n\u001b[1;32m    514\u001b[0m \u001b[43m            \u001b[49m\u001b[43mmissing_utf8_is_empty_string\u001b[49m\u001b[38;5;241;43m=\u001b[39;49m\u001b[43mmissing_utf8_is_empty_string\u001b[49m\u001b[43m,\u001b[49m\n\u001b[1;32m    515\u001b[0m \u001b[43m            \u001b[49m\u001b[43mignore_errors\u001b[49m\u001b[38;5;241;43m=\u001b[39;49m\u001b[43mignore_errors\u001b[49m\u001b[43m,\u001b[49m\n\u001b[1;32m    516\u001b[0m \u001b[43m            \u001b[49m\u001b[43mtry_parse_dates\u001b[49m\u001b[38;5;241;43m=\u001b[39;49m\u001b[43mtry_parse_dates\u001b[49m\u001b[43m,\u001b[49m\n\u001b[1;32m    517\u001b[0m \u001b[43m            \u001b[49m\u001b[43mn_threads\u001b[49m\u001b[38;5;241;43m=\u001b[39;49m\u001b[43mn_threads\u001b[49m\u001b[43m,\u001b[49m\n\u001b[1;32m    518\u001b[0m \u001b[43m            \u001b[49m\u001b[43minfer_schema_length\u001b[49m\u001b[38;5;241;43m=\u001b[39;49m\u001b[43minfer_schema_length\u001b[49m\u001b[43m,\u001b[49m\n\u001b[1;32m    519\u001b[0m \u001b[43m            \u001b[49m\u001b[43mbatch_size\u001b[49m\u001b[38;5;241;43m=\u001b[39;49m\u001b[43mbatch_size\u001b[49m\u001b[43m,\u001b[49m\n\u001b[1;32m    520\u001b[0m \u001b[43m            \u001b[49m\u001b[43mn_rows\u001b[49m\u001b[38;5;241;43m=\u001b[39;49m\u001b[43mn_rows\u001b[49m\u001b[43m,\u001b[49m\n\u001b[1;32m    521\u001b[0m \u001b[43m            \u001b[49m\u001b[43mencoding\u001b[49m\u001b[38;5;241;43m=\u001b[39;49m\u001b[43mencoding\u001b[49m\u001b[43m \u001b[49m\u001b[38;5;28;43;01mif\u001b[39;49;00m\u001b[43m \u001b[49m\u001b[43mencoding\u001b[49m\u001b[43m \u001b[49m\u001b[38;5;241;43m==\u001b[39;49m\u001b[43m \u001b[49m\u001b[38;5;124;43m\"\u001b[39;49m\u001b[38;5;124;43mutf8-lossy\u001b[39;49m\u001b[38;5;124;43m\"\u001b[39;49m\u001b[43m \u001b[49m\u001b[38;5;28;43;01melse\u001b[39;49;00m\u001b[43m \u001b[49m\u001b[38;5;124;43m\"\u001b[39;49m\u001b[38;5;124;43mutf8\u001b[39;49m\u001b[38;5;124;43m\"\u001b[39;49m\u001b[43m,\u001b[49m\n\u001b[1;32m    522\u001b[0m \u001b[43m            \u001b[49m\u001b[43mlow_memory\u001b[49m\u001b[38;5;241;43m=\u001b[39;49m\u001b[43mlow_memory\u001b[49m\u001b[43m,\u001b[49m\n\u001b[1;32m    523\u001b[0m \u001b[43m            \u001b[49m\u001b[43mrechunk\u001b[49m\u001b[38;5;241;43m=\u001b[39;49m\u001b[43mrechunk\u001b[49m\u001b[43m,\u001b[49m\n\u001b[1;32m    524\u001b[0m \u001b[43m            \u001b[49m\u001b[43mskip_rows_after_header\u001b[49m\u001b[38;5;241;43m=\u001b[39;49m\u001b[43mskip_rows_after_header\u001b[49m\u001b[43m,\u001b[49m\n\u001b[1;32m    525\u001b[0m \u001b[43m            \u001b[49m\u001b[43mrow_index_name\u001b[49m\u001b[38;5;241;43m=\u001b[39;49m\u001b[43mrow_index_name\u001b[49m\u001b[43m,\u001b[49m\n\u001b[1;32m    526\u001b[0m \u001b[43m            \u001b[49m\u001b[43mrow_index_offset\u001b[49m\u001b[38;5;241;43m=\u001b[39;49m\u001b[43mrow_index_offset\u001b[49m\u001b[43m,\u001b[49m\n\u001b[1;32m    527\u001b[0m \u001b[43m            \u001b[49m\u001b[43msample_size\u001b[49m\u001b[38;5;241;43m=\u001b[39;49m\u001b[43msample_size\u001b[49m\u001b[43m,\u001b[49m\n\u001b[1;32m    528\u001b[0m \u001b[43m            \u001b[49m\u001b[43meol_char\u001b[49m\u001b[38;5;241;43m=\u001b[39;49m\u001b[43meol_char\u001b[49m\u001b[43m,\u001b[49m\n\u001b[1;32m    529\u001b[0m \u001b[43m            \u001b[49m\u001b[43mraise_if_empty\u001b[49m\u001b[38;5;241;43m=\u001b[39;49m\u001b[43mraise_if_empty\u001b[49m\u001b[43m,\u001b[49m\n\u001b[1;32m    530\u001b[0m \u001b[43m            \u001b[49m\u001b[43mtruncate_ragged_lines\u001b[49m\u001b[38;5;241;43m=\u001b[39;49m\u001b[43mtruncate_ragged_lines\u001b[49m\u001b[43m,\u001b[49m\n\u001b[1;32m    531\u001b[0m \u001b[43m            \u001b[49m\u001b[43mdecimal_comma\u001b[49m\u001b[38;5;241;43m=\u001b[39;49m\u001b[43mdecimal_comma\u001b[49m\u001b[43m,\u001b[49m\n\u001b[1;32m    532\u001b[0m \u001b[43m            \u001b[49m\u001b[43mglob\u001b[49m\u001b[38;5;241;43m=\u001b[39;49m\u001b[43mglob\u001b[49m\u001b[43m,\u001b[49m\n\u001b[1;32m    533\u001b[0m \u001b[43m        \u001b[49m\u001b[43m)\u001b[49m\n\u001b[1;32m    535\u001b[0m \u001b[38;5;28;01mif\u001b[39;00m new_columns:\n\u001b[1;32m    536\u001b[0m     \u001b[38;5;28;01mreturn\u001b[39;00m _update_columns(df, new_columns)\n",
      "File \u001b[0;32m/usr/local/lib/python3.11/site-packages/polars/io/csv/functions.py:649\u001b[0m, in \u001b[0;36m_read_csv_impl\u001b[0;34m(source, has_header, columns, separator, comment_prefix, quote_char, skip_rows, schema, schema_overrides, null_values, missing_utf8_is_empty_string, ignore_errors, try_parse_dates, n_threads, infer_schema_length, batch_size, n_rows, encoding, low_memory, rechunk, skip_rows_after_header, row_index_name, row_index_offset, sample_size, eol_char, raise_if_empty, truncate_ragged_lines, decimal_comma, glob)\u001b[0m\n\u001b[1;32m    645\u001b[0m         \u001b[38;5;28;01mraise\u001b[39;00m \u001b[38;5;167;01mValueError\u001b[39;00m(msg)\n\u001b[1;32m    647\u001b[0m projection, columns \u001b[38;5;241m=\u001b[39m parse_columns_arg(columns)\n\u001b[0;32m--> 649\u001b[0m pydf \u001b[38;5;241m=\u001b[39m \u001b[43mPyDataFrame\u001b[49m\u001b[38;5;241;43m.\u001b[39;49m\u001b[43mread_csv\u001b[49m\u001b[43m(\u001b[49m\n\u001b[1;32m    650\u001b[0m \u001b[43m    \u001b[49m\u001b[43msource\u001b[49m\u001b[43m,\u001b[49m\n\u001b[1;32m    651\u001b[0m \u001b[43m    \u001b[49m\u001b[43minfer_schema_length\u001b[49m\u001b[43m,\u001b[49m\n\u001b[1;32m    652\u001b[0m \u001b[43m    \u001b[49m\u001b[43mbatch_size\u001b[49m\u001b[43m,\u001b[49m\n\u001b[1;32m    653\u001b[0m \u001b[43m    \u001b[49m\u001b[43mhas_header\u001b[49m\u001b[43m,\u001b[49m\n\u001b[1;32m    654\u001b[0m \u001b[43m    \u001b[49m\u001b[43mignore_errors\u001b[49m\u001b[43m,\u001b[49m\n\u001b[1;32m    655\u001b[0m \u001b[43m    \u001b[49m\u001b[43mn_rows\u001b[49m\u001b[43m,\u001b[49m\n\u001b[1;32m    656\u001b[0m \u001b[43m    \u001b[49m\u001b[43mskip_rows\u001b[49m\u001b[43m,\u001b[49m\n\u001b[1;32m    657\u001b[0m \u001b[43m    \u001b[49m\u001b[43mprojection\u001b[49m\u001b[43m,\u001b[49m\n\u001b[1;32m    658\u001b[0m \u001b[43m    \u001b[49m\u001b[43mseparator\u001b[49m\u001b[43m,\u001b[49m\n\u001b[1;32m    659\u001b[0m \u001b[43m    \u001b[49m\u001b[43mrechunk\u001b[49m\u001b[43m,\u001b[49m\n\u001b[1;32m    660\u001b[0m \u001b[43m    \u001b[49m\u001b[43mcolumns\u001b[49m\u001b[43m,\u001b[49m\n\u001b[1;32m    661\u001b[0m \u001b[43m    \u001b[49m\u001b[43mencoding\u001b[49m\u001b[43m,\u001b[49m\n\u001b[1;32m    662\u001b[0m \u001b[43m    \u001b[49m\u001b[43mn_threads\u001b[49m\u001b[43m,\u001b[49m\n\u001b[1;32m    663\u001b[0m \u001b[43m    \u001b[49m\u001b[43mpath\u001b[49m\u001b[43m,\u001b[49m\n\u001b[1;32m    664\u001b[0m \u001b[43m    \u001b[49m\u001b[43mdtype_list\u001b[49m\u001b[43m,\u001b[49m\n\u001b[1;32m    665\u001b[0m \u001b[43m    \u001b[49m\u001b[43mdtype_slice\u001b[49m\u001b[43m,\u001b[49m\n\u001b[1;32m    666\u001b[0m \u001b[43m    \u001b[49m\u001b[43mlow_memory\u001b[49m\u001b[43m,\u001b[49m\n\u001b[1;32m    667\u001b[0m \u001b[43m    \u001b[49m\u001b[43mcomment_prefix\u001b[49m\u001b[43m,\u001b[49m\n\u001b[1;32m    668\u001b[0m \u001b[43m    \u001b[49m\u001b[43mquote_char\u001b[49m\u001b[43m,\u001b[49m\n\u001b[1;32m    669\u001b[0m \u001b[43m    \u001b[49m\u001b[43mprocessed_null_values\u001b[49m\u001b[43m,\u001b[49m\n\u001b[1;32m    670\u001b[0m \u001b[43m    \u001b[49m\u001b[43mmissing_utf8_is_empty_string\u001b[49m\u001b[43m,\u001b[49m\n\u001b[1;32m    671\u001b[0m \u001b[43m    \u001b[49m\u001b[43mtry_parse_dates\u001b[49m\u001b[43m,\u001b[49m\n\u001b[1;32m    672\u001b[0m \u001b[43m    \u001b[49m\u001b[43mskip_rows_after_header\u001b[49m\u001b[43m,\u001b[49m\n\u001b[1;32m    673\u001b[0m \u001b[43m    \u001b[49m\u001b[43mparse_row_index_args\u001b[49m\u001b[43m(\u001b[49m\u001b[43mrow_index_name\u001b[49m\u001b[43m,\u001b[49m\u001b[43m \u001b[49m\u001b[43mrow_index_offset\u001b[49m\u001b[43m)\u001b[49m\u001b[43m,\u001b[49m\n\u001b[1;32m    674\u001b[0m \u001b[43m    \u001b[49m\u001b[43msample_size\u001b[49m\u001b[38;5;241;43m=\u001b[39;49m\u001b[43msample_size\u001b[49m\u001b[43m,\u001b[49m\n\u001b[1;32m    675\u001b[0m \u001b[43m    \u001b[49m\u001b[43meol_char\u001b[49m\u001b[38;5;241;43m=\u001b[39;49m\u001b[43meol_char\u001b[49m\u001b[43m,\u001b[49m\n\u001b[1;32m    676\u001b[0m \u001b[43m    \u001b[49m\u001b[43mraise_if_empty\u001b[49m\u001b[38;5;241;43m=\u001b[39;49m\u001b[43mraise_if_empty\u001b[49m\u001b[43m,\u001b[49m\n\u001b[1;32m    677\u001b[0m \u001b[43m    \u001b[49m\u001b[43mtruncate_ragged_lines\u001b[49m\u001b[38;5;241;43m=\u001b[39;49m\u001b[43mtruncate_ragged_lines\u001b[49m\u001b[43m,\u001b[49m\n\u001b[1;32m    678\u001b[0m \u001b[43m    \u001b[49m\u001b[43mdecimal_comma\u001b[49m\u001b[38;5;241;43m=\u001b[39;49m\u001b[43mdecimal_comma\u001b[49m\u001b[43m,\u001b[49m\n\u001b[1;32m    679\u001b[0m \u001b[43m    \u001b[49m\u001b[43mschema\u001b[49m\u001b[38;5;241;43m=\u001b[39;49m\u001b[43mschema\u001b[49m\u001b[43m,\u001b[49m\n\u001b[1;32m    680\u001b[0m \u001b[43m\u001b[49m\u001b[43m)\u001b[49m\n\u001b[1;32m    681\u001b[0m \u001b[38;5;28;01mreturn\u001b[39;00m wrap_df(pydf)\n",
      "\u001b[0;31mFileNotFoundError\u001b[0m: No such file or directory (os error 2): out/rice_up/foldseek_rice_up_9606.tsv"
     ]
    }
   ],
   "source": [
    "foldseek_result_df = pl.read_csv(\n",
    "    foldseek_result_tsv,\n",
    "    separator='\\t'\n",
    ")\n",
    "\n",
    "foldseek_result = pl.read_csv(\n",
    "    query_uniprot_idmapping_tsv, # query idmapping\n",
    "    separator='\\t'\n",
    ").join(\n",
    "    foldseek_result_df,\n",
    "    on=\"UniProt Accession\",\n",
    "    how=\"inner\",\n",
    "    coalesce=True\n",
    ")\n",
    "\n",
    "display(foldseek_result)"
   ]
  },
  {
   "cell_type": "markdown",
   "metadata": {},
   "source": [
    "&nbsp;\n",
    "\n",
    "&nbsp;\n",
    "\n",
    "&nbsp;"
   ]
  },
  {
   "cell_type": "markdown",
   "metadata": {},
   "source": [
    "## Parse pairwise alignment result (water and needle)"
   ]
  },
  {
   "cell_type": "code",
   "execution_count": 5,
   "metadata": {},
   "outputs": [],
   "source": [
    "def parse_needle_water_result(file_path: str):\n",
    "    with open(file_path, \"r\", encoding=\"utf-8\") as file:\n",
    "        data = file.readlines()\n",
    "        \n",
    "    result = {\n",
    "        \"UniProt Accession\": None,\n",
    "        \"foldseek hit\": None,\n",
    "        \"Length\": None,\n",
    "        \"Identity\": None,\n",
    "        \"Identity_percent\": None,\n",
    "        \"Similarity\": None,\n",
    "        \"Similarity_percent\": None,\n",
    "        \"Gaps\": None,\n",
    "        \"Gaps_percent\": None,\n",
    "        \"Score\": None\n",
    "    }\n",
    "    \n",
    "    for line in data:\n",
    "        if line.startswith('# 1:'):\n",
    "            result['UniProt Accession'] = line.split(':')[1].strip()\n",
    "        elif line.startswith('# 2:'):\n",
    "            result['foldseek hit'] = line.split(':')[1].strip()\n",
    "        elif line.startswith('# Length:'):\n",
    "            result['Length'] = int(line.split()[2])\n",
    "        elif line.startswith('# Identity:'):\n",
    "            result['Identity'] = line.split()[2]\n",
    "            result['Identity_percent'] = float(re.search(r'\\((.*?)%\\)', line).group(1))\n",
    "        elif line.startswith('# Similarity:'):\n",
    "            result['Similarity'] = line.split()[2]\n",
    "            result['Similarity_percent'] = float(re.search(r'\\((.*?)%\\)', line).group(1))\n",
    "        elif line.startswith('# Gaps:'):\n",
    "            result['Gaps'] = line.split()[2]\n",
    "            result['Gaps_percent'] = float(re.search(r'\\((.*?)%\\)', line).group(1))\n",
    "        elif line.startswith('# Score:'):\n",
    "            result['Score'] = float(line.split()[2])\n",
    "            \n",
    "    return result"
   ]
  },
  {
   "cell_type": "code",
   "execution_count": null,
   "metadata": {},
   "outputs": [],
   "source": [
    "water_result_dir = pathlib.Path(water_result_dir_path)\n",
    "needle_result_dir = pathlib.Path(needle_result_dir_path)\n",
    "\n",
    "# initialize empty dataframe\n",
    "water_result = pl.DataFrame()\n",
    "needle_result = pl.DataFrame()\n",
    "\n",
    "for result_file in water_result_dir.glob(\"*_align.water\"):\n",
    "    parsed_data = parse_needle_water_result(result_file)\n",
    "    new_row = pl.DataFrame([parsed_data])\n",
    "    water_result = pl.concat([water_result, new_row], how='vertical').sort(\n",
    "        by=[\"UniProt Accession\", \"foldseek hit\"],\n",
    "        descending=[False, False]\n",
    "    )\n",
    "    \n",
    "for result_file in needle_result_dir.glob(\"*_align.needle\"):\n",
    "    parsed_data = parse_needle_water_result(result_file)\n",
    "    new_row = pl.DataFrame([parsed_data])\n",
    "    needle_result = pl.concat([needle_result, new_row], how='vertical').sort(\n",
    "        by=[\"UniProt Accession\", \"foldseek hit\"],\n",
    "        descending=[False, False]\n",
    "    )\n",
    "\n",
    "\n",
    "display(water_result)\n",
    "display(needle_result)"
   ]
  },
  {
   "cell_type": "code",
   "execution_count": null,
   "metadata": {},
   "outputs": [],
   "source": [
    "alignment_result = water_result.join(\n",
    "    needle_result,\n",
    "    on=[\"UniProt Accession\", \"foldseek hit\"],\n",
    "    how=\"inner\",\n",
    "    coalesce=True,\n",
    "    suffix=\"_needle\"\n",
    ").rename(\n",
    "    {\n",
    "        \"Length\": \"Length_water\",\n",
    "        \"Identity\": \"Identity_water\",\n",
    "        \"Identity_percent\": \"Identity_percent_water\",\n",
    "        \"Similarity\": \"Similarity_water\",\n",
    "        \"Similarity_percent\": \"Similarity_percent_water\",\n",
    "        \"Gaps\": \"Gaps_water\",\n",
    "        \"Gaps_percent\": \"Gaps_percent_water\",\n",
    "        \"Score\": \"Score_water\"\n",
    "    }\n",
    ").select(\n",
    "    [\n",
    "        \"UniProt Accession\",\n",
    "        \"foldseek hit\",\n",
    "        \"Length_water\",\n",
    "        \"Length_needle\",\n",
    "        \"Identity_water\",\n",
    "        \"Identity_needle\",\n",
    "        \"Identity_percent_water\",\n",
    "        \"Identity_percent_needle\",\n",
    "        \"Similarity_percent_water\",\n",
    "        \"Similarity_percent_needle\",\n",
    "        \"Gaps_water\",\n",
    "        \"Gaps_needle\",\n",
    "        \"Gaps_percent_water\",\n",
    "        \"Gaps_percent_needle\",\n",
    "        \"Score_water\",\n",
    "        \"Score_needle\"\n",
    "    ]\n",
    ")\n",
    "\n",
    "display(alignment_result)"
   ]
  },
  {
   "cell_type": "markdown",
   "metadata": {},
   "source": [
    "&nbsp;\n",
    "\n",
    "\n",
    "&nbsp;"
   ]
  },
  {
   "cell_type": "markdown",
   "metadata": {},
   "source": [
    "## Integrate foldseek result and pairwise alignment result\n",
    "\n",
    "- This time, **exclude the ones that are null in pairwise alignment result, which means the current UniProt entry is obsolete**"
   ]
  },
  {
   "cell_type": "code",
   "execution_count": null,
   "metadata": {},
   "outputs": [],
   "source": [
    "join_foldseek = foldseek_result.join(\n",
    "    alignment_result,\n",
    "    on=[\"UniProt Accession\", \"foldseek hit\"],\n",
    "    how=\"left\",\n",
    "    coalesce=True\n",
    ").filter( # filter out null alignment result (this means current UniProt entry is obsolete)\n",
    "    pl.col(\"Length_water\").is_not_null() & \n",
    "    pl.col(\"Length_needle\").is_not_null()\n",
    ").unique()\n",
    "\n",
    "\n",
    "print(join_foldseek.group_by([\"UniProt Accession\", \"foldseek hit\"]).n_unique())\n",
    "display(join_foldseek.head())"
   ]
  },
  {
   "cell_type": "markdown",
   "metadata": {},
   "source": [
    "&nbsp;\n",
    "\n",
    "&nbsp;"
   ]
  },
  {
   "cell_type": "markdown",
   "metadata": {},
   "source": [
    "## Create Scatter Plot for all hits"
   ]
  },
  {
   "cell_type": "code",
   "execution_count": null,
   "metadata": {},
   "outputs": [],
   "source": [
    "plt.figure(figsize=(8, 8), dpi=500)\n",
    "\n",
    "sns.jointplot(\n",
    "    data=join_foldseek,\n",
    "    x=\"Identity_percent_needle\",\n",
    "    y=\"lddt\",\n",
    "    color=\"darkcyan\",\n",
    "    height=11,\n",
    "    ratio=4,\n",
    "    marginal_ticks=True\n",
    ")\n",
    "\n",
    "# highlight the region of interest\n",
    "plt.fill_betweenx(\n",
    "    y=[0.5, 1],\n",
    "    x1=-0.5,\n",
    "    x2=25,\n",
    "    color=\"red\",\n",
    "    alpha=0.1\n",
    ")\n",
    "\n",
    "plt.xlim(-0.5,100.5)\n",
    "plt.ylim(0,1)\n",
    "plt.xlabel(\"global alignment identity(%)\")\n",
    "plt.ylabel(\"LDDT\")\n",
    "plt.axvline(x=25, color=\"black\", linestyle=\":\")\n",
    "plt.axvline(x=50, color=\"black\", linestyle=\":\")\n",
    "plt.axvline(x=75, color=\"black\", linestyle=\":\")\n",
    "plt.axhline(y=0.5, color=\"black\", linestyle=\":\")\n",
    "plt.figure(figsize=(10, 10), dpi=500)\n",
    "plt.show()"
   ]
  },
  {
   "cell_type": "markdown",
   "metadata": {},
   "source": [
    "&nbsp;\n",
    "\n",
    "&nbsp;\n",
    "\n",
    "&nbsp;\n"
   ]
  },
  {
   "cell_type": "markdown",
   "metadata": {},
   "source": [
    "## Filtering Condition1\n",
    "\n",
    "- 遺伝子レベルで､foldseekでヒットがないものを選抜する"
   ]
  },
  {
   "cell_type": "code",
   "execution_count": null,
   "metadata": {},
   "outputs": [],
   "source": [
    "# 遺伝子レベルでのヒットカウントを算出\n",
    "all_gene_list = pl.read_csv(\n",
    "    query_gene_list_tsv_path,\n",
    "    separator='\\t'\n",
    ").select(\n",
    "    \"From\"\n",
    ").unique()\n",
    "\n",
    "hit_count = all_gene_list.join(\n",
    "    join_foldseek,\n",
    "    on=\"From\",\n",
    "    how=\"left\",\n",
    "    coalesce=True\n",
    ").group_by(\"From\").agg(\n",
    "    (pl.col(\"foldseek hit\").count().alias(\"target hit count (gene level vs uniprot accession)\")),\n",
    "    (pl.col(\"foldseek hit\").is_null().all().alias(\"foldseek no hit\"))\n",
    ").sort(\n",
    "    [\"target hit count (gene level vs uniprot accession)\"], descending=True\n",
    ")\n",
    "\n",
    "display(hit_count)"
   ]
  },
  {
   "cell_type": "code",
   "execution_count": null,
   "metadata": {},
   "outputs": [],
   "source": [
    "no_hit_genes_list = hit_count.filter(\n",
    "    pl.col(\"foldseek no hit\") == True\n",
    ")\n",
    "\n",
    "idmapping_list = pl.read_csv(\n",
    "    query_uniprot_idmapping_tsv,\n",
    "    separator='\\t'\n",
    ")\n",
    "  \n",
    "no_hit_idmapping_list = no_hit_genes_list.join(\n",
    "    idmapping_list,\n",
    "    on=\"From\",\n",
    "    how=\"left\"\n",
    ").sort(\n",
    "    by=[\"From\"],\n",
    "    descending=[False]\n",
    ")\n",
    "\n",
    "print(no_hit_idmapping_list.group_by([\"From\"]).n_unique())\n",
    "display(no_hit_idmapping_list.head())"
   ]
  },
  {
   "cell_type": "markdown",
   "metadata": {},
   "source": [
    "&nbsp;\n",
    "\n",
    "&nbsp;"
   ]
  },
  {
   "cell_type": "markdown",
   "metadata": {},
   "source": [
    "## Filtering Condition2"
   ]
  },
  {
   "cell_type": "code",
   "execution_count": null,
   "metadata": {},
   "outputs": [],
   "source": [
    "condition2 = join_foldseek.sort(\n",
    "        \"qcov\", descending=True\n",
    "    ).unique(\n",
    "        subset=[\"From\", \"foldseek hit\"]\n",
    "    ).sort(\n",
    "        \"qcov\", descending=True\n",
    "    )\n",
    "\n",
    "print(condition2.group_by([\"From\"]).n_unique())\n",
    "display(condition2)"
   ]
  },
  {
   "cell_type": "markdown",
   "metadata": {},
   "source": [
    "&nbsp;\n",
    "\n",
    "&nbsp;"
   ]
  },
  {
   "cell_type": "markdown",
   "metadata": {},
   "source": [
    "## Filtering Condition3\n",
    "\n",
    "- select the ones with qcov and tcov >= 0.5"
   ]
  },
  {
   "cell_type": "code",
   "execution_count": null,
   "metadata": {},
   "outputs": [],
   "source": [
    "condition3 = condition2.filter(\n",
    "        (pl.col(\"qcov\") >= 0.5) &\n",
    "        (pl.col(\"tcov\") >= 0.5)\n",
    "    ).unique()\n",
    "\n",
    "condition3_rm = condition2.filter(\n",
    "        (pl.col(\"qcov\") < 0.5) |\n",
    "        (pl.col(\"tcov\") < 0.5)\n",
    "    )\n",
    "\n",
    "print(condition3.group_by([\"From\"]).n_unique())\n",
    "display(condition3)"
   ]
  },
  {
   "cell_type": "markdown",
   "metadata": {},
   "source": [
    "&nbsp;\n",
    "\n",
    "&nbsp;\n"
   ]
  },
  {
   "cell_type": "markdown",
   "metadata": {},
   "source": [
    "## Filtering Condition4\n",
    "\n",
    "- select the ones that can be converted to Ensembl gene id by TogoID\n",
    "- Article: [TogoID: an exploratory ID converter to bridge biological dataset](https://doi.org/10.1093/bioinformatics/btac491)"
   ]
  },
  {
   "cell_type": "code",
   "execution_count": null,
   "metadata": {},
   "outputs": [],
   "source": [
    "togoid_convert = pl.read_csv(\n",
    "    togoid_convert_tsv_path,\n",
    "    separator='\\t'\n",
    ").rename(\n",
    "    {\n",
    "        \"uniprot_id\" : \"foldseek hit\"\n",
    "    }\n",
    ").filter(\n",
    "    pl.col(\"ensembl_gene_id\").is_not_null()\n",
    ")\n",
    "\n",
    "display(togoid_convert)"
   ]
  },
  {
   "cell_type": "code",
   "execution_count": null,
   "metadata": {},
   "outputs": [],
   "source": [
    "condition4 = condition3.join(\n",
    "    togoid_convert,\n",
    "    on=\"foldseek hit\",\n",
    "    how=\"left\",\n",
    "    coalesce=True\n",
    ").filter(\n",
    "    pl.col(\"ensembl_gene_id\").is_not_null()\n",
    ").group_by(\n",
    "    pl.exclude(\n",
    "        [\n",
    "            \"hgnc_id\", \"hgnc_symbol_id\", \"ensembl_gene_id\", \"ensembl_protein_id\", \"ensembl_transcript_id\"\n",
    "        ]\n",
    "    )\n",
    ").agg(\n",
    "    pl.col(\"hgnc_id\"),\n",
    "    pl.col(\"hgnc_symbol_id\"),\n",
    "    pl.col(\"ensembl_gene_id\"),\n",
    "    pl.col(\"ensembl_protein_id\"),\n",
    "    pl.col(\"ensembl_transcript_id\"),\n",
    ").drop(\n",
    "    [\n",
    "        \"hgnc_id\",\n",
    "        \"ensembl_transcript_id\"\n",
    "    ]\n",
    ").sort(\n",
    "    by=[\"From\"],\n",
    "    descending=[False]\n",
    ")\n",
    "\n",
    "display(condition4)"
   ]
  },
  {
   "cell_type": "code",
   "execution_count": null,
   "metadata": {},
   "outputs": [],
   "source": [
    "hit_count_condition4 = condition4.group_by(\n",
    "    [\"From\"]\n",
    ").agg(\n",
    "    (pl.col(\"foldseek hit\").count().alias(\"hit count (gene level)\"))\n",
    ").sort(\n",
    "    by=[\"hit count (gene level)\"],\n",
    "    descending=True\n",
    ")\n",
    "\n",
    "display(hit_count_condition4)"
   ]
  },
  {
   "cell_type": "code",
   "execution_count": null,
   "metadata": {},
   "outputs": [],
   "source": [
    "foldseek_filter_viz = condition4.select(\n",
    "    \"From\",\n",
    "    \"UniProt Accession\",\n",
    "    \"foldseek hit\",\n",
    "    \"qcov\",\n",
    "    \"tcov\",\n",
    "    \"rmsd\",\n",
    "    \"lddt\",\n",
    "    \"Identity_percent_needle\",\n",
    "    \"Identity_percent_water\",\n",
    "    \"Similarity_percent_needle\",\n",
    "    \"Similarity_percent_water\"\n",
    ").unique(\n",
    "    subset=[\"From\", \"UniProt Accession\", \"foldseek hit\"]\n",
    ").sort(\n",
    "    by=[\"From\"],\n",
    "    descending=[False]\n",
    ")\n",
    "\n",
    "print(foldseek_filter_viz.group_by([\"From\", \"UniProt Accession\", \"foldseek hit\"]).n_unique())\n",
    "display(foldseek_filter_viz)"
   ]
  },
  {
   "cell_type": "code",
   "execution_count": null,
   "metadata": {},
   "outputs": [],
   "source": [
    "plt.figure(figsize=(8, 8), dpi=500)\n",
    "\n",
    "sns.jointplot(\n",
    "    data=foldseek_filter_viz,\n",
    "    x=\"Identity_percent_needle\",\n",
    "    y=\"lddt\",\n",
    "    color=\"darkcyan\",\n",
    "    height=11,\n",
    "    ratio=4,\n",
    "    marginal_ticks=True\n",
    ")\n",
    "\n",
    "# highlight the region of interest\n",
    "plt.fill_betweenx(\n",
    "    y=[0.5, 1],\n",
    "    x1=-0.5,\n",
    "    x2=25,\n",
    "    color=\"red\",\n",
    "    alpha=0.1\n",
    ")\n",
    "\n",
    "plt.xlim(-0.5,100)\n",
    "plt.ylim(0,1)\n",
    "plt.xlabel(\"global alignment identitical match(%)\")\n",
    "plt.ylabel(\"LDDT\")\n",
    "plt.axvline(x=25, color=\"black\", linestyle=\":\")\n",
    "plt.axvline(x=50, color=\"black\", linestyle=\":\")\n",
    "plt.axvline(x=75, color=\"black\", linestyle=\":\")\n",
    "plt.axhline(y=0.5, color=\"black\", linestyle=\":\")\n",
    "plt.figure(figsize=(10, 10), dpi=500)\n",
    "plt.show()"
   ]
  }
 ],
 "metadata": {
  "kernelspec": {
   "display_name": "Python 3 (ipykernel)",
   "language": "python",
   "name": "python3"
  },
  "language_info": {
   "codemirror_mode": {
    "name": "ipython",
    "version": 3
   },
   "file_extension": ".py",
   "mimetype": "text/x-python",
   "name": "python",
   "nbconvert_exporter": "python",
   "pygments_lexer": "ipython3",
   "version": "3.11.4"
  }
 },
 "nbformat": 4,
 "nbformat_minor": 2
}
