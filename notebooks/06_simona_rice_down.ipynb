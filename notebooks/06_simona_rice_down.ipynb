{
 "cells": [
  {
   "cell_type": "code",
   "execution_count": 1,
   "metadata": {
    "vscode": {
     "languageId": "r"
    }
   },
   "outputs": [
    {
     "name": "stderr",
     "output_type": "stream",
     "text": [
      "========================================\n",
      "simona version 1.2.0\n",
      "Bioconductor page: http://bioconductor.org/packages/simona/\n",
      "Github page: https://github.com/jokergoo/simona\n",
      "Documentation: https://jokergoo.github.io/simona/\n",
      "\n",
      "If you use it in published research, please cite:\n",
      "Gu, Z. simona: a Comprehensive R package for Semantic Similarity \n",
      "  Analysis on Bio-Ontologies. bioRxiv 2023.\n",
      "\n",
      "This message can be suppressed by:\n",
      "  suppressPackageStartupMessages(library(simona))\n",
      "========================================\n",
      "\n",
      "\n",
      "Loading required package: BiocGenerics\n",
      "\n",
      "\n",
      "Attaching package: ‘BiocGenerics’\n",
      "\n",
      "\n",
      "The following objects are masked from ‘package:stats’:\n",
      "\n",
      "    IQR, mad, sd, var, xtabs\n",
      "\n",
      "\n",
      "The following objects are masked from ‘package:base’:\n",
      "\n",
      "    anyDuplicated, aperm, append, as.data.frame, basename, cbind,\n",
      "    colnames, dirname, do.call, duplicated, eval, evalq, Filter, Find,\n",
      "    get, grep, grepl, intersect, is.unsorted, lapply, Map, mapply,\n",
      "    match, mget, order, paste, pmax, pmax.int, pmin, pmin.int,\n",
      "    Position, rank, rbind, Reduce, rownames, sapply, setdiff, table,\n",
      "    tapply, union, unique, unsplit, which.max, which.min\n",
      "\n",
      "\n",
      "Loading required package: grid\n",
      "\n",
      "\n",
      "\n",
      "\n",
      "\n",
      "========================================\n",
      "simplifyEnrichment version 1.14.1\n",
      "Bioconductor page: https://bioconductor.org/packages/simplifyEnrichment/\n",
      "Github page: https://github.com/jokergoo/simplifyEnrichment\n",
      "Documentation: https://jokergoo.github.io/simplifyEnrichment/\n",
      "Examples: https://simplifyenrichment.github.io/\n",
      "\n",
      "If you use it in published research, please cite:\n",
      "Gu, Z. simplifyEnrichment: an R/Bioconductor package for Clustering and \n",
      "  Visualizing Functional Enrichment Results, Genomics, Proteomics & \n",
      "  Bioinformatics 2022.\n",
      "\n",
      "This message can be suppressed by:\n",
      "  suppressPackageStartupMessages(library(simplifyEnrichment))\n",
      "========================================\n",
      "\n",
      "\n",
      "========================================\n",
      "ComplexHeatmap version 2.20.0\n",
      "Bioconductor page: http://bioconductor.org/packages/ComplexHeatmap/\n",
      "Github page: https://github.com/jokergoo/ComplexHeatmap\n",
      "Documentation: http://jokergoo.github.io/ComplexHeatmap-reference\n",
      "\n",
      "If you use it in published research, please cite either one:\n",
      "- Gu, Z. Complex Heatmap Visualization. iMeta 2022.\n",
      "- Gu, Z. Complex heatmaps reveal patterns and correlations in multidimensional \n",
      "    genomic data. Bioinformatics 2016.\n",
      "\n",
      "\n",
      "The new InteractiveComplexHeatmap package can directly export static \n",
      "complex heatmaps into an interactive Shiny app with zero effort. Have a try!\n",
      "\n",
      "This message can be suppressed by:\n",
      "  suppressPackageStartupMessages(library(ComplexHeatmap))\n",
      "========================================\n",
      "\n",
      "\n"
     ]
    }
   ],
   "source": [
    "library(simona)\n",
    "library(simplifyEnrichment)\n",
    "library(ComplexHeatmap)\n",
    "library(Cairo)"
   ]
  },
  {
   "cell_type": "code",
   "execution_count": 2,
   "metadata": {
    "vscode": {
     "languageId": "r"
    }
   },
   "outputs": [
    {
     "name": "stdout",
     "output_type": "stream",
     "text": [
      " [1] \"Sim_Lin_1998\"         \"Sim_Resnik_1999\"      \"Sim_FaITH_2010\"      \n",
      " [4] \"Sim_Relevance_2006\"   \"Sim_SimIC_2010\"       \"Sim_XGraSM_2013\"     \n",
      " [7] \"Sim_EISI_2015\"        \"Sim_AIC_2014\"         \"Sim_Zhang_2006\"      \n",
      "[10] \"Sim_universal\"        \"Sim_Wang_2007\"        \"Sim_GOGO_2018\"       \n",
      "[13] \"Sim_Rada_1989\"        \"Sim_Resnik_edge_2005\" \"Sim_Leocock_1998\"    \n",
      "[16] \"Sim_WP_1994\"          \"Sim_Slimani_2006\"     \"Sim_Shenoy_2012\"     \n",
      "[19] \"Sim_Pekar_2002\"       \"Sim_Stojanovic_2001\"  \"Sim_Wang_edge_2012\"  \n",
      "[22] \"Sim_Zhong_2002\"       \"Sim_AlMubaid_2006\"    \"Sim_Li_2003\"         \n",
      "[25] \"Sim_RSS_2013\"         \"Sim_HRSS_2013\"        \"Sim_Shen_2010\"       \n",
      "[28] \"Sim_SSDD_2013\"        \"Sim_Jiang_1997\"       \"Sim_Kappa\"           \n",
      "[31] \"Sim_Jaccard\"          \"Sim_Dice\"             \"Sim_Overlap\"         \n",
      "[34] \"Sim_Ancestor\"        \n"
     ]
    }
   ],
   "source": [
    "print(all_term_sim_methods())"
   ]
  },
  {
   "cell_type": "markdown",
   "metadata": {},
   "source": [
    "# Biological process"
   ]
  },
  {
   "cell_type": "markdown",
   "metadata": {},
   "source": [
    "### 1) Get Gene Ontology DAGs"
   ]
  },
  {
   "cell_type": "code",
   "execution_count": 3,
   "metadata": {
    "vscode": {
     "languageId": "r"
    }
   },
   "outputs": [
    {
     "name": "stderr",
     "output_type": "stream",
     "text": [
      "relations: is_a, part_of, regulates, negatively_regulates, positively_regulates\n",
      "\n"
     ]
    }
   ],
   "source": [
    "# <https://jokergoo.github.io/simona/articles/v02_GO.html>\n",
    "dag_bp <- create_ontology_DAG_from_GO_db(\"BP\", relations = c(\"part of\", \"regulates\")) # nolint"
   ]
  },
  {
   "cell_type": "code",
   "execution_count": 4,
   "metadata": {
    "vscode": {
     "languageId": "r"
    }
   },
   "outputs": [
    {
     "name": "stdout",
     "output_type": "stream",
     "text": [
      "[1] \"GO:0006879\" \"GO:0006826\" \"GO:0060586\" \"GO:0140962\" \"GO:0048871\"\n",
      "[6] \"GO:0000041\" \"GO:0098771\" \"GO:0030003\"\n"
     ]
    }
   ],
   "source": [
    "rice_goa_enrichment_result_bp <- read.table(\n",
    "  \"/workspaces/004_foldseek/out/rice_down_custom_enrichment/BP_enrichment.tsv\", # nolint\n",
    "  header = TRUE,\n",
    "  sep = \"\\t\"\n",
    ")\n",
    "\n",
    "rice_top_go_ids_bp <- rice_goa_enrichment_result_bp$GO\n",
    "show(rice_top_go_ids_bp)"
   ]
  },
  {
   "cell_type": "code",
   "execution_count": 5,
   "metadata": {
    "vscode": {
     "languageId": "r"
    }
   },
   "outputs": [
    {
     "name": "stderr",
     "output_type": "stream",
     "text": [
      "term_sim_method: Sim_WP_1994\n",
      "\n",
      "collecting all ancestors of input terms ...\n",
      "\n",
      "\n",
      "going through 0 / 23 ancestors ...\n",
      "\n",
      "going through 23 / 23 ancestors ... Done.\n",
      "\n",
      "collecting all ancestors of input terms ...\n",
      "\n",
      "\n",
      "going through 0 / 23 ancestors ...\n",
      "\n",
      "going through 23 / 23 ancestors ... Done.\n",
      "\n"
     ]
    },
    {
     "name": "stdout",
     "output_type": "stream",
     "text": [
      "           GO:0006879 GO:0006826 GO:0060586 GO:0140962 GO:0048871 GO:0000041\n",
      "GO:0006879  1.0000000  0.0000000  0.7272727  0.4444444  0.2500000  0.0000000\n",
      "GO:0006826  0.0000000  1.0000000  0.0000000  0.0000000  0.0000000  0.9333333\n",
      "GO:0060586  0.7272727  0.0000000  1.0000000  0.8571429  0.6666667  0.0000000\n",
      "GO:0140962  0.4444444  0.0000000  0.8571429  1.0000000  0.8000000  0.0000000\n",
      "GO:0048871  0.2500000  0.0000000  0.6666667  0.8000000  1.0000000  0.0000000\n",
      "GO:0000041  0.0000000  0.9333333  0.0000000  0.0000000  0.0000000  1.0000000\n",
      "GO:0098771  0.8571429  0.0000000  0.8571429  0.6666667  0.4000000  0.0000000\n",
      "GO:0030003  0.9090909  0.0000000  0.8000000  0.5000000  0.2857143  0.0000000\n",
      "           GO:0098771 GO:0030003\n",
      "GO:0006879  0.8571429  0.9090909\n",
      "GO:0006826  0.0000000  0.0000000\n",
      "GO:0060586  0.8571429  0.8000000\n",
      "GO:0140962  0.6666667  0.5000000\n",
      "GO:0048871  0.4000000  0.2857143\n",
      "GO:0000041  0.0000000  0.0000000\n",
      "GO:0098771  1.0000000  0.5000000\n",
      "GO:0030003  0.5000000  1.0000000\n"
     ]
    }
   ],
   "source": [
    "mat_bp <- term_sim(dag_bp, rice_top_go_ids_bp, method = \"Sim_WP_1994\")\n",
    "print(mat_bp)"
   ]
  },
  {
   "cell_type": "code",
   "execution_count": 11,
   "metadata": {
    "vscode": {
     "languageId": "r"
    }
   },
   "outputs": [
    {
     "name": "stderr",
     "output_type": "stream",
     "text": [
      "Cluster 8 terms by 'binary_cut'...\n"
     ]
    },
    {
     "name": "stderr",
     "output_type": "stream",
     "text": [
      " 2 clusters, used 0.009822369 secs.\n",
      "\n",
      "Perform keywords enrichment for 2 GO lists...\n",
      "\n"
     ]
    },
    {
     "data": {
      "text/html": [
       "<strong>pdf:</strong> 2"
      ],
      "text/latex": [
       "\\textbf{pdf:} 2"
      ],
      "text/markdown": [
       "**pdf:** 2"
      ],
      "text/plain": [
       "pdf \n",
       "  2 "
      ]
     },
     "metadata": {},
     "output_type": "display_data"
    }
   ],
   "source": [
    "png(\"/workspaces/004_foldseek/out/rice_down_custom_enrichment/bp_enrichment_cluster.png\", width = 2300, height = 1600, res = 300) # nolint\n",
    "simplifyEnrichment(mat_bp)\n",
    "dev.off()"
   ]
  },
  {
   "cell_type": "code",
   "execution_count": null,
   "metadata": {
    "vscode": {
     "languageId": "r"
    }
   },
   "outputs": [],
   "source": [
    "dag_circular_viz(dag_bp, rice_top_go_ids_bp)"
   ]
  },
  {
   "cell_type": "markdown",
   "metadata": {},
   "source": [
    "# Cellular Component"
   ]
  },
  {
   "cell_type": "markdown",
   "metadata": {},
   "source": [
    "### 1) Get Gene Ontology DAGs"
   ]
  },
  {
   "cell_type": "code",
   "execution_count": null,
   "metadata": {
    "vscode": {
     "languageId": "r"
    }
   },
   "outputs": [],
   "source": [
    "# <https://jokergoo.github.io/simona/articles/v02_GO.html>\n",
    "dag_cc <- create_ontology_DAG_from_GO_db(\"CC\", relations = c(\"part of\", \"regulates\")) # nolint"
   ]
  },
  {
   "cell_type": "code",
   "execution_count": null,
   "metadata": {
    "vscode": {
     "languageId": "r"
    }
   },
   "outputs": [],
   "source": [
    "rice_goa_enrichment_result_cc <- read.table(\n",
    "  \"/workspaces/004_foldseek/out/rice_down_custom_enrichment/CC_enrichment.tsv\", # nolint\n",
    "  header = TRUE,\n",
    "  sep = \"\\t\"\n",
    ")\n",
    "rice_top_go_ids_cc <- rice_goa_enrichment_result_cc$GO\n",
    "show(rice_top_go_ids_cc)"
   ]
  },
  {
   "cell_type": "code",
   "execution_count": null,
   "metadata": {
    "vscode": {
     "languageId": "r"
    }
   },
   "outputs": [],
   "source": [
    "mat_cc <- term_sim(dag_cc, rice_top_go_ids_cc, method = \"Sim_WP_1994\")\n",
    "print(mat_cc)"
   ]
  },
  {
   "cell_type": "code",
   "execution_count": null,
   "metadata": {
    "vscode": {
     "languageId": "r"
    }
   },
   "outputs": [],
   "source": [
    "png(\"/workspaces/004_foldseek/out/rice_down_custom_enrichment/cc_enrichment_cluster.png\", width = 1000, height = 800, res = 200) # nolint\n",
    "simplifyEnrichment(mat_cc)\n",
    "dev.off()"
   ]
  },
  {
   "cell_type": "code",
   "execution_count": null,
   "metadata": {
    "vscode": {
     "languageId": "r"
    }
   },
   "outputs": [],
   "source": [
    "dag_circular_viz(dag_cc, rice_top_go_ids_cc)"
   ]
  },
  {
   "cell_type": "markdown",
   "metadata": {},
   "source": [
    "# Molecular Function\n",
    "### 1) Get Gene Ontology DAGs"
   ]
  },
  {
   "cell_type": "code",
   "execution_count": null,
   "metadata": {
    "vscode": {
     "languageId": "r"
    }
   },
   "outputs": [],
   "source": [
    "# <https://jokergoo.github.io/simona/articles/v02_GO.html>\n",
    "dag_mf <- create_ontology_DAG_from_GO_db(\"MF\", relations = c(\"part of\", \"regulates\")) # nolint"
   ]
  },
  {
   "cell_type": "code",
   "execution_count": null,
   "metadata": {
    "vscode": {
     "languageId": "r"
    }
   },
   "outputs": [],
   "source": [
    "rice_goa_enrichment_result_mf <- read.table(\n",
    "  \"/workspaces/004_foldseek/out/rice_down_custom_enrichment/MF_enrichment.tsv\", # nolint\n",
    "  header = TRUE,\n",
    "  sep = \"\\t\"\n",
    ")\n",
    "rice_top_go_ids_mf <- rice_goa_enrichment_result_mf$GO\n",
    "show(rice_top_go_ids_mf)"
   ]
  },
  {
   "cell_type": "code",
   "execution_count": null,
   "metadata": {
    "vscode": {
     "languageId": "r"
    }
   },
   "outputs": [],
   "source": [
    "mat_mf <- term_sim(dag_mf, rice_top_go_ids_mf, method = \"Sim_WP_1994\")\n",
    "print(mat_mf)"
   ]
  },
  {
   "cell_type": "code",
   "execution_count": null,
   "metadata": {
    "vscode": {
     "languageId": "r"
    }
   },
   "outputs": [],
   "source": [
    "simplifyEnrichment(mat_mf)"
   ]
  },
  {
   "cell_type": "code",
   "execution_count": null,
   "metadata": {
    "vscode": {
     "languageId": "r"
    }
   },
   "outputs": [],
   "source": [
    "dag_circular_viz(dag_mf, rice_top_go_ids_mf)"
   ]
  }
 ],
 "metadata": {
  "kernelspec": {
   "display_name": "R",
   "language": "R",
   "name": "ir"
  },
  "language_info": {
   "codemirror_mode": "r",
   "file_extension": ".r",
   "mimetype": "text/x-r-source",
   "name": "R",
   "pygments_lexer": "r",
   "version": "4.4.1"
  }
 },
 "nbformat": 4,
 "nbformat_minor": 2
}
