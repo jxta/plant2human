{
 "cells": [
  {
   "cell_type": "code",
   "execution_count": 1,
   "id": "f8243f7d",
   "metadata": {
    "execution": {
     "iopub.execute_input": "2024-11-13T01:59:44.843439Z",
     "iopub.status.busy": "2024-11-13T01:59:44.841798Z",
     "iopub.status.idle": "2024-11-13T01:59:45.477927Z",
     "shell.execute_reply": "2024-11-13T01:59:45.477556Z"
    },
    "papermill": {
     "duration": 0.647773,
     "end_time": "2024-11-13T01:59:45.478509",
     "exception": false,
     "start_time": "2024-11-13T01:59:44.830736",
     "status": "completed"
    },
    "tags": []
   },
   "outputs": [],
   "source": [
    "import re\n",
    "import datetime\n",
    "import pathlib\n",
    "import polars as pl # type: ignore\n",
    "import matplotlib.pyplot as plt # type: ignore\n",
    "import seaborn as sns # type: ignore"
   ]
  },
  {
   "cell_type": "code",
   "execution_count": 2,
   "id": "3fb5fed5",
   "metadata": {
    "execution": {
     "iopub.execute_input": "2024-11-13T01:59:45.483126Z",
     "iopub.status.busy": "2024-11-13T01:59:45.483002Z",
     "iopub.status.idle": "2024-11-13T01:59:45.485321Z",
     "shell.execute_reply": "2024-11-13T01:59:45.485015Z"
    },
    "papermill": {
     "duration": 0.004956,
     "end_time": "2024-11-13T01:59:45.485735",
     "exception": false,
     "start_time": "2024-11-13T01:59:45.480779",
     "status": "completed"
    },
    "tags": []
   },
   "outputs": [
    {
     "name": "stdout",
     "output_type": "stream",
     "text": [
      "Execute Date: 241113\n"
     ]
    }
   ],
   "source": [
    "VERSION = datetime.datetime.now().strftime(\"%y%m%d\")\n",
    "print(f\"Execute Date: {VERSION}\")"
   ]
  },
  {
   "cell_type": "markdown",
   "id": "959cfa19",
   "metadata": {
    "papermill": {
     "duration": 0.001986,
     "end_time": "2024-11-13T01:59:45.489708",
     "exception": false,
     "start_time": "2024-11-13T01:59:45.487722",
     "status": "completed"
    },
    "tags": []
   },
   "source": [
    "## Parameters for papermill"
   ]
  },
  {
   "cell_type": "code",
   "execution_count": 3,
   "id": "3647dc1f",
   "metadata": {
    "execution": {
     "iopub.execute_input": "2024-11-13T01:59:45.493845Z",
     "iopub.status.busy": "2024-11-13T01:59:45.493762Z",
     "iopub.status.idle": "2024-11-13T01:59:45.495931Z",
     "shell.execute_reply": "2024-11-13T01:59:45.495613Z"
    },
    "papermill": {
     "duration": 0.004719,
     "end_time": "2024-11-13T01:59:45.496302",
     "exception": false,
     "start_time": "2024-11-13T01:59:45.491583",
     "status": "completed"
    },
    "tags": [
     "parameters"
    ]
   },
   "outputs": [],
   "source": [
    "foldseek_result_tsv = pathlib.Path(\"../test/workflow_test/foldseek_rice_up_9606.tsv\")\n",
    "query_uniprot_idmapping_tsv = pathlib.Path(\"../test/workflow_test/rice_up_idmapping.tsv\")\n",
    "water_result_dir_path = pathlib.Path(\"../test/workflow_test/result_water\")\n",
    "needle_result_dir_path = pathlib.Path(\"../test/workflow_test/result_needle\")\n",
    "query_gene_list_tsv_path = pathlib.Path(\"../test/workflow_test/HN5_genes_up_rice.tsv\")\n",
    "togoid_convert_tsv_path = pathlib.Path(\"../test/workflow_test/foldseek_hit_species_togoid_convert.tsv\")"
   ]
  },
  {
   "cell_type": "code",
   "execution_count": 4,
   "id": "8012a907",
   "metadata": {
    "execution": {
     "iopub.execute_input": "2024-11-13T01:59:45.500648Z",
     "iopub.status.busy": "2024-11-13T01:59:45.500575Z",
     "iopub.status.idle": "2024-11-13T01:59:45.502587Z",
     "shell.execute_reply": "2024-11-13T01:59:45.502199Z"
    },
    "papermill": {
     "duration": 0.004853,
     "end_time": "2024-11-13T01:59:45.503033",
     "exception": false,
     "start_time": "2024-11-13T01:59:45.498180",
     "status": "completed"
    },
    "tags": [
     "injected-parameters"
    ]
   },
   "outputs": [],
   "source": [
    "# Parameters\n",
    "foldseek_result_tsv = \"/tmp/46_zfhbj/stg87199f79-5e92-41f0-9a8d-f7b2a5bd15f1/foldseek_os_random_9606.tsv\"\n",
    "query_uniprot_idmapping_tsv = \"/tmp/46_zfhbj/stg6fe28877-25c6-4bdc-8328-62943caa54dc/rice_random_gene_idmapping_all.tsv\"\n",
    "water_result_dir_path = \"/tmp/46_zfhbj/stg02306ec4-8fff-499b-bbf0-404d3b2c4ff5/result_water\"\n",
    "needle_result_dir_path = \"/tmp/46_zfhbj/stg7ab30122-42b7-4efd-91e8-f8677af0e377/result_needle\"\n",
    "query_gene_list_tsv_path = \"/tmp/46_zfhbj/stgd5e7b136-26f5-469b-bb10-c2e53e5f5a68/oryza_sativa_random_gene_list.tsv\"\n",
    "togoid_convert_tsv_path = \"/tmp/46_zfhbj/stg8c7e7b9e-46ef-45c8-bed8-d3f042a86246/foldseek_hit_species_togoid_convert.tsv\"\n"
   ]
  },
  {
   "cell_type": "code",
   "execution_count": 5,
   "id": "bc8c3425",
   "metadata": {
    "execution": {
     "iopub.execute_input": "2024-11-13T01:59:45.507190Z",
     "iopub.status.busy": "2024-11-13T01:59:45.507102Z",
     "iopub.status.idle": "2024-11-13T01:59:45.518397Z",
     "shell.execute_reply": "2024-11-13T01:59:45.518249Z"
    },
    "papermill": {
     "duration": 0.013752,
     "end_time": "2024-11-13T01:59:45.518724",
     "exception": false,
     "start_time": "2024-11-13T01:59:45.504972",
     "status": "completed"
    },
    "tags": []
   },
   "outputs": [
    {
     "data": {
      "text/html": [
       "<div><style>\n",
       ".dataframe > thead > tr,\n",
       ".dataframe > tbody > tr {\n",
       "  text-align: right;\n",
       "  white-space: pre-wrap;\n",
       "}\n",
       "</style>\n",
       "<small>shape: (311, 30)</small><table border=\"1\" class=\"dataframe\"><thead><tr><th>From</th><th>UniProt Accession</th><th>foldseek hit</th><th>evalue</th><th>prob</th><th>gapopen</th><th>pident</th><th>fident</th><th>nident</th><th>qstart</th><th>qend</th><th>qlen</th><th>tstart</th><th>tend</th><th>tlen</th><th>alnlen</th><th>qcov</th><th>tcov</th><th>lddt</th><th>qtmscore</th><th>ttmscore</th><th>alntmscore</th><th>rmsd</th><th>taxid</th><th>taxname</th><th>taxlineage</th><th>qaln</th><th>taln</th><th>mismatch</th><th>lddtfull</th></tr><tr><td>str</td><td>str</td><td>str</td><td>f64</td><td>f64</td><td>i64</td><td>f64</td><td>f64</td><td>i64</td><td>i64</td><td>i64</td><td>i64</td><td>i64</td><td>i64</td><td>i64</td><td>i64</td><td>f64</td><td>f64</td><td>f64</td><td>f64</td><td>f64</td><td>f64</td><td>f64</td><td>i64</td><td>str</td><td>str</td><td>str</td><td>str</td><td>i64</td><td>str</td></tr></thead><tbody><tr><td>&quot;Os01g0859200&quot;</td><td>&quot;Q94DD0&quot;</td><td>&quot;Q8IUS5&quot;</td><td>9.3810e-12</td><td>1.0</td><td>26</td><td>19.1</td><td>0.191</td><td>73</td><td>5</td><td>347</td><td>347</td><td>32</td><td>362</td><td>362</td><td>382</td><td>0.988</td><td>0.914</td><td>0.4828</td><td>0.554</td><td>0.5339</td><td>0.5339</td><td>9.701</td><td>9606</td><td>&quot;Homo sapiens&quot;</td><td>&quot;-_cellular organisms;d_Eukaryo…</td><td>&quot;SKLVLITAVALLGWAYKVA-RPPP---PPI…</td><td>&quot;ASIHLLKLLWSLGKGPAQTFRRPAREHPP-…</td><td>219</td><td>&quot;0.692,0.714,0.733,0.750,0.765,…</td></tr><tr><td>&quot;Os01g0859200&quot;</td><td>&quot;Q94DD0&quot;</td><td>&quot;Q99685&quot;</td><td>2.3260e-11</td><td>1.0</td><td>21</td><td>17.7</td><td>0.177</td><td>56</td><td>41</td><td>337</td><td>347</td><td>19</td><td>285</td><td>303</td><td>315</td><td>0.856</td><td>0.881</td><td>0.4541</td><td>0.5321</td><td>0.5973</td><td>0.5973</td><td>5.605</td><td>9606</td><td>&quot;Homo sapiens&quot;</td><td>&quot;-_cellular organisms;d_Eukaryo…</td><td>&quot;SPRVQLKDGRHLAYREA-GVGREIAKYKII…</td><td>&quot;LPHLVNADGQYLFCRYWKPTG--TPKALIF…</td><td>193</td><td>&quot;0.378,0.590,0.640,0.688,0.628,…</td></tr><tr><td>&quot;Os01g0859200&quot;</td><td>&quot;Q94DD0&quot;</td><td>&quot;Q8TB40&quot;</td><td>2.7890e-11</td><td>1.0</td><td>18</td><td>14.6</td><td>0.146</td><td>48</td><td>40</td><td>337</td><td>347</td><td>44</td><td>335</td><td>342</td><td>328</td><td>0.859</td><td>0.854</td><td>0.4654</td><td>0.5333</td><td>0.5402</td><td>0.5402</td><td>7.691</td><td>9606</td><td>&quot;Homo sapiens&quot;</td><td>&quot;-_cellular organisms;d_Eukaryo…</td><td>&quot;SSPRVQLKDGRHLAYREAGVGREIAK-YKI…</td><td>&quot;LARYVSLPNQNKIWTVT--VSPEQNDRTPL…</td><td>214</td><td>&quot;0.167,0.320,0.679,0.700,0.797,…</td></tr><tr><td>&quot;Os01g0859200&quot;</td><td>&quot;Q94DD0&quot;</td><td>&quot;Q9H6B9&quot;</td><td>6.9150e-11</td><td>1.0</td><td>22</td><td>17.3</td><td>0.173</td><td>57</td><td>39</td><td>341</td><td>347</td><td>73</td><td>357</td><td>360</td><td>329</td><td>0.873</td><td>0.792</td><td>0.4855</td><td>0.541</td><td>0.5233</td><td>0.5233</td><td>7.893</td><td>9606</td><td>&quot;Homo sapiens&quot;</td><td>&quot;-_cellular organisms;d_Eukaryo…</td><td>&quot;VSSPRVQLK-DGRHLAYREAGVGREIAKYK…</td><td>&quot;GEHGFLNLKSSGLRLHYVSAG--RGNG-PL…</td><td>202</td><td>&quot;0.142,0.236,0.395,0.641,0.725,…</td></tr><tr><td>&quot;Os01g0859200&quot;</td><td>&quot;Q94DD0&quot;</td><td>&quot;Q86WA6&quot;</td><td>1.3460e-10</td><td>1.0</td><td>22</td><td>17.7</td><td>0.177</td><td>59</td><td>33</td><td>339</td><td>347</td><td>30</td><td>290</td><td>291</td><td>332</td><td>0.885</td><td>0.897</td><td>0.4727</td><td>0.4683</td><td>0.5459</td><td>0.5459</td><td>9.807</td><td>9606</td><td>&quot;Homo sapiens&quot;</td><td>&quot;-_cellular organisms;d_Eukaryo…</td><td>&quot;GPG---GPPVSSPRVQLKDGRHLAYREAGV…</td><td>&quot;GPAAAFGTSVTSAKVAVN-GVQLHYQQTGE…</td><td>177</td><td>&quot;0.087,0.143,0.118,0.094,0.125,…</td></tr><tr><td>&hellip;</td><td>&hellip;</td><td>&hellip;</td><td>&hellip;</td><td>&hellip;</td><td>&hellip;</td><td>&hellip;</td><td>&hellip;</td><td>&hellip;</td><td>&hellip;</td><td>&hellip;</td><td>&hellip;</td><td>&hellip;</td><td>&hellip;</td><td>&hellip;</td><td>&hellip;</td><td>&hellip;</td><td>&hellip;</td><td>&hellip;</td><td>&hellip;</td><td>&hellip;</td><td>&hellip;</td><td>&hellip;</td><td>&hellip;</td><td>&hellip;</td><td>&hellip;</td><td>&hellip;</td><td>&hellip;</td><td>&hellip;</td><td>&hellip;</td></tr><tr><td>&quot;Os04g0391500&quot;</td><td>&quot;Q7XVN5&quot;</td><td>&quot;Q8NDT2&quot;</td><td>0.007744</td><td>0.301</td><td>24</td><td>12.7</td><td>0.127</td><td>61</td><td>120</td><td>470</td><td>470</td><td>130</td><td>544</td><td>890</td><td>478</td><td>0.747</td><td>0.466</td><td>0.3547</td><td>0.1478</td><td>0.09118</td><td>0.09118</td><td>30.38</td><td>9606</td><td>&quot;Homo sapiens&quot;</td><td>&quot;-_cellular organisms;d_Eukaryo…</td><td>&quot;TVGIVPAEEYTVIELTGTDRP-----GLLS…</td><td>&quot;GSSAAAPEYKTL--LISSLSPALPAEHLED…</td><td>227</td><td>&quot;0.071,0.139,0.169,0.269,0.283,…</td></tr><tr><td>&quot;Os04g0391500&quot;</td><td>&quot;Q7XVN5&quot;</td><td>&quot;P31943&quot;</td><td>0.00914</td><td>0.254</td><td>30</td><td>11.1</td><td>0.111</td><td>54</td><td>120</td><td>470</td><td>470</td><td>2</td><td>412</td><td>449</td><td>486</td><td>0.747</td><td>0.915</td><td>0.3245</td><td>0.1472</td><td>0.1527</td><td>0.1527</td><td>25.98</td><td>9606</td><td>&quot;Homo sapiens&quot;</td><td>&quot;-_cellular organisms;d_Eukaryo…</td><td>&quot;TVGIVPAEEYTVIELTGTDRPGLLS-EVCA…</td><td>&quot;MLGTEGGEGFVV--KVRGLPWSCSADEVQR…</td><td>222</td><td>&quot;0.071,0.118,0.169,0.260,0.233,…</td></tr><tr><td>&quot;Os04g0391500&quot;</td><td>&quot;Q7XVN5&quot;</td><td>&quot;O95758&quot;</td><td>0.001841</td><td>0.254</td><td>32</td><td>10.8</td><td>0.108</td><td>63</td><td>1</td><td>424</td><td>470</td><td>32</td><td>549</td><td>552</td><td>580</td><td>0.902</td><td>0.938</td><td>0.281</td><td>0.1303</td><td>0.1134</td><td>0.1134</td><td>32.2</td><td>9606</td><td>&quot;Homo sapiens&quot;</td><td>&quot;-_cellular organisms;d_Eukaryo…</td><td>&quot;MALTAAAASGGDAHDDEYAKLVRGMNPPRV…</td><td>&quot;MNSSTPSTANGN-------------DSKKF…</td><td>299</td><td>&quot;0.812,0.800,0.833,0.750,0.611,…</td></tr><tr><td>&quot;Os04g0391500&quot;</td><td>&quot;Q7XVN5&quot;</td><td>&quot;P26599&quot;</td><td>0.002565</td><td>0.179</td><td>33</td><td>11.4</td><td>0.114</td><td>64</td><td>1</td><td>424</td><td>470</td><td>31</td><td>528</td><td>531</td><td>560</td><td>0.902</td><td>0.938</td><td>0.2674</td><td>0.1181</td><td>0.1065</td><td>0.1065</td><td>30.34</td><td>9606</td><td>&quot;Homo sapiens&quot;</td><td>&quot;-_cellular organisms;d_Eukaryo…</td><td>&quot;MALTAAAASGGDAHDDEYAKLVRGMNPPRV…</td><td>&quot;MSSNSASAANGN-------------DSKKF…</td><td>298</td><td>&quot;0.750,0.800,0.833,0.812,0.694,…</td></tr><tr><td>&quot;Os04g0391500&quot;</td><td>&quot;Q7XVN5&quot;</td><td>&quot;Q6ZN04&quot;</td><td>0.04062</td><td>0.15</td><td>19</td><td>15.9</td><td>0.159</td><td>51</td><td>203</td><td>470</td><td>470</td><td>11</td><td>297</td><td>569</td><td>320</td><td>0.57</td><td>0.504</td><td>0.311</td><td>0.1214</td><td>0.1062</td><td>0.1062</td><td>32.44</td><td>9606</td><td>&quot;Homo sapiens&quot;</td><td>&quot;-_cellular organisms;d_Eukaryo…</td><td>&quot;RGQSGVRAAAAAAPGGLTHKERRLHQMMFD…</td><td>&quot;RNGSG-GGGGGSSGGGETLDDQRALQLALD…</td><td>184</td><td>&quot;0.075,0.106,0.117,0.072,0.060,…</td></tr></tbody></table></div>"
      ],
      "text/plain": [
       "shape: (311, 30)\n",
       "┌───────────┬───────────┬───────────┬───────────┬───┬───────────┬───────────┬──────────┬───────────┐\n",
       "│ From      ┆ UniProt   ┆ foldseek  ┆ evalue    ┆ … ┆ qaln      ┆ taln      ┆ mismatch ┆ lddtfull  │\n",
       "│ ---       ┆ Accession ┆ hit       ┆ ---       ┆   ┆ ---       ┆ ---       ┆ ---      ┆ ---       │\n",
       "│ str       ┆ ---       ┆ ---       ┆ f64       ┆   ┆ str       ┆ str       ┆ i64      ┆ str       │\n",
       "│           ┆ str       ┆ str       ┆           ┆   ┆           ┆           ┆          ┆           │\n",
       "╞═══════════╪═══════════╪═══════════╪═══════════╪═══╪═══════════╪═══════════╪══════════╪═══════════╡\n",
       "│ Os01g0859 ┆ Q94DD0    ┆ Q8IUS5    ┆ 9.3810e-1 ┆ … ┆ SKLVLITAV ┆ ASIHLLKLL ┆ 219      ┆ 0.692,0.7 │\n",
       "│ 200       ┆           ┆           ┆ 2         ┆   ┆ ALLGWAYKV ┆ WSLGKGPAQ ┆          ┆ 14,0.733, │\n",
       "│           ┆           ┆           ┆           ┆   ┆ A-RPPP--- ┆ TFRRPAREH ┆          ┆ 0.750,0.7 │\n",
       "│           ┆           ┆           ┆           ┆   ┆ PPI…      ┆ PP-…      ┆          ┆ 65,…      │\n",
       "│ Os01g0859 ┆ Q94DD0    ┆ Q99685    ┆ 2.3260e-1 ┆ … ┆ SPRVQLKDG ┆ LPHLVNADG ┆ 193      ┆ 0.378,0.5 │\n",
       "│ 200       ┆           ┆           ┆ 1         ┆   ┆ RHLAYREA- ┆ QYLFCRYWK ┆          ┆ 90,0.640, │\n",
       "│           ┆           ┆           ┆           ┆   ┆ GVGREIAKY ┆ PTG--TPKA ┆          ┆ 0.688,0.6 │\n",
       "│           ┆           ┆           ┆           ┆   ┆ KII…      ┆ LIF…      ┆          ┆ 28,…      │\n",
       "│ Os01g0859 ┆ Q94DD0    ┆ Q8TB40    ┆ 2.7890e-1 ┆ … ┆ SSPRVQLKD ┆ LARYVSLPN ┆ 214      ┆ 0.167,0.3 │\n",
       "│ 200       ┆           ┆           ┆ 1         ┆   ┆ GRHLAYREA ┆ QNKIWTVT- ┆          ┆ 20,0.679, │\n",
       "│           ┆           ┆           ┆           ┆   ┆ GVGREIAK- ┆ -VSPEQNDR ┆          ┆ 0.700,0.7 │\n",
       "│           ┆           ┆           ┆           ┆   ┆ YKI…      ┆ TPL…      ┆          ┆ 97,…      │\n",
       "│ Os01g0859 ┆ Q94DD0    ┆ Q9H6B9    ┆ 6.9150e-1 ┆ … ┆ VSSPRVQLK ┆ GEHGFLNLK ┆ 202      ┆ 0.142,0.2 │\n",
       "│ 200       ┆           ┆           ┆ 1         ┆   ┆ -DGRHLAYR ┆ SSGLRLHYV ┆          ┆ 36,0.395, │\n",
       "│           ┆           ┆           ┆           ┆   ┆ EAGVGREIA ┆ SAG--RGNG ┆          ┆ 0.641,0.7 │\n",
       "│           ┆           ┆           ┆           ┆   ┆ KYK…      ┆ -PL…      ┆          ┆ 25,…      │\n",
       "│ Os01g0859 ┆ Q94DD0    ┆ Q86WA6    ┆ 1.3460e-1 ┆ … ┆ GPG---GPP ┆ GPAAAFGTS ┆ 177      ┆ 0.087,0.1 │\n",
       "│ 200       ┆           ┆           ┆ 0         ┆   ┆ VSSPRVQLK ┆ VTSAKVAVN ┆          ┆ 43,0.118, │\n",
       "│           ┆           ┆           ┆           ┆   ┆ DGRHLAYRE ┆ -GVQLHYQQ ┆          ┆ 0.094,0.1 │\n",
       "│           ┆           ┆           ┆           ┆   ┆ AGV…      ┆ TGE…      ┆          ┆ 25,…      │\n",
       "│ …         ┆ …         ┆ …         ┆ …         ┆ … ┆ …         ┆ …         ┆ …        ┆ …         │\n",
       "│ Os04g0391 ┆ Q7XVN5    ┆ Q8NDT2    ┆ 0.007744  ┆ … ┆ TVGIVPAEE ┆ GSSAAAPEY ┆ 227      ┆ 0.071,0.1 │\n",
       "│ 500       ┆           ┆           ┆           ┆   ┆ YTVIELTGT ┆ KTL--LISS ┆          ┆ 39,0.169, │\n",
       "│           ┆           ┆           ┆           ┆   ┆ DRP-----G ┆ LSPALPAEH ┆          ┆ 0.269,0.2 │\n",
       "│           ┆           ┆           ┆           ┆   ┆ LLS…      ┆ LED…      ┆          ┆ 83,…      │\n",
       "│ Os04g0391 ┆ Q7XVN5    ┆ P31943    ┆ 0.00914   ┆ … ┆ TVGIVPAEE ┆ MLGTEGGEG ┆ 222      ┆ 0.071,0.1 │\n",
       "│ 500       ┆           ┆           ┆           ┆   ┆ YTVIELTGT ┆ FVV--KVRG ┆          ┆ 18,0.169, │\n",
       "│           ┆           ┆           ┆           ┆   ┆ DRPGLLS-E ┆ LPWSCSADE ┆          ┆ 0.260,0.2 │\n",
       "│           ┆           ┆           ┆           ┆   ┆ VCA…      ┆ VQR…      ┆          ┆ 33,…      │\n",
       "│ Os04g0391 ┆ Q7XVN5    ┆ O95758    ┆ 0.001841  ┆ … ┆ MALTAAAAS ┆ MNSSTPSTA ┆ 299      ┆ 0.812,0.8 │\n",
       "│ 500       ┆           ┆           ┆           ┆   ┆ GGDAHDDEY ┆ NGN------ ┆          ┆ 00,0.833, │\n",
       "│           ┆           ┆           ┆           ┆   ┆ AKLVRGMNP ┆ -------DS ┆          ┆ 0.750,0.6 │\n",
       "│           ┆           ┆           ┆           ┆   ┆ PRV…      ┆ KKF…      ┆          ┆ 11,…      │\n",
       "│ Os04g0391 ┆ Q7XVN5    ┆ P26599    ┆ 0.002565  ┆ … ┆ MALTAAAAS ┆ MSSNSASAA ┆ 298      ┆ 0.750,0.8 │\n",
       "│ 500       ┆           ┆           ┆           ┆   ┆ GGDAHDDEY ┆ NGN------ ┆          ┆ 00,0.833, │\n",
       "│           ┆           ┆           ┆           ┆   ┆ AKLVRGMNP ┆ -------DS ┆          ┆ 0.812,0.6 │\n",
       "│           ┆           ┆           ┆           ┆   ┆ PRV…      ┆ KKF…      ┆          ┆ 94,…      │\n",
       "│ Os04g0391 ┆ Q7XVN5    ┆ Q6ZN04    ┆ 0.04062   ┆ … ┆ RGQSGVRAA ┆ RNGSG-GGG ┆ 184      ┆ 0.075,0.1 │\n",
       "│ 500       ┆           ┆           ┆           ┆   ┆ AAAAPGGLT ┆ GGSSGGGET ┆          ┆ 06,0.117, │\n",
       "│           ┆           ┆           ┆           ┆   ┆ HKERRLHQM ┆ LDDQRALQL ┆          ┆ 0.072,0.0 │\n",
       "│           ┆           ┆           ┆           ┆   ┆ MFD…      ┆ ALD…      ┆          ┆ 60,…      │\n",
       "└───────────┴───────────┴───────────┴───────────┴───┴───────────┴───────────┴──────────┴───────────┘"
      ]
     },
     "metadata": {},
     "output_type": "display_data"
    }
   ],
   "source": [
    "foldseek_result_df = pl.read_csv(\n",
    "    foldseek_result_tsv,\n",
    "    separator='\\t'\n",
    ")\n",
    "\n",
    "foldseek_result = pl.read_csv(\n",
    "    query_uniprot_idmapping_tsv, # query idmapping\n",
    "    separator='\\t'\n",
    ").join(\n",
    "    foldseek_result_df,\n",
    "    on=\"UniProt Accession\",\n",
    "    how=\"inner\",\n",
    "    coalesce=True\n",
    ")\n",
    "\n",
    "display(foldseek_result)"
   ]
  },
  {
   "cell_type": "markdown",
   "id": "46518837",
   "metadata": {
    "papermill": {
     "duration": 0.002009,
     "end_time": "2024-11-13T01:59:45.522728",
     "exception": false,
     "start_time": "2024-11-13T01:59:45.520719",
     "status": "completed"
    },
    "tags": []
   },
   "source": [
    "&nbsp;\n",
    "\n",
    "&nbsp;"
   ]
  },
  {
   "cell_type": "markdown",
   "id": "0504ace0",
   "metadata": {
    "papermill": {
     "duration": 0.001912,
     "end_time": "2024-11-13T01:59:45.526585",
     "exception": false,
     "start_time": "2024-11-13T01:59:45.524673",
     "status": "completed"
    },
    "tags": []
   },
   "source": [
    "## Create Scatter Plot for all hits (Strucutural alignment identity vs LDDT)\n",
    "\n",
    "- Identity in the results of the structural alignment is also output in the foldseek output.\n",
    "- However, in this notebook, you can also select the results of the pairwise alignment of amino acid sequences (global alignment, local alignment)."
   ]
  },
  {
   "cell_type": "code",
   "execution_count": 6,
   "id": "305781da",
   "metadata": {
    "execution": {
     "iopub.execute_input": "2024-11-13T01:59:45.530762Z",
     "iopub.status.busy": "2024-11-13T01:59:45.530704Z",
     "iopub.status.idle": "2024-11-13T01:59:45.669759Z",
     "shell.execute_reply": "2024-11-13T01:59:45.669500Z"
    },
    "papermill": {
     "duration": 0.141618,
     "end_time": "2024-11-13T01:59:45.670123",
     "exception": false,
     "start_time": "2024-11-13T01:59:45.528505",
     "status": "completed"
    },
    "tags": []
   },
   "outputs": [
    {
     "data": {
      "text/plain": [
       "<Figure size 4000x4000 with 0 Axes>"
      ]
     },
     "metadata": {},
     "output_type": "display_data"
    },
    {
     "data": {
      "image/png": "[encoded data removed]",
      "text/plain": [
       "<Figure size 1100x1100 with 3 Axes>"
      ]
     },
     "metadata": {},
     "output_type": "display_data"
    },
    {
     "data": {
      "text/plain": [
       "<Figure size 5000x5000 with 0 Axes>"
      ]
     },
     "metadata": {},
     "output_type": "display_data"
    }
   ],
   "source": [
    "plt.figure(figsize=(8, 8), dpi=500)\n",
    "\n",
    "sns.jointplot(\n",
    "    data=foldseek_result,\n",
    "    x=\"pident\", # Strucutural alignment identity (%) \n",
    "    y=\"lddt\",\n",
    "    color=\"darkcyan\",\n",
    "    height=11,\n",
    "    ratio=4,\n",
    "    marginal_ticks=True\n",
    ")\n",
    "\n",
    "\n",
    "plt.xlim(-0.5,100.5)\n",
    "plt.ylim(0,1)\n",
    "plt.xlabel(\"Strucutural alignment identity (%)\")\n",
    "plt.ylabel(\"LDDT\")\n",
    "plt.axvline(x=25, color=\"black\", linestyle=\":\")\n",
    "plt.axvline(x=50, color=\"black\", linestyle=\":\")\n",
    "plt.axvline(x=75, color=\"black\", linestyle=\":\")\n",
    "plt.axhline(y=0.5, color=\"black\", linestyle=\":\")\n",
    "plt.figure(figsize=(10, 10), dpi=500)\n",
    "plt.show()"
   ]
  },
  {
   "cell_type": "markdown",
   "id": "4623698a",
   "metadata": {
    "papermill": {
     "duration": 0.002379,
     "end_time": "2024-11-13T01:59:45.675178",
     "exception": false,
     "start_time": "2024-11-13T01:59:45.672799",
     "status": "completed"
    },
    "tags": []
   },
   "source": [
    "&nbsp;\n",
    "\n",
    "&nbsp;\n",
    "\n",
    "&nbsp;"
   ]
  },
  {
   "cell_type": "markdown",
   "id": "123752c5",
   "metadata": {
    "papermill": {
     "duration": 0.002391,
     "end_time": "2024-11-13T01:59:45.679925",
     "exception": false,
     "start_time": "2024-11-13T01:59:45.677534",
     "status": "completed"
    },
    "tags": []
   },
   "source": [
    "## Parse pairwise alignment result (water and needle)"
   ]
  },
  {
   "cell_type": "code",
   "execution_count": 7,
   "id": "4c382abe",
   "metadata": {
    "execution": {
     "iopub.execute_input": "2024-11-13T01:59:45.684956Z",
     "iopub.status.busy": "2024-11-13T01:59:45.684858Z",
     "iopub.status.idle": "2024-11-13T01:59:45.688600Z",
     "shell.execute_reply": "2024-11-13T01:59:45.688430Z"
    },
    "papermill": {
     "duration": 0.006652,
     "end_time": "2024-11-13T01:59:45.688912",
     "exception": false,
     "start_time": "2024-11-13T01:59:45.682260",
     "status": "completed"
    },
    "tags": []
   },
   "outputs": [],
   "source": [
    "def parse_needle_water_result(file_path: str):\n",
    "    with open(file_path, \"r\", encoding=\"utf-8\") as file:\n",
    "        data = file.readlines()\n",
    "        \n",
    "    result = {\n",
    "        \"UniProt Accession\": None,\n",
    "        \"foldseek hit\": None,\n",
    "        \"Length\": None,\n",
    "        \"Identity\": None,\n",
    "        \"Identity_percent\": None,\n",
    "        \"Similarity\": None,\n",
    "        \"Similarity_percent\": None,\n",
    "        \"Gaps\": None,\n",
    "        \"Gaps_percent\": None,\n",
    "        \"Score\": None\n",
    "    }\n",
    "    \n",
    "    for line in data:\n",
    "        if line.startswith('# 1:'):\n",
    "            result['UniProt Accession'] = line.split(':')[1].strip()\n",
    "        elif line.startswith('# 2:'):\n",
    "            result['foldseek hit'] = line.split(':')[1].strip()\n",
    "        elif line.startswith('# Length:'):\n",
    "            result['Length'] = int(line.split()[2])\n",
    "        elif line.startswith('# Identity:'):\n",
    "            result['Identity'] = line.split()[2]\n",
    "            result['Identity_percent'] = float(re.search(r'\\((.*?)%\\)', line).group(1))\n",
    "        elif line.startswith('# Similarity:'):\n",
    "            result['Similarity'] = line.split()[2]\n",
    "            result['Similarity_percent'] = float(re.search(r'\\((.*?)%\\)', line).group(1))\n",
    "        elif line.startswith('# Gaps:'):\n",
    "            result['Gaps'] = line.split()[2]\n",
    "            result['Gaps_percent'] = float(re.search(r'\\((.*?)%\\)', line).group(1))\n",
    "        elif line.startswith('# Score:'):\n",
    "            result['Score'] = float(line.split()[2])\n",
    "            \n",
    "    return result"
   ]
  },
  {
   "cell_type": "code",
   "execution_count": 8,
   "id": "afe9c815",
   "metadata": {
    "execution": {
     "iopub.execute_input": "2024-11-13T01:59:45.693962Z",
     "iopub.status.busy": "2024-11-13T01:59:45.693869Z",
     "iopub.status.idle": "2024-11-13T01:59:45.725644Z",
     "shell.execute_reply": "2024-11-13T01:59:45.725397Z"
    },
    "papermill": {
     "duration": 0.034679,
     "end_time": "2024-11-13T01:59:45.726031",
     "exception": false,
     "start_time": "2024-11-13T01:59:45.691352",
     "status": "completed"
    },
    "tags": []
   },
   "outputs": [
    {
     "data": {
      "text/html": [
       "<div><style>\n",
       ".dataframe > thead > tr,\n",
       ".dataframe > tbody > tr {\n",
       "  text-align: right;\n",
       "  white-space: pre-wrap;\n",
       "}\n",
       "</style>\n",
       "<small>shape: (307, 10)</small><table border=\"1\" class=\"dataframe\"><thead><tr><th>UniProt Accession</th><th>foldseek hit</th><th>Length</th><th>Identity</th><th>Identity_percent</th><th>Similarity</th><th>Similarity_percent</th><th>Gaps</th><th>Gaps_percent</th><th>Score</th></tr><tr><td>str</td><td>str</td><td>i64</td><td>str</td><td>f64</td><td>str</td><td>f64</td><td>str</td><td>f64</td><td>f64</td></tr></thead><tbody><tr><td>&quot;A0A0P0UZ77&quot;</td><td>&quot;P82664&quot;</td><td>40</td><td>&quot;13/40&quot;</td><td>32.5</td><td>&quot;19/40&quot;</td><td>47.5</td><td>&quot;3/40&quot;</td><td>7.5</td><td>28.5</td></tr><tr><td>&quot;A0A0P0VAM0&quot;</td><td>&quot;O75608&quot;</td><td>135</td><td>&quot;31/135&quot;</td><td>23.0</td><td>&quot;53/135&quot;</td><td>39.3</td><td>&quot;32/135&quot;</td><td>23.7</td><td>69.0</td></tr><tr><td>&quot;A0A0P0VAM0&quot;</td><td>&quot;O95372&quot;</td><td>162</td><td>&quot;39/162&quot;</td><td>24.1</td><td>&quot;63/162&quot;</td><td>38.9</td><td>&quot;52/162&quot;</td><td>32.1</td><td>91.5</td></tr><tr><td>&quot;A0A0P0VAM0&quot;</td><td>&quot;O95870&quot;</td><td>67</td><td>&quot;17/67&quot;</td><td>25.4</td><td>&quot;32/67&quot;</td><td>47.8</td><td>&quot;4/67&quot;</td><td>6.0</td><td>51.0</td></tr><tr><td>&quot;A0A0P0VAM0&quot;</td><td>&quot;P07098&quot;</td><td>420</td><td>&quot;86/420&quot;</td><td>20.5</td><td>&quot;139/420&quot;</td><td>33.1</td><td>&quot;155/420&quot;</td><td>36.9</td><td>67.5</td></tr><tr><td>&hellip;</td><td>&hellip;</td><td>&hellip;</td><td>&hellip;</td><td>&hellip;</td><td>&hellip;</td><td>&hellip;</td><td>&hellip;</td><td>&hellip;</td><td>&hellip;</td></tr><tr><td>&quot;Q94DD0&quot;</td><td>&quot;Q9ULP0&quot;</td><td>138</td><td>&quot;30/138&quot;</td><td>21.7</td><td>&quot;52/138&quot;</td><td>37.7</td><td>&quot;39/138&quot;</td><td>28.3</td><td>53.5</td></tr><tr><td>&quot;Q94DD0&quot;</td><td>&quot;Q9UMR5&quot;</td><td>258</td><td>&quot;46/258&quot;</td><td>17.8</td><td>&quot;81/258&quot;</td><td>31.4</td><td>&quot;106/258&quot;</td><td>41.1</td><td>38.5</td></tr><tr><td>&quot;Q94DD0&quot;</td><td>&quot;Q9UN36&quot;</td><td>178</td><td>&quot;39/178&quot;</td><td>21.9</td><td>&quot;65/178&quot;</td><td>36.5</td><td>&quot;54/178&quot;</td><td>30.3</td><td>65.0</td></tr><tr><td>&quot;Q94DD0&quot;</td><td>&quot;Q9Y570&quot;</td><td>371</td><td>&quot;64/371&quot;</td><td>17.3</td><td>&quot;130/371&quot;</td><td>35.0</td><td>&quot;96/371&quot;</td><td>25.9</td><td>70.0</td></tr><tr><td>&quot;Q94DD0&quot;</td><td>&quot;Q9Y5X9&quot;</td><td>89</td><td>&quot;19/89&quot;</td><td>21.3</td><td>&quot;37/89&quot;</td><td>41.6</td><td>&quot;19/89&quot;</td><td>21.3</td><td>46.0</td></tr></tbody></table></div>"
      ],
      "text/plain": [
       "shape: (307, 10)\n",
       "┌───────────────┬──────────┬────────┬──────────┬───┬──────────────┬─────────┬──────────────┬───────┐\n",
       "│ UniProt       ┆ foldseek ┆ Length ┆ Identity ┆ … ┆ Similarity_p ┆ Gaps    ┆ Gaps_percent ┆ Score │\n",
       "│ Accession     ┆ hit      ┆ ---    ┆ ---      ┆   ┆ ercent       ┆ ---     ┆ ---          ┆ ---   │\n",
       "│ ---           ┆ ---      ┆ i64    ┆ str      ┆   ┆ ---          ┆ str     ┆ f64          ┆ f64   │\n",
       "│ str           ┆ str      ┆        ┆          ┆   ┆ f64          ┆         ┆              ┆       │\n",
       "╞═══════════════╪══════════╪════════╪══════════╪═══╪══════════════╪═════════╪══════════════╪═══════╡\n",
       "│ A0A0P0UZ77    ┆ P82664   ┆ 40     ┆ 13/40    ┆ … ┆ 47.5         ┆ 3/40    ┆ 7.5          ┆ 28.5  │\n",
       "│ A0A0P0VAM0    ┆ O75608   ┆ 135    ┆ 31/135   ┆ … ┆ 39.3         ┆ 32/135  ┆ 23.7         ┆ 69.0  │\n",
       "│ A0A0P0VAM0    ┆ O95372   ┆ 162    ┆ 39/162   ┆ … ┆ 38.9         ┆ 52/162  ┆ 32.1         ┆ 91.5  │\n",
       "│ A0A0P0VAM0    ┆ O95870   ┆ 67     ┆ 17/67    ┆ … ┆ 47.8         ┆ 4/67    ┆ 6.0          ┆ 51.0  │\n",
       "│ A0A0P0VAM0    ┆ P07098   ┆ 420    ┆ 86/420   ┆ … ┆ 33.1         ┆ 155/420 ┆ 36.9         ┆ 67.5  │\n",
       "│ …             ┆ …        ┆ …      ┆ …        ┆ … ┆ …            ┆ …       ┆ …            ┆ …     │\n",
       "│ Q94DD0        ┆ Q9ULP0   ┆ 138    ┆ 30/138   ┆ … ┆ 37.7         ┆ 39/138  ┆ 28.3         ┆ 53.5  │\n",
       "│ Q94DD0        ┆ Q9UMR5   ┆ 258    ┆ 46/258   ┆ … ┆ 31.4         ┆ 106/258 ┆ 41.1         ┆ 38.5  │\n",
       "│ Q94DD0        ┆ Q9UN36   ┆ 178    ┆ 39/178   ┆ … ┆ 36.5         ┆ 54/178  ┆ 30.3         ┆ 65.0  │\n",
       "│ Q94DD0        ┆ Q9Y570   ┆ 371    ┆ 64/371   ┆ … ┆ 35.0         ┆ 96/371  ┆ 25.9         ┆ 70.0  │\n",
       "│ Q94DD0        ┆ Q9Y5X9   ┆ 89     ┆ 19/89    ┆ … ┆ 41.6         ┆ 19/89   ┆ 21.3         ┆ 46.0  │\n",
       "└───────────────┴──────────┴────────┴──────────┴───┴──────────────┴─────────┴──────────────┴───────┘"
      ]
     },
     "metadata": {},
     "output_type": "display_data"
    },
    {
     "data": {
      "text/html": [
       "<div><style>\n",
       ".dataframe > thead > tr,\n",
       ".dataframe > tbody > tr {\n",
       "  text-align: right;\n",
       "  white-space: pre-wrap;\n",
       "}\n",
       "</style>\n",
       "<small>shape: (307, 10)</small><table border=\"1\" class=\"dataframe\"><thead><tr><th>UniProt Accession</th><th>foldseek hit</th><th>Length</th><th>Identity</th><th>Identity_percent</th><th>Similarity</th><th>Similarity_percent</th><th>Gaps</th><th>Gaps_percent</th><th>Score</th></tr><tr><td>str</td><td>str</td><td>i64</td><td>str</td><td>f64</td><td>str</td><td>f64</td><td>str</td><td>f64</td><td>f64</td></tr></thead><tbody><tr><td>&quot;A0A0P0UZ77&quot;</td><td>&quot;P82664&quot;</td><td>418</td><td>&quot;7/418&quot;</td><td>1.7</td><td>&quot;8/418&quot;</td><td>1.9</td><td>&quot;399/418&quot;</td><td>95.5</td><td>7.5</td></tr><tr><td>&quot;A0A0P0VAM0&quot;</td><td>&quot;O75608&quot;</td><td>380</td><td>&quot;57/380&quot;</td><td>15.0</td><td>&quot;96/380&quot;</td><td>25.3</td><td>&quot;183/380&quot;</td><td>48.2</td><td>50.0</td></tr><tr><td>&quot;A0A0P0VAM0&quot;</td><td>&quot;O95372&quot;</td><td>388</td><td>&quot;64/388&quot;</td><td>16.5</td><td>&quot;101/388&quot;</td><td>26.0</td><td>&quot;198/388&quot;</td><td>51.0</td><td>71.0</td></tr><tr><td>&quot;A0A0P0VAM0&quot;</td><td>&quot;O95870&quot;</td><td>639</td><td>&quot;77/639&quot;</td><td>12.1</td><td>&quot;125/639&quot;</td><td>19.6</td><td>&quot;373/639&quot;</td><td>58.4</td><td>19.5</td></tr><tr><td>&quot;A0A0P0VAM0&quot;</td><td>&quot;P07098&quot;</td><td>460</td><td>&quot;92/460&quot;</td><td>20.0</td><td>&quot;150/460&quot;</td><td>32.6</td><td>&quot;175/460&quot;</td><td>38.0</td><td>65.0</td></tr><tr><td>&hellip;</td><td>&hellip;</td><td>&hellip;</td><td>&hellip;</td><td>&hellip;</td><td>&hellip;</td><td>&hellip;</td><td>&hellip;</td><td>&hellip;</td><td>&hellip;</td></tr><tr><td>&quot;Q94DD0&quot;</td><td>&quot;Q9ULP0&quot;</td><td>668</td><td>&quot;10/668&quot;</td><td>1.5</td><td>&quot;12/668&quot;</td><td>1.8</td><td>&quot;637/668&quot;</td><td>95.4</td><td>18.0</td></tr><tr><td>&quot;Q94DD0&quot;</td><td>&quot;Q9UMR5&quot;</td><td>425</td><td>&quot;60/425&quot;</td><td>14.1</td><td>&quot;109/425&quot;</td><td>25.6</td><td>&quot;201/425&quot;</td><td>47.3</td><td>21.5</td></tr><tr><td>&quot;Q94DD0&quot;</td><td>&quot;Q9UN36&quot;</td><td>560</td><td>&quot;45/560&quot;</td><td>8.0</td><td>&quot;79/560&quot;</td><td>14.1</td><td>&quot;402/560&quot;</td><td>71.8</td><td>38.5</td></tr><tr><td>&quot;Q94DD0&quot;</td><td>&quot;Q9Y570&quot;</td><td>444</td><td>&quot;68/444&quot;</td><td>15.3</td><td>&quot;135/444&quot;</td><td>30.4</td><td>&quot;155/444&quot;</td><td>34.9</td><td>63.5</td></tr><tr><td>&quot;Q94DD0&quot;</td><td>&quot;Q9Y5X9&quot;</td><td>624</td><td>&quot;74/624&quot;</td><td>11.9</td><td>&quot;119/624&quot;</td><td>19.1</td><td>&quot;401/624&quot;</td><td>64.3</td><td>37.5</td></tr></tbody></table></div>"
      ],
      "text/plain": [
       "shape: (307, 10)\n",
       "┌───────────────┬──────────┬────────┬──────────┬───┬──────────────┬─────────┬──────────────┬───────┐\n",
       "│ UniProt       ┆ foldseek ┆ Length ┆ Identity ┆ … ┆ Similarity_p ┆ Gaps    ┆ Gaps_percent ┆ Score │\n",
       "│ Accession     ┆ hit      ┆ ---    ┆ ---      ┆   ┆ ercent       ┆ ---     ┆ ---          ┆ ---   │\n",
       "│ ---           ┆ ---      ┆ i64    ┆ str      ┆   ┆ ---          ┆ str     ┆ f64          ┆ f64   │\n",
       "│ str           ┆ str      ┆        ┆          ┆   ┆ f64          ┆         ┆              ┆       │\n",
       "╞═══════════════╪══════════╪════════╪══════════╪═══╪══════════════╪═════════╪══════════════╪═══════╡\n",
       "│ A0A0P0UZ77    ┆ P82664   ┆ 418    ┆ 7/418    ┆ … ┆ 1.9          ┆ 399/418 ┆ 95.5         ┆ 7.5   │\n",
       "│ A0A0P0VAM0    ┆ O75608   ┆ 380    ┆ 57/380   ┆ … ┆ 25.3         ┆ 183/380 ┆ 48.2         ┆ 50.0  │\n",
       "│ A0A0P0VAM0    ┆ O95372   ┆ 388    ┆ 64/388   ┆ … ┆ 26.0         ┆ 198/388 ┆ 51.0         ┆ 71.0  │\n",
       "│ A0A0P0VAM0    ┆ O95870   ┆ 639    ┆ 77/639   ┆ … ┆ 19.6         ┆ 373/639 ┆ 58.4         ┆ 19.5  │\n",
       "│ A0A0P0VAM0    ┆ P07098   ┆ 460    ┆ 92/460   ┆ … ┆ 32.6         ┆ 175/460 ┆ 38.0         ┆ 65.0  │\n",
       "│ …             ┆ …        ┆ …      ┆ …        ┆ … ┆ …            ┆ …       ┆ …            ┆ …     │\n",
       "│ Q94DD0        ┆ Q9ULP0   ┆ 668    ┆ 10/668   ┆ … ┆ 1.8          ┆ 637/668 ┆ 95.4         ┆ 18.0  │\n",
       "│ Q94DD0        ┆ Q9UMR5   ┆ 425    ┆ 60/425   ┆ … ┆ 25.6         ┆ 201/425 ┆ 47.3         ┆ 21.5  │\n",
       "│ Q94DD0        ┆ Q9UN36   ┆ 560    ┆ 45/560   ┆ … ┆ 14.1         ┆ 402/560 ┆ 71.8         ┆ 38.5  │\n",
       "│ Q94DD0        ┆ Q9Y570   ┆ 444    ┆ 68/444   ┆ … ┆ 30.4         ┆ 155/444 ┆ 34.9         ┆ 63.5  │\n",
       "│ Q94DD0        ┆ Q9Y5X9   ┆ 624    ┆ 74/624   ┆ … ┆ 19.1         ┆ 401/624 ┆ 64.3         ┆ 37.5  │\n",
       "└───────────────┴──────────┴────────┴──────────┴───┴──────────────┴─────────┴──────────────┴───────┘"
      ]
     },
     "metadata": {},
     "output_type": "display_data"
    }
   ],
   "source": [
    "water_result_dir = pathlib.Path(water_result_dir_path)\n",
    "needle_result_dir = pathlib.Path(needle_result_dir_path)\n",
    "\n",
    "# Initialize empty lists to store DataFrames\n",
    "water_dfs = []\n",
    "needle_dfs = []\n",
    "\n",
    "# Collect all water results\n",
    "for result_file in water_result_dir.glob(\"*_align.water\"):\n",
    "    parsed_data = parse_needle_water_result(result_file)\n",
    "    water_dfs.append(pl.DataFrame([parsed_data]))\n",
    "\n",
    "# Collect all needle results    \n",
    "for result_file in needle_result_dir.glob(\"*_align.needle\"):\n",
    "    parsed_data = parse_needle_water_result(result_file)\n",
    "    needle_dfs.append(pl.DataFrame([parsed_data]))\n",
    "\n",
    "# Combine all results and sort only if there are results\n",
    "water_result = (pl.concat(water_dfs, how='vertical')\n",
    "                .sort([\"UniProt Accession\", \"foldseek hit\"]) \n",
    "                if water_dfs else pl.DataFrame())\n",
    "\n",
    "needle_result = (pl.concat(needle_dfs, how='vertical')\n",
    "                 .sort([\"UniProt Accession\", \"foldseek hit\"])\n",
    "                 if needle_dfs else pl.DataFrame())\n",
    "\n",
    "display(water_result)\n",
    "display(needle_result)"
   ]
  },
  {
   "cell_type": "code",
   "execution_count": 9,
   "id": "4deea5be",
   "metadata": {
    "execution": {
     "iopub.execute_input": "2024-11-13T01:59:45.731265Z",
     "iopub.status.busy": "2024-11-13T01:59:45.731197Z",
     "iopub.status.idle": "2024-11-13T01:59:45.735485Z",
     "shell.execute_reply": "2024-11-13T01:59:45.735354Z"
    },
    "papermill": {
     "duration": 0.007242,
     "end_time": "2024-11-13T01:59:45.735791",
     "exception": false,
     "start_time": "2024-11-13T01:59:45.728549",
     "status": "completed"
    },
    "tags": []
   },
   "outputs": [
    {
     "data": {
      "text/html": [
       "<div><style>\n",
       ".dataframe > thead > tr,\n",
       ".dataframe > tbody > tr {\n",
       "  text-align: right;\n",
       "  white-space: pre-wrap;\n",
       "}\n",
       "</style>\n",
       "<small>shape: (307, 16)</small><table border=\"1\" class=\"dataframe\"><thead><tr><th>UniProt Accession</th><th>foldseek hit</th><th>Length_water</th><th>Length_needle</th><th>Identity_water</th><th>Identity_needle</th><th>Identity_percent_water</th><th>Identity_percent_needle</th><th>Similarity_percent_water</th><th>Similarity_percent_needle</th><th>Gaps_water</th><th>Gaps_needle</th><th>Gaps_percent_water</th><th>Gaps_percent_needle</th><th>Score_water</th><th>Score_needle</th></tr><tr><td>str</td><td>str</td><td>i64</td><td>i64</td><td>str</td><td>str</td><td>f64</td><td>f64</td><td>f64</td><td>f64</td><td>str</td><td>str</td><td>f64</td><td>f64</td><td>f64</td><td>f64</td></tr></thead><tbody><tr><td>&quot;A0A0P0UZ77&quot;</td><td>&quot;P82664&quot;</td><td>40</td><td>418</td><td>&quot;13/40&quot;</td><td>&quot;7/418&quot;</td><td>32.5</td><td>1.7</td><td>47.5</td><td>1.9</td><td>&quot;3/40&quot;</td><td>&quot;399/418&quot;</td><td>7.5</td><td>95.5</td><td>28.5</td><td>7.5</td></tr><tr><td>&quot;A0A0P0VAM0&quot;</td><td>&quot;O75608&quot;</td><td>135</td><td>380</td><td>&quot;31/135&quot;</td><td>&quot;57/380&quot;</td><td>23.0</td><td>15.0</td><td>39.3</td><td>25.3</td><td>&quot;32/135&quot;</td><td>&quot;183/380&quot;</td><td>23.7</td><td>48.2</td><td>69.0</td><td>50.0</td></tr><tr><td>&quot;A0A0P0VAM0&quot;</td><td>&quot;O95372&quot;</td><td>162</td><td>388</td><td>&quot;39/162&quot;</td><td>&quot;64/388&quot;</td><td>24.1</td><td>16.5</td><td>38.9</td><td>26.0</td><td>&quot;52/162&quot;</td><td>&quot;198/388&quot;</td><td>32.1</td><td>51.0</td><td>91.5</td><td>71.0</td></tr><tr><td>&quot;A0A0P0VAM0&quot;</td><td>&quot;O95870&quot;</td><td>67</td><td>639</td><td>&quot;17/67&quot;</td><td>&quot;77/639&quot;</td><td>25.4</td><td>12.1</td><td>47.8</td><td>19.6</td><td>&quot;4/67&quot;</td><td>&quot;373/639&quot;</td><td>6.0</td><td>58.4</td><td>51.0</td><td>19.5</td></tr><tr><td>&quot;A0A0P0VAM0&quot;</td><td>&quot;P07098&quot;</td><td>420</td><td>460</td><td>&quot;86/420&quot;</td><td>&quot;92/460&quot;</td><td>20.5</td><td>20.0</td><td>33.1</td><td>32.6</td><td>&quot;155/420&quot;</td><td>&quot;175/460&quot;</td><td>36.9</td><td>38.0</td><td>67.5</td><td>65.0</td></tr><tr><td>&hellip;</td><td>&hellip;</td><td>&hellip;</td><td>&hellip;</td><td>&hellip;</td><td>&hellip;</td><td>&hellip;</td><td>&hellip;</td><td>&hellip;</td><td>&hellip;</td><td>&hellip;</td><td>&hellip;</td><td>&hellip;</td><td>&hellip;</td><td>&hellip;</td><td>&hellip;</td></tr><tr><td>&quot;Q94DD0&quot;</td><td>&quot;Q9ULP0&quot;</td><td>138</td><td>668</td><td>&quot;30/138&quot;</td><td>&quot;10/668&quot;</td><td>21.7</td><td>1.5</td><td>37.7</td><td>1.8</td><td>&quot;39/138&quot;</td><td>&quot;637/668&quot;</td><td>28.3</td><td>95.4</td><td>53.5</td><td>18.0</td></tr><tr><td>&quot;Q94DD0&quot;</td><td>&quot;Q9UMR5&quot;</td><td>258</td><td>425</td><td>&quot;46/258&quot;</td><td>&quot;60/425&quot;</td><td>17.8</td><td>14.1</td><td>31.4</td><td>25.6</td><td>&quot;106/258&quot;</td><td>&quot;201/425&quot;</td><td>41.1</td><td>47.3</td><td>38.5</td><td>21.5</td></tr><tr><td>&quot;Q94DD0&quot;</td><td>&quot;Q9UN36&quot;</td><td>178</td><td>560</td><td>&quot;39/178&quot;</td><td>&quot;45/560&quot;</td><td>21.9</td><td>8.0</td><td>36.5</td><td>14.1</td><td>&quot;54/178&quot;</td><td>&quot;402/560&quot;</td><td>30.3</td><td>71.8</td><td>65.0</td><td>38.5</td></tr><tr><td>&quot;Q94DD0&quot;</td><td>&quot;Q9Y570&quot;</td><td>371</td><td>444</td><td>&quot;64/371&quot;</td><td>&quot;68/444&quot;</td><td>17.3</td><td>15.3</td><td>35.0</td><td>30.4</td><td>&quot;96/371&quot;</td><td>&quot;155/444&quot;</td><td>25.9</td><td>34.9</td><td>70.0</td><td>63.5</td></tr><tr><td>&quot;Q94DD0&quot;</td><td>&quot;Q9Y5X9&quot;</td><td>89</td><td>624</td><td>&quot;19/89&quot;</td><td>&quot;74/624&quot;</td><td>21.3</td><td>11.9</td><td>41.6</td><td>19.1</td><td>&quot;19/89&quot;</td><td>&quot;401/624&quot;</td><td>21.3</td><td>64.3</td><td>46.0</td><td>37.5</td></tr></tbody></table></div>"
      ],
      "text/plain": [
       "shape: (307, 16)\n",
       "┌───────────┬───────────┬───────────┬───────────┬───┬───────────┬───────────┬───────────┬──────────┐\n",
       "│ UniProt   ┆ foldseek  ┆ Length_wa ┆ Length_ne ┆ … ┆ Gaps_perc ┆ Gaps_perc ┆ Score_wat ┆ Score_ne │\n",
       "│ Accession ┆ hit       ┆ ter       ┆ edle      ┆   ┆ ent_water ┆ ent_needl ┆ er        ┆ edle     │\n",
       "│ ---       ┆ ---       ┆ ---       ┆ ---       ┆   ┆ ---       ┆ e         ┆ ---       ┆ ---      │\n",
       "│ str       ┆ str       ┆ i64       ┆ i64       ┆   ┆ f64       ┆ ---       ┆ f64       ┆ f64      │\n",
       "│           ┆           ┆           ┆           ┆   ┆           ┆ f64       ┆           ┆          │\n",
       "╞═══════════╪═══════════╪═══════════╪═══════════╪═══╪═══════════╪═══════════╪═══════════╪══════════╡\n",
       "│ A0A0P0UZ7 ┆ P82664    ┆ 40        ┆ 418       ┆ … ┆ 7.5       ┆ 95.5      ┆ 28.5      ┆ 7.5      │\n",
       "│ 7         ┆           ┆           ┆           ┆   ┆           ┆           ┆           ┆          │\n",
       "│ A0A0P0VAM ┆ O75608    ┆ 135       ┆ 380       ┆ … ┆ 23.7      ┆ 48.2      ┆ 69.0      ┆ 50.0     │\n",
       "│ 0         ┆           ┆           ┆           ┆   ┆           ┆           ┆           ┆          │\n",
       "│ A0A0P0VAM ┆ O95372    ┆ 162       ┆ 388       ┆ … ┆ 32.1      ┆ 51.0      ┆ 91.5      ┆ 71.0     │\n",
       "│ 0         ┆           ┆           ┆           ┆   ┆           ┆           ┆           ┆          │\n",
       "│ A0A0P0VAM ┆ O95870    ┆ 67        ┆ 639       ┆ … ┆ 6.0       ┆ 58.4      ┆ 51.0      ┆ 19.5     │\n",
       "│ 0         ┆           ┆           ┆           ┆   ┆           ┆           ┆           ┆          │\n",
       "│ A0A0P0VAM ┆ P07098    ┆ 420       ┆ 460       ┆ … ┆ 36.9      ┆ 38.0      ┆ 67.5      ┆ 65.0     │\n",
       "│ 0         ┆           ┆           ┆           ┆   ┆           ┆           ┆           ┆          │\n",
       "│ …         ┆ …         ┆ …         ┆ …         ┆ … ┆ …         ┆ …         ┆ …         ┆ …        │\n",
       "│ Q94DD0    ┆ Q9ULP0    ┆ 138       ┆ 668       ┆ … ┆ 28.3      ┆ 95.4      ┆ 53.5      ┆ 18.0     │\n",
       "│ Q94DD0    ┆ Q9UMR5    ┆ 258       ┆ 425       ┆ … ┆ 41.1      ┆ 47.3      ┆ 38.5      ┆ 21.5     │\n",
       "│ Q94DD0    ┆ Q9UN36    ┆ 178       ┆ 560       ┆ … ┆ 30.3      ┆ 71.8      ┆ 65.0      ┆ 38.5     │\n",
       "│ Q94DD0    ┆ Q9Y570    ┆ 371       ┆ 444       ┆ … ┆ 25.9      ┆ 34.9      ┆ 70.0      ┆ 63.5     │\n",
       "│ Q94DD0    ┆ Q9Y5X9    ┆ 89        ┆ 624       ┆ … ┆ 21.3      ┆ 64.3      ┆ 46.0      ┆ 37.5     │\n",
       "└───────────┴───────────┴───────────┴───────────┴───┴───────────┴───────────┴───────────┴──────────┘"
      ]
     },
     "metadata": {},
     "output_type": "display_data"
    }
   ],
   "source": [
    "alignment_result = water_result.join(\n",
    "    needle_result,\n",
    "    on=[\"UniProt Accession\", \"foldseek hit\"],\n",
    "    how=\"inner\",\n",
    "    coalesce=True,\n",
    "    suffix=\"_needle\"\n",
    ").rename(\n",
    "    {\n",
    "        \"Length\": \"Length_water\",\n",
    "        \"Identity\": \"Identity_water\",\n",
    "        \"Identity_percent\": \"Identity_percent_water\",\n",
    "        \"Similarity\": \"Similarity_water\",\n",
    "        \"Similarity_percent\": \"Similarity_percent_water\",\n",
    "        \"Gaps\": \"Gaps_water\",\n",
    "        \"Gaps_percent\": \"Gaps_percent_water\",\n",
    "        \"Score\": \"Score_water\"\n",
    "    }\n",
    ").select(\n",
    "    [\n",
    "        \"UniProt Accession\",\n",
    "        \"foldseek hit\",\n",
    "        \"Length_water\",\n",
    "        \"Length_needle\",\n",
    "        \"Identity_water\",\n",
    "        \"Identity_needle\",\n",
    "        \"Identity_percent_water\",\n",
    "        \"Identity_percent_needle\",\n",
    "        \"Similarity_percent_water\",\n",
    "        \"Similarity_percent_needle\",\n",
    "        \"Gaps_water\",\n",
    "        \"Gaps_needle\",\n",
    "        \"Gaps_percent_water\",\n",
    "        \"Gaps_percent_needle\",\n",
    "        \"Score_water\",\n",
    "        \"Score_needle\"\n",
    "    ]\n",
    ")\n",
    "\n",
    "display(alignment_result)"
   ]
  },
  {
   "cell_type": "markdown",
   "id": "0448a401",
   "metadata": {
    "papermill": {
     "duration": 0.002502,
     "end_time": "2024-11-13T01:59:45.740948",
     "exception": false,
     "start_time": "2024-11-13T01:59:45.738446",
     "status": "completed"
    },
    "tags": []
   },
   "source": [
    "&nbsp;\n",
    "\n",
    "\n",
    "&nbsp;"
   ]
  },
  {
   "cell_type": "markdown",
   "id": "72014a03",
   "metadata": {
    "papermill": {
     "duration": 0.002454,
     "end_time": "2024-11-13T01:59:45.745914",
     "exception": false,
     "start_time": "2024-11-13T01:59:45.743460",
     "status": "completed"
    },
    "tags": []
   },
   "source": [
    "## Integrate foldseek result and pairwise alignment result\n",
    "\n",
    "- This time, **exclude the ones that are null in pairwise alignment result, which means the current UniProt entry is obsolete**"
   ]
  },
  {
   "cell_type": "code",
   "execution_count": 10,
   "id": "6785ed54",
   "metadata": {
    "execution": {
     "iopub.execute_input": "2024-11-13T01:59:45.751159Z",
     "iopub.status.busy": "2024-11-13T01:59:45.751092Z",
     "iopub.status.idle": "2024-11-13T01:59:45.761572Z",
     "shell.execute_reply": "2024-11-13T01:59:45.761347Z"
    },
    "papermill": {
     "duration": 0.013515,
     "end_time": "2024-11-13T01:59:45.761923",
     "exception": false,
     "start_time": "2024-11-13T01:59:45.748408",
     "status": "completed"
    },
    "tags": []
   },
   "outputs": [
    {
     "name": "stdout",
     "output_type": "stream",
     "text": [
      "shape: (307, 44)\n",
      "┌─────────────┬────────────┬──────┬────────┬───┬────────────┬────────────┬────────────┬────────────┐\n",
      "│ UniProt     ┆ foldseek   ┆ From ┆ evalue ┆ … ┆ Gaps_perce ┆ Gaps_perce ┆ Score_wate ┆ Score_need │\n",
      "│ Accession   ┆ hit        ┆ ---  ┆ ---    ┆   ┆ nt_water   ┆ nt_needle  ┆ r          ┆ le         │\n",
      "│ ---         ┆ ---        ┆ u32  ┆ u32    ┆   ┆ ---        ┆ ---        ┆ ---        ┆ ---        │\n",
      "│ str         ┆ str        ┆      ┆        ┆   ┆ u32        ┆ u32        ┆ u32        ┆ u32        │\n",
      "╞═════════════╪════════════╪══════╪════════╪═══╪════════════╪════════════╪════════════╪════════════╡\n",
      "│ A0A0P0VAM0  ┆ Q8WTS1     ┆ 1    ┆ 1      ┆ … ┆ 1          ┆ 1          ┆ 1          ┆ 1          │\n",
      "│ Q94DD0      ┆ P10768     ┆ 1    ┆ 1      ┆ … ┆ 1          ┆ 1          ┆ 1          ┆ 1          │\n",
      "│ Q5VPE3      ┆ Q9NYD6     ┆ 1    ┆ 1      ┆ … ┆ 1          ┆ 1          ┆ 1          ┆ 1          │\n",
      "│ Q94DD0      ┆ Q96IU4     ┆ 1    ┆ 1      ┆ … ┆ 1          ┆ 1          ┆ 1          ┆ 1          │\n",
      "│ Q5VPE3      ┆ P31273     ┆ 1    ┆ 1      ┆ … ┆ 1          ┆ 1          ┆ 1          ┆ 1          │\n",
      "│ …           ┆ …          ┆ …    ┆ …      ┆ … ┆ …          ┆ …          ┆ …          ┆ …          │\n",
      "│ Q7XVN5      ┆ P26599     ┆ 1    ┆ 1      ┆ … ┆ 1          ┆ 1          ┆ 1          ┆ 1          │\n",
      "│ A0A0P0VAM0  ┆ Q5VUY0     ┆ 1    ┆ 1      ┆ … ┆ 1          ┆ 1          ┆ 1          ┆ 1          │\n",
      "│ Q94DD0      ┆ Q8WTS1     ┆ 1    ┆ 1      ┆ … ┆ 1          ┆ 1          ┆ 1          ┆ 1          │\n",
      "│ A0A0P0VAM0  ┆ Q9NQE7     ┆ 1    ┆ 1      ┆ … ┆ 1          ┆ 1          ┆ 1          ┆ 1          │\n",
      "│ Q94DD0      ┆ Q9P2D6     ┆ 1    ┆ 1      ┆ … ┆ 1          ┆ 1          ┆ 1          ┆ 1          │\n",
      "└─────────────┴────────────┴──────┴────────┴───┴────────────┴────────────┴────────────┴────────────┘\n"
     ]
    },
    {
     "data": {
      "text/html": [
       "<div><style>\n",
       ".dataframe > thead > tr,\n",
       ".dataframe > tbody > tr {\n",
       "  text-align: right;\n",
       "  white-space: pre-wrap;\n",
       "}\n",
       "</style>\n",
       "<small>shape: (5, 44)</small><table border=\"1\" class=\"dataframe\"><thead><tr><th>From</th><th>UniProt Accession</th><th>foldseek hit</th><th>evalue</th><th>prob</th><th>gapopen</th><th>pident</th><th>fident</th><th>nident</th><th>qstart</th><th>qend</th><th>qlen</th><th>tstart</th><th>tend</th><th>tlen</th><th>alnlen</th><th>qcov</th><th>tcov</th><th>lddt</th><th>qtmscore</th><th>ttmscore</th><th>alntmscore</th><th>rmsd</th><th>taxid</th><th>taxname</th><th>taxlineage</th><th>qaln</th><th>taln</th><th>mismatch</th><th>lddtfull</th><th>Length_water</th><th>Length_needle</th><th>Identity_water</th><th>Identity_needle</th><th>Identity_percent_water</th><th>Identity_percent_needle</th><th>Similarity_percent_water</th><th>Similarity_percent_needle</th><th>Gaps_water</th><th>Gaps_needle</th><th>Gaps_percent_water</th><th>Gaps_percent_needle</th><th>Score_water</th><th>Score_needle</th></tr><tr><td>str</td><td>str</td><td>str</td><td>f64</td><td>f64</td><td>i64</td><td>f64</td><td>f64</td><td>i64</td><td>i64</td><td>i64</td><td>i64</td><td>i64</td><td>i64</td><td>i64</td><td>i64</td><td>f64</td><td>f64</td><td>f64</td><td>f64</td><td>f64</td><td>f64</td><td>f64</td><td>i64</td><td>str</td><td>str</td><td>str</td><td>str</td><td>i64</td><td>str</td><td>i64</td><td>i64</td><td>str</td><td>str</td><td>f64</td><td>f64</td><td>f64</td><td>f64</td><td>str</td><td>str</td><td>f64</td><td>f64</td><td>f64</td><td>f64</td></tr></thead><tbody><tr><td>&quot;Os06g0140700&quot;</td><td>&quot;Q5VPE3&quot;</td><td>&quot;P31273&quot;</td><td>0.0009204</td><td>0.998</td><td>3</td><td>17.4</td><td>0.174</td><td>36</td><td>2</td><td>173</td><td>308</td><td>34</td><td>210</td><td>242</td><td>206</td><td>0.558</td><td>0.731</td><td>0.8288</td><td>0.1918</td><td>0.2433</td><td>0.2433</td><td>28.83</td><td>9606</td><td>&quot;Homo sapiens&quot;</td><td>&quot;-_cellular organisms;d_Eukaryo…</td><td>&quot;MDLGLSLGLGLASQGSLTSSTTTTSSPGAG…</td><td>&quot;RSHALVYGPGGSAPGFQHASHHVQDFFHHG…</td><td>107</td><td>&quot;0.800,0.833,0.857,0.844,0.906,…</td><td>89</td><td>409</td><td>&quot;33/89&quot;</td><td>&quot;49/409&quot;</td><td>37.1</td><td>12.0</td><td>57.3</td><td>17.6</td><td>&quot;4/89&quot;</td><td>&quot;268/409&quot;</td><td>4.5</td><td>65.5</td><td>108.5</td><td>85.0</td></tr><tr><td>&quot;Os06g0140700&quot;</td><td>&quot;Q5VPE3&quot;</td><td>&quot;O14770&quot;</td><td>0.03256</td><td>0.353</td><td>12</td><td>16.8</td><td>0.168</td><td>53</td><td>9</td><td>308</td><td>308</td><td>194</td><td>440</td><td>477</td><td>314</td><td>0.974</td><td>0.518</td><td>0.6509</td><td>0.1657</td><td>0.1118</td><td>0.1118</td><td>36.27</td><td>9606</td><td>&quot;Homo sapiens&quot;</td><td>&quot;-_cellular organisms;d_Eukaryo…</td><td>&quot;GLGLASQGSLTSSTTTTSSPGAGSSSPWAA…</td><td>&quot;GSSKSDHEELSGSSTNLADHNPSS------…</td><td>180</td><td>&quot;0.469,0.625,0.594,0.750,0.812,…</td><td>281</td><td>544</td><td>&quot;61/281&quot;</td><td>&quot;69/544&quot;</td><td>21.7</td><td>12.7</td><td>33.1</td><td>19.9</td><td>&quot;77/281&quot;</td><td>&quot;303/544&quot;</td><td>27.4</td><td>55.7</td><td>103.0</td><td>97.5</td></tr><tr><td>&quot;Os04g0391500&quot;</td><td>&quot;Q0JDM8&quot;</td><td>&quot;Q92945&quot;</td><td>0.000033</td><td>0.949</td><td>31</td><td>11.2</td><td>0.112</td><td>60</td><td>1</td><td>467</td><td>470</td><td>128</td><td>551</td><td>711</td><td>540</td><td>0.994</td><td>0.596</td><td>0.3621</td><td>0.1496</td><td>0.1112</td><td>0.1112</td><td>37.56</td><td>9606</td><td>&quot;Homo sapiens&quot;</td><td>&quot;-_cellular organisms;d_Eukaryo…</td><td>&quot;MALTAAAASGGDAHDDEYAKLVRGMNPPR-…</td><td>&quot;DSISSQLGPIHP--------------PPRT…</td><td>291</td><td>&quot;0.875,0.800,0.875,0.750,0.778,…</td><td>313</td><td>951</td><td>&quot;58/313&quot;</td><td>&quot;59/951&quot;</td><td>18.5</td><td>6.2</td><td>29.7</td><td>10.1</td><td>&quot;89/313&quot;</td><td>&quot;721/951&quot;</td><td>28.4</td><td>75.8</td><td>64.5</td><td>51.0</td></tr><tr><td>&quot;Os06g0140700&quot;</td><td>&quot;Q5VPE3&quot;</td><td>&quot;O60663&quot;</td><td>0.0001766</td><td>1.0</td><td>6</td><td>18.4</td><td>0.184</td><td>41</td><td>79</td><td>295</td><td>308</td><td>185</td><td>386</td><td>402</td><td>222</td><td>0.705</td><td>0.502</td><td>0.6822</td><td>0.2386</td><td>0.1908</td><td>0.1908</td><td>21.18</td><td>9606</td><td>&quot;Homo sapiens&quot;</td><td>&quot;-_cellular organisms;d_Eukaryo…</td><td>&quot;DSAAALSSASGKRERELERSGSGVDDDDGA…</td><td>&quot;DSVKSEDEDGDMKPAKGQGSQSKGSGDDGK…</td><td>156</td><td>&quot;0.344,0.531,0.625,0.781,0.812,…</td><td>157</td><td>475</td><td>&quot;46/157&quot;</td><td>&quot;71/475&quot;</td><td>29.3</td><td>14.9</td><td>43.3</td><td>23.2</td><td>&quot;20/157&quot;</td><td>&quot;240/475&quot;</td><td>12.7</td><td>50.5</td><td>117.0</td><td>82.0</td></tr><tr><td>&quot;Os06g0140700&quot;</td><td>&quot;Q5VPE3&quot;</td><td>&quot;P0C7M4&quot;</td><td>0.001281</td><td>0.912</td><td>8</td><td>15.1</td><td>0.151</td><td>47</td><td>1</td><td>308</td><td>308</td><td>49</td><td>288</td><td>288</td><td>311</td><td>1.0</td><td>0.833</td><td>0.7392</td><td>0.1654</td><td>0.1765</td><td>0.1765</td><td>48.13</td><td>9606</td><td>&quot;Homo sapiens&quot;</td><td>&quot;-_cellular organisms;d_Eukaryo…</td><td>&quot;MMDLGLSLGLGLASQGSLTSSTTTTSSPGA…</td><td>&quot;EPEQGTAAGEKLKSAGAQGGEEKDGGGEEK…</td><td>190</td><td>&quot;1.000,1.000,1.000,1.000,0.969,…</td><td>175</td><td>363</td><td>&quot;36/175&quot;</td><td>&quot;61/363&quot;</td><td>20.6</td><td>16.8</td><td>33.1</td><td>25.3</td><td>&quot;52/175&quot;</td><td>&quot;130/363&quot;</td><td>29.7</td><td>35.8</td><td>74.5</td><td>43.0</td></tr></tbody></table></div>"
      ],
      "text/plain": [
       "shape: (5, 44)\n",
       "┌───────────┬───────────┬───────────┬───────────┬───┬───────────┬───────────┬───────────┬──────────┐\n",
       "│ From      ┆ UniProt   ┆ foldseek  ┆ evalue    ┆ … ┆ Gaps_perc ┆ Gaps_perc ┆ Score_wat ┆ Score_ne │\n",
       "│ ---       ┆ Accession ┆ hit       ┆ ---       ┆   ┆ ent_water ┆ ent_needl ┆ er        ┆ edle     │\n",
       "│ str       ┆ ---       ┆ ---       ┆ f64       ┆   ┆ ---       ┆ e         ┆ ---       ┆ ---      │\n",
       "│           ┆ str       ┆ str       ┆           ┆   ┆ f64       ┆ ---       ┆ f64       ┆ f64      │\n",
       "│           ┆           ┆           ┆           ┆   ┆           ┆ f64       ┆           ┆          │\n",
       "╞═══════════╪═══════════╪═══════════╪═══════════╪═══╪═══════════╪═══════════╪═══════════╪══════════╡\n",
       "│ Os06g0140 ┆ Q5VPE3    ┆ P31273    ┆ 0.0009204 ┆ … ┆ 4.5       ┆ 65.5      ┆ 108.5     ┆ 85.0     │\n",
       "│ 700       ┆           ┆           ┆           ┆   ┆           ┆           ┆           ┆          │\n",
       "│ Os06g0140 ┆ Q5VPE3    ┆ O14770    ┆ 0.03256   ┆ … ┆ 27.4      ┆ 55.7      ┆ 103.0     ┆ 97.5     │\n",
       "│ 700       ┆           ┆           ┆           ┆   ┆           ┆           ┆           ┆          │\n",
       "│ Os04g0391 ┆ Q0JDM8    ┆ Q92945    ┆ 0.000033  ┆ … ┆ 28.4      ┆ 75.8      ┆ 64.5      ┆ 51.0     │\n",
       "│ 500       ┆           ┆           ┆           ┆   ┆           ┆           ┆           ┆          │\n",
       "│ Os06g0140 ┆ Q5VPE3    ┆ O60663    ┆ 0.0001766 ┆ … ┆ 12.7      ┆ 50.5      ┆ 117.0     ┆ 82.0     │\n",
       "│ 700       ┆           ┆           ┆           ┆   ┆           ┆           ┆           ┆          │\n",
       "│ Os06g0140 ┆ Q5VPE3    ┆ P0C7M4    ┆ 0.001281  ┆ … ┆ 29.7      ┆ 35.8      ┆ 74.5      ┆ 43.0     │\n",
       "│ 700       ┆           ┆           ┆           ┆   ┆           ┆           ┆           ┆          │\n",
       "└───────────┴───────────┴───────────┴───────────┴───┴───────────┴───────────┴───────────┴──────────┘"
      ]
     },
     "metadata": {},
     "output_type": "display_data"
    }
   ],
   "source": [
    "join_foldseek = foldseek_result.join(\n",
    "    alignment_result,\n",
    "    on=[\"UniProt Accession\", \"foldseek hit\"],\n",
    "    how=\"left\",\n",
    "    coalesce=True\n",
    ").filter( # filter out null alignment result (this means current UniProt entry is obsolete)\n",
    "    pl.col(\"Length_water\").is_not_null() & \n",
    "    pl.col(\"Length_needle\").is_not_null()\n",
    ").unique()\n",
    "\n",
    "\n",
    "print(join_foldseek.group_by([\"UniProt Accession\", \"foldseek hit\"]).n_unique())\n",
    "display(join_foldseek.head())"
   ]
  },
  {
   "cell_type": "markdown",
   "id": "2a934dd6",
   "metadata": {
    "papermill": {
     "duration": 0.002583,
     "end_time": "2024-11-13T01:59:45.767185",
     "exception": false,
     "start_time": "2024-11-13T01:59:45.764602",
     "status": "completed"
    },
    "tags": []
   },
   "source": [
    "&nbsp;\n",
    "\n",
    "&nbsp;"
   ]
  },
  {
   "cell_type": "markdown",
   "id": "17a5ff8b",
   "metadata": {
    "papermill": {
     "duration": 0.00255,
     "end_time": "2024-11-13T01:59:45.772338",
     "exception": false,
     "start_time": "2024-11-13T01:59:45.769788",
     "status": "completed"
    },
    "tags": []
   },
   "source": [
    "## Create Scatter Plot for all hits (sequence alignment info vs LDDT)"
   ]
  },
  {
   "cell_type": "code",
   "execution_count": 11,
   "id": "5913d1b4",
   "metadata": {
    "execution": {
     "iopub.execute_input": "2024-11-13T01:59:45.777905Z",
     "iopub.status.busy": "2024-11-13T01:59:45.777827Z",
     "iopub.status.idle": "2024-11-13T01:59:45.909475Z",
     "shell.execute_reply": "2024-11-13T01:59:45.909215Z"
    },
    "papermill": {
     "duration": 0.134833,
     "end_time": "2024-11-13T01:59:45.909873",
     "exception": false,
     "start_time": "2024-11-13T01:59:45.775040",
     "status": "completed"
    },
    "tags": []
   },
   "outputs": [
    {
     "data": {
      "text/plain": [
       "<Figure size 4000x4000 with 0 Axes>"
      ]
     },
     "metadata": {},
     "output_type": "display_data"
    },
    {
     "data": {
      "image/png": "[encoded data removed]",
      "text/plain": [
       "<Figure size 1100x1100 with 3 Axes>"
      ]
     },
     "metadata": {},
     "output_type": "display_data"
    },
    {
     "data": {
      "text/plain": [
       "<Figure size 5000x5000 with 0 Axes>"
      ]
     },
     "metadata": {},
     "output_type": "display_data"
    }
   ],
   "source": [
    "plt.figure(figsize=(8, 8), dpi=500)\n",
    "\n",
    "sns.jointplot(\n",
    "    data=join_foldseek,\n",
    "    x=\"Identity_percent_needle\", # You can also use Identity_percent_water, Similarity_percent_needle, Similarity_percent_water\n",
    "    y=\"lddt\",\n",
    "    color=\"darkcyan\",\n",
    "    height=11,\n",
    "    ratio=4,\n",
    "    marginal_ticks=True\n",
    ")\n",
    "\n",
    "# highlight the region of interest\n",
    "plt.fill_betweenx(\n",
    "    y=[0.5, 1],\n",
    "    x1=-0.5,\n",
    "    x2=25,\n",
    "    color=\"red\",\n",
    "    alpha=0.1\n",
    ")\n",
    "\n",
    "plt.xlim(-0.5,100.5)\n",
    "plt.ylim(0,1)\n",
    "plt.xlabel(\"global alignment identity(%)\")\n",
    "plt.ylabel(\"LDDT\")\n",
    "plt.axvline(x=25, color=\"black\", linestyle=\":\")\n",
    "plt.axvline(x=50, color=\"black\", linestyle=\":\")\n",
    "plt.axvline(x=75, color=\"black\", linestyle=\":\")\n",
    "plt.axhline(y=0.5, color=\"black\", linestyle=\":\")\n",
    "plt.figure(figsize=(10, 10), dpi=500)\n",
    "plt.show()"
   ]
  },
  {
   "cell_type": "markdown",
   "id": "d77fb0f4",
   "metadata": {
    "papermill": {
     "duration": 0.003106,
     "end_time": "2024-11-13T01:59:45.916389",
     "exception": false,
     "start_time": "2024-11-13T01:59:45.913283",
     "status": "completed"
    },
    "tags": []
   },
   "source": [
    "&nbsp;\n",
    "\n",
    "&nbsp;\n",
    "\n",
    "&nbsp;\n"
   ]
  },
  {
   "cell_type": "markdown",
   "id": "9f0b8769",
   "metadata": {
    "papermill": {
     "duration": 0.003016,
     "end_time": "2024-11-13T01:59:45.922542",
     "exception": false,
     "start_time": "2024-11-13T01:59:45.919526",
     "status": "completed"
    },
    "tags": []
   },
   "source": [
    "# Caution:\n",
    "- The filtering steps that are executed below can be changed freely."
   ]
  },
  {
   "cell_type": "markdown",
   "id": "8a44fffc",
   "metadata": {
    "papermill": {
     "duration": 0.002949,
     "end_time": "2024-11-13T01:59:45.928467",
     "exception": false,
     "start_time": "2024-11-13T01:59:45.925518",
     "status": "completed"
    },
    "tags": []
   },
   "source": [
    "&nbsp;"
   ]
  },
  {
   "cell_type": "markdown",
   "id": "209ec832",
   "metadata": {
    "papermill": {
     "duration": 0.002923,
     "end_time": "2024-11-13T01:59:45.934363",
     "exception": false,
     "start_time": "2024-11-13T01:59:45.931440",
     "status": "completed"
    },
    "tags": []
   },
   "source": [
    "## Filtering Condition1\n",
    "\n",
    "- Select the ones that have foldseek hit"
   ]
  },
  {
   "cell_type": "code",
   "execution_count": 12,
   "id": "977839b6",
   "metadata": {
    "execution": {
     "iopub.execute_input": "2024-11-13T01:59:45.940644Z",
     "iopub.status.busy": "2024-11-13T01:59:45.940564Z",
     "iopub.status.idle": "2024-11-13T01:59:45.946403Z",
     "shell.execute_reply": "2024-11-13T01:59:45.946219Z"
    },
    "papermill": {
     "duration": 0.00939,
     "end_time": "2024-11-13T01:59:45.946730",
     "exception": false,
     "start_time": "2024-11-13T01:59:45.937340",
     "status": "completed"
    },
    "tags": []
   },
   "outputs": [
    {
     "data": {
      "text/html": [
       "<div><style>\n",
       ".dataframe > thead > tr,\n",
       ".dataframe > tbody > tr {\n",
       "  text-align: right;\n",
       "  white-space: pre-wrap;\n",
       "}\n",
       "</style>\n",
       "<small>shape: (10, 3)</small><table border=\"1\" class=\"dataframe\"><thead><tr><th>From</th><th>target hit count (gene level vs uniprot accession)</th><th>foldseek no hit</th></tr><tr><td>str</td><td>u32</td><td>bool</td></tr></thead><tbody><tr><td>&quot;Os01g0859200&quot;</td><td>168</td><td>false</td></tr><tr><td>&quot;Os06g0140700&quot;</td><td>121</td><td>false</td></tr><tr><td>&quot;Os04g0391500&quot;</td><td>17</td><td>false</td></tr><tr><td>&quot;Os01g0187600&quot;</td><td>1</td><td>false</td></tr><tr><td>&quot;Os12g0129300&quot;</td><td>0</td><td>true</td></tr><tr><td>&quot;Os01g0795250&quot;</td><td>0</td><td>true</td></tr><tr><td>&quot;Os12g0159500&quot;</td><td>0</td><td>true</td></tr><tr><td>&quot;Os05g0468600&quot;</td><td>0</td><td>true</td></tr><tr><td>&quot;Os02g0609000&quot;</td><td>0</td><td>true</td></tr><tr><td>&quot;Os05g0352750&quot;</td><td>0</td><td>true</td></tr></tbody></table></div>"
      ],
      "text/plain": [
       "shape: (10, 3)\n",
       "┌──────────────┬─────────────────────────────────┬─────────────────┐\n",
       "│ From         ┆ target hit count (gene level v… ┆ foldseek no hit │\n",
       "│ ---          ┆ ---                             ┆ ---             │\n",
       "│ str          ┆ u32                             ┆ bool            │\n",
       "╞══════════════╪═════════════════════════════════╪═════════════════╡\n",
       "│ Os01g0859200 ┆ 168                             ┆ false           │\n",
       "│ Os06g0140700 ┆ 121                             ┆ false           │\n",
       "│ Os04g0391500 ┆ 17                              ┆ false           │\n",
       "│ Os01g0187600 ┆ 1                               ┆ false           │\n",
       "│ Os12g0129300 ┆ 0                               ┆ true            │\n",
       "│ Os01g0795250 ┆ 0                               ┆ true            │\n",
       "│ Os12g0159500 ┆ 0                               ┆ true            │\n",
       "│ Os05g0468600 ┆ 0                               ┆ true            │\n",
       "│ Os02g0609000 ┆ 0                               ┆ true            │\n",
       "│ Os05g0352750 ┆ 0                               ┆ true            │\n",
       "└──────────────┴─────────────────────────────────┴─────────────────┘"
      ]
     },
     "metadata": {},
     "output_type": "display_data"
    }
   ],
   "source": [
    "all_gene_list = pl.read_csv(\n",
    "    query_gene_list_tsv_path,\n",
    "    separator='\\t'\n",
    ").select(\n",
    "    \"From\"\n",
    ").unique()\n",
    "\n",
    "hit_count = all_gene_list.join(\n",
    "    join_foldseek,\n",
    "    on=\"From\",\n",
    "    how=\"left\",\n",
    "    coalesce=True\n",
    ").group_by(\"From\").agg(\n",
    "    (pl.col(\"foldseek hit\").count().alias(\"target hit count (gene level vs uniprot accession)\")),\n",
    "    (pl.col(\"foldseek hit\").is_null().all().alias(\"foldseek no hit\"))\n",
    ").sort(\n",
    "    [\"target hit count (gene level vs uniprot accession)\"], descending=True\n",
    ")\n",
    "\n",
    "display(hit_count)"
   ]
  },
  {
   "cell_type": "markdown",
   "id": "6e924c6d",
   "metadata": {
    "papermill": {
     "duration": 0.003116,
     "end_time": "2024-11-13T01:59:45.953302",
     "exception": false,
     "start_time": "2024-11-13T01:59:45.950186",
     "status": "completed"
    },
    "tags": []
   },
   "source": [
    "### Filter out the ones that have no foldseek hit"
   ]
  },
  {
   "cell_type": "code",
   "execution_count": 13,
   "id": "57a4ea17",
   "metadata": {
    "execution": {
     "iopub.execute_input": "2024-11-13T01:59:45.960125Z",
     "iopub.status.busy": "2024-11-13T01:59:45.959858Z",
     "iopub.status.idle": "2024-11-13T01:59:45.964833Z",
     "shell.execute_reply": "2024-11-13T01:59:45.964657Z"
    },
    "papermill": {
     "duration": 0.008712,
     "end_time": "2024-11-13T01:59:45.965139",
     "exception": false,
     "start_time": "2024-11-13T01:59:45.956427",
     "status": "completed"
    },
    "tags": []
   },
   "outputs": [
    {
     "name": "stdout",
     "output_type": "stream",
     "text": [
      "shape: (6, 4)\n",
      "┌──────────────┬─────────────────────────────────┬─────────────────┬───────────────────┐\n",
      "│ From         ┆ target hit count (gene level v… ┆ foldseek no hit ┆ UniProt Accession │\n",
      "│ ---          ┆ ---                             ┆ ---             ┆ ---               │\n",
      "│ str          ┆ u32                             ┆ u32             ┆ u32               │\n",
      "╞══════════════╪═════════════════════════════════╪═════════════════╪═══════════════════╡\n",
      "│ Os12g0159500 ┆ 1                               ┆ 1               ┆ 3                 │\n",
      "│ Os12g0129300 ┆ 1                               ┆ 1               ┆ 2                 │\n",
      "│ Os05g0468600 ┆ 1                               ┆ 1               ┆ 1                 │\n",
      "│ Os05g0352750 ┆ 1                               ┆ 1               ┆ 1                 │\n",
      "│ Os01g0795250 ┆ 1                               ┆ 1               ┆ 1                 │\n",
      "│ Os02g0609000 ┆ 1                               ┆ 1               ┆ 2                 │\n",
      "└──────────────┴─────────────────────────────────┴─────────────────┴───────────────────┘\n"
     ]
    },
    {
     "data": {
      "text/html": [
       "<div><style>\n",
       ".dataframe > thead > tr,\n",
       ".dataframe > tbody > tr {\n",
       "  text-align: right;\n",
       "  white-space: pre-wrap;\n",
       "}\n",
       "</style>\n",
       "<small>shape: (5, 4)</small><table border=\"1\" class=\"dataframe\"><thead><tr><th>From</th><th>target hit count (gene level vs uniprot accession)</th><th>foldseek no hit</th><th>UniProt Accession</th></tr><tr><td>str</td><td>u32</td><td>bool</td><td>str</td></tr></thead><tbody><tr><td>&quot;Os01g0795250&quot;</td><td>0</td><td>true</td><td>&quot;A0A0P0V975&quot;</td></tr><tr><td>&quot;Os02g0609000&quot;</td><td>0</td><td>true</td><td>&quot;B9F105&quot;</td></tr><tr><td>&quot;Os02g0609000&quot;</td><td>0</td><td>true</td><td>&quot;Q6K1X4&quot;</td></tr><tr><td>&quot;Os05g0352750&quot;</td><td>0</td><td>true</td><td>&quot;A0A0N7KKL4&quot;</td></tr><tr><td>&quot;Os05g0468600&quot;</td><td>0</td><td>true</td><td>&quot;A0A0P0WNJ6&quot;</td></tr></tbody></table></div>"
      ],
      "text/plain": [
       "shape: (5, 4)\n",
       "┌──────────────┬─────────────────────────────────┬─────────────────┬───────────────────┐\n",
       "│ From         ┆ target hit count (gene level v… ┆ foldseek no hit ┆ UniProt Accession │\n",
       "│ ---          ┆ ---                             ┆ ---             ┆ ---               │\n",
       "│ str          ┆ u32                             ┆ bool            ┆ str               │\n",
       "╞══════════════╪═════════════════════════════════╪═════════════════╪═══════════════════╡\n",
       "│ Os01g0795250 ┆ 0                               ┆ true            ┆ A0A0P0V975        │\n",
       "│ Os02g0609000 ┆ 0                               ┆ true            ┆ B9F105            │\n",
       "│ Os02g0609000 ┆ 0                               ┆ true            ┆ Q6K1X4            │\n",
       "│ Os05g0352750 ┆ 0                               ┆ true            ┆ A0A0N7KKL4        │\n",
       "│ Os05g0468600 ┆ 0                               ┆ true            ┆ A0A0P0WNJ6        │\n",
       "└──────────────┴─────────────────────────────────┴─────────────────┴───────────────────┘"
      ]
     },
     "metadata": {},
     "output_type": "display_data"
    }
   ],
   "source": [
    "no_hit_genes_list = hit_count.filter(\n",
    "    pl.col(\"foldseek no hit\") == True\n",
    ")\n",
    "\n",
    "idmapping_list = pl.read_csv(\n",
    "    query_uniprot_idmapping_tsv,\n",
    "    separator='\\t'\n",
    ")\n",
    "  \n",
    "no_hit_idmapping_list = no_hit_genes_list.join(\n",
    "    idmapping_list,\n",
    "    on=\"From\",\n",
    "    how=\"left\"\n",
    ").sort(\n",
    "    by=[\"From\"],\n",
    "    descending=[False]\n",
    ")\n",
    "\n",
    "print(no_hit_idmapping_list.group_by([\"From\"]).n_unique())\n",
    "display(no_hit_idmapping_list.head())"
   ]
  },
  {
   "cell_type": "markdown",
   "id": "2559f67c",
   "metadata": {
    "papermill": {
     "duration": 0.003298,
     "end_time": "2024-11-13T01:59:45.971849",
     "exception": false,
     "start_time": "2024-11-13T01:59:45.968551",
     "status": "completed"
    },
    "tags": []
   },
   "source": [
    "&nbsp;\n",
    "\n",
    "&nbsp;"
   ]
  },
  {
   "cell_type": "markdown",
   "id": "9dcd7fe9",
   "metadata": {
    "papermill": {
     "duration": 0.003255,
     "end_time": "2024-11-13T01:59:45.978415",
     "exception": false,
     "start_time": "2024-11-13T01:59:45.975160",
     "status": "completed"
    },
    "tags": []
   },
   "source": [
    "## Filtering Condition2"
   ]
  },
  {
   "cell_type": "code",
   "execution_count": 14,
   "id": "bc63fb8f",
   "metadata": {
    "execution": {
     "iopub.execute_input": "2024-11-13T01:59:45.985865Z",
     "iopub.status.busy": "2024-11-13T01:59:45.985752Z",
     "iopub.status.idle": "2024-11-13T01:59:45.992164Z",
     "shell.execute_reply": "2024-11-13T01:59:45.991963Z"
    },
    "papermill": {
     "duration": 0.010654,
     "end_time": "2024-11-13T01:59:45.992514",
     "exception": false,
     "start_time": "2024-11-13T01:59:45.981860",
     "status": "completed"
    },
    "tags": []
   },
   "outputs": [
    {
     "name": "stdout",
     "output_type": "stream",
     "text": [
      "shape: (4, 44)\n",
      "┌────────────┬────────────┬───────────┬────────┬───┬───────────┬───────────┬───────────┬───────────┐\n",
      "│ From       ┆ UniProt    ┆ foldseek  ┆ evalue ┆ … ┆ Gaps_perc ┆ Gaps_perc ┆ Score_wat ┆ Score_nee │\n",
      "│ ---        ┆ Accession  ┆ hit       ┆ ---    ┆   ┆ ent_water ┆ ent_needl ┆ er        ┆ dle       │\n",
      "│ str        ┆ ---        ┆ ---       ┆ u32    ┆   ┆ ---       ┆ e         ┆ ---       ┆ ---       │\n",
      "│            ┆ u32        ┆ u32       ┆        ┆   ┆ u32       ┆ ---       ┆ u32       ┆ u32       │\n",
      "│            ┆            ┆           ┆        ┆   ┆           ┆ u32       ┆           ┆           │\n",
      "╞════════════╪════════════╪═══════════╪════════╪═══╪═══════════╪═══════════╪═══════════╪═══════════╡\n",
      "│ Os01g08592 ┆ 2          ┆ 89        ┆ 84     ┆ … ┆ 82        ┆ 80        ┆ 62        ┆ 66        │\n",
      "│ 00         ┆            ┆           ┆        ┆   ┆           ┆           ┆           ┆           │\n",
      "│ Os06g01407 ┆ 1          ┆ 121       ┆ 84     ┆ … ┆ 95        ┆ 102       ┆ 83        ┆ 86        │\n",
      "│ 00         ┆            ┆           ┆        ┆   ┆           ┆           ┆           ┆           │\n",
      "│ Os01g01876 ┆ 1          ┆ 1         ┆ 1      ┆ … ┆ 1         ┆ 1         ┆ 1         ┆ 1         │\n",
      "│ 00         ┆            ┆           ┆        ┆   ┆           ┆           ┆           ┆           │\n",
      "│ Os04g03915 ┆ 3          ┆ 14        ┆ 13     ┆ … ┆ 14        ┆ 14        ┆ 14        ┆ 12        │\n",
      "│ 00         ┆            ┆           ┆        ┆   ┆           ┆           ┆           ┆           │\n",
      "└────────────┴────────────┴───────────┴────────┴───┴───────────┴───────────┴───────────┴───────────┘\n"
     ]
    },
    {
     "data": {
      "text/html": [
       "<div><style>\n",
       ".dataframe > thead > tr,\n",
       ".dataframe > tbody > tr {\n",
       "  text-align: right;\n",
       "  white-space: pre-wrap;\n",
       "}\n",
       "</style>\n",
       "<small>shape: (225, 44)</small><table border=\"1\" class=\"dataframe\"><thead><tr><th>From</th><th>UniProt Accession</th><th>foldseek hit</th><th>evalue</th><th>prob</th><th>gapopen</th><th>pident</th><th>fident</th><th>nident</th><th>qstart</th><th>qend</th><th>qlen</th><th>tstart</th><th>tend</th><th>tlen</th><th>alnlen</th><th>qcov</th><th>tcov</th><th>lddt</th><th>qtmscore</th><th>ttmscore</th><th>alntmscore</th><th>rmsd</th><th>taxid</th><th>taxname</th><th>taxlineage</th><th>qaln</th><th>taln</th><th>mismatch</th><th>lddtfull</th><th>Length_water</th><th>Length_needle</th><th>Identity_water</th><th>Identity_needle</th><th>Identity_percent_water</th><th>Identity_percent_needle</th><th>Similarity_percent_water</th><th>Similarity_percent_needle</th><th>Gaps_water</th><th>Gaps_needle</th><th>Gaps_percent_water</th><th>Gaps_percent_needle</th><th>Score_water</th><th>Score_needle</th></tr><tr><td>str</td><td>str</td><td>str</td><td>f64</td><td>f64</td><td>i64</td><td>f64</td><td>f64</td><td>i64</td><td>i64</td><td>i64</td><td>i64</td><td>i64</td><td>i64</td><td>i64</td><td>i64</td><td>f64</td><td>f64</td><td>f64</td><td>f64</td><td>f64</td><td>f64</td><td>f64</td><td>i64</td><td>str</td><td>str</td><td>str</td><td>str</td><td>i64</td><td>str</td><td>i64</td><td>i64</td><td>str</td><td>str</td><td>f64</td><td>f64</td><td>f64</td><td>f64</td><td>str</td><td>str</td><td>f64</td><td>f64</td><td>f64</td><td>f64</td></tr></thead><tbody><tr><td>&quot;Os06g0140700&quot;</td><td>&quot;Q5VPE3&quot;</td><td>&quot;P0C7M4&quot;</td><td>0.001281</td><td>0.912</td><td>8</td><td>15.1</td><td>0.151</td><td>47</td><td>1</td><td>308</td><td>308</td><td>49</td><td>288</td><td>288</td><td>311</td><td>1.0</td><td>0.833</td><td>0.7392</td><td>0.1654</td><td>0.1765</td><td>0.1765</td><td>48.13</td><td>9606</td><td>&quot;Homo sapiens&quot;</td><td>&quot;-_cellular organisms;d_Eukaryo…</td><td>&quot;MMDLGLSLGLGLASQGSLTSSTTTTSSPGA…</td><td>&quot;EPEQGTAAGEKLKSAGAQGGEEKDGGGEEK…</td><td>190</td><td>&quot;1.000,1.000,1.000,1.000,0.969,…</td><td>175</td><td>363</td><td>&quot;36/175&quot;</td><td>&quot;61/363&quot;</td><td>20.6</td><td>16.8</td><td>33.1</td><td>25.3</td><td>&quot;52/175&quot;</td><td>&quot;130/363&quot;</td><td>29.7</td><td>35.8</td><td>74.5</td><td>43.0</td></tr><tr><td>&quot;Os01g0859200&quot;</td><td>&quot;A0A0P0VAM0&quot;</td><td>&quot;Q8IUS5&quot;</td><td>1.0420e-11</td><td>1.0</td><td>27</td><td>17.7</td><td>0.177</td><td>74</td><td>1</td><td>347</td><td>347</td><td>1</td><td>362</td><td>362</td><td>418</td><td>1.0</td><td>1.0</td><td>0.4688</td><td>0.5452</td><td>0.5257</td><td>0.5257</td><td>11.47</td><td>9606</td><td>&quot;Homo sapiens&quot;</td><td>&quot;-_cellular organisms;d_Eukaryo…</td><td>&quot;MVALSKL---VLITAVALLGW--AYKVA--…</td><td>&quot;MARLRDCLPRLMLTLRSLLFWSLVYCYCGL…</td><td>217</td><td>&quot;0.667,0.600,0.568,0.521,0.462,…</td><td>373</td><td>430</td><td>&quot;88/373&quot;</td><td>&quot;95/430&quot;</td><td>23.6</td><td>22.1</td><td>36.7</td><td>34.9</td><td>&quot;118/373&quot;</td><td>&quot;151/430&quot;</td><td>31.6</td><td>35.1</td><td>128.5</td><td>122.5</td></tr><tr><td>&quot;Os06g0140700&quot;</td><td>&quot;Q5VPE3&quot;</td><td>&quot;P43699&quot;</td><td>0.0004167</td><td>0.941</td><td>11</td><td>17.6</td><td>0.176</td><td>61</td><td>1</td><td>308</td><td>308</td><td>55</td><td>344</td><td>371</td><td>345</td><td>1.0</td><td>0.782</td><td>0.6633</td><td>0.1792</td><td>0.1496</td><td>0.1496</td><td>47.52</td><td>9606</td><td>&quot;Homo sapiens&quot;</td><td>&quot;-_cellular organisms;d_Eukaryo…</td><td>&quot;MMDLGLSLGLGLASQGSLTSSTTTTSSPGA…</td><td>&quot;QHAVGHHGAVTAAYHMTAAGVPQLSHSAVG…</td><td>192</td><td>&quot;0.938,0.800,0.917,0.857,0.906,…</td><td>379</td><td>446</td><td>&quot;92/379&quot;</td><td>&quot;91/446&quot;</td><td>24.3</td><td>20.4</td><td>32.7</td><td>27.6</td><td>&quot;154/379&quot;</td><td>&quot;213/446&quot;</td><td>40.6</td><td>47.8</td><td>140.0</td><td>131.5</td></tr><tr><td>&quot;Os06g0140700&quot;</td><td>&quot;Q5VPE3&quot;</td><td>&quot;Q9C0A1&quot;</td><td>0.0008616</td><td>0.9</td><td>11</td><td>15.0</td><td>0.15</td><td>51</td><td>1</td><td>308</td><td>308</td><td>1737</td><td>2030</td><td>2572</td><td>338</td><td>1.0</td><td>0.114</td><td>0.624</td><td>0.1906</td><td>0.02602</td><td>0.02602</td><td>38.07</td><td>9606</td><td>&quot;Homo sapiens&quot;</td><td>&quot;-_cellular organisms;d_Eukaryo…</td><td>&quot;MMDLGLSLGLGLASQGS-LTSSTTTTSSPG…</td><td>&quot;EPPDGEELSQAEATKAGGKEPEEKATPSPS…</td><td>213</td><td>&quot;0.688,0.700,0.708,0.714,0.688,…</td><td>325</td><td>2649</td><td>&quot;75/325&quot;</td><td>&quot;80/2649&quot;</td><td>23.1</td><td>3.0</td><td>37.2</td><td>4.6</td><td>&quot;98/325&quot;</td><td>&quot;2418/2649&quot;</td><td>30.2</td><td>91.3</td><td>153.0</td><td>132.0</td></tr><tr><td>&quot;Os06g0140700&quot;</td><td>&quot;Q5VPE3&quot;</td><td>&quot;O43364&quot;</td><td>0.001461</td><td>0.941</td><td>8</td><td>17.3</td><td>0.173</td><td>57</td><td>1</td><td>308</td><td>308</td><td>58</td><td>340</td><td>376</td><td>329</td><td>1.0</td><td>0.753</td><td>0.6791</td><td>0.2118</td><td>0.1767</td><td>0.1767</td><td>49.84</td><td>9606</td><td>&quot;Homo sapiens&quot;</td><td>&quot;-_cellular organisms;d_Eukaryo…</td><td>&quot;MMDLGLSLGLGLASQGSLTSSTTTTSSPGA…</td><td>&quot;SLNPGSHPRHGAGGRPKPSPAGSRGSPVPA…</td><td>205</td><td>&quot;0.875,0.850,0.833,0.929,0.875,…</td><td>172</td><td>459</td><td>&quot;49/172&quot;</td><td>&quot;74/459&quot;</td><td>28.5</td><td>16.1</td><td>43.0</td><td>24.6</td><td>&quot;22/172&quot;</td><td>&quot;234/459&quot;</td><td>12.8</td><td>51.0</td><td>121.5</td><td>97.0</td></tr><tr><td>&hellip;</td><td>&hellip;</td><td>&hellip;</td><td>&hellip;</td><td>&hellip;</td><td>&hellip;</td><td>&hellip;</td><td>&hellip;</td><td>&hellip;</td><td>&hellip;</td><td>&hellip;</td><td>&hellip;</td><td>&hellip;</td><td>&hellip;</td><td>&hellip;</td><td>&hellip;</td><td>&hellip;</td><td>&hellip;</td><td>&hellip;</td><td>&hellip;</td><td>&hellip;</td><td>&hellip;</td><td>&hellip;</td><td>&hellip;</td><td>&hellip;</td><td>&hellip;</td><td>&hellip;</td><td>&hellip;</td><td>&hellip;</td><td>&hellip;</td><td>&hellip;</td><td>&hellip;</td><td>&hellip;</td><td>&hellip;</td><td>&hellip;</td><td>&hellip;</td><td>&hellip;</td><td>&hellip;</td><td>&hellip;</td><td>&hellip;</td><td>&hellip;</td><td>&hellip;</td><td>&hellip;</td><td>&hellip;</td></tr><tr><td>&quot;Os06g0140700&quot;</td><td>&quot;Q5VPE3&quot;</td><td>&quot;P13378&quot;</td><td>0.007616</td><td>1.0</td><td>2</td><td>22.8</td><td>0.228</td><td>26</td><td>67</td><td>173</td><td>308</td><td>145</td><td>258</td><td>290</td><td>114</td><td>0.347</td><td>0.393</td><td>0.7906</td><td>0.19</td><td>0.2014</td><td>0.2014</td><td>12.97</td><td>9606</td><td>&quot;Homo sapiens&quot;</td><td>&quot;-_cellular organisms;d_Eukaryo…</td><td>&quot;EEMYQGRASTSPDSAAALSSASGKRERELE…</td><td>&quot;QPIFTTQQEAELVQYPDCKSSSGNIGEDPD…</td><td>81</td><td>&quot;0.281,0.406,0.562,0.656,0.625,…</td><td>257</td><td>399</td><td>&quot;63/257&quot;</td><td>&quot;66/399&quot;</td><td>24.5</td><td>16.5</td><td>37.0</td><td>25.6</td><td>&quot;89/257&quot;</td><td>&quot;200/399&quot;</td><td>34.6</td><td>50.1</td><td>114.5</td><td>95.0</td></tr><tr><td>&quot;Os06g0140700&quot;</td><td>&quot;Q5VPE3&quot;</td><td>&quot;Q96PT3&quot;</td><td>0.005474</td><td>1.0</td><td>2</td><td>24.2</td><td>0.242</td><td>26</td><td>69</td><td>173</td><td>308</td><td>1</td><td>106</td><td>197</td><td>107</td><td>0.341</td><td>0.538</td><td>0.795</td><td>0.1899</td><td>0.2892</td><td>0.2892</td><td>18.96</td><td>9606</td><td>&quot;Homo sapiens&quot;</td><td>&quot;-_cellular organisms;d_Eukaryo…</td><td>&quot;MYQGRASTSPDSAAALSSASGKRERELERS…</td><td>&quot;MPAEVHGSPPASLCPCQSVKFRPGLPEMAL…</td><td>78</td><td>&quot;0.438,0.469,0.594,0.625,0.812,…</td><td>105</td><td>354</td><td>&quot;29/105&quot;</td><td>&quot;39/354&quot;</td><td>27.6</td><td>11.0</td><td>41.9</td><td>18.4</td><td>&quot;11/105&quot;</td><td>&quot;203/354&quot;</td><td>10.5</td><td>57.3</td><td>89.0</td><td>66.5</td></tr><tr><td>&quot;Os01g0859200&quot;</td><td>&quot;Q94DD0&quot;</td><td>&quot;P16233&quot;</td><td>0.007209</td><td>0.975</td><td>8</td><td>16.5</td><td>0.165</td><td>21</td><td>57</td><td>167</td><td>347</td><td>79</td><td>195</td><td>465</td><td>127</td><td>0.32</td><td>0.252</td><td>0.3567</td><td>0.2234</td><td>0.173</td><td>0.173</td><td>5.241</td><td>9606</td><td>&quot;Homo sapiens&quot;</td><td>&quot;-_cellular organisms;d_Eukaryo…</td><td>&quot;AGVGREIAKYKIIFSHGFASTKESDF--PV…</td><td>&quot;SNFKTN-RKTRFII-HGFIDKGEENWLANV…</td><td>80</td><td>&quot;0.114,0.165,0.338,0.471,0.384,…</td><td>296</td><td>654</td><td>&quot;53/296&quot;</td><td>&quot;52/654&quot;</td><td>17.9</td><td>8.0</td><td>28.7</td><td>12.1</td><td>&quot;124/296&quot;</td><td>&quot;496/654&quot;</td><td>41.9</td><td>75.8</td><td>48.5</td><td>19.5</td></tr><tr><td>&quot;Os01g0859200&quot;</td><td>&quot;Q94DD0&quot;</td><td>&quot;P54317&quot;</td><td>0.02901</td><td>0.855</td><td>6</td><td>16.2</td><td>0.162</td><td>21</td><td>57</td><td>167</td><td>347</td><td>81</td><td>197</td><td>469</td><td>129</td><td>0.32</td><td>0.249</td><td>0.3504</td><td>0.2126</td><td>0.163</td><td>0.163</td><td>5.88</td><td>9606</td><td>&quot;Homo sapiens&quot;</td><td>&quot;-_cellular organisms;d_Eukaryo…</td><td>&quot;AGVGREIAKYKIIFSHGFASTKESDFP--V…</td><td>&quot;SNFQLD-RKTRFII-HGFLDKAEDSWPSDM…</td><td>78</td><td>&quot;0.114,0.170,0.318,0.478,0.348,…</td><td>211</td><td>544</td><td>&quot;45/211&quot;</td><td>&quot;74/544&quot;</td><td>21.3</td><td>13.6</td><td>34.6</td><td>21.7</td><td>&quot;45/211&quot;</td><td>&quot;272/544&quot;</td><td>21.3</td><td>50.0</td><td>58.5</td><td>31.5</td></tr><tr><td>&quot;Os04g0391500&quot;</td><td>&quot;Q7XVN5&quot;</td><td>&quot;Q8IWU9&quot;</td><td>0.09833</td><td>0.971</td><td>4</td><td>9.7</td><td>0.097</td><td>9</td><td>120</td><td>208</td><td>470</td><td>54</td><td>132</td><td>490</td><td>92</td><td>0.189</td><td>0.161</td><td>0.4252</td><td>0.1369</td><td>0.1316</td><td>0.1316</td><td>7.712</td><td>9606</td><td>&quot;Homo sapiens&quot;</td><td>&quot;-_cellular organisms;d_Eukaryo…</td><td>&quot;TVGIVPAEEYTVIELTGTDRPGLLSEVCAV…</td><td>&quot;KREAATESGKTAVVFSLKNEVGGLVKALRL…</td><td>67</td><td>&quot;0.090,0.146,0.169,0.288,0.225,…</td><td>86</td><td>872</td><td>&quot;21/86&quot;</td><td>&quot;22/872&quot;</td><td>24.4</td><td>2.5</td><td>39.5</td><td>5.0</td><td>&quot;20/86&quot;</td><td>&quot;784/872&quot;</td><td>23.3</td><td>89.9</td><td>50.5</td><td>43.0</td></tr></tbody></table></div>"
      ],
      "text/plain": [
       "shape: (225, 44)\n",
       "┌───────────┬───────────┬───────────┬───────────┬───┬───────────┬───────────┬───────────┬──────────┐\n",
       "│ From      ┆ UniProt   ┆ foldseek  ┆ evalue    ┆ … ┆ Gaps_perc ┆ Gaps_perc ┆ Score_wat ┆ Score_ne │\n",
       "│ ---       ┆ Accession ┆ hit       ┆ ---       ┆   ┆ ent_water ┆ ent_needl ┆ er        ┆ edle     │\n",
       "│ str       ┆ ---       ┆ ---       ┆ f64       ┆   ┆ ---       ┆ e         ┆ ---       ┆ ---      │\n",
       "│           ┆ str       ┆ str       ┆           ┆   ┆ f64       ┆ ---       ┆ f64       ┆ f64      │\n",
       "│           ┆           ┆           ┆           ┆   ┆           ┆ f64       ┆           ┆          │\n",
       "╞═══════════╪═══════════╪═══════════╪═══════════╪═══╪═══════════╪═══════════╪═══════════╪══════════╡\n",
       "│ Os06g0140 ┆ Q5VPE3    ┆ P0C7M4    ┆ 0.001281  ┆ … ┆ 29.7      ┆ 35.8      ┆ 74.5      ┆ 43.0     │\n",
       "│ 700       ┆           ┆           ┆           ┆   ┆           ┆           ┆           ┆          │\n",
       "│ Os01g0859 ┆ A0A0P0VAM ┆ Q8IUS5    ┆ 1.0420e-1 ┆ … ┆ 31.6      ┆ 35.1      ┆ 128.5     ┆ 122.5    │\n",
       "│ 200       ┆ 0         ┆           ┆ 1         ┆   ┆           ┆           ┆           ┆          │\n",
       "│ Os06g0140 ┆ Q5VPE3    ┆ P43699    ┆ 0.0004167 ┆ … ┆ 40.6      ┆ 47.8      ┆ 140.0     ┆ 131.5    │\n",
       "│ 700       ┆           ┆           ┆           ┆   ┆           ┆           ┆           ┆          │\n",
       "│ Os06g0140 ┆ Q5VPE3    ┆ Q9C0A1    ┆ 0.0008616 ┆ … ┆ 30.2      ┆ 91.3      ┆ 153.0     ┆ 132.0    │\n",
       "│ 700       ┆           ┆           ┆           ┆   ┆           ┆           ┆           ┆          │\n",
       "│ Os06g0140 ┆ Q5VPE3    ┆ O43364    ┆ 0.001461  ┆ … ┆ 12.8      ┆ 51.0      ┆ 121.5     ┆ 97.0     │\n",
       "│ 700       ┆           ┆           ┆           ┆   ┆           ┆           ┆           ┆          │\n",
       "│ …         ┆ …         ┆ …         ┆ …         ┆ … ┆ …         ┆ …         ┆ …         ┆ …        │\n",
       "│ Os06g0140 ┆ Q5VPE3    ┆ P13378    ┆ 0.007616  ┆ … ┆ 34.6      ┆ 50.1      ┆ 114.5     ┆ 95.0     │\n",
       "│ 700       ┆           ┆           ┆           ┆   ┆           ┆           ┆           ┆          │\n",
       "│ Os06g0140 ┆ Q5VPE3    ┆ Q96PT3    ┆ 0.005474  ┆ … ┆ 10.5      ┆ 57.3      ┆ 89.0      ┆ 66.5     │\n",
       "│ 700       ┆           ┆           ┆           ┆   ┆           ┆           ┆           ┆          │\n",
       "│ Os01g0859 ┆ Q94DD0    ┆ P16233    ┆ 0.007209  ┆ … ┆ 41.9      ┆ 75.8      ┆ 48.5      ┆ 19.5     │\n",
       "│ 200       ┆           ┆           ┆           ┆   ┆           ┆           ┆           ┆          │\n",
       "│ Os01g0859 ┆ Q94DD0    ┆ P54317    ┆ 0.02901   ┆ … ┆ 21.3      ┆ 50.0      ┆ 58.5      ┆ 31.5     │\n",
       "│ 200       ┆           ┆           ┆           ┆   ┆           ┆           ┆           ┆          │\n",
       "│ Os04g0391 ┆ Q7XVN5    ┆ Q8IWU9    ┆ 0.09833   ┆ … ┆ 23.3      ┆ 89.9      ┆ 50.5      ┆ 43.0     │\n",
       "│ 500       ┆           ┆           ┆           ┆   ┆           ┆           ┆           ┆          │\n",
       "└───────────┴───────────┴───────────┴───────────┴───┴───────────┴───────────┴───────────┴──────────┘"
      ]
     },
     "metadata": {},
     "output_type": "display_data"
    }
   ],
   "source": [
    "condition2 = join_foldseek.sort(\n",
    "        \"qcov\", descending=True\n",
    "    ).unique(\n",
    "        subset=[\"From\", \"foldseek hit\"]\n",
    "    ).sort(\n",
    "        \"qcov\", descending=True\n",
    "    )\n",
    "\n",
    "print(condition2.group_by([\"From\"]).n_unique())\n",
    "display(condition2)"
   ]
  },
  {
   "cell_type": "markdown",
   "id": "44efb5a8",
   "metadata": {
    "papermill": {
     "duration": 0.003704,
     "end_time": "2024-11-13T01:59:46.000447",
     "exception": false,
     "start_time": "2024-11-13T01:59:45.996743",
     "status": "completed"
    },
    "tags": []
   },
   "source": [
    "&nbsp;\n",
    "\n",
    "&nbsp;"
   ]
  },
  {
   "cell_type": "markdown",
   "id": "cfdc3e4c",
   "metadata": {
    "papermill": {
     "duration": 0.003281,
     "end_time": "2024-11-13T01:59:46.007101",
     "exception": false,
     "start_time": "2024-11-13T01:59:46.003820",
     "status": "completed"
    },
    "tags": []
   },
   "source": [
    "## Filtering Condition3\n",
    "\n",
    "- select the ones with qcov (query coverage) >= 0.5 and tcov (target coverage) >= 0.5"
   ]
  },
  {
   "cell_type": "code",
   "execution_count": 15,
   "id": "ca0217f6",
   "metadata": {
    "execution": {
     "iopub.execute_input": "2024-11-13T01:59:46.014187Z",
     "iopub.status.busy": "2024-11-13T01:59:46.014095Z",
     "iopub.status.idle": "2024-11-13T01:59:46.023854Z",
     "shell.execute_reply": "2024-11-13T01:59:46.023522Z"
    },
    "papermill": {
     "duration": 0.013908,
     "end_time": "2024-11-13T01:59:46.024282",
     "exception": false,
     "start_time": "2024-11-13T01:59:46.010374",
     "status": "completed"
    },
    "tags": []
   },
   "outputs": [
    {
     "name": "stdout",
     "output_type": "stream",
     "text": [
      "shape: (4, 44)\n",
      "┌────────────┬────────────┬───────────┬────────┬───┬───────────┬───────────┬───────────┬───────────┐\n",
      "│ From       ┆ UniProt    ┆ foldseek  ┆ evalue ┆ … ┆ Gaps_perc ┆ Gaps_perc ┆ Score_wat ┆ Score_nee │\n",
      "│ ---        ┆ Accession  ┆ hit       ┆ ---    ┆   ┆ ent_water ┆ ent_needl ┆ er        ┆ dle       │\n",
      "│ str        ┆ ---        ┆ ---       ┆ u32    ┆   ┆ ---       ┆ e         ┆ ---       ┆ ---       │\n",
      "│            ┆ u32        ┆ u32       ┆        ┆   ┆ u32       ┆ ---       ┆ u32       ┆ u32       │\n",
      "│            ┆            ┆           ┆        ┆   ┆           ┆ u32       ┆           ┆           │\n",
      "╞════════════╪════════════╪═══════════╪════════╪═══╪═══════════╪═══════════╪═══════════╪═══════════╡\n",
      "│ Os01g01876 ┆ 1          ┆ 1         ┆ 1      ┆ … ┆ 1         ┆ 1         ┆ 1         ┆ 1         │\n",
      "│ 00         ┆            ┆           ┆        ┆   ┆           ┆           ┆           ┆           │\n",
      "│ Os04g03915 ┆ 3          ┆ 10        ┆ 10     ┆ … ┆ 10        ┆ 10        ┆ 10        ┆ 9         │\n",
      "│ 00         ┆            ┆           ┆        ┆   ┆           ┆           ┆           ┆           │\n",
      "│ Os01g08592 ┆ 2          ┆ 61        ┆ 59     ┆ … ┆ 59        ┆ 56        ┆ 49        ┆ 54        │\n",
      "│ 00         ┆            ┆           ┆        ┆   ┆           ┆           ┆           ┆           │\n",
      "│ Os06g01407 ┆ 1          ┆ 98        ┆ 72     ┆ … ┆ 79        ┆ 85        ┆ 70        ┆ 72        │\n",
      "│ 00         ┆            ┆           ┆        ┆   ┆           ┆           ┆           ┆           │\n",
      "└────────────┴────────────┴───────────┴────────┴───┴───────────┴───────────┴───────────┴───────────┘\n"
     ]
    },
    {
     "data": {
      "text/html": [
       "<div><style>\n",
       ".dataframe > thead > tr,\n",
       ".dataframe > tbody > tr {\n",
       "  text-align: right;\n",
       "  white-space: pre-wrap;\n",
       "}\n",
       "</style>\n",
       "<small>shape: (170, 44)</small><table border=\"1\" class=\"dataframe\"><thead><tr><th>From</th><th>UniProt Accession</th><th>foldseek hit</th><th>evalue</th><th>prob</th><th>gapopen</th><th>pident</th><th>fident</th><th>nident</th><th>qstart</th><th>qend</th><th>qlen</th><th>tstart</th><th>tend</th><th>tlen</th><th>alnlen</th><th>qcov</th><th>tcov</th><th>lddt</th><th>qtmscore</th><th>ttmscore</th><th>alntmscore</th><th>rmsd</th><th>taxid</th><th>taxname</th><th>taxlineage</th><th>qaln</th><th>taln</th><th>mismatch</th><th>lddtfull</th><th>Length_water</th><th>Length_needle</th><th>Identity_water</th><th>Identity_needle</th><th>Identity_percent_water</th><th>Identity_percent_needle</th><th>Similarity_percent_water</th><th>Similarity_percent_needle</th><th>Gaps_water</th><th>Gaps_needle</th><th>Gaps_percent_water</th><th>Gaps_percent_needle</th><th>Score_water</th><th>Score_needle</th></tr><tr><td>str</td><td>str</td><td>str</td><td>f64</td><td>f64</td><td>i64</td><td>f64</td><td>f64</td><td>i64</td><td>i64</td><td>i64</td><td>i64</td><td>i64</td><td>i64</td><td>i64</td><td>i64</td><td>f64</td><td>f64</td><td>f64</td><td>f64</td><td>f64</td><td>f64</td><td>f64</td><td>i64</td><td>str</td><td>str</td><td>str</td><td>str</td><td>i64</td><td>str</td><td>i64</td><td>i64</td><td>str</td><td>str</td><td>f64</td><td>f64</td><td>f64</td><td>f64</td><td>str</td><td>str</td><td>f64</td><td>f64</td><td>f64</td><td>f64</td></tr></thead><tbody><tr><td>&quot;Os01g0859200&quot;</td><td>&quot;Q94DD0&quot;</td><td>&quot;Q96I13&quot;</td><td>1.2610e-8</td><td>1.0</td><td>15</td><td>17.0</td><td>0.17</td><td>53</td><td>57</td><td>345</td><td>347</td><td>167</td><td>421</td><td>439</td><td>310</td><td>0.833</td><td>0.581</td><td>0.4006</td><td>0.4091</td><td>0.3391</td><td>0.3391</td><td>9.331</td><td>9606</td><td>&quot;Homo sapiens&quot;</td><td>&quot;-_cellular organisms;d_Eukaryo…</td><td>&quot;AGVGREIAKYKIIFSHGFAST----KESDF…</td><td>&quot;TSCKGAQADVVLFFIHGVGGSLAIWKEQ--…</td><td>181</td><td>&quot;0.132,0.191,0.277,0.478,0.305,…</td><td>397</td><td>514</td><td>&quot;87/397&quot;</td><td>&quot;91/514&quot;</td><td>21.9</td><td>17.7</td><td>32.5</td><td>26.7</td><td>&quot;143/397&quot;</td><td>&quot;242/514&quot;</td><td>36.0</td><td>47.1</td><td>78.0</td><td>67.5</td></tr><tr><td>&quot;Os06g0140700&quot;</td><td>&quot;Q5VPE3&quot;</td><td>&quot;Q6NSW7&quot;</td><td>0.0001041</td><td>0.99</td><td>9</td><td>15.1</td><td>0.151</td><td>51</td><td>1</td><td>307</td><td>308</td><td>2</td><td>281</td><td>305</td><td>336</td><td>0.997</td><td>0.918</td><td>0.7031</td><td>0.1866</td><td>0.1884</td><td>0.1884</td><td>45.45</td><td>9606</td><td>&quot;Homo sapiens&quot;</td><td>&quot;-_cellular organisms;d_Eukaryo…</td><td>&quot;MMDLGLSLGLGLASQGSLTSSTTTTSSPGA…</td><td>&quot;SVDPACPQSLPCFEESDCKESSPMPVICGP…</td><td>200</td><td>&quot;0.938,0.900,1.000,0.964,1.000,…</td><td>194</td><td>392</td><td>&quot;48/194&quot;</td><td>&quot;70/392&quot;</td><td>24.7</td><td>17.9</td><td>36.6</td><td>28.6</td><td>&quot;67/194&quot;</td><td>&quot;171/392&quot;</td><td>34.5</td><td>43.6</td><td>112.0</td><td>86.0</td></tr><tr><td>&quot;Os06g0140700&quot;</td><td>&quot;Q5VPE3&quot;</td><td>&quot;Q15270&quot;</td><td>0.001781</td><td>0.9</td><td>6</td><td>17.7</td><td>0.177</td><td>55</td><td>1</td><td>307</td><td>308</td><td>172</td><td>411</td><td>411</td><td>310</td><td>0.997</td><td>0.584</td><td>0.7228</td><td>0.1823</td><td>0.1379</td><td>0.1379</td><td>39.19</td><td>9606</td><td>&quot;Homo sapiens&quot;</td><td>&quot;-_cellular organisms;d_Eukaryo…</td><td>&quot;MMDLGLSLGLGLASQGS-LTSSTTTTSSPG…</td><td>&quot;GAEEARGGGGGLGARGSGCQGAAETDASPG…</td><td>182</td><td>&quot;0.750,0.750,0.792,0.750,0.750,…</td><td>295</td><td>536</td><td>&quot;70/295&quot;</td><td>&quot;72/536&quot;</td><td>23.7</td><td>13.4</td><td>33.6</td><td>19.2</td><td>&quot;89/295&quot;</td><td>&quot;316/536&quot;</td><td>30.2</td><td>59.0</td><td>150.0</td><td>133.5</td></tr><tr><td>&quot;Os06g0140700&quot;</td><td>&quot;Q5VPE3&quot;</td><td>&quot;O14627&quot;</td><td>0.0005427</td><td>0.941</td><td>8</td><td>17.9</td><td>0.179</td><td>52</td><td>1</td><td>247</td><td>308</td><td>45</td><td>284</td><td>284</td><td>289</td><td>0.802</td><td>0.845</td><td>0.6966</td><td>0.1613</td><td>0.1749</td><td>0.1749</td><td>33.9</td><td>9606</td><td>&quot;Homo sapiens&quot;</td><td>&quot;-_cellular organisms;d_Eukaryo…</td><td>&quot;MMDLGLSLGLGLASQGSLTSSTTTTS---S…</td><td>&quot;AAAPAFSHYMGYPHMPSMDPHWPSLGVWGS…</td><td>146</td><td>&quot;0.875,0.900,0.875,0.821,0.906,…</td><td>168</td><td>388</td><td>&quot;47/168&quot;</td><td>&quot;68/388&quot;</td><td>28.0</td><td>17.5</td><td>41.7</td><td>27.6</td><td>&quot;48/168&quot;</td><td>&quot;184/388&quot;</td><td>28.6</td><td>47.4</td><td>113.0</td><td>94.5</td></tr><tr><td>&quot;Os01g0859200&quot;</td><td>&quot;A0A0P0VAM0&quot;</td><td>&quot;Q5VUY0&quot;</td><td>0.000003</td><td>1.0</td><td>23</td><td>12.7</td><td>0.127</td><td>47</td><td>19</td><td>335</td><td>347</td><td>73</td><td>398</td><td>407</td><td>369</td><td>0.914</td><td>0.801</td><td>0.3647</td><td>0.4253</td><td>0.3721</td><td>0.3721</td><td>14.11</td><td>9606</td><td>&quot;Homo sapiens&quot;</td><td>&quot;-_cellular organisms;d_Eukaryo…</td><td>&quot;AYKVARPPPPPILGGPGGPPVSSPRVQLKD…</td><td>&quot;CFMQDLPP----LKYD--PDVVVTDFR-FG…</td><td>227</td><td>&quot;0.268,0.259,0.260,0.225,0.174,…</td><td>262</td><td>487</td><td>&quot;56/262&quot;</td><td>&quot;87/487&quot;</td><td>21.4</td><td>17.9</td><td>31.7</td><td>25.9</td><td>&quot;95/262&quot;</td><td>&quot;220/487&quot;</td><td>36.3</td><td>45.2</td><td>47.0</td><td>23.5</td></tr><tr><td>&hellip;</td><td>&hellip;</td><td>&hellip;</td><td>&hellip;</td><td>&hellip;</td><td>&hellip;</td><td>&hellip;</td><td>&hellip;</td><td>&hellip;</td><td>&hellip;</td><td>&hellip;</td><td>&hellip;</td><td>&hellip;</td><td>&hellip;</td><td>&hellip;</td><td>&hellip;</td><td>&hellip;</td><td>&hellip;</td><td>&hellip;</td><td>&hellip;</td><td>&hellip;</td><td>&hellip;</td><td>&hellip;</td><td>&hellip;</td><td>&hellip;</td><td>&hellip;</td><td>&hellip;</td><td>&hellip;</td><td>&hellip;</td><td>&hellip;</td><td>&hellip;</td><td>&hellip;</td><td>&hellip;</td><td>&hellip;</td><td>&hellip;</td><td>&hellip;</td><td>&hellip;</td><td>&hellip;</td><td>&hellip;</td><td>&hellip;</td><td>&hellip;</td><td>&hellip;</td><td>&hellip;</td><td>&hellip;</td></tr><tr><td>&quot;Os01g0859200&quot;</td><td>&quot;Q94DD0&quot;</td><td>&quot;Q7Z5M8&quot;</td><td>1.5080e-7</td><td>1.0</td><td>24</td><td>14.5</td><td>0.145</td><td>49</td><td>43</td><td>337</td><td>347</td><td>100</td><td>355</td><td>362</td><td>337</td><td>0.85</td><td>0.707</td><td>0.4008</td><td>0.442</td><td>0.4261</td><td>0.4261</td><td>7.587</td><td>9606</td><td>&quot;Homo sapiens&quot;</td><td>&quot;-_cellular organisms;d_Eukaryo…</td><td>&quot;RVQLKDGRHLAYREAG----------VG--…</td><td>&quot;YLRVEPGVMLGIWHTVPSCRGEDAKGKDCC…</td><td>165</td><td>&quot;0.605,0.620,0.604,0.604,0.469,…</td><td>251</td><td>462</td><td>&quot;62/251&quot;</td><td>&quot;71/462&quot;</td><td>24.7</td><td>15.4</td><td>41.0</td><td>24.7</td><td>&quot;28/251&quot;</td><td>&quot;215/462&quot;</td><td>11.2</td><td>46.5</td><td>103.5</td><td>84.0</td></tr><tr><td>&quot;Os06g0140700&quot;</td><td>&quot;Q5VPE3&quot;</td><td>&quot;O15266&quot;</td><td>0.0001766</td><td>0.984</td><td>10</td><td>17.9</td><td>0.179</td><td>53</td><td>1</td><td>272</td><td>308</td><td>1</td><td>259</td><td>292</td><td>296</td><td>0.883</td><td>0.887</td><td>0.6875</td><td>0.1829</td><td>0.1927</td><td>0.1927</td><td>36.91</td><td>9606</td><td>&quot;Homo sapiens&quot;</td><td>&quot;-_cellular organisms;d_Eukaryo…</td><td>&quot;MMDLGLSLGLGLASQGSLTSSTTTTSSPGA…</td><td>&quot;MEELTAFVSKSF-DQKSKDGNGGGGGGGGK…</td><td>182</td><td>&quot;0.938,0.850,0.875,0.929,0.875,…</td><td>227</td><td>360</td><td>&quot;59/227&quot;</td><td>&quot;71/360&quot;</td><td>26.0</td><td>19.7</td><td>40.1</td><td>31.9</td><td>&quot;49/227&quot;</td><td>&quot;120/360&quot;</td><td>21.6</td><td>33.3</td><td>121.5</td><td>108.5</td></tr><tr><td>&quot;Os01g0859200&quot;</td><td>&quot;Q94DD0&quot;</td><td>&quot;Q8TB40&quot;</td><td>2.7890e-11</td><td>1.0</td><td>18</td><td>14.6</td><td>0.146</td><td>48</td><td>40</td><td>337</td><td>347</td><td>44</td><td>335</td><td>342</td><td>328</td><td>0.859</td><td>0.854</td><td>0.4654</td><td>0.5333</td><td>0.5402</td><td>0.5402</td><td>7.691</td><td>9606</td><td>&quot;Homo sapiens&quot;</td><td>&quot;-_cellular organisms;d_Eukaryo…</td><td>&quot;SSPRVQLKDGRHLAYREAGVGREIAK-YKI…</td><td>&quot;LARYVSLPNQNKIWTVT--VSPEQNDRTPL…</td><td>214</td><td>&quot;0.167,0.320,0.679,0.700,0.797,…</td><td>125</td><td>449</td><td>&quot;26/125&quot;</td><td>&quot;70/449&quot;</td><td>20.8</td><td>15.6</td><td>36.8</td><td>27.4</td><td>&quot;37/125&quot;</td><td>&quot;209/449&quot;</td><td>29.6</td><td>46.5</td><td>64.0</td><td>36.0</td></tr><tr><td>&quot;Os01g0859200&quot;</td><td>&quot;A0A0P0VAM0&quot;</td><td>&quot;P07098&quot;</td><td>9.7090e-10</td><td>1.0</td><td>23</td><td>13.9</td><td>0.139</td><td>51</td><td>40</td><td>337</td><td>347</td><td>47</td><td>388</td><td>398</td><td>366</td><td>0.859</td><td>0.859</td><td>0.4341</td><td>0.5134</td><td>0.4581</td><td>0.4581</td><td>7.891</td><td>9606</td><td>&quot;Homo sapiens&quot;</td><td>&quot;-_cellular organisms;d_Eukaryo…</td><td>&quot;SSPRVQLKDGRHLAYRE--------AGVGR…</td><td>&quot;EEYEVVTEDGYILEVNRIPYGKKNSGNTGQ…</td><td>223</td><td>&quot;0.209,0.327,0.553,0.668,0.745,…</td><td>420</td><td>460</td><td>&quot;86/420&quot;</td><td>&quot;92/460&quot;</td><td>20.5</td><td>20.0</td><td>33.1</td><td>32.6</td><td>&quot;155/420&quot;</td><td>&quot;175/460&quot;</td><td>36.9</td><td>38.0</td><td>67.5</td><td>65.0</td></tr><tr><td>&quot;Os06g0140700&quot;</td><td>&quot;Q5VPE3&quot;</td><td>&quot;A6NJ46&quot;</td><td>0.0009832</td><td>0.991</td><td>7</td><td>19.7</td><td>0.197</td><td>41</td><td>62</td><td>253</td><td>308</td><td>78</td><td>237</td><td>265</td><td>208</td><td>0.623</td><td>0.604</td><td>0.7024</td><td>0.1813</td><td>0.2094</td><td>0.2094</td><td>28.98</td><td>9606</td><td>&quot;Homo sapiens&quot;</td><td>&quot;-_cellular organisms;d_Eukaryo…</td><td>&quot;VGVGGEEMYQGRASTSPDSAAALSSASGKR…</td><td>&quot;AGFGGLSSQGVYYSPQVGNFSKAGNEYPTR…</td><td>103</td><td>&quot;0.212,0.333,0.409,0.575,0.750,…</td><td>260</td><td>390</td><td>&quot;59/260&quot;</td><td>&quot;66/390&quot;</td><td>22.7</td><td>16.9</td><td>30.8</td><td>23.1</td><td>&quot;105/260&quot;</td><td>&quot;207/390&quot;</td><td>40.4</td><td>53.1</td><td>104.5</td><td>86.0</td></tr></tbody></table></div>"
      ],
      "text/plain": [
       "shape: (170, 44)\n",
       "┌───────────┬───────────┬───────────┬───────────┬───┬───────────┬───────────┬───────────┬──────────┐\n",
       "│ From      ┆ UniProt   ┆ foldseek  ┆ evalue    ┆ … ┆ Gaps_perc ┆ Gaps_perc ┆ Score_wat ┆ Score_ne │\n",
       "│ ---       ┆ Accession ┆ hit       ┆ ---       ┆   ┆ ent_water ┆ ent_needl ┆ er        ┆ edle     │\n",
       "│ str       ┆ ---       ┆ ---       ┆ f64       ┆   ┆ ---       ┆ e         ┆ ---       ┆ ---      │\n",
       "│           ┆ str       ┆ str       ┆           ┆   ┆ f64       ┆ ---       ┆ f64       ┆ f64      │\n",
       "│           ┆           ┆           ┆           ┆   ┆           ┆ f64       ┆           ┆          │\n",
       "╞═══════════╪═══════════╪═══════════╪═══════════╪═══╪═══════════╪═══════════╪═══════════╪══════════╡\n",
       "│ Os01g0859 ┆ Q94DD0    ┆ Q96I13    ┆ 1.2610e-8 ┆ … ┆ 36.0      ┆ 47.1      ┆ 78.0      ┆ 67.5     │\n",
       "│ 200       ┆           ┆           ┆           ┆   ┆           ┆           ┆           ┆          │\n",
       "│ Os06g0140 ┆ Q5VPE3    ┆ Q6NSW7    ┆ 0.0001041 ┆ … ┆ 34.5      ┆ 43.6      ┆ 112.0     ┆ 86.0     │\n",
       "│ 700       ┆           ┆           ┆           ┆   ┆           ┆           ┆           ┆          │\n",
       "│ Os06g0140 ┆ Q5VPE3    ┆ Q15270    ┆ 0.001781  ┆ … ┆ 30.2      ┆ 59.0      ┆ 150.0     ┆ 133.5    │\n",
       "│ 700       ┆           ┆           ┆           ┆   ┆           ┆           ┆           ┆          │\n",
       "│ Os06g0140 ┆ Q5VPE3    ┆ O14627    ┆ 0.0005427 ┆ … ┆ 28.6      ┆ 47.4      ┆ 113.0     ┆ 94.5     │\n",
       "│ 700       ┆           ┆           ┆           ┆   ┆           ┆           ┆           ┆          │\n",
       "│ Os01g0859 ┆ A0A0P0VAM ┆ Q5VUY0    ┆ 0.000003  ┆ … ┆ 36.3      ┆ 45.2      ┆ 47.0      ┆ 23.5     │\n",
       "│ 200       ┆ 0         ┆           ┆           ┆   ┆           ┆           ┆           ┆          │\n",
       "│ …         ┆ …         ┆ …         ┆ …         ┆ … ┆ …         ┆ …         ┆ …         ┆ …        │\n",
       "│ Os01g0859 ┆ Q94DD0    ┆ Q7Z5M8    ┆ 1.5080e-7 ┆ … ┆ 11.2      ┆ 46.5      ┆ 103.5     ┆ 84.0     │\n",
       "│ 200       ┆           ┆           ┆           ┆   ┆           ┆           ┆           ┆          │\n",
       "│ Os06g0140 ┆ Q5VPE3    ┆ O15266    ┆ 0.0001766 ┆ … ┆ 21.6      ┆ 33.3      ┆ 121.5     ┆ 108.5    │\n",
       "│ 700       ┆           ┆           ┆           ┆   ┆           ┆           ┆           ┆          │\n",
       "│ Os01g0859 ┆ Q94DD0    ┆ Q8TB40    ┆ 2.7890e-1 ┆ … ┆ 29.6      ┆ 46.5      ┆ 64.0      ┆ 36.0     │\n",
       "│ 200       ┆           ┆           ┆ 1         ┆   ┆           ┆           ┆           ┆          │\n",
       "│ Os01g0859 ┆ A0A0P0VAM ┆ P07098    ┆ 9.7090e-1 ┆ … ┆ 36.9      ┆ 38.0      ┆ 67.5      ┆ 65.0     │\n",
       "│ 200       ┆ 0         ┆           ┆ 0         ┆   ┆           ┆           ┆           ┆          │\n",
       "│ Os06g0140 ┆ Q5VPE3    ┆ A6NJ46    ┆ 0.0009832 ┆ … ┆ 40.4      ┆ 53.1      ┆ 104.5     ┆ 86.0     │\n",
       "│ 700       ┆           ┆           ┆           ┆   ┆           ┆           ┆           ┆          │\n",
       "└───────────┴───────────┴───────────┴───────────┴───┴───────────┴───────────┴───────────┴──────────┘"
      ]
     },
     "metadata": {},
     "output_type": "display_data"
    }
   ],
   "source": [
    "condition3 = condition2.filter(\n",
    "        (pl.col(\"qcov\") >= 0.5) &\n",
    "        (pl.col(\"tcov\") >= 0.5)\n",
    "    ).unique()\n",
    "\n",
    "condition3_rm = condition2.filter(\n",
    "        (pl.col(\"qcov\") < 0.5) |\n",
    "        (pl.col(\"tcov\") < 0.5)\n",
    "    )\n",
    "\n",
    "print(condition3.group_by([\"From\"]).n_unique())\n",
    "display(condition3)"
   ]
  },
  {
   "cell_type": "markdown",
   "id": "acf9cfdf",
   "metadata": {
    "papermill": {
     "duration": 0.003571,
     "end_time": "2024-11-13T01:59:46.031604",
     "exception": false,
     "start_time": "2024-11-13T01:59:46.028033",
     "status": "completed"
    },
    "tags": []
   },
   "source": [
    "&nbsp;\n",
    "\n",
    "&nbsp;\n"
   ]
  },
  {
   "cell_type": "markdown",
   "id": "ec35d1af",
   "metadata": {
    "papermill": {
     "duration": 0.003578,
     "end_time": "2024-11-13T01:59:46.038765",
     "exception": false,
     "start_time": "2024-11-13T01:59:46.035187",
     "status": "completed"
    },
    "tags": []
   },
   "source": [
    "## Filtering Condition4\n",
    "\n",
    "- select the ones that can be converted to HGNC Gene symbol through Ensembl ID by TogoID\n",
    "- Article: [TogoID: an exploratory ID converter to bridge biological dataset](https://doi.org/10.1093/bioinformatics/btac491)"
   ]
  },
  {
   "cell_type": "code",
   "execution_count": 16,
   "id": "26dc74a0",
   "metadata": {
    "execution": {
     "iopub.execute_input": "2024-11-13T01:59:46.047289Z",
     "iopub.status.busy": "2024-11-13T01:59:46.046980Z",
     "iopub.status.idle": "2024-11-13T01:59:46.050322Z",
     "shell.execute_reply": "2024-11-13T01:59:46.050160Z"
    },
    "papermill": {
     "duration": 0.008189,
     "end_time": "2024-11-13T01:59:46.050645",
     "exception": false,
     "start_time": "2024-11-13T01:59:46.042456",
     "status": "completed"
    },
    "tags": []
   },
   "outputs": [
    {
     "data": {
      "text/html": [
       "<div><style>\n",
       ".dataframe > thead > tr,\n",
       ".dataframe > tbody > tr {\n",
       "  text-align: right;\n",
       "  white-space: pre-wrap;\n",
       "}\n",
       "</style>\n",
       "<small>shape: (550, 6)</small><table border=\"1\" class=\"dataframe\"><thead><tr><th>foldseek hit</th><th>ensembl_protein_id</th><th>ensembl_transcript_id</th><th>ensembl_gene_id</th><th>hgnc_id</th><th>hgnc_symbol_id</th></tr><tr><td>str</td><td>str</td><td>str</td><td>str</td><td>i64</td><td>str</td></tr></thead><tbody><tr><td>&quot;A0A1W2PPF3&quot;</td><td>&quot;ENSP00000491301&quot;</td><td>&quot;ENST00000633875&quot;</td><td>&quot;ENSG00000282757&quot;</td><td>33345</td><td>&quot;DUXB&quot;</td></tr><tr><td>&quot;A0A1W2PPM1&quot;</td><td>&quot;ENSP00000491599&quot;</td><td>&quot;ENST00000640559&quot;</td><td>&quot;ENSG00000283755&quot;</td><td>51815</td><td>&quot;CPHXL&quot;</td></tr><tr><td>&quot;A2RU54&quot;</td><td>&quot;ENSP00000341108&quot;</td><td>&quot;ENST00000339992&quot;</td><td>&quot;ENSG00000188816&quot;</td><td>5018</td><td>&quot;HMX2&quot;</td></tr><tr><td>&quot;A6NCS4&quot;</td><td>&quot;ENSP00000320089&quot;</td><td>&quot;ENST00000325017&quot;</td><td>&quot;ENSG00000180053&quot;</td><td>32940</td><td>&quot;NKX2-6&quot;</td></tr><tr><td>&quot;A6NHT5&quot;</td><td>&quot;ENSP00000350549&quot;</td><td>&quot;ENST00000357878&quot;</td><td>&quot;ENSG00000188620&quot;</td><td>5019</td><td>&quot;HMX3&quot;</td></tr><tr><td>&hellip;</td><td>&hellip;</td><td>&hellip;</td><td>&hellip;</td><td>&hellip;</td><td>&hellip;</td></tr><tr><td>&quot;Q9Y570&quot;</td><td>&quot;ENSP00000329867&quot;</td><td>&quot;ENST00000328257&quot;</td><td>&quot;ENSG00000214517&quot;</td><td>30178</td><td>&quot;PPME1&quot;</td></tr><tr><td>&quot;Q9Y570&quot;</td><td>&quot;ENSP00000381461&quot;</td><td>&quot;ENST00000398427&quot;</td><td>&quot;ENSG00000214517&quot;</td><td>30178</td><td>&quot;PPME1&quot;</td></tr><tr><td>&quot;Q9Y5X9&quot;</td><td>&quot;ENSP00000261292&quot;</td><td>&quot;ENST00000261292&quot;</td><td>&quot;ENSG00000101670&quot;</td><td>6623</td><td>&quot;LIPG&quot;</td></tr><tr><td>&quot;Q9Y5X9&quot;</td><td>&quot;ENSP00000462420&quot;</td><td>&quot;ENST00000580036&quot;</td><td>&quot;ENSG00000101670&quot;</td><td>6623</td><td>&quot;LIPG&quot;</td></tr><tr><td>&quot;Q9Y6X8&quot;</td><td>&quot;ENSP00000314709&quot;</td><td>&quot;ENST00000314393&quot;</td><td>&quot;ENSG00000178764&quot;</td><td>18513</td><td>&quot;ZHX2&quot;</td></tr></tbody></table></div>"
      ],
      "text/plain": [
       "shape: (550, 6)\n",
       "┌──────────────┬───────────────────┬──────────────────┬─────────────────┬─────────┬────────────────┐\n",
       "│ foldseek hit ┆ ensembl_protein_i ┆ ensembl_transcri ┆ ensembl_gene_id ┆ hgnc_id ┆ hgnc_symbol_id │\n",
       "│ ---          ┆ d                 ┆ pt_id            ┆ ---             ┆ ---     ┆ ---            │\n",
       "│ str          ┆ ---               ┆ ---              ┆ str             ┆ i64     ┆ str            │\n",
       "│              ┆ str               ┆ str              ┆                 ┆         ┆                │\n",
       "╞══════════════╪═══════════════════╪══════════════════╪═════════════════╪═════════╪════════════════╡\n",
       "│ A0A1W2PPF3   ┆ ENSP00000491301   ┆ ENST00000633875  ┆ ENSG00000282757 ┆ 33345   ┆ DUXB           │\n",
       "│ A0A1W2PPM1   ┆ ENSP00000491599   ┆ ENST00000640559  ┆ ENSG00000283755 ┆ 51815   ┆ CPHXL          │\n",
       "│ A2RU54       ┆ ENSP00000341108   ┆ ENST00000339992  ┆ ENSG00000188816 ┆ 5018    ┆ HMX2           │\n",
       "│ A6NCS4       ┆ ENSP00000320089   ┆ ENST00000325017  ┆ ENSG00000180053 ┆ 32940   ┆ NKX2-6         │\n",
       "│ A6NHT5       ┆ ENSP00000350549   ┆ ENST00000357878  ┆ ENSG00000188620 ┆ 5019    ┆ HMX3           │\n",
       "│ …            ┆ …                 ┆ …                ┆ …               ┆ …       ┆ …              │\n",
       "│ Q9Y570       ┆ ENSP00000329867   ┆ ENST00000328257  ┆ ENSG00000214517 ┆ 30178   ┆ PPME1          │\n",
       "│ Q9Y570       ┆ ENSP00000381461   ┆ ENST00000398427  ┆ ENSG00000214517 ┆ 30178   ┆ PPME1          │\n",
       "│ Q9Y5X9       ┆ ENSP00000261292   ┆ ENST00000261292  ┆ ENSG00000101670 ┆ 6623    ┆ LIPG           │\n",
       "│ Q9Y5X9       ┆ ENSP00000462420   ┆ ENST00000580036  ┆ ENSG00000101670 ┆ 6623    ┆ LIPG           │\n",
       "│ Q9Y6X8       ┆ ENSP00000314709   ┆ ENST00000314393  ┆ ENSG00000178764 ┆ 18513   ┆ ZHX2           │\n",
       "└──────────────┴───────────────────┴──────────────────┴─────────────────┴─────────┴────────────────┘"
      ]
     },
     "metadata": {},
     "output_type": "display_data"
    }
   ],
   "source": [
    "togoid_convert = pl.read_csv(\n",
    "    togoid_convert_tsv_path,\n",
    "    separator='\\t'\n",
    ").rename(\n",
    "    {\n",
    "        \"uniprot_id\" : \"foldseek hit\"\n",
    "    }\n",
    ").filter(\n",
    "    pl.col(\"ensembl_gene_id\").is_not_null()\n",
    ")\n",
    "\n",
    "display(togoid_convert)"
   ]
  },
  {
   "cell_type": "code",
   "execution_count": 17,
   "id": "090eeee5",
   "metadata": {
    "execution": {
     "iopub.execute_input": "2024-11-13T01:59:46.058428Z",
     "iopub.status.busy": "2024-11-13T01:59:46.058355Z",
     "iopub.status.idle": "2024-11-13T01:59:46.066546Z",
     "shell.execute_reply": "2024-11-13T01:59:46.066236Z"
    },
    "papermill": {
     "duration": 0.012603,
     "end_time": "2024-11-13T01:59:46.066994",
     "exception": false,
     "start_time": "2024-11-13T01:59:46.054391",
     "status": "completed"
    },
    "tags": []
   },
   "outputs": [
    {
     "data": {
      "text/html": [
       "<div><style>\n",
       ".dataframe > thead > tr,\n",
       ".dataframe > tbody > tr {\n",
       "  text-align: right;\n",
       "  white-space: pre-wrap;\n",
       "}\n",
       "</style>\n",
       "<small>shape: (167, 47)</small><table border=\"1\" class=\"dataframe\"><thead><tr><th>From</th><th>UniProt Accession</th><th>foldseek hit</th><th>evalue</th><th>prob</th><th>gapopen</th><th>pident</th><th>fident</th><th>nident</th><th>qstart</th><th>qend</th><th>qlen</th><th>tstart</th><th>tend</th><th>tlen</th><th>alnlen</th><th>qcov</th><th>tcov</th><th>lddt</th><th>qtmscore</th><th>ttmscore</th><th>alntmscore</th><th>rmsd</th><th>taxid</th><th>taxname</th><th>taxlineage</th><th>qaln</th><th>taln</th><th>mismatch</th><th>lddtfull</th><th>Length_water</th><th>Length_needle</th><th>Identity_water</th><th>Identity_needle</th><th>Identity_percent_water</th><th>Identity_percent_needle</th><th>Similarity_percent_water</th><th>Similarity_percent_needle</th><th>Gaps_water</th><th>Gaps_needle</th><th>Gaps_percent_water</th><th>Gaps_percent_needle</th><th>Score_water</th><th>Score_needle</th><th>hgnc_symbol_id</th><th>ensembl_gene_id</th><th>ensembl_protein_id</th></tr><tr><td>str</td><td>str</td><td>str</td><td>f64</td><td>f64</td><td>i64</td><td>f64</td><td>f64</td><td>i64</td><td>i64</td><td>i64</td><td>i64</td><td>i64</td><td>i64</td><td>i64</td><td>i64</td><td>f64</td><td>f64</td><td>f64</td><td>f64</td><td>f64</td><td>f64</td><td>f64</td><td>i64</td><td>str</td><td>str</td><td>str</td><td>str</td><td>i64</td><td>str</td><td>i64</td><td>i64</td><td>str</td><td>str</td><td>f64</td><td>f64</td><td>f64</td><td>f64</td><td>str</td><td>str</td><td>f64</td><td>f64</td><td>f64</td><td>f64</td><td>list[str]</td><td>list[str]</td><td>list[str]</td></tr></thead><tbody><tr><td>&quot;Os01g0187600&quot;</td><td>&quot;A0A0P0UZ77&quot;</td><td>&quot;P82664&quot;</td><td>0.01979</td><td>0.15</td><td>12</td><td>9.9</td><td>0.099</td><td>20</td><td>9</td><td>187</td><td>236</td><td>38</td><td>199</td><td>201</td><td>201</td><td>0.758</td><td>0.806</td><td>0.2763</td><td>0.1732</td><td>0.1954</td><td>0.1954</td><td>24.54</td><td>9606</td><td>&quot;Homo sapiens&quot;</td><td>&quot;-_cellular organisms;d_Eukaryo…</td><td>&quot;ETVTCSKAVNSDLFDAVLGGLGQFGVITRA…</td><td>&quot;LSTNMKWVQFSNLHVDVPKDL----TKPVV…</td><td>120</td><td>&quot;0.152,0.167,0.157,0.154,0.171,…</td><td>40</td><td>418</td><td>&quot;13/40&quot;</td><td>&quot;7/418&quot;</td><td>32.5</td><td>1.7</td><td>47.5</td><td>1.9</td><td>&quot;3/40&quot;</td><td>&quot;399/418&quot;</td><td>7.5</td><td>95.5</td><td>28.5</td><td>7.5</td><td>[&quot;MRPS10&quot;]</td><td>[&quot;ENSG00000048544&quot;]</td><td>[&quot;ENSP00000053468&quot;]</td></tr><tr><td>&quot;Os01g0859200&quot;</td><td>&quot;Q94DD0&quot;</td><td>&quot;Q6P2H8&quot;</td><td>0.000014</td><td>1.0</td><td>20</td><td>9.9</td><td>0.099</td><td>34</td><td>52</td><td>336</td><td>347</td><td>6</td><td>276</td><td>277</td><td>343</td><td>0.821</td><td>0.978</td><td>0.37</td><td>0.3833</td><td>0.4619</td><td>0.4619</td><td>10.57</td><td>9606</td><td>&quot;Homo sapiens&quot;</td><td>&quot;-_cellular organisms;d_Eukaryo…</td><td>&quot;LAYRE----------------AGVGREI-A…</td><td>&quot;LDYTIEIPDQPCWSQKNSPSPGGKEAETRQ…</td><td>179</td><td>&quot;0.204,0.223,0.280,0.308,0.392,…</td><td>80</td><td>557</td><td>&quot;20/80&quot;</td><td>&quot;26/557&quot;</td><td>25.0</td><td>4.7</td><td>36.2</td><td>7.2</td><td>&quot;31/80&quot;</td><td>&quot;490/557&quot;</td><td>38.8</td><td>88.0</td><td>36.5</td><td>28.0</td><td>[&quot;TMEM53&quot;]</td><td>[&quot;ENSG00000126106&quot;]</td><td>[&quot;ENSP00000361311&quot;]</td></tr><tr><td>&quot;Os01g0859200&quot;</td><td>&quot;A0A0P0VAM0&quot;</td><td>&quot;Q9H6V9&quot;</td><td>1.7290e-8</td><td>1.0</td><td>22</td><td>13.0</td><td>0.13</td><td>45</td><td>38</td><td>339</td><td>347</td><td>10</td><td>319</td><td>325</td><td>346</td><td>0.87</td><td>0.954</td><td>0.449</td><td>0.5335</td><td>0.5633</td><td>0.5633</td><td>7.398</td><td>9606</td><td>&quot;Homo sapiens&quot;</td><td>&quot;-_cellular organisms;d_Eukaryo…</td><td>&quot;PVSSPRVQLKDGRHLAYREAGVGREI----…</td><td>&quot;PVHEEFILC-GGAETQVLKCGPWTDLFHDQ…</td><td>221</td><td>&quot;0.167,0.165,0.311,0.482,0.632,…</td><td>360</td><td>444</td><td>&quot;66/360&quot;</td><td>&quot;69/444&quot;</td><td>18.3</td><td>15.5</td><td>28.6</td><td>24.5</td><td>&quot;147/360&quot;</td><td>&quot;216/444&quot;</td><td>40.8</td><td>48.6</td><td>50.5</td><td>37.5</td><td>[&quot;LDAH&quot;, &quot;LDAH&quot;, … &quot;LDAH&quot;]</td><td>[&quot;ENSG00000118961&quot;, &quot;ENSG00000118961&quot;, … &quot;ENSG00000118961&quot;]</td><td>[&quot;ENSP00000237822&quot;, &quot;ENSP00000440570&quot;, … &quot;ENSP00000487592&quot;]</td></tr><tr><td>&quot;Os01g0859200&quot;</td><td>&quot;A0A0P0VAM0&quot;</td><td>&quot;Q6P093&quot;</td><td>0.000003</td><td>1.0</td><td>23</td><td>10.9</td><td>0.109</td><td>38</td><td>42</td><td>336</td><td>347</td><td>82</td><td>391</td><td>401</td><td>348</td><td>0.85</td><td>0.773</td><td>0.3419</td><td>0.396</td><td>0.351</td><td>0.351</td><td>14.56</td><td>9606</td><td>&quot;Homo sapiens&quot;</td><td>&quot;-_cellular organisms;d_Eukaryo…</td><td>&quot;PRVQLKDGRHLAYREAGVGREIAKYKIIFS…</td><td>&quot;TDTTFVD-IPVRLYLPKRKSETRRRAVIYF…</td><td>219</td><td>&quot;0.316,0.321,0.399,0.372,0.427,…</td><td>43</td><td>651</td><td>&quot;16/43&quot;</td><td>&quot;34/651&quot;</td><td>37.2</td><td>5.2</td><td>48.8</td><td>7.7</td><td>&quot;12/43&quot;</td><td>&quot;554/651&quot;</td><td>27.9</td><td>85.1</td><td>41.0</td><td>20.5</td><td>[&quot;AADACL2&quot;, &quot;AADACL2&quot;]</td><td>[&quot;ENSG00000197953&quot;, &quot;ENSG00000261846&quot;]</td><td>[&quot;ENSP00000348911&quot;, &quot;ENSP00000461239&quot;]</td></tr><tr><td>&quot;Os01g0859200&quot;</td><td>&quot;Q94DD0&quot;</td><td>&quot;Q86WA6&quot;</td><td>1.3460e-10</td><td>1.0</td><td>22</td><td>17.7</td><td>0.177</td><td>59</td><td>33</td><td>339</td><td>347</td><td>30</td><td>290</td><td>291</td><td>332</td><td>0.885</td><td>0.897</td><td>0.4727</td><td>0.4683</td><td>0.5459</td><td>0.5459</td><td>9.807</td><td>9606</td><td>&quot;Homo sapiens&quot;</td><td>&quot;-_cellular organisms;d_Eukaryo…</td><td>&quot;GPG---GPPVSSPRVQLKDGRHLAYREAGV…</td><td>&quot;GPAAAFGTSVTSAKVAVN-GVQLHYQQTGE…</td><td>177</td><td>&quot;0.087,0.143,0.118,0.094,0.125,…</td><td>305</td><td>375</td><td>&quot;67/305&quot;</td><td>&quot;75/375&quot;</td><td>22.0</td><td>20.0</td><td>37.0</td><td>33.9</td><td>&quot;77/305&quot;</td><td>&quot;112/375&quot;</td><td>25.2</td><td>29.9</td><td>88.0</td><td>76.0</td><td>[&quot;BPHL&quot;, &quot;BPHL&quot;, &quot;BPHL&quot;]</td><td>[&quot;ENSG00000137274&quot;, &quot;ENSG00000137274&quot;, &quot;ENSG00000137274&quot;]</td><td>[&quot;ENSP00000369734&quot;, &quot;ENSP00000369739&quot;, &quot;ENSP00000390472&quot;]</td></tr><tr><td>&hellip;</td><td>&hellip;</td><td>&hellip;</td><td>&hellip;</td><td>&hellip;</td><td>&hellip;</td><td>&hellip;</td><td>&hellip;</td><td>&hellip;</td><td>&hellip;</td><td>&hellip;</td><td>&hellip;</td><td>&hellip;</td><td>&hellip;</td><td>&hellip;</td><td>&hellip;</td><td>&hellip;</td><td>&hellip;</td><td>&hellip;</td><td>&hellip;</td><td>&hellip;</td><td>&hellip;</td><td>&hellip;</td><td>&hellip;</td><td>&hellip;</td><td>&hellip;</td><td>&hellip;</td><td>&hellip;</td><td>&hellip;</td><td>&hellip;</td><td>&hellip;</td><td>&hellip;</td><td>&hellip;</td><td>&hellip;</td><td>&hellip;</td><td>&hellip;</td><td>&hellip;</td><td>&hellip;</td><td>&hellip;</td><td>&hellip;</td><td>&hellip;</td><td>&hellip;</td><td>&hellip;</td><td>&hellip;</td><td>&hellip;</td><td>&hellip;</td><td>&hellip;</td></tr><tr><td>&quot;Os06g0140700&quot;</td><td>&quot;Q5VPE3&quot;</td><td>&quot;O15266&quot;</td><td>0.0001766</td><td>0.984</td><td>10</td><td>17.9</td><td>0.179</td><td>53</td><td>1</td><td>272</td><td>308</td><td>1</td><td>259</td><td>292</td><td>296</td><td>0.883</td><td>0.887</td><td>0.6875</td><td>0.1829</td><td>0.1927</td><td>0.1927</td><td>36.91</td><td>9606</td><td>&quot;Homo sapiens&quot;</td><td>&quot;-_cellular organisms;d_Eukaryo…</td><td>&quot;MMDLGLSLGLGLASQGSLTSSTTTTSSPGA…</td><td>&quot;MEELTAFVSKSF-DQKSKDGNGGGGGGGGK…</td><td>182</td><td>&quot;0.938,0.850,0.875,0.929,0.875,…</td><td>227</td><td>360</td><td>&quot;59/227&quot;</td><td>&quot;71/360&quot;</td><td>26.0</td><td>19.7</td><td>40.1</td><td>31.9</td><td>&quot;49/227&quot;</td><td>&quot;120/360&quot;</td><td>21.6</td><td>33.3</td><td>121.5</td><td>108.5</td><td>[&quot;SHOX&quot;, &quot;SHOX&quot;, … &quot;SHOX&quot;]</td><td>[&quot;ENSG00000185960&quot;, &quot;ENSG00000292354&quot;, … &quot;ENSG00000292354&quot;]</td><td>[&quot;ENSP00000370990&quot;, &quot;ENSP00000518642&quot;, … &quot;ENSP00000518639&quot;]</td></tr><tr><td>&quot;Os06g0140700&quot;</td><td>&quot;Q5VPE3&quot;</td><td>&quot;O15499&quot;</td><td>0.0003901</td><td>1.0</td><td>4</td><td>22.5</td><td>0.225</td><td>42</td><td>6</td><td>179</td><td>308</td><td>34</td><td>193</td><td>205</td><td>186</td><td>0.565</td><td>0.78</td><td>0.7558</td><td>0.1939</td><td>0.2893</td><td>0.2893</td><td>26.93</td><td>9606</td><td>&quot;Homo sapiens&quot;</td><td>&quot;-_cellular organisms;d_Eukaryo…</td><td>&quot;LSLGLGLASQGSLTSSTTTTSSPGAGSSSP…</td><td>&quot;LPARAACPPQPAGRQSPAKPEEPGAPEAAP…</td><td>106</td><td>&quot;0.312,0.438,0.562,0.562,0.625,…</td><td>151</td><td>341</td><td>&quot;42/151&quot;</td><td>&quot;52/341&quot;</td><td>27.8</td><td>15.2</td><td>41.1</td><td>23.8</td><td>&quot;24/151&quot;</td><td>&quot;169/341&quot;</td><td>15.9</td><td>49.6</td><td>111.0</td><td>102.5</td><td>[&quot;GSC2&quot;]</td><td>[&quot;ENSG00000063515&quot;]</td><td>[&quot;ENSP00000086933&quot;]</td></tr><tr><td>&quot;Os06g0140700&quot;</td><td>&quot;Q5VPE3&quot;</td><td>&quot;Q07687&quot;</td><td>0.00002</td><td>0.995</td><td>8</td><td>16.3</td><td>0.163</td><td>54</td><td>1</td><td>308</td><td>308</td><td>49</td><td>309</td><td>328</td><td>330</td><td>1.0</td><td>0.796</td><td>0.6862</td><td>0.1776</td><td>0.1672</td><td>0.1672</td><td>38.4</td><td>9606</td><td>&quot;Homo sapiens&quot;</td><td>&quot;-_cellular organisms;d_Eukaryo…</td><td>&quot;MMDLGLSLGLGLASQGSLTSSTTTTSSPGA…</td><td>&quot;KPQESPTLPVSTATDSSYYTNQQHPAGGGG…</td><td>185</td><td>&quot;0.938,1.000,1.000,1.000,0.844,…</td><td>313</td><td>413</td><td>&quot;82/313&quot;</td><td>&quot;80/413&quot;</td><td>26.2</td><td>19.4</td><td>36.1</td><td>26.2</td><td>&quot;93/313&quot;</td><td>&quot;190/413&quot;</td><td>29.7</td><td>46.0</td><td>135.0</td><td>120.5</td><td>[&quot;DLX2&quot;, &quot;DLX2&quot;]</td><td>[&quot;ENSG00000115844&quot;, &quot;ENSG00000115844&quot;]</td><td>[&quot;ENSP00000234198&quot;, &quot;ENSP00000446904&quot;]</td></tr><tr><td>&quot;Os06g0140700&quot;</td><td>&quot;Q5VPE3&quot;</td><td>&quot;A6NCS4&quot;</td><td>0.000013</td><td>0.999</td><td>6</td><td>16.2</td><td>0.162</td><td>51</td><td>1</td><td>306</td><td>308</td><td>46</td><td>296</td><td>301</td><td>314</td><td>0.994</td><td>0.834</td><td>0.7108</td><td>0.1919</td><td>0.1963</td><td>0.1963</td><td>38.0</td><td>9606</td><td>&quot;Homo sapiens&quot;</td><td>&quot;-_cellular organisms;d_Eukaryo…</td><td>&quot;MMDLGLSLGLGLASQGSLTSSTTTTSSPGA…</td><td>&quot;MDAEPRGSEVHNAGGGGGDRKLDGSEPPGG…</td><td>192</td><td>&quot;0.875,0.800,0.875,0.857,0.875,…</td><td>271</td><td>378</td><td>&quot;64/271&quot;</td><td>&quot;76/378&quot;</td><td>23.6</td><td>20.1</td><td>36.2</td><td>28.3</td><td>&quot;74/271&quot;</td><td>&quot;147/378&quot;</td><td>27.3</td><td>38.9</td><td>133.5</td><td>116.0</td><td>[&quot;NKX2-6&quot;]</td><td>[&quot;ENSG00000180053&quot;]</td><td>[&quot;ENSP00000320089&quot;]</td></tr><tr><td>&quot;Os06g0140700&quot;</td><td>&quot;Q5VPE3&quot;</td><td>&quot;P0C7M4&quot;</td><td>0.001281</td><td>0.912</td><td>8</td><td>15.1</td><td>0.151</td><td>47</td><td>1</td><td>308</td><td>308</td><td>49</td><td>288</td><td>288</td><td>311</td><td>1.0</td><td>0.833</td><td>0.7392</td><td>0.1654</td><td>0.1765</td><td>0.1765</td><td>48.13</td><td>9606</td><td>&quot;Homo sapiens&quot;</td><td>&quot;-_cellular organisms;d_Eukaryo…</td><td>&quot;MMDLGLSLGLGLASQGSLTSSTTTTSSPGA…</td><td>&quot;EPEQGTAAGEKLKSAGAQGGEEKDGGGEEK…</td><td>190</td><td>&quot;1.000,1.000,1.000,1.000,0.969,…</td><td>175</td><td>363</td><td>&quot;36/175&quot;</td><td>&quot;61/363&quot;</td><td>20.6</td><td>16.8</td><td>33.1</td><td>25.3</td><td>&quot;52/175&quot;</td><td>&quot;130/363&quot;</td><td>29.7</td><td>35.8</td><td>74.5</td><td>43.0</td><td>[&quot;RHOXF2B&quot;]</td><td>[&quot;ENSG00000203989&quot;]</td><td>[&quot;ENSP00000360455&quot;]</td></tr></tbody></table></div>"
      ],
      "text/plain": [
       "shape: (167, 47)\n",
       "┌───────────┬───────────┬───────────┬───────────┬───┬───────────┬───────────┬───────────┬──────────┐\n",
       "│ From      ┆ UniProt   ┆ foldseek  ┆ evalue    ┆ … ┆ Score_nee ┆ hgnc_symb ┆ ensembl_g ┆ ensembl_ │\n",
       "│ ---       ┆ Accession ┆ hit       ┆ ---       ┆   ┆ dle       ┆ ol_id     ┆ ene_id    ┆ protein_ │\n",
       "│ str       ┆ ---       ┆ ---       ┆ f64       ┆   ┆ ---       ┆ ---       ┆ ---       ┆ id       │\n",
       "│           ┆ str       ┆ str       ┆           ┆   ┆ f64       ┆ list[str] ┆ list[str] ┆ ---      │\n",
       "│           ┆           ┆           ┆           ┆   ┆           ┆           ┆           ┆ list[str │\n",
       "│           ┆           ┆           ┆           ┆   ┆           ┆           ┆           ┆ ]        │\n",
       "╞═══════════╪═══════════╪═══════════╪═══════════╪═══╪═══════════╪═══════════╪═══════════╪══════════╡\n",
       "│ Os01g0187 ┆ A0A0P0UZ7 ┆ P82664    ┆ 0.01979   ┆ … ┆ 7.5       ┆ [\"MRPS10\" ┆ [\"ENSG000 ┆ [\"ENSP00 │\n",
       "│ 600       ┆ 7         ┆           ┆           ┆   ┆           ┆ ]         ┆ 00048544\" ┆ 00005346 │\n",
       "│           ┆           ┆           ┆           ┆   ┆           ┆           ┆ ]         ┆ 8\"]      │\n",
       "│ Os01g0859 ┆ Q94DD0    ┆ Q6P2H8    ┆ 0.000014  ┆ … ┆ 28.0      ┆ [\"TMEM53\" ┆ [\"ENSG000 ┆ [\"ENSP00 │\n",
       "│ 200       ┆           ┆           ┆           ┆   ┆           ┆ ]         ┆ 00126106\" ┆ 00036131 │\n",
       "│           ┆           ┆           ┆           ┆   ┆           ┆           ┆ ]         ┆ 1\"]      │\n",
       "│ Os01g0859 ┆ A0A0P0VAM ┆ Q9H6V9    ┆ 1.7290e-8 ┆ … ┆ 37.5      ┆ [\"LDAH\",  ┆ [\"ENSG000 ┆ [\"ENSP00 │\n",
       "│ 200       ┆ 0         ┆           ┆           ┆   ┆           ┆ \"LDAH\", … ┆ 00118961\" ┆ 00023782 │\n",
       "│           ┆           ┆           ┆           ┆   ┆           ┆ \"LDAH\"]   ┆ , \"ENSG00 ┆ 2\", \"ENS │\n",
       "│           ┆           ┆           ┆           ┆   ┆           ┆           ┆ 000…      ┆ P00000…  │\n",
       "│ Os01g0859 ┆ A0A0P0VAM ┆ Q6P093    ┆ 0.000003  ┆ … ┆ 20.5      ┆ [\"AADACL2 ┆ [\"ENSG000 ┆ [\"ENSP00 │\n",
       "│ 200       ┆ 0         ┆           ┆           ┆   ┆           ┆ \", \"AADAC ┆ 00197953\" ┆ 00034891 │\n",
       "│           ┆           ┆           ┆           ┆   ┆           ┆ L2\"]      ┆ , \"ENSG00 ┆ 1\", \"ENS │\n",
       "│           ┆           ┆           ┆           ┆   ┆           ┆           ┆ 000…      ┆ P00000…  │\n",
       "│ Os01g0859 ┆ Q94DD0    ┆ Q86WA6    ┆ 1.3460e-1 ┆ … ┆ 76.0      ┆ [\"BPHL\",  ┆ [\"ENSG000 ┆ [\"ENSP00 │\n",
       "│ 200       ┆           ┆           ┆ 0         ┆   ┆           ┆ \"BPHL\",   ┆ 00137274\" ┆ 00036973 │\n",
       "│           ┆           ┆           ┆           ┆   ┆           ┆ \"BPHL\"]   ┆ , \"ENSG00 ┆ 4\", \"ENS │\n",
       "│           ┆           ┆           ┆           ┆   ┆           ┆           ┆ 000…      ┆ P00000…  │\n",
       "│ …         ┆ …         ┆ …         ┆ …         ┆ … ┆ …         ┆ …         ┆ …         ┆ …        │\n",
       "│ Os06g0140 ┆ Q5VPE3    ┆ O15266    ┆ 0.0001766 ┆ … ┆ 108.5     ┆ [\"SHOX\",  ┆ [\"ENSG000 ┆ [\"ENSP00 │\n",
       "│ 700       ┆           ┆           ┆           ┆   ┆           ┆ \"SHOX\", … ┆ 00185960\" ┆ 00037099 │\n",
       "│           ┆           ┆           ┆           ┆   ┆           ┆ \"SHOX\"]   ┆ , \"ENSG00 ┆ 0\", \"ENS │\n",
       "│           ┆           ┆           ┆           ┆   ┆           ┆           ┆ 000…      ┆ P00000…  │\n",
       "│ Os06g0140 ┆ Q5VPE3    ┆ O15499    ┆ 0.0003901 ┆ … ┆ 102.5     ┆ [\"GSC2\"]  ┆ [\"ENSG000 ┆ [\"ENSP00 │\n",
       "│ 700       ┆           ┆           ┆           ┆   ┆           ┆           ┆ 00063515\" ┆ 00008693 │\n",
       "│           ┆           ┆           ┆           ┆   ┆           ┆           ┆ ]         ┆ 3\"]      │\n",
       "│ Os06g0140 ┆ Q5VPE3    ┆ Q07687    ┆ 0.00002   ┆ … ┆ 120.5     ┆ [\"DLX2\",  ┆ [\"ENSG000 ┆ [\"ENSP00 │\n",
       "│ 700       ┆           ┆           ┆           ┆   ┆           ┆ \"DLX2\"]   ┆ 00115844\" ┆ 00023419 │\n",
       "│           ┆           ┆           ┆           ┆   ┆           ┆           ┆ , \"ENSG00 ┆ 8\", \"ENS │\n",
       "│           ┆           ┆           ┆           ┆   ┆           ┆           ┆ 000…      ┆ P00000…  │\n",
       "│ Os06g0140 ┆ Q5VPE3    ┆ A6NCS4    ┆ 0.000013  ┆ … ┆ 116.0     ┆ [\"NKX2-6\" ┆ [\"ENSG000 ┆ [\"ENSP00 │\n",
       "│ 700       ┆           ┆           ┆           ┆   ┆           ┆ ]         ┆ 00180053\" ┆ 00032008 │\n",
       "│           ┆           ┆           ┆           ┆   ┆           ┆           ┆ ]         ┆ 9\"]      │\n",
       "│ Os06g0140 ┆ Q5VPE3    ┆ P0C7M4    ┆ 0.001281  ┆ … ┆ 43.0      ┆ [\"RHOXF2B ┆ [\"ENSG000 ┆ [\"ENSP00 │\n",
       "│ 700       ┆           ┆           ┆           ┆   ┆           ┆ \"]        ┆ 00203989\" ┆ 00036045 │\n",
       "│           ┆           ┆           ┆           ┆   ┆           ┆           ┆ ]         ┆ 5\"]      │\n",
       "└───────────┴───────────┴───────────┴───────────┴───┴───────────┴───────────┴───────────┴──────────┘"
      ]
     },
     "metadata": {},
     "output_type": "display_data"
    }
   ],
   "source": [
    "condition4 = condition3.join(\n",
    "    togoid_convert,\n",
    "    on=\"foldseek hit\",\n",
    "    how=\"left\",\n",
    "    coalesce=True\n",
    ").filter(\n",
    "    pl.col(\"ensembl_gene_id\").is_not_null()\n",
    ").group_by(\n",
    "    pl.exclude(\n",
    "        [\n",
    "            \"hgnc_id\", \"hgnc_symbol_id\", \"ensembl_gene_id\", \"ensembl_protein_id\", \"ensembl_transcript_id\"\n",
    "        ]\n",
    "    )\n",
    ").agg(\n",
    "    pl.col(\"hgnc_id\"),\n",
    "    pl.col(\"hgnc_symbol_id\"),\n",
    "    pl.col(\"ensembl_gene_id\"),\n",
    "    pl.col(\"ensembl_protein_id\"),\n",
    "    pl.col(\"ensembl_transcript_id\"),\n",
    ").drop(\n",
    "    [\n",
    "        \"hgnc_id\",\n",
    "        \"ensembl_transcript_id\"\n",
    "    ]\n",
    ").sort(\n",
    "    by=[\"From\"],\n",
    "    descending=[False]\n",
    ")\n",
    "\n",
    "display(condition4)"
   ]
  },
  {
   "cell_type": "code",
   "execution_count": 18,
   "id": "7a3dfc57",
   "metadata": {
    "execution": {
     "iopub.execute_input": "2024-11-13T01:59:46.075355Z",
     "iopub.status.busy": "2024-11-13T01:59:46.075232Z",
     "iopub.status.idle": "2024-11-13T01:59:46.078632Z",
     "shell.execute_reply": "2024-11-13T01:59:46.078370Z"
    },
    "papermill": {
     "duration": 0.007995,
     "end_time": "2024-11-13T01:59:46.079054",
     "exception": false,
     "start_time": "2024-11-13T01:59:46.071059",
     "status": "completed"
    },
    "tags": []
   },
   "outputs": [
    {
     "data": {
      "text/html": [
       "<div><style>\n",
       ".dataframe > thead > tr,\n",
       ".dataframe > tbody > tr {\n",
       "  text-align: right;\n",
       "  white-space: pre-wrap;\n",
       "}\n",
       "</style>\n",
       "<small>shape: (4, 2)</small><table border=\"1\" class=\"dataframe\"><thead><tr><th>From</th><th>hit count (gene level)</th></tr><tr><td>str</td><td>u32</td></tr></thead><tbody><tr><td>&quot;Os06g0140700&quot;</td><td>95</td></tr><tr><td>&quot;Os01g0859200&quot;</td><td>61</td></tr><tr><td>&quot;Os04g0391500&quot;</td><td>10</td></tr><tr><td>&quot;Os01g0187600&quot;</td><td>1</td></tr></tbody></table></div>"
      ],
      "text/plain": [
       "shape: (4, 2)\n",
       "┌──────────────┬────────────────────────┐\n",
       "│ From         ┆ hit count (gene level) │\n",
       "│ ---          ┆ ---                    │\n",
       "│ str          ┆ u32                    │\n",
       "╞══════════════╪════════════════════════╡\n",
       "│ Os06g0140700 ┆ 95                     │\n",
       "│ Os01g0859200 ┆ 61                     │\n",
       "│ Os04g0391500 ┆ 10                     │\n",
       "│ Os01g0187600 ┆ 1                      │\n",
       "└──────────────┴────────────────────────┘"
      ]
     },
     "metadata": {},
     "output_type": "display_data"
    }
   ],
   "source": [
    "hit_count_condition4 = condition4.group_by(\n",
    "    [\"From\"]\n",
    ").agg(\n",
    "    (pl.col(\"foldseek hit\").count().alias(\"hit count (gene level)\"))\n",
    ").sort(\n",
    "    by=[\"hit count (gene level)\"],\n",
    "    descending=True\n",
    ")\n",
    "\n",
    "display(hit_count_condition4)"
   ]
  },
  {
   "cell_type": "code",
   "execution_count": 19,
   "id": "b9e6e3ad",
   "metadata": {
    "execution": {
     "iopub.execute_input": "2024-11-13T01:59:46.088409Z",
     "iopub.status.busy": "2024-11-13T01:59:46.088168Z",
     "iopub.status.idle": "2024-11-13T01:59:46.094670Z",
     "shell.execute_reply": "2024-11-13T01:59:46.094492Z"
    },
    "papermill": {
     "duration": 0.011233,
     "end_time": "2024-11-13T01:59:46.095010",
     "exception": false,
     "start_time": "2024-11-13T01:59:46.083777",
     "status": "completed"
    },
    "tags": []
   },
   "outputs": [
    {
     "name": "stdout",
     "output_type": "stream",
     "text": [
      "shape: (167, 11)\n",
      "┌────────────┬────────────┬────────────┬──────┬───┬────────────┬───────────┬───────────┬───────────┐\n",
      "│ From       ┆ UniProt    ┆ foldseek   ┆ qcov ┆ … ┆ Identity_p ┆ Identity_ ┆ Similarit ┆ Similarit │\n",
      "│ ---        ┆ Accession  ┆ hit        ┆ ---  ┆   ┆ ercent_nee ┆ percent_w ┆ y_percent ┆ y_percent │\n",
      "│ str        ┆ ---        ┆ ---        ┆ u32  ┆   ┆ dle        ┆ ater      ┆ _needle   ┆ _water    │\n",
      "│            ┆ str        ┆ str        ┆      ┆   ┆ ---        ┆ ---       ┆ ---       ┆ ---       │\n",
      "│            ┆            ┆            ┆      ┆   ┆ u32        ┆ u32       ┆ u32       ┆ u32       │\n",
      "╞════════════╪════════════╪════════════╪══════╪═══╪════════════╪═══════════╪═══════════╪═══════════╡\n",
      "│ Os01g08592 ┆ A0A0P0VAM0 ┆ Q8WTS1     ┆ 1    ┆ … ┆ 1          ┆ 1         ┆ 1         ┆ 1         │\n",
      "│ 00         ┆            ┆            ┆      ┆   ┆            ┆           ┆           ┆           │\n",
      "│ Os01g08592 ┆ A0A0P0VAM0 ┆ Q9UGV2     ┆ 1    ┆ … ┆ 1          ┆ 1         ┆ 1         ┆ 1         │\n",
      "│ 00         ┆            ┆            ┆      ┆   ┆            ┆           ┆           ┆           │\n",
      "│ Os01g08592 ┆ A0A0P0VAM0 ┆ Q5VYY2     ┆ 1    ┆ … ┆ 1          ┆ 1         ┆ 1         ┆ 1         │\n",
      "│ 00         ┆            ┆            ┆      ┆   ┆            ┆           ┆           ┆           │\n",
      "│ Os06g01407 ┆ Q5VPE3     ┆ Q3C1V8     ┆ 1    ┆ … ┆ 1          ┆ 1         ┆ 1         ┆ 1         │\n",
      "│ 00         ┆            ┆            ┆      ┆   ┆            ┆           ┆           ┆           │\n",
      "│ Os01g08592 ┆ Q94DD0     ┆ Q8N2K0     ┆ 1    ┆ … ┆ 1          ┆ 1         ┆ 1         ┆ 1         │\n",
      "│ 00         ┆            ┆            ┆      ┆   ┆            ┆           ┆           ┆           │\n",
      "│ …          ┆ …          ┆ …          ┆ …    ┆ … ┆ …          ┆ …         ┆ …         ┆ …         │\n",
      "│ Os06g01407 ┆ Q5VPE3     ┆ Q9UIW0     ┆ 1    ┆ … ┆ 1          ┆ 1         ┆ 1         ┆ 1         │\n",
      "│ 00         ┆            ┆            ┆      ┆   ┆            ┆           ┆           ┆           │\n",
      "│ Os06g01407 ┆ Q5VPE3     ┆ O43316     ┆ 1    ┆ … ┆ 1          ┆ 1         ┆ 1         ┆ 1         │\n",
      "│ 00         ┆            ┆            ┆      ┆   ┆            ┆           ┆           ┆           │\n",
      "│ Os06g01407 ┆ Q5VPE3     ┆ O75364     ┆ 1    ┆ … ┆ 1          ┆ 1         ┆ 1         ┆ 1         │\n",
      "│ 00         ┆            ┆            ┆      ┆   ┆            ┆           ┆           ┆           │\n",
      "│ Os06g01407 ┆ Q5VPE3     ┆ P50458     ┆ 1    ┆ … ┆ 1          ┆ 1         ┆ 1         ┆ 1         │\n",
      "│ 00         ┆            ┆            ┆      ┆   ┆            ┆           ┆           ┆           │\n",
      "│ Os01g08592 ┆ Q94DD0     ┆ Q96I13     ┆ 1    ┆ … ┆ 1          ┆ 1         ┆ 1         ┆ 1         │\n",
      "│ 00         ┆            ┆            ┆      ┆   ┆            ┆           ┆           ┆           │\n",
      "└────────────┴────────────┴────────────┴──────┴───┴────────────┴───────────┴───────────┴───────────┘\n"
     ]
    },
    {
     "data": {
      "text/html": [
       "<div><style>\n",
       ".dataframe > thead > tr,\n",
       ".dataframe > tbody > tr {\n",
       "  text-align: right;\n",
       "  white-space: pre-wrap;\n",
       "}\n",
       "</style>\n",
       "<small>shape: (167, 11)</small><table border=\"1\" class=\"dataframe\"><thead><tr><th>From</th><th>UniProt Accession</th><th>foldseek hit</th><th>qcov</th><th>tcov</th><th>rmsd</th><th>lddt</th><th>Identity_percent_needle</th><th>Identity_percent_water</th><th>Similarity_percent_needle</th><th>Similarity_percent_water</th></tr><tr><td>str</td><td>str</td><td>str</td><td>f64</td><td>f64</td><td>f64</td><td>f64</td><td>f64</td><td>f64</td><td>f64</td><td>f64</td></tr></thead><tbody><tr><td>&quot;Os01g0187600&quot;</td><td>&quot;A0A0P0UZ77&quot;</td><td>&quot;P82664&quot;</td><td>0.758</td><td>0.806</td><td>24.54</td><td>0.2763</td><td>1.7</td><td>32.5</td><td>1.9</td><td>47.5</td></tr><tr><td>&quot;Os01g0859200&quot;</td><td>&quot;A0A0P0VAM0&quot;</td><td>&quot;Q9H4I8&quot;</td><td>0.89</td><td>0.971</td><td>9.972</td><td>0.4205</td><td>5.3</td><td>23.0</td><td>9.3</td><td>46.0</td></tr><tr><td>&quot;Os01g0859200&quot;</td><td>&quot;A0A0P0VAM0&quot;</td><td>&quot;Q0P651&quot;</td><td>0.844</td><td>0.877</td><td>17.49</td><td>0.3092</td><td>17.8</td><td>20.2</td><td>31.0</td><td>32.1</td></tr><tr><td>&quot;Os01g0859200&quot;</td><td>&quot;A0A0P0VAM0&quot;</td><td>&quot;Q5VWZ2&quot;</td><td>0.876</td><td>1.0</td><td>11.55</td><td>0.3745</td><td>12.5</td><td>18.8</td><td>21.3</td><td>28.4</td></tr><tr><td>&quot;Os01g0859200&quot;</td><td>&quot;Q94DD0&quot;</td><td>&quot;Q9Y570&quot;</td><td>0.885</td><td>0.845</td><td>11.46</td><td>0.3869</td><td>15.3</td><td>17.3</td><td>30.4</td><td>35.0</td></tr><tr><td>&hellip;</td><td>&hellip;</td><td>&hellip;</td><td>&hellip;</td><td>&hellip;</td><td>&hellip;</td><td>&hellip;</td><td>&hellip;</td><td>&hellip;</td><td>&hellip;</td><td>&hellip;</td></tr><tr><td>&quot;Os06g0140700&quot;</td><td>&quot;Q5VPE3&quot;</td><td>&quot;Q92988&quot;</td><td>0.948</td><td>0.938</td><td>35.04</td><td>0.7009</td><td>16.0</td><td>25.0</td><td>25.9</td><td>40.1</td></tr><tr><td>&quot;Os06g0140700&quot;</td><td>&quot;Q5VPE3&quot;</td><td>&quot;P43699&quot;</td><td>1.0</td><td>0.782</td><td>47.52</td><td>0.6633</td><td>20.4</td><td>24.3</td><td>27.6</td><td>32.7</td></tr><tr><td>&quot;Os06g0140700&quot;</td><td>&quot;Q5VPE3&quot;</td><td>&quot;Q15699&quot;</td><td>0.958</td><td>0.791</td><td>41.76</td><td>0.7129</td><td>19.7</td><td>22.4</td><td>35.3</td><td>40.9</td></tr><tr><td>&quot;Os06g0140700&quot;</td><td>&quot;Q5VPE3&quot;</td><td>&quot;O75364&quot;</td><td>0.795</td><td>0.768</td><td>43.84</td><td>0.6968</td><td>19.6</td><td>23.7</td><td>26.9</td><td>34.1</td></tr><tr><td>&quot;Os06g0140700&quot;</td><td>&quot;Q5VPE3&quot;</td><td>&quot;Q99697&quot;</td><td>0.877</td><td>0.792</td><td>37.8</td><td>0.6691</td><td>16.8</td><td>21.9</td><td>26.4</td><td>39.4</td></tr></tbody></table></div>"
      ],
      "text/plain": [
       "shape: (167, 11)\n",
       "┌────────────┬────────────┬────────────┬───────┬───┬───────────┬───────────┬───────────┬───────────┐\n",
       "│ From       ┆ UniProt    ┆ foldseek   ┆ qcov  ┆ … ┆ Identity_ ┆ Identity_ ┆ Similarit ┆ Similarit │\n",
       "│ ---        ┆ Accession  ┆ hit        ┆ ---   ┆   ┆ percent_n ┆ percent_w ┆ y_percent ┆ y_percent │\n",
       "│ str        ┆ ---        ┆ ---        ┆ f64   ┆   ┆ eedle     ┆ ater      ┆ _needle   ┆ _water    │\n",
       "│            ┆ str        ┆ str        ┆       ┆   ┆ ---       ┆ ---       ┆ ---       ┆ ---       │\n",
       "│            ┆            ┆            ┆       ┆   ┆ f64       ┆ f64       ┆ f64       ┆ f64       │\n",
       "╞════════════╪════════════╪════════════╪═══════╪═══╪═══════════╪═══════════╪═══════════╪═══════════╡\n",
       "│ Os01g01876 ┆ A0A0P0UZ77 ┆ P82664     ┆ 0.758 ┆ … ┆ 1.7       ┆ 32.5      ┆ 1.9       ┆ 47.5      │\n",
       "│ 00         ┆            ┆            ┆       ┆   ┆           ┆           ┆           ┆           │\n",
       "│ Os01g08592 ┆ A0A0P0VAM0 ┆ Q9H4I8     ┆ 0.89  ┆ … ┆ 5.3       ┆ 23.0      ┆ 9.3       ┆ 46.0      │\n",
       "│ 00         ┆            ┆            ┆       ┆   ┆           ┆           ┆           ┆           │\n",
       "│ Os01g08592 ┆ A0A0P0VAM0 ┆ Q0P651     ┆ 0.844 ┆ … ┆ 17.8      ┆ 20.2      ┆ 31.0      ┆ 32.1      │\n",
       "│ 00         ┆            ┆            ┆       ┆   ┆           ┆           ┆           ┆           │\n",
       "│ Os01g08592 ┆ A0A0P0VAM0 ┆ Q5VWZ2     ┆ 0.876 ┆ … ┆ 12.5      ┆ 18.8      ┆ 21.3      ┆ 28.4      │\n",
       "│ 00         ┆            ┆            ┆       ┆   ┆           ┆           ┆           ┆           │\n",
       "│ Os01g08592 ┆ Q94DD0     ┆ Q9Y570     ┆ 0.885 ┆ … ┆ 15.3      ┆ 17.3      ┆ 30.4      ┆ 35.0      │\n",
       "│ 00         ┆            ┆            ┆       ┆   ┆           ┆           ┆           ┆           │\n",
       "│ …          ┆ …          ┆ …          ┆ …     ┆ … ┆ …         ┆ …         ┆ …         ┆ …         │\n",
       "│ Os06g01407 ┆ Q5VPE3     ┆ Q92988     ┆ 0.948 ┆ … ┆ 16.0      ┆ 25.0      ┆ 25.9      ┆ 40.1      │\n",
       "│ 00         ┆            ┆            ┆       ┆   ┆           ┆           ┆           ┆           │\n",
       "│ Os06g01407 ┆ Q5VPE3     ┆ P43699     ┆ 1.0   ┆ … ┆ 20.4      ┆ 24.3      ┆ 27.6      ┆ 32.7      │\n",
       "│ 00         ┆            ┆            ┆       ┆   ┆           ┆           ┆           ┆           │\n",
       "│ Os06g01407 ┆ Q5VPE3     ┆ Q15699     ┆ 0.958 ┆ … ┆ 19.7      ┆ 22.4      ┆ 35.3      ┆ 40.9      │\n",
       "│ 00         ┆            ┆            ┆       ┆   ┆           ┆           ┆           ┆           │\n",
       "│ Os06g01407 ┆ Q5VPE3     ┆ O75364     ┆ 0.795 ┆ … ┆ 19.6      ┆ 23.7      ┆ 26.9      ┆ 34.1      │\n",
       "│ 00         ┆            ┆            ┆       ┆   ┆           ┆           ┆           ┆           │\n",
       "│ Os06g01407 ┆ Q5VPE3     ┆ Q99697     ┆ 0.877 ┆ … ┆ 16.8      ┆ 21.9      ┆ 26.4      ┆ 39.4      │\n",
       "│ 00         ┆            ┆            ┆       ┆   ┆           ┆           ┆           ┆           │\n",
       "└────────────┴────────────┴────────────┴───────┴───┴───────────┴───────────┴───────────┴───────────┘"
      ]
     },
     "metadata": {},
     "output_type": "display_data"
    }
   ],
   "source": [
    "foldseek_filter_viz = condition4.select(\n",
    "    \"From\",\n",
    "    \"UniProt Accession\",\n",
    "    \"foldseek hit\",\n",
    "    \"qcov\",\n",
    "    \"tcov\",\n",
    "    \"rmsd\",\n",
    "    \"lddt\",\n",
    "    \"Identity_percent_needle\",\n",
    "    \"Identity_percent_water\",\n",
    "    \"Similarity_percent_needle\",\n",
    "    \"Similarity_percent_water\"\n",
    ").unique(\n",
    "    subset=[\"From\", \"UniProt Accession\", \"foldseek hit\"]\n",
    ").sort(\n",
    "    by=[\"From\"],\n",
    "    descending=[False]\n",
    ")\n",
    "\n",
    "print(foldseek_filter_viz.group_by([\"From\", \"UniProt Accession\", \"foldseek hit\"]).n_unique())\n",
    "display(foldseek_filter_viz)"
   ]
  },
  {
   "cell_type": "code",
   "execution_count": 20,
   "id": "a3817b44",
   "metadata": {
    "execution": {
     "iopub.execute_input": "2024-11-13T01:59:46.103531Z",
     "iopub.status.busy": "2024-11-13T01:59:46.103452Z",
     "iopub.status.idle": "2024-11-13T01:59:46.226495Z",
     "shell.execute_reply": "2024-11-13T01:59:46.226319Z"
    },
    "papermill": {
     "duration": 0.127548,
     "end_time": "2024-11-13T01:59:46.226784",
     "exception": false,
     "start_time": "2024-11-13T01:59:46.099236",
     "status": "completed"
    },
    "tags": []
   },
   "outputs": [
    {
     "data": {
      "text/plain": [
       "<Figure size 4000x4000 with 0 Axes>"
      ]
     },
     "metadata": {},
     "output_type": "display_data"
    },
    {
     "data": {
      "image/png": "[encoded data removed]",
      "text/plain": [
       "<Figure size 1100x1100 with 3 Axes>"
      ]
     },
     "metadata": {},
     "output_type": "display_data"
    },
    {
     "data": {
      "text/plain": [
       "<Figure size 5000x5000 with 0 Axes>"
      ]
     },
     "metadata": {},
     "output_type": "display_data"
    }
   ],
   "source": [
    "plt.figure(figsize=(8, 8), dpi=500)\n",
    "\n",
    "sns.jointplot(\n",
    "    data=foldseek_filter_viz,\n",
    "    x=\"Identity_percent_needle\",\n",
    "    y=\"lddt\",\n",
    "    color=\"darkcyan\",\n",
    "    height=11,\n",
    "    ratio=4,\n",
    "    marginal_ticks=True\n",
    ")\n",
    "\n",
    "# highlight the region of interest\n",
    "plt.fill_betweenx(\n",
    "    y=[0.5, 1],\n",
    "    x1=-0.5,\n",
    "    x2=25,\n",
    "    color=\"red\",\n",
    "    alpha=0.1\n",
    ")\n",
    "\n",
    "plt.xlim(-0.5,100)\n",
    "plt.ylim(0,1)\n",
    "plt.xlabel(\"global alignment identitical match(%)\")\n",
    "plt.ylabel(\"LDDT\")\n",
    "plt.axvline(x=25, color=\"black\", linestyle=\":\")\n",
    "plt.axvline(x=50, color=\"black\", linestyle=\":\")\n",
    "plt.axvline(x=75, color=\"black\", linestyle=\":\")\n",
    "plt.axhline(y=0.5, color=\"black\", linestyle=\":\")\n",
    "plt.figure(figsize=(10, 10), dpi=500)\n",
    "plt.show()"
   ]
  },
  {
   "cell_type": "markdown",
   "id": "104cc5f1",
   "metadata": {
    "papermill": {
     "duration": 0.004216,
     "end_time": "2024-11-13T01:59:46.246427",
     "exception": false,
     "start_time": "2024-11-13T01:59:46.242211",
     "status": "completed"
    },
    "tags": []
   },
   "source": [
    "&nbsp;\n",
    "\n",
    "&nbsp;\n"
   ]
  }
 ],
 "metadata": {
  "kernelspec": {
   "display_name": "Python 3 (ipykernel)",
   "language": "python",
   "name": "python3"
  },
  "language_info": {
   "codemirror_mode": {
    "name": "ipython",
    "version": 3
   },
   "file_extension": ".py",
   "mimetype": "text/x-python",
   "name": "python",
   "nbconvert_exporter": "python",
   "pygments_lexer": "ipython3",
   "version": "3.11.4"
  },
  "papermill": {
   "default_parameters": {},
   "duration": 2.095395,
   "end_time": "2024-11-13T01:59:46.474484",
   "environment_variables": {},
   "exception": null,
   "input_path": "/tmp/46_zfhbj/stg48c8e15d-e1e0-4f2b-bb1a-3b1f8498a8d9/foldseek_result_parse.ipynb",
   "output_path": "plant2human_report.ipynb",
   "parameters": {
    "foldseek_result_tsv": "/tmp/46_zfhbj/stg87199f79-5e92-41f0-9a8d-f7b2a5bd15f1/foldseek_os_random_9606.tsv",
    "needle_result_dir_path": "/tmp/46_zfhbj/stg7ab30122-42b7-4efd-91e8-f8677af0e377/result_needle",
    "query_gene_list_tsv_path": "/tmp/46_zfhbj/stgd5e7b136-26f5-469b-bb10-c2e53e5f5a68/oryza_sativa_random_gene_list.tsv",
    "query_uniprot_idmapping_tsv": "/tmp/46_zfhbj/stg6fe28877-25c6-4bdc-8328-62943caa54dc/rice_random_gene_idmapping_all.tsv",
    "togoid_convert_tsv_path": "/tmp/46_zfhbj/stg8c7e7b9e-46ef-45c8-bed8-d3f042a86246/foldseek_hit_species_togoid_convert.tsv",
    "water_result_dir_path": "/tmp/46_zfhbj/stg02306ec4-8fff-499b-bbf0-404d3b2c4ff5/result_water"
   },
   "start_time": "2024-11-13T01:59:44.379089",
   "version": "2.6.0"
  }
 },
 "nbformat": 4,
 "nbformat_minor": 5
}