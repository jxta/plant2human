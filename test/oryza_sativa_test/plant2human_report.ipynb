{
 "cells": [
  {
   "cell_type": "code",
   "execution_count": 1,
   "id": "d05394a2",
   "metadata": {
    "execution": {
     "iopub.execute_input": "2024-11-15T03:34:16.065370Z",
     "iopub.status.busy": "2024-11-15T03:34:16.064270Z",
     "iopub.status.idle": "2024-11-15T03:34:16.675437Z",
     "shell.execute_reply": "2024-11-15T03:34:16.675027Z"
    },
    "papermill": {
     "duration": 0.630355,
     "end_time": "2024-11-15T03:34:16.676044",
     "exception": false,
     "start_time": "2024-11-15T03:34:16.045689",
     "status": "completed"
    },
    "tags": []
   },
   "outputs": [],
   "source": [
    "import re\n",
    "import datetime\n",
    "import pathlib\n",
    "import polars as pl # type: ignore\n",
    "import matplotlib.pyplot as plt # type: ignore\n",
    "import seaborn as sns # type: ignore"
   ]
  },
  {
   "cell_type": "code",
   "execution_count": 2,
   "id": "c49272b7",
   "metadata": {
    "execution": {
     "iopub.execute_input": "2024-11-15T03:34:16.680376Z",
     "iopub.status.busy": "2024-11-15T03:34:16.680275Z",
     "iopub.status.idle": "2024-11-15T03:34:16.682296Z",
     "shell.execute_reply": "2024-11-15T03:34:16.682067Z"
    },
    "papermill": {
     "duration": 0.004509,
     "end_time": "2024-11-15T03:34:16.682626",
     "exception": false,
     "start_time": "2024-11-15T03:34:16.678117",
     "status": "completed"
    },
    "tags": []
   },
   "outputs": [
    {
     "name": "stdout",
     "output_type": "stream",
     "text": [
      "Execute Date: 241115\n"
     ]
    }
   ],
   "source": [
    "VERSION = datetime.datetime.now().strftime(\"%y%m%d\")\n",
    "print(f\"Execute Date: {VERSION}\")"
   ]
  },
  {
   "cell_type": "markdown",
   "id": "e514e9aa",
   "metadata": {
    "papermill": {
     "duration": 0.001852,
     "end_time": "2024-11-15T03:34:16.686287",
     "exception": false,
     "start_time": "2024-11-15T03:34:16.684435",
     "status": "completed"
    },
    "tags": []
   },
   "source": [
    "## Parameters for papermill"
   ]
  },
  {
   "cell_type": "code",
   "execution_count": 3,
   "id": "eb3d8ea0",
   "metadata": {
    "execution": {
     "iopub.execute_input": "2024-11-15T03:34:16.690192Z",
     "iopub.status.busy": "2024-11-15T03:34:16.690123Z",
     "iopub.status.idle": "2024-11-15T03:34:16.691977Z",
     "shell.execute_reply": "2024-11-15T03:34:16.691744Z"
    },
    "papermill": {
     "duration": 0.004233,
     "end_time": "2024-11-15T03:34:16.692336",
     "exception": false,
     "start_time": "2024-11-15T03:34:16.688103",
     "status": "completed"
    },
    "tags": [
     "parameters"
    ]
   },
   "outputs": [],
   "source": [
    "foldseek_result_tsv = pathlib.Path(\"../test/oryza_sativa_test/foldseek_os_random_9606.tsv\")\n",
    "query_uniprot_idmapping_tsv = pathlib.Path(\"../test/oryza_sativa_test/rice_random_gene_idmapping_all.tsv\")\n",
    "water_result_dir_path = pathlib.Path(\"../test/oryza_sativa_test/result_water\")\n",
    "needle_result_dir_path = pathlib.Path(\"../test/oryza_sativa_test/result_needle\")\n",
    "query_gene_list_tsv_path = pathlib.Path(\"../test/oryza_sativa_test/rice_random_gene_idmapping_all.tsv\")\n",
    "togoid_convert_tsv_path = pathlib.Path(\"../test/oryza_sativa_test/foldseek_hit_species_togoid_convert.tsv\")"
   ]
  },
  {
   "cell_type": "code",
   "execution_count": 4,
   "id": "404c75cb",
   "metadata": {
    "execution": {
     "iopub.execute_input": "2024-11-15T03:34:16.696783Z",
     "iopub.status.busy": "2024-11-15T03:34:16.696707Z",
     "iopub.status.idle": "2024-11-15T03:34:16.698590Z",
     "shell.execute_reply": "2024-11-15T03:34:16.698319Z"
    },
    "papermill": {
     "duration": 0.004733,
     "end_time": "2024-11-15T03:34:16.698994",
     "exception": false,
     "start_time": "2024-11-15T03:34:16.694261",
     "status": "completed"
    },
    "tags": [
     "injected-parameters"
    ]
   },
   "outputs": [],
   "source": [
    "# Parameters\n",
    "foldseek_result_tsv = \"/tmp/6nhe8z4w/stgb1107d51-fbae-4ccb-8dc1-c79a900b3d40/foldseek_os_random_9606.tsv\"\n",
    "query_uniprot_idmapping_tsv = \"/tmp/6nhe8z4w/stgc5f92ea2-56e7-4388-9495-32e9172931d9/rice_random_gene_idmapping_all.tsv\"\n",
    "water_result_dir_path = \"/tmp/6nhe8z4w/stg9f86c899-c598-49fb-914b-b9f2f77c4329/result_water\"\n",
    "needle_result_dir_path = \"/tmp/6nhe8z4w/stgcb0a5586-c2cd-49ca-ad28-91bcd43b9a08/result_needle\"\n",
    "query_gene_list_tsv_path = \"/tmp/6nhe8z4w/stgbd828ff4-aa47-4910-8564-5c7e2b795e5e/oryza_sativa_random_gene_list.tsv\"\n",
    "togoid_convert_tsv_path = \"/tmp/6nhe8z4w/stg8f383935-7a8c-458e-8096-6d16bd58722c/foldseek_hit_species_togoid_convert.tsv\"\n"
   ]
  },
  {
   "cell_type": "code",
   "execution_count": 5,
   "id": "913463e6",
   "metadata": {
    "execution": {
     "iopub.execute_input": "2024-11-15T03:34:16.702999Z",
     "iopub.status.busy": "2024-11-15T03:34:16.702928Z",
     "iopub.status.idle": "2024-11-15T03:34:16.721585Z",
     "shell.execute_reply": "2024-11-15T03:34:16.721388Z"
    },
    "papermill": {
     "duration": 0.021195,
     "end_time": "2024-11-15T03:34:16.722047",
     "exception": false,
     "start_time": "2024-11-15T03:34:16.700852",
     "status": "completed"
    },
    "tags": []
   },
   "outputs": [
    {
     "data": {
      "text/html": [
       "<div><style>\n",
       ".dataframe > thead > tr,\n",
       ".dataframe > tbody > tr {\n",
       "  text-align: right;\n",
       "  white-space: pre-wrap;\n",
       "}\n",
       "</style>\n",
       "<small>shape: (311, 30)</small><table border=\"1\" class=\"dataframe\"><thead><tr><th>From</th><th>UniProt Accession</th><th>foldseek hit</th><th>evalue</th><th>prob</th><th>gapopen</th><th>pident</th><th>fident</th><th>nident</th><th>qstart</th><th>qend</th><th>qlen</th><th>tstart</th><th>tend</th><th>tlen</th><th>alnlen</th><th>qcov</th><th>tcov</th><th>lddt</th><th>qtmscore</th><th>ttmscore</th><th>alntmscore</th><th>rmsd</th><th>taxid</th><th>taxname</th><th>taxlineage</th><th>qaln</th><th>taln</th><th>mismatch</th><th>lddtfull</th></tr><tr><td>str</td><td>str</td><td>str</td><td>f64</td><td>f64</td><td>i64</td><td>f64</td><td>f64</td><td>i64</td><td>i64</td><td>i64</td><td>i64</td><td>i64</td><td>i64</td><td>i64</td><td>i64</td><td>f64</td><td>f64</td><td>f64</td><td>f64</td><td>f64</td><td>f64</td><td>f64</td><td>i64</td><td>str</td><td>str</td><td>str</td><td>str</td><td>i64</td><td>str</td></tr></thead><tbody><tr><td>&quot;Os01g0859200&quot;</td><td>&quot;Q94DD0&quot;</td><td>&quot;Q8IUS5&quot;</td><td>9.3810e-12</td><td>1.0</td><td>26</td><td>19.1</td><td>0.191</td><td>73</td><td>5</td><td>347</td><td>347</td><td>32</td><td>362</td><td>362</td><td>382</td><td>0.988</td><td>0.914</td><td>0.4828</td><td>0.554</td><td>0.5339</td><td>0.5339</td><td>9.701</td><td>9606</td><td>&quot;Homo sapiens&quot;</td><td>&quot;-_cellular organisms;d_Eukaryo…</td><td>&quot;SKLVLITAVALLGWAYKVA-RPPP---PPI…</td><td>&quot;ASIHLLKLLWSLGKGPAQTFRRPAREHPP-…</td><td>219</td><td>&quot;0.692,0.714,0.733,0.750,0.765,…</td></tr><tr><td>&quot;Os01g0859200&quot;</td><td>&quot;Q94DD0&quot;</td><td>&quot;Q99685&quot;</td><td>2.3260e-11</td><td>1.0</td><td>21</td><td>17.7</td><td>0.177</td><td>56</td><td>41</td><td>337</td><td>347</td><td>19</td><td>285</td><td>303</td><td>315</td><td>0.856</td><td>0.881</td><td>0.4541</td><td>0.5321</td><td>0.5973</td><td>0.5973</td><td>5.605</td><td>9606</td><td>&quot;Homo sapiens&quot;</td><td>&quot;-_cellular organisms;d_Eukaryo…</td><td>&quot;SPRVQLKDGRHLAYREA-GVGREIAKYKII…</td><td>&quot;LPHLVNADGQYLFCRYWKPTG--TPKALIF…</td><td>193</td><td>&quot;0.378,0.590,0.640,0.688,0.628,…</td></tr><tr><td>&quot;Os01g0859200&quot;</td><td>&quot;Q94DD0&quot;</td><td>&quot;Q8TB40&quot;</td><td>2.7890e-11</td><td>1.0</td><td>18</td><td>14.6</td><td>0.146</td><td>48</td><td>40</td><td>337</td><td>347</td><td>44</td><td>335</td><td>342</td><td>328</td><td>0.859</td><td>0.854</td><td>0.4654</td><td>0.5333</td><td>0.5402</td><td>0.5402</td><td>7.691</td><td>9606</td><td>&quot;Homo sapiens&quot;</td><td>&quot;-_cellular organisms;d_Eukaryo…</td><td>&quot;SSPRVQLKDGRHLAYREAGVGREIAK-YKI…</td><td>&quot;LARYVSLPNQNKIWTVT--VSPEQNDRTPL…</td><td>214</td><td>&quot;0.167,0.320,0.679,0.700,0.797,…</td></tr><tr><td>&quot;Os01g0859200&quot;</td><td>&quot;Q94DD0&quot;</td><td>&quot;Q9H6B9&quot;</td><td>6.9150e-11</td><td>1.0</td><td>22</td><td>17.3</td><td>0.173</td><td>57</td><td>39</td><td>341</td><td>347</td><td>73</td><td>357</td><td>360</td><td>329</td><td>0.873</td><td>0.792</td><td>0.4855</td><td>0.541</td><td>0.5233</td><td>0.5233</td><td>7.893</td><td>9606</td><td>&quot;Homo sapiens&quot;</td><td>&quot;-_cellular organisms;d_Eukaryo…</td><td>&quot;VSSPRVQLK-DGRHLAYREAGVGREIAKYK…</td><td>&quot;GEHGFLNLKSSGLRLHYVSAG--RGNG-PL…</td><td>202</td><td>&quot;0.142,0.236,0.395,0.641,0.725,…</td></tr><tr><td>&quot;Os01g0859200&quot;</td><td>&quot;Q94DD0&quot;</td><td>&quot;Q86WA6&quot;</td><td>1.3460e-10</td><td>1.0</td><td>22</td><td>17.7</td><td>0.177</td><td>59</td><td>33</td><td>339</td><td>347</td><td>30</td><td>290</td><td>291</td><td>332</td><td>0.885</td><td>0.897</td><td>0.4727</td><td>0.4683</td><td>0.5459</td><td>0.5459</td><td>9.807</td><td>9606</td><td>&quot;Homo sapiens&quot;</td><td>&quot;-_cellular organisms;d_Eukaryo…</td><td>&quot;GPG---GPPVSSPRVQLKDGRHLAYREAGV…</td><td>&quot;GPAAAFGTSVTSAKVAVN-GVQLHYQQTGE…</td><td>177</td><td>&quot;0.087,0.143,0.118,0.094,0.125,…</td></tr><tr><td>&hellip;</td><td>&hellip;</td><td>&hellip;</td><td>&hellip;</td><td>&hellip;</td><td>&hellip;</td><td>&hellip;</td><td>&hellip;</td><td>&hellip;</td><td>&hellip;</td><td>&hellip;</td><td>&hellip;</td><td>&hellip;</td><td>&hellip;</td><td>&hellip;</td><td>&hellip;</td><td>&hellip;</td><td>&hellip;</td><td>&hellip;</td><td>&hellip;</td><td>&hellip;</td><td>&hellip;</td><td>&hellip;</td><td>&hellip;</td><td>&hellip;</td><td>&hellip;</td><td>&hellip;</td><td>&hellip;</td><td>&hellip;</td><td>&hellip;</td></tr><tr><td>&quot;Os06g0140700&quot;</td><td>&quot;Q5VPE3&quot;</td><td>&quot;Q58F21&quot;</td><td>0.08207</td><td>0.116</td><td>10</td><td>10.1</td><td>0.101</td><td>37</td><td>1</td><td>308</td><td>308</td><td>381</td><td>704</td><td>947</td><td>366</td><td>1.0</td><td>0.342</td><td>0.6113</td><td>0.1119</td><td>0.04709</td><td>0.04709</td><td>44.76</td><td>9606</td><td>&quot;Homo sapiens&quot;</td><td>&quot;-_cellular organisms;d_Eukaryo…</td><td>&quot;MMDLGLSLGLGLASQGSLTSSTTTTSSPGA…</td><td>&quot;VESMPLCYIKTDITETTGRENTNEASSEGN…</td><td>229</td><td>&quot;0.812,1.000,0.958,0.821,0.938,…</td></tr><tr><td>&quot;Os04g0391500&quot;</td><td>&quot;Q01LC6&quot;</td><td>&quot;Q92945&quot;</td><td>0.000021</td><td>0.949</td><td>29</td><td>12.0</td><td>0.12</td><td>60</td><td>40</td><td>470</td><td>470</td><td>144</td><td>543</td><td>711</td><td>496</td><td>0.917</td><td>0.563</td><td>0.3483</td><td>0.1517</td><td>0.1124</td><td>0.1124</td><td>38.95</td><td>9606</td><td>&quot;Homo sapiens&quot;</td><td>&quot;-_cellular organisms;d_Eukaryo…</td><td>&quot;ATVIRVDSVSSHGTLLAVV--------QVI…</td><td>&quot;SMTEEYRVP--DGMVGLIIGRGGEQINKIQ…</td><td>275</td><td>&quot;0.287,0.310,0.299,0.289,0.311,…</td></tr><tr><td>&quot;Os04g0391500&quot;</td><td>&quot;Q01LC6&quot;</td><td>&quot;O95758&quot;</td><td>0.0005876</td><td>0.254</td><td>41</td><td>12.5</td><td>0.125</td><td>74</td><td>1</td><td>424</td><td>470</td><td>33</td><td>549</td><td>552</td><td>589</td><td>0.902</td><td>0.937</td><td>0.2553</td><td>0.1083</td><td>0.09496</td><td>0.09496</td><td>34.37</td><td>9606</td><td>&quot;Homo sapiens&quot;</td><td>&quot;-_cellular organisms;d_Eukaryo…</td><td>&quot;MALTAAAASGGDAHDDEYAKLVRGMNPPRV…</td><td>&quot;NSSTPSTANGNDSK--------------KF…</td><td>278</td><td>&quot;0.750,0.750,0.792,0.679,0.694,…</td></tr><tr><td>&quot;Os04g0391500&quot;</td><td>&quot;Q01LC6&quot;</td><td>&quot;Q8NDT2&quot;</td><td>0.024</td><td>0.164</td><td>27</td><td>13.1</td><td>0.131</td><td>63</td><td>109</td><td>470</td><td>470</td><td>120</td><td>544</td><td>890</td><td>480</td><td>0.77</td><td>0.478</td><td>0.32</td><td>0.1308</td><td>0.08022</td><td>0.08022</td><td>33.35</td><td>9606</td><td>&quot;Homo sapiens&quot;</td><td>&quot;-_cellular organisms;d_Eukaryo…</td><td>&quot;ADDWYYPEVRNTVGIVPAEEYTVIELTGTD…</td><td>&quot;PPPGAEPACPGS--SAAAPEYKT-LLISSL…</td><td>244</td><td>&quot;0.067,0.102,0.101,0.127,0.138,…</td></tr><tr><td>&quot;Os04g0391500&quot;</td><td>&quot;Q01LC6&quot;</td><td>&quot;Q52LD8&quot;</td><td>0.03477</td><td>0.076</td><td>34</td><td>8.5</td><td>0.085</td><td>47</td><td>26</td><td>467</td><td>470</td><td>17</td><td>448</td><td>501</td><td>549</td><td>0.94</td><td>0.862</td><td>0.265</td><td>0.09791</td><td>0.09289</td><td>0.09289</td><td>32.53</td><td>9606</td><td>&quot;Homo sapiens&quot;</td><td>&quot;-_cellular organisms;d_Eukaryo…</td><td>&quot;NPPRVVVDNEA----CDEA-TVIRVDSV--…</td><td>&quot;GKIFSTLKRPQVETKTEFAYEYVLLDFTLQ…</td><td>278</td><td>&quot;0.102,0.099,0.096,0.111,0.089,…</td></tr></tbody></table></div>"
      ],
      "text/plain": [
       "shape: (311, 30)\n",
       "┌───────────┬───────────┬───────────┬───────────┬───┬───────────┬───────────┬──────────┬───────────┐\n",
       "│ From      ┆ UniProt   ┆ foldseek  ┆ evalue    ┆ … ┆ qaln      ┆ taln      ┆ mismatch ┆ lddtfull  │\n",
       "│ ---       ┆ Accession ┆ hit       ┆ ---       ┆   ┆ ---       ┆ ---       ┆ ---      ┆ ---       │\n",
       "│ str       ┆ ---       ┆ ---       ┆ f64       ┆   ┆ str       ┆ str       ┆ i64      ┆ str       │\n",
       "│           ┆ str       ┆ str       ┆           ┆   ┆           ┆           ┆          ┆           │\n",
       "╞═══════════╪═══════════╪═══════════╪═══════════╪═══╪═══════════╪═══════════╪══════════╪═══════════╡\n",
       "│ Os01g0859 ┆ Q94DD0    ┆ Q8IUS5    ┆ 9.3810e-1 ┆ … ┆ SKLVLITAV ┆ ASIHLLKLL ┆ 219      ┆ 0.692,0.7 │\n",
       "│ 200       ┆           ┆           ┆ 2         ┆   ┆ ALLGWAYKV ┆ WSLGKGPAQ ┆          ┆ 14,0.733, │\n",
       "│           ┆           ┆           ┆           ┆   ┆ A-RPPP--- ┆ TFRRPAREH ┆          ┆ 0.750,0.7 │\n",
       "│           ┆           ┆           ┆           ┆   ┆ PPI…      ┆ PP-…      ┆          ┆ 65,…      │\n",
       "│ Os01g0859 ┆ Q94DD0    ┆ Q99685    ┆ 2.3260e-1 ┆ … ┆ SPRVQLKDG ┆ LPHLVNADG ┆ 193      ┆ 0.378,0.5 │\n",
       "│ 200       ┆           ┆           ┆ 1         ┆   ┆ RHLAYREA- ┆ QYLFCRYWK ┆          ┆ 90,0.640, │\n",
       "│           ┆           ┆           ┆           ┆   ┆ GVGREIAKY ┆ PTG--TPKA ┆          ┆ 0.688,0.6 │\n",
       "│           ┆           ┆           ┆           ┆   ┆ KII…      ┆ LIF…      ┆          ┆ 28,…      │\n",
       "│ Os01g0859 ┆ Q94DD0    ┆ Q8TB40    ┆ 2.7890e-1 ┆ … ┆ SSPRVQLKD ┆ LARYVSLPN ┆ 214      ┆ 0.167,0.3 │\n",
       "│ 200       ┆           ┆           ┆ 1         ┆   ┆ GRHLAYREA ┆ QNKIWTVT- ┆          ┆ 20,0.679, │\n",
       "│           ┆           ┆           ┆           ┆   ┆ GVGREIAK- ┆ -VSPEQNDR ┆          ┆ 0.700,0.7 │\n",
       "│           ┆           ┆           ┆           ┆   ┆ YKI…      ┆ TPL…      ┆          ┆ 97,…      │\n",
       "│ Os01g0859 ┆ Q94DD0    ┆ Q9H6B9    ┆ 6.9150e-1 ┆ … ┆ VSSPRVQLK ┆ GEHGFLNLK ┆ 202      ┆ 0.142,0.2 │\n",
       "│ 200       ┆           ┆           ┆ 1         ┆   ┆ -DGRHLAYR ┆ SSGLRLHYV ┆          ┆ 36,0.395, │\n",
       "│           ┆           ┆           ┆           ┆   ┆ EAGVGREIA ┆ SAG--RGNG ┆          ┆ 0.641,0.7 │\n",
       "│           ┆           ┆           ┆           ┆   ┆ KYK…      ┆ -PL…      ┆          ┆ 25,…      │\n",
       "│ Os01g0859 ┆ Q94DD0    ┆ Q86WA6    ┆ 1.3460e-1 ┆ … ┆ GPG---GPP ┆ GPAAAFGTS ┆ 177      ┆ 0.087,0.1 │\n",
       "│ 200       ┆           ┆           ┆ 0         ┆   ┆ VSSPRVQLK ┆ VTSAKVAVN ┆          ┆ 43,0.118, │\n",
       "│           ┆           ┆           ┆           ┆   ┆ DGRHLAYRE ┆ -GVQLHYQQ ┆          ┆ 0.094,0.1 │\n",
       "│           ┆           ┆           ┆           ┆   ┆ AGV…      ┆ TGE…      ┆          ┆ 25,…      │\n",
       "│ …         ┆ …         ┆ …         ┆ …         ┆ … ┆ …         ┆ …         ┆ …        ┆ …         │\n",
       "│ Os06g0140 ┆ Q5VPE3    ┆ Q58F21    ┆ 0.08207   ┆ … ┆ MMDLGLSLG ┆ VESMPLCYI ┆ 229      ┆ 0.812,1.0 │\n",
       "│ 700       ┆           ┆           ┆           ┆   ┆ LGLASQGSL ┆ KTDITETTG ┆          ┆ 00,0.958, │\n",
       "│           ┆           ┆           ┆           ┆   ┆ TSSTTTTSS ┆ RENTNEASS ┆          ┆ 0.821,0.9 │\n",
       "│           ┆           ┆           ┆           ┆   ┆ PGA…      ┆ EGN…      ┆          ┆ 38,…      │\n",
       "│ Os04g0391 ┆ Q01LC6    ┆ Q92945    ┆ 0.000021  ┆ … ┆ ATVIRVDSV ┆ SMTEEYRVP ┆ 275      ┆ 0.287,0.3 │\n",
       "│ 500       ┆           ┆           ┆           ┆   ┆ SSHGTLLAV ┆ --DGMVGLI ┆          ┆ 10,0.299, │\n",
       "│           ┆           ┆           ┆           ┆   ┆ V-------- ┆ IGRGGEQIN ┆          ┆ 0.289,0.3 │\n",
       "│           ┆           ┆           ┆           ┆   ┆ QVI…      ┆ KIQ…      ┆          ┆ 11,…      │\n",
       "│ Os04g0391 ┆ Q01LC6    ┆ O95758    ┆ 0.0005876 ┆ … ┆ MALTAAAAS ┆ NSSTPSTAN ┆ 278      ┆ 0.750,0.7 │\n",
       "│ 500       ┆           ┆           ┆           ┆   ┆ GGDAHDDEY ┆ GNDSK---- ┆          ┆ 50,0.792, │\n",
       "│           ┆           ┆           ┆           ┆   ┆ AKLVRGMNP ┆ --------- ┆          ┆ 0.679,0.6 │\n",
       "│           ┆           ┆           ┆           ┆   ┆ PRV…      ┆ -KF…      ┆          ┆ 94,…      │\n",
       "│ Os04g0391 ┆ Q01LC6    ┆ Q8NDT2    ┆ 0.024     ┆ … ┆ ADDWYYPEV ┆ PPPGAEPAC ┆ 244      ┆ 0.067,0.1 │\n",
       "│ 500       ┆           ┆           ┆           ┆   ┆ RNTVGIVPA ┆ PGS--SAAA ┆          ┆ 02,0.101, │\n",
       "│           ┆           ┆           ┆           ┆   ┆ EEYTVIELT ┆ PEYKT-LLI ┆          ┆ 0.127,0.1 │\n",
       "│           ┆           ┆           ┆           ┆   ┆ GTD…      ┆ SSL…      ┆          ┆ 38,…      │\n",
       "│ Os04g0391 ┆ Q01LC6    ┆ Q52LD8    ┆ 0.03477   ┆ … ┆ NPPRVVVDN ┆ GKIFSTLKR ┆ 278      ┆ 0.102,0.0 │\n",
       "│ 500       ┆           ┆           ┆           ┆   ┆ EA----CDE ┆ PQVETKTEF ┆          ┆ 99,0.096, │\n",
       "│           ┆           ┆           ┆           ┆   ┆ A-TVIRVDS ┆ AYEYVLLDF ┆          ┆ 0.111,0.0 │\n",
       "│           ┆           ┆           ┆           ┆   ┆ V--…      ┆ TLQ…      ┆          ┆ 89,…      │\n",
       "└───────────┴───────────┴───────────┴───────────┴───┴───────────┴───────────┴──────────┴───────────┘"
      ]
     },
     "metadata": {},
     "output_type": "display_data"
    }
   ],
   "source": [
    "foldseek_result_df = pl.read_csv(\n",
    "    foldseek_result_tsv,\n",
    "    separator='\\t'\n",
    ")\n",
    "\n",
    "foldseek_result = pl.read_csv(\n",
    "    query_uniprot_idmapping_tsv, # query idmapping\n",
    "    separator='\\t'\n",
    ").join(\n",
    "    foldseek_result_df,\n",
    "    on=\"UniProt Accession\",\n",
    "    how=\"inner\",\n",
    "    coalesce=True\n",
    ")\n",
    "\n",
    "display(foldseek_result)"
   ]
  },
  {
   "cell_type": "markdown",
   "id": "bd7a3752",
   "metadata": {
    "papermill": {
     "duration": 0.002462,
     "end_time": "2024-11-15T03:34:16.726860",
     "exception": false,
     "start_time": "2024-11-15T03:34:16.724398",
     "status": "completed"
    },
    "tags": []
   },
   "source": [
    "&nbsp;\n",
    "\n",
    "&nbsp;"
   ]
  },
  {
   "cell_type": "markdown",
   "id": "0040f2cd",
   "metadata": {
    "papermill": {
     "duration": 0.002119,
     "end_time": "2024-11-15T03:34:16.731202",
     "exception": false,
     "start_time": "2024-11-15T03:34:16.729083",
     "status": "completed"
    },
    "tags": []
   },
   "source": [
    "## Create Scatter Plot for all hits (Strucutural alignment identity vs LDDT)\n",
    "\n",
    "- Identity in the results of the structural alignment is also output in the foldseek output.\n",
    "- However, in this notebook, you can also select the results of the pairwise alignment of amino acid sequences (global alignment, local alignment)."
   ]
  },
  {
   "cell_type": "code",
   "execution_count": 6,
   "id": "d3336d89",
   "metadata": {
    "execution": {
     "iopub.execute_input": "2024-11-15T03:34:16.736962Z",
     "iopub.status.busy": "2024-11-15T03:34:16.736685Z",
     "iopub.status.idle": "2024-11-15T03:34:16.875425Z",
     "shell.execute_reply": "2024-11-15T03:34:16.875232Z"
    },
    "papermill": {
     "duration": 0.141976,
     "end_time": "2024-11-15T03:34:16.875792",
     "exception": false,
     "start_time": "2024-11-15T03:34:16.733816",
     "status": "completed"
    },
    "tags": []
   },
   "outputs": [
    {
     "data": {
      "text/plain": [
       "<Figure size 4000x4000 with 0 Axes>"
      ]
     },
     "metadata": {},
     "output_type": "display_data"
    },
    {
     "data": {
      "image/png": "[encoded data removed]",
      "text/plain": [
       "<Figure size 1100x1100 with 3 Axes>"
      ]
     },
     "metadata": {},
     "output_type": "display_data"
    },
    {
     "data": {
      "text/plain": [
       "<Figure size 5000x5000 with 0 Axes>"
      ]
     },
     "metadata": {},
     "output_type": "display_data"
    }
   ],
   "source": [
    "plt.figure(figsize=(8, 8), dpi=500)\n",
    "\n",
    "sns.jointplot(\n",
    "    data=foldseek_result,\n",
    "    x=\"pident\", # Strucutural alignment identity (%) \n",
    "    y=\"lddt\",\n",
    "    color=\"darkcyan\",\n",
    "    height=11,\n",
    "    ratio=4,\n",
    "    marginal_ticks=True\n",
    ")\n",
    "\n",
    "\n",
    "plt.xlim(-0.5,100.5)\n",
    "plt.ylim(0,1)\n",
    "plt.xlabel(\"Strucutural alignment identity (%)\")\n",
    "plt.ylabel(\"LDDT\")\n",
    "plt.axvline(x=25, color=\"black\", linestyle=\":\")\n",
    "plt.axvline(x=50, color=\"black\", linestyle=\":\")\n",
    "plt.axvline(x=75, color=\"black\", linestyle=\":\")\n",
    "plt.axhline(y=0.5, color=\"black\", linestyle=\":\")\n",
    "plt.figure(figsize=(10, 10), dpi=500)\n",
    "plt.show()"
   ]
  },
  {
   "cell_type": "markdown",
   "id": "791592e6",
   "metadata": {
    "papermill": {
     "duration": 0.002413,
     "end_time": "2024-11-15T03:34:16.880913",
     "exception": false,
     "start_time": "2024-11-15T03:34:16.878500",
     "status": "completed"
    },
    "tags": []
   },
   "source": [
    "&nbsp;\n",
    "\n",
    "&nbsp;\n",
    "\n",
    "&nbsp;"
   ]
  },
  {
   "cell_type": "markdown",
   "id": "cea04945",
   "metadata": {
    "papermill": {
     "duration": 0.002328,
     "end_time": "2024-11-15T03:34:16.885628",
     "exception": false,
     "start_time": "2024-11-15T03:34:16.883300",
     "status": "completed"
    },
    "tags": []
   },
   "source": [
    "## Parse pairwise alignment result (water and needle)"
   ]
  },
  {
   "cell_type": "code",
   "execution_count": 7,
   "id": "02a77339",
   "metadata": {
    "execution": {
     "iopub.execute_input": "2024-11-15T03:34:16.890677Z",
     "iopub.status.busy": "2024-11-15T03:34:16.890591Z",
     "iopub.status.idle": "2024-11-15T03:34:16.894258Z",
     "shell.execute_reply": "2024-11-15T03:34:16.894097Z"
    },
    "papermill": {
     "duration": 0.00656,
     "end_time": "2024-11-15T03:34:16.894527",
     "exception": false,
     "start_time": "2024-11-15T03:34:16.887967",
     "status": "completed"
    },
    "tags": []
   },
   "outputs": [],
   "source": [
    "def parse_needle_water_result(file_path: str):\n",
    "    with open(file_path, \"r\", encoding=\"utf-8\") as file:\n",
    "        data = file.readlines()\n",
    "        \n",
    "    result = {\n",
    "        \"UniProt Accession\": None,\n",
    "        \"foldseek hit\": None,\n",
    "        \"Length\": None,\n",
    "        \"Identity\": None,\n",
    "        \"Identity_percent\": None,\n",
    "        \"Similarity\": None,\n",
    "        \"Similarity_percent\": None,\n",
    "        \"Gaps\": None,\n",
    "        \"Gaps_percent\": None,\n",
    "        \"Score\": None\n",
    "    }\n",
    "    \n",
    "    for line in data:\n",
    "        if line.startswith('# 1:'):\n",
    "            result['UniProt Accession'] = line.split(':')[1].strip()\n",
    "        elif line.startswith('# 2:'):\n",
    "            result['foldseek hit'] = line.split(':')[1].strip()\n",
    "        elif line.startswith('# Length:'):\n",
    "            result['Length'] = int(line.split()[2])\n",
    "        elif line.startswith('# Identity:'):\n",
    "            result['Identity'] = line.split()[2]\n",
    "            result['Identity_percent'] = float(re.search(r'\\((.*?)%\\)', line).group(1))\n",
    "        elif line.startswith('# Similarity:'):\n",
    "            result['Similarity'] = line.split()[2]\n",
    "            result['Similarity_percent'] = float(re.search(r'\\((.*?)%\\)', line).group(1))\n",
    "        elif line.startswith('# Gaps:'):\n",
    "            result['Gaps'] = line.split()[2]\n",
    "            result['Gaps_percent'] = float(re.search(r'\\((.*?)%\\)', line).group(1))\n",
    "        elif line.startswith('# Score:'):\n",
    "            result['Score'] = float(line.split()[2])\n",
    "            \n",
    "    return result"
   ]
  },
  {
   "cell_type": "code",
   "execution_count": 8,
   "id": "7a2fead0",
   "metadata": {
    "execution": {
     "iopub.execute_input": "2024-11-15T03:34:16.899681Z",
     "iopub.status.busy": "2024-11-15T03:34:16.899607Z",
     "iopub.status.idle": "2024-11-15T03:34:16.931538Z",
     "shell.execute_reply": "2024-11-15T03:34:16.931274Z"
    },
    "papermill": {
     "duration": 0.035007,
     "end_time": "2024-11-15T03:34:16.932004",
     "exception": false,
     "start_time": "2024-11-15T03:34:16.896997",
     "status": "completed"
    },
    "tags": []
   },
   "outputs": [
    {
     "data": {
      "text/html": [
       "<div><style>\n",
       ".dataframe > thead > tr,\n",
       ".dataframe > tbody > tr {\n",
       "  text-align: right;\n",
       "  white-space: pre-wrap;\n",
       "}\n",
       "</style>\n",
       "<small>shape: (307, 10)</small><table border=\"1\" class=\"dataframe\"><thead><tr><th>UniProt Accession</th><th>foldseek hit</th><th>Length</th><th>Identity</th><th>Identity_percent</th><th>Similarity</th><th>Similarity_percent</th><th>Gaps</th><th>Gaps_percent</th><th>Score</th></tr><tr><td>str</td><td>str</td><td>i64</td><td>str</td><td>f64</td><td>str</td><td>f64</td><td>str</td><td>f64</td><td>f64</td></tr></thead><tbody><tr><td>&quot;A0A0P0UZ77&quot;</td><td>&quot;P82664&quot;</td><td>40</td><td>&quot;13/40&quot;</td><td>32.5</td><td>&quot;19/40&quot;</td><td>47.5</td><td>&quot;3/40&quot;</td><td>7.5</td><td>28.5</td></tr><tr><td>&quot;A0A0P0VAM0&quot;</td><td>&quot;O75608&quot;</td><td>135</td><td>&quot;31/135&quot;</td><td>23.0</td><td>&quot;53/135&quot;</td><td>39.3</td><td>&quot;32/135&quot;</td><td>23.7</td><td>69.0</td></tr><tr><td>&quot;A0A0P0VAM0&quot;</td><td>&quot;O95372&quot;</td><td>162</td><td>&quot;39/162&quot;</td><td>24.1</td><td>&quot;63/162&quot;</td><td>38.9</td><td>&quot;52/162&quot;</td><td>32.1</td><td>91.5</td></tr><tr><td>&quot;A0A0P0VAM0&quot;</td><td>&quot;O95870&quot;</td><td>67</td><td>&quot;17/67&quot;</td><td>25.4</td><td>&quot;32/67&quot;</td><td>47.8</td><td>&quot;4/67&quot;</td><td>6.0</td><td>51.0</td></tr><tr><td>&quot;A0A0P0VAM0&quot;</td><td>&quot;P07098&quot;</td><td>420</td><td>&quot;86/420&quot;</td><td>20.5</td><td>&quot;139/420&quot;</td><td>33.1</td><td>&quot;155/420&quot;</td><td>36.9</td><td>67.5</td></tr><tr><td>&hellip;</td><td>&hellip;</td><td>&hellip;</td><td>&hellip;</td><td>&hellip;</td><td>&hellip;</td><td>&hellip;</td><td>&hellip;</td><td>&hellip;</td><td>&hellip;</td></tr><tr><td>&quot;Q94DD0&quot;</td><td>&quot;Q9ULP0&quot;</td><td>138</td><td>&quot;30/138&quot;</td><td>21.7</td><td>&quot;52/138&quot;</td><td>37.7</td><td>&quot;39/138&quot;</td><td>28.3</td><td>53.5</td></tr><tr><td>&quot;Q94DD0&quot;</td><td>&quot;Q9UMR5&quot;</td><td>258</td><td>&quot;46/258&quot;</td><td>17.8</td><td>&quot;81/258&quot;</td><td>31.4</td><td>&quot;106/258&quot;</td><td>41.1</td><td>38.5</td></tr><tr><td>&quot;Q94DD0&quot;</td><td>&quot;Q9UN36&quot;</td><td>178</td><td>&quot;39/178&quot;</td><td>21.9</td><td>&quot;65/178&quot;</td><td>36.5</td><td>&quot;54/178&quot;</td><td>30.3</td><td>65.0</td></tr><tr><td>&quot;Q94DD0&quot;</td><td>&quot;Q9Y570&quot;</td><td>371</td><td>&quot;64/371&quot;</td><td>17.3</td><td>&quot;130/371&quot;</td><td>35.0</td><td>&quot;96/371&quot;</td><td>25.9</td><td>70.0</td></tr><tr><td>&quot;Q94DD0&quot;</td><td>&quot;Q9Y5X9&quot;</td><td>89</td><td>&quot;19/89&quot;</td><td>21.3</td><td>&quot;37/89&quot;</td><td>41.6</td><td>&quot;19/89&quot;</td><td>21.3</td><td>46.0</td></tr></tbody></table></div>"
      ],
      "text/plain": [
       "shape: (307, 10)\n",
       "┌───────────────┬──────────┬────────┬──────────┬───┬──────────────┬─────────┬──────────────┬───────┐\n",
       "│ UniProt       ┆ foldseek ┆ Length ┆ Identity ┆ … ┆ Similarity_p ┆ Gaps    ┆ Gaps_percent ┆ Score │\n",
       "│ Accession     ┆ hit      ┆ ---    ┆ ---      ┆   ┆ ercent       ┆ ---     ┆ ---          ┆ ---   │\n",
       "│ ---           ┆ ---      ┆ i64    ┆ str      ┆   ┆ ---          ┆ str     ┆ f64          ┆ f64   │\n",
       "│ str           ┆ str      ┆        ┆          ┆   ┆ f64          ┆         ┆              ┆       │\n",
       "╞═══════════════╪══════════╪════════╪══════════╪═══╪══════════════╪═════════╪══════════════╪═══════╡\n",
       "│ A0A0P0UZ77    ┆ P82664   ┆ 40     ┆ 13/40    ┆ … ┆ 47.5         ┆ 3/40    ┆ 7.5          ┆ 28.5  │\n",
       "│ A0A0P0VAM0    ┆ O75608   ┆ 135    ┆ 31/135   ┆ … ┆ 39.3         ┆ 32/135  ┆ 23.7         ┆ 69.0  │\n",
       "│ A0A0P0VAM0    ┆ O95372   ┆ 162    ┆ 39/162   ┆ … ┆ 38.9         ┆ 52/162  ┆ 32.1         ┆ 91.5  │\n",
       "│ A0A0P0VAM0    ┆ O95870   ┆ 67     ┆ 17/67    ┆ … ┆ 47.8         ┆ 4/67    ┆ 6.0          ┆ 51.0  │\n",
       "│ A0A0P0VAM0    ┆ P07098   ┆ 420    ┆ 86/420   ┆ … ┆ 33.1         ┆ 155/420 ┆ 36.9         ┆ 67.5  │\n",
       "│ …             ┆ …        ┆ …      ┆ …        ┆ … ┆ …            ┆ …       ┆ …            ┆ …     │\n",
       "│ Q94DD0        ┆ Q9ULP0   ┆ 138    ┆ 30/138   ┆ … ┆ 37.7         ┆ 39/138  ┆ 28.3         ┆ 53.5  │\n",
       "│ Q94DD0        ┆ Q9UMR5   ┆ 258    ┆ 46/258   ┆ … ┆ 31.4         ┆ 106/258 ┆ 41.1         ┆ 38.5  │\n",
       "│ Q94DD0        ┆ Q9UN36   ┆ 178    ┆ 39/178   ┆ … ┆ 36.5         ┆ 54/178  ┆ 30.3         ┆ 65.0  │\n",
       "│ Q94DD0        ┆ Q9Y570   ┆ 371    ┆ 64/371   ┆ … ┆ 35.0         ┆ 96/371  ┆ 25.9         ┆ 70.0  │\n",
       "│ Q94DD0        ┆ Q9Y5X9   ┆ 89     ┆ 19/89    ┆ … ┆ 41.6         ┆ 19/89   ┆ 21.3         ┆ 46.0  │\n",
       "└───────────────┴──────────┴────────┴──────────┴───┴──────────────┴─────────┴──────────────┴───────┘"
      ]
     },
     "metadata": {},
     "output_type": "display_data"
    },
    {
     "data": {
      "text/html": [
       "<div><style>\n",
       ".dataframe > thead > tr,\n",
       ".dataframe > tbody > tr {\n",
       "  text-align: right;\n",
       "  white-space: pre-wrap;\n",
       "}\n",
       "</style>\n",
       "<small>shape: (307, 10)</small><table border=\"1\" class=\"dataframe\"><thead><tr><th>UniProt Accession</th><th>foldseek hit</th><th>Length</th><th>Identity</th><th>Identity_percent</th><th>Similarity</th><th>Similarity_percent</th><th>Gaps</th><th>Gaps_percent</th><th>Score</th></tr><tr><td>str</td><td>str</td><td>i64</td><td>str</td><td>f64</td><td>str</td><td>f64</td><td>str</td><td>f64</td><td>f64</td></tr></thead><tbody><tr><td>&quot;A0A0P0UZ77&quot;</td><td>&quot;P82664&quot;</td><td>418</td><td>&quot;7/418&quot;</td><td>1.7</td><td>&quot;8/418&quot;</td><td>1.9</td><td>&quot;399/418&quot;</td><td>95.5</td><td>7.5</td></tr><tr><td>&quot;A0A0P0VAM0&quot;</td><td>&quot;O75608&quot;</td><td>380</td><td>&quot;57/380&quot;</td><td>15.0</td><td>&quot;96/380&quot;</td><td>25.3</td><td>&quot;183/380&quot;</td><td>48.2</td><td>50.0</td></tr><tr><td>&quot;A0A0P0VAM0&quot;</td><td>&quot;O95372&quot;</td><td>388</td><td>&quot;64/388&quot;</td><td>16.5</td><td>&quot;101/388&quot;</td><td>26.0</td><td>&quot;198/388&quot;</td><td>51.0</td><td>71.0</td></tr><tr><td>&quot;A0A0P0VAM0&quot;</td><td>&quot;O95870&quot;</td><td>639</td><td>&quot;77/639&quot;</td><td>12.1</td><td>&quot;125/639&quot;</td><td>19.6</td><td>&quot;373/639&quot;</td><td>58.4</td><td>19.5</td></tr><tr><td>&quot;A0A0P0VAM0&quot;</td><td>&quot;P07098&quot;</td><td>460</td><td>&quot;92/460&quot;</td><td>20.0</td><td>&quot;150/460&quot;</td><td>32.6</td><td>&quot;175/460&quot;</td><td>38.0</td><td>65.0</td></tr><tr><td>&hellip;</td><td>&hellip;</td><td>&hellip;</td><td>&hellip;</td><td>&hellip;</td><td>&hellip;</td><td>&hellip;</td><td>&hellip;</td><td>&hellip;</td><td>&hellip;</td></tr><tr><td>&quot;Q94DD0&quot;</td><td>&quot;Q9ULP0&quot;</td><td>668</td><td>&quot;10/668&quot;</td><td>1.5</td><td>&quot;12/668&quot;</td><td>1.8</td><td>&quot;637/668&quot;</td><td>95.4</td><td>18.0</td></tr><tr><td>&quot;Q94DD0&quot;</td><td>&quot;Q9UMR5&quot;</td><td>425</td><td>&quot;60/425&quot;</td><td>14.1</td><td>&quot;109/425&quot;</td><td>25.6</td><td>&quot;201/425&quot;</td><td>47.3</td><td>21.5</td></tr><tr><td>&quot;Q94DD0&quot;</td><td>&quot;Q9UN36&quot;</td><td>560</td><td>&quot;45/560&quot;</td><td>8.0</td><td>&quot;79/560&quot;</td><td>14.1</td><td>&quot;402/560&quot;</td><td>71.8</td><td>38.5</td></tr><tr><td>&quot;Q94DD0&quot;</td><td>&quot;Q9Y570&quot;</td><td>444</td><td>&quot;68/444&quot;</td><td>15.3</td><td>&quot;135/444&quot;</td><td>30.4</td><td>&quot;155/444&quot;</td><td>34.9</td><td>63.5</td></tr><tr><td>&quot;Q94DD0&quot;</td><td>&quot;Q9Y5X9&quot;</td><td>624</td><td>&quot;74/624&quot;</td><td>11.9</td><td>&quot;119/624&quot;</td><td>19.1</td><td>&quot;401/624&quot;</td><td>64.3</td><td>37.5</td></tr></tbody></table></div>"
      ],
      "text/plain": [
       "shape: (307, 10)\n",
       "┌───────────────┬──────────┬────────┬──────────┬───┬──────────────┬─────────┬──────────────┬───────┐\n",
       "│ UniProt       ┆ foldseek ┆ Length ┆ Identity ┆ … ┆ Similarity_p ┆ Gaps    ┆ Gaps_percent ┆ Score │\n",
       "│ Accession     ┆ hit      ┆ ---    ┆ ---      ┆   ┆ ercent       ┆ ---     ┆ ---          ┆ ---   │\n",
       "│ ---           ┆ ---      ┆ i64    ┆ str      ┆   ┆ ---          ┆ str     ┆ f64          ┆ f64   │\n",
       "│ str           ┆ str      ┆        ┆          ┆   ┆ f64          ┆         ┆              ┆       │\n",
       "╞═══════════════╪══════════╪════════╪══════════╪═══╪══════════════╪═════════╪══════════════╪═══════╡\n",
       "│ A0A0P0UZ77    ┆ P82664   ┆ 418    ┆ 7/418    ┆ … ┆ 1.9          ┆ 399/418 ┆ 95.5         ┆ 7.5   │\n",
       "│ A0A0P0VAM0    ┆ O75608   ┆ 380    ┆ 57/380   ┆ … ┆ 25.3         ┆ 183/380 ┆ 48.2         ┆ 50.0  │\n",
       "│ A0A0P0VAM0    ┆ O95372   ┆ 388    ┆ 64/388   ┆ … ┆ 26.0         ┆ 198/388 ┆ 51.0         ┆ 71.0  │\n",
       "│ A0A0P0VAM0    ┆ O95870   ┆ 639    ┆ 77/639   ┆ … ┆ 19.6         ┆ 373/639 ┆ 58.4         ┆ 19.5  │\n",
       "│ A0A0P0VAM0    ┆ P07098   ┆ 460    ┆ 92/460   ┆ … ┆ 32.6         ┆ 175/460 ┆ 38.0         ┆ 65.0  │\n",
       "│ …             ┆ …        ┆ …      ┆ …        ┆ … ┆ …            ┆ …       ┆ …            ┆ …     │\n",
       "│ Q94DD0        ┆ Q9ULP0   ┆ 668    ┆ 10/668   ┆ … ┆ 1.8          ┆ 637/668 ┆ 95.4         ┆ 18.0  │\n",
       "│ Q94DD0        ┆ Q9UMR5   ┆ 425    ┆ 60/425   ┆ … ┆ 25.6         ┆ 201/425 ┆ 47.3         ┆ 21.5  │\n",
       "│ Q94DD0        ┆ Q9UN36   ┆ 560    ┆ 45/560   ┆ … ┆ 14.1         ┆ 402/560 ┆ 71.8         ┆ 38.5  │\n",
       "│ Q94DD0        ┆ Q9Y570   ┆ 444    ┆ 68/444   ┆ … ┆ 30.4         ┆ 155/444 ┆ 34.9         ┆ 63.5  │\n",
       "│ Q94DD0        ┆ Q9Y5X9   ┆ 624    ┆ 74/624   ┆ … ┆ 19.1         ┆ 401/624 ┆ 64.3         ┆ 37.5  │\n",
       "└───────────────┴──────────┴────────┴──────────┴───┴──────────────┴─────────┴──────────────┴───────┘"
      ]
     },
     "metadata": {},
     "output_type": "display_data"
    }
   ],
   "source": [
    "water_result_dir = pathlib.Path(water_result_dir_path)\n",
    "needle_result_dir = pathlib.Path(needle_result_dir_path)\n",
    "\n",
    "# Initialize empty lists to store DataFrames\n",
    "water_dfs = []\n",
    "needle_dfs = []\n",
    "\n",
    "# Collect all water results\n",
    "for result_file in water_result_dir.glob(\"*_align.water\"):\n",
    "    parsed_data = parse_needle_water_result(result_file)\n",
    "    water_dfs.append(pl.DataFrame([parsed_data]))\n",
    "\n",
    "# Collect all needle results    \n",
    "for result_file in needle_result_dir.glob(\"*_align.needle\"):\n",
    "    parsed_data = parse_needle_water_result(result_file)\n",
    "    needle_dfs.append(pl.DataFrame([parsed_data]))\n",
    "\n",
    "# Combine all results and sort only if there are results\n",
    "water_result = (pl.concat(water_dfs, how='vertical')\n",
    "                .sort([\"UniProt Accession\", \"foldseek hit\"]) \n",
    "                if water_dfs else pl.DataFrame())\n",
    "\n",
    "needle_result = (pl.concat(needle_dfs, how='vertical')\n",
    "                 .sort([\"UniProt Accession\", \"foldseek hit\"])\n",
    "                 if needle_dfs else pl.DataFrame())\n",
    "\n",
    "display(water_result)\n",
    "display(needle_result)"
   ]
  },
  {
   "cell_type": "code",
   "execution_count": 9,
   "id": "0d3a654d",
   "metadata": {
    "execution": {
     "iopub.execute_input": "2024-11-15T03:34:16.937484Z",
     "iopub.status.busy": "2024-11-15T03:34:16.937405Z",
     "iopub.status.idle": "2024-11-15T03:34:16.942555Z",
     "shell.execute_reply": "2024-11-15T03:34:16.942299Z"
    },
    "papermill": {
     "duration": 0.008248,
     "end_time": "2024-11-15T03:34:16.942956",
     "exception": false,
     "start_time": "2024-11-15T03:34:16.934708",
     "status": "completed"
    },
    "tags": []
   },
   "outputs": [
    {
     "data": {
      "text/html": [
       "<div><style>\n",
       ".dataframe > thead > tr,\n",
       ".dataframe > tbody > tr {\n",
       "  text-align: right;\n",
       "  white-space: pre-wrap;\n",
       "}\n",
       "</style>\n",
       "<small>shape: (307, 16)</small><table border=\"1\" class=\"dataframe\"><thead><tr><th>UniProt Accession</th><th>foldseek hit</th><th>Length_water</th><th>Length_needle</th><th>Identity_water</th><th>Identity_needle</th><th>Identity_percent_water</th><th>Identity_percent_needle</th><th>Similarity_percent_water</th><th>Similarity_percent_needle</th><th>Gaps_water</th><th>Gaps_needle</th><th>Gaps_percent_water</th><th>Gaps_percent_needle</th><th>Score_water</th><th>Score_needle</th></tr><tr><td>str</td><td>str</td><td>i64</td><td>i64</td><td>str</td><td>str</td><td>f64</td><td>f64</td><td>f64</td><td>f64</td><td>str</td><td>str</td><td>f64</td><td>f64</td><td>f64</td><td>f64</td></tr></thead><tbody><tr><td>&quot;A0A0P0UZ77&quot;</td><td>&quot;P82664&quot;</td><td>40</td><td>418</td><td>&quot;13/40&quot;</td><td>&quot;7/418&quot;</td><td>32.5</td><td>1.7</td><td>47.5</td><td>1.9</td><td>&quot;3/40&quot;</td><td>&quot;399/418&quot;</td><td>7.5</td><td>95.5</td><td>28.5</td><td>7.5</td></tr><tr><td>&quot;A0A0P0VAM0&quot;</td><td>&quot;O75608&quot;</td><td>135</td><td>380</td><td>&quot;31/135&quot;</td><td>&quot;57/380&quot;</td><td>23.0</td><td>15.0</td><td>39.3</td><td>25.3</td><td>&quot;32/135&quot;</td><td>&quot;183/380&quot;</td><td>23.7</td><td>48.2</td><td>69.0</td><td>50.0</td></tr><tr><td>&quot;A0A0P0VAM0&quot;</td><td>&quot;O95372&quot;</td><td>162</td><td>388</td><td>&quot;39/162&quot;</td><td>&quot;64/388&quot;</td><td>24.1</td><td>16.5</td><td>38.9</td><td>26.0</td><td>&quot;52/162&quot;</td><td>&quot;198/388&quot;</td><td>32.1</td><td>51.0</td><td>91.5</td><td>71.0</td></tr><tr><td>&quot;A0A0P0VAM0&quot;</td><td>&quot;O95870&quot;</td><td>67</td><td>639</td><td>&quot;17/67&quot;</td><td>&quot;77/639&quot;</td><td>25.4</td><td>12.1</td><td>47.8</td><td>19.6</td><td>&quot;4/67&quot;</td><td>&quot;373/639&quot;</td><td>6.0</td><td>58.4</td><td>51.0</td><td>19.5</td></tr><tr><td>&quot;A0A0P0VAM0&quot;</td><td>&quot;P07098&quot;</td><td>420</td><td>460</td><td>&quot;86/420&quot;</td><td>&quot;92/460&quot;</td><td>20.5</td><td>20.0</td><td>33.1</td><td>32.6</td><td>&quot;155/420&quot;</td><td>&quot;175/460&quot;</td><td>36.9</td><td>38.0</td><td>67.5</td><td>65.0</td></tr><tr><td>&hellip;</td><td>&hellip;</td><td>&hellip;</td><td>&hellip;</td><td>&hellip;</td><td>&hellip;</td><td>&hellip;</td><td>&hellip;</td><td>&hellip;</td><td>&hellip;</td><td>&hellip;</td><td>&hellip;</td><td>&hellip;</td><td>&hellip;</td><td>&hellip;</td><td>&hellip;</td></tr><tr><td>&quot;Q94DD0&quot;</td><td>&quot;Q9ULP0&quot;</td><td>138</td><td>668</td><td>&quot;30/138&quot;</td><td>&quot;10/668&quot;</td><td>21.7</td><td>1.5</td><td>37.7</td><td>1.8</td><td>&quot;39/138&quot;</td><td>&quot;637/668&quot;</td><td>28.3</td><td>95.4</td><td>53.5</td><td>18.0</td></tr><tr><td>&quot;Q94DD0&quot;</td><td>&quot;Q9UMR5&quot;</td><td>258</td><td>425</td><td>&quot;46/258&quot;</td><td>&quot;60/425&quot;</td><td>17.8</td><td>14.1</td><td>31.4</td><td>25.6</td><td>&quot;106/258&quot;</td><td>&quot;201/425&quot;</td><td>41.1</td><td>47.3</td><td>38.5</td><td>21.5</td></tr><tr><td>&quot;Q94DD0&quot;</td><td>&quot;Q9UN36&quot;</td><td>178</td><td>560</td><td>&quot;39/178&quot;</td><td>&quot;45/560&quot;</td><td>21.9</td><td>8.0</td><td>36.5</td><td>14.1</td><td>&quot;54/178&quot;</td><td>&quot;402/560&quot;</td><td>30.3</td><td>71.8</td><td>65.0</td><td>38.5</td></tr><tr><td>&quot;Q94DD0&quot;</td><td>&quot;Q9Y570&quot;</td><td>371</td><td>444</td><td>&quot;64/371&quot;</td><td>&quot;68/444&quot;</td><td>17.3</td><td>15.3</td><td>35.0</td><td>30.4</td><td>&quot;96/371&quot;</td><td>&quot;155/444&quot;</td><td>25.9</td><td>34.9</td><td>70.0</td><td>63.5</td></tr><tr><td>&quot;Q94DD0&quot;</td><td>&quot;Q9Y5X9&quot;</td><td>89</td><td>624</td><td>&quot;19/89&quot;</td><td>&quot;74/624&quot;</td><td>21.3</td><td>11.9</td><td>41.6</td><td>19.1</td><td>&quot;19/89&quot;</td><td>&quot;401/624&quot;</td><td>21.3</td><td>64.3</td><td>46.0</td><td>37.5</td></tr></tbody></table></div>"
      ],
      "text/plain": [
       "shape: (307, 16)\n",
       "┌───────────┬───────────┬───────────┬───────────┬───┬───────────┬───────────┬───────────┬──────────┐\n",
       "│ UniProt   ┆ foldseek  ┆ Length_wa ┆ Length_ne ┆ … ┆ Gaps_perc ┆ Gaps_perc ┆ Score_wat ┆ Score_ne │\n",
       "│ Accession ┆ hit       ┆ ter       ┆ edle      ┆   ┆ ent_water ┆ ent_needl ┆ er        ┆ edle     │\n",
       "│ ---       ┆ ---       ┆ ---       ┆ ---       ┆   ┆ ---       ┆ e         ┆ ---       ┆ ---      │\n",
       "│ str       ┆ str       ┆ i64       ┆ i64       ┆   ┆ f64       ┆ ---       ┆ f64       ┆ f64      │\n",
       "│           ┆           ┆           ┆           ┆   ┆           ┆ f64       ┆           ┆          │\n",
       "╞═══════════╪═══════════╪═══════════╪═══════════╪═══╪═══════════╪═══════════╪═══════════╪══════════╡\n",
       "│ A0A0P0UZ7 ┆ P82664    ┆ 40        ┆ 418       ┆ … ┆ 7.5       ┆ 95.5      ┆ 28.5      ┆ 7.5      │\n",
       "│ 7         ┆           ┆           ┆           ┆   ┆           ┆           ┆           ┆          │\n",
       "│ A0A0P0VAM ┆ O75608    ┆ 135       ┆ 380       ┆ … ┆ 23.7      ┆ 48.2      ┆ 69.0      ┆ 50.0     │\n",
       "│ 0         ┆           ┆           ┆           ┆   ┆           ┆           ┆           ┆          │\n",
       "│ A0A0P0VAM ┆ O95372    ┆ 162       ┆ 388       ┆ … ┆ 32.1      ┆ 51.0      ┆ 91.5      ┆ 71.0     │\n",
       "│ 0         ┆           ┆           ┆           ┆   ┆           ┆           ┆           ┆          │\n",
       "│ A0A0P0VAM ┆ O95870    ┆ 67        ┆ 639       ┆ … ┆ 6.0       ┆ 58.4      ┆ 51.0      ┆ 19.5     │\n",
       "│ 0         ┆           ┆           ┆           ┆   ┆           ┆           ┆           ┆          │\n",
       "│ A0A0P0VAM ┆ P07098    ┆ 420       ┆ 460       ┆ … ┆ 36.9      ┆ 38.0      ┆ 67.5      ┆ 65.0     │\n",
       "│ 0         ┆           ┆           ┆           ┆   ┆           ┆           ┆           ┆          │\n",
       "│ …         ┆ …         ┆ …         ┆ …         ┆ … ┆ …         ┆ …         ┆ …         ┆ …        │\n",
       "│ Q94DD0    ┆ Q9ULP0    ┆ 138       ┆ 668       ┆ … ┆ 28.3      ┆ 95.4      ┆ 53.5      ┆ 18.0     │\n",
       "│ Q94DD0    ┆ Q9UMR5    ┆ 258       ┆ 425       ┆ … ┆ 41.1      ┆ 47.3      ┆ 38.5      ┆ 21.5     │\n",
       "│ Q94DD0    ┆ Q9UN36    ┆ 178       ┆ 560       ┆ … ┆ 30.3      ┆ 71.8      ┆ 65.0      ┆ 38.5     │\n",
       "│ Q94DD0    ┆ Q9Y570    ┆ 371       ┆ 444       ┆ … ┆ 25.9      ┆ 34.9      ┆ 70.0      ┆ 63.5     │\n",
       "│ Q94DD0    ┆ Q9Y5X9    ┆ 89        ┆ 624       ┆ … ┆ 21.3      ┆ 64.3      ┆ 46.0      ┆ 37.5     │\n",
       "└───────────┴───────────┴───────────┴───────────┴───┴───────────┴───────────┴───────────┴──────────┘"
      ]
     },
     "metadata": {},
     "output_type": "display_data"
    }
   ],
   "source": [
    "alignment_result = water_result.join(\n",
    "    needle_result,\n",
    "    on=[\"UniProt Accession\", \"foldseek hit\"],\n",
    "    how=\"inner\",\n",
    "    coalesce=True,\n",
    "    suffix=\"_needle\"\n",
    ").rename(\n",
    "    {\n",
    "        \"Length\": \"Length_water\",\n",
    "        \"Identity\": \"Identity_water\",\n",
    "        \"Identity_percent\": \"Identity_percent_water\",\n",
    "        \"Similarity\": \"Similarity_water\",\n",
    "        \"Similarity_percent\": \"Similarity_percent_water\",\n",
    "        \"Gaps\": \"Gaps_water\",\n",
    "        \"Gaps_percent\": \"Gaps_percent_water\",\n",
    "        \"Score\": \"Score_water\"\n",
    "    }\n",
    ").select(\n",
    "    [\n",
    "        \"UniProt Accession\",\n",
    "        \"foldseek hit\",\n",
    "        \"Length_water\",\n",
    "        \"Length_needle\",\n",
    "        \"Identity_water\",\n",
    "        \"Identity_needle\",\n",
    "        \"Identity_percent_water\",\n",
    "        \"Identity_percent_needle\",\n",
    "        \"Similarity_percent_water\",\n",
    "        \"Similarity_percent_needle\",\n",
    "        \"Gaps_water\",\n",
    "        \"Gaps_needle\",\n",
    "        \"Gaps_percent_water\",\n",
    "        \"Gaps_percent_needle\",\n",
    "        \"Score_water\",\n",
    "        \"Score_needle\"\n",
    "    ]\n",
    ")\n",
    "\n",
    "display(alignment_result)"
   ]
  },
  {
   "cell_type": "markdown",
   "id": "e23aee3c",
   "metadata": {
    "papermill": {
     "duration": 0.002503,
     "end_time": "2024-11-15T03:34:16.948072",
     "exception": false,
     "start_time": "2024-11-15T03:34:16.945569",
     "status": "completed"
    },
    "tags": []
   },
   "source": [
    "&nbsp;\n",
    "\n",
    "\n",
    "&nbsp;"
   ]
  },
  {
   "cell_type": "markdown",
   "id": "7ee80624",
   "metadata": {
    "papermill": {
     "duration": 0.002465,
     "end_time": "2024-11-15T03:34:16.953069",
     "exception": false,
     "start_time": "2024-11-15T03:34:16.950604",
     "status": "completed"
    },
    "tags": []
   },
   "source": [
    "## Integrate foldseek result and pairwise alignment result\n",
    "\n",
    "- This time, **exclude the ones that are null in pairwise alignment result, which means the current UniProt entry is obsolete**"
   ]
  },
  {
   "cell_type": "code",
   "execution_count": 10,
   "id": "69096d20",
   "metadata": {
    "execution": {
     "iopub.execute_input": "2024-11-15T03:34:16.958364Z",
     "iopub.status.busy": "2024-11-15T03:34:16.958291Z",
     "iopub.status.idle": "2024-11-15T03:34:16.971122Z",
     "shell.execute_reply": "2024-11-15T03:34:16.970816Z"
    },
    "papermill": {
     "duration": 0.015887,
     "end_time": "2024-11-15T03:34:16.971461",
     "exception": false,
     "start_time": "2024-11-15T03:34:16.955574",
     "status": "completed"
    },
    "tags": []
   },
   "outputs": [
    {
     "name": "stdout",
     "output_type": "stream",
     "text": [
      "shape: (307, 44)\n",
      "┌─────────────┬────────────┬──────┬────────┬───┬────────────┬────────────┬────────────┬────────────┐\n",
      "│ UniProt     ┆ foldseek   ┆ From ┆ evalue ┆ … ┆ Gaps_perce ┆ Gaps_perce ┆ Score_wate ┆ Score_need │\n",
      "│ Accession   ┆ hit        ┆ ---  ┆ ---    ┆   ┆ nt_water   ┆ nt_needle  ┆ r          ┆ le         │\n",
      "│ ---         ┆ ---        ┆ u32  ┆ u32    ┆   ┆ ---        ┆ ---        ┆ ---        ┆ ---        │\n",
      "│ str         ┆ str        ┆      ┆        ┆   ┆ u32        ┆ u32        ┆ u32        ┆ u32        │\n",
      "╞═════════════╪════════════╪══════╪════════╪═══╪════════════╪════════════╪════════════╪════════════╡\n",
      "│ A0A0P0VAM0  ┆ Q86WA6     ┆ 1    ┆ 1      ┆ … ┆ 1          ┆ 1          ┆ 1          ┆ 1          │\n",
      "│ Q5VPE3      ┆ P35548     ┆ 1    ┆ 1      ┆ … ┆ 1          ┆ 1          ┆ 1          ┆ 1          │\n",
      "│ Q94DD0      ┆ Q96DG6     ┆ 1    ┆ 1      ┆ … ┆ 1          ┆ 1          ┆ 1          ┆ 1          │\n",
      "│ Q94DD0      ┆ P42658     ┆ 1    ┆ 1      ┆ … ┆ 1          ┆ 1          ┆ 1          ┆ 1          │\n",
      "│ Q5VPE3      ┆ P31270     ┆ 1    ┆ 1      ┆ … ┆ 1          ┆ 1          ┆ 1          ┆ 1          │\n",
      "│ …           ┆ …          ┆ …    ┆ …      ┆ … ┆ …          ┆ …          ┆ …          ┆ …          │\n",
      "│ Q5VPE3      ┆ Q9Y6X8     ┆ 1    ┆ 1      ┆ … ┆ 1          ┆ 1          ┆ 1          ┆ 1          │\n",
      "│ Q94DD0      ┆ O75608     ┆ 1    ┆ 1      ┆ … ┆ 1          ┆ 1          ┆ 1          ┆ 1          │\n",
      "│ Q94DD0      ┆ P38571     ┆ 1    ┆ 1      ┆ … ┆ 1          ┆ 1          ┆ 1          ┆ 1          │\n",
      "│ Q5VPE3      ┆ P14651     ┆ 1    ┆ 1      ┆ … ┆ 1          ┆ 1          ┆ 1          ┆ 1          │\n",
      "│ Q5VPE3      ┆ O14813     ┆ 1    ┆ 1      ┆ … ┆ 1          ┆ 1          ┆ 1          ┆ 1          │\n",
      "└─────────────┴────────────┴──────┴────────┴───┴────────────┴────────────┴────────────┴────────────┘\n"
     ]
    },
    {
     "data": {
      "text/html": [
       "<div><style>\n",
       ".dataframe > thead > tr,\n",
       ".dataframe > tbody > tr {\n",
       "  text-align: right;\n",
       "  white-space: pre-wrap;\n",
       "}\n",
       "</style>\n",
       "<small>shape: (5, 44)</small><table border=\"1\" class=\"dataframe\"><thead><tr><th>From</th><th>UniProt Accession</th><th>foldseek hit</th><th>evalue</th><th>prob</th><th>gapopen</th><th>pident</th><th>fident</th><th>nident</th><th>qstart</th><th>qend</th><th>qlen</th><th>tstart</th><th>tend</th><th>tlen</th><th>alnlen</th><th>qcov</th><th>tcov</th><th>lddt</th><th>qtmscore</th><th>ttmscore</th><th>alntmscore</th><th>rmsd</th><th>taxid</th><th>taxname</th><th>taxlineage</th><th>qaln</th><th>taln</th><th>mismatch</th><th>lddtfull</th><th>Length_water</th><th>Length_needle</th><th>Identity_water</th><th>Identity_needle</th><th>Identity_percent_water</th><th>Identity_percent_needle</th><th>Similarity_percent_water</th><th>Similarity_percent_needle</th><th>Gaps_water</th><th>Gaps_needle</th><th>Gaps_percent_water</th><th>Gaps_percent_needle</th><th>Score_water</th><th>Score_needle</th></tr><tr><td>str</td><td>str</td><td>str</td><td>f64</td><td>f64</td><td>i64</td><td>f64</td><td>f64</td><td>i64</td><td>i64</td><td>i64</td><td>i64</td><td>i64</td><td>i64</td><td>i64</td><td>i64</td><td>f64</td><td>f64</td><td>f64</td><td>f64</td><td>f64</td><td>f64</td><td>f64</td><td>i64</td><td>str</td><td>str</td><td>str</td><td>str</td><td>i64</td><td>str</td><td>i64</td><td>i64</td><td>str</td><td>str</td><td>f64</td><td>f64</td><td>f64</td><td>f64</td><td>str</td><td>str</td><td>f64</td><td>f64</td><td>f64</td><td>f64</td></tr></thead><tbody><tr><td>&quot;Os01g0859200&quot;</td><td>&quot;A0A0P0VAM0&quot;</td><td>&quot;Q86WA6&quot;</td><td>7.5990e-10</td><td>1.0</td><td>20</td><td>18.5</td><td>0.185</td><td>60</td><td>33</td><td>339</td><td>347</td><td>30</td><td>290</td><td>291</td><td>323</td><td>0.885</td><td>0.897</td><td>0.4782</td><td>0.4734</td><td>0.5557</td><td>0.5557</td><td>11.48</td><td>9606</td><td>&quot;Homo sapiens&quot;</td><td>&quot;-_cellular organisms;d_Eukaryo…</td><td>&quot;GPG---GPPVSSPRVQLKDGRHLAYREAGV…</td><td>&quot;GPAAAFGTSVTSAKVAVN-GVQLHYQQTGE…</td><td>185</td><td>&quot;0.083,0.143,0.118,0.097,0.135,…</td><td>305</td><td>375</td><td>&quot;67/305&quot;</td><td>&quot;75/375&quot;</td><td>22.0</td><td>20.0</td><td>37.0</td><td>33.9</td><td>&quot;77/305&quot;</td><td>&quot;112/375&quot;</td><td>25.2</td><td>29.9</td><td>88.0</td><td>76.0</td></tr><tr><td>&quot;Os06g0140700&quot;</td><td>&quot;Q5VPE3&quot;</td><td>&quot;P35548&quot;</td><td>0.0002015</td><td>0.993</td><td>8</td><td>17.9</td><td>0.179</td><td>55</td><td>4</td><td>269</td><td>308</td><td>2</td><td>267</td><td>267</td><td>307</td><td>0.864</td><td>0.996</td><td>0.7166</td><td>0.1929</td><td>0.2184</td><td>0.2184</td><td>35.91</td><td>9606</td><td>&quot;Homo sapiens&quot;</td><td>&quot;-_cellular organisms;d_Eukaryo…</td><td>&quot;LGLSLGLGLASQGSLTSSTTTTSSPG----…</td><td>&quot;ASPSKGNDLFSPDEEGPAVVAGPGPGPGGA…</td><td>170</td><td>&quot;0.500,0.594,0.719,0.844,0.875,…</td><td>265</td><td>379</td><td>&quot;63/265&quot;</td><td>&quot;69/379&quot;</td><td>23.8</td><td>18.2</td><td>32.5</td><td>26.9</td><td>&quot;118/265&quot;</td><td>&quot;183/379&quot;</td><td>44.5</td><td>48.3</td><td>122.0</td><td>109.0</td></tr><tr><td>&quot;Os01g0859200&quot;</td><td>&quot;Q94DD0&quot;</td><td>&quot;Q96DG6&quot;</td><td>0.006012</td><td>0.961</td><td>15</td><td>7.2</td><td>0.072</td><td>22</td><td>39</td><td>322</td><td>347</td><td>20</td><td>212</td><td>245</td><td>305</td><td>0.818</td><td>0.788</td><td>0.3526</td><td>0.3465</td><td>0.4656</td><td>0.4656</td><td>8.691</td><td>9606</td><td>&quot;Homo sapiens&quot;</td><td>&quot;-_cellular organisms;d_Eukaryo…</td><td>&quot;VSSPRVQLKDGRHLAYREAGVGREIAKYKI…</td><td>&quot;GLGREVQVEH-IKAYVT-KSPVDAGKAVIV…</td><td>150</td><td>&quot;0.159,0.257,0.297,0.397,0.425,…</td><td>96</td><td>510</td><td>&quot;21/96&quot;</td><td>&quot;22/510&quot;</td><td>21.9</td><td>4.3</td><td>35.4</td><td>7.1</td><td>&quot;37/96&quot;</td><td>&quot;428/510&quot;</td><td>38.5</td><td>83.9</td><td>40.0</td><td>23.0</td></tr><tr><td>&quot;Os01g0859200&quot;</td><td>&quot;Q94DD0&quot;</td><td>&quot;P42658&quot;</td><td>0.000033</td><td>1.0</td><td>18</td><td>10.1</td><td>0.101</td><td>34</td><td>36</td><td>337</td><td>347</td><td>591</td><td>838</td><td>865</td><td>336</td><td>0.87</td><td>0.287</td><td>0.3911</td><td>0.4263</td><td>0.1895</td><td>0.1895</td><td>8.12</td><td>9606</td><td>&quot;Homo sapiens&quot;</td><td>&quot;-_cellular organisms;d_Eukaryo…</td><td>&quot;GPPVSSPRVQLKDGRHLAYREAG---VGRE…</td><td>&quot;MPKVEYRDIEIDD-YNLPMQILKPATFTDT…</td><td>180</td><td>&quot;0.148,0.138,0.184,0.193,0.285,…</td><td>309</td><td>981</td><td>&quot;63/309&quot;</td><td>&quot;69/981&quot;</td><td>20.4</td><td>7.0</td><td>31.1</td><td>11.0</td><td>&quot;109/309&quot;</td><td>&quot;750/981&quot;</td><td>35.3</td><td>76.5</td><td>53.0</td><td>23.0</td></tr><tr><td>&quot;Os06g0140700&quot;</td><td>&quot;Q5VPE3&quot;</td><td>&quot;P31270&quot;</td><td>0.00023</td><td>1.0</td><td>2</td><td>19.8</td><td>0.198</td><td>36</td><td>2</td><td>178</td><td>308</td><td>154</td><td>307</td><td>313</td><td>181</td><td>0.575</td><td>0.492</td><td>0.8389</td><td>0.2073</td><td>0.204</td><td>0.204</td><td>31.22</td><td>9606</td><td>&quot;Homo sapiens&quot;</td><td>&quot;-_cellular organisms;d_Eukaryo…</td><td>&quot;MDLGLSLGLGLASQGSLTSSTTTTSSPGAG…</td><td>&quot;LASSDYPGDKSAEKGPPAATATSAAAAAAA…</td><td>114</td><td>&quot;0.750,0.792,0.821,0.812,1.000,…</td><td>160</td><td>467</td><td>&quot;44/160&quot;</td><td>&quot;49/467&quot;</td><td>27.5</td><td>10.5</td><td>46.9</td><td>18.6</td><td>&quot;31/160&quot;</td><td>&quot;313/467&quot;</td><td>19.4</td><td>67.0</td><td>140.5</td><td>121.0</td></tr></tbody></table></div>"
      ],
      "text/plain": [
       "shape: (5, 44)\n",
       "┌───────────┬───────────┬───────────┬───────────┬───┬───────────┬───────────┬───────────┬──────────┐\n",
       "│ From      ┆ UniProt   ┆ foldseek  ┆ evalue    ┆ … ┆ Gaps_perc ┆ Gaps_perc ┆ Score_wat ┆ Score_ne │\n",
       "│ ---       ┆ Accession ┆ hit       ┆ ---       ┆   ┆ ent_water ┆ ent_needl ┆ er        ┆ edle     │\n",
       "│ str       ┆ ---       ┆ ---       ┆ f64       ┆   ┆ ---       ┆ e         ┆ ---       ┆ ---      │\n",
       "│           ┆ str       ┆ str       ┆           ┆   ┆ f64       ┆ ---       ┆ f64       ┆ f64      │\n",
       "│           ┆           ┆           ┆           ┆   ┆           ┆ f64       ┆           ┆          │\n",
       "╞═══════════╪═══════════╪═══════════╪═══════════╪═══╪═══════════╪═══════════╪═══════════╪══════════╡\n",
       "│ Os01g0859 ┆ A0A0P0VAM ┆ Q86WA6    ┆ 7.5990e-1 ┆ … ┆ 25.2      ┆ 29.9      ┆ 88.0      ┆ 76.0     │\n",
       "│ 200       ┆ 0         ┆           ┆ 0         ┆   ┆           ┆           ┆           ┆          │\n",
       "│ Os06g0140 ┆ Q5VPE3    ┆ P35548    ┆ 0.0002015 ┆ … ┆ 44.5      ┆ 48.3      ┆ 122.0     ┆ 109.0    │\n",
       "│ 700       ┆           ┆           ┆           ┆   ┆           ┆           ┆           ┆          │\n",
       "│ Os01g0859 ┆ Q94DD0    ┆ Q96DG6    ┆ 0.006012  ┆ … ┆ 38.5      ┆ 83.9      ┆ 40.0      ┆ 23.0     │\n",
       "│ 200       ┆           ┆           ┆           ┆   ┆           ┆           ┆           ┆          │\n",
       "│ Os01g0859 ┆ Q94DD0    ┆ P42658    ┆ 0.000033  ┆ … ┆ 35.3      ┆ 76.5      ┆ 53.0      ┆ 23.0     │\n",
       "│ 200       ┆           ┆           ┆           ┆   ┆           ┆           ┆           ┆          │\n",
       "│ Os06g0140 ┆ Q5VPE3    ┆ P31270    ┆ 0.00023   ┆ … ┆ 19.4      ┆ 67.0      ┆ 140.5     ┆ 121.0    │\n",
       "│ 700       ┆           ┆           ┆           ┆   ┆           ┆           ┆           ┆          │\n",
       "└───────────┴───────────┴───────────┴───────────┴───┴───────────┴───────────┴───────────┴──────────┘"
      ]
     },
     "metadata": {},
     "output_type": "display_data"
    }
   ],
   "source": [
    "join_foldseek = foldseek_result.join(\n",
    "    alignment_result,\n",
    "    on=[\"UniProt Accession\", \"foldseek hit\"],\n",
    "    how=\"left\",\n",
    "    coalesce=True\n",
    ").filter( # filter out null alignment result (this means current UniProt entry is obsolete)\n",
    "    pl.col(\"Length_water\").is_not_null() & \n",
    "    pl.col(\"Length_needle\").is_not_null()\n",
    ").unique()\n",
    "\n",
    "\n",
    "print(join_foldseek.group_by([\"UniProt Accession\", \"foldseek hit\"], maintain_order=True).n_unique())\n",
    "display(join_foldseek.head())"
   ]
  },
  {
   "cell_type": "markdown",
   "id": "b0425d5a",
   "metadata": {
    "papermill": {
     "duration": 0.00262,
     "end_time": "2024-11-15T03:34:16.976887",
     "exception": false,
     "start_time": "2024-11-15T03:34:16.974267",
     "status": "completed"
    },
    "tags": []
   },
   "source": [
    "&nbsp;\n",
    "\n",
    "&nbsp;"
   ]
  },
  {
   "cell_type": "markdown",
   "id": "5d9bee01",
   "metadata": {
    "papermill": {
     "duration": 0.0026,
     "end_time": "2024-11-15T03:34:16.982210",
     "exception": false,
     "start_time": "2024-11-15T03:34:16.979610",
     "status": "completed"
    },
    "tags": []
   },
   "source": [
    "## Create Scatter Plot for all hits (sequence alignment info vs LDDT)"
   ]
  },
  {
   "cell_type": "code",
   "execution_count": 11,
   "id": "c06d52ce",
   "metadata": {
    "execution": {
     "iopub.execute_input": "2024-11-15T03:34:16.987776Z",
     "iopub.status.busy": "2024-11-15T03:34:16.987699Z",
     "iopub.status.idle": "2024-11-15T03:34:17.115216Z",
     "shell.execute_reply": "2024-11-15T03:34:17.114999Z"
    },
    "papermill": {
     "duration": 0.130777,
     "end_time": "2024-11-15T03:34:17.115610",
     "exception": false,
     "start_time": "2024-11-15T03:34:16.984833",
     "status": "completed"
    },
    "tags": []
   },
   "outputs": [
    {
     "data": {
      "text/plain": [
       "<Figure size 4000x4000 with 0 Axes>"
      ]
     },
     "metadata": {},
     "output_type": "display_data"
    },
    {
     "data": {
      "image/png": "[encoded data removed]",
      "text/plain": [
       "<Figure size 1100x1100 with 3 Axes>"
      ]
     },
     "metadata": {},
     "output_type": "display_data"
    },
    {
     "data": {
      "text/plain": [
       "<Figure size 5000x5000 with 0 Axes>"
      ]
     },
     "metadata": {},
     "output_type": "display_data"
    }
   ],
   "source": [
    "plt.figure(figsize=(8, 8), dpi=500)\n",
    "\n",
    "sns.jointplot(\n",
    "    data=join_foldseek,\n",
    "    x=\"Similarity_percent_needle\", # You can also use Identity_percent_water, Similarity_percent_needle, Similarity_percent_water\n",
    "    y=\"lddt\",\n",
    "    color=\"darkcyan\",\n",
    "    height=11,\n",
    "    ratio=4,\n",
    "    marginal_ticks=True\n",
    ")\n",
    "\n",
    "# highlight the region of interest\n",
    "# plt.fill_betweenx(\n",
    "#     y=[0.5, 1],\n",
    "#     x1=-0.5,\n",
    "#     x2=25,\n",
    "#     color=\"red\",\n",
    "#     alpha=0.1\n",
    "# )\n",
    "\n",
    "plt.xlim(-0.5,100.5)\n",
    "plt.ylim(0,1)\n",
    "plt.xlabel(\"global alignment similarity(%)\")\n",
    "plt.ylabel(\"LDDT\")\n",
    "plt.axvline(x=25, color=\"black\", linestyle=\":\")\n",
    "plt.axvline(x=50, color=\"black\", linestyle=\":\")\n",
    "plt.axvline(x=75, color=\"black\", linestyle=\":\")\n",
    "plt.axhline(y=0.5, color=\"black\", linestyle=\":\")\n",
    "plt.figure(figsize=(10, 10), dpi=500)\n",
    "plt.show()"
   ]
  },
  {
   "cell_type": "markdown",
   "id": "847f0d1c",
   "metadata": {
    "papermill": {
     "duration": 0.00324,
     "end_time": "2024-11-15T03:34:17.122261",
     "exception": false,
     "start_time": "2024-11-15T03:34:17.119021",
     "status": "completed"
    },
    "tags": []
   },
   "source": [
    "&nbsp;\n",
    "\n",
    "&nbsp;\n",
    "\n",
    "&nbsp;\n"
   ]
  },
  {
   "cell_type": "markdown",
   "id": "774b9aa6",
   "metadata": {
    "papermill": {
     "duration": 0.003272,
     "end_time": "2024-11-15T03:34:17.128946",
     "exception": false,
     "start_time": "2024-11-15T03:34:17.125674",
     "status": "completed"
    },
    "tags": []
   },
   "source": [
    "# Caution:\n",
    "- The filtering steps that are executed below can be changed freely."
   ]
  },
  {
   "cell_type": "markdown",
   "id": "7d4ac7c5",
   "metadata": {
    "papermill": {
     "duration": 0.003067,
     "end_time": "2024-11-15T03:34:17.135300",
     "exception": false,
     "start_time": "2024-11-15T03:34:17.132233",
     "status": "completed"
    },
    "tags": []
   },
   "source": [
    "&nbsp;"
   ]
  },
  {
   "cell_type": "markdown",
   "id": "dc7f874b",
   "metadata": {
    "papermill": {
     "duration": 0.002968,
     "end_time": "2024-11-15T03:34:17.141335",
     "exception": false,
     "start_time": "2024-11-15T03:34:17.138367",
     "status": "completed"
    },
    "tags": []
   },
   "source": [
    "## Filtering Condition1\n",
    "\n",
    "- Select the ones that have foldseek hit"
   ]
  },
  {
   "cell_type": "code",
   "execution_count": 12,
   "id": "19bcc35f",
   "metadata": {
    "execution": {
     "iopub.execute_input": "2024-11-15T03:34:17.147969Z",
     "iopub.status.busy": "2024-11-15T03:34:17.147787Z",
     "iopub.status.idle": "2024-11-15T03:34:17.157361Z",
     "shell.execute_reply": "2024-11-15T03:34:17.157017Z"
    },
    "papermill": {
     "duration": 0.013358,
     "end_time": "2024-11-15T03:34:17.157778",
     "exception": false,
     "start_time": "2024-11-15T03:34:17.144420",
     "status": "completed"
    },
    "tags": []
   },
   "outputs": [
    {
     "data": {
      "text/html": [
       "<div><style>\n",
       ".dataframe > thead > tr,\n",
       ".dataframe > tbody > tr {\n",
       "  text-align: right;\n",
       "  white-space: pre-wrap;\n",
       "}\n",
       "</style>\n",
       "<small>shape: (10, 3)</small><table border=\"1\" class=\"dataframe\"><thead><tr><th>From</th><th>target hit count (gene level vs uniprot accession)</th><th>foldseek no hit</th></tr><tr><td>str</td><td>u32</td><td>bool</td></tr></thead><tbody><tr><td>&quot;Os01g0859200&quot;</td><td>168</td><td>false</td></tr><tr><td>&quot;Os06g0140700&quot;</td><td>121</td><td>false</td></tr><tr><td>&quot;Os04g0391500&quot;</td><td>17</td><td>false</td></tr><tr><td>&quot;Os01g0187600&quot;</td><td>1</td><td>false</td></tr><tr><td>&quot;Os02g0609000&quot;</td><td>0</td><td>true</td></tr><tr><td>&quot;Os12g0129300&quot;</td><td>0</td><td>true</td></tr><tr><td>&quot;Os05g0468600&quot;</td><td>0</td><td>true</td></tr><tr><td>&quot;Os01g0795250&quot;</td><td>0</td><td>true</td></tr><tr><td>&quot;Os12g0159500&quot;</td><td>0</td><td>true</td></tr><tr><td>&quot;Os05g0352750&quot;</td><td>0</td><td>true</td></tr></tbody></table></div>"
      ],
      "text/plain": [
       "shape: (10, 3)\n",
       "┌──────────────┬─────────────────────────────────┬─────────────────┐\n",
       "│ From         ┆ target hit count (gene level v… ┆ foldseek no hit │\n",
       "│ ---          ┆ ---                             ┆ ---             │\n",
       "│ str          ┆ u32                             ┆ bool            │\n",
       "╞══════════════╪═════════════════════════════════╪═════════════════╡\n",
       "│ Os01g0859200 ┆ 168                             ┆ false           │\n",
       "│ Os06g0140700 ┆ 121                             ┆ false           │\n",
       "│ Os04g0391500 ┆ 17                              ┆ false           │\n",
       "│ Os01g0187600 ┆ 1                               ┆ false           │\n",
       "│ Os02g0609000 ┆ 0                               ┆ true            │\n",
       "│ Os12g0129300 ┆ 0                               ┆ true            │\n",
       "│ Os05g0468600 ┆ 0                               ┆ true            │\n",
       "│ Os01g0795250 ┆ 0                               ┆ true            │\n",
       "│ Os12g0159500 ┆ 0                               ┆ true            │\n",
       "│ Os05g0352750 ┆ 0                               ┆ true            │\n",
       "└──────────────┴─────────────────────────────────┴─────────────────┘"
      ]
     },
     "metadata": {},
     "output_type": "display_data"
    }
   ],
   "source": [
    "all_gene_list = pl.read_csv(\n",
    "    query_gene_list_tsv_path,\n",
    "    separator='\\t'\n",
    ").select(\n",
    "    \"From\"\n",
    ").unique()\n",
    "\n",
    "hit_count = all_gene_list.join(\n",
    "    join_foldseek,\n",
    "    on=\"From\",\n",
    "    how=\"left\",\n",
    "    coalesce=True\n",
    ").group_by(\"From\", maintain_order=True).agg(\n",
    "    (pl.col(\"foldseek hit\").count().alias(\"target hit count (gene level vs uniprot accession)\")),\n",
    "    (pl.col(\"foldseek hit\").is_null().all().alias(\"foldseek no hit\"))\n",
    ").sort(\n",
    "    [\"target hit count (gene level vs uniprot accession)\"], descending=True\n",
    ")\n",
    "\n",
    "display(hit_count)"
   ]
  },
  {
   "cell_type": "markdown",
   "id": "7676419f",
   "metadata": {
    "papermill": {
     "duration": 0.003061,
     "end_time": "2024-11-15T03:34:17.164194",
     "exception": false,
     "start_time": "2024-11-15T03:34:17.161133",
     "status": "completed"
    },
    "tags": []
   },
   "source": [
    "### Filter out the ones that have no foldseek hit"
   ]
  },
  {
   "cell_type": "code",
   "execution_count": 13,
   "id": "c02ba089",
   "metadata": {
    "execution": {
     "iopub.execute_input": "2024-11-15T03:34:17.170735Z",
     "iopub.status.busy": "2024-11-15T03:34:17.170644Z",
     "iopub.status.idle": "2024-11-15T03:34:17.176453Z",
     "shell.execute_reply": "2024-11-15T03:34:17.176170Z"
    },
    "papermill": {
     "duration": 0.009563,
     "end_time": "2024-11-15T03:34:17.176839",
     "exception": false,
     "start_time": "2024-11-15T03:34:17.167276",
     "status": "completed"
    },
    "tags": []
   },
   "outputs": [
    {
     "name": "stdout",
     "output_type": "stream",
     "text": [
      "shape: (6, 4)\n",
      "┌──────────────┬─────────────────────────────────┬─────────────────┬───────────────────┐\n",
      "│ From         ┆ target hit count (gene level v… ┆ foldseek no hit ┆ UniProt Accession │\n",
      "│ ---          ┆ ---                             ┆ ---             ┆ ---               │\n",
      "│ str          ┆ u32                             ┆ u32             ┆ u32               │\n",
      "╞══════════════╪═════════════════════════════════╪═════════════════╪═══════════════════╡\n",
      "│ Os01g0795250 ┆ 1                               ┆ 1               ┆ 1                 │\n",
      "│ Os02g0609000 ┆ 1                               ┆ 1               ┆ 2                 │\n",
      "│ Os05g0352750 ┆ 1                               ┆ 1               ┆ 1                 │\n",
      "│ Os05g0468600 ┆ 1                               ┆ 1               ┆ 1                 │\n",
      "│ Os12g0129300 ┆ 1                               ┆ 1               ┆ 2                 │\n",
      "│ Os12g0159500 ┆ 1                               ┆ 1               ┆ 3                 │\n",
      "└──────────────┴─────────────────────────────────┴─────────────────┴───────────────────┘\n"
     ]
    },
    {
     "data": {
      "text/html": [
       "<div><style>\n",
       ".dataframe > thead > tr,\n",
       ".dataframe > tbody > tr {\n",
       "  text-align: right;\n",
       "  white-space: pre-wrap;\n",
       "}\n",
       "</style>\n",
       "<small>shape: (5, 4)</small><table border=\"1\" class=\"dataframe\"><thead><tr><th>From</th><th>target hit count (gene level vs uniprot accession)</th><th>foldseek no hit</th><th>UniProt Accession</th></tr><tr><td>str</td><td>u32</td><td>bool</td><td>str</td></tr></thead><tbody><tr><td>&quot;Os01g0795250&quot;</td><td>0</td><td>true</td><td>&quot;A0A0P0V975&quot;</td></tr><tr><td>&quot;Os02g0609000&quot;</td><td>0</td><td>true</td><td>&quot;B9F105&quot;</td></tr><tr><td>&quot;Os02g0609000&quot;</td><td>0</td><td>true</td><td>&quot;Q6K1X4&quot;</td></tr><tr><td>&quot;Os05g0352750&quot;</td><td>0</td><td>true</td><td>&quot;A0A0N7KKL4&quot;</td></tr><tr><td>&quot;Os05g0468600&quot;</td><td>0</td><td>true</td><td>&quot;A0A0P0WNJ6&quot;</td></tr></tbody></table></div>"
      ],
      "text/plain": [
       "shape: (5, 4)\n",
       "┌──────────────┬─────────────────────────────────┬─────────────────┬───────────────────┐\n",
       "│ From         ┆ target hit count (gene level v… ┆ foldseek no hit ┆ UniProt Accession │\n",
       "│ ---          ┆ ---                             ┆ ---             ┆ ---               │\n",
       "│ str          ┆ u32                             ┆ bool            ┆ str               │\n",
       "╞══════════════╪═════════════════════════════════╪═════════════════╪═══════════════════╡\n",
       "│ Os01g0795250 ┆ 0                               ┆ true            ┆ A0A0P0V975        │\n",
       "│ Os02g0609000 ┆ 0                               ┆ true            ┆ B9F105            │\n",
       "│ Os02g0609000 ┆ 0                               ┆ true            ┆ Q6K1X4            │\n",
       "│ Os05g0352750 ┆ 0                               ┆ true            ┆ A0A0N7KKL4        │\n",
       "│ Os05g0468600 ┆ 0                               ┆ true            ┆ A0A0P0WNJ6        │\n",
       "└──────────────┴─────────────────────────────────┴─────────────────┴───────────────────┘"
      ]
     },
     "metadata": {},
     "output_type": "display_data"
    }
   ],
   "source": [
    "no_hit_genes_list = hit_count.filter(\n",
    "    pl.col(\"foldseek no hit\") == True\n",
    ")\n",
    "\n",
    "idmapping_list = pl.read_csv(\n",
    "    query_uniprot_idmapping_tsv,\n",
    "    separator='\\t'\n",
    ")\n",
    "  \n",
    "no_hit_idmapping_list = no_hit_genes_list.join(\n",
    "    idmapping_list,\n",
    "    on=\"From\",\n",
    "    how=\"left\"\n",
    ").sort(\n",
    "    by=[\"From\"],\n",
    "    descending=[False]\n",
    ")\n",
    "\n",
    "print(no_hit_idmapping_list.group_by([\"From\"], maintain_order=True).n_unique())\n",
    "display(no_hit_idmapping_list.head())"
   ]
  },
  {
   "cell_type": "markdown",
   "id": "6ee67482",
   "metadata": {
    "papermill": {
     "duration": 0.00315,
     "end_time": "2024-11-15T03:34:17.183238",
     "exception": false,
     "start_time": "2024-11-15T03:34:17.180088",
     "status": "completed"
    },
    "tags": []
   },
   "source": [
    "&nbsp;\n",
    "\n",
    "&nbsp;"
   ]
  },
  {
   "cell_type": "markdown",
   "id": "aa9c502a",
   "metadata": {
    "papermill": {
     "duration": 0.003088,
     "end_time": "2024-11-15T03:34:17.189513",
     "exception": false,
     "start_time": "2024-11-15T03:34:17.186425",
     "status": "completed"
    },
    "tags": []
   },
   "source": [
    "## Filtering Condition2"
   ]
  },
  {
   "cell_type": "code",
   "execution_count": 14,
   "id": "fc311864",
   "metadata": {
    "execution": {
     "iopub.execute_input": "2024-11-15T03:34:17.196053Z",
     "iopub.status.busy": "2024-11-15T03:34:17.195972Z",
     "iopub.status.idle": "2024-11-15T03:34:17.201971Z",
     "shell.execute_reply": "2024-11-15T03:34:17.201741Z"
    },
    "papermill": {
     "duration": 0.009667,
     "end_time": "2024-11-15T03:34:17.202302",
     "exception": false,
     "start_time": "2024-11-15T03:34:17.192635",
     "status": "completed"
    },
    "tags": []
   },
   "outputs": [
    {
     "name": "stdout",
     "output_type": "stream",
     "text": [
      "shape: (4, 44)\n",
      "┌────────────┬────────────┬───────────┬────────┬───┬───────────┬───────────┬───────────┬───────────┐\n",
      "│ From       ┆ foldseek   ┆ UniProt   ┆ evalue ┆ … ┆ Gaps_perc ┆ Gaps_perc ┆ Score_wat ┆ Score_nee │\n",
      "│ ---        ┆ hit        ┆ Accession ┆ ---    ┆   ┆ ent_water ┆ ent_needl ┆ er        ┆ dle       │\n",
      "│ str        ┆ ---        ┆ ---       ┆ u32    ┆   ┆ ---       ┆ e         ┆ ---       ┆ ---       │\n",
      "│            ┆ u32        ┆ u32       ┆        ┆   ┆ u32       ┆ ---       ┆ u32       ┆ u32       │\n",
      "│            ┆            ┆           ┆        ┆   ┆           ┆ u32       ┆           ┆           │\n",
      "╞════════════╪════════════╪═══════════╪════════╪═══╪═══════════╪═══════════╪═══════════╪═══════════╡\n",
      "│ Os01g01876 ┆ 1          ┆ 1         ┆ 1      ┆ … ┆ 1         ┆ 1         ┆ 1         ┆ 1         │\n",
      "│ 00         ┆            ┆           ┆        ┆   ┆           ┆           ┆           ┆           │\n",
      "│ Os01g08592 ┆ 89         ┆ 2         ┆ 86     ┆ … ┆ 82        ┆ 80        ┆ 62        ┆ 66        │\n",
      "│ 00         ┆            ┆           ┆        ┆   ┆           ┆           ┆           ┆           │\n",
      "│ Os04g03915 ┆ 14         ┆ 3         ┆ 13     ┆ … ┆ 14        ┆ 14        ┆ 14        ┆ 12        │\n",
      "│ 00         ┆            ┆           ┆        ┆   ┆           ┆           ┆           ┆           │\n",
      "│ Os06g01407 ┆ 121        ┆ 1         ┆ 84     ┆ … ┆ 95        ┆ 102       ┆ 83        ┆ 86        │\n",
      "│ 00         ┆            ┆           ┆        ┆   ┆           ┆           ┆           ┆           │\n",
      "└────────────┴────────────┴───────────┴────────┴───┴───────────┴───────────┴───────────┴───────────┘\n"
     ]
    },
    {
     "data": {
      "text/html": [
       "<div><style>\n",
       ".dataframe > thead > tr,\n",
       ".dataframe > tbody > tr {\n",
       "  text-align: right;\n",
       "  white-space: pre-wrap;\n",
       "}\n",
       "</style>\n",
       "<small>shape: (225, 44)</small><table border=\"1\" class=\"dataframe\"><thead><tr><th>From</th><th>foldseek hit</th><th>UniProt Accession</th><th>evalue</th><th>prob</th><th>gapopen</th><th>pident</th><th>fident</th><th>nident</th><th>qstart</th><th>qend</th><th>qlen</th><th>tstart</th><th>tend</th><th>tlen</th><th>alnlen</th><th>qcov</th><th>tcov</th><th>lddt</th><th>qtmscore</th><th>ttmscore</th><th>alntmscore</th><th>rmsd</th><th>taxid</th><th>taxname</th><th>taxlineage</th><th>qaln</th><th>taln</th><th>mismatch</th><th>lddtfull</th><th>Length_water</th><th>Length_needle</th><th>Identity_water</th><th>Identity_needle</th><th>Identity_percent_water</th><th>Identity_percent_needle</th><th>Similarity_percent_water</th><th>Similarity_percent_needle</th><th>Gaps_water</th><th>Gaps_needle</th><th>Gaps_percent_water</th><th>Gaps_percent_needle</th><th>Score_water</th><th>Score_needle</th></tr><tr><td>str</td><td>str</td><td>str</td><td>f64</td><td>f64</td><td>i64</td><td>f64</td><td>f64</td><td>i64</td><td>i64</td><td>i64</td><td>i64</td><td>i64</td><td>i64</td><td>i64</td><td>i64</td><td>f64</td><td>f64</td><td>f64</td><td>f64</td><td>f64</td><td>f64</td><td>f64</td><td>i64</td><td>str</td><td>str</td><td>str</td><td>str</td><td>i64</td><td>str</td><td>i64</td><td>i64</td><td>str</td><td>str</td><td>f64</td><td>f64</td><td>f64</td><td>f64</td><td>str</td><td>str</td><td>f64</td><td>f64</td><td>f64</td><td>f64</td></tr></thead><tbody><tr><td>&quot;Os01g0187600&quot;</td><td>&quot;P82664&quot;</td><td>&quot;A0A0P0UZ77&quot;</td><td>0.01979</td><td>0.15</td><td>12</td><td>9.9</td><td>0.099</td><td>20</td><td>9</td><td>187</td><td>236</td><td>38</td><td>199</td><td>201</td><td>201</td><td>0.758</td><td>0.806</td><td>0.2763</td><td>0.1732</td><td>0.1954</td><td>0.1954</td><td>24.54</td><td>9606</td><td>&quot;Homo sapiens&quot;</td><td>&quot;-_cellular organisms;d_Eukaryo…</td><td>&quot;ETVTCSKAVNSDLFDAVLGGLGQFGVITRA…</td><td>&quot;LSTNMKWVQFSNLHVDVPKDL----TKPVV…</td><td>120</td><td>&quot;0.152,0.167,0.157,0.154,0.171,…</td><td>40</td><td>418</td><td>&quot;13/40&quot;</td><td>&quot;7/418&quot;</td><td>32.5</td><td>1.7</td><td>47.5</td><td>1.9</td><td>&quot;3/40&quot;</td><td>&quot;399/418&quot;</td><td>7.5</td><td>95.5</td><td>28.5</td><td>7.5</td></tr><tr><td>&quot;Os01g0859200&quot;</td><td>&quot;O95870&quot;</td><td>&quot;A0A0P0VAM0&quot;</td><td>0.000098</td><td>0.991</td><td>21</td><td>13.4</td><td>0.134</td><td>47</td><td>43</td><td>322</td><td>347</td><td>254</td><td>543</td><td>558</td><td>350</td><td>0.807</td><td>0.52</td><td>0.3557</td><td>0.3232</td><td>0.2119</td><td>0.2119</td><td>18.28</td><td>9606</td><td>&quot;Homo sapiens&quot;</td><td>&quot;-_cellular organisms;d_Eukaryo…</td><td>&quot;RVQLKDGRHLAYREAGVGREIAK-----YK…</td><td>&quot;KLLACDGNEIDTMF--VDRRGTAEPQGQKL…</td><td>173</td><td>&quot;0.602,0.644,0.591,0.543,0.516,…</td><td>67</td><td>639</td><td>&quot;17/67&quot;</td><td>&quot;77/639&quot;</td><td>25.4</td><td>12.1</td><td>47.8</td><td>19.6</td><td>&quot;4/67&quot;</td><td>&quot;373/639&quot;</td><td>6.0</td><td>58.4</td><td>51.0</td><td>19.5</td></tr><tr><td>&quot;Os01g0859200&quot;</td><td>&quot;P07098&quot;</td><td>&quot;A0A0P0VAM0&quot;</td><td>9.7090e-10</td><td>1.0</td><td>23</td><td>13.9</td><td>0.139</td><td>51</td><td>40</td><td>337</td><td>347</td><td>47</td><td>388</td><td>398</td><td>366</td><td>0.859</td><td>0.859</td><td>0.4341</td><td>0.5134</td><td>0.4581</td><td>0.4581</td><td>7.891</td><td>9606</td><td>&quot;Homo sapiens&quot;</td><td>&quot;-_cellular organisms;d_Eukaryo…</td><td>&quot;SSPRVQLKDGRHLAYRE--------AGVGR…</td><td>&quot;EEYEVVTEDGYILEVNRIPYGKKNSGNTGQ…</td><td>223</td><td>&quot;0.209,0.327,0.553,0.668,0.745,…</td><td>420</td><td>460</td><td>&quot;86/420&quot;</td><td>&quot;92/460&quot;</td><td>20.5</td><td>20.0</td><td>33.1</td><td>32.6</td><td>&quot;155/420&quot;</td><td>&quot;175/460&quot;</td><td>36.9</td><td>38.0</td><td>67.5</td><td>65.0</td></tr><tr><td>&quot;Os01g0859200&quot;</td><td>&quot;P07099&quot;</td><td>&quot;A0A0P0VAM0&quot;</td><td>0.000002</td><td>1.0</td><td>21</td><td>12.2</td><td>0.122</td><td>43</td><td>43</td><td>336</td><td>347</td><td>117</td><td>447</td><td>455</td><td>352</td><td>0.847</td><td>0.727</td><td>0.4568</td><td>0.5356</td><td>0.4248</td><td>0.4248</td><td>7.628</td><td>9606</td><td>&quot;Homo sapiens&quot;</td><td>&quot;-_cellular organisms;d_Eukaryo…</td><td>&quot;RVQLKDGRHLAYREAG---VGREIAKYKII…</td><td>&quot;KTKI-EGLDIHFIHVKPPQLPAGHTPKPLL…</td><td>230</td><td>&quot;0.633,0.628,0.665,0.750,0.610,…</td><td>396</td><td>565</td><td>&quot;73/396&quot;</td><td>&quot;80/565&quot;</td><td>18.4</td><td>14.2</td><td>29.3</td><td>22.7</td><td>&quot;192/396&quot;</td><td>&quot;328/565&quot;</td><td>48.5</td><td>58.1</td><td>90.5</td><td>71.5</td></tr><tr><td>&quot;Os01g0859200&quot;</td><td>&quot;P10619&quot;</td><td>&quot;A0A0P0VAM0&quot;</td><td>0.000002</td><td>1.0</td><td>31</td><td>12.8</td><td>0.128</td><td>63</td><td>7</td><td>344</td><td>347</td><td>11</td><td>479</td><td>480</td><td>492</td><td>0.974</td><td>0.977</td><td>0.4143</td><td>0.5182</td><td>0.3906</td><td>0.3906</td><td>19.73</td><td>9606</td><td>&quot;Homo sapiens&quot;</td><td>&quot;-_cellular organisms;d_Eukaryo…</td><td>&quot;LVLITAVALLGWAYKVARPP------PPPI…</td><td>&quot;LLLLLLLLLVSWASRGEAAPDQDEIQRLP-…</td><td>252</td><td>&quot;0.600,0.625,0.647,0.667,0.681,…</td><td>254</td><td>559</td><td>&quot;51/254&quot;</td><td>&quot;77/559&quot;</td><td>20.1</td><td>13.8</td><td>34.3</td><td>24.0</td><td>&quot;80/254&quot;</td><td>&quot;291/559&quot;</td><td>31.5</td><td>52.1</td><td>72.0</td><td>53.5</td></tr><tr><td>&hellip;</td><td>&hellip;</td><td>&hellip;</td><td>&hellip;</td><td>&hellip;</td><td>&hellip;</td><td>&hellip;</td><td>&hellip;</td><td>&hellip;</td><td>&hellip;</td><td>&hellip;</td><td>&hellip;</td><td>&hellip;</td><td>&hellip;</td><td>&hellip;</td><td>&hellip;</td><td>&hellip;</td><td>&hellip;</td><td>&hellip;</td><td>&hellip;</td><td>&hellip;</td><td>&hellip;</td><td>&hellip;</td><td>&hellip;</td><td>&hellip;</td><td>&hellip;</td><td>&hellip;</td><td>&hellip;</td><td>&hellip;</td><td>&hellip;</td><td>&hellip;</td><td>&hellip;</td><td>&hellip;</td><td>&hellip;</td><td>&hellip;</td><td>&hellip;</td><td>&hellip;</td><td>&hellip;</td><td>&hellip;</td><td>&hellip;</td><td>&hellip;</td><td>&hellip;</td><td>&hellip;</td><td>&hellip;</td></tr><tr><td>&quot;Os06g0140700&quot;</td><td>&quot;Q9NZR4&quot;</td><td>&quot;Q5VPE3&quot;</td><td>0.0007067</td><td>0.941</td><td>9</td><td>17.8</td><td>0.178</td><td>60</td><td>1</td><td>307</td><td>308</td><td>73</td><td>352</td><td>365</td><td>337</td><td>0.997</td><td>0.767</td><td>0.7205</td><td>0.1776</td><td>0.1509</td><td>0.1509</td><td>36.19</td><td>9606</td><td>&quot;Homo sapiens&quot;</td><td>&quot;-_cellular organisms;d_Eukaryo…</td><td>&quot;MMDLGLSLGLGLASQGSLTSSTTTTSSPGA…</td><td>&quot;LARGALPLGLGLLCGFGTQPPAAARAPCLL…</td><td>190</td><td>&quot;0.812,0.900,0.875,0.929,0.938,…</td><td>208</td><td>431</td><td>&quot;49/208&quot;</td><td>&quot;73/431&quot;</td><td>23.6</td><td>16.9</td><td>37.5</td><td>27.8</td><td>&quot;45/208&quot;</td><td>&quot;189/431&quot;</td><td>21.6</td><td>43.9</td><td>100.5</td><td>82.0</td></tr><tr><td>&quot;Os06g0140700&quot;</td><td>&quot;Q9UD57&quot;</td><td>&quot;Q5VPE3&quot;</td><td>0.00105</td><td>0.933</td><td>9</td><td>17.5</td><td>0.175</td><td>59</td><td>1</td><td>308</td><td>308</td><td>48</td><td>302</td><td>310</td><td>337</td><td>1.0</td><td>0.823</td><td>0.7367</td><td>0.1788</td><td>0.1777</td><td>0.1777</td><td>42.01</td><td>9606</td><td>&quot;Homo sapiens&quot;</td><td>&quot;-_cellular organisms;d_Eukaryo…</td><td>&quot;MMDLGLSLGLGLASQGSLTS-STTTTSSPG…</td><td>&quot;KSLAEVEAGKDASSRDPVRQLETPDAAGPG…</td><td>167</td><td>&quot;0.812,0.900,0.875,0.893,0.906,…</td><td>284</td><td>384</td><td>&quot;70/284&quot;</td><td>&quot;74/384&quot;</td><td>24.6</td><td>19.3</td><td>33.8</td><td>28.1</td><td>&quot;83/284&quot;</td><td>&quot;150/384&quot;</td><td>29.2</td><td>39.1</td><td>133.0</td><td>111.5</td></tr><tr><td>&quot;Os06g0140700&quot;</td><td>&quot;Q9UIW0&quot;</td><td>&quot;Q5VPE3&quot;</td><td>0.0001356</td><td>0.999</td><td>4</td><td>17.6</td><td>0.176</td><td>50</td><td>62</td><td>308</td><td>308</td><td>16</td><td>290</td><td>290</td><td>283</td><td>0.802</td><td>0.948</td><td>0.7328</td><td>0.2492</td><td>0.2632</td><td>0.2632</td><td>27.37</td><td>9606</td><td>&quot;Homo sapiens&quot;</td><td>&quot;-_cellular organisms;d_Eukaryo…</td><td>&quot;VGVGGEEMYQGRASTSPDSAAALSSASGKR…</td><td>&quot;AESGGGGGRCGDRSGAGDLRADGGGHSPTE…</td><td>189</td><td>&quot;0.269,0.417,0.523,0.675,0.778,…</td><td>270</td><td>383</td><td>&quot;62/270&quot;</td><td>&quot;72/383&quot;</td><td>23.0</td><td>18.8</td><td>34.8</td><td>27.4</td><td>&quot;88/270&quot;</td><td>&quot;168/383&quot;</td><td>32.6</td><td>43.9</td><td>139.5</td><td>129.0</td></tr><tr><td>&quot;Os06g0140700&quot;</td><td>&quot;Q9Y2V3&quot;</td><td>&quot;Q5VPE3&quot;</td><td>0.0007067</td><td>0.967</td><td>5</td><td>17.3</td><td>0.173</td><td>44</td><td>63</td><td>306</td><td>308</td><td>78</td><td>300</td><td>346</td><td>253</td><td>0.792</td><td>0.645</td><td>0.7016</td><td>0.1694</td><td>0.1511</td><td>0.1511</td><td>33.24</td><td>9606</td><td>&quot;Homo sapiens&quot;</td><td>&quot;-_cellular organisms;d_Eukaryo…</td><td>&quot;GVGGEEMYQGRASTSPDSAAALSSASGKRE…</td><td>&quot;EEGSEPSPPPAPAPAPEYEAPRPYCPKEPG…</td><td>170</td><td>&quot;0.250,0.341,0.475,0.667,0.938,…</td><td>174</td><td>414</td><td>&quot;38/174&quot;</td><td>&quot;70/414&quot;</td><td>21.8</td><td>16.9</td><td>35.6</td><td>24.6</td><td>&quot;51/174&quot;</td><td>&quot;174/414&quot;</td><td>29.3</td><td>42.0</td><td>86.5</td><td>65.5</td></tr><tr><td>&quot;Os06g0140700&quot;</td><td>&quot;Q9Y6X8&quot;</td><td>&quot;Q5VPE3&quot;</td><td>0.06732</td><td>0.473</td><td>4</td><td>12.6</td><td>0.126</td><td>34</td><td>41</td><td>308</td><td>308</td><td>574</td><td>797</td><td>837</td><td>268</td><td>0.87</td><td>0.268</td><td>0.6583</td><td>0.1987</td><td>0.07857</td><td>0.07857</td><td>35.63</td><td>9606</td><td>&quot;Homo sapiens&quot;</td><td>&quot;-_cellular organisms;d_Eukaryo…</td><td>&quot;NSIVGDVRRDQAAAHAAAAVGVGVGGEEMY…</td><td>&quot;DSWFSERRKLRDSMEQAVLDSMGSGKKGQD…</td><td>190</td><td>&quot;0.290,0.370,0.355,0.364,0.481,…</td><td>157</td><td>892</td><td>&quot;34/157&quot;</td><td>&quot;59/892&quot;</td><td>21.7</td><td>6.6</td><td>36.3</td><td>11.2</td><td>&quot;30/157&quot;</td><td>&quot;639/892&quot;</td><td>19.1</td><td>71.6</td><td>67.5</td><td>37.5</td></tr></tbody></table></div>"
      ],
      "text/plain": [
       "shape: (225, 44)\n",
       "┌───────────┬───────────┬───────────┬───────────┬───┬───────────┬───────────┬───────────┬──────────┐\n",
       "│ From      ┆ foldseek  ┆ UniProt   ┆ evalue    ┆ … ┆ Gaps_perc ┆ Gaps_perc ┆ Score_wat ┆ Score_ne │\n",
       "│ ---       ┆ hit       ┆ Accession ┆ ---       ┆   ┆ ent_water ┆ ent_needl ┆ er        ┆ edle     │\n",
       "│ str       ┆ ---       ┆ ---       ┆ f64       ┆   ┆ ---       ┆ e         ┆ ---       ┆ ---      │\n",
       "│           ┆ str       ┆ str       ┆           ┆   ┆ f64       ┆ ---       ┆ f64       ┆ f64      │\n",
       "│           ┆           ┆           ┆           ┆   ┆           ┆ f64       ┆           ┆          │\n",
       "╞═══════════╪═══════════╪═══════════╪═══════════╪═══╪═══════════╪═══════════╪═══════════╪══════════╡\n",
       "│ Os01g0187 ┆ P82664    ┆ A0A0P0UZ7 ┆ 0.01979   ┆ … ┆ 7.5       ┆ 95.5      ┆ 28.5      ┆ 7.5      │\n",
       "│ 600       ┆           ┆ 7         ┆           ┆   ┆           ┆           ┆           ┆          │\n",
       "│ Os01g0859 ┆ O95870    ┆ A0A0P0VAM ┆ 0.000098  ┆ … ┆ 6.0       ┆ 58.4      ┆ 51.0      ┆ 19.5     │\n",
       "│ 200       ┆           ┆ 0         ┆           ┆   ┆           ┆           ┆           ┆          │\n",
       "│ Os01g0859 ┆ P07098    ┆ A0A0P0VAM ┆ 9.7090e-1 ┆ … ┆ 36.9      ┆ 38.0      ┆ 67.5      ┆ 65.0     │\n",
       "│ 200       ┆           ┆ 0         ┆ 0         ┆   ┆           ┆           ┆           ┆          │\n",
       "│ Os01g0859 ┆ P07099    ┆ A0A0P0VAM ┆ 0.000002  ┆ … ┆ 48.5      ┆ 58.1      ┆ 90.5      ┆ 71.5     │\n",
       "│ 200       ┆           ┆ 0         ┆           ┆   ┆           ┆           ┆           ┆          │\n",
       "│ Os01g0859 ┆ P10619    ┆ A0A0P0VAM ┆ 0.000002  ┆ … ┆ 31.5      ┆ 52.1      ┆ 72.0      ┆ 53.5     │\n",
       "│ 200       ┆           ┆ 0         ┆           ┆   ┆           ┆           ┆           ┆          │\n",
       "│ …         ┆ …         ┆ …         ┆ …         ┆ … ┆ …         ┆ …         ┆ …         ┆ …        │\n",
       "│ Os06g0140 ┆ Q9NZR4    ┆ Q5VPE3    ┆ 0.0007067 ┆ … ┆ 21.6      ┆ 43.9      ┆ 100.5     ┆ 82.0     │\n",
       "│ 700       ┆           ┆           ┆           ┆   ┆           ┆           ┆           ┆          │\n",
       "│ Os06g0140 ┆ Q9UD57    ┆ Q5VPE3    ┆ 0.00105   ┆ … ┆ 29.2      ┆ 39.1      ┆ 133.0     ┆ 111.5    │\n",
       "│ 700       ┆           ┆           ┆           ┆   ┆           ┆           ┆           ┆          │\n",
       "│ Os06g0140 ┆ Q9UIW0    ┆ Q5VPE3    ┆ 0.0001356 ┆ … ┆ 32.6      ┆ 43.9      ┆ 139.5     ┆ 129.0    │\n",
       "│ 700       ┆           ┆           ┆           ┆   ┆           ┆           ┆           ┆          │\n",
       "│ Os06g0140 ┆ Q9Y2V3    ┆ Q5VPE3    ┆ 0.0007067 ┆ … ┆ 29.3      ┆ 42.0      ┆ 86.5      ┆ 65.5     │\n",
       "│ 700       ┆           ┆           ┆           ┆   ┆           ┆           ┆           ┆          │\n",
       "│ Os06g0140 ┆ Q9Y6X8    ┆ Q5VPE3    ┆ 0.06732   ┆ … ┆ 19.1      ┆ 71.6      ┆ 67.5      ┆ 37.5     │\n",
       "│ 700       ┆           ┆           ┆           ┆   ┆           ┆           ┆           ┆          │\n",
       "└───────────┴───────────┴───────────┴───────────┴───┴───────────┴───────────┴───────────┴──────────┘"
      ]
     },
     "metadata": {},
     "output_type": "display_data"
    }
   ],
   "source": [
    "condition2 = join_foldseek.sort(\n",
    "    by=[\"qcov\", \"foldseek hit\", \"lddt\"], # sort by qcov, foldseek hit, lddt\n",
    "    descending=[True, False, True]\n",
    ").group_by(\n",
    "    [\"From\", \"foldseek hit\"],\n",
    "    maintain_order=True\n",
    ").agg(\n",
    "    [\n",
    "        pl.all().first() # sustain the first record in each group (in this case, qcov is the highest and lddt is the highest)\n",
    "    ]\n",
    ").sort(\n",
    "    by=[\"From\", \"UniProt Accession\", \"foldseek hit\"],\n",
    "    descending=[False, False, False],\n",
    "    maintain_order=True\n",
    ")\n",
    "\n",
    "print(condition2.group_by([\"From\"], maintain_order=True).n_unique())\n",
    "display(condition2)"
   ]
  },
  {
   "cell_type": "markdown",
   "id": "6bb0a366",
   "metadata": {
    "papermill": {
     "duration": 0.003336,
     "end_time": "2024-11-15T03:34:17.209156",
     "exception": false,
     "start_time": "2024-11-15T03:34:17.205820",
     "status": "completed"
    },
    "tags": []
   },
   "source": [
    "&nbsp;\n",
    "\n",
    "&nbsp;"
   ]
  },
  {
   "cell_type": "markdown",
   "id": "1bb1ae59",
   "metadata": {
    "papermill": {
     "duration": 0.003229,
     "end_time": "2024-11-15T03:34:17.215734",
     "exception": false,
     "start_time": "2024-11-15T03:34:17.212505",
     "status": "completed"
    },
    "tags": []
   },
   "source": [
    "## Filtering Condition3\n",
    "\n",
    "- select the ones with qcov (query coverage) >= 0.5 and tcov (target coverage) >= 0.5"
   ]
  },
  {
   "cell_type": "code",
   "execution_count": 15,
   "id": "2cc56a35",
   "metadata": {
    "execution": {
     "iopub.execute_input": "2024-11-15T03:34:17.222606Z",
     "iopub.status.busy": "2024-11-15T03:34:17.222533Z",
     "iopub.status.idle": "2024-11-15T03:34:17.230421Z",
     "shell.execute_reply": "2024-11-15T03:34:17.230154Z"
    },
    "papermill": {
     "duration": 0.011719,
     "end_time": "2024-11-15T03:34:17.230742",
     "exception": false,
     "start_time": "2024-11-15T03:34:17.219023",
     "status": "completed"
    },
    "tags": []
   },
   "outputs": [
    {
     "name": "stdout",
     "output_type": "stream",
     "text": [
      "shape: (4, 44)\n",
      "┌────────────┬────────────┬───────────┬────────┬───┬───────────┬───────────┬───────────┬───────────┐\n",
      "│ From       ┆ foldseek   ┆ UniProt   ┆ evalue ┆ … ┆ Gaps_perc ┆ Gaps_perc ┆ Score_wat ┆ Score_nee │\n",
      "│ ---        ┆ hit        ┆ Accession ┆ ---    ┆   ┆ ent_water ┆ ent_needl ┆ er        ┆ dle       │\n",
      "│ str        ┆ ---        ┆ ---       ┆ u32    ┆   ┆ ---       ┆ e         ┆ ---       ┆ ---       │\n",
      "│            ┆ u32        ┆ u32       ┆        ┆   ┆ u32       ┆ ---       ┆ u32       ┆ u32       │\n",
      "│            ┆            ┆           ┆        ┆   ┆           ┆ u32       ┆           ┆           │\n",
      "╞════════════╪════════════╪═══════════╪════════╪═══╪═══════════╪═══════════╪═══════════╪═══════════╡\n",
      "│ Os04g03915 ┆ 10         ┆ 3         ┆ 10     ┆ … ┆ 10        ┆ 10        ┆ 10        ┆ 9         │\n",
      "│ 00         ┆            ┆           ┆        ┆   ┆           ┆           ┆           ┆           │\n",
      "│ Os06g01407 ┆ 98         ┆ 1         ┆ 72     ┆ … ┆ 79        ┆ 85        ┆ 70        ┆ 72        │\n",
      "│ 00         ┆            ┆           ┆        ┆   ┆           ┆           ┆           ┆           │\n",
      "│ Os01g08592 ┆ 61         ┆ 2         ┆ 59     ┆ … ┆ 59        ┆ 56        ┆ 49        ┆ 54        │\n",
      "│ 00         ┆            ┆           ┆        ┆   ┆           ┆           ┆           ┆           │\n",
      "│ Os01g01876 ┆ 1          ┆ 1         ┆ 1      ┆ … ┆ 1         ┆ 1         ┆ 1         ┆ 1         │\n",
      "│ 00         ┆            ┆           ┆        ┆   ┆           ┆           ┆           ┆           │\n",
      "└────────────┴────────────┴───────────┴────────┴───┴───────────┴───────────┴───────────┴───────────┘\n"
     ]
    },
    {
     "data": {
      "text/html": [
       "<div><style>\n",
       ".dataframe > thead > tr,\n",
       ".dataframe > tbody > tr {\n",
       "  text-align: right;\n",
       "  white-space: pre-wrap;\n",
       "}\n",
       "</style>\n",
       "<small>shape: (170, 44)</small><table border=\"1\" class=\"dataframe\"><thead><tr><th>From</th><th>foldseek hit</th><th>UniProt Accession</th><th>evalue</th><th>prob</th><th>gapopen</th><th>pident</th><th>fident</th><th>nident</th><th>qstart</th><th>qend</th><th>qlen</th><th>tstart</th><th>tend</th><th>tlen</th><th>alnlen</th><th>qcov</th><th>tcov</th><th>lddt</th><th>qtmscore</th><th>ttmscore</th><th>alntmscore</th><th>rmsd</th><th>taxid</th><th>taxname</th><th>taxlineage</th><th>qaln</th><th>taln</th><th>mismatch</th><th>lddtfull</th><th>Length_water</th><th>Length_needle</th><th>Identity_water</th><th>Identity_needle</th><th>Identity_percent_water</th><th>Identity_percent_needle</th><th>Similarity_percent_water</th><th>Similarity_percent_needle</th><th>Gaps_water</th><th>Gaps_needle</th><th>Gaps_percent_water</th><th>Gaps_percent_needle</th><th>Score_water</th><th>Score_needle</th></tr><tr><td>str</td><td>str</td><td>str</td><td>f64</td><td>f64</td><td>i64</td><td>f64</td><td>f64</td><td>i64</td><td>i64</td><td>i64</td><td>i64</td><td>i64</td><td>i64</td><td>i64</td><td>i64</td><td>f64</td><td>f64</td><td>f64</td><td>f64</td><td>f64</td><td>f64</td><td>f64</td><td>i64</td><td>str</td><td>str</td><td>str</td><td>str</td><td>i64</td><td>str</td><td>i64</td><td>i64</td><td>str</td><td>str</td><td>f64</td><td>f64</td><td>f64</td><td>f64</td><td>str</td><td>str</td><td>f64</td><td>f64</td><td>f64</td><td>f64</td></tr></thead><tbody><tr><td>&quot;Os04g0391500&quot;</td><td>&quot;P31943&quot;</td><td>&quot;Q7XVN5&quot;</td><td>0.00914</td><td>0.254</td><td>30</td><td>11.1</td><td>0.111</td><td>54</td><td>120</td><td>470</td><td>470</td><td>2</td><td>412</td><td>449</td><td>486</td><td>0.747</td><td>0.915</td><td>0.3245</td><td>0.1472</td><td>0.1527</td><td>0.1527</td><td>25.98</td><td>9606</td><td>&quot;Homo sapiens&quot;</td><td>&quot;-_cellular organisms;d_Eukaryo…</td><td>&quot;TVGIVPAEEYTVIELTGTDRPGLLS-EVCA…</td><td>&quot;MLGTEGGEGFVV--KVRGLPWSCSADEVQR…</td><td>222</td><td>&quot;0.071,0.118,0.169,0.260,0.233,…</td><td>24</td><td>687</td><td>&quot;11/24&quot;</td><td>&quot;60/687&quot;</td><td>45.8</td><td>8.7</td><td>58.3</td><td>14.0</td><td>&quot;1/24&quot;</td><td>&quot;455/687&quot;</td><td>4.2</td><td>66.2</td><td>43.0</td><td>16.0</td></tr><tr><td>&quot;Os06g0140700&quot;</td><td>&quot;P52954&quot;</td><td>&quot;Q5VPE3&quot;</td><td>0.000091</td><td>0.997</td><td>9</td><td>18.4</td><td>0.184</td><td>51</td><td>4</td><td>273</td><td>308</td><td>53</td><td>277</td><td>281</td><td>276</td><td>0.877</td><td>0.801</td><td>0.6706</td><td>0.2084</td><td>0.2283</td><td>0.2283</td><td>31.1</td><td>9606</td><td>&quot;Homo sapiens&quot;</td><td>&quot;-_cellular organisms;d_Eukaryo…</td><td>&quot;LGLSLGLGLASQGSLTSSTTTTSSPGAGSS…</td><td>&quot;LCGAAHLLAAADKHAQGGLPLAGRALLSQT…</td><td>168</td><td>&quot;0.393,0.562,0.625,0.781,0.844,…</td><td>250</td><td>359</td><td>&quot;75/250&quot;</td><td>&quot;84/359&quot;</td><td>30.0</td><td>23.4</td><td>39.6</td><td>30.6</td><td>&quot;66/250&quot;</td><td>&quot;129/359&quot;</td><td>26.4</td><td>35.9</td><td>142.0</td><td>130.5</td></tr><tr><td>&quot;Os06g0140700&quot;</td><td>&quot;P35548&quot;</td><td>&quot;Q5VPE3&quot;</td><td>0.0002015</td><td>0.993</td><td>8</td><td>17.9</td><td>0.179</td><td>55</td><td>4</td><td>269</td><td>308</td><td>2</td><td>267</td><td>267</td><td>307</td><td>0.864</td><td>0.996</td><td>0.7166</td><td>0.1929</td><td>0.2184</td><td>0.2184</td><td>35.91</td><td>9606</td><td>&quot;Homo sapiens&quot;</td><td>&quot;-_cellular organisms;d_Eukaryo…</td><td>&quot;LGLSLGLGLASQGSLTSSTTTTSSPG----…</td><td>&quot;ASPSKGNDLFSPDEEGPAVVAGPGPGPGGA…</td><td>170</td><td>&quot;0.500,0.594,0.719,0.844,0.875,…</td><td>265</td><td>379</td><td>&quot;63/265&quot;</td><td>&quot;69/379&quot;</td><td>23.8</td><td>18.2</td><td>32.5</td><td>26.9</td><td>&quot;118/265&quot;</td><td>&quot;183/379&quot;</td><td>44.5</td><td>48.3</td><td>122.0</td><td>109.0</td></tr><tr><td>&quot;Os01g0859200&quot;</td><td>&quot;Q96IU4&quot;</td><td>&quot;Q94DD0&quot;</td><td>0.000003</td><td>1.0</td><td>15</td><td>15.0</td><td>0.15</td><td>47</td><td>42</td><td>338</td><td>347</td><td>10</td><td>209</td><td>210</td><td>313</td><td>0.856</td><td>0.952</td><td>0.466</td><td>0.42</td><td>0.6565</td><td>0.6565</td><td>6.716</td><td>9606</td><td>&quot;Homo sapiens&quot;</td><td>&quot;-_cellular organisms;d_Eukaryo…</td><td>&quot;PRVQLKDGRHLAYREAGVGREIAKYKIIFS…</td><td>&quot;GTIQVQ-GQALFFREALPGSGQARFSVLLL…</td><td>137</td><td>&quot;0.635,0.660,0.677,0.652,0.646,…</td><td>215</td><td>372</td><td>&quot;53/215&quot;</td><td>&quot;54/372&quot;</td><td>24.7</td><td>14.5</td><td>36.3</td><td>22.8</td><td>&quot;45/215&quot;</td><td>&quot;187/372&quot;</td><td>20.9</td><td>50.3</td><td>79.0</td><td>66.5</td></tr><tr><td>&quot;Os01g0859200&quot;</td><td>&quot;Q8NFV4&quot;</td><td>&quot;A0A0P0VAM0&quot;</td><td>5.5930e-10</td><td>1.0</td><td>17</td><td>18.5</td><td>0.185</td><td>62</td><td>23</td><td>335</td><td>347</td><td>33</td><td>308</td><td>315</td><td>335</td><td>0.902</td><td>0.876</td><td>0.4403</td><td>0.4627</td><td>0.5042</td><td>0.5042</td><td>10.9</td><td>9606</td><td>&quot;Homo sapiens&quot;</td><td>&quot;-_cellular organisms;d_Eukaryo…</td><td>&quot;ARPPPPPILGGPGGPPVSSPRVQLKDGRHL…</td><td>&quot;RVPVAPSS--SSGGRGGAEPR-PLP----L…</td><td>192</td><td>&quot;0.125,0.184,0.193,0.256,0.335,…</td><td>132</td><td>395</td><td>&quot;40/132&quot;</td><td>&quot;83/395&quot;</td><td>30.3</td><td>21.0</td><td>45.5</td><td>33.2</td><td>&quot;23/132&quot;</td><td>&quot;137/395&quot;</td><td>17.4</td><td>34.7</td><td>113.0</td><td>94.5</td></tr><tr><td>&hellip;</td><td>&hellip;</td><td>&hellip;</td><td>&hellip;</td><td>&hellip;</td><td>&hellip;</td><td>&hellip;</td><td>&hellip;</td><td>&hellip;</td><td>&hellip;</td><td>&hellip;</td><td>&hellip;</td><td>&hellip;</td><td>&hellip;</td><td>&hellip;</td><td>&hellip;</td><td>&hellip;</td><td>&hellip;</td><td>&hellip;</td><td>&hellip;</td><td>&hellip;</td><td>&hellip;</td><td>&hellip;</td><td>&hellip;</td><td>&hellip;</td><td>&hellip;</td><td>&hellip;</td><td>&hellip;</td><td>&hellip;</td><td>&hellip;</td><td>&hellip;</td><td>&hellip;</td><td>&hellip;</td><td>&hellip;</td><td>&hellip;</td><td>&hellip;</td><td>&hellip;</td><td>&hellip;</td><td>&hellip;</td><td>&hellip;</td><td>&hellip;</td><td>&hellip;</td><td>&hellip;</td><td>&hellip;</td></tr><tr><td>&quot;Os01g0859200&quot;</td><td>&quot;Q99685&quot;</td><td>&quot;Q94DD0&quot;</td><td>2.3260e-11</td><td>1.0</td><td>21</td><td>17.7</td><td>0.177</td><td>56</td><td>41</td><td>337</td><td>347</td><td>19</td><td>285</td><td>303</td><td>315</td><td>0.856</td><td>0.881</td><td>0.4541</td><td>0.5321</td><td>0.5973</td><td>0.5973</td><td>5.605</td><td>9606</td><td>&quot;Homo sapiens&quot;</td><td>&quot;-_cellular organisms;d_Eukaryo…</td><td>&quot;SPRVQLKDGRHLAYREA-GVGREIAKYKII…</td><td>&quot;LPHLVNADGQYLFCRYWKPTG--TPKALIF…</td><td>193</td><td>&quot;0.378,0.590,0.640,0.688,0.628,…</td><td>158</td><td>401</td><td>&quot;46/158&quot;</td><td>&quot;76/401&quot;</td><td>29.1</td><td>19.0</td><td>42.4</td><td>29.7</td><td>&quot;36/158&quot;</td><td>&quot;152/401&quot;</td><td>22.8</td><td>37.9</td><td>100.0</td><td>79.0</td></tr><tr><td>&quot;Os06g0140700&quot;</td><td>&quot;A6NCS4&quot;</td><td>&quot;Q5VPE3&quot;</td><td>0.000013</td><td>0.999</td><td>6</td><td>16.2</td><td>0.162</td><td>51</td><td>1</td><td>306</td><td>308</td><td>46</td><td>296</td><td>301</td><td>314</td><td>0.994</td><td>0.834</td><td>0.7108</td><td>0.1919</td><td>0.1963</td><td>0.1963</td><td>38.0</td><td>9606</td><td>&quot;Homo sapiens&quot;</td><td>&quot;-_cellular organisms;d_Eukaryo…</td><td>&quot;MMDLGLSLGLGLASQGSLTSSTTTTSSPGA…</td><td>&quot;MDAEPRGSEVHNAGGGGGDRKLDGSEPPGG…</td><td>192</td><td>&quot;0.875,0.800,0.875,0.857,0.875,…</td><td>271</td><td>378</td><td>&quot;64/271&quot;</td><td>&quot;76/378&quot;</td><td>23.6</td><td>20.1</td><td>36.2</td><td>28.3</td><td>&quot;74/271&quot;</td><td>&quot;147/378&quot;</td><td>27.3</td><td>38.9</td><td>133.5</td><td>116.0</td></tr><tr><td>&quot;Os06g0140700&quot;</td><td>&quot;Q03828&quot;</td><td>&quot;Q5VPE3&quot;</td><td>0.0000278</td><td>0.996</td><td>11</td><td>19.8</td><td>0.198</td><td>69</td><td>1</td><td>307</td><td>308</td><td>93</td><td>385</td><td>476</td><td>347</td><td>0.997</td><td>0.616</td><td>0.7134</td><td>0.1838</td><td>0.1192</td><td>0.1192</td><td>44.88</td><td>9606</td><td>&quot;Homo sapiens&quot;</td><td>&quot;-_cellular organisms;d_Eukaryo…</td><td>&quot;MMDLGLSLGLGLASQGSLTSSTTTTSSPGA…</td><td>&quot;SSAAESRKKPGHYSEAAAEADMSSDVEVGC…</td><td>184</td><td>&quot;0.875,0.800,0.833,0.857,0.750,…</td><td>355</td><td>510</td><td>&quot;87/355&quot;</td><td>&quot;96/510&quot;</td><td>24.5</td><td>18.8</td><td>36.3</td><td>27.1</td><td>&quot;101/355&quot;</td><td>&quot;236/510&quot;</td><td>28.5</td><td>46.3</td><td>162.0</td><td>147.5</td></tr><tr><td>&quot;Os01g0859200&quot;</td><td>&quot;Q6UXT9&quot;</td><td>&quot;Q94DD0&quot;</td><td>6.8500e-7</td><td>1.0</td><td>26</td><td>14.0</td><td>0.14</td><td>51</td><td>24</td><td>337</td><td>347</td><td>115</td><td>410</td><td>468</td><td>364</td><td>0.905</td><td>0.632</td><td>0.3692</td><td>0.4277</td><td>0.328</td><td>0.328</td><td>13.78</td><td>9606</td><td>&quot;Homo sapiens&quot;</td><td>&quot;-_cellular organisms;d_Eukaryo…</td><td>&quot;RPPPPPILGGPGGPPVSSPRVQLKDGRHLA…</td><td>&quot;PVAPGPE--------LAREYLQLADDGLVA…</td><td>195</td><td>&quot;0.102,0.080,0.138,0.154,0.096,…</td><td>136</td><td>549</td><td>&quot;28/136&quot;</td><td>&quot;83/549&quot;</td><td>20.6</td><td>15.1</td><td>33.8</td><td>23.0</td><td>&quot;38/136&quot;</td><td>&quot;283/549&quot;</td><td>27.9</td><td>51.5</td><td>50.0</td><td>21.0</td></tr><tr><td>&quot;Os01g0859200&quot;</td><td>&quot;P22760&quot;</td><td>&quot;Q94DD0&quot;</td><td>7.7320e-7</td><td>1.0</td><td>25</td><td>12.5</td><td>0.125</td><td>49</td><td>9</td><td>337</td><td>347</td><td>46</td><td>390</td><td>399</td><td>391</td><td>0.948</td><td>0.865</td><td>0.3614</td><td>0.3984</td><td>0.3552</td><td>0.3552</td><td>15.58</td><td>9606</td><td>&quot;Homo sapiens&quot;</td><td>&quot;-_cellular organisms;d_Eukaryo…</td><td>&quot;LITAVALLG-------WAYKVARPPPPPIL…</td><td>&quot;LATFVELLGLHHFMDSFKVVGSFDEVPPT-…</td><td>234</td><td>&quot;0.456,0.444,0.569,0.542,0.539,…</td><td>130</td><td>586</td><td>&quot;27/130&quot;</td><td>&quot;46/586&quot;</td><td>20.8</td><td>7.8</td><td>36.2</td><td>13.7</td><td>&quot;46/130&quot;</td><td>&quot;426/586&quot;</td><td>35.4</td><td>72.7</td><td>41.0</td><td>17.5</td></tr></tbody></table></div>"
      ],
      "text/plain": [
       "shape: (170, 44)\n",
       "┌───────────┬───────────┬───────────┬───────────┬───┬───────────┬───────────┬───────────┬──────────┐\n",
       "│ From      ┆ foldseek  ┆ UniProt   ┆ evalue    ┆ … ┆ Gaps_perc ┆ Gaps_perc ┆ Score_wat ┆ Score_ne │\n",
       "│ ---       ┆ hit       ┆ Accession ┆ ---       ┆   ┆ ent_water ┆ ent_needl ┆ er        ┆ edle     │\n",
       "│ str       ┆ ---       ┆ ---       ┆ f64       ┆   ┆ ---       ┆ e         ┆ ---       ┆ ---      │\n",
       "│           ┆ str       ┆ str       ┆           ┆   ┆ f64       ┆ ---       ┆ f64       ┆ f64      │\n",
       "│           ┆           ┆           ┆           ┆   ┆           ┆ f64       ┆           ┆          │\n",
       "╞═══════════╪═══════════╪═══════════╪═══════════╪═══╪═══════════╪═══════════╪═══════════╪══════════╡\n",
       "│ Os04g0391 ┆ P31943    ┆ Q7XVN5    ┆ 0.00914   ┆ … ┆ 4.2       ┆ 66.2      ┆ 43.0      ┆ 16.0     │\n",
       "│ 500       ┆           ┆           ┆           ┆   ┆           ┆           ┆           ┆          │\n",
       "│ Os06g0140 ┆ P52954    ┆ Q5VPE3    ┆ 0.000091  ┆ … ┆ 26.4      ┆ 35.9      ┆ 142.0     ┆ 130.5    │\n",
       "│ 700       ┆           ┆           ┆           ┆   ┆           ┆           ┆           ┆          │\n",
       "│ Os06g0140 ┆ P35548    ┆ Q5VPE3    ┆ 0.0002015 ┆ … ┆ 44.5      ┆ 48.3      ┆ 122.0     ┆ 109.0    │\n",
       "│ 700       ┆           ┆           ┆           ┆   ┆           ┆           ┆           ┆          │\n",
       "│ Os01g0859 ┆ Q96IU4    ┆ Q94DD0    ┆ 0.000003  ┆ … ┆ 20.9      ┆ 50.3      ┆ 79.0      ┆ 66.5     │\n",
       "│ 200       ┆           ┆           ┆           ┆   ┆           ┆           ┆           ┆          │\n",
       "│ Os01g0859 ┆ Q8NFV4    ┆ A0A0P0VAM ┆ 5.5930e-1 ┆ … ┆ 17.4      ┆ 34.7      ┆ 113.0     ┆ 94.5     │\n",
       "│ 200       ┆           ┆ 0         ┆ 0         ┆   ┆           ┆           ┆           ┆          │\n",
       "│ …         ┆ …         ┆ …         ┆ …         ┆ … ┆ …         ┆ …         ┆ …         ┆ …        │\n",
       "│ Os01g0859 ┆ Q99685    ┆ Q94DD0    ┆ 2.3260e-1 ┆ … ┆ 22.8      ┆ 37.9      ┆ 100.0     ┆ 79.0     │\n",
       "│ 200       ┆           ┆           ┆ 1         ┆   ┆           ┆           ┆           ┆          │\n",
       "│ Os06g0140 ┆ A6NCS4    ┆ Q5VPE3    ┆ 0.000013  ┆ … ┆ 27.3      ┆ 38.9      ┆ 133.5     ┆ 116.0    │\n",
       "│ 700       ┆           ┆           ┆           ┆   ┆           ┆           ┆           ┆          │\n",
       "│ Os06g0140 ┆ Q03828    ┆ Q5VPE3    ┆ 0.0000278 ┆ … ┆ 28.5      ┆ 46.3      ┆ 162.0     ┆ 147.5    │\n",
       "│ 700       ┆           ┆           ┆           ┆   ┆           ┆           ┆           ┆          │\n",
       "│ Os01g0859 ┆ Q6UXT9    ┆ Q94DD0    ┆ 6.8500e-7 ┆ … ┆ 27.9      ┆ 51.5      ┆ 50.0      ┆ 21.0     │\n",
       "│ 200       ┆           ┆           ┆           ┆   ┆           ┆           ┆           ┆          │\n",
       "│ Os01g0859 ┆ P22760    ┆ Q94DD0    ┆ 7.7320e-7 ┆ … ┆ 35.4      ┆ 72.7      ┆ 41.0      ┆ 17.5     │\n",
       "│ 200       ┆           ┆           ┆           ┆   ┆           ┆           ┆           ┆          │\n",
       "└───────────┴───────────┴───────────┴───────────┴───┴───────────┴───────────┴───────────┴──────────┘"
      ]
     },
     "metadata": {},
     "output_type": "display_data"
    }
   ],
   "source": [
    "condition3 = condition2.filter(\n",
    "        (pl.col(\"qcov\") >= 0.5) &\n",
    "        (pl.col(\"tcov\") >= 0.5)\n",
    "    ).unique()\n",
    "\n",
    "condition3_rm = condition2.filter(\n",
    "        (pl.col(\"qcov\") < 0.5) |\n",
    "        (pl.col(\"tcov\") < 0.5)\n",
    "    )\n",
    "\n",
    "print(condition3.group_by([\"From\"], maintain_order=True).n_unique())\n",
    "display(condition3)"
   ]
  },
  {
   "cell_type": "markdown",
   "id": "cde314cc",
   "metadata": {
    "papermill": {
     "duration": 0.003393,
     "end_time": "2024-11-15T03:34:17.237652",
     "exception": false,
     "start_time": "2024-11-15T03:34:17.234259",
     "status": "completed"
    },
    "tags": []
   },
   "source": [
    "&nbsp;\n",
    "\n",
    "&nbsp;\n"
   ]
  },
  {
   "cell_type": "markdown",
   "id": "255c03bb",
   "metadata": {
    "papermill": {
     "duration": 0.003338,
     "end_time": "2024-11-15T03:34:17.244386",
     "exception": false,
     "start_time": "2024-11-15T03:34:17.241048",
     "status": "completed"
    },
    "tags": []
   },
   "source": [
    "## Filtering Condition4\n",
    "\n",
    "- select the ones that can be converted to HGNC Gene symbol through Ensembl ID by TogoID\n",
    "- Article: [TogoID: an exploratory ID converter to bridge biological dataset](https://doi.org/10.1093/bioinformatics/btac491)"
   ]
  },
  {
   "cell_type": "code",
   "execution_count": 16,
   "id": "0c504cd1",
   "metadata": {
    "execution": {
     "iopub.execute_input": "2024-11-15T03:34:17.251572Z",
     "iopub.status.busy": "2024-11-15T03:34:17.251498Z",
     "iopub.status.idle": "2024-11-15T03:34:17.254410Z",
     "shell.execute_reply": "2024-11-15T03:34:17.254235Z"
    },
    "papermill": {
     "duration": 0.006875,
     "end_time": "2024-11-15T03:34:17.254761",
     "exception": false,
     "start_time": "2024-11-15T03:34:17.247886",
     "status": "completed"
    },
    "tags": []
   },
   "outputs": [
    {
     "data": {
      "text/html": [
       "<div><style>\n",
       ".dataframe > thead > tr,\n",
       ".dataframe > tbody > tr {\n",
       "  text-align: right;\n",
       "  white-space: pre-wrap;\n",
       "}\n",
       "</style>\n",
       "<small>shape: (550, 6)</small><table border=\"1\" class=\"dataframe\"><thead><tr><th>foldseek hit</th><th>ensembl_protein_id</th><th>ensembl_transcript_id</th><th>ensembl_gene_id</th><th>hgnc_id</th><th>hgnc_symbol_id</th></tr><tr><td>str</td><td>str</td><td>str</td><td>str</td><td>i64</td><td>str</td></tr></thead><tbody><tr><td>&quot;A0A1W2PPF3&quot;</td><td>&quot;ENSP00000491301&quot;</td><td>&quot;ENST00000633875&quot;</td><td>&quot;ENSG00000282757&quot;</td><td>33345</td><td>&quot;DUXB&quot;</td></tr><tr><td>&quot;A0A1W2PPM1&quot;</td><td>&quot;ENSP00000491599&quot;</td><td>&quot;ENST00000640559&quot;</td><td>&quot;ENSG00000283755&quot;</td><td>51815</td><td>&quot;CPHXL&quot;</td></tr><tr><td>&quot;A2RU54&quot;</td><td>&quot;ENSP00000341108&quot;</td><td>&quot;ENST00000339992&quot;</td><td>&quot;ENSG00000188816&quot;</td><td>5018</td><td>&quot;HMX2&quot;</td></tr><tr><td>&quot;A6NCS4&quot;</td><td>&quot;ENSP00000320089&quot;</td><td>&quot;ENST00000325017&quot;</td><td>&quot;ENSG00000180053&quot;</td><td>32940</td><td>&quot;NKX2-6&quot;</td></tr><tr><td>&quot;A6NHT5&quot;</td><td>&quot;ENSP00000350549&quot;</td><td>&quot;ENST00000357878&quot;</td><td>&quot;ENSG00000188620&quot;</td><td>5019</td><td>&quot;HMX3&quot;</td></tr><tr><td>&hellip;</td><td>&hellip;</td><td>&hellip;</td><td>&hellip;</td><td>&hellip;</td><td>&hellip;</td></tr><tr><td>&quot;Q9Y570&quot;</td><td>&quot;ENSP00000329867&quot;</td><td>&quot;ENST00000328257&quot;</td><td>&quot;ENSG00000214517&quot;</td><td>30178</td><td>&quot;PPME1&quot;</td></tr><tr><td>&quot;Q9Y570&quot;</td><td>&quot;ENSP00000381461&quot;</td><td>&quot;ENST00000398427&quot;</td><td>&quot;ENSG00000214517&quot;</td><td>30178</td><td>&quot;PPME1&quot;</td></tr><tr><td>&quot;Q9Y5X9&quot;</td><td>&quot;ENSP00000261292&quot;</td><td>&quot;ENST00000261292&quot;</td><td>&quot;ENSG00000101670&quot;</td><td>6623</td><td>&quot;LIPG&quot;</td></tr><tr><td>&quot;Q9Y5X9&quot;</td><td>&quot;ENSP00000462420&quot;</td><td>&quot;ENST00000580036&quot;</td><td>&quot;ENSG00000101670&quot;</td><td>6623</td><td>&quot;LIPG&quot;</td></tr><tr><td>&quot;Q9Y6X8&quot;</td><td>&quot;ENSP00000314709&quot;</td><td>&quot;ENST00000314393&quot;</td><td>&quot;ENSG00000178764&quot;</td><td>18513</td><td>&quot;ZHX2&quot;</td></tr></tbody></table></div>"
      ],
      "text/plain": [
       "shape: (550, 6)\n",
       "┌──────────────┬───────────────────┬──────────────────┬─────────────────┬─────────┬────────────────┐\n",
       "│ foldseek hit ┆ ensembl_protein_i ┆ ensembl_transcri ┆ ensembl_gene_id ┆ hgnc_id ┆ hgnc_symbol_id │\n",
       "│ ---          ┆ d                 ┆ pt_id            ┆ ---             ┆ ---     ┆ ---            │\n",
       "│ str          ┆ ---               ┆ ---              ┆ str             ┆ i64     ┆ str            │\n",
       "│              ┆ str               ┆ str              ┆                 ┆         ┆                │\n",
       "╞══════════════╪═══════════════════╪══════════════════╪═════════════════╪═════════╪════════════════╡\n",
       "│ A0A1W2PPF3   ┆ ENSP00000491301   ┆ ENST00000633875  ┆ ENSG00000282757 ┆ 33345   ┆ DUXB           │\n",
       "│ A0A1W2PPM1   ┆ ENSP00000491599   ┆ ENST00000640559  ┆ ENSG00000283755 ┆ 51815   ┆ CPHXL          │\n",
       "│ A2RU54       ┆ ENSP00000341108   ┆ ENST00000339992  ┆ ENSG00000188816 ┆ 5018    ┆ HMX2           │\n",
       "│ A6NCS4       ┆ ENSP00000320089   ┆ ENST00000325017  ┆ ENSG00000180053 ┆ 32940   ┆ NKX2-6         │\n",
       "│ A6NHT5       ┆ ENSP00000350549   ┆ ENST00000357878  ┆ ENSG00000188620 ┆ 5019    ┆ HMX3           │\n",
       "│ …            ┆ …                 ┆ …                ┆ …               ┆ …       ┆ …              │\n",
       "│ Q9Y570       ┆ ENSP00000329867   ┆ ENST00000328257  ┆ ENSG00000214517 ┆ 30178   ┆ PPME1          │\n",
       "│ Q9Y570       ┆ ENSP00000381461   ┆ ENST00000398427  ┆ ENSG00000214517 ┆ 30178   ┆ PPME1          │\n",
       "│ Q9Y5X9       ┆ ENSP00000261292   ┆ ENST00000261292  ┆ ENSG00000101670 ┆ 6623    ┆ LIPG           │\n",
       "│ Q9Y5X9       ┆ ENSP00000462420   ┆ ENST00000580036  ┆ ENSG00000101670 ┆ 6623    ┆ LIPG           │\n",
       "│ Q9Y6X8       ┆ ENSP00000314709   ┆ ENST00000314393  ┆ ENSG00000178764 ┆ 18513   ┆ ZHX2           │\n",
       "└──────────────┴───────────────────┴──────────────────┴─────────────────┴─────────┴────────────────┘"
      ]
     },
     "metadata": {},
     "output_type": "display_data"
    }
   ],
   "source": [
    "togoid_convert = pl.read_csv(\n",
    "    togoid_convert_tsv_path,\n",
    "    separator='\\t'\n",
    ").rename(\n",
    "    {\n",
    "        \"uniprot_id\" : \"foldseek hit\"\n",
    "    }\n",
    ").filter(\n",
    "    pl.col(\"ensembl_gene_id\").is_not_null()\n",
    ")\n",
    "\n",
    "display(togoid_convert)"
   ]
  },
  {
   "cell_type": "code",
   "execution_count": 17,
   "id": "60fc5217",
   "metadata": {
    "execution": {
     "iopub.execute_input": "2024-11-15T03:34:17.262095Z",
     "iopub.status.busy": "2024-11-15T03:34:17.262034Z",
     "iopub.status.idle": "2024-11-15T03:34:17.270637Z",
     "shell.execute_reply": "2024-11-15T03:34:17.270294Z"
    },
    "papermill": {
     "duration": 0.012659,
     "end_time": "2024-11-15T03:34:17.271035",
     "exception": false,
     "start_time": "2024-11-15T03:34:17.258376",
     "status": "completed"
    },
    "tags": []
   },
   "outputs": [
    {
     "data": {
      "text/html": [
       "<div><style>\n",
       ".dataframe > thead > tr,\n",
       ".dataframe > tbody > tr {\n",
       "  text-align: right;\n",
       "  white-space: pre-wrap;\n",
       "}\n",
       "</style>\n",
       "<small>shape: (167, 47)</small><table border=\"1\" class=\"dataframe\"><thead><tr><th>From</th><th>foldseek hit</th><th>UniProt Accession</th><th>evalue</th><th>prob</th><th>gapopen</th><th>pident</th><th>fident</th><th>nident</th><th>qstart</th><th>qend</th><th>qlen</th><th>tstart</th><th>tend</th><th>tlen</th><th>alnlen</th><th>qcov</th><th>tcov</th><th>lddt</th><th>qtmscore</th><th>ttmscore</th><th>alntmscore</th><th>rmsd</th><th>taxid</th><th>taxname</th><th>taxlineage</th><th>qaln</th><th>taln</th><th>mismatch</th><th>lddtfull</th><th>Length_water</th><th>Length_needle</th><th>Identity_water</th><th>Identity_needle</th><th>Identity_percent_water</th><th>Identity_percent_needle</th><th>Similarity_percent_water</th><th>Similarity_percent_needle</th><th>Gaps_water</th><th>Gaps_needle</th><th>Gaps_percent_water</th><th>Gaps_percent_needle</th><th>Score_water</th><th>Score_needle</th><th>hgnc_symbol_id</th><th>ensembl_gene_id</th><th>ensembl_protein_id</th></tr><tr><td>str</td><td>str</td><td>str</td><td>f64</td><td>f64</td><td>i64</td><td>f64</td><td>f64</td><td>i64</td><td>i64</td><td>i64</td><td>i64</td><td>i64</td><td>i64</td><td>i64</td><td>i64</td><td>f64</td><td>f64</td><td>f64</td><td>f64</td><td>f64</td><td>f64</td><td>f64</td><td>i64</td><td>str</td><td>str</td><td>str</td><td>str</td><td>i64</td><td>str</td><td>i64</td><td>i64</td><td>str</td><td>str</td><td>f64</td><td>f64</td><td>f64</td><td>f64</td><td>str</td><td>str</td><td>f64</td><td>f64</td><td>f64</td><td>f64</td><td>list[str]</td><td>list[str]</td><td>list[str]</td></tr></thead><tbody><tr><td>&quot;Os01g0187600&quot;</td><td>&quot;P82664&quot;</td><td>&quot;A0A0P0UZ77&quot;</td><td>0.01979</td><td>0.15</td><td>12</td><td>9.9</td><td>0.099</td><td>20</td><td>9</td><td>187</td><td>236</td><td>38</td><td>199</td><td>201</td><td>201</td><td>0.758</td><td>0.806</td><td>0.2763</td><td>0.1732</td><td>0.1954</td><td>0.1954</td><td>24.54</td><td>9606</td><td>&quot;Homo sapiens&quot;</td><td>&quot;-_cellular organisms;d_Eukaryo…</td><td>&quot;ETVTCSKAVNSDLFDAVLGGLGQFGVITRA…</td><td>&quot;LSTNMKWVQFSNLHVDVPKDL----TKPVV…</td><td>120</td><td>&quot;0.152,0.167,0.157,0.154,0.171,…</td><td>40</td><td>418</td><td>&quot;13/40&quot;</td><td>&quot;7/418&quot;</td><td>32.5</td><td>1.7</td><td>47.5</td><td>1.9</td><td>&quot;3/40&quot;</td><td>&quot;399/418&quot;</td><td>7.5</td><td>95.5</td><td>28.5</td><td>7.5</td><td>[&quot;MRPS10&quot;]</td><td>[&quot;ENSG00000048544&quot;]</td><td>[&quot;ENSP00000053468&quot;]</td></tr><tr><td>&quot;Os01g0859200&quot;</td><td>&quot;Q96IU4&quot;</td><td>&quot;Q94DD0&quot;</td><td>0.000003</td><td>1.0</td><td>15</td><td>15.0</td><td>0.15</td><td>47</td><td>42</td><td>338</td><td>347</td><td>10</td><td>209</td><td>210</td><td>313</td><td>0.856</td><td>0.952</td><td>0.466</td><td>0.42</td><td>0.6565</td><td>0.6565</td><td>6.716</td><td>9606</td><td>&quot;Homo sapiens&quot;</td><td>&quot;-_cellular organisms;d_Eukaryo…</td><td>&quot;PRVQLKDGRHLAYREAGVGREIAKYKIIFS…</td><td>&quot;GTIQVQ-GQALFFREALPGSGQARFSVLLL…</td><td>137</td><td>&quot;0.635,0.660,0.677,0.652,0.646,…</td><td>215</td><td>372</td><td>&quot;53/215&quot;</td><td>&quot;54/372&quot;</td><td>24.7</td><td>14.5</td><td>36.3</td><td>22.8</td><td>&quot;45/215&quot;</td><td>&quot;187/372&quot;</td><td>20.9</td><td>50.3</td><td>79.0</td><td>66.5</td><td>[&quot;ABHD14B&quot;, &quot;ABHD14B&quot;, … &quot;ABHD14B&quot;]</td><td>[&quot;ENSG00000114779&quot;, &quot;ENSG00000114779&quot;, … &quot;ENSG00000114779&quot;]</td><td>[&quot;ENSP00000420065&quot;, &quot;ENSP00000433388&quot;, … &quot;ENSP00000354841&quot;]</td></tr><tr><td>&quot;Os01g0859200&quot;</td><td>&quot;Q8NFV4&quot;</td><td>&quot;A0A0P0VAM0&quot;</td><td>5.5930e-10</td><td>1.0</td><td>17</td><td>18.5</td><td>0.185</td><td>62</td><td>23</td><td>335</td><td>347</td><td>33</td><td>308</td><td>315</td><td>335</td><td>0.902</td><td>0.876</td><td>0.4403</td><td>0.4627</td><td>0.5042</td><td>0.5042</td><td>10.9</td><td>9606</td><td>&quot;Homo sapiens&quot;</td><td>&quot;-_cellular organisms;d_Eukaryo…</td><td>&quot;ARPPPPPILGGPGGPPVSSPRVQLKDGRHL…</td><td>&quot;RVPVAPSS--SSGGRGGAEPR-PLP----L…</td><td>192</td><td>&quot;0.125,0.184,0.193,0.256,0.335,…</td><td>132</td><td>395</td><td>&quot;40/132&quot;</td><td>&quot;83/395&quot;</td><td>30.3</td><td>21.0</td><td>45.5</td><td>33.2</td><td>&quot;23/132&quot;</td><td>&quot;137/395&quot;</td><td>17.4</td><td>34.7</td><td>113.0</td><td>94.5</td><td>[&quot;ABHD11&quot;, &quot;ABHD11&quot;, … &quot;ABHD11&quot;]</td><td>[&quot;ENSG00000106077&quot;, &quot;ENSG00000106077&quot;, … &quot;ENSG00000106077&quot;]</td><td>[&quot;ENSP00000222800&quot;, &quot;ENSP00000392945&quot;, … &quot;ENSP00000416970&quot;]</td></tr><tr><td>&quot;Os01g0859200&quot;</td><td>&quot;Q5EB52&quot;</td><td>&quot;Q94DD0&quot;</td><td>7.3290e-10</td><td>1.0</td><td>23</td><td>16.6</td><td>0.166</td><td>61</td><td>1</td><td>332</td><td>347</td><td>1</td><td>324</td><td>335</td><td>367</td><td>0.957</td><td>0.967</td><td>0.4771</td><td>0.5273</td><td>0.5441</td><td>0.5441</td><td>8.791</td><td>9606</td><td>&quot;Homo sapiens&quot;</td><td>&quot;-_cellular organisms;d_Eukaryo…</td><td>&quot;MVALSKL---------VLITAVALLGWAYK…</td><td>&quot;MVRRDRLRRMREWWVQVGLLAVPLLAAYLH…</td><td>228</td><td>&quot;0.750,0.600,0.545,0.500,0.462,…</td><td>159</td><td>418</td><td>&quot;38/159&quot;</td><td>&quot;74/418&quot;</td><td>23.9</td><td>17.7</td><td>39.6</td><td>28.9</td><td>&quot;29/159&quot;</td><td>&quot;154/418&quot;</td><td>18.2</td><td>36.8</td><td>46.0</td><td>28.0</td><td>[&quot;MEST&quot;, &quot;MEST&quot;, … &quot;MEST&quot;]</td><td>[&quot;ENSG00000106484&quot;, &quot;ENSG00000106484&quot;, … &quot;ENSG00000106484&quot;]</td><td>[&quot;ENSP00000223215&quot;, &quot;ENSP00000367839&quot;, … &quot;ENSP00000408933&quot;]</td></tr><tr><td>&quot;Os01g0859200&quot;</td><td>&quot;Q9H6B9&quot;</td><td>&quot;A0A0P0VAM0&quot;</td><td>2.9540e-11</td><td>1.0</td><td>26</td><td>16.3</td><td>0.163</td><td>64</td><td>3</td><td>341</td><td>347</td><td>11</td><td>357</td><td>360</td><td>391</td><td>0.977</td><td>0.964</td><td>0.4965</td><td>0.5611</td><td>0.5428</td><td>0.5428</td><td>10.46</td><td>9606</td><td>&quot;Homo sapiens&quot;</td><td>&quot;-_cellular organisms;d_Eukaryo…</td><td>&quot;ALSKLVLITAVALL-GWAYKVA--------…</td><td>&quot;APSRLSLKLLRAFMWSLVFSVALVAAAVYG…</td><td>231</td><td>&quot;0.818,0.833,0.846,0.857,0.867,…</td><td>350</td><td>439</td><td>&quot;82/350&quot;</td><td>&quot;92/439&quot;</td><td>23.4</td><td>21.0</td><td>36.0</td><td>32.8</td><td>&quot;117/350&quot;</td><td>&quot;171/439&quot;</td><td>33.4</td><td>39.0</td><td>101.0</td><td>94.5</td><td>[&quot;EPHX3&quot;, &quot;EPHX3&quot;, &quot;EPHX3&quot;]</td><td>[&quot;ENSG00000105131&quot;, &quot;ENSG00000105131&quot;, &quot;ENSG00000105131&quot;]</td><td>[&quot;ENSP00000221730&quot;, &quot;ENSP00000410323&quot;, &quot;ENSP00000469345&quot;]</td></tr><tr><td>&hellip;</td><td>&hellip;</td><td>&hellip;</td><td>&hellip;</td><td>&hellip;</td><td>&hellip;</td><td>&hellip;</td><td>&hellip;</td><td>&hellip;</td><td>&hellip;</td><td>&hellip;</td><td>&hellip;</td><td>&hellip;</td><td>&hellip;</td><td>&hellip;</td><td>&hellip;</td><td>&hellip;</td><td>&hellip;</td><td>&hellip;</td><td>&hellip;</td><td>&hellip;</td><td>&hellip;</td><td>&hellip;</td><td>&hellip;</td><td>&hellip;</td><td>&hellip;</td><td>&hellip;</td><td>&hellip;</td><td>&hellip;</td><td>&hellip;</td><td>&hellip;</td><td>&hellip;</td><td>&hellip;</td><td>&hellip;</td><td>&hellip;</td><td>&hellip;</td><td>&hellip;</td><td>&hellip;</td><td>&hellip;</td><td>&hellip;</td><td>&hellip;</td><td>&hellip;</td><td>&hellip;</td><td>&hellip;</td><td>&hellip;</td><td>&hellip;</td><td>&hellip;</td></tr><tr><td>&quot;Os06g0140700&quot;</td><td>&quot;A0A1W2PPF3&quot;</td><td>&quot;Q5VPE3&quot;</td><td>0.008136</td><td>0.923</td><td>3</td><td>13.4</td><td>0.134</td><td>29</td><td>94</td><td>308</td><td>308</td><td>84</td><td>265</td><td>345</td><td>216</td><td>0.698</td><td>0.528</td><td>0.678</td><td>0.1905</td><td>0.1708</td><td>0.1708</td><td>40.25</td><td>9606</td><td>&quot;Homo sapiens&quot;</td><td>&quot;-_cellular organisms;d_Eukaryo…</td><td>&quot;ELERSGSGVDDDDGADGAGGRKKLRLSKDQ…</td><td>&quot;TQGHDQSQHLTQEYLPKEARQKQTFITWTQ…</td><td>152</td><td>&quot;0.406,0.594,0.625,0.812,0.875,…</td><td>251</td><td>478</td><td>&quot;50/251&quot;</td><td>&quot;50/478&quot;</td><td>19.9</td><td>10.5</td><td>33.9</td><td>18.4</td><td>&quot;94/251&quot;</td><td>&quot;303/478&quot;</td><td>37.5</td><td>63.4</td><td>73.0</td><td>62.0</td><td>[&quot;DUXB&quot;]</td><td>[&quot;ENSG00000282757&quot;]</td><td>[&quot;ENSP00000491301&quot;]</td></tr><tr><td>&quot;Os06g0140700&quot;</td><td>&quot;Q9BQY4&quot;</td><td>&quot;Q5VPE3&quot;</td><td>0.001199</td><td>0.912</td><td>8</td><td>14.6</td><td>0.146</td><td>46</td><td>1</td><td>308</td><td>308</td><td>49</td><td>288</td><td>288</td><td>313</td><td>1.0</td><td>0.833</td><td>0.7269</td><td>0.165</td><td>0.1761</td><td>0.1761</td><td>41.52</td><td>9606</td><td>&quot;Homo sapiens&quot;</td><td>&quot;-_cellular organisms;d_Eukaryo…</td><td>&quot;MMDLGLSLGLGLASQGSLTSSTTTTSSPGA…</td><td>&quot;EPEQGTAAGEKLKSAGAQGGEEKDGGGEEK…</td><td>189</td><td>&quot;1.000,1.000,0.958,1.000,0.969,…</td><td>175</td><td>363</td><td>&quot;36/175&quot;</td><td>&quot;61/363&quot;</td><td>20.6</td><td>16.8</td><td>33.1</td><td>25.3</td><td>&quot;52/175&quot;</td><td>&quot;130/363&quot;</td><td>29.7</td><td>35.8</td><td>78.5</td><td>47.0</td><td>[&quot;RHOXF2&quot;]</td><td>[&quot;ENSG00000131721&quot;]</td><td>[&quot;ENSP00000360441&quot;]</td></tr><tr><td>&quot;Os06g0140700&quot;</td><td>&quot;O43365&quot;</td><td>&quot;Q5VPE3&quot;</td><td>0.00105</td><td>0.949</td><td>5</td><td>15.0</td><td>0.15</td><td>50</td><td>3</td><td>307</td><td>308</td><td>80</td><td>355</td><td>443</td><td>333</td><td>0.99</td><td>0.623</td><td>0.7065</td><td>0.196</td><td>0.1386</td><td>0.1386</td><td>47.09</td><td>9606</td><td>&quot;Homo sapiens&quot;</td><td>&quot;-_cellular organisms;d_Eukaryo…</td><td>&quot;DLGLSLGLGLASQGSLTSSTTTTSSPGAGS…</td><td>&quot;SQPPSLGEPPLHPPPPQAAPPAPQPPQPAP…</td><td>198</td><td>&quot;0.625,0.714,0.688,0.781,0.969,…</td><td>333</td><td>514</td><td>&quot;74/333&quot;</td><td>&quot;74/514&quot;</td><td>22.2</td><td>14.4</td><td>32.7</td><td>21.6</td><td>&quot;96/333&quot;</td><td>&quot;277/514&quot;</td><td>28.8</td><td>53.9</td><td>115.0</td><td>87.5</td><td>[&quot;HOXA3&quot;, &quot;HOXA3&quot;, &quot;HOXA3&quot;]</td><td>[&quot;ENSG00000105997&quot;, &quot;ENSG00000105997&quot;, &quot;ENSG00000105997&quot;]</td><td>[&quot;ENSP00000324884&quot;, &quot;ENSP00000484411&quot;, &quot;ENSP00000379640&quot;]</td></tr><tr><td>&quot;Os06g0140700&quot;</td><td>&quot;A6NCS4&quot;</td><td>&quot;Q5VPE3&quot;</td><td>0.000013</td><td>0.999</td><td>6</td><td>16.2</td><td>0.162</td><td>51</td><td>1</td><td>306</td><td>308</td><td>46</td><td>296</td><td>301</td><td>314</td><td>0.994</td><td>0.834</td><td>0.7108</td><td>0.1919</td><td>0.1963</td><td>0.1963</td><td>38.0</td><td>9606</td><td>&quot;Homo sapiens&quot;</td><td>&quot;-_cellular organisms;d_Eukaryo…</td><td>&quot;MMDLGLSLGLGLASQGSLTSSTTTTSSPGA…</td><td>&quot;MDAEPRGSEVHNAGGGGGDRKLDGSEPPGG…</td><td>192</td><td>&quot;0.875,0.800,0.875,0.857,0.875,…</td><td>271</td><td>378</td><td>&quot;64/271&quot;</td><td>&quot;76/378&quot;</td><td>23.6</td><td>20.1</td><td>36.2</td><td>28.3</td><td>&quot;74/271&quot;</td><td>&quot;147/378&quot;</td><td>27.3</td><td>38.9</td><td>133.5</td><td>116.0</td><td>[&quot;NKX2-6&quot;]</td><td>[&quot;ENSG00000180053&quot;]</td><td>[&quot;ENSP00000320089&quot;]</td></tr><tr><td>&quot;Os06g0140700&quot;</td><td>&quot;Q03828&quot;</td><td>&quot;Q5VPE3&quot;</td><td>0.0000278</td><td>0.996</td><td>11</td><td>19.8</td><td>0.198</td><td>69</td><td>1</td><td>307</td><td>308</td><td>93</td><td>385</td><td>476</td><td>347</td><td>0.997</td><td>0.616</td><td>0.7134</td><td>0.1838</td><td>0.1192</td><td>0.1192</td><td>44.88</td><td>9606</td><td>&quot;Homo sapiens&quot;</td><td>&quot;-_cellular organisms;d_Eukaryo…</td><td>&quot;MMDLGLSLGLGLASQGSLTSSTTTTSSPGA…</td><td>&quot;SSAAESRKKPGHYSEAAAEADMSSDVEVGC…</td><td>184</td><td>&quot;0.875,0.800,0.833,0.857,0.750,…</td><td>355</td><td>510</td><td>&quot;87/355&quot;</td><td>&quot;96/510&quot;</td><td>24.5</td><td>18.8</td><td>36.3</td><td>27.1</td><td>&quot;101/355&quot;</td><td>&quot;236/510&quot;</td><td>28.5</td><td>46.3</td><td>162.0</td><td>147.5</td><td>[&quot;EVX2&quot;]</td><td>[&quot;ENSG00000174279&quot;]</td><td>[&quot;ENSP00000312385&quot;]</td></tr></tbody></table></div>"
      ],
      "text/plain": [
       "shape: (167, 47)\n",
       "┌───────────┬───────────┬───────────┬───────────┬───┬───────────┬───────────┬───────────┬──────────┐\n",
       "│ From      ┆ foldseek  ┆ UniProt   ┆ evalue    ┆ … ┆ Score_nee ┆ hgnc_symb ┆ ensembl_g ┆ ensembl_ │\n",
       "│ ---       ┆ hit       ┆ Accession ┆ ---       ┆   ┆ dle       ┆ ol_id     ┆ ene_id    ┆ protein_ │\n",
       "│ str       ┆ ---       ┆ ---       ┆ f64       ┆   ┆ ---       ┆ ---       ┆ ---       ┆ id       │\n",
       "│           ┆ str       ┆ str       ┆           ┆   ┆ f64       ┆ list[str] ┆ list[str] ┆ ---      │\n",
       "│           ┆           ┆           ┆           ┆   ┆           ┆           ┆           ┆ list[str │\n",
       "│           ┆           ┆           ┆           ┆   ┆           ┆           ┆           ┆ ]        │\n",
       "╞═══════════╪═══════════╪═══════════╪═══════════╪═══╪═══════════╪═══════════╪═══════════╪══════════╡\n",
       "│ Os01g0187 ┆ P82664    ┆ A0A0P0UZ7 ┆ 0.01979   ┆ … ┆ 7.5       ┆ [\"MRPS10\" ┆ [\"ENSG000 ┆ [\"ENSP00 │\n",
       "│ 600       ┆           ┆ 7         ┆           ┆   ┆           ┆ ]         ┆ 00048544\" ┆ 00005346 │\n",
       "│           ┆           ┆           ┆           ┆   ┆           ┆           ┆ ]         ┆ 8\"]      │\n",
       "│ Os01g0859 ┆ Q96IU4    ┆ Q94DD0    ┆ 0.000003  ┆ … ┆ 66.5      ┆ [\"ABHD14B ┆ [\"ENSG000 ┆ [\"ENSP00 │\n",
       "│ 200       ┆           ┆           ┆           ┆   ┆           ┆ \", \"ABHD1 ┆ 00114779\" ┆ 00042006 │\n",
       "│           ┆           ┆           ┆           ┆   ┆           ┆ 4B\", …    ┆ , \"ENSG00 ┆ 5\", \"ENS │\n",
       "│           ┆           ┆           ┆           ┆   ┆           ┆ \"ABHD…    ┆ 000…      ┆ P00000…  │\n",
       "│ Os01g0859 ┆ Q8NFV4    ┆ A0A0P0VAM ┆ 5.5930e-1 ┆ … ┆ 94.5      ┆ [\"ABHD11\" ┆ [\"ENSG000 ┆ [\"ENSP00 │\n",
       "│ 200       ┆           ┆ 0         ┆ 0         ┆   ┆           ┆ ,         ┆ 00106077\" ┆ 00022280 │\n",
       "│           ┆           ┆           ┆           ┆   ┆           ┆ \"ABHD11\", ┆ , \"ENSG00 ┆ 0\", \"ENS │\n",
       "│           ┆           ┆           ┆           ┆   ┆           ┆ …         ┆ 000…      ┆ P00000…  │\n",
       "│           ┆           ┆           ┆           ┆   ┆           ┆ \"ABHD11…  ┆           ┆          │\n",
       "│ Os01g0859 ┆ Q5EB52    ┆ Q94DD0    ┆ 7.3290e-1 ┆ … ┆ 28.0      ┆ [\"MEST\",  ┆ [\"ENSG000 ┆ [\"ENSP00 │\n",
       "│ 200       ┆           ┆           ┆ 0         ┆   ┆           ┆ \"MEST\", … ┆ 00106484\" ┆ 00022321 │\n",
       "│           ┆           ┆           ┆           ┆   ┆           ┆ \"MEST\"]   ┆ , \"ENSG00 ┆ 5\", \"ENS │\n",
       "│           ┆           ┆           ┆           ┆   ┆           ┆           ┆ 000…      ┆ P00000…  │\n",
       "│ Os01g0859 ┆ Q9H6B9    ┆ A0A0P0VAM ┆ 2.9540e-1 ┆ … ┆ 94.5      ┆ [\"EPHX3\", ┆ [\"ENSG000 ┆ [\"ENSP00 │\n",
       "│ 200       ┆           ┆ 0         ┆ 1         ┆   ┆           ┆ \"EPHX3\",  ┆ 00105131\" ┆ 00022173 │\n",
       "│           ┆           ┆           ┆           ┆   ┆           ┆ \"EPHX3\"]  ┆ , \"ENSG00 ┆ 0\", \"ENS │\n",
       "│           ┆           ┆           ┆           ┆   ┆           ┆           ┆ 000…      ┆ P00000…  │\n",
       "│ …         ┆ …         ┆ …         ┆ …         ┆ … ┆ …         ┆ …         ┆ …         ┆ …        │\n",
       "│ Os06g0140 ┆ A0A1W2PPF ┆ Q5VPE3    ┆ 0.008136  ┆ … ┆ 62.0      ┆ [\"DUXB\"]  ┆ [\"ENSG000 ┆ [\"ENSP00 │\n",
       "│ 700       ┆ 3         ┆           ┆           ┆   ┆           ┆           ┆ 00282757\" ┆ 00049130 │\n",
       "│           ┆           ┆           ┆           ┆   ┆           ┆           ┆ ]         ┆ 1\"]      │\n",
       "│ Os06g0140 ┆ Q9BQY4    ┆ Q5VPE3    ┆ 0.001199  ┆ … ┆ 47.0      ┆ [\"RHOXF2\" ┆ [\"ENSG000 ┆ [\"ENSP00 │\n",
       "│ 700       ┆           ┆           ┆           ┆   ┆           ┆ ]         ┆ 00131721\" ┆ 00036044 │\n",
       "│           ┆           ┆           ┆           ┆   ┆           ┆           ┆ ]         ┆ 1\"]      │\n",
       "│ Os06g0140 ┆ O43365    ┆ Q5VPE3    ┆ 0.00105   ┆ … ┆ 87.5      ┆ [\"HOXA3\", ┆ [\"ENSG000 ┆ [\"ENSP00 │\n",
       "│ 700       ┆           ┆           ┆           ┆   ┆           ┆ \"HOXA3\",  ┆ 00105997\" ┆ 00032488 │\n",
       "│           ┆           ┆           ┆           ┆   ┆           ┆ \"HOXA3\"]  ┆ , \"ENSG00 ┆ 4\", \"ENS │\n",
       "│           ┆           ┆           ┆           ┆   ┆           ┆           ┆ 000…      ┆ P00000…  │\n",
       "│ Os06g0140 ┆ A6NCS4    ┆ Q5VPE3    ┆ 0.000013  ┆ … ┆ 116.0     ┆ [\"NKX2-6\" ┆ [\"ENSG000 ┆ [\"ENSP00 │\n",
       "│ 700       ┆           ┆           ┆           ┆   ┆           ┆ ]         ┆ 00180053\" ┆ 00032008 │\n",
       "│           ┆           ┆           ┆           ┆   ┆           ┆           ┆ ]         ┆ 9\"]      │\n",
       "│ Os06g0140 ┆ Q03828    ┆ Q5VPE3    ┆ 0.0000278 ┆ … ┆ 147.5     ┆ [\"EVX2\"]  ┆ [\"ENSG000 ┆ [\"ENSP00 │\n",
       "│ 700       ┆           ┆           ┆           ┆   ┆           ┆           ┆ 00174279\" ┆ 00031238 │\n",
       "│           ┆           ┆           ┆           ┆   ┆           ┆           ┆ ]         ┆ 5\"]      │\n",
       "└───────────┴───────────┴───────────┴───────────┴───┴───────────┴───────────┴───────────┴──────────┘"
      ]
     },
     "metadata": {},
     "output_type": "display_data"
    }
   ],
   "source": [
    "condition4 = condition3.join(\n",
    "    togoid_convert,\n",
    "    on=\"foldseek hit\",\n",
    "    how=\"left\",\n",
    "    coalesce=True\n",
    ").filter(\n",
    "    pl.col(\"ensembl_gene_id\").is_not_null()\n",
    ").group_by(\n",
    "    pl.exclude(\n",
    "        [\n",
    "            \"hgnc_id\", \"hgnc_symbol_id\", \"ensembl_gene_id\", \"ensembl_protein_id\", \"ensembl_transcript_id\"\n",
    "        ]\n",
    "    ),\n",
    "    maintain_order=True\n",
    ").agg(\n",
    "    pl.col(\"hgnc_id\"),\n",
    "    pl.col(\"hgnc_symbol_id\"),\n",
    "    pl.col(\"ensembl_gene_id\"),\n",
    "    pl.col(\"ensembl_protein_id\"),\n",
    "    pl.col(\"ensembl_transcript_id\"),\n",
    ").drop(\n",
    "    [\n",
    "        \"hgnc_id\",\n",
    "        \"ensembl_transcript_id\"\n",
    "    ]\n",
    ").sort(\n",
    "    by=[\"From\"],\n",
    "    descending=[False]\n",
    ")\n",
    "\n",
    "display(condition4)"
   ]
  },
  {
   "cell_type": "code",
   "execution_count": 18,
   "id": "55bf7ba7",
   "metadata": {
    "execution": {
     "iopub.execute_input": "2024-11-15T03:34:17.278962Z",
     "iopub.status.busy": "2024-11-15T03:34:17.278884Z",
     "iopub.status.idle": "2024-11-15T03:34:17.281866Z",
     "shell.execute_reply": "2024-11-15T03:34:17.281596Z"
    },
    "papermill": {
     "duration": 0.007259,
     "end_time": "2024-11-15T03:34:17.282207",
     "exception": false,
     "start_time": "2024-11-15T03:34:17.274948",
     "status": "completed"
    },
    "tags": []
   },
   "outputs": [
    {
     "data": {
      "text/html": [
       "<div><style>\n",
       ".dataframe > thead > tr,\n",
       ".dataframe > tbody > tr {\n",
       "  text-align: right;\n",
       "  white-space: pre-wrap;\n",
       "}\n",
       "</style>\n",
       "<small>shape: (4, 2)</small><table border=\"1\" class=\"dataframe\"><thead><tr><th>From</th><th>hit count (gene level)</th></tr><tr><td>str</td><td>u32</td></tr></thead><tbody><tr><td>&quot;Os06g0140700&quot;</td><td>95</td></tr><tr><td>&quot;Os01g0859200&quot;</td><td>61</td></tr><tr><td>&quot;Os04g0391500&quot;</td><td>10</td></tr><tr><td>&quot;Os01g0187600&quot;</td><td>1</td></tr></tbody></table></div>"
      ],
      "text/plain": [
       "shape: (4, 2)\n",
       "┌──────────────┬────────────────────────┐\n",
       "│ From         ┆ hit count (gene level) │\n",
       "│ ---          ┆ ---                    │\n",
       "│ str          ┆ u32                    │\n",
       "╞══════════════╪════════════════════════╡\n",
       "│ Os06g0140700 ┆ 95                     │\n",
       "│ Os01g0859200 ┆ 61                     │\n",
       "│ Os04g0391500 ┆ 10                     │\n",
       "│ Os01g0187600 ┆ 1                      │\n",
       "└──────────────┴────────────────────────┘"
      ]
     },
     "metadata": {},
     "output_type": "display_data"
    }
   ],
   "source": [
    "hit_count_condition4 = condition4.group_by(\n",
    "    [\"From\"],\n",
    "    maintain_order=True\n",
    ").agg(\n",
    "    (pl.col(\"foldseek hit\").count().alias(\"hit count (gene level)\"))\n",
    ").sort(\n",
    "    by=[\"hit count (gene level)\"],\n",
    "    descending=True\n",
    ")\n",
    "\n",
    "display(hit_count_condition4)"
   ]
  },
  {
   "cell_type": "code",
   "execution_count": 19,
   "id": "d2a1c5df",
   "metadata": {
    "execution": {
     "iopub.execute_input": "2024-11-15T03:34:17.290012Z",
     "iopub.status.busy": "2024-11-15T03:34:17.289943Z",
     "iopub.status.idle": "2024-11-15T03:34:17.295068Z",
     "shell.execute_reply": "2024-11-15T03:34:17.294841Z"
    },
    "papermill": {
     "duration": 0.009439,
     "end_time": "2024-11-15T03:34:17.295452",
     "exception": false,
     "start_time": "2024-11-15T03:34:17.286013",
     "status": "completed"
    },
    "tags": []
   },
   "outputs": [
    {
     "name": "stdout",
     "output_type": "stream",
     "text": [
      "shape: (167, 11)\n",
      "┌────────────┬────────────┬────────────┬──────┬───┬────────────┬───────────┬───────────┬───────────┐\n",
      "│ From       ┆ UniProt    ┆ foldseek   ┆ qcov ┆ … ┆ Identity_p ┆ Identity_ ┆ Similarit ┆ Similarit │\n",
      "│ ---        ┆ Accession  ┆ hit        ┆ ---  ┆   ┆ ercent_nee ┆ percent_w ┆ y_percent ┆ y_percent │\n",
      "│ str        ┆ ---        ┆ ---        ┆ u32  ┆   ┆ dle        ┆ ater      ┆ _needle   ┆ _water    │\n",
      "│            ┆ str        ┆ str        ┆      ┆   ┆ ---        ┆ ---       ┆ ---       ┆ ---       │\n",
      "│            ┆            ┆            ┆      ┆   ┆ u32        ┆ u32       ┆ u32       ┆ u32       │\n",
      "╞════════════╪════════════╪════════════╪══════╪═══╪════════════╪═══════════╪═══════════╪═══════════╡\n",
      "│ Os01g01876 ┆ A0A0P0UZ77 ┆ P82664     ┆ 1    ┆ … ┆ 1          ┆ 1         ┆ 1         ┆ 1         │\n",
      "│ 00         ┆            ┆            ┆      ┆   ┆            ┆           ┆           ┆           │\n",
      "│ Os01g08592 ┆ Q94DD0     ┆ Q9UMR5     ┆ 1    ┆ … ┆ 1          ┆ 1         ┆ 1         ┆ 1         │\n",
      "│ 00         ┆            ┆            ┆      ┆   ┆            ┆           ┆           ┆           │\n",
      "│ Os01g08592 ┆ Q94DD0     ┆ Q5EB52     ┆ 1    ┆ … ┆ 1          ┆ 1         ┆ 1         ┆ 1         │\n",
      "│ 00         ┆            ┆            ┆      ┆   ┆            ┆           ┆           ┆           │\n",
      "│ Os01g08592 ┆ Q94DD0     ┆ P38571     ┆ 1    ┆ … ┆ 1          ┆ 1         ┆ 1         ┆ 1         │\n",
      "│ 00         ┆            ┆            ┆      ┆   ┆            ┆           ┆           ┆           │\n",
      "│ Os01g08592 ┆ A0A0P0VAM0 ┆ Q7L211     ┆ 1    ┆ … ┆ 1          ┆ 1         ┆ 1         ┆ 1         │\n",
      "│ 00         ┆            ┆            ┆      ┆   ┆            ┆           ┆           ┆           │\n",
      "│ …          ┆ …          ┆ …          ┆ …    ┆ … ┆ …          ┆ …         ┆ …         ┆ …         │\n",
      "│ Os06g01407 ┆ Q5VPE3     ┆ P52954     ┆ 1    ┆ … ┆ 1          ┆ 1         ┆ 1         ┆ 1         │\n",
      "│ 00         ┆            ┆            ┆      ┆   ┆            ┆           ┆           ┆           │\n",
      "│ Os06g01407 ┆ Q5VPE3     ┆ Q9NZR4     ┆ 1    ┆ … ┆ 1          ┆ 1         ┆ 1         ┆ 1         │\n",
      "│ 00         ┆            ┆            ┆      ┆   ┆            ┆           ┆           ┆           │\n",
      "│ Os06g01407 ┆ Q5VPE3     ┆ P49640     ┆ 1    ┆ … ┆ 1          ┆ 1         ┆ 1         ┆ 1         │\n",
      "│ 00         ┆            ┆            ┆      ┆   ┆            ┆           ┆           ┆           │\n",
      "│ Os06g01407 ┆ Q5VPE3     ┆ Q99453     ┆ 1    ┆ … ┆ 1          ┆ 1         ┆ 1         ┆ 1         │\n",
      "│ 00         ┆            ┆            ┆      ┆   ┆            ┆           ┆           ┆           │\n",
      "│ Os06g01407 ┆ Q5VPE3     ┆ Q15270     ┆ 1    ┆ … ┆ 1          ┆ 1         ┆ 1         ┆ 1         │\n",
      "│ 00         ┆            ┆            ┆      ┆   ┆            ┆           ┆           ┆           │\n",
      "└────────────┴────────────┴────────────┴──────┴───┴────────────┴───────────┴───────────┴───────────┘\n"
     ]
    },
    {
     "data": {
      "text/html": [
       "<div><style>\n",
       ".dataframe > thead > tr,\n",
       ".dataframe > tbody > tr {\n",
       "  text-align: right;\n",
       "  white-space: pre-wrap;\n",
       "}\n",
       "</style>\n",
       "<small>shape: (167, 11)</small><table border=\"1\" class=\"dataframe\"><thead><tr><th>From</th><th>UniProt Accession</th><th>foldseek hit</th><th>qcov</th><th>tcov</th><th>rmsd</th><th>lddt</th><th>Identity_percent_needle</th><th>Identity_percent_water</th><th>Similarity_percent_needle</th><th>Similarity_percent_water</th></tr><tr><td>str</td><td>str</td><td>str</td><td>f64</td><td>f64</td><td>f64</td><td>f64</td><td>f64</td><td>f64</td><td>f64</td><td>f64</td></tr></thead><tbody><tr><td>&quot;Os01g0187600&quot;</td><td>&quot;A0A0P0UZ77&quot;</td><td>&quot;P82664&quot;</td><td>0.758</td><td>0.806</td><td>24.54</td><td>0.2763</td><td>1.7</td><td>32.5</td><td>1.9</td><td>47.5</td></tr><tr><td>&quot;Os01g0859200&quot;</td><td>&quot;Q94DD0&quot;</td><td>&quot;Q9UMR5&quot;</td><td>0.816</td><td>0.907</td><td>12.76</td><td>0.3482</td><td>14.1</td><td>17.8</td><td>25.6</td><td>31.4</td></tr><tr><td>&quot;Os01g0859200&quot;</td><td>&quot;Q94DD0&quot;</td><td>&quot;Q5EB52&quot;</td><td>0.957</td><td>0.967</td><td>8.791</td><td>0.4771</td><td>17.7</td><td>23.9</td><td>28.9</td><td>39.6</td></tr><tr><td>&quot;Os01g0859200&quot;</td><td>&quot;Q94DD0&quot;</td><td>&quot;P38571&quot;</td><td>0.862</td><td>0.87</td><td>9.818</td><td>0.4005</td><td>15.3</td><td>17.1</td><td>26.9</td><td>30.0</td></tr><tr><td>&quot;Os01g0859200&quot;</td><td>&quot;A0A0P0VAM0&quot;</td><td>&quot;Q7L211&quot;</td><td>0.974</td><td>0.831</td><td>10.25</td><td>0.4403</td><td>15.2</td><td>22.2</td><td>24.5</td><td>37.0</td></tr><tr><td>&hellip;</td><td>&hellip;</td><td>&hellip;</td><td>&hellip;</td><td>&hellip;</td><td>&hellip;</td><td>&hellip;</td><td>&hellip;</td><td>&hellip;</td><td>&hellip;</td><td>&hellip;</td></tr><tr><td>&quot;Os06g0140700&quot;</td><td>&quot;Q5VPE3&quot;</td><td>&quot;P52954&quot;</td><td>0.877</td><td>0.801</td><td>31.1</td><td>0.6706</td><td>23.4</td><td>30.0</td><td>30.6</td><td>39.6</td></tr><tr><td>&quot;Os06g0140700&quot;</td><td>&quot;Q5VPE3&quot;</td><td>&quot;Q9NZR4&quot;</td><td>0.997</td><td>0.767</td><td>36.19</td><td>0.7205</td><td>16.9</td><td>23.6</td><td>27.8</td><td>37.5</td></tr><tr><td>&quot;Os06g0140700&quot;</td><td>&quot;Q5VPE3&quot;</td><td>&quot;P49640&quot;</td><td>0.997</td><td>0.715</td><td>40.62</td><td>0.7041</td><td>18.6</td><td>20.6</td><td>28.1</td><td>30.6</td></tr><tr><td>&quot;Os06g0140700&quot;</td><td>&quot;Q5VPE3&quot;</td><td>&quot;Q99453&quot;</td><td>0.896</td><td>0.895</td><td>37.03</td><td>0.6716</td><td>19.8</td><td>22.0</td><td>30.1</td><td>34.8</td></tr><tr><td>&quot;Os06g0140700&quot;</td><td>&quot;Q5VPE3&quot;</td><td>&quot;Q15270&quot;</td><td>0.997</td><td>0.584</td><td>39.19</td><td>0.7228</td><td>13.4</td><td>23.7</td><td>19.2</td><td>33.6</td></tr></tbody></table></div>"
      ],
      "text/plain": [
       "shape: (167, 11)\n",
       "┌────────────┬────────────┬────────────┬───────┬───┬───────────┬───────────┬───────────┬───────────┐\n",
       "│ From       ┆ UniProt    ┆ foldseek   ┆ qcov  ┆ … ┆ Identity_ ┆ Identity_ ┆ Similarit ┆ Similarit │\n",
       "│ ---        ┆ Accession  ┆ hit        ┆ ---   ┆   ┆ percent_n ┆ percent_w ┆ y_percent ┆ y_percent │\n",
       "│ str        ┆ ---        ┆ ---        ┆ f64   ┆   ┆ eedle     ┆ ater      ┆ _needle   ┆ _water    │\n",
       "│            ┆ str        ┆ str        ┆       ┆   ┆ ---       ┆ ---       ┆ ---       ┆ ---       │\n",
       "│            ┆            ┆            ┆       ┆   ┆ f64       ┆ f64       ┆ f64       ┆ f64       │\n",
       "╞════════════╪════════════╪════════════╪═══════╪═══╪═══════════╪═══════════╪═══════════╪═══════════╡\n",
       "│ Os01g01876 ┆ A0A0P0UZ77 ┆ P82664     ┆ 0.758 ┆ … ┆ 1.7       ┆ 32.5      ┆ 1.9       ┆ 47.5      │\n",
       "│ 00         ┆            ┆            ┆       ┆   ┆           ┆           ┆           ┆           │\n",
       "│ Os01g08592 ┆ Q94DD0     ┆ Q9UMR5     ┆ 0.816 ┆ … ┆ 14.1      ┆ 17.8      ┆ 25.6      ┆ 31.4      │\n",
       "│ 00         ┆            ┆            ┆       ┆   ┆           ┆           ┆           ┆           │\n",
       "│ Os01g08592 ┆ Q94DD0     ┆ Q5EB52     ┆ 0.957 ┆ … ┆ 17.7      ┆ 23.9      ┆ 28.9      ┆ 39.6      │\n",
       "│ 00         ┆            ┆            ┆       ┆   ┆           ┆           ┆           ┆           │\n",
       "│ Os01g08592 ┆ Q94DD0     ┆ P38571     ┆ 0.862 ┆ … ┆ 15.3      ┆ 17.1      ┆ 26.9      ┆ 30.0      │\n",
       "│ 00         ┆            ┆            ┆       ┆   ┆           ┆           ┆           ┆           │\n",
       "│ Os01g08592 ┆ A0A0P0VAM0 ┆ Q7L211     ┆ 0.974 ┆ … ┆ 15.2      ┆ 22.2      ┆ 24.5      ┆ 37.0      │\n",
       "│ 00         ┆            ┆            ┆       ┆   ┆           ┆           ┆           ┆           │\n",
       "│ …          ┆ …          ┆ …          ┆ …     ┆ … ┆ …         ┆ …         ┆ …         ┆ …         │\n",
       "│ Os06g01407 ┆ Q5VPE3     ┆ P52954     ┆ 0.877 ┆ … ┆ 23.4      ┆ 30.0      ┆ 30.6      ┆ 39.6      │\n",
       "│ 00         ┆            ┆            ┆       ┆   ┆           ┆           ┆           ┆           │\n",
       "│ Os06g01407 ┆ Q5VPE3     ┆ Q9NZR4     ┆ 0.997 ┆ … ┆ 16.9      ┆ 23.6      ┆ 27.8      ┆ 37.5      │\n",
       "│ 00         ┆            ┆            ┆       ┆   ┆           ┆           ┆           ┆           │\n",
       "│ Os06g01407 ┆ Q5VPE3     ┆ P49640     ┆ 0.997 ┆ … ┆ 18.6      ┆ 20.6      ┆ 28.1      ┆ 30.6      │\n",
       "│ 00         ┆            ┆            ┆       ┆   ┆           ┆           ┆           ┆           │\n",
       "│ Os06g01407 ┆ Q5VPE3     ┆ Q99453     ┆ 0.896 ┆ … ┆ 19.8      ┆ 22.0      ┆ 30.1      ┆ 34.8      │\n",
       "│ 00         ┆            ┆            ┆       ┆   ┆           ┆           ┆           ┆           │\n",
       "│ Os06g01407 ┆ Q5VPE3     ┆ Q15270     ┆ 0.997 ┆ … ┆ 13.4      ┆ 23.7      ┆ 19.2      ┆ 33.6      │\n",
       "│ 00         ┆            ┆            ┆       ┆   ┆           ┆           ┆           ┆           │\n",
       "└────────────┴────────────┴────────────┴───────┴───┴───────────┴───────────┴───────────┴───────────┘"
      ]
     },
     "metadata": {},
     "output_type": "display_data"
    }
   ],
   "source": [
    "foldseek_filter_viz = condition4.select(\n",
    "    \"From\",\n",
    "    \"UniProt Accession\",\n",
    "    \"foldseek hit\",\n",
    "    \"qcov\",\n",
    "    \"tcov\",\n",
    "    \"rmsd\",\n",
    "    \"lddt\",\n",
    "    \"Identity_percent_needle\",\n",
    "    \"Identity_percent_water\",\n",
    "    \"Similarity_percent_needle\",\n",
    "    \"Similarity_percent_water\"\n",
    ").unique(\n",
    "    subset=[\"From\", \"UniProt Accession\", \"foldseek hit\"]\n",
    ").sort(\n",
    "    by=[\"From\"],\n",
    "    descending=[False]\n",
    ")\n",
    "\n",
    "print(foldseek_filter_viz.group_by([\"From\", \"UniProt Accession\", \"foldseek hit\"], maintain_order=True).n_unique())\n",
    "display(foldseek_filter_viz)"
   ]
  },
  {
   "cell_type": "code",
   "execution_count": 20,
   "id": "7dabe4e0",
   "metadata": {
    "execution": {
     "iopub.execute_input": "2024-11-15T03:34:17.303353Z",
     "iopub.status.busy": "2024-11-15T03:34:17.303283Z",
     "iopub.status.idle": "2024-11-15T03:34:17.424274Z",
     "shell.execute_reply": "2024-11-15T03:34:17.424050Z"
    },
    "papermill": {
     "duration": 0.125267,
     "end_time": "2024-11-15T03:34:17.424594",
     "exception": false,
     "start_time": "2024-11-15T03:34:17.299327",
     "status": "completed"
    },
    "tags": []
   },
   "outputs": [
    {
     "data": {
      "text/plain": [
       "<Figure size 4000x4000 with 0 Axes>"
      ]
     },
     "metadata": {},
     "output_type": "display_data"
    },
    {
     "data": {
      "image/png": "[encoded data removed]",
      "text/plain": [
       "<Figure size 1100x1100 with 3 Axes>"
      ]
     },
     "metadata": {},
     "output_type": "display_data"
    },
    {
     "data": {
      "text/plain": [
       "<Figure size 5000x5000 with 0 Axes>"
      ]
     },
     "metadata": {},
     "output_type": "display_data"
    }
   ],
   "source": [
    "plt.figure(figsize=(8, 8), dpi=500)\n",
    "\n",
    "sns.jointplot(\n",
    "    data=foldseek_filter_viz,\n",
    "    x=\"Similarity_percent_needle\",\n",
    "    y=\"lddt\",\n",
    "    color=\"darkcyan\",\n",
    "    height=11,\n",
    "    ratio=4,\n",
    "    marginal_ticks=True\n",
    ")\n",
    "\n",
    "# highlight the region of interest\n",
    "# plt.fill_betweenx(\n",
    "#     y=[0.5, 1],\n",
    "#     x1=-0.5,\n",
    "#     x2=25,\n",
    "#     color=\"red\",\n",
    "#     alpha=0.1\n",
    "# )\n",
    "\n",
    "plt.xlim(-0.5,100)\n",
    "plt.ylim(0,1)\n",
    "plt.xlabel(\"global alignment similarity(%)\")\n",
    "plt.ylabel(\"LDDT\")\n",
    "plt.axvline(x=25, color=\"black\", linestyle=\":\")\n",
    "plt.axvline(x=50, color=\"black\", linestyle=\":\")\n",
    "plt.axvline(x=75, color=\"black\", linestyle=\":\")\n",
    "plt.axhline(y=0.5, color=\"black\", linestyle=\":\")\n",
    "plt.figure(figsize=(10, 10), dpi=500)\n",
    "plt.show()"
   ]
  },
  {
   "cell_type": "markdown",
   "id": "cc29f65f",
   "metadata": {
    "papermill": {
     "duration": 0.004242,
     "end_time": "2024-11-15T03:34:17.444093",
     "exception": false,
     "start_time": "2024-11-15T03:34:17.439851",
     "status": "completed"
    },
    "tags": []
   },
   "source": [
    "&nbsp;\n",
    "\n",
    "&nbsp;\n"
   ]
  }
 ],
 "metadata": {
  "kernelspec": {
   "display_name": "Python 3 (ipykernel)",
   "language": "python",
   "name": "python3"
  },
  "language_info": {
   "codemirror_mode": {
    "name": "ipython",
    "version": 3
   },
   "file_extension": ".py",
   "mimetype": "text/x-python",
   "name": "python",
   "nbconvert_exporter": "python",
   "pygments_lexer": "ipython3",
   "version": "3.11.4"
  },
  "papermill": {
   "default_parameters": {},
   "duration": 2.288805,
   "end_time": "2024-11-15T03:34:17.673689",
   "environment_variables": {},
   "exception": null,
   "input_path": "/tmp/6nhe8z4w/stg7675e641-206a-4b22-ad33-191baa610f85/foldseek_result_parse.ipynb",
   "output_path": "plant2human_report.ipynb",
   "parameters": {
    "foldseek_result_tsv": "/tmp/6nhe8z4w/stgb1107d51-fbae-4ccb-8dc1-c79a900b3d40/foldseek_os_random_9606.tsv",
    "needle_result_dir_path": "/tmp/6nhe8z4w/stgcb0a5586-c2cd-49ca-ad28-91bcd43b9a08/result_needle",
    "query_gene_list_tsv_path": "/tmp/6nhe8z4w/stgbd828ff4-aa47-4910-8564-5c7e2b795e5e/oryza_sativa_random_gene_list.tsv",
    "query_uniprot_idmapping_tsv": "/tmp/6nhe8z4w/stgc5f92ea2-56e7-4388-9495-32e9172931d9/rice_random_gene_idmapping_all.tsv",
    "togoid_convert_tsv_path": "/tmp/6nhe8z4w/stg8f383935-7a8c-458e-8096-6d16bd58722c/foldseek_hit_species_togoid_convert.tsv",
    "water_result_dir_path": "/tmp/6nhe8z4w/stg9f86c899-c598-49fb-914b-b9f2f77c4329/result_water"
   },
   "start_time": "2024-11-15T03:34:15.384884",
   "version": "2.6.0"
  }
 },
 "nbformat": 4,
 "nbformat_minor": 5
}