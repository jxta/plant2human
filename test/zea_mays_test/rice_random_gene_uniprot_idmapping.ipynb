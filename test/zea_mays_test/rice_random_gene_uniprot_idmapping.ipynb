{
 "cells": [
  {
   "cell_type": "code",
   "execution_count": 1,
   "id": "a9b004b7",
   "metadata": {
    "execution": {
     "iopub.execute_input": "2024-11-15T08:16:10.884936Z",
     "iopub.status.busy": "2024-11-15T08:16:10.883658Z",
     "iopub.status.idle": "2024-11-15T08:16:10.961717Z",
     "shell.execute_reply": "2024-11-15T08:16:10.961209Z"
    },
    "papermill": {
     "duration": 0.086996,
     "end_time": "2024-11-15T08:16:10.962476",
     "exception": false,
     "start_time": "2024-11-15T08:16:10.875480",
     "status": "completed"
    },
    "tags": []
   },
   "outputs": [],
   "source": [
    "import time\n",
    "import polars as pl\n",
    "import requests\n",
    "import json\n",
    "import pathlib\n",
    "from typing import List, Tuple\n",
    "from unipressed import IdMappingClient"
   ]
  },
  {
   "cell_type": "code",
   "execution_count": 2,
   "id": "9985f322",
   "metadata": {
    "execution": {
     "iopub.execute_input": "2024-11-15T08:16:10.965816Z",
     "iopub.status.busy": "2024-11-15T08:16:10.965697Z",
     "iopub.status.idle": "2024-11-15T08:16:10.967912Z",
     "shell.execute_reply": "2024-11-15T08:16:10.967372Z"
    },
    "papermill": {
     "duration": 0.004455,
     "end_time": "2024-11-15T08:16:10.968492",
     "exception": false,
     "start_time": "2024-11-15T08:16:10.964037",
     "status": "completed"
    },
    "tags": [
     "parameters"
    ]
   },
   "outputs": [],
   "source": [
    "gene_id_tsv = \"../test/zea_mays_test/zea_mays_random_gene_list.tsv\"\n",
    "query_db = \"Ensembl_Genomes\"\n",
    "target_db = \"UniProtKB\"\n",
    "json_dir = \"zea_mays_random_gene_afinfo\"\n",
    "data_url = \"cifUrl\" # or \"pdbUrl\", \"bcifUrl\", \"paeImageUrl\", \"paeDocUrl\"\n",
    "structure_dir = \"zea_mays_random_gene_mmcif\"\n",
    "id_mapping_all_file = \"zea_mays_random_gene_idmapping_all.tsv\""
   ]
  },
  {
   "cell_type": "code",
   "execution_count": 3,
   "id": "b5e0c493",
   "metadata": {
    "execution": {
     "iopub.execute_input": "2024-11-15T08:16:10.971092Z",
     "iopub.status.busy": "2024-11-15T08:16:10.971017Z",
     "iopub.status.idle": "2024-11-15T08:16:10.973152Z",
     "shell.execute_reply": "2024-11-15T08:16:10.972746Z"
    },
    "papermill": {
     "duration": 0.003813,
     "end_time": "2024-11-15T08:16:10.973497",
     "exception": false,
     "start_time": "2024-11-15T08:16:10.969684",
     "status": "completed"
    },
    "tags": [
     "injected-parameters"
    ]
   },
   "outputs": [],
   "source": [
    "# Parameters\n",
    "gene_id_tsv = \"/tmp/5wc6mocx/stg4bdc0485-80fa-4b5f-83d4-12fbb315a346/zea_mays_random_gene_list.tsv\"\n",
    "query_db = \"Ensembl_Genomes\"\n",
    "target_db = \"UniProtKB\"\n",
    "json_dir = \"zea_mays_random_gene_afinfo\"\n",
    "data_url = \"cifUrl\"\n",
    "structure_dir = \"zea_mays_random_gene_mmcif\"\n",
    "id_mapping_all_file = \"zea_mays_random_gene_idmapping_all.tsv\"\n"
   ]
  },
  {
   "cell_type": "markdown",
   "id": "510ec53e",
   "metadata": {
    "papermill": {
     "duration": 0.00104,
     "end_time": "2024-11-15T08:16:10.975631",
     "exception": false,
     "start_time": "2024-11-15T08:16:10.974591",
     "status": "completed"
    },
    "tags": []
   },
   "source": [
    "&nbsp;\n",
    "\n",
    "&nbsp;"
   ]
  },
  {
   "cell_type": "markdown",
   "id": "db442331",
   "metadata": {
    "papermill": {
     "duration": 0.001396,
     "end_time": "2024-11-15T08:16:10.978081",
     "exception": false,
     "start_time": "2024-11-15T08:16:10.976685",
     "status": "completed"
    },
    "tags": []
   },
   "source": [
    "## 1. UniProt ID mapping step"
   ]
  },
  {
   "cell_type": "code",
   "execution_count": 4,
   "id": "4adba984",
   "metadata": {
    "execution": {
     "iopub.execute_input": "2024-11-15T08:16:10.980892Z",
     "iopub.status.busy": "2024-11-15T08:16:10.980802Z",
     "iopub.status.idle": "2024-11-15T08:16:10.983100Z",
     "shell.execute_reply": "2024-11-15T08:16:10.982688Z"
    },
    "papermill": {
     "duration": 0.004129,
     "end_time": "2024-11-15T08:16:10.983505",
     "exception": false,
     "start_time": "2024-11-15T08:16:10.979376",
     "status": "completed"
    },
    "tags": [
     "Function"
    ]
   },
   "outputs": [],
   "source": [
    "def chunk_list(lst: List, chunk_size: int) -> List[List]:\n",
    "    \"\"\"Split a gene list into chunks\"\"\"\n",
    "    return [lst[i:i + chunk_size] for i in range(0, len(lst), chunk_size)]"
   ]
  },
  {
   "cell_type": "code",
   "execution_count": 5,
   "id": "5305bfa6",
   "metadata": {
    "execution": {
     "iopub.execute_input": "2024-11-15T08:16:10.986812Z",
     "iopub.status.busy": "2024-11-15T08:16:10.986575Z",
     "iopub.status.idle": "2024-11-15T08:16:10.989722Z",
     "shell.execute_reply": "2024-11-15T08:16:10.989437Z"
    },
    "papermill": {
     "duration": 0.005135,
     "end_time": "2024-11-15T08:16:10.990113",
     "exception": false,
     "start_time": "2024-11-15T08:16:10.984978",
     "status": "completed"
    },
    "tags": []
   },
   "outputs": [],
   "source": [
    "def batch_id_mapping(from_db: str, to_db: str, ids: List[str], chunk_size: int = 100) -> Tuple[pl.DataFrame, List[str]]:\n",
    "    \"\"\"function for batch id mapping\"\"\"\n",
    "    all_results = []\n",
    "    all_unmapped = []\n",
    "    chunked_ids = chunk_list(ids, chunk_size)\n",
    "\n",
    "    for i, chunk in enumerate(chunked_ids):\n",
    "        print(f\"Processing chunk {i+1}/{len(chunked_ids)}...\")\n",
    "        \n",
    "        # create request and run\n",
    "        request = IdMappingClient.submit(source=from_db, dest=to_db, ids=chunk)\n",
    "        \n",
    "        # process results\n",
    "        chunk_results = list(request.each_result())\n",
    "        mapped_results = [{\"from\": item[\"from\"], \"to\": item[\"to\"]} for item in chunk_results]\n",
    "        all_results.extend(mapped_results)\n",
    "\n",
    "        # record unmapped ids\n",
    "        mapped_ids = set(item[\"from\"] for item in mapped_results)\n",
    "        unmapped = [id for id in chunk if id not in mapped_ids]\n",
    "        all_unmapped.extend(unmapped)\n",
    "\n",
    "        # avoid API rate limit\n",
    "        time.sleep(3)\n",
    "\n",
    "    # convert results to DataFrame\n",
    "    final_df = pl.DataFrame(all_results)\n",
    "    return final_df, all_unmapped"
   ]
  },
  {
   "cell_type": "code",
   "execution_count": 6,
   "id": "26186674",
   "metadata": {
    "execution": {
     "iopub.execute_input": "2024-11-15T08:16:10.992832Z",
     "iopub.status.busy": "2024-11-15T08:16:10.992735Z",
     "iopub.status.idle": "2024-11-15T08:16:21.888973Z",
     "shell.execute_reply": "2024-11-15T08:16:21.887110Z"
    },
    "papermill": {
     "duration": 10.899383,
     "end_time": "2024-11-15T08:16:21.890711",
     "exception": false,
     "start_time": "2024-11-15T08:16:10.991328",
     "status": "completed"
    },
    "tags": []
   },
   "outputs": [
    {
     "name": "stdout",
     "output_type": "stream",
     "text": [
      "Processing chunk 1/1...\n"
     ]
    },
    {
     "data": {
      "text/html": [
       "<div><style>\n",
       ".dataframe > thead > tr,\n",
       ".dataframe > tbody > tr {\n",
       "  text-align: right;\n",
       "  white-space: pre-wrap;\n",
       "}\n",
       "</style>\n",
       "<small>shape: (137, 2)</small><table border=\"1\" class=\"dataframe\"><thead><tr><th>from</th><th>to</th></tr><tr><td>str</td><td>str</td></tr></thead><tbody><tr><td>&quot;Zm00001eb204330&quot;</td><td>&quot;A0A804P2N6&quot;</td></tr><tr><td>&quot;Zm00001eb349830&quot;</td><td>&quot;A0A804QQF5&quot;</td></tr><tr><td>&quot;Zm00001eb349830&quot;</td><td>&quot;A0A804UGM9&quot;</td></tr><tr><td>&quot;Zm00001eb296320&quot;</td><td>&quot;A0A1D6MD98&quot;</td></tr><tr><td>&quot;Zm00001eb071640&quot;</td><td>&quot;A0A1D6E0F4&quot;</td></tr><tr><td>&hellip;</td><td>&hellip;</td></tr><tr><td>&quot;Zm00001eb153500&quot;</td><td>&quot;B6SNE2&quot;</td></tr><tr><td>&quot;Zm00001eb419930&quot;</td><td>&quot;A0A804UM97&quot;</td></tr><tr><td>&quot;Zm00001eb184670&quot;</td><td>&quot;A0A804NTC5&quot;</td></tr><tr><td>&quot;Zm00001eb421170&quot;</td><td>&quot;K7TJV6&quot;</td></tr><tr><td>&quot;Zm00001eb421170&quot;</td><td>&quot;K7UHT8&quot;</td></tr></tbody></table></div>"
      ],
      "text/plain": [
       "shape: (137, 2)\n",
       "┌─────────────────┬────────────┐\n",
       "│ from            ┆ to         │\n",
       "│ ---             ┆ ---        │\n",
       "│ str             ┆ str        │\n",
       "╞═════════════════╪════════════╡\n",
       "│ Zm00001eb204330 ┆ A0A804P2N6 │\n",
       "│ Zm00001eb349830 ┆ A0A804QQF5 │\n",
       "│ Zm00001eb349830 ┆ A0A804UGM9 │\n",
       "│ Zm00001eb296320 ┆ A0A1D6MD98 │\n",
       "│ Zm00001eb071640 ┆ A0A1D6E0F4 │\n",
       "│ …               ┆ …          │\n",
       "│ Zm00001eb153500 ┆ B6SNE2     │\n",
       "│ Zm00001eb419930 ┆ A0A804UM97 │\n",
       "│ Zm00001eb184670 ┆ A0A804NTC5 │\n",
       "│ Zm00001eb421170 ┆ K7TJV6     │\n",
       "│ Zm00001eb421170 ┆ K7UHT8     │\n",
       "└─────────────────┴────────────┘"
      ]
     },
     "metadata": {},
     "output_type": "display_data"
    },
    {
     "data": {
      "text/plain": [
       "['Zm00001eb231650',\n",
       " 'Zm00001eb096630',\n",
       " 'Zm00001eb059280',\n",
       " 'Zm00001eb440370',\n",
       " 'Zm00001eb361340']"
      ]
     },
     "metadata": {},
     "output_type": "display_data"
    }
   ],
   "source": [
    "gene_ids = pl.read_csv(\n",
    "    gene_id_tsv,\n",
    "    separator='\\t'\n",
    ").get_column(\"From\").to_list()\n",
    "\n",
    "mapped_df, unmapped_ids = batch_id_mapping(\n",
    "    query_db,\n",
    "    target_db,\n",
    "    gene_ids\n",
    ")\n",
    "\n",
    "display(mapped_df)\n",
    "display(unmapped_ids)"
   ]
  },
  {
   "cell_type": "code",
   "execution_count": 7,
   "id": "1597378d",
   "metadata": {
    "execution": {
     "iopub.execute_input": "2024-11-15T08:16:21.900057Z",
     "iopub.status.busy": "2024-11-15T08:16:21.899859Z",
     "iopub.status.idle": "2024-11-15T08:16:21.904887Z",
     "shell.execute_reply": "2024-11-15T08:16:21.904493Z"
    },
    "papermill": {
     "duration": 0.009985,
     "end_time": "2024-11-15T08:16:21.905544",
     "exception": false,
     "start_time": "2024-11-15T08:16:21.895559",
     "status": "completed"
    },
    "tags": []
   },
   "outputs": [
    {
     "data": {
      "text/html": [
       "<div><style>\n",
       ".dataframe > thead > tr,\n",
       ".dataframe > tbody > tr {\n",
       "  text-align: right;\n",
       "  white-space: pre-wrap;\n",
       "}\n",
       "</style>\n",
       "<small>shape: (137, 2)</small><table border=\"1\" class=\"dataframe\"><thead><tr><th>From</th><th>UniProt Accession</th></tr><tr><td>str</td><td>str</td></tr></thead><tbody><tr><td>&quot;Zm00001eb204330&quot;</td><td>&quot;A0A804P2N6&quot;</td></tr><tr><td>&quot;Zm00001eb349830&quot;</td><td>&quot;A0A804QQF5&quot;</td></tr><tr><td>&quot;Zm00001eb349830&quot;</td><td>&quot;A0A804UGM9&quot;</td></tr><tr><td>&quot;Zm00001eb296320&quot;</td><td>&quot;A0A1D6MD98&quot;</td></tr><tr><td>&quot;Zm00001eb071640&quot;</td><td>&quot;A0A1D6E0F4&quot;</td></tr><tr><td>&hellip;</td><td>&hellip;</td></tr><tr><td>&quot;Zm00001eb153500&quot;</td><td>&quot;B6SNE2&quot;</td></tr><tr><td>&quot;Zm00001eb419930&quot;</td><td>&quot;A0A804UM97&quot;</td></tr><tr><td>&quot;Zm00001eb184670&quot;</td><td>&quot;A0A804NTC5&quot;</td></tr><tr><td>&quot;Zm00001eb421170&quot;</td><td>&quot;K7TJV6&quot;</td></tr><tr><td>&quot;Zm00001eb421170&quot;</td><td>&quot;K7UHT8&quot;</td></tr></tbody></table></div>"
      ],
      "text/plain": [
       "shape: (137, 2)\n",
       "┌─────────────────┬───────────────────┐\n",
       "│ From            ┆ UniProt Accession │\n",
       "│ ---             ┆ ---               │\n",
       "│ str             ┆ str               │\n",
       "╞═════════════════╪═══════════════════╡\n",
       "│ Zm00001eb204330 ┆ A0A804P2N6        │\n",
       "│ Zm00001eb349830 ┆ A0A804QQF5        │\n",
       "│ Zm00001eb349830 ┆ A0A804UGM9        │\n",
       "│ Zm00001eb296320 ┆ A0A1D6MD98        │\n",
       "│ Zm00001eb071640 ┆ A0A1D6E0F4        │\n",
       "│ …               ┆ …                 │\n",
       "│ Zm00001eb153500 ┆ B6SNE2            │\n",
       "│ Zm00001eb419930 ┆ A0A804UM97        │\n",
       "│ Zm00001eb184670 ┆ A0A804NTC5        │\n",
       "│ Zm00001eb421170 ┆ K7TJV6            │\n",
       "│ Zm00001eb421170 ┆ K7UHT8            │\n",
       "└─────────────────┴───────────────────┘"
      ]
     },
     "metadata": {},
     "output_type": "display_data"
    }
   ],
   "source": [
    "mapped_df2 = mapped_df.rename(\n",
    "    {\n",
    "        \"from\": \"From\",\n",
    "        \"to\": \"UniProt Accession\"\n",
    "    }\n",
    ")\n",
    "\n",
    "display(mapped_df2)"
   ]
  },
  {
   "cell_type": "code",
   "execution_count": 8,
   "id": "42eacafc",
   "metadata": {
    "execution": {
     "iopub.execute_input": "2024-11-15T08:16:21.912305Z",
     "iopub.status.busy": "2024-11-15T08:16:21.912186Z",
     "iopub.status.idle": "2024-11-15T08:16:21.914562Z",
     "shell.execute_reply": "2024-11-15T08:16:21.914269Z"
    },
    "papermill": {
     "duration": 0.005871,
     "end_time": "2024-11-15T08:16:21.915091",
     "exception": false,
     "start_time": "2024-11-15T08:16:21.909220",
     "status": "completed"
    },
    "tags": []
   },
   "outputs": [
    {
     "name": "stdout",
     "output_type": "stream",
     "text": [
      "False\n",
      "False\n"
     ]
    }
   ],
   "source": [
    "print(mapped_df.is_empty())\n",
    "print(len(unmapped_ids) == 0)\n"
   ]
  },
  {
   "cell_type": "markdown",
   "id": "db623cf0",
   "metadata": {
    "papermill": {
     "duration": 0.002371,
     "end_time": "2024-11-15T08:16:21.919884",
     "exception": false,
     "start_time": "2024-11-15T08:16:21.917513",
     "status": "completed"
    },
    "tags": []
   },
   "source": [
    "&nbsp;\n",
    "\n",
    "&nbsp;"
   ]
  },
  {
   "cell_type": "markdown",
   "id": "fce86098",
   "metadata": {
    "papermill": {
     "duration": 0.002427,
     "end_time": "2024-11-15T08:16:21.924622",
     "exception": false,
     "start_time": "2024-11-15T08:16:21.922195",
     "status": "completed"
    },
    "tags": []
   },
   "source": [
    "## 2. UniProt re-mapping \n",
    "\n",
    "## 3. Concatenate the two dataframes\n",
    "\n",
    "## 4. AlphaFoldDB metadata JSON files"
   ]
  },
  {
   "cell_type": "code",
   "execution_count": 9,
   "id": "8c1e389c",
   "metadata": {
    "execution": {
     "iopub.execute_input": "2024-11-15T08:16:21.929350Z",
     "iopub.status.busy": "2024-11-15T08:16:21.929222Z",
     "iopub.status.idle": "2024-11-15T08:16:21.933282Z",
     "shell.execute_reply": "2024-11-15T08:16:21.932962Z"
    },
    "papermill": {
     "duration": 0.007036,
     "end_time": "2024-11-15T08:16:21.933730",
     "exception": false,
     "start_time": "2024-11-15T08:16:21.926694",
     "status": "completed"
    },
    "tags": [
     "function"
    ]
   },
   "outputs": [],
   "source": [
    "def fetch_uniprot_data(ensembl_ids: List[str]) -> pl.DataFrame:\n",
    "    results = []\n",
    "\n",
    "    for id in ensembl_ids:\n",
    "        print(f\"Processing {id}...\")\n",
    "        url = (\n",
    "            f\"https://rest.uniprot.org/uniprotkb/search?\"\n",
    "            f\"query=gene:{id}&format=json\"\n",
    "        )\n",
    "        response = requests.get(url)\n",
    "        \n",
    "        if response.status_code == 200:\n",
    "            data = json.loads(response.text)\n",
    "            for item in data.get('results', []):\n",
    "                primary_accession = item.get('primaryAccession', '')\n",
    "                secondary_accessions = item.get('secondaryAccessions', [])\n",
    "                all_accessions = [primary_accession] + secondary_accessions\n",
    "                \n",
    "                for accession in all_accessions:\n",
    "                    entry = {\n",
    "                        \"From\": id,\n",
    "                        \"UniProt Accession\": accession\n",
    "                    }\n",
    "                    \n",
    "                    # Check if the accession is a match for the gene \n",
    "                    # (e.g. Os03g0293000 matches OrderedLocusNames)\n",
    "                    match_found = False\n",
    "                    for gene in item.get('genes', []):\n",
    "                        for locus in gene.get('orderedLocusNames', []):\n",
    "                            if locus.get('value', '') == id:\n",
    "                                match_found = True\n",
    "                                break\n",
    "                        if match_found:\n",
    "                            break\n",
    "                    \n",
    "                    if match_found:\n",
    "                        results.append(entry)\n",
    "        else:\n",
    "            print(f\"Error fetching data for {id}: {response.status_code}\")\n",
    "        \n",
    "        time.sleep(1)\n",
    "\n",
    "    return pl.DataFrame(results)"
   ]
  },
  {
   "cell_type": "code",
   "execution_count": 10,
   "id": "6d6e60f9",
   "metadata": {
    "execution": {
     "iopub.execute_input": "2024-11-15T08:16:21.938667Z",
     "iopub.status.busy": "2024-11-15T08:16:21.938551Z",
     "iopub.status.idle": "2024-11-15T08:16:21.942565Z",
     "shell.execute_reply": "2024-11-15T08:16:21.942353Z"
    },
    "papermill": {
     "duration": 0.006927,
     "end_time": "2024-11-15T08:16:21.943010",
     "exception": false,
     "start_time": "2024-11-15T08:16:21.936083",
     "status": "completed"
    },
    "tags": []
   },
   "outputs": [],
   "source": [
    "def get_af_json(dataframe: pl.DataFrame, target_dir: str):\n",
    "    \"\"\"\n",
    "    Get JSON file from AlphaFoldDB\n",
    "    \"\"\"\n",
    "    pathlib.Path(target_dir).mkdir(parents=True, exist_ok=True)\n",
    "    \n",
    "    for row in dataframe.iter_rows():\n",
    "        gene_id = row[0]\n",
    "        uniprot_id = row[1]\n",
    "        \n",
    "        json_file_name = pathlib.Path(target_dir) / f\"{gene_id}_{uniprot_id}_info.json\"\n",
    "        \n",
    "        if json_file_name.exists():\n",
    "            message_1 = f\"{json_file_name} already exists\"\n",
    "            print(message_1)\n",
    "            continue\n",
    "        \n",
    "        request_url = f\"https://alphafold.ebi.ac.uk/api/prediction/{uniprot_id}\"\n",
    "        \n",
    "        try:\n",
    "            response = requests.get(request_url, headers={\"Accept\": \"application/json\"}, timeout=30)\n",
    "            response.raise_for_status()\n",
    "            \n",
    "            if response.text:\n",
    "                data = json.loads(response.text) # parse json\n",
    "                if isinstance(data, list) and len(data) > 0:\n",
    "                    message_2 = f\"AlphaFold ID {uniprot_id} found in AlphaFold\"\n",
    "                    print(message_2)\n",
    "                    with open(json_file_name, 'w') as f:\n",
    "                        json.dump(data[0], f, indent=4)\n",
    "                else:\n",
    "                    message_3 = f\"AlphaFold ID {uniprot_id} not found in AlphaFold\"\n",
    "                    print(message_3)\n",
    "            else:\n",
    "                message_4 = f\"Empty response for AlphaFold ID {uniprot_id}\"\n",
    "                print(message_4)\n",
    "        except requests.exceptions.RequestException as e:\n",
    "            message_5 = f\"Request failed: {e}\"\n",
    "            print(message_5)\n",
    "            message_6 = f\"AlphaFold ID {uniprot_id} not found in AlphaFold\"\n",
    "            print(message_6)\n",
    "        time.sleep(5)"
   ]
  },
  {
   "cell_type": "code",
   "execution_count": 11,
   "id": "1bee11d2",
   "metadata": {
    "execution": {
     "iopub.execute_input": "2024-11-15T08:16:21.947166Z",
     "iopub.status.busy": "2024-11-15T08:16:21.947095Z",
     "iopub.status.idle": "2024-11-15T08:16:32.556965Z",
     "shell.execute_reply": "2024-11-15T08:16:32.555975Z"
    },
    "papermill": {
     "duration": 10.613643,
     "end_time": "2024-11-15T08:16:32.558629",
     "exception": false,
     "start_time": "2024-11-15T08:16:21.944986",
     "status": "completed"
    },
    "tags": []
   },
   "outputs": [
    {
     "name": "stdout",
     "output_type": "stream",
     "text": [
      "Processing Zm00001eb231650...\n"
     ]
    },
    {
     "name": "stdout",
     "output_type": "stream",
     "text": [
      "Processing Zm00001eb096630...\n"
     ]
    },
    {
     "name": "stdout",
     "output_type": "stream",
     "text": [
      "Processing Zm00001eb059280...\n"
     ]
    },
    {
     "name": "stdout",
     "output_type": "stream",
     "text": [
      "Processing Zm00001eb440370...\n"
     ]
    },
    {
     "name": "stdout",
     "output_type": "stream",
     "text": [
      "Processing Zm00001eb361340...\n"
     ]
    },
    {
     "data": {
      "text/html": [
       "<div><style>\n",
       ".dataframe > thead > tr,\n",
       ".dataframe > tbody > tr {\n",
       "  text-align: right;\n",
       "  white-space: pre-wrap;\n",
       "}\n",
       "</style>\n",
       "<small>shape: (0, 0)</small><table border=\"1\" class=\"dataframe\"><thead><tr></tr><tr></tr></thead><tbody></tbody></table></div>"
      ],
      "text/plain": [
       "shape: (0, 0)\n",
       "┌┐\n",
       "╞╡\n",
       "└┘"
      ]
     },
     "metadata": {},
     "output_type": "display_data"
    }
   ],
   "source": [
    "unmapped_df = fetch_uniprot_data(unmapped_ids)\n",
    "display(unmapped_df)"
   ]
  },
  {
   "cell_type": "code",
   "execution_count": 12,
   "id": "abe9cc14",
   "metadata": {
    "execution": {
     "iopub.execute_input": "2024-11-15T08:16:32.576769Z",
     "iopub.status.busy": "2024-11-15T08:16:32.576465Z",
     "iopub.status.idle": "2024-11-15T08:30:41.346926Z",
     "shell.execute_reply": "2024-11-15T08:30:41.344272Z"
    },
    "papermill": {
     "duration": 848.77959,
     "end_time": "2024-11-15T08:30:41.348129",
     "exception": false,
     "start_time": "2024-11-15T08:16:32.568539",
     "status": "completed"
    },
    "tags": []
   },
   "outputs": [
    {
     "name": "stdout",
     "output_type": "stream",
     "text": [
      "Processing Zm00001eb231650...\n"
     ]
    },
    {
     "name": "stdout",
     "output_type": "stream",
     "text": [
      "Processing Zm00001eb096630...\n"
     ]
    },
    {
     "name": "stdout",
     "output_type": "stream",
     "text": [
      "Processing Zm00001eb059280...\n"
     ]
    },
    {
     "name": "stdout",
     "output_type": "stream",
     "text": [
      "Processing Zm00001eb440370...\n"
     ]
    },
    {
     "name": "stdout",
     "output_type": "stream",
     "text": [
      "Processing Zm00001eb361340...\n"
     ]
    },
    {
     "data": {
      "text/html": [
       "<div><style>\n",
       ".dataframe > thead > tr,\n",
       ".dataframe > tbody > tr {\n",
       "  text-align: right;\n",
       "  white-space: pre-wrap;\n",
       "}\n",
       "</style>\n",
       "<small>shape: (0, 0)</small><table border=\"1\" class=\"dataframe\"><thead><tr></tr><tr></tr></thead><tbody></tbody></table></div>"
      ],
      "text/plain": [
       "shape: (0, 0)\n",
       "┌┐\n",
       "╞╡\n",
       "└┘"
      ]
     },
     "metadata": {},
     "output_type": "display_data"
    },
    {
     "name": "stdout",
     "output_type": "stream",
     "text": [
      "unmapped dataframe is empty, skipping get_af_json.\n"
     ]
    },
    {
     "name": "stdout",
     "output_type": "stream",
     "text": [
      "AlphaFold ID A0A804P2N6 found in AlphaFold\n"
     ]
    },
    {
     "name": "stdout",
     "output_type": "stream",
     "text": [
      "AlphaFold ID A0A804QQF5 found in AlphaFold\n"
     ]
    },
    {
     "name": "stdout",
     "output_type": "stream",
     "text": [
      "AlphaFold ID A0A804UGM9 found in AlphaFold\n"
     ]
    },
    {
     "name": "stdout",
     "output_type": "stream",
     "text": [
      "AlphaFold ID A0A1D6MD98 found in AlphaFold\n"
     ]
    },
    {
     "name": "stdout",
     "output_type": "stream",
     "text": [
      "AlphaFold ID A0A1D6E0F4 found in AlphaFold\n"
     ]
    },
    {
     "name": "stdout",
     "output_type": "stream",
     "text": [
      "AlphaFold ID A0A804MAU5 found in AlphaFold\n"
     ]
    },
    {
     "name": "stdout",
     "output_type": "stream",
     "text": [
      "AlphaFold ID A0A804MAU6 found in AlphaFold\n"
     ]
    },
    {
     "name": "stdout",
     "output_type": "stream",
     "text": [
      "AlphaFold ID A0A804MAU7 found in AlphaFold\n"
     ]
    },
    {
     "name": "stdout",
     "output_type": "stream",
     "text": [
      "AlphaFold ID A0A1D6PWA6 found in AlphaFold\n"
     ]
    },
    {
     "name": "stdout",
     "output_type": "stream",
     "text": [
      "AlphaFold ID C0P6X3 found in AlphaFold\n"
     ]
    },
    {
     "name": "stdout",
     "output_type": "stream",
     "text": [
      "AlphaFold ID A0A1D6GPU8 found in AlphaFold\n"
     ]
    },
    {
     "name": "stdout",
     "output_type": "stream",
     "text": [
      "AlphaFold ID A0A804PB01 found in AlphaFold\n"
     ]
    },
    {
     "name": "stdout",
     "output_type": "stream",
     "text": [
      "AlphaFold ID A0A804PB06 found in AlphaFold\n"
     ]
    },
    {
     "name": "stdout",
     "output_type": "stream",
     "text": [
      "AlphaFold ID A0A804M4M2 found in AlphaFold\n"
     ]
    },
    {
     "name": "stdout",
     "output_type": "stream",
     "text": [
      "AlphaFold ID C0P9K7 found in AlphaFold\n"
     ]
    },
    {
     "name": "stdout",
     "output_type": "stream",
     "text": [
      "AlphaFold ID C0P6A5 found in AlphaFold\n"
     ]
    },
    {
     "name": "stdout",
     "output_type": "stream",
     "text": [
      "AlphaFold ID A0A1D6QNW6 found in AlphaFold\n"
     ]
    },
    {
     "name": "stdout",
     "output_type": "stream",
     "text": [
      "AlphaFold ID B6SY14 found in AlphaFold\n"
     ]
    },
    {
     "name": "stdout",
     "output_type": "stream",
     "text": [
      "AlphaFold ID K7UDU8 found in AlphaFold\n"
     ]
    },
    {
     "name": "stdout",
     "output_type": "stream",
     "text": [
      "AlphaFold ID A0A1D6G2N0 found in AlphaFold\n"
     ]
    },
    {
     "name": "stdout",
     "output_type": "stream",
     "text": [
      "AlphaFold ID A0A804QXE3 found in AlphaFold\n"
     ]
    },
    {
     "name": "stdout",
     "output_type": "stream",
     "text": [
      "AlphaFold ID K7U586 found in AlphaFold\n"
     ]
    },
    {
     "name": "stdout",
     "output_type": "stream",
     "text": [
      "AlphaFold ID A0A804PMG5 found in AlphaFold\n"
     ]
    },
    {
     "name": "stdout",
     "output_type": "stream",
     "text": [
      "AlphaFold ID K7UZ84 found in AlphaFold\n"
     ]
    },
    {
     "name": "stdout",
     "output_type": "stream",
     "text": [
      "AlphaFold ID A0A1D6M810 found in AlphaFold\n"
     ]
    },
    {
     "name": "stdout",
     "output_type": "stream",
     "text": [
      "AlphaFold ID A0A1D6M812 found in AlphaFold\n"
     ]
    },
    {
     "name": "stdout",
     "output_type": "stream",
     "text": [
      "AlphaFold ID C0PHA7 found in AlphaFold\n"
     ]
    },
    {
     "name": "stdout",
     "output_type": "stream",
     "text": [
      "AlphaFold ID B4FE10 found in AlphaFold\n"
     ]
    },
    {
     "name": "stdout",
     "output_type": "stream",
     "text": [
      "AlphaFold ID A0A1D6K5D2 found in AlphaFold\n"
     ]
    },
    {
     "name": "stdout",
     "output_type": "stream",
     "text": [
      "AlphaFold ID A0A1D6PXC8 found in AlphaFold\n"
     ]
    },
    {
     "name": "stdout",
     "output_type": "stream",
     "text": [
      "AlphaFold ID A0A804NNP6 found in AlphaFold\n"
     ]
    },
    {
     "name": "stdout",
     "output_type": "stream",
     "text": [
      "AlphaFold ID B6T3P2 found in AlphaFold\n"
     ]
    },
    {
     "name": "stdout",
     "output_type": "stream",
     "text": [
      "AlphaFold ID B6TF38 found in AlphaFold\n"
     ]
    },
    {
     "name": "stdout",
     "output_type": "stream",
     "text": [
      "AlphaFold ID C0PFY1 found in AlphaFold\n"
     ]
    },
    {
     "name": "stdout",
     "output_type": "stream",
     "text": [
      "AlphaFold ID K7TVS3 found in AlphaFold\n"
     ]
    },
    {
     "name": "stdout",
     "output_type": "stream",
     "text": [
      "AlphaFold ID B6T001 found in AlphaFold\n"
     ]
    },
    {
     "name": "stdout",
     "output_type": "stream",
     "text": [
      "AlphaFold ID A0A804NQY2 found in AlphaFold\n"
     ]
    },
    {
     "name": "stdout",
     "output_type": "stream",
     "text": [
      "AlphaFold ID B6TZV7 found in AlphaFold\n"
     ]
    },
    {
     "name": "stdout",
     "output_type": "stream",
     "text": [
      "AlphaFold ID K7VEJ7 found in AlphaFold\n"
     ]
    },
    {
     "name": "stdout",
     "output_type": "stream",
     "text": [
      "Request failed: 404 Client Error: Not Found for url: https://alphafold.ebi.ac.uk/api/prediction/A0A1D6MPZ1\n",
      "AlphaFold ID A0A1D6MPZ1 not found in AlphaFold\n"
     ]
    },
    {
     "name": "stdout",
     "output_type": "stream",
     "text": [
      "AlphaFold ID B4FSZ4 found in AlphaFold\n"
     ]
    },
    {
     "name": "stdout",
     "output_type": "stream",
     "text": [
      "AlphaFold ID A0A1D6K2E8 found in AlphaFold\n"
     ]
    },
    {
     "name": "stdout",
     "output_type": "stream",
     "text": [
      "AlphaFold ID A0A804LPQ0 found in AlphaFold\n"
     ]
    },
    {
     "name": "stdout",
     "output_type": "stream",
     "text": [
      "AlphaFold ID B4FES7 found in AlphaFold\n"
     ]
    },
    {
     "name": "stdout",
     "output_type": "stream",
     "text": [
      "AlphaFold ID B4FYQ1 found in AlphaFold\n"
     ]
    },
    {
     "name": "stdout",
     "output_type": "stream",
     "text": [
      "AlphaFold ID A0A804P956 found in AlphaFold\n"
     ]
    },
    {
     "name": "stdout",
     "output_type": "stream",
     "text": [
      "AlphaFold ID A0A804P1Z6 found in AlphaFold\n"
     ]
    },
    {
     "name": "stdout",
     "output_type": "stream",
     "text": [
      "AlphaFold ID A0A804PT24 found in AlphaFold\n"
     ]
    },
    {
     "name": "stdout",
     "output_type": "stream",
     "text": [
      "AlphaFold ID A0A804PU47 found in AlphaFold\n"
     ]
    },
    {
     "name": "stdout",
     "output_type": "stream",
     "text": [
      "AlphaFold ID A0A804PUA1 found in AlphaFold\n"
     ]
    },
    {
     "name": "stdout",
     "output_type": "stream",
     "text": [
      "AlphaFold ID A0A804PVQ8 found in AlphaFold\n"
     ]
    },
    {
     "name": "stdout",
     "output_type": "stream",
     "text": [
      "AlphaFold ID C0P427 found in AlphaFold\n"
     ]
    },
    {
     "name": "stdout",
     "output_type": "stream",
     "text": [
      "AlphaFold ID A0A804MVA5 found in AlphaFold\n"
     ]
    },
    {
     "name": "stdout",
     "output_type": "stream",
     "text": [
      "AlphaFold ID A0A804NIF9 found in AlphaFold\n"
     ]
    },
    {
     "name": "stdout",
     "output_type": "stream",
     "text": [
      "AlphaFold ID A0A804NIG0 found in AlphaFold\n"
     ]
    },
    {
     "name": "stdout",
     "output_type": "stream",
     "text": [
      "AlphaFold ID A0A804R211 found in AlphaFold\n"
     ]
    },
    {
     "name": "stdout",
     "output_type": "stream",
     "text": [
      "AlphaFold ID B6T525 found in AlphaFold\n"
     ]
    },
    {
     "name": "stdout",
     "output_type": "stream",
     "text": [
      "AlphaFold ID A0A804MIZ5 found in AlphaFold\n"
     ]
    },
    {
     "name": "stdout",
     "output_type": "stream",
     "text": [
      "AlphaFold ID Q41834 found in AlphaFold\n"
     ]
    },
    {
     "name": "stdout",
     "output_type": "stream",
     "text": [
      "AlphaFold ID A0A804MMY4 found in AlphaFold\n"
     ]
    },
    {
     "name": "stdout",
     "output_type": "stream",
     "text": [
      "AlphaFold ID A8WET3 found in AlphaFold\n"
     ]
    },
    {
     "name": "stdout",
     "output_type": "stream",
     "text": [
      "AlphaFold ID K7VFQ9 found in AlphaFold\n"
     ]
    },
    {
     "name": "stdout",
     "output_type": "stream",
     "text": [
      "AlphaFold ID A0A804MRX5 found in AlphaFold\n"
     ]
    },
    {
     "name": "stdout",
     "output_type": "stream",
     "text": [
      "AlphaFold ID A0A3L6F0B5 found in AlphaFold\n"
     ]
    },
    {
     "name": "stdout",
     "output_type": "stream",
     "text": [
      "AlphaFold ID A0A804P6N3 found in AlphaFold\n"
     ]
    },
    {
     "name": "stdout",
     "output_type": "stream",
     "text": [
      "AlphaFold ID A0A1D6IP15 found in AlphaFold\n"
     ]
    },
    {
     "name": "stdout",
     "output_type": "stream",
     "text": [
      "AlphaFold ID A0A804M8I0 found in AlphaFold\n"
     ]
    },
    {
     "name": "stdout",
     "output_type": "stream",
     "text": [
      "AlphaFold ID B4FDM3 found in AlphaFold\n"
     ]
    },
    {
     "name": "stdout",
     "output_type": "stream",
     "text": [
      "AlphaFold ID A0A804QGA9 found in AlphaFold\n"
     ]
    },
    {
     "name": "stdout",
     "output_type": "stream",
     "text": [
      "AlphaFold ID A0A804QIF0 found in AlphaFold\n"
     ]
    },
    {
     "name": "stdout",
     "output_type": "stream",
     "text": [
      "AlphaFold ID B4FBW7 found in AlphaFold\n"
     ]
    },
    {
     "name": "stdout",
     "output_type": "stream",
     "text": [
      "AlphaFold ID B4FBE1 found in AlphaFold\n"
     ]
    },
    {
     "name": "stdout",
     "output_type": "stream",
     "text": [
      "AlphaFold ID B4F9R4 found in AlphaFold\n"
     ]
    },
    {
     "name": "stdout",
     "output_type": "stream",
     "text": [
      "AlphaFold ID A0A804MIF0 found in AlphaFold\n"
     ]
    },
    {
     "name": "stdout",
     "output_type": "stream",
     "text": [
      "AlphaFold ID A0A804N036 found in AlphaFold\n"
     ]
    },
    {
     "name": "stdout",
     "output_type": "stream",
     "text": [
      "AlphaFold ID B7ZXP4 found in AlphaFold\n"
     ]
    },
    {
     "name": "stdout",
     "output_type": "stream",
     "text": [
      "AlphaFold ID B6TDM3 found in AlphaFold\n"
     ]
    },
    {
     "name": "stdout",
     "output_type": "stream",
     "text": [
      "AlphaFold ID B6SIM0 found in AlphaFold\n"
     ]
    },
    {
     "name": "stdout",
     "output_type": "stream",
     "text": [
      "AlphaFold ID A0A1D6F267 found in AlphaFold\n"
     ]
    },
    {
     "name": "stdout",
     "output_type": "stream",
     "text": [
      "AlphaFold ID A0A804PKS7 found in AlphaFold\n"
     ]
    },
    {
     "name": "stdout",
     "output_type": "stream",
     "text": [
      "AlphaFold ID A0A804MPT0 found in AlphaFold\n"
     ]
    },
    {
     "name": "stdout",
     "output_type": "stream",
     "text": [
      "AlphaFold ID K7UVD8 found in AlphaFold\n"
     ]
    },
    {
     "name": "stdout",
     "output_type": "stream",
     "text": [
      "AlphaFold ID B4FRZ8 found in AlphaFold\n"
     ]
    },
    {
     "name": "stdout",
     "output_type": "stream",
     "text": [
      "AlphaFold ID B4FQE2 found in AlphaFold\n"
     ]
    },
    {
     "name": "stdout",
     "output_type": "stream",
     "text": [
      "AlphaFold ID A0A1D6F5G3 found in AlphaFold\n"
     ]
    },
    {
     "name": "stdout",
     "output_type": "stream",
     "text": [
      "AlphaFold ID A0A804MUM8 found in AlphaFold\n"
     ]
    },
    {
     "name": "stdout",
     "output_type": "stream",
     "text": [
      "AlphaFold ID A0A804RKV8 found in AlphaFold\n"
     ]
    },
    {
     "name": "stdout",
     "output_type": "stream",
     "text": [
      "AlphaFold ID A0A804UMV1 found in AlphaFold\n"
     ]
    },
    {
     "name": "stdout",
     "output_type": "stream",
     "text": [
      "AlphaFold ID A0A1D6I3X6 found in AlphaFold\n"
     ]
    },
    {
     "name": "stdout",
     "output_type": "stream",
     "text": [
      "AlphaFold ID B4FI43 found in AlphaFold\n"
     ]
    },
    {
     "name": "stdout",
     "output_type": "stream",
     "text": [
      "AlphaFold ID A0A1D6PJP8 found in AlphaFold\n"
     ]
    },
    {
     "name": "stdout",
     "output_type": "stream",
     "text": [
      "AlphaFold ID B6SJW3 found in AlphaFold\n"
     ]
    },
    {
     "name": "stdout",
     "output_type": "stream",
     "text": [
      "AlphaFold ID B6TGB4 found in AlphaFold\n"
     ]
    },
    {
     "name": "stdout",
     "output_type": "stream",
     "text": [
      "AlphaFold ID A0A1D6F320 found in AlphaFold\n"
     ]
    },
    {
     "name": "stdout",
     "output_type": "stream",
     "text": [
      "AlphaFold ID A0A804MTP3 found in AlphaFold\n"
     ]
    },
    {
     "name": "stdout",
     "output_type": "stream",
     "text": [
      "AlphaFold ID A0A804MTP5 found in AlphaFold\n"
     ]
    },
    {
     "name": "stdout",
     "output_type": "stream",
     "text": [
      "AlphaFold ID A0A1D6NMY0 found in AlphaFold\n"
     ]
    },
    {
     "name": "stdout",
     "output_type": "stream",
     "text": [
      "AlphaFold ID A0A804RJF9 found in AlphaFold\n"
     ]
    },
    {
     "name": "stdout",
     "output_type": "stream",
     "text": [
      "AlphaFold ID A0A804RLA0 found in AlphaFold\n"
     ]
    },
    {
     "name": "stdout",
     "output_type": "stream",
     "text": [
      "AlphaFold ID B4F894 found in AlphaFold\n"
     ]
    },
    {
     "name": "stdout",
     "output_type": "stream",
     "text": [
      "AlphaFold ID A0A804P0Q1 found in AlphaFold\n"
     ]
    },
    {
     "name": "stdout",
     "output_type": "stream",
     "text": [
      "AlphaFold ID A0A804RAN3 found in AlphaFold\n"
     ]
    },
    {
     "name": "stdout",
     "output_type": "stream",
     "text": [
      "AlphaFold ID K7W067 found in AlphaFold\n"
     ]
    },
    {
     "name": "stdout",
     "output_type": "stream",
     "text": [
      "AlphaFold ID A0A804UHQ8 found in AlphaFold\n"
     ]
    },
    {
     "name": "stdout",
     "output_type": "stream",
     "text": [
      "AlphaFold ID A0A1D6HA67 found in AlphaFold\n"
     ]
    },
    {
     "name": "stdout",
     "output_type": "stream",
     "text": [
      "AlphaFold ID A0A804NWN0 found in AlphaFold\n"
     ]
    },
    {
     "name": "stdout",
     "output_type": "stream",
     "text": [
      "AlphaFold ID A0A804NWN2 found in AlphaFold\n"
     ]
    },
    {
     "name": "stdout",
     "output_type": "stream",
     "text": [
      "AlphaFold ID A0A804NWN3 found in AlphaFold\n"
     ]
    },
    {
     "name": "stdout",
     "output_type": "stream",
     "text": [
      "AlphaFold ID A0A1D6LM03 found in AlphaFold\n"
     ]
    },
    {
     "name": "stdout",
     "output_type": "stream",
     "text": [
      "AlphaFold ID A0A1D6LM04 found in AlphaFold\n"
     ]
    },
    {
     "name": "stdout",
     "output_type": "stream",
     "text": [
      "AlphaFold ID B7ZZR3 found in AlphaFold\n"
     ]
    },
    {
     "name": "stdout",
     "output_type": "stream",
     "text": [
      "AlphaFold ID A0A804PIM7 found in AlphaFold\n"
     ]
    },
    {
     "name": "stdout",
     "output_type": "stream",
     "text": [
      "AlphaFold ID K7U3C9 found in AlphaFold\n"
     ]
    },
    {
     "name": "stdout",
     "output_type": "stream",
     "text": [
      "AlphaFold ID K7TRL2 found in AlphaFold\n"
     ]
    },
    {
     "name": "stdout",
     "output_type": "stream",
     "text": [
      "AlphaFold ID A0A1D6GTT7 found in AlphaFold\n"
     ]
    },
    {
     "name": "stdout",
     "output_type": "stream",
     "text": [
      "AlphaFold ID A0A804PC31 found in AlphaFold\n"
     ]
    },
    {
     "name": "stdout",
     "output_type": "stream",
     "text": [
      "AlphaFold ID A0A804MX56 found in AlphaFold\n"
     ]
    },
    {
     "name": "stdout",
     "output_type": "stream",
     "text": [
      "AlphaFold ID A0A804LCQ3 found in AlphaFold\n"
     ]
    },
    {
     "name": "stdout",
     "output_type": "stream",
     "text": [
      "AlphaFold ID B6TX01 found in AlphaFold\n"
     ]
    },
    {
     "name": "stdout",
     "output_type": "stream",
     "text": [
      "AlphaFold ID A0A804MPA9 found in AlphaFold\n"
     ]
    },
    {
     "name": "stdout",
     "output_type": "stream",
     "text": [
      "AlphaFold ID C4J431 found in AlphaFold\n"
     ]
    },
    {
     "name": "stdout",
     "output_type": "stream",
     "text": [
      "AlphaFold ID A0A1D6I7A2 found in AlphaFold\n"
     ]
    },
    {
     "name": "stdout",
     "output_type": "stream",
     "text": [
      "AlphaFold ID A0A804QD97 found in AlphaFold\n"
     ]
    },
    {
     "name": "stdout",
     "output_type": "stream",
     "text": [
      "AlphaFold ID K7VJ23 found in AlphaFold\n"
     ]
    },
    {
     "name": "stdout",
     "output_type": "stream",
     "text": [
      "AlphaFold ID A0A804LE50 found in AlphaFold\n"
     ]
    },
    {
     "name": "stdout",
     "output_type": "stream",
     "text": [
      "AlphaFold ID K7V7J5 found in AlphaFold\n"
     ]
    },
    {
     "name": "stdout",
     "output_type": "stream",
     "text": [
      "AlphaFold ID B6TS22 found in AlphaFold\n"
     ]
    },
    {
     "name": "stdout",
     "output_type": "stream",
     "text": [
      "AlphaFold ID B4FQP5 found in AlphaFold\n"
     ]
    },
    {
     "name": "stdout",
     "output_type": "stream",
     "text": [
      "AlphaFold ID A0A804PT17 found in AlphaFold\n"
     ]
    },
    {
     "name": "stdout",
     "output_type": "stream",
     "text": [
      "AlphaFold ID A0A1D6KQI6 found in AlphaFold\n"
     ]
    },
    {
     "name": "stdout",
     "output_type": "stream",
     "text": [
      "AlphaFold ID A0A804MKH9 found in AlphaFold\n"
     ]
    },
    {
     "name": "stdout",
     "output_type": "stream",
     "text": [
      "AlphaFold ID A0A804NDM3 found in AlphaFold\n"
     ]
    },
    {
     "name": "stdout",
     "output_type": "stream",
     "text": [
      "AlphaFold ID B6SNE2 found in AlphaFold\n"
     ]
    },
    {
     "name": "stdout",
     "output_type": "stream",
     "text": [
      "AlphaFold ID A0A804UM97 found in AlphaFold\n"
     ]
    },
    {
     "name": "stdout",
     "output_type": "stream",
     "text": [
      "AlphaFold ID A0A804NTC5 found in AlphaFold\n"
     ]
    },
    {
     "name": "stdout",
     "output_type": "stream",
     "text": [
      "AlphaFold ID K7TJV6 found in AlphaFold\n"
     ]
    },
    {
     "name": "stdout",
     "output_type": "stream",
     "text": [
      "AlphaFold ID K7UHT8 found in AlphaFold\n"
     ]
    }
   ],
   "source": [
    "if len(unmapped_ids) > 0:\n",
    "    unmapped_df = fetch_uniprot_data(unmapped_ids)\n",
    "    display(unmapped_df)\n",
    "\n",
    "    # Concatenate the two dataframes\n",
    "    if not unmapped_df.is_empty():\n",
    "        id_mapping_df = pl.concat(\n",
    "            [\n",
    "                mapped_df2,\n",
    "                unmapped_df\n",
    "            ],\n",
    "            how=\"vertical_relaxed\"\n",
    "        ).sort(\n",
    "            by=\"From\",\n",
    "            descending=False\n",
    "        )\n",
    "        display(id_mapping_df)\n",
    "        # Get AlphaFold metadata JSON files\n",
    "        get_af_json(id_mapping_df, json_dir)\n",
    "    else:\n",
    "        print(\"unmapped dataframe is empty, skipping get_af_json.\")\n",
    "        get_af_json(mapped_df2, json_dir)\n",
    "else:\n",
    "    print(\"unmapped_ids is empty, skipping fetch_uniprot_data.\")\n",
    "    get_af_json(mapped_df2, json_dir)"
   ]
  },
  {
   "cell_type": "markdown",
   "id": "afa2f259",
   "metadata": {
    "papermill": {
     "duration": 0.007361,
     "end_time": "2024-11-15T08:30:41.366574",
     "exception": false,
     "start_time": "2024-11-15T08:30:41.359213",
     "status": "completed"
    },
    "tags": []
   },
   "source": [
    "&nbsp;\n",
    "\n",
    "&nbsp;"
   ]
  },
  {
   "cell_type": "markdown",
   "id": "df910a1a",
   "metadata": {
    "papermill": {
     "duration": 0.00595,
     "end_time": "2024-11-15T08:30:41.378834",
     "exception": false,
     "start_time": "2024-11-15T08:30:41.372884",
     "status": "completed"
    },
    "tags": []
   },
   "source": [
    "## 5. Download CIF files"
   ]
  },
  {
   "cell_type": "code",
   "execution_count": 13,
   "id": "ca8c4bf3",
   "metadata": {
    "execution": {
     "iopub.execute_input": "2024-11-15T08:30:41.389963Z",
     "iopub.status.busy": "2024-11-15T08:30:41.389859Z",
     "iopub.status.idle": "2024-11-15T08:30:41.393036Z",
     "shell.execute_reply": "2024-11-15T08:30:41.392827Z"
    },
    "papermill": {
     "duration": 0.009207,
     "end_time": "2024-11-15T08:30:41.393406",
     "exception": false,
     "start_time": "2024-11-15T08:30:41.384199",
     "status": "completed"
    },
    "tags": []
   },
   "outputs": [],
   "source": [
    "def get_cif_file(json_dir_path: str, output_dir_path: str):\n",
    "    \"\"\"\n",
    "    Get CIF file from JSON files retrieved from AlphaFoldDB\n",
    "    \n",
    "    Args:\n",
    "        json_dir_path: Directory containing AlphaFold JSON metadata files\n",
    "        output_dir_path: Directory to save downloaded CIF files\n",
    "    \"\"\"\n",
    "    pathlib.Path(output_dir_path).mkdir(parents=True, exist_ok=True)\n",
    "\n",
    "    for json_file in pathlib.Path(json_dir_path).glob(\"*.json\"):\n",
    "        with open(json_file, \"r\", encoding=\"utf-8\") as f:\n",
    "            try:\n",
    "                data = json.load(f)\n",
    "                cif_url = data.get(data_url)\n",
    "                \n",
    "                if not cif_url:\n",
    "                    print(f\"No {data_url} found in {json_file}\")\n",
    "                    continue\n",
    "                    \n",
    "                # Extract filename from URL and create output path\n",
    "                cif_filename = pathlib.Path(cif_url).name\n",
    "                output_file = pathlib.Path(output_dir_path) / cif_filename\n",
    "                \n",
    "                # Skip if file already exists\n",
    "                if output_file.exists():\n",
    "                    print(f\"{output_file} already exists\")\n",
    "                    continue\n",
    "                \n",
    "                print(f\"Downloading {cif_url}\")\n",
    "                response = requests.get(cif_url, timeout=30)\n",
    "                response.raise_for_status()\n",
    "                \n",
    "                # Save CIF file\n",
    "                output_file.write_bytes(response.content)\n",
    "                print(f\"Saved {output_file}\")\n",
    "                \n",
    "            except json.JSONDecodeError:\n",
    "                print(f\"Error parsing JSON file: {json_file}\")\n",
    "            except requests.exceptions.RequestException as e:\n",
    "                print(f\"Error downloading CIF file: {e}\")\n",
    "            \n",
    "            # Rate limiting\n",
    "            time.sleep(1)"
   ]
  },
  {
   "cell_type": "code",
   "execution_count": 14,
   "id": "ccd17f4e",
   "metadata": {
    "execution": {
     "iopub.execute_input": "2024-11-15T08:30:41.403779Z",
     "iopub.status.busy": "2024-11-15T08:30:41.403687Z",
     "iopub.status.idle": "2024-11-15T08:33:14.135009Z",
     "shell.execute_reply": "2024-11-15T08:33:14.129004Z"
    },
    "papermill": {
     "duration": 152.738658,
     "end_time": "2024-11-15T08:33:14.137124",
     "exception": false,
     "start_time": "2024-11-15T08:30:41.398466",
     "status": "completed"
    },
    "tags": []
   },
   "outputs": [
    {
     "name": "stdout",
     "output_type": "stream",
     "text": [
      "Downloading https://alphafold.ebi.ac.uk/files/AF-A0A804P2N6-F1-model_v4.cif\n",
      "Saved zea_mays_random_gene_mmcif/AF-A0A804P2N6-F1-model_v4.cif\n"
     ]
    },
    {
     "name": "stdout",
     "output_type": "stream",
     "text": [
      "Downloading https://alphafold.ebi.ac.uk/files/AF-A0A804QQF5-F1-model_v4.cif\n",
      "Saved zea_mays_random_gene_mmcif/AF-A0A804QQF5-F1-model_v4.cif\n"
     ]
    },
    {
     "name": "stdout",
     "output_type": "stream",
     "text": [
      "Downloading https://alphafold.ebi.ac.uk/files/AF-A0A804UGM9-F1-model_v4.cif\n",
      "Saved zea_mays_random_gene_mmcif/AF-A0A804UGM9-F1-model_v4.cif\n"
     ]
    },
    {
     "name": "stdout",
     "output_type": "stream",
     "text": [
      "Downloading https://alphafold.ebi.ac.uk/files/AF-A0A1D6MD98-F1-model_v4.cif\n",
      "Saved zea_mays_random_gene_mmcif/AF-A0A1D6MD98-F1-model_v4.cif\n"
     ]
    },
    {
     "name": "stdout",
     "output_type": "stream",
     "text": [
      "Downloading https://alphafold.ebi.ac.uk/files/AF-A0A1D6E0F4-F1-model_v4.cif\n",
      "Saved zea_mays_random_gene_mmcif/AF-A0A1D6E0F4-F1-model_v4.cif\n"
     ]
    },
    {
     "name": "stdout",
     "output_type": "stream",
     "text": [
      "Downloading https://alphafold.ebi.ac.uk/files/AF-A0A804MAU5-F1-model_v4.cif\n",
      "Saved zea_mays_random_gene_mmcif/AF-A0A804MAU5-F1-model_v4.cif\n"
     ]
    },
    {
     "name": "stdout",
     "output_type": "stream",
     "text": [
      "Downloading https://alphafold.ebi.ac.uk/files/AF-A0A804MAU6-F1-model_v4.cif\n",
      "Saved zea_mays_random_gene_mmcif/AF-A0A804MAU6-F1-model_v4.cif\n"
     ]
    },
    {
     "name": "stdout",
     "output_type": "stream",
     "text": [
      "Downloading https://alphafold.ebi.ac.uk/files/AF-A0A804MAU7-F1-model_v4.cif\n",
      "Saved zea_mays_random_gene_mmcif/AF-A0A804MAU7-F1-model_v4.cif\n"
     ]
    },
    {
     "name": "stdout",
     "output_type": "stream",
     "text": [
      "Downloading https://alphafold.ebi.ac.uk/files/AF-A0A1D6PWA6-F1-model_v4.cif\n",
      "Saved zea_mays_random_gene_mmcif/AF-A0A1D6PWA6-F1-model_v4.cif\n"
     ]
    },
    {
     "name": "stdout",
     "output_type": "stream",
     "text": [
      "Downloading https://alphafold.ebi.ac.uk/files/AF-C0P6X3-F1-model_v4.cif\n",
      "Saved zea_mays_random_gene_mmcif/AF-C0P6X3-F1-model_v4.cif\n"
     ]
    },
    {
     "name": "stdout",
     "output_type": "stream",
     "text": [
      "Downloading https://alphafold.ebi.ac.uk/files/AF-A0A1D6GPU8-F1-model_v4.cif\n",
      "Saved zea_mays_random_gene_mmcif/AF-A0A1D6GPU8-F1-model_v4.cif\n"
     ]
    },
    {
     "name": "stdout",
     "output_type": "stream",
     "text": [
      "Downloading https://alphafold.ebi.ac.uk/files/AF-A0A804PB01-F1-model_v4.cif\n",
      "Saved zea_mays_random_gene_mmcif/AF-A0A804PB01-F1-model_v4.cif\n"
     ]
    },
    {
     "name": "stdout",
     "output_type": "stream",
     "text": [
      "Downloading https://alphafold.ebi.ac.uk/files/AF-A0A804PB06-F1-model_v4.cif\n",
      "Saved zea_mays_random_gene_mmcif/AF-A0A804PB06-F1-model_v4.cif\n"
     ]
    },
    {
     "name": "stdout",
     "output_type": "stream",
     "text": [
      "Downloading https://alphafold.ebi.ac.uk/files/AF-A0A804M4M2-F1-model_v4.cif\n",
      "Saved zea_mays_random_gene_mmcif/AF-A0A804M4M2-F1-model_v4.cif\n"
     ]
    },
    {
     "name": "stdout",
     "output_type": "stream",
     "text": [
      "Downloading https://alphafold.ebi.ac.uk/files/AF-C0P9K7-F1-model_v4.cif\n",
      "Saved zea_mays_random_gene_mmcif/AF-C0P9K7-F1-model_v4.cif\n"
     ]
    },
    {
     "name": "stdout",
     "output_type": "stream",
     "text": [
      "Downloading https://alphafold.ebi.ac.uk/files/AF-C0P6A5-F1-model_v4.cif\n",
      "Saved zea_mays_random_gene_mmcif/AF-C0P6A5-F1-model_v4.cif\n"
     ]
    },
    {
     "name": "stdout",
     "output_type": "stream",
     "text": [
      "Downloading https://alphafold.ebi.ac.uk/files/AF-A0A1D6QNW6-F1-model_v4.cif\n",
      "Saved zea_mays_random_gene_mmcif/AF-A0A1D6QNW6-F1-model_v4.cif\n"
     ]
    },
    {
     "name": "stdout",
     "output_type": "stream",
     "text": [
      "Downloading https://alphafold.ebi.ac.uk/files/AF-B6SY14-F1-model_v4.cif\n",
      "Saved zea_mays_random_gene_mmcif/AF-B6SY14-F1-model_v4.cif\n"
     ]
    },
    {
     "name": "stdout",
     "output_type": "stream",
     "text": [
      "Downloading https://alphafold.ebi.ac.uk/files/AF-K7UDU8-F1-model_v4.cif\n",
      "Saved zea_mays_random_gene_mmcif/AF-K7UDU8-F1-model_v4.cif\n"
     ]
    },
    {
     "name": "stdout",
     "output_type": "stream",
     "text": [
      "Downloading https://alphafold.ebi.ac.uk/files/AF-A0A1D6G2N0-F1-model_v4.cif\n",
      "Saved zea_mays_random_gene_mmcif/AF-A0A1D6G2N0-F1-model_v4.cif\n"
     ]
    },
    {
     "name": "stdout",
     "output_type": "stream",
     "text": [
      "Downloading https://alphafold.ebi.ac.uk/files/AF-A0A804QXE3-F1-model_v4.cif\n",
      "Saved zea_mays_random_gene_mmcif/AF-A0A804QXE3-F1-model_v4.cif\n"
     ]
    },
    {
     "name": "stdout",
     "output_type": "stream",
     "text": [
      "Downloading https://alphafold.ebi.ac.uk/files/AF-K7U586-F1-model_v4.cif\n",
      "Saved zea_mays_random_gene_mmcif/AF-K7U586-F1-model_v4.cif\n"
     ]
    },
    {
     "name": "stdout",
     "output_type": "stream",
     "text": [
      "Downloading https://alphafold.ebi.ac.uk/files/AF-A0A804PMG5-F1-model_v4.cif\n",
      "Saved zea_mays_random_gene_mmcif/AF-A0A804PMG5-F1-model_v4.cif\n"
     ]
    },
    {
     "name": "stdout",
     "output_type": "stream",
     "text": [
      "Downloading https://alphafold.ebi.ac.uk/files/AF-K7UZ84-F1-model_v4.cif\n",
      "Saved zea_mays_random_gene_mmcif/AF-K7UZ84-F1-model_v4.cif\n"
     ]
    },
    {
     "name": "stdout",
     "output_type": "stream",
     "text": [
      "Downloading https://alphafold.ebi.ac.uk/files/AF-A0A1D6M810-F1-model_v4.cif\n",
      "Saved zea_mays_random_gene_mmcif/AF-A0A1D6M810-F1-model_v4.cif\n"
     ]
    },
    {
     "name": "stdout",
     "output_type": "stream",
     "text": [
      "Downloading https://alphafold.ebi.ac.uk/files/AF-A0A1D6M812-F1-model_v4.cif\n",
      "Saved zea_mays_random_gene_mmcif/AF-A0A1D6M812-F1-model_v4.cif\n"
     ]
    },
    {
     "name": "stdout",
     "output_type": "stream",
     "text": [
      "Downloading https://alphafold.ebi.ac.uk/files/AF-C0PHA7-F1-model_v4.cif\n",
      "Saved zea_mays_random_gene_mmcif/AF-C0PHA7-F1-model_v4.cif\n"
     ]
    },
    {
     "name": "stdout",
     "output_type": "stream",
     "text": [
      "Downloading https://alphafold.ebi.ac.uk/files/AF-B4FE10-F1-model_v4.cif\n",
      "Saved zea_mays_random_gene_mmcif/AF-B4FE10-F1-model_v4.cif\n"
     ]
    },
    {
     "name": "stdout",
     "output_type": "stream",
     "text": [
      "Downloading https://alphafold.ebi.ac.uk/files/AF-A0A1D6K5D2-F1-model_v4.cif\n",
      "Saved zea_mays_random_gene_mmcif/AF-A0A1D6K5D2-F1-model_v4.cif\n"
     ]
    },
    {
     "name": "stdout",
     "output_type": "stream",
     "text": [
      "Downloading https://alphafold.ebi.ac.uk/files/AF-A0A1D6PXC8-F1-model_v4.cif\n",
      "Saved zea_mays_random_gene_mmcif/AF-A0A1D6PXC8-F1-model_v4.cif\n"
     ]
    },
    {
     "name": "stdout",
     "output_type": "stream",
     "text": [
      "Downloading https://alphafold.ebi.ac.uk/files/AF-A0A804NNP6-F1-model_v4.cif\n",
      "Saved zea_mays_random_gene_mmcif/AF-A0A804NNP6-F1-model_v4.cif\n"
     ]
    },
    {
     "name": "stdout",
     "output_type": "stream",
     "text": [
      "Downloading https://alphafold.ebi.ac.uk/files/AF-B6T3P2-F1-model_v4.cif\n",
      "Saved zea_mays_random_gene_mmcif/AF-B6T3P2-F1-model_v4.cif\n"
     ]
    },
    {
     "name": "stdout",
     "output_type": "stream",
     "text": [
      "Downloading https://alphafold.ebi.ac.uk/files/AF-B6TF38-F1-model_v4.cif\n",
      "Saved zea_mays_random_gene_mmcif/AF-B6TF38-F1-model_v4.cif\n"
     ]
    },
    {
     "name": "stdout",
     "output_type": "stream",
     "text": [
      "Downloading https://alphafold.ebi.ac.uk/files/AF-C0PFY1-F1-model_v4.cif\n",
      "Saved zea_mays_random_gene_mmcif/AF-C0PFY1-F1-model_v4.cif\n"
     ]
    },
    {
     "name": "stdout",
     "output_type": "stream",
     "text": [
      "Downloading https://alphafold.ebi.ac.uk/files/AF-K7TVS3-F1-model_v4.cif\n",
      "Saved zea_mays_random_gene_mmcif/AF-K7TVS3-F1-model_v4.cif\n"
     ]
    },
    {
     "name": "stdout",
     "output_type": "stream",
     "text": [
      "Downloading https://alphafold.ebi.ac.uk/files/AF-B6T001-F1-model_v4.cif\n",
      "Saved zea_mays_random_gene_mmcif/AF-B6T001-F1-model_v4.cif\n"
     ]
    },
    {
     "name": "stdout",
     "output_type": "stream",
     "text": [
      "Downloading https://alphafold.ebi.ac.uk/files/AF-A0A804NQY2-F1-model_v4.cif\n",
      "Saved zea_mays_random_gene_mmcif/AF-A0A804NQY2-F1-model_v4.cif\n"
     ]
    },
    {
     "name": "stdout",
     "output_type": "stream",
     "text": [
      "Downloading https://alphafold.ebi.ac.uk/files/AF-B6TZV7-F1-model_v4.cif\n",
      "Saved zea_mays_random_gene_mmcif/AF-B6TZV7-F1-model_v4.cif\n"
     ]
    },
    {
     "name": "stdout",
     "output_type": "stream",
     "text": [
      "Downloading https://alphafold.ebi.ac.uk/files/AF-K7VEJ7-F1-model_v4.cif\n",
      "Saved zea_mays_random_gene_mmcif/AF-K7VEJ7-F1-model_v4.cif\n"
     ]
    },
    {
     "name": "stdout",
     "output_type": "stream",
     "text": [
      "Downloading https://alphafold.ebi.ac.uk/files/AF-B4FSZ4-F1-model_v4.cif\n",
      "Saved zea_mays_random_gene_mmcif/AF-B4FSZ4-F1-model_v4.cif\n"
     ]
    },
    {
     "name": "stdout",
     "output_type": "stream",
     "text": [
      "Downloading https://alphafold.ebi.ac.uk/files/AF-A0A1D6K2E8-F1-model_v4.cif\n",
      "Saved zea_mays_random_gene_mmcif/AF-A0A1D6K2E8-F1-model_v4.cif\n"
     ]
    },
    {
     "name": "stdout",
     "output_type": "stream",
     "text": [
      "Downloading https://alphafold.ebi.ac.uk/files/AF-A0A804LPQ0-F1-model_v4.cif\n",
      "Saved zea_mays_random_gene_mmcif/AF-A0A804LPQ0-F1-model_v4.cif\n"
     ]
    },
    {
     "name": "stdout",
     "output_type": "stream",
     "text": [
      "Downloading https://alphafold.ebi.ac.uk/files/AF-B4FES7-F1-model_v4.cif\n",
      "Saved zea_mays_random_gene_mmcif/AF-B4FES7-F1-model_v4.cif\n"
     ]
    },
    {
     "name": "stdout",
     "output_type": "stream",
     "text": [
      "Downloading https://alphafold.ebi.ac.uk/files/AF-B4FYQ1-F1-model_v4.cif\n",
      "Saved zea_mays_random_gene_mmcif/AF-B4FYQ1-F1-model_v4.cif\n"
     ]
    },
    {
     "name": "stdout",
     "output_type": "stream",
     "text": [
      "Downloading https://alphafold.ebi.ac.uk/files/AF-A0A804P956-F1-model_v4.cif\n",
      "Saved zea_mays_random_gene_mmcif/AF-A0A804P956-F1-model_v4.cif\n"
     ]
    },
    {
     "name": "stdout",
     "output_type": "stream",
     "text": [
      "Downloading https://alphafold.ebi.ac.uk/files/AF-A0A804P1Z6-F1-model_v4.cif\n",
      "Saved zea_mays_random_gene_mmcif/AF-A0A804P1Z6-F1-model_v4.cif\n"
     ]
    },
    {
     "name": "stdout",
     "output_type": "stream",
     "text": [
      "Downloading https://alphafold.ebi.ac.uk/files/AF-A0A804PT24-F1-model_v4.cif\n",
      "Saved zea_mays_random_gene_mmcif/AF-A0A804PT24-F1-model_v4.cif\n"
     ]
    },
    {
     "name": "stdout",
     "output_type": "stream",
     "text": [
      "Downloading https://alphafold.ebi.ac.uk/files/AF-A0A804PU47-F1-model_v4.cif\n",
      "Saved zea_mays_random_gene_mmcif/AF-A0A804PU47-F1-model_v4.cif\n"
     ]
    },
    {
     "name": "stdout",
     "output_type": "stream",
     "text": [
      "Downloading https://alphafold.ebi.ac.uk/files/AF-A0A804PUA1-F1-model_v4.cif\n",
      "Saved zea_mays_random_gene_mmcif/AF-A0A804PUA1-F1-model_v4.cif\n"
     ]
    },
    {
     "name": "stdout",
     "output_type": "stream",
     "text": [
      "Downloading https://alphafold.ebi.ac.uk/files/AF-A0A804PVQ8-F1-model_v4.cif\n",
      "Saved zea_mays_random_gene_mmcif/AF-A0A804PVQ8-F1-model_v4.cif\n"
     ]
    },
    {
     "name": "stdout",
     "output_type": "stream",
     "text": [
      "Downloading https://alphafold.ebi.ac.uk/files/AF-C0P427-F1-model_v4.cif\n",
      "Saved zea_mays_random_gene_mmcif/AF-C0P427-F1-model_v4.cif\n"
     ]
    },
    {
     "name": "stdout",
     "output_type": "stream",
     "text": [
      "Downloading https://alphafold.ebi.ac.uk/files/AF-A0A804MVA5-F1-model_v4.cif\n",
      "Saved zea_mays_random_gene_mmcif/AF-A0A804MVA5-F1-model_v4.cif\n"
     ]
    },
    {
     "name": "stdout",
     "output_type": "stream",
     "text": [
      "Downloading https://alphafold.ebi.ac.uk/files/AF-A0A804NIF9-F1-model_v4.cif\n",
      "Saved zea_mays_random_gene_mmcif/AF-A0A804NIF9-F1-model_v4.cif\n"
     ]
    },
    {
     "name": "stdout",
     "output_type": "stream",
     "text": [
      "Downloading https://alphafold.ebi.ac.uk/files/AF-A0A804NIG0-F1-model_v4.cif\n",
      "Saved zea_mays_random_gene_mmcif/AF-A0A804NIG0-F1-model_v4.cif\n"
     ]
    },
    {
     "name": "stdout",
     "output_type": "stream",
     "text": [
      "Downloading https://alphafold.ebi.ac.uk/files/AF-A0A804R211-F1-model_v4.cif\n",
      "Saved zea_mays_random_gene_mmcif/AF-A0A804R211-F1-model_v4.cif\n"
     ]
    },
    {
     "name": "stdout",
     "output_type": "stream",
     "text": [
      "Downloading https://alphafold.ebi.ac.uk/files/AF-B6T525-F1-model_v4.cif\n",
      "Saved zea_mays_random_gene_mmcif/AF-B6T525-F1-model_v4.cif\n"
     ]
    },
    {
     "name": "stdout",
     "output_type": "stream",
     "text": [
      "Downloading https://alphafold.ebi.ac.uk/files/AF-A0A804MIZ5-F1-model_v4.cif\n",
      "Saved zea_mays_random_gene_mmcif/AF-A0A804MIZ5-F1-model_v4.cif\n"
     ]
    },
    {
     "name": "stdout",
     "output_type": "stream",
     "text": [
      "Downloading https://alphafold.ebi.ac.uk/files/AF-Q41834-F1-model_v4.cif\n",
      "Saved zea_mays_random_gene_mmcif/AF-Q41834-F1-model_v4.cif\n"
     ]
    },
    {
     "name": "stdout",
     "output_type": "stream",
     "text": [
      "Downloading https://alphafold.ebi.ac.uk/files/AF-A0A804MMY4-F1-model_v4.cif\n",
      "Saved zea_mays_random_gene_mmcif/AF-A0A804MMY4-F1-model_v4.cif\n"
     ]
    },
    {
     "name": "stdout",
     "output_type": "stream",
     "text": [
      "Downloading https://alphafold.ebi.ac.uk/files/AF-A8WET3-F1-model_v4.cif\n",
      "Saved zea_mays_random_gene_mmcif/AF-A8WET3-F1-model_v4.cif\n"
     ]
    },
    {
     "name": "stdout",
     "output_type": "stream",
     "text": [
      "Downloading https://alphafold.ebi.ac.uk/files/AF-K7VFQ9-F1-model_v4.cif\n",
      "Saved zea_mays_random_gene_mmcif/AF-K7VFQ9-F1-model_v4.cif\n"
     ]
    },
    {
     "name": "stdout",
     "output_type": "stream",
     "text": [
      "Downloading https://alphafold.ebi.ac.uk/files/AF-A0A804MRX5-F1-model_v4.cif\n",
      "Saved zea_mays_random_gene_mmcif/AF-A0A804MRX5-F1-model_v4.cif\n"
     ]
    },
    {
     "name": "stdout",
     "output_type": "stream",
     "text": [
      "Downloading https://alphafold.ebi.ac.uk/files/AF-A0A3L6F0B5-F1-model_v4.cif\n",
      "Saved zea_mays_random_gene_mmcif/AF-A0A3L6F0B5-F1-model_v4.cif\n"
     ]
    },
    {
     "name": "stdout",
     "output_type": "stream",
     "text": [
      "Downloading https://alphafold.ebi.ac.uk/files/AF-A0A804P6N3-F1-model_v4.cif\n",
      "Saved zea_mays_random_gene_mmcif/AF-A0A804P6N3-F1-model_v4.cif\n"
     ]
    },
    {
     "name": "stdout",
     "output_type": "stream",
     "text": [
      "Downloading https://alphafold.ebi.ac.uk/files/AF-A0A1D6IP15-F1-model_v4.cif\n",
      "Saved zea_mays_random_gene_mmcif/AF-A0A1D6IP15-F1-model_v4.cif\n"
     ]
    },
    {
     "name": "stdout",
     "output_type": "stream",
     "text": [
      "Downloading https://alphafold.ebi.ac.uk/files/AF-A0A804M8I0-F1-model_v4.cif\n",
      "Saved zea_mays_random_gene_mmcif/AF-A0A804M8I0-F1-model_v4.cif\n"
     ]
    },
    {
     "name": "stdout",
     "output_type": "stream",
     "text": [
      "Downloading https://alphafold.ebi.ac.uk/files/AF-B4FDM3-F1-model_v4.cif\n",
      "Saved zea_mays_random_gene_mmcif/AF-B4FDM3-F1-model_v4.cif\n"
     ]
    },
    {
     "name": "stdout",
     "output_type": "stream",
     "text": [
      "Downloading https://alphafold.ebi.ac.uk/files/AF-A0A804QGA9-F1-model_v4.cif\n",
      "Saved zea_mays_random_gene_mmcif/AF-A0A804QGA9-F1-model_v4.cif\n"
     ]
    },
    {
     "name": "stdout",
     "output_type": "stream",
     "text": [
      "Downloading https://alphafold.ebi.ac.uk/files/AF-A0A804QIF0-F1-model_v4.cif\n",
      "Saved zea_mays_random_gene_mmcif/AF-A0A804QIF0-F1-model_v4.cif\n"
     ]
    },
    {
     "name": "stdout",
     "output_type": "stream",
     "text": [
      "Downloading https://alphafold.ebi.ac.uk/files/AF-B4FBW7-F1-model_v4.cif\n",
      "Saved zea_mays_random_gene_mmcif/AF-B4FBW7-F1-model_v4.cif\n"
     ]
    },
    {
     "name": "stdout",
     "output_type": "stream",
     "text": [
      "Downloading https://alphafold.ebi.ac.uk/files/AF-B4FBE1-F1-model_v4.cif\n",
      "Saved zea_mays_random_gene_mmcif/AF-B4FBE1-F1-model_v4.cif\n"
     ]
    },
    {
     "name": "stdout",
     "output_type": "stream",
     "text": [
      "Downloading https://alphafold.ebi.ac.uk/files/AF-B4F9R4-F1-model_v4.cif\n",
      "Saved zea_mays_random_gene_mmcif/AF-B4F9R4-F1-model_v4.cif\n"
     ]
    },
    {
     "name": "stdout",
     "output_type": "stream",
     "text": [
      "Downloading https://alphafold.ebi.ac.uk/files/AF-A0A804MIF0-F1-model_v4.cif\n",
      "Saved zea_mays_random_gene_mmcif/AF-A0A804MIF0-F1-model_v4.cif\n"
     ]
    },
    {
     "name": "stdout",
     "output_type": "stream",
     "text": [
      "Downloading https://alphafold.ebi.ac.uk/files/AF-A0A804N036-F1-model_v4.cif\n",
      "Saved zea_mays_random_gene_mmcif/AF-A0A804N036-F1-model_v4.cif\n"
     ]
    },
    {
     "name": "stdout",
     "output_type": "stream",
     "text": [
      "Downloading https://alphafold.ebi.ac.uk/files/AF-B7ZXP4-F1-model_v4.cif\n",
      "Saved zea_mays_random_gene_mmcif/AF-B7ZXP4-F1-model_v4.cif\n"
     ]
    },
    {
     "name": "stdout",
     "output_type": "stream",
     "text": [
      "Downloading https://alphafold.ebi.ac.uk/files/AF-B6TDM3-F1-model_v4.cif\n",
      "Saved zea_mays_random_gene_mmcif/AF-B6TDM3-F1-model_v4.cif\n"
     ]
    },
    {
     "name": "stdout",
     "output_type": "stream",
     "text": [
      "Downloading https://alphafold.ebi.ac.uk/files/AF-B6SIM0-F1-model_v4.cif\n",
      "Saved zea_mays_random_gene_mmcif/AF-B6SIM0-F1-model_v4.cif\n"
     ]
    },
    {
     "name": "stdout",
     "output_type": "stream",
     "text": [
      "Downloading https://alphafold.ebi.ac.uk/files/AF-A0A1D6F267-F1-model_v4.cif\n",
      "Saved zea_mays_random_gene_mmcif/AF-A0A1D6F267-F1-model_v4.cif\n"
     ]
    },
    {
     "name": "stdout",
     "output_type": "stream",
     "text": [
      "Downloading https://alphafold.ebi.ac.uk/files/AF-A0A804PKS7-F1-model_v4.cif\n",
      "Saved zea_mays_random_gene_mmcif/AF-A0A804PKS7-F1-model_v4.cif\n"
     ]
    },
    {
     "name": "stdout",
     "output_type": "stream",
     "text": [
      "Downloading https://alphafold.ebi.ac.uk/files/AF-A0A804MPT0-F1-model_v4.cif\n",
      "Saved zea_mays_random_gene_mmcif/AF-A0A804MPT0-F1-model_v4.cif\n"
     ]
    },
    {
     "name": "stdout",
     "output_type": "stream",
     "text": [
      "Downloading https://alphafold.ebi.ac.uk/files/AF-K7UVD8-F1-model_v4.cif\n",
      "Saved zea_mays_random_gene_mmcif/AF-K7UVD8-F1-model_v4.cif\n"
     ]
    },
    {
     "name": "stdout",
     "output_type": "stream",
     "text": [
      "Downloading https://alphafold.ebi.ac.uk/files/AF-B4FRZ8-F1-model_v4.cif\n",
      "Saved zea_mays_random_gene_mmcif/AF-B4FRZ8-F1-model_v4.cif\n"
     ]
    },
    {
     "name": "stdout",
     "output_type": "stream",
     "text": [
      "Downloading https://alphafold.ebi.ac.uk/files/AF-B4FQE2-F1-model_v4.cif\n",
      "Saved zea_mays_random_gene_mmcif/AF-B4FQE2-F1-model_v4.cif\n"
     ]
    },
    {
     "name": "stdout",
     "output_type": "stream",
     "text": [
      "Downloading https://alphafold.ebi.ac.uk/files/AF-A0A1D6F5G3-F1-model_v4.cif\n",
      "Saved zea_mays_random_gene_mmcif/AF-A0A1D6F5G3-F1-model_v4.cif\n"
     ]
    },
    {
     "name": "stdout",
     "output_type": "stream",
     "text": [
      "Downloading https://alphafold.ebi.ac.uk/files/AF-A0A804MUM8-F1-model_v4.cif\n",
      "Saved zea_mays_random_gene_mmcif/AF-A0A804MUM8-F1-model_v4.cif\n"
     ]
    },
    {
     "name": "stdout",
     "output_type": "stream",
     "text": [
      "Downloading https://alphafold.ebi.ac.uk/files/AF-A0A804RKV8-F1-model_v4.cif\n",
      "Saved zea_mays_random_gene_mmcif/AF-A0A804RKV8-F1-model_v4.cif\n"
     ]
    },
    {
     "name": "stdout",
     "output_type": "stream",
     "text": [
      "Downloading https://alphafold.ebi.ac.uk/files/AF-A0A804UMV1-F1-model_v4.cif\n",
      "Saved zea_mays_random_gene_mmcif/AF-A0A804UMV1-F1-model_v4.cif\n"
     ]
    },
    {
     "name": "stdout",
     "output_type": "stream",
     "text": [
      "Downloading https://alphafold.ebi.ac.uk/files/AF-A0A1D6I3X6-F1-model_v4.cif\n",
      "Saved zea_mays_random_gene_mmcif/AF-A0A1D6I3X6-F1-model_v4.cif\n"
     ]
    },
    {
     "name": "stdout",
     "output_type": "stream",
     "text": [
      "Downloading https://alphafold.ebi.ac.uk/files/AF-B4FI43-F1-model_v4.cif\n",
      "Saved zea_mays_random_gene_mmcif/AF-B4FI43-F1-model_v4.cif\n"
     ]
    },
    {
     "name": "stdout",
     "output_type": "stream",
     "text": [
      "Downloading https://alphafold.ebi.ac.uk/files/AF-A0A1D6PJP8-F1-model_v4.cif\n",
      "Saved zea_mays_random_gene_mmcif/AF-A0A1D6PJP8-F1-model_v4.cif\n"
     ]
    },
    {
     "name": "stdout",
     "output_type": "stream",
     "text": [
      "Downloading https://alphafold.ebi.ac.uk/files/AF-B6SJW3-F1-model_v4.cif\n",
      "Saved zea_mays_random_gene_mmcif/AF-B6SJW3-F1-model_v4.cif\n"
     ]
    },
    {
     "name": "stdout",
     "output_type": "stream",
     "text": [
      "Downloading https://alphafold.ebi.ac.uk/files/AF-B6TGB4-F1-model_v4.cif\n",
      "Saved zea_mays_random_gene_mmcif/AF-B6TGB4-F1-model_v4.cif\n"
     ]
    },
    {
     "name": "stdout",
     "output_type": "stream",
     "text": [
      "Downloading https://alphafold.ebi.ac.uk/files/AF-A0A1D6F320-F1-model_v4.cif\n",
      "Saved zea_mays_random_gene_mmcif/AF-A0A1D6F320-F1-model_v4.cif\n"
     ]
    },
    {
     "name": "stdout",
     "output_type": "stream",
     "text": [
      "Downloading https://alphafold.ebi.ac.uk/files/AF-A0A804MTP3-F1-model_v4.cif\n",
      "Saved zea_mays_random_gene_mmcif/AF-A0A804MTP3-F1-model_v4.cif\n"
     ]
    },
    {
     "name": "stdout",
     "output_type": "stream",
     "text": [
      "Downloading https://alphafold.ebi.ac.uk/files/AF-A0A804MTP5-F1-model_v4.cif\n",
      "Saved zea_mays_random_gene_mmcif/AF-A0A804MTP5-F1-model_v4.cif\n"
     ]
    },
    {
     "name": "stdout",
     "output_type": "stream",
     "text": [
      "Downloading https://alphafold.ebi.ac.uk/files/AF-A0A1D6NMY0-F1-model_v4.cif\n",
      "Saved zea_mays_random_gene_mmcif/AF-A0A1D6NMY0-F1-model_v4.cif\n"
     ]
    },
    {
     "name": "stdout",
     "output_type": "stream",
     "text": [
      "Downloading https://alphafold.ebi.ac.uk/files/AF-A0A804RJF9-F1-model_v4.cif\n",
      "Saved zea_mays_random_gene_mmcif/AF-A0A804RJF9-F1-model_v4.cif\n"
     ]
    },
    {
     "name": "stdout",
     "output_type": "stream",
     "text": [
      "Downloading https://alphafold.ebi.ac.uk/files/AF-A0A804RLA0-F1-model_v4.cif\n",
      "Saved zea_mays_random_gene_mmcif/AF-A0A804RLA0-F1-model_v4.cif\n"
     ]
    },
    {
     "name": "stdout",
     "output_type": "stream",
     "text": [
      "Downloading https://alphafold.ebi.ac.uk/files/AF-B4F894-F1-model_v4.cif\n",
      "Saved zea_mays_random_gene_mmcif/AF-B4F894-F1-model_v4.cif\n"
     ]
    },
    {
     "name": "stdout",
     "output_type": "stream",
     "text": [
      "Downloading https://alphafold.ebi.ac.uk/files/AF-A0A804P0Q1-F1-model_v4.cif\n",
      "Saved zea_mays_random_gene_mmcif/AF-A0A804P0Q1-F1-model_v4.cif\n"
     ]
    },
    {
     "name": "stdout",
     "output_type": "stream",
     "text": [
      "Downloading https://alphafold.ebi.ac.uk/files/AF-A0A804RAN3-F1-model_v4.cif\n",
      "Saved zea_mays_random_gene_mmcif/AF-A0A804RAN3-F1-model_v4.cif\n"
     ]
    },
    {
     "name": "stdout",
     "output_type": "stream",
     "text": [
      "Downloading https://alphafold.ebi.ac.uk/files/AF-K7W067-F1-model_v4.cif\n",
      "Saved zea_mays_random_gene_mmcif/AF-K7W067-F1-model_v4.cif\n"
     ]
    },
    {
     "name": "stdout",
     "output_type": "stream",
     "text": [
      "Downloading https://alphafold.ebi.ac.uk/files/AF-A0A804UHQ8-F1-model_v4.cif\n",
      "Saved zea_mays_random_gene_mmcif/AF-A0A804UHQ8-F1-model_v4.cif\n"
     ]
    },
    {
     "name": "stdout",
     "output_type": "stream",
     "text": [
      "Downloading https://alphafold.ebi.ac.uk/files/AF-A0A1D6HA67-F1-model_v4.cif\n",
      "Saved zea_mays_random_gene_mmcif/AF-A0A1D6HA67-F1-model_v4.cif\n"
     ]
    },
    {
     "name": "stdout",
     "output_type": "stream",
     "text": [
      "Downloading https://alphafold.ebi.ac.uk/files/AF-A0A804NWN0-F1-model_v4.cif\n",
      "Saved zea_mays_random_gene_mmcif/AF-A0A804NWN0-F1-model_v4.cif\n"
     ]
    },
    {
     "name": "stdout",
     "output_type": "stream",
     "text": [
      "Downloading https://alphafold.ebi.ac.uk/files/AF-A0A804NWN2-F1-model_v4.cif\n",
      "Saved zea_mays_random_gene_mmcif/AF-A0A804NWN2-F1-model_v4.cif\n"
     ]
    },
    {
     "name": "stdout",
     "output_type": "stream",
     "text": [
      "Downloading https://alphafold.ebi.ac.uk/files/AF-A0A804NWN3-F1-model_v4.cif\n",
      "Saved zea_mays_random_gene_mmcif/AF-A0A804NWN3-F1-model_v4.cif\n"
     ]
    },
    {
     "name": "stdout",
     "output_type": "stream",
     "text": [
      "Downloading https://alphafold.ebi.ac.uk/files/AF-A0A1D6LM03-F1-model_v4.cif\n",
      "Saved zea_mays_random_gene_mmcif/AF-A0A1D6LM03-F1-model_v4.cif\n"
     ]
    },
    {
     "name": "stdout",
     "output_type": "stream",
     "text": [
      "Downloading https://alphafold.ebi.ac.uk/files/AF-A0A1D6LM04-F1-model_v4.cif\n",
      "Saved zea_mays_random_gene_mmcif/AF-A0A1D6LM04-F1-model_v4.cif\n"
     ]
    },
    {
     "name": "stdout",
     "output_type": "stream",
     "text": [
      "Downloading https://alphafold.ebi.ac.uk/files/AF-B7ZZR3-F1-model_v4.cif\n",
      "Saved zea_mays_random_gene_mmcif/AF-B7ZZR3-F1-model_v4.cif\n"
     ]
    },
    {
     "name": "stdout",
     "output_type": "stream",
     "text": [
      "Downloading https://alphafold.ebi.ac.uk/files/AF-A0A804PIM7-F1-model_v4.cif\n",
      "Saved zea_mays_random_gene_mmcif/AF-A0A804PIM7-F1-model_v4.cif\n"
     ]
    },
    {
     "name": "stdout",
     "output_type": "stream",
     "text": [
      "Downloading https://alphafold.ebi.ac.uk/files/AF-K7U3C9-F1-model_v4.cif\n",
      "Saved zea_mays_random_gene_mmcif/AF-K7U3C9-F1-model_v4.cif\n"
     ]
    },
    {
     "name": "stdout",
     "output_type": "stream",
     "text": [
      "Downloading https://alphafold.ebi.ac.uk/files/AF-K7TRL2-F1-model_v4.cif\n",
      "Saved zea_mays_random_gene_mmcif/AF-K7TRL2-F1-model_v4.cif\n"
     ]
    },
    {
     "name": "stdout",
     "output_type": "stream",
     "text": [
      "Downloading https://alphafold.ebi.ac.uk/files/AF-A0A1D6GTT7-F1-model_v4.cif\n",
      "Saved zea_mays_random_gene_mmcif/AF-A0A1D6GTT7-F1-model_v4.cif\n"
     ]
    },
    {
     "name": "stdout",
     "output_type": "stream",
     "text": [
      "Downloading https://alphafold.ebi.ac.uk/files/AF-A0A804PC31-F1-model_v4.cif\n",
      "Saved zea_mays_random_gene_mmcif/AF-A0A804PC31-F1-model_v4.cif\n"
     ]
    },
    {
     "name": "stdout",
     "output_type": "stream",
     "text": [
      "Downloading https://alphafold.ebi.ac.uk/files/AF-A0A804MX56-F1-model_v4.cif\n",
      "Saved zea_mays_random_gene_mmcif/AF-A0A804MX56-F1-model_v4.cif\n"
     ]
    },
    {
     "name": "stdout",
     "output_type": "stream",
     "text": [
      "Downloading https://alphafold.ebi.ac.uk/files/AF-A0A804LCQ3-F1-model_v4.cif\n",
      "Saved zea_mays_random_gene_mmcif/AF-A0A804LCQ3-F1-model_v4.cif\n"
     ]
    },
    {
     "name": "stdout",
     "output_type": "stream",
     "text": [
      "Downloading https://alphafold.ebi.ac.uk/files/AF-B6TX01-F1-model_v4.cif\n",
      "Saved zea_mays_random_gene_mmcif/AF-B6TX01-F1-model_v4.cif\n"
     ]
    },
    {
     "name": "stdout",
     "output_type": "stream",
     "text": [
      "Downloading https://alphafold.ebi.ac.uk/files/AF-A0A804MPA9-F1-model_v4.cif\n",
      "Saved zea_mays_random_gene_mmcif/AF-A0A804MPA9-F1-model_v4.cif\n"
     ]
    },
    {
     "name": "stdout",
     "output_type": "stream",
     "text": [
      "Downloading https://alphafold.ebi.ac.uk/files/AF-C4J431-F1-model_v4.cif\n",
      "Saved zea_mays_random_gene_mmcif/AF-C4J431-F1-model_v4.cif\n"
     ]
    },
    {
     "name": "stdout",
     "output_type": "stream",
     "text": [
      "Downloading https://alphafold.ebi.ac.uk/files/AF-A0A1D6I7A2-F1-model_v4.cif\n",
      "Saved zea_mays_random_gene_mmcif/AF-A0A1D6I7A2-F1-model_v4.cif\n"
     ]
    },
    {
     "name": "stdout",
     "output_type": "stream",
     "text": [
      "Downloading https://alphafold.ebi.ac.uk/files/AF-A0A804QD97-F1-model_v4.cif\n",
      "Saved zea_mays_random_gene_mmcif/AF-A0A804QD97-F1-model_v4.cif\n"
     ]
    },
    {
     "name": "stdout",
     "output_type": "stream",
     "text": [
      "Downloading https://alphafold.ebi.ac.uk/files/AF-K7VJ23-F1-model_v4.cif\n",
      "Saved zea_mays_random_gene_mmcif/AF-K7VJ23-F1-model_v4.cif\n"
     ]
    },
    {
     "name": "stdout",
     "output_type": "stream",
     "text": [
      "Downloading https://alphafold.ebi.ac.uk/files/AF-A0A804LE50-F1-model_v4.cif\n",
      "Saved zea_mays_random_gene_mmcif/AF-A0A804LE50-F1-model_v4.cif\n"
     ]
    },
    {
     "name": "stdout",
     "output_type": "stream",
     "text": [
      "Downloading https://alphafold.ebi.ac.uk/files/AF-K7V7J5-F1-model_v4.cif\n",
      "Saved zea_mays_random_gene_mmcif/AF-K7V7J5-F1-model_v4.cif\n"
     ]
    },
    {
     "name": "stdout",
     "output_type": "stream",
     "text": [
      "Downloading https://alphafold.ebi.ac.uk/files/AF-B6TS22-F1-model_v4.cif\n",
      "Saved zea_mays_random_gene_mmcif/AF-B6TS22-F1-model_v4.cif\n"
     ]
    },
    {
     "name": "stdout",
     "output_type": "stream",
     "text": [
      "Downloading https://alphafold.ebi.ac.uk/files/AF-B4FQP5-F1-model_v4.cif\n",
      "Saved zea_mays_random_gene_mmcif/AF-B4FQP5-F1-model_v4.cif\n"
     ]
    },
    {
     "name": "stdout",
     "output_type": "stream",
     "text": [
      "Downloading https://alphafold.ebi.ac.uk/files/AF-A0A804PT17-F1-model_v4.cif\n",
      "Saved zea_mays_random_gene_mmcif/AF-A0A804PT17-F1-model_v4.cif\n"
     ]
    },
    {
     "name": "stdout",
     "output_type": "stream",
     "text": [
      "Downloading https://alphafold.ebi.ac.uk/files/AF-A0A1D6KQI6-F1-model_v4.cif\n",
      "Saved zea_mays_random_gene_mmcif/AF-A0A1D6KQI6-F1-model_v4.cif\n"
     ]
    },
    {
     "name": "stdout",
     "output_type": "stream",
     "text": [
      "Downloading https://alphafold.ebi.ac.uk/files/AF-A0A804MKH9-F1-model_v4.cif\n",
      "Saved zea_mays_random_gene_mmcif/AF-A0A804MKH9-F1-model_v4.cif\n"
     ]
    },
    {
     "name": "stdout",
     "output_type": "stream",
     "text": [
      "Downloading https://alphafold.ebi.ac.uk/files/AF-A0A804NDM3-F1-model_v4.cif\n",
      "Saved zea_mays_random_gene_mmcif/AF-A0A804NDM3-F1-model_v4.cif\n"
     ]
    },
    {
     "name": "stdout",
     "output_type": "stream",
     "text": [
      "Downloading https://alphafold.ebi.ac.uk/files/AF-B6SNE2-F1-model_v4.cif\n",
      "Saved zea_mays_random_gene_mmcif/AF-B6SNE2-F1-model_v4.cif\n"
     ]
    },
    {
     "name": "stdout",
     "output_type": "stream",
     "text": [
      "Downloading https://alphafold.ebi.ac.uk/files/AF-A0A804UM97-F1-model_v4.cif\n",
      "Saved zea_mays_random_gene_mmcif/AF-A0A804UM97-F1-model_v4.cif\n"
     ]
    },
    {
     "name": "stdout",
     "output_type": "stream",
     "text": [
      "Downloading https://alphafold.ebi.ac.uk/files/AF-A0A804NTC5-F1-model_v4.cif\n",
      "Saved zea_mays_random_gene_mmcif/AF-A0A804NTC5-F1-model_v4.cif\n"
     ]
    },
    {
     "name": "stdout",
     "output_type": "stream",
     "text": [
      "Downloading https://alphafold.ebi.ac.uk/files/AF-K7TJV6-F1-model_v4.cif\n",
      "Saved zea_mays_random_gene_mmcif/AF-K7TJV6-F1-model_v4.cif\n"
     ]
    },
    {
     "name": "stdout",
     "output_type": "stream",
     "text": [
      "Downloading https://alphafold.ebi.ac.uk/files/AF-K7UHT8-F1-model_v4.cif\n",
      "Saved zea_mays_random_gene_mmcif/AF-K7UHT8-F1-model_v4.cif\n"
     ]
    }
   ],
   "source": [
    "get_cif_file(json_dir, structure_dir)"
   ]
  },
  {
   "cell_type": "markdown",
   "id": "2c9f9a6b",
   "metadata": {
    "papermill": {
     "duration": 0.012016,
     "end_time": "2024-11-15T08:33:14.173693",
     "exception": false,
     "start_time": "2024-11-15T08:33:14.161677",
     "status": "completed"
    },
    "tags": []
   },
   "source": [
    "&nbsp;\n",
    "\n",
    "&nbsp;"
   ]
  },
  {
   "cell_type": "markdown",
   "id": "0db9403f",
   "metadata": {
    "papermill": {
     "duration": 0.00964,
     "end_time": "2024-11-15T08:33:14.190975",
     "exception": false,
     "start_time": "2024-11-15T08:33:14.181335",
     "status": "completed"
    },
    "tags": []
   },
   "source": [
    "## 6. Save all results"
   ]
  },
  {
   "cell_type": "code",
   "execution_count": 15,
   "id": "1315232d",
   "metadata": {
    "execution": {
     "iopub.execute_input": "2024-11-15T08:33:14.226701Z",
     "iopub.status.busy": "2024-11-15T08:33:14.226596Z",
     "iopub.status.idle": "2024-11-15T08:33:14.237347Z",
     "shell.execute_reply": "2024-11-15T08:33:14.237081Z"
    },
    "papermill": {
     "duration": 0.037291,
     "end_time": "2024-11-15T08:33:14.237736",
     "exception": false,
     "start_time": "2024-11-15T08:33:14.200445",
     "status": "completed"
    },
    "tags": []
   },
   "outputs": [
    {
     "name": "stdout",
     "output_type": "stream",
     "text": [
      "re-mapping process is skipped, mapping results are saved in id_mapping_df.write_csv.\n"
     ]
    }
   ],
   "source": [
    "# Save all results\n",
    "if len(unmapped_ids) > 0 and not unmapped_df.is_empty():\n",
    "    id_mapping_df.write_csv(id_mapping_all_file, separator=\"\\t\")\n",
    "\n",
    "elif unmapped_df.is_empty():\n",
    "    print(\"re-mapping process is skipped, mapping results are saved in id_mapping_df.write_csv.\")\n",
    "    mapped_df2.write_csv(id_mapping_all_file, separator=\"\\t\")\n",
    "\n",
    "else:\n",
    "    print(\"unmapped_ids is empty, skipping re-mapping process.\")\n",
    "    mapped_df2.write_csv(id_mapping_all_file, separator=\"\\t\")"
   ]
  }
 ],
 "metadata": {
  "kernelspec": {
   "display_name": "Python 3",
   "language": "python",
   "name": "python3"
  },
  "language_info": {
   "codemirror_mode": {
    "name": "ipython",
    "version": 3
   },
   "file_extension": ".py",
   "mimetype": "text/x-python",
   "name": "python",
   "nbconvert_exporter": "python",
   "pygments_lexer": "ipython3",
   "version": "3.11.4"
  },
  "papermill": {
   "default_parameters": {},
   "duration": 1023.936117,
   "end_time": "2024-11-15T08:33:14.366984",
   "environment_variables": {},
   "exception": null,
   "input_path": "/tmp/5wc6mocx/stg0abf373c-02eb-409c-acf1-3190a30c88af/uniprot_idmapping.ipynb",
   "output_path": "rice_random_gene_uniprot_idmapping.ipynb",
   "parameters": {
    "data_url": "cifUrl",
    "gene_id_tsv": "/tmp/5wc6mocx/stg4bdc0485-80fa-4b5f-83d4-12fbb315a346/zea_mays_random_gene_list.tsv",
    "id_mapping_all_file": "zea_mays_random_gene_idmapping_all.tsv",
    "json_dir": "zea_mays_random_gene_afinfo",
    "query_db": "Ensembl_Genomes",
    "structure_dir": "zea_mays_random_gene_mmcif",
    "target_db": "UniProtKB"
   },
   "start_time": "2024-11-15T08:16:10.430867",
   "version": "2.6.0"
  }
 },
 "nbformat": 4,
 "nbformat_minor": 5
}